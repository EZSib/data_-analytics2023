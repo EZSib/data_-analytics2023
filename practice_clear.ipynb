{
  "nbformat": 4,
  "nbformat_minor": 0,
  "metadata": {
    "colab": {
      "provenance": [],
      "authorship_tag": "ABX9TyMkyxGpYOnUKOELqEuZAnV2",
      "include_colab_link": true
    },
    "kernelspec": {
      "name": "python3",
      "display_name": "Python 3"
    },
    "language_info": {
      "name": "python"
    }
  },
  "cells": [
    {
      "cell_type": "markdown",
      "metadata": {
        "id": "view-in-github",
        "colab_type": "text"
      },
      "source": [
        "<a href=\"https://colab.research.google.com/github/EZSib/data_-analytics2023/blob/main/practice_clear.ipynb\" target=\"_parent\"><img src=\"https://colab.research.google.com/assets/colab-badge.svg\" alt=\"Open In Colab\"/></a>"
      ]
    },
    {
      "cell_type": "code",
      "execution_count": 3,
      "metadata": {
        "id": "XTD1PmK9f4_N"
      },
      "outputs": [],
      "source": [
        "#словарь с методами пандаса и связанные с ним библиотеки\n",
        "pandas_methods = {\n",
        "    \"json.dump()\": \"Записывает объект Python в файл в формате JSON\",\n",
        "    \"json.dumps()\": \"Создает JSON-строку из переданного в нее объекта\",\n",
        "    \"json.load()\": \"Считывает файл в формате JSON и возвращает объекты Python\",\n",
        "    \"json.loads()\": \"Преобразует JSON-строку в объекты Python\",\n",
        "    \"df.to_json()\": \"Запись датафрейма в формат JSON\",\n",
        "    \"pd.read_json()\": \"Чтение файла формата JSON\",\n",
        "    \"eval()\": \"Функция, выполняющая строку-выражение, переданную ей в качестве обязательного аргумента, и возвращающая результат выполнения этой строки.\",\n",
        "    \"replace()\": \"Возвращает копию строки, в которой все вхождения подстроки заменяются другой подстрокой\",\n",
        "    \"split()\": \"Разбивает строку по указанному разделителю и возвращает список строк\",\n",
        "    \"strip()\": \"Возвращает копию строки, удаляя как начальные, так и конечные символы (в зависимости от переданного строкового аргумента; по умолчанию - пробелы)\",\n",
        "    \"apply()\": \"Позволяет пользователю передать функцию и применить ее к каждому отдельному значению серии Pandas\",\n",
        "    \"rename(columns={'costs_sum': 'costs'}, inplace=True)\": \"Переименовывает столбец датафрейма 'costs_sum‘ в 'costs‘ (параметр inplace=True перезаписывает датафрейм)\",\n",
        "    \"df.country.str.contains('platform')\": \"Проверяет все значения столбца 'country‘ датафрейма на вхождение подстроки 'platform'\",\n",
        "    \"df.drop([3334, 3335, 3336,3337],inplace=True)\": \"Удаляет наблюдения датафрейма по наименованию индексов ([3334, 3335, 3336, 3337]; параметр inplace=True перезаписывает датафрейм)\",\n",
        "\n",
        "    \"pd.DataFrame(data)\": \"Создание объекта DataFrame\",\n",
        "    \"!gdown –id 'id файла'\": \"одгрузка файла в среду выполнения кода Colab с google диска\",\n",
        "    \"from google.colab import files\": \" Импорт класса files из библиотеки google.colab.\",\n",
        "    \"uploaded = files.upload()\": \"Импорт класса files из библиотеки google.colab. Подгрузка файла в среду выполнения кода с персонального компьютера\",\n",
        "    \"pd.read_csv('shop_users.csv')\": \"Чтение файла формата csv (tsv)\",\n",
        "    \"pd.read_excel('shop_users.xlsx')\": \"Чтение файла формата xlsx (xls)\",\n",
        "    \"df.head()\": \"Показывает наблюдения с начала датасета (по умолчанию - 5 наблюдений)\",\n",
        "    \"df.tail(3)\": \"Показывает наблюдения с конца датасета (указано 3 строки)\",\n",
        "    \"df.sample(4)\": \"Показывает случайно выбранные наблюдения (указано 4 строки)\",\n",
        "    \"type(df)\": \"Показывает тип данных передаваемого объекта\",\n",
        "    \"df.size\": \"Показывает размеры датасета (количество ячеек: строки Х столбцы)\",\n",
        "    \"len(df)\": \"Показывает длину датасета (количество наблюдений)\",\n",
        "    \"len(df.axes[1])\": \"Показывает количество признаков в датасете (количество столбцов)\",\n",
        "    \"df.shape\": \"Показывает размеры датасета (количество наблюдений и признаков)\",\n",
        "    \"df.dtypes\": \"Показывает информацию о типах данных по каждому признаку\",\n",
        "    \"df.info()\": \"Показывает общую информацию о датасете\",\n",
        "\n",
        "    \"df.copy()\": \"Создание копии датафрейма df\",\n",
        "    \"df.columns\": \"Вывод списка колонок (столбцов) датафрейма\",\n",
        "    \"df.drop(columns=columns, inplace=True)\": \"Удаление столбцов датафрейма (параметр inplace=True перезаписывает датафрейм)\",\n",
        "    \"df.duplicated()\": \"Проверка на дубликаты: выдает объект Series с булевыми значениями True/False\",\n",
        "    \"df.duplicated().sum()\": \"Количество полных дубликатов (по умолчанию параметр keep='first‘ присваивает значение True первому из совпадений)\",\n",
        "    \"df.duplicated(subset=['bdate', 'sex'], keep=False).sum()\": \"Количество дубликатов по столбцам 'bdate', 'sex’ (параметр keep=False присваивает значения True всем найденным дубликатам)\",\n",
        "    \"df.drop_duplicates(inplace=True)\": \"Удаление полных дубликатов (по умолчанию параметр keep='first‘ удаляет все дубликаты, кроме первого; параметр inplace=True перезаписывает датафрейм)\",\n",
        "    \"df.drop_duplicates(subset=['bdate', 'sex'],keep=False, inplace=True)\": \"Удаление дубликатов по столбцам 'bdate', 'sex’ (параметр keep=False удаляет все найденные дубликаты; параметр inplace=True перезаписывает датафрейм)\",\n",
        "\n",
        "    \"df. isna() / df. isnull()\": \"Проверка датафрейма на пропуски\",\n",
        "    \"df. notna() / df. notnull()\": \"Проверка датафрейма на заполненные значения\",\n",
        "    \"df. isna().sum()\": \"Количество пропущенных значений в датафрейме\",\n",
        "    \"df.isnull().mean()*100\": \"Процент пропущенных значений в датафрейме\",\n",
        "    \"df.notna().sum()\": \"Количество заполненных значений в датафрейме\",\n",
        "    \"df['costs']. isna().sum()\": \"Количество пропущенных значений по столбцу ‘costs’\",\n",
        "    \"df.dropna(inplace=True)\": \"Удалению всех наблюдений датафрейма, где есть хотя бы одно пустое значение (параметр inplace=True перезаписывает датафрейм)\",\n",
        "    \"df.dropna(subset=['costs', 'games'], inplace=True)\": \"Удаление наблюдений, у которых пропущены значения по столбцам 'costs‘ и 'games' (параметр inplace=True перезаписывает датафрейм)\",\n",
        "    \"df['city'].fillna('Moscow‘, inplace=True)\": \"Заполнение пропущенных значений по столбцу 'city‘ значением 'Moscow‘ (параметр inplace=True перезаписывает датафрейм)\",\n",
        "    \"mean = df['followers_count'].mean()\": \"empty\",\n",
        "    \"df['followers_count'].fillna(mean, inplace=True)\": \"Заполнение пропущенных значений по столбцу 'followers_count‘ средним значением по этому столбцу (параметр inplace=True перезаписывает датафрейм)\",\n",
        "    \"df.reset_index(drop=True, inplace=True)\": \"Назначение нового индексного столбца датафрейма (параметр drop=True автоматически удаляет исходный индексный столбец; параметр inplace=True перезаписывает датафрейм)\",\n",
        "    \"df.index\": \"Проверка диапазона индексов\",\n",
        "    \"pd.Series.astype(‘int’)\":\" переводит признак в тип данных int, используемый в Python (ошибка при наличии пропущенных значений)\",\n",
        "    \"pd.Series.astype(‘Int64’)\":\" переводит признак в тип данных Int64, используемый в Pandas  (работает при наличии пропущенных значений)\",\n",
        "    \"pd.to_numeric()\":\" переводит признак в числовой тип данных int64 или float64  в зависимости от подаваемых значений\",\n",
        "    \"import datetime\":\" Импорт модуля datetime\",\n",
        "    \"from datetime import datetime\": \"Импорт класса datetime модуля datetime\",\n",
        "    \"pd.to_datetime()\": \"Переводит объект Pandas в формат datetime64\",\n",
        "    \"pd.to_datetime(df.Series, unit='s', origin='unix')\": \"Переводит объект Series, значения которого закодированы в Unix time в секундах, в формат datetime64\",\n",
        "    \"pd.Timestamp.utcfromtimestamp( df.Series)\": \"Переводит объект Series, значения которого закодированы в Unix time в секундах, в формат datetime64\",\n",
        "    \"df.Series.dt.strftime('%d.%m.%Y')\": \"Переводит объект Series формата datetime в строковое значение в виде ДД.ММ.ГГГГ\",\n",
        "    \"pd.Series.astype()\": \"Переводит признаки в типы данных, используемых в Python или Numpy (тип данных необходимо указывать в качестве параметра)\",\n",
        "    \"pd.to_numeric(downcast=‘float’)\": \"Переводит признак в числовой тип данных (параметр downcast указывает на перевод в тип данных float64; без указания параметра переводит в числовой тип данных int64 или float64\",\n",
        "    \"pd.Timestamp.today()\": \"Получение текущих даты и времени\",\n",
        "    \"DatetimeObject.year\": \"Извлечение года из объекта формата datetime (существует большое число атрибутов)\",\n",
        "    \"current_year - df.bdate.apply(lambda x: x.year)\": \"Расчет количества лет как текущий год за минусом года, извлеченного из даты рождения\",\n",
        "    \"df['costs_to_rur'] = df['currency'].map(rates) * df['costs']\": \"Расчет дополнительного признака со стоимостью в единой валюте – рублях на основании словаря с  курсами валют от существующих признаков 'currency‘ и 'costs'\",\n",
        "    \"df.sex.apply(lambda x: 1 if x == 'женский'  else 2)\": \"Кодирование пола (при условии, что все значения заполнены) sex_dict = {1: 'женский'  2: 'мужской', 0: 'не указан'}\",\n",
        "    \"df.sex.apply(lambda x: sex_dict[x])\": \"Декодирование пола на основании словарярасшифровки\",\n",
        "\n",
        "    \"df.Series.unique()\": \"Получение уникальных значений объекта Series  датафрейма\",\n",
        "    \"df.explode(‘Series’, ignore_index=True)\": \"Трансформирует датафрейм в разрезе списков значений по признаку (параметр ignore_index=True сбрасывает исходные индексы) columns = […]\",\n",
        "    \"df = df[columns]\": \"Сохраняет датафрейм, состоящий из переданного списка признаков, при этом учитывая их порядок в списке\",\n",
        "    \"df.to_csv(‘FileName.csv’)\": \"Записывает датафрейм в файл формата csv\",\n",
        "    \"df.to_excel(‘FileName.xlsx’, index=False)\": \"Записывает датафрейм в файл формата xlsx (параметр index=False игнорирует индексный столбец при записи)  \",\n",
        "\n",
        "    \"df.Series.str.len()\": \"Возвращает длины строковых значений объекта Series\",\n",
        "    \"df.Series.str.count(‘s’)\": \"Возвращает количество вхождений подстроки ‘s’ в строку объекта Series\",\n",
        "    \"df.Series.str.lower()\": \"Приведение строковых значений объекта Series в нижний регистр\",\n",
        "    \"df.Series.str.upper()\": \"Приведение строковых значений объекта Series в верхний регистр\",\n",
        "    \"df.Series.str.capitalize()\": \"Приведение первых символов строковых значений объекта Series в верхний регистр, а остальных символов – в нижний регистр\",\n",
        "    \"df.Series.str.strip()\": \"Возвращает копии строки объекта Series, удаляя как начальные, так и конечные символы (в зависимости от переданного строкового аргумента; по умолчанию - пробелы)\",\n",
        "    \"df.Series.str.lstrip()\": \"Возвращает копии строки объекта Series, удаляя как начальные символы (в зависимости от переданного строкового аргумента; по умолчанию - пробелы)\",\n",
        "    \"df.Series.str.rstrip()\": \"Возвращает копии строки объекта Series, удаляя конечные символы (в зависимости от переданного строкового аргумента; по умолчанию - пробелы)\",\n",
        "    \"df.Series.str.replace(‘old’, ‘new’)\": \"Заменяет указанную подстроку строковых значений объекта Series на новую\",\n",
        "    \"df.Series.str.split(sep=‘sep’)\": \"Разделяет строки объекта Series на список подстрок по указанному разделителю (по  умолчанию – пробел)\",\n",
        "    \"df.Series.str.cat(sep=‘sep’)\": \"Объединяет строки объектов Series в единое строковое значение через указанный разделитель (по умолчанию – пробел)\",\n",
        "    \"df.Series.str. get_dummies()\": \"Кодирует значения объекта Series, для каждого создавая отдельный столбец\",\n",
        "    \"df.loc[df['column_name'] == 'some_value', 'column_name'] = 'значение'\": \"Заменяет значение объекта Series по условию (для любого типа данных)\",\n",
        "\n",
        "    \"df.loc[df.city.str.contains('petersb urg'), 'city'] = 'санкт-петербург'\": \"Заменяет значение признака 'city' на 'санкт-петербург' при условии, что изначальное значение по этому же признаку – содержит подстроку 'petersburg\",\n",
        "    \"df1[df1['player_surname'] == 'GOLOVIN']\": \"поиск строк с Головиным в ПЗ №6)\",\n",
        "    \"df.set_index('id', inplace=True)\":  \"меняем колонку index на id, inplace сохраняет изменения в датафрейме\",\n",
        "    \"pd.read_json('partner_data_records_cp1251.json', encoding='cp1251')\": \"чтение файла в кодировке Windows-1251 (cp1251),encoding='UTF-8'\",\n",
        "    \"df = pd.read_excel('partner_data.xlsx', sheet_name='partner_data1', header=0, index_col='id')\": \"header — строка с заголовками, index_col — колонка с индексами\",\n",
        "    \".iloc\": \"выбор элементов по индексу;\",\n",
        "    \".loc\": \"выбор элементов по названию. \",\n",
        "    \"df.iloc[0,0]\": \"элемент на позиции [0,0]\",\n",
        "    \"df.iloc[0:3, 0]\": \"элементы 0, 1, 2 нулевого столбца\",\n",
        "    \"df.iloc[:, 0]\": \"полный срез столбца 0\",\n",
        "    \"df.iloc[0, :]\": \"полный срез строки 0\",\n",
        "    \"df.loc[1, 'age']\": \"строка с id 1, столбец age\",\n",
        "    \"df.loc[5:6, 'marital':'education']\": \"обе границы включаются в диапазон\",\n",
        "    \"df.loc[[5,10], ['marital','default']]\": \"можно передавать списки\",\n",
        "    \"df['age']\": \"один столбец\",\n",
        "    \"df[['age', 'marital']]\": \"несколько столбцов\"\n",
        "\n",
        "}\n",
        "# словарь с шаблонами eda\n",
        "eda = {\n",
        "\"Шаблон применения какой-либо функции ко всем значениям колонки\": '''import re\n",
        "def clear_price(price):\n",
        "    return int(re.sub(\\'\\D\\', \\'\\', price))\n",
        "dataset[\\'Очищенная цена\\'] = dataset[\\'Цена\\'].apply(clear_price)''',\n",
        "    \"Шаблон сортировки по значению\": '''sorted_dataset = dataset.sort_values('Очищенная цена')\n",
        "sorted_dataset''',\n",
        "    \"Импортируем библиотеку визуализации\":'''import matplotlib.pyplot as plt''',\n",
        "    \"Для визуального представления данных в том числе медианы, квартилей и выбросов используем boxplot\": '''plt.boxplot(dataset['Номер этажа'])\n",
        "plt.show()''',\n",
        "    \"Альтернативный способ визуализировать колонку - гистограмма\":'''plt.hist(dataset['Номер этажа'], bins = 50)\n",
        "plt.xlim((None,55)) # для \"отрезания\" от графика неинформативного\n",
        "plt.show()''',\n",
        "    \"Создание переменной с Series\":'''year_of_construction = dataset['Год постройки']''',\n",
        "    \"Расчет минимального и максимального значения Series\":'''max_value = year_of_construction.max()\n",
        "min_value = year_of_construction.min()\n",
        "print('Максимальный год постройки: ', max_value, 'Минимальный год постройки: ', min_value)''',\n",
        "    \"Расчет среднего значения Series\":'''mean_value = year_of_construction.mean()\n",
        "print('Средний год постройки: ', mean_value)''',\n",
        "    \"Расчет медианы Series\":'''median_value = year_of_construction.median()\n",
        "print('Медиана года постройки: ', median_value)''',\n",
        "    \"Расчет 10-го и 25-го процентилей Series\":'''percentile_10_value = year_of_construction.quantile(0.10)\n",
        "percentile_25_value = year_of_construction.quantile(0.25)\n",
        "print('10-й процентиль года постройки: ', percentile_10_value)\n",
        "print('25-й процентиль года постройки: ', percentile_25_value)''',\n",
        "    \"Для расчета всех основных статистических показателей сразу\":'''year_of_construction.describe()''',\n",
        "    \"Неграфический способ проанализировать колонку\":'''dataset['Класс жилья'].describe()''',\n",
        "    \"Более полный неграфический способ\":'''class_counts = dataset['Класс жилья'].value_counts()\n",
        "class_counts''',\n",
        "    \"Круговая диаграмма\":'''plt.pie(class_counts.values, labels = class_counts.index)\n",
        "plt.title('Круговая диаграмма распределения классов квартир') # Добавление подписи к графику\n",
        "plt.show()''',\n",
        "    \"Стобцевая диаграмма\":'''type_counts = dataset['Тип здания'].value_counts()\n",
        "plt.barh(type_counts.index, type_counts.values)\n",
        "plt.title('Столбцовая диаграмма распределения типов здания')\n",
        "plt.show()''',\n",
        "    \"Шаблона первичного анализа взаимосвязи категориальной и числовой колонок\":'''dataset.groupby('Класс жилья')[\"Очищенная цена за м²\"].describe()''',\n",
        "    \"Шаблон визуального анализа взаимосвязи категориальной и числовой колонок\":'''import seaborn as sns\n",
        "sns.boxplot(x='Класс жилья', y=\"Очищенная цена за м²\", data=dataset)\n",
        "plt.axis(ymin=0, ymax=1100000) \n",
        "plt.show()''',\n",
        "    \"Шаблона анализа взаимосвязи двух и более числовых колонок\":'''g = sns.PairGrid(new_dataset[columns])\n",
        "g.map(sns.scatterplot, alpha=0.2)''',\n",
        "    \"Шаблона анализа взаимосвязи двух категориальных колонок\":'''import matplotlib.pyplot as plt\n",
        "flat_types = dataset['Класс жилья'].unique()\n",
        "flat_types = flat_types[1:]\n",
        "labels = dataset['Тип здания'].unique()\n",
        "colors = dict(zip(labels, plt.cm.tab20.colors[:len(labels)]))\n",
        "for flat_type in flat_types: \n",
        "  df = dataset[dataset['Класс жилья']==flat_type] \n",
        "  class_counts = df['Тип здания'].value_counts()\n",
        "  labels =class_counts.index\n",
        "  plt.title(flat_type)\n",
        "  patches, texts = plt.pie(\n",
        "      class_counts.values, \n",
        "      labels = labels, \n",
        "      colors = [colors[key] for key in labels],\n",
        "      textprops=dict(color=\"w\")\n",
        "      )\n",
        "  plt.legend(patches, labels, title=\"Типы здания\", loc=\"upper center\", bbox_to_anchor=(1, 0, 0.5, 1)) \n",
        "  plt.show()''',\n",
        "    \"Шаблон фильтрации по одному значению в колонке\":'''filtered_dataset = dataset[dataset['Этап строительства']=='Котлован']''',\n",
        "    \"Шаблон фильтрации числовой колонки\":'''filtered_dataset = dataset[dataset['Год постройки']>2010]''',\n",
        "    \"Шаблон фильтрации по нескольким значениям в колонке\":'''districts = ['Строгино', 'Щукино', 'Хорошёвский']\n",
        "filtered_dataset = dataset[dataset['Район'].isin(districts)]''',\n",
        "    \"Шаблон фильтрации по нескольким колонкам\":'''districts = ['Строгино', 'Щукино', 'Хорошёвский']\n",
        "filtered_dataset = dataset[(dataset['Район'].isin(districts)) & (dataset['Год постройки']>2010)]''',\n",
        "    \"Шаблон фильтрации по всем значениям кроме заданных в фильтре\":'''districts = ['Строгино', 'Щукино', 'Хорошёвский']\n",
        "filtered_dataset = dataset[~(dataset['Район'].isin(districts))]''',\n",
        "    \"Шаблон взятия элемента по индексу\":'''dataset.loc[100]''',\n",
        "    \"Шаблон взятия среза по промежутку\":'''dataset.loc[1000:1002]''',\n",
        "    \"Шаблон создания нового датасета списку индексов \":'''index_list = [354,1,2]\n",
        "dataset.loc[index_list].head()''',\n",
        "    \"Для не числовых индексов все работает аналогично\":'''describe_data = dataset.describe()\n",
        "describe_data.loc['max']''',\n",
        "    \"Шаблон для взятия среза в хаотично пронумеровнном датасете \":'''sorted_dataset = dataset.sort_values('Количество комнат', ascending=False)\n",
        "sorted_dataset.iloc[:100]''',\n",
        "    \"Нестандартная фильтрация с помощью дополнительный функции\":'''def is_address_correct(address):\n",
        "  return 'Тагильская' in address\n",
        "mask = dataset['Адрес'].apply(is_address_correct)\n",
        "filtred_dataset = dataset[mask]''',\n",
        "    \"Шаблон фильтрации числовых колонок\":'''dtypes = dataset.dtypes\n",
        "num_dtypes = dtypes[dtypes!='object']\n",
        "new_columns = num_dtypes.index\n",
        "filtred_dataset = dataset[num_dtypes.index]''',\n",
        "    \"Шаблон взятия среднего значения цены квартир сгруппированных по значениям Этапа строительства  \":'''groups_mean_price = dataset.groupby('Этап строительства')['Очищенная цена'].mean()''',\n",
        "    \"Шаблон взятия среднего значения цены квартир сгруппированных по значениям колонок Этапа строительства и Класса жилья\":'''\n",
        "groups_mean_price = dataset.groupby(['Этап строительства', 'Класс жилья'], as_index=False)['Очищенная цена'].mean()\n",
        "groups_mean_price['Очищенная цена'] = groups_mean_price['Очищенная цена'].astype(int)''',\n",
        "    \"Размер шрифта на диаграмме\":'''params = {\n",
        "          'axes.titlesize': 15,   Размер шрифта главной подписи\n",
        "          'xtick.labelsize': 12,  Размер шрифта подписей тикетов оси X\n",
        "          'axes.labelsize': 14    Размер шрифта подписей осей\n",
        "          }\n",
        "plt.rcParams.update(params)''',\n",
        "    \"Шаблон улучшения графика\":'''import matplotlib.pyplot as plt\n",
        "type_counts = dataset['Тип здания'].value_counts()\n",
        "other_types = type_counts[type_counts<500]\n",
        "type_counts = type_counts[type_counts>500]\n",
        "type_counts['Другое'] = other_types.sum() # Замена редких значений категорией Другое\n",
        "plt.style.use('seaborn') # Смена стиля всех графиков matplotlib\n",
        "params = {\n",
        "          'axes.titlesize': 15,   # Размер шрифта главной подписи\n",
        "          'xtick.labelsize': 12,  # Размер шрифта подписей тикетов оси X\n",
        "          'axes.labelsize': 14    # Размер шрифта подписей осей\n",
        "          }\n",
        "plt.rcParams.update(params) # Фиксация параметров\n",
        "plt.ylabel('Количество квартир') # Подпись оси Y\n",
        "plt.title('Диаграмма распределения типов здания') # Подпись всего графика\n",
        "plt.xticks(rotation=30, ha = 'right') # Поворот на 30 градусов подписей оси X и выравнивание по правому краю\n",
        "plt.bar(type_counts.index, type_counts.values, color='#03A9F4') # Кастомизация цвета\n",
        "plt.show()''',\n",
        "    \"50 разных способов создать боксплот/диаграмму/гистаграмму\":'''https://habr.com/ru/articles/468295/''',\n",
        "                                                                  }\n",
        "def search_in(string, dct=pandas_methods):\n",
        "    '''Функция поиска совпадений по подстроке, можно писать часть названия метода/функции\n",
        "    или слово/часть слова из описания этой функции/метода'''\n",
        "    return_list = []\n",
        "    for name, info in dct.items():\n",
        "        if string.lower() in name.lower() or string.lower() in info.lower():\n",
        "            return_list.append({name: info})\n",
        "    print('*'*156)\n",
        "    for i in return_list:\n",
        "        print(*i)\n",
        "        print(*(i.values()), end='\\n'+156 * '-'+'\\n')\n",
        "# end='\\n'+ max(map(lambda x: len(str(x)), return_list))*'-'+'\\n'\n",
        "# запросы разделены *, примеры разделены -"
      ]
    },
    {
      "cell_type": "code",
      "source": [
        "from google.colab import drive\n",
        "drive.mount('1HAZaZ9pNq2D0rGBedCAthhsTb920kgoX')"
      ],
      "metadata": {
        "colab": {
          "base_uri": "https://localhost:8080/"
        },
        "id": "VtnCILVrg3Vt",
        "outputId": "d8d7201e-f5c6-42a4-a5d5-4ff9c2c21438"
      },
      "execution_count": 4,
      "outputs": [
        {
          "output_type": "stream",
          "name": "stdout",
          "text": [
            "Mounted at 1HAZaZ9pNq2D0rGBedCAthhsTb920kgoX\n"
          ]
        }
      ]
    },
    {
      "cell_type": "code",
      "source": [
        "import pandas as pd"
      ],
      "metadata": {
        "id": "J120dFwhiZU5"
      },
      "execution_count": 5,
      "outputs": []
    },
    {
      "cell_type": "code",
      "source": [
        "dataset = pd.read_csv('/content/1HAZaZ9pNq2D0rGBedCAthhsTb920kgoX/MyDrive/final_task.csv')"
      ],
      "metadata": {
        "id": "1aMd6-VxiSMU"
      },
      "execution_count": 6,
      "outputs": []
    },
    {
      "cell_type": "code",
      "source": [
        "dataset.head()"
      ],
      "metadata": {
        "id": "Fpn3s7T2ihUN"
      },
      "execution_count": null,
      "outputs": []
    },
    {
      "cell_type": "code",
      "source": [
        "dataset.info()"
      ],
      "metadata": {
        "colab": {
          "base_uri": "https://localhost:8080/"
        },
        "id": "mUn5HHxWirx8",
        "outputId": "111f8f23-4d54-404c-93fc-e3b00b113f65"
      },
      "execution_count": null,
      "outputs": [
        {
          "output_type": "stream",
          "name": "stdout",
          "text": [
            "<class 'pandas.core.frame.DataFrame'>\n",
            "RangeIndex: 4500 entries, 0 to 4499\n",
            "Data columns (total 16 columns):\n",
            " #   Column                         Non-Null Count  Dtype  \n",
            "---  ------                         --------------  -----  \n",
            " 0   product_id                     4500 non-null   int64  \n",
            " 1   title                          4500 non-null   object \n",
            " 2   price                          4499 non-null   object \n",
            " 3   sales                          1164 non-null   object \n",
            " 4   feedbacks                      4500 non-null   object \n",
            " 5   seller                         4391 non-null   object \n",
            " 6   seller_rating                  4389 non-null   float64\n",
            " 7   Процессор                      4500 non-null   object \n",
            " 8   Оперативная память             4500 non-null   object \n",
            " 9   Жесткий диск                   4500 non-null   object \n",
            " 10  Видеопроцессор                 4500 non-null   object \n",
            " 11  Операционная система           4500 non-null   object \n",
            " 12  Гарантийный срок               2648 non-null   object \n",
            " 13  Страна производства            2611 non-null   object \n",
            " 14  Габариты товара                4500 non-null   object \n",
            " 15  Габариты товара (с упаковкой)  4500 non-null   object \n",
            "dtypes: float64(1), int64(1), object(14)\n",
            "memory usage: 562.6+ KB\n"
          ]
        }
      ]
    },
    {
      "cell_type": "code",
      "source": [
        "clean_data = dataset.copy()"
      ],
      "metadata": {
        "id": "GoLWUvqaksNY"
      },
      "execution_count": 7,
      "outputs": []
    },
    {
      "cell_type": "code",
      "source": [
        "clean_data.shape"
      ],
      "metadata": {
        "colab": {
          "base_uri": "https://localhost:8080/"
        },
        "id": "c7e2tToQk0RR",
        "outputId": "536986aa-84a7-4fcb-827f-4bbeccc0ae25"
      },
      "execution_count": null,
      "outputs": [
        {
          "output_type": "execute_result",
          "data": {
            "text/plain": [
              "(4500, 16)"
            ]
          },
          "metadata": {},
          "execution_count": 9
        }
      ]
    },
    {
      "cell_type": "code",
      "source": [
        "import string\n",
        "all_eng_and_dig = string.ascii_lowercase+string.ascii_uppercase+string.digits + ',./\\\\'\n",
        "print(all_eng_and_dig)"
      ],
      "metadata": {
        "colab": {
          "base_uri": "https://localhost:8080/"
        },
        "id": "h3Pzsv2Yk6p-",
        "outputId": "6290ecee-ca27-4ebd-aa39-e6dfa8fd18af"
      },
      "execution_count": 8,
      "outputs": [
        {
          "output_type": "stream",
          "name": "stdout",
          "text": [
            "abcdefghijklmnopqrstuvwxyzABCDEFGHIJKLMNOPQRSTUVWXYZ0123456789,./\\\n"
          ]
        }
      ]
    },
    {
      "cell_type": "code",
      "source": [
        "clean_data['Процессор'] = dataset['Процессор']\n",
        "my_data = pd.DataFrame()"
      ],
      "metadata": {
        "id": "1IV5dPyto5pM"
      },
      "execution_count": 9,
      "outputs": []
    },
    {
      "cell_type": "code",
      "source": [
        "def proc_core(trash):\n",
        "  main_func = ''.join(i for i in trash if i in all_eng_and_dig)\n",
        "  if not main_func.startswith(',') and not main_func.endswith(','):\n",
        "    return tuple(main_func.split(','))\n",
        "  elif main_func.startswith(',') and len(main_func) > 1:\n",
        "    return tuple(('no data'+main_func).split(','))\n",
        "  elif main_func.endswith(',') and len(main_func) > 1:\n",
        "    return tuple((main_func + 'no data').split(','))\n",
        "  else: \n",
        "    return ('no data', 'no data')"
      ],
      "metadata": {
        "id": "YsSsE0J-rPw_"
      },
      "execution_count": 12,
      "outputs": []
    },
    {
      "cell_type": "code",
      "source": [
        "clean_data['Процессор'] = clean_data['Процессор'].apply(proc_core)"
      ],
      "metadata": {
        "id": "EpjmtvuVnseK"
      },
      "execution_count": null,
      "outputs": []
    },
    {
      "cell_type": "code",
      "source": [
        "clean_data['Процессор'].unique()"
      ],
      "metadata": {
        "id": "Zd4Q_zAOoZjf"
      },
      "execution_count": null,
      "outputs": []
    },
    {
      "cell_type": "code",
      "source": [
        "my_data['Процессор'] = dataset['Процессор'].apply(proc_core)"
      ],
      "metadata": {
        "id": "f239-lppzR5D"
      },
      "execution_count": 14,
      "outputs": []
    },
    {
      "cell_type": "code",
      "source": [
        "my_data['Процессор'].unique()"
      ],
      "metadata": {
        "colab": {
          "base_uri": "https://localhost:8080/"
        },
        "id": "xnl7gllvzliW",
        "outputId": "9a893af3-e004-4f55-fd87-532d669db448"
      },
      "execution_count": 16,
      "outputs": [
        {
          "output_type": "execute_result",
          "data": {
            "text/plain": [
              "array([('IntelCeleron', '2'), ('IntelCorei5', 'no data'),\n",
              "       ('no data', 'no data'), ('IntelCorei5', '6'),\n",
              "       ('IntelCorei5', '10'), ('IntelCorei3', '4'), ('AMDRyzen5', '6'),\n",
              "       ('AMDAthlon', '2'), ('IntelCorei7', '12'), ('IntelCorei9', '16'),\n",
              "       ('AMDRyzen3', '2'), ('GeminiLakeRefreshJ4115', '4'),\n",
              "       ('no data', '4'), ('GeminiLakeRefreshJ4125', '4'),\n",
              "       ('IntelCore12400F', '6'), ('IntelCorei7', '8'),\n",
              "       ('GeminiLakeRefreshProcessorJ4125', 'no data'),\n",
              "       ('IntelPentium', '2'), ('IntelJ4125', '4'), ('AMDRyzen3', '4'),\n",
              "       ('Intel', '4'), ('IntelXeon', '6'), ('6010', '2'),\n",
              "       ('AMDRyzen7', '8'), ('Intel', 'no data'), ('12400f', '6'),\n",
              "       ('IntelCorei5', '4'), ('no data', '2'), ('AMDAthlon', '4'),\n",
              "       ('no data', '816'), ('AMDA6', '2'), ('8', '8'),\n",
              "       ('IntelJ3455', '2'), ('N3350', 'no data'), ('4intel', '4'),\n",
              "       ('Intel4', '4'), ('IntelXeon', '8'), ('no data', '12'),\n",
              "       ('IntelXeon', '4'), ('no data', '16'), ('no data', '8'),\n",
              "       ('IntelAtomx5Z8500', 'no data'), ('AMDRyzen3', '6'),\n",
              "       ('AMDA129800E', '4'), ('IntelCeleron', 'no data'),\n",
              "       ('IntelCorei5', '2'), ('IntelAtomN2801.6', '1'),\n",
              "       ('IntelCorei3', '2'), ('IntelCeleron', '4'),\n",
              "       ('IntelApolloLakeJ3355DualCore2', '2'), ('no data', '6'),\n",
              "       ('AMDE16010', '2'), ('IntelN5095', '4'),\n",
              "       ('AMDRYZEN4600gVega7.100343717', '6'),\n",
              "       ('IntelProcessorN5095', 'no data'), ('intelJ3160core1.5', '4'),\n",
              "       ('IntelZ835041', '9264', '4'), ('Intel', '6'),\n",
              "       ('IntelCorei7', '2'), ('IntelCorei3', 'no data'),\n",
              "       ('IntelCorei3', '6'), ('IntelCorei7', '6'), ('IntelN5105', '4'),\n",
              "       ('IntelPentium', '4'), ('no data', '10'), ('AMDRyzen6', '6'),\n",
              "       ('IntelCorei5', '14'), ('IntelCorei7', '4'), ('AMDA6', '4'),\n",
              "       ('AMDRyzen5', 'no data'), ('IntelCorei7', 'no data'),\n",
              "       ('AMDRYZEN4600gVega7.143553804', '6'),\n",
              "       ('IntelAtomDualCoreD2550CedarTrail', '2'), ('IntelXeon', '12'),\n",
              "       ('AMDRyzen9', '12'), ('IntelCorei7', '16'), ('A105800KRAM', '4'),\n",
              "       ('AMDFX4300', '4'), ('AMDFX6100', '2'), ('IntlQuadQ9400', '4'),\n",
              "       ('IntlQuad9400', '4'), ('IntelE5', '12'),\n",
              "       ('IntelCoreQuad9400', '4'), ('IntelE3', '8'),\n",
              "       ('AMDRadeonRX570', '4'), ('IntelE5', '8'), ('Q9400', '4'),\n",
              "       ('IntelE3', '4'), ('IntlQuad', '4'), ('IntelE5', '20'),\n",
              "       ('IntelE5', '16'), ('Ryzen31300x', '4'),\n",
              "       ('intelcorei310100f', '4'), ('IntelCorei510400f', '6'),\n",
              "       ('IntelJ18002', '0GHzquadcore', 'no data'),\n",
              "       ('Intelcore12400F', '6'), ('CortexA53', '4'),\n",
              "       ('IntelCorei9', '10'), ('IntelCorei5', '12'),\n",
              "       ('intelcorei510400f', '6'), ('AppleM1', '8'), ('AMD55600x', '6'),\n",
              "       ('AMD54650', '6'), ('ARMCortexA53', '4'), ('IntelXeon', '24'),\n",
              "       ('AMDRyzen9', '16')], dtype=object)"
            ]
          },
          "metadata": {},
          "execution_count": 16
        }
      ]
    }
  ]
}