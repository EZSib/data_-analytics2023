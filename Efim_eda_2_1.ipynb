{
  "cells": [
    {
      "cell_type": "markdown",
      "metadata": {
        "id": "view-in-github",
        "colab_type": "text"
      },
      "source": [
        "<a href=\"https://colab.research.google.com/github/EZSib/data_-analytics2023/blob/main/Efim_eda_2_1.ipynb\" target=\"_parent\"><img src=\"https://colab.research.google.com/assets/colab-badge.svg\" alt=\"Open In Colab\"/></a>"
      ]
    },
    {
      "cell_type": "code",
      "source": [
        "#словарь с методами пандаса и связанные с ним библиотеки\n",
        "pandas_methods = {\n",
        "    \"json.dump()\": \"Записывает объект Python в файл в формате JSON\",\n",
        "    \"json.dumps()\": \"Создает JSON-строку из переданного в нее объекта\",\n",
        "    \"json.load()\": \"Считывает файл в формате JSON и возвращает объекты Python\",\n",
        "    \"json.loads()\": \"Преобразует JSON-строку в объекты Python\",\n",
        "    \"df.to_json()\": \"Запись датафрейма в формат JSON\",\n",
        "    \"pd.read_json()\": \"Чтение файла формата JSON\",\n",
        "    \"eval()\": \"Функция, выполняющая строку-выражение, переданную ей в качестве обязательного аргумента, и возвращающая результат выполнения этой строки.\",\n",
        "    \"replace()\": \"Возвращает копию строки, в которой все вхождения подстроки заменяются другой подстрокой\",\n",
        "    \"split()\": \"Разбивает строку по указанному разделителю и возвращает список строк\",\n",
        "    \"strip()\": \"Возвращает копию строки, удаляя как начальные, так и конечные символы (в зависимости от переданного строкового аргумента; по умолчанию - пробелы)\",\n",
        "    \"apply()\": \"Позволяет пользователю передать функцию и применить ее к каждому отдельному значению серии Pandas\",\n",
        "    \"rename(columns={'costs_sum': 'costs'}, inplace=True)\": \"Переименовывает столбец датафрейма 'costs_sum‘ в 'costs‘ (параметр inplace=True перезаписывает датафрейм)\",\n",
        "    \"df.country.str.contains('platform')\": \"Проверяет все значения столбца 'country‘ датафрейма на вхождение подстроки 'platform'\",\n",
        "    \"df.drop([3334, 3335, 3336,3337],inplace=True)\": \"Удаляет наблюдения датафрейма по наименованию индексов ([3334, 3335, 3336, 3337]; параметр inplace=True перезаписывает датафрейм)\",\n",
        "\n",
        "    \"pd.DataFrame(data)\": \"Создание объекта DataFrame\",\n",
        "    \"!gdown –id 'id файла'\": \"одгрузка файла в среду выполнения кода Colab с google диска\",\n",
        "    \"from google.colab import files\": \" Импорт класса files из библиотеки google.colab.\",\n",
        "    \"uploaded = files.upload()\": \"Импорт класса files из библиотеки google.colab. Подгрузка файла в среду выполнения кода с персонального компьютера\",\n",
        "    \"pd.read_csv('shop_users.csv')\": \"Чтение файла формата csv (tsv)\",\n",
        "    \"pd.read_excel('shop_users.xlsx')\": \"Чтение файла формата xlsx (xls)\",\n",
        "    \"df.head()\": \"Показывает наблюдения с начала датасета (по умолчанию - 5 наблюдений)\",\n",
        "    \"df.tail(3)\": \"Показывает наблюдения с конца датасета (указано 3 строки)\",\n",
        "    \"df.sample(4)\": \"Показывает случайно выбранные наблюдения (указано 4 строки)\",\n",
        "    \"type(df)\": \"Показывает тип данных передаваемого объекта\",\n",
        "    \"df.size\": \"Показывает размеры датасета (количество ячеек: строки Х столбцы)\",\n",
        "    \"len(df)\": \"Показывает длину датасета (количество наблюдений)\",\n",
        "    \"len(df.axes[1])\": \"Показывает количество признаков в датасете (количество столбцов)\",\n",
        "    \"df.shape\": \"Показывает размеры датасета (количество наблюдений и признаков)\",\n",
        "    \"df.dtypes\": \"Показывает информацию о типах данных по каждому признаку\",\n",
        "    \"df.info()\": \"Показывает общую информацию о датасете\",\n",
        "\n",
        "    \"df.copy()\": \"Создание копии датафрейма df\",\n",
        "    \"df.columns\": \"Вывод списка колонок (столбцов) датафрейма\",\n",
        "    \"df.drop(columns=columns, inplace=True)\": \"Удаление столбцов датафрейма (параметр inplace=True перезаписывает датафрейм)\",\n",
        "    \"df.duplicated()\": \"Проверка на дубликаты: выдает объект Series с булевыми значениями True/False\",\n",
        "    \"df.duplicated().sum()\": \"Количество полных дубликатов (по умолчанию параметр keep='first‘ присваивает значение True первому из совпадений)\",\n",
        "    \"df.duplicated(subset=['bdate', 'sex'], keep=False).sum()\": \"Количество дубликатов по столбцам 'bdate', 'sex’ (параметр keep=False присваивает значения True всем найденным дубликатам)\",\n",
        "    \"df.drop_duplicates(inplace=True)\": \"Удаление полных дубликатов (по умолчанию параметр keep='first‘ удаляет все дубликаты, кроме первого; параметр inplace=True перезаписывает датафрейм)\",\n",
        "    \"df.drop_duplicates(subset=['bdate', 'sex'],keep=False, inplace=True)\": \"Удаление дубликатов по столбцам 'bdate', 'sex’ (параметр keep=False удаляет все найденные дубликаты; параметр inplace=True перезаписывает датафрейм)\",\n",
        "\n",
        "    \"df. isna() / df. isnull()\": \"Проверка датафрейма на пропуски\",\n",
        "    \"df. notna() / df. notnull()\": \"Проверка датафрейма на заполненные значения\",\n",
        "    \"df. isna().sum()\": \"Количество пропущенных значений в датафрейме\",\n",
        "    \"df.isnull().mean()*100\": \"Процент пропущенных значений в датафрейме\",\n",
        "    \"df.notna().sum()\": \"Количество заполненных значений в датафрейме\",\n",
        "    \"df['costs']. isna().sum()\": \"Количество пропущенных значений по столбцу ‘costs’\",\n",
        "    \"df.dropna(inplace=True)\": \"Удалению всех наблюдений датафрейма, где есть хотя бы одно пустое значение (параметр inplace=True перезаписывает датафрейм)\",\n",
        "    \"df.dropna(subset=['costs', 'games'], inplace=True)\": \"Удаление наблюдений, у которых пропущены значения по столбцам 'costs‘ и 'games' (параметр inplace=True перезаписывает датафрейм)\",\n",
        "    \"df['city'].fillna('Moscow‘, inplace=True)\": \"Заполнение пропущенных значений по столбцу 'city‘ значением 'Moscow‘ (параметр inplace=True перезаписывает датафрейм)\",\n",
        "    \"mean = df['followers_count'].mean()\": \"empty\",\n",
        "    \"df['followers_count'].fillna(mean, inplace=True)\": \"Заполнение пропущенных значений по столбцу 'followers_count‘ средним значением по этому столбцу (параметр inplace=True перезаписывает датафрейм)\",\n",
        "    \"df.reset_index(drop=True, inplace=True)\": \"Назначение нового индексного столбца датафрейма (параметр drop=True автоматически удаляет исходный индексный столбец; параметр inplace=True перезаписывает датафрейм)\",\n",
        "    \"df.index\": \"Проверка диапазона индексов\",\n",
        "    \"pd.Series.astype(‘int’)\":\" переводит признак в тип данных int, используемый в Python (ошибка при наличии пропущенных значений)\",\n",
        "    \"pd.Series.astype(‘Int64’)\":\" переводит признак в тип данных Int64, используемый в Pandas  (работает при наличии пропущенных значений)\",\n",
        "    \"pd.to_numeric()\":\" переводит признак в числовой тип данных int64 или float64  в зависимости от подаваемых значений\",\n",
        "    \"import datetime\":\" Импорт модуля datetime\",\n",
        "    \"from datetime import datetime\": \"Импорт класса datetime модуля datetime\",\n",
        "    \"pd.to_datetime()\": \"Переводит объект Pandas в формат datetime64\",\n",
        "    \"pd.to_datetime(df.Series, unit='s', origin='unix')\": \"Переводит объект Series, значения которого закодированы в Unix time в секундах, в формат datetime64\",\n",
        "    \"pd.Timestamp.utcfromtimestamp( df.Series)\": \"Переводит объект Series, значения которого закодированы в Unix time в секундах, в формат datetime64\",\n",
        "    \"df.Series.dt.strftime('%d.%m.%Y')\": \"Переводит объект Series формата datetime в строковое значение в виде ДД.ММ.ГГГГ\",\n",
        "    \"pd.Series.astype()\": \"Переводит признаки в типы данных, используемых в Python или Numpy (тип данных необходимо указывать в качестве параметра)\",\n",
        "    \"pd.to_numeric(downcast=‘float’)\": \"Переводит признак в числовой тип данных (параметр downcast указывает на перевод в тип данных float64; без указания параметра переводит в числовой тип данных int64 или float64\",\n",
        "    \"pd.Timestamp.today()\": \"Получение текущих даты и времени\",\n",
        "    \"DatetimeObject.year\": \"Извлечение года из объекта формата datetime (существует большое число атрибутов)\",\n",
        "    \"current_year - df.bdate.apply(lambda x: x.year)\": \"Расчет количества лет как текущий год за минусом года, извлеченного из даты рождения\",\n",
        "    \"df['costs_to_rur'] = df['currency'].map(rates) * df['costs']\": \"Расчет дополнительного признака со стоимостью в единой валюте – рублях на основании словаря с  курсами валют от существующих признаков 'currency‘ и 'costs'\",\n",
        "    \"df.sex.apply(lambda x: 1 if x == 'женский'  else 2)\": \"Кодирование пола (при условии, что все значения заполнены) sex_dict = {1: 'женский'  2: 'мужской', 0: 'не указан'}\",\n",
        "    \"df.sex.apply(lambda x: sex_dict[x])\": \"Декодирование пола на основании словарярасшифровки\",\n",
        "\n",
        "    \"df.Series.unique()\": \"Получение уникальных значений объекта Series  датафрейма\",\n",
        "    \"df.explode(‘Series’, ignore_index=True)\": \"Трансформирует датафрейм в разрезе списков значений по признаку (параметр ignore_index=True сбрасывает исходные индексы) columns = […]\",\n",
        "    \"df = df[columns]\": \"Сохраняет датафрейм, состоящий из переданного списка признаков, при этом учитывая их порядок в списке\",\n",
        "    \"df.to_csv(‘FileName.csv’)\": \"Записывает датафрейм в файл формата csv\",\n",
        "    \"df.to_excel(‘FileName.xlsx’, index=False)\": \"Записывает датафрейм в файл формата xlsx (параметр index=False игнорирует индексный столбец при записи)  \",\n",
        "\n",
        "    \"df.Series.str.len()\": \"Возвращает длины строковых значений объекта Series\",\n",
        "    \"df.Series.str.count(‘s’)\": \"Возвращает количество вхождений подстроки ‘s’ в строку объекта Series\",\n",
        "    \"df.Series.str.lower()\": \"Приведение строковых значений объекта Series в нижний регистр\",\n",
        "    \"df.Series.str.upper()\": \"Приведение строковых значений объекта Series в верхний регистр\",\n",
        "    \"df.Series.str.capitalize()\": \"Приведение первых символов строковых значений объекта Series в верхний регистр, а остальных символов – в нижний регистр\",\n",
        "    \"df.Series.str.strip()\": \"Возвращает копии строки объекта Series, удаляя как начальные, так и конечные символы (в зависимости от переданного строкового аргумента; по умолчанию - пробелы)\",\n",
        "    \"df.Series.str.lstrip()\": \"Возвращает копии строки объекта Series, удаляя как начальные символы (в зависимости от переданного строкового аргумента; по умолчанию - пробелы)\",\n",
        "    \"df.Series.str.rstrip()\": \"Возвращает копии строки объекта Series, удаляя конечные символы (в зависимости от переданного строкового аргумента; по умолчанию - пробелы)\",\n",
        "    \"df.Series.str.replace(‘old’, ‘new’)\": \"Заменяет указанную подстроку строковых значений объекта Series на новую\",\n",
        "    \"df.Series.str.split(sep=‘sep’)\": \"Разделяет строки объекта Series на список подстрок по указанному разделителю (по  умолчанию – пробел)\",\n",
        "    \"df.Series.str.cat(sep=‘sep’)\": \"Объединяет строки объектов Series в единое строковое значение через указанный разделитель (по умолчанию – пробел)\",\n",
        "    \"df.Series.str. get_dummies()\": \"Кодирует значения объекта Series, для каждого создавая отдельный столбец\",\n",
        "    \"df.loc[df['column_name'] == 'some_value', 'column_name'] = 'значение'\": \"Заменяет значение объекта Series по условию (для любого типа данных)\",\n",
        "\n",
        "    \"df.loc[df.city.str.contains('petersb urg'), 'city'] = 'санкт-петербург'\": \"Заменяет значение признака 'city' на 'санкт-петербург' при условии, что изначальное значение по этому же признаку – содержит подстроку 'petersburg\",\n",
        "    \"df1[df1['player_surname'] == 'GOLOVIN']\": \"поиск строк с Головиным в ПЗ №6)\",\n",
        "    \"df.set_index('id', inplace=True)\":  \"меняем колонку index на id, inplace сохраняет изменения в датафрейме\",\n",
        "    \"pd.read_json('partner_data_records_cp1251.json', encoding='cp1251')\": \"чтение файла в кодировке Windows-1251 (cp1251),encoding='UTF-8'\",\n",
        "    \"df = pd.read_excel('partner_data.xlsx', sheet_name='partner_data1', header=0, index_col='id')\": \"header — строка с заголовками, index_col — колонка с индексами\",\n",
        "    \".iloc\": \"выбор элементов по индексу;\",\n",
        "    \".loc\": \"выбор элементов по названию. \",\n",
        "    \"df.iloc[0,0]\": \"элемент на позиции [0,0]\",\n",
        "    \"df.iloc[0:3, 0]\": \"элементы 0, 1, 2 нулевого столбца\",\n",
        "    \"df.iloc[:, 0]\": \"полный срез столбца 0\",\n",
        "    \"df.iloc[0, :]\": \"полный срез строки 0\",\n",
        "    \"df.loc[1, 'age']\": \"строка с id 1, столбец age\",\n",
        "    \"df.loc[5:6, 'marital':'education']\": \"обе границы включаются в диапазон\",\n",
        "    \"df.loc[[5,10], ['marital','default']]\": \"можно передавать списки\",\n",
        "    \"df['age']\": \"один столбец\",\n",
        "    \"df[['age', 'marital']]\": \"несколько столбцов\"\n",
        "\n",
        "}\n",
        "# словарь с шаблонами eda\n",
        "eda = {\n",
        "\"Шаблон применения какой-либо функции ко всем значениям колонки\": '''import re\n",
        "def clear_price(price):\n",
        "    return int(re.sub(\\'\\D\\', \\'\\', price))\n",
        "dataset[\\'Очищенная цена\\'] = dataset[\\'Цена\\'].apply(clear_price)''',\n",
        "    \"Шаблон сортировки по значению\": '''sorted_dataset = dataset.sort_values('Очищенная цена')\n",
        "sorted_dataset''',\n",
        "    \"Импортируем библиотеку визуализации\":'''import matplotlib.pyplot as plt''',\n",
        "    \"Для визуального представления данных в том числе медианы, квартилей и выбросов используем boxplot\": '''plt.boxplot(dataset['Номер этажа'])\n",
        "plt.show()''',\n",
        "    \"Альтернативный способ визуализировать колонку - гистограмма\":'''plt.hist(dataset['Номер этажа'], bins = 50)\n",
        "plt.xlim((None,55)) # для \"отрезания\" от графика неинформативного\n",
        "plt.show()''',\n",
        "    \"Создание переменной с Series\":'''year_of_construction = dataset['Год постройки']''',\n",
        "    \"Расчет минимального и максимального значения Series\":'''max_value = year_of_construction.max()\n",
        "min_value = year_of_construction.min()\n",
        "print('Максимальный год постройки: ', max_value, 'Минимальный год постройки: ', min_value)''',\n",
        "    \"Расчет среднего значения Series\":'''mean_value = year_of_construction.mean()\n",
        "print('Средний год постройки: ', mean_value)''',\n",
        "    \"Расчет медианы Series\":'''median_value = year_of_construction.median()\n",
        "print('Медиана года постройки: ', median_value)''',\n",
        "    \"Расчет 10-го и 25-го процентилей Series\":'''percentile_10_value = year_of_construction.quantile(0.10)\n",
        "percentile_25_value = year_of_construction.quantile(0.25)\n",
        "print('10-й процентиль года постройки: ', percentile_10_value)\n",
        "print('25-й процентиль года постройки: ', percentile_25_value)''',\n",
        "    \"Для расчета всех основных статистических показателей сразу\":'''year_of_construction.describe()''',\n",
        "    \"Неграфический способ проанализировать колонку\":'''dataset['Класс жилья'].describe()''',\n",
        "    \"Более полный неграфический способ\":'''class_counts = dataset['Класс жилья'].value_counts()\n",
        "class_counts''',\n",
        "    \"Круговая диаграмма\":'''plt.pie(class_counts.values, labels = class_counts.index)\n",
        "plt.title('Круговая диаграмма распределения классов квартир') # Добавление подписи к графику\n",
        "plt.show()''',\n",
        "    \"Стобцевая диаграмма\":'''type_counts = dataset['Тип здания'].value_counts()\n",
        "plt.barh(type_counts.index, type_counts.values)\n",
        "plt.title('Столбцовая диаграмма распределения типов здания')\n",
        "plt.show()''',\n",
        "    \"Шаблона первичного анализа взаимосвязи категориальной и числовой колонок\":'''dataset.groupby('Класс жилья')[\"Очищенная цена за м²\"].describe()''',\n",
        "    \"Шаблон визуального анализа взаимосвязи категориальной и числовой колонок\":'''import seaborn as sns\n",
        "sns.boxplot(x='Класс жилья', y=\"Очищенная цена за м²\", data=dataset)\n",
        "plt.axis(ymin=0, ymax=1100000) \n",
        "plt.show()''',\n",
        "    \"Шаблона анализа взаимосвязи двух и более числовых колонок\":'''g = sns.PairGrid(new_dataset[columns])\n",
        "g.map(sns.scatterplot, alpha=0.2)''',\n",
        "    \"Шаблона анализа взаимосвязи двух категориальных колонок\":'''import matplotlib.pyplot as plt\n",
        "flat_types = dataset['Класс жилья'].unique()\n",
        "flat_types = flat_types[1:]\n",
        "labels = dataset['Тип здания'].unique()\n",
        "colors = dict(zip(labels, plt.cm.tab20.colors[:len(labels)]))\n",
        "for flat_type in flat_types: \n",
        "  df = dataset[dataset['Класс жилья']==flat_type] \n",
        "  class_counts = df['Тип здания'].value_counts()\n",
        "  labels =class_counts.index\n",
        "  plt.title(flat_type)\n",
        "  patches, texts = plt.pie(\n",
        "      class_counts.values, \n",
        "      labels = labels, \n",
        "      colors = [colors[key] for key in labels],\n",
        "      textprops=dict(color=\"w\")\n",
        "      )\n",
        "  plt.legend(patches, labels, title=\"Типы здания\", loc=\"upper center\", bbox_to_anchor=(1, 0, 0.5, 1)) \n",
        "  plt.show()''',\n",
        "    \"Шаблон фильтрации по одному значению в колонке\":'''filtered_dataset = dataset[dataset['Этап строительства']=='Котлован']''',\n",
        "    \"Шаблон фильтрации числовой колонки\":'''filtered_dataset = dataset[dataset['Год постройки']>2010]''',\n",
        "    \"Шаблон фильтрации по нескольким значениям в колонке\":'''districts = ['Строгино', 'Щукино', 'Хорошёвский']\n",
        "filtered_dataset = dataset[dataset['Район'].isin(districts)]''',\n",
        "    \"Шаблон фильтрации по нескольким колонкам\":'''districts = ['Строгино', 'Щукино', 'Хорошёвский']\n",
        "filtered_dataset = dataset[(dataset['Район'].isin(districts)) & (dataset['Год постройки']>2010)]''',\n",
        "    \"Шаблон фильтрации по всем значениям кроме заданных в фильтре\":'''districts = ['Строгино', 'Щукино', 'Хорошёвский']\n",
        "filtered_dataset = dataset[~(dataset['Район'].isin(districts))]''',\n",
        "    \"Шаблон взятия элемента по индексу\":'''dataset.loc[100]''',\n",
        "    \"Шаблон взятия среза по промежутку\":'''dataset.loc[1000:1002]''',\n",
        "    \"Шаблон создания нового датасета списку индексов \":'''index_list = [354,1,2]\n",
        "dataset.loc[index_list].head()''',\n",
        "    \"Для не числовых индексов все работает аналогично\":'''describe_data = dataset.describe()\n",
        "describe_data.loc['max']''',\n",
        "    \"Шаблон для взятия среза в хаотично пронумеровнном датасете \":'''sorted_dataset = dataset.sort_values('Количество комнат', ascending=False)\n",
        "sorted_dataset.iloc[:100]''',\n",
        "    \"Нестандартная фильтрация с помощью дополнительный функции\":'''def is_address_correct(address):\n",
        "  return 'Тагильская' in address\n",
        "mask = dataset['Адрес'].apply(is_address_correct)\n",
        "filtred_dataset = dataset[mask]''',\n",
        "    \"Шаблон фильтрации числовых колонок\":'''dtypes = dataset.dtypes\n",
        "num_dtypes = dtypes[dtypes!='object']\n",
        "new_columns = num_dtypes.index\n",
        "filtred_dataset = dataset[num_dtypes.index]''',\n",
        "    \"Шаблон взятия среднего значения цены квартир сгруппированных по значениям Этапа строительства  \":'''groups_mean_price = dataset.groupby('Этап строительства')['Очищенная цена'].mean()''',\n",
        "    \"Шаблон взятия среднего значения цены квартир сгруппированных по значениям колонок Этапа строительства и Класса жилья\":'''\n",
        "groups_mean_price = dataset.groupby(['Этап строительства', 'Класс жилья'], as_index=False)['Очищенная цена'].mean()\n",
        "groups_mean_price['Очищенная цена'] = groups_mean_price['Очищенная цена'].astype(int)''',\n",
        "    \"Размер шрифта на диаграмме\":'''params = {\n",
        "          'axes.titlesize': 15,   Размер шрифта главной подписи\n",
        "          'xtick.labelsize': 12,  Размер шрифта подписей тикетов оси X\n",
        "          'axes.labelsize': 14    Размер шрифта подписей осей\n",
        "          }\n",
        "plt.rcParams.update(params)''',\n",
        "    \"Шаблон улучшения графика\":'''import matplotlib.pyplot as plt\n",
        "type_counts = dataset['Тип здания'].value_counts()\n",
        "other_types = type_counts[type_counts<500]\n",
        "type_counts = type_counts[type_counts>500]\n",
        "type_counts['Другое'] = other_types.sum() # Замена редких значений категорией Другое\n",
        "plt.style.use('seaborn') # Смена стиля всех графиков matplotlib\n",
        "params = {\n",
        "          'axes.titlesize': 15,   # Размер шрифта главной подписи\n",
        "          'xtick.labelsize': 12,  # Размер шрифта подписей тикетов оси X\n",
        "          'axes.labelsize': 14    # Размер шрифта подписей осей\n",
        "          }\n",
        "plt.rcParams.update(params) # Фиксация параметров\n",
        "plt.ylabel('Количество квартир') # Подпись оси Y\n",
        "plt.title('Диаграмма распределения типов здания') # Подпись всего графика\n",
        "plt.xticks(rotation=30, ha = 'right') # Поворот на 30 градусов подписей оси X и выравнивание по правому краю\n",
        "plt.bar(type_counts.index, type_counts.values, color='#03A9F4') # Кастомизация цвета\n",
        "plt.show()''',\n",
        "    \"50 разных способов создать боксплот/диаграмму/гистаграмму\":'''https://habr.com/ru/articles/468295/''',\n",
        "                                                                  }\n",
        "def search_in(string, dct=pandas_methods):\n",
        "    '''Функция поиска совпадений по подстроке, можно писать часть названия метода/функции\n",
        "    или слово/часть слова из описания этой функции/метода'''\n",
        "    return_list = []\n",
        "    for name, info in dct.items():\n",
        "        if string.lower() in name.lower() or string.lower() in info.lower():\n",
        "            return_list.append({name: info})\n",
        "    print('*'*156)\n",
        "    for i in return_list:\n",
        "        print(*i)\n",
        "        print(*(i.values()), end='\\n'+156 * '-'+'\\n')\n",
        "# end='\\n'+ max(map(lambda x: len(str(x)), return_list))*'-'+'\\n'\n",
        "# запросы разделены *, примеры разделены -"
      ],
      "metadata": {
        "id": "5VDmM3KggAGv"
      },
      "execution_count": 20,
      "outputs": []
    },
    {
      "cell_type": "markdown",
      "source": [
        "# **Разведочный анализ по датасету IMDb Movies: 5000 фильмов с наибольшим рейтингом. Часть 2: Анализ количественных и категориальных признаков, а также взаимосвязи признаков**"
      ],
      "metadata": {
        "id": "L2Epn7UHiXfS"
      }
    },
    {
      "cell_type": "markdown",
      "source": [
        "![](https://adabul.com/wp-content/uploads/2020/04/diziler-360x240.jpg)"
      ],
      "metadata": {
        "id": "bRlt8IT50V6E"
      }
    },
    {
      "cell_type": "markdown",
      "source": [
        "## 1. Описание датасета и задания"
      ],
      "metadata": {
        "id": "0ht58TIfi___"
      }
    },
    {
      "cell_type": "markdown",
      "source": [
        "Представлен датасет с данными о 5000 фильмах, имеющих наибольший рейтинг на сайте IMDb (датасет выложен на платформе [Kaggle](https://www.kaggle.com/datasets/totoro29/imdb-movies))."
      ],
      "metadata": {
        "id": "ODZr1pzSjUEZ"
      }
    },
    {
      "cell_type": "markdown",
      "source": [
        "***Информация, содержащаяся в датасете:***\n",
        "1.   Ссылка на постер фильма (poster).\n",
        "2.   Наименование фильма (title).\n",
        "3.   Класс фильма по рейтингу the British Board of Film Classification (BBFC) (certificate).\n",
        "4.   Продолжительность фильма (runtime).\n",
        "5.   Жанр фильма (genre).\n",
        "6.   Рейтинг фильма на платформе IMBD (rating).\n",
        "7.   Описание сюжета фильма (about).\n",
        "8.   Кинорежиссер фильма (director).\n",
        "9.   Актеры-звезды фильма (stars).\n",
        "10.  Количество проголосовавших за фильм (votes).\n",
        "11.  Доход с фильма (gross_earn)."
      ],
      "metadata": {
        "id": "iWWmlDbT0blB"
      }
    },
    {
      "cell_type": "markdown",
      "source": [
        "***Задача:***\n",
        "провести разведочный анализ данных, найти взаимосвязи и сформулировать выводы."
      ],
      "metadata": {
        "id": "sDysJljz0fjg"
      }
    },
    {
      "cell_type": "markdown",
      "source": [
        "**В части 2 задания необходимо:**\n",
        "1.   Выполнить неграфический и графический анализ количественных признаков.\n",
        "2.   Выполнить неграфический и графический анализ категориальных признаков.\n",
        "3.   Выполнить анализ взаимосвязи двух количественных признаков.\n",
        "4.   Выполнить анализ взаимосвязи двух категориальных признаков.\n",
        "5.   Выполнить анализ взаимосвязи количественного и категориального признаков."
      ],
      "metadata": {
        "id": "9p3eZu8en6G2"
      }
    },
    {
      "cell_type": "markdown",
      "source": [
        "****Задания со звездочкой факультативные (дополнительные)***"
      ],
      "metadata": {
        "id": "HTuuCUIxH74Q"
      }
    },
    {
      "cell_type": "markdown",
      "source": [
        "## 2. Загрузка датасета"
      ],
      "metadata": {
        "id": "Tjg16j1yj7h3"
      }
    },
    {
      "cell_type": "markdown",
      "source": [
        "Импортируйте модуль files для подгрузки датасета с ПК"
      ],
      "metadata": {
        "id": "y49E3GkC9UX7"
      }
    },
    {
      "cell_type": "code",
      "source": [
        "from google.colab import files"
      ],
      "metadata": {
        "id": "HjA1iTVTqQo5"
      },
      "execution_count": null,
      "outputs": []
    },
    {
      "cell_type": "markdown",
      "source": [
        "Загрузите файл movies_clean.csv (сохранен по итогу выполнения предыдущего задания) с помощью files.upload()"
      ],
      "metadata": {
        "id": "Xit-BLDS9c27"
      }
    },
    {
      "cell_type": "code",
      "source": [
        "files.upload()"
      ],
      "metadata": {
        "id": "6tIQ34wTqUCz"
      },
      "execution_count": null,
      "outputs": []
    },
    {
      "cell_type": "markdown",
      "source": [
        "## 3. Подгрузка данных в питон и начало работы с ними"
      ],
      "metadata": {
        "id": "Ui2UmktdkfBX"
      }
    },
    {
      "cell_type": "markdown",
      "source": [
        "Импортируйте библиотеку pandas и присвойте ей короткое название pd"
      ],
      "metadata": {
        "id": "q1wUeS8N-Ac4"
      }
    },
    {
      "cell_type": "code",
      "execution_count": 2,
      "metadata": {
        "id": "HDirS7pLCdac"
      },
      "outputs": [],
      "source": [
        "import pandas as pd"
      ]
    },
    {
      "cell_type": "markdown",
      "source": [
        "Откройте датасет movies_clean.csv и сохраните его в переменную dataset"
      ],
      "metadata": {
        "id": "jXLXQ-kY-B1E"
      }
    },
    {
      "cell_type": "code",
      "execution_count": 5,
      "metadata": {
        "id": "PXy_b8D-DYxq"
      },
      "outputs": [],
      "source": [
        "dataset = pd.read_csv('movies_clean.csv')"
      ]
    },
    {
      "cell_type": "markdown",
      "source": [
        "Проведите обзор таблицы с помощью метода head()"
      ],
      "metadata": {
        "id": "kYPjQVza-GMl"
      }
    },
    {
      "cell_type": "code",
      "source": [
        "dataset.head()"
      ],
      "metadata": {
        "id": "777NV7RZkwos",
        "outputId": "529eaf79-dacf-4c66-b829-59f31d3d4fee",
        "colab": {
          "base_uri": "https://localhost:8080/",
          "height": 722
        }
      },
      "execution_count": 6,
      "outputs": [
        {
          "output_type": "execute_result",
          "data": {
            "text/plain": [
              "   Unnamed: 0                                             poster  \\\n",
              "0           0  https://m.media-amazon.com/images/S/sash/4Fyxw...   \n",
              "1           1  https://m.media-amazon.com/images/S/sash/4Fyxw...   \n",
              "2           2  https://m.media-amazon.com/images/S/sash/4Fyxw...   \n",
              "3           3  https://m.media-amazon.com/images/S/sash/4Fyxw...   \n",
              "4           4  https://m.media-amazon.com/images/S/sash/4Fyxw...   \n",
              "\n",
              "                      title certificate  runtime                      genre  \\\n",
              "0  The Shawshank Redemption          15  142 min                      Drama   \n",
              "1            Hababam Sinifi         12A   87 min              Comedy, Drama   \n",
              "2             The Godfather           X  175 min               Crime, Drama   \n",
              "3    The Godfather: Part II           X  202 min               Crime, Drama   \n",
              "4          Schindler's List          15  195 min  Biography, Drama, History   \n",
              "\n",
              "   rating                                              about  \\\n",
              "0     9.3  Two imprisoned men bond over a number of years...   \n",
              "1     9.2  Lazy, uneducated students share a very close b...   \n",
              "2     9.2  The aging patriarch of an organized crime dyna...   \n",
              "3     9.0  The early life and career of Vito Corleone in ...   \n",
              "4     9.0  In German-occupied Poland during World War II,...   \n",
              "\n",
              "               director                                              stars  \\\n",
              "0        Frank Darabont  ('Tim Robbins',), ('Morgan Freeman',), ('Bob G...   \n",
              "1         Ertem Egilmez  ('Kemal Sunal',), ('Münir Özkul',), ('Halit Ak...   \n",
              "2  Francis Ford Coppola  ('Marlon Brando',), ('Al Pacino',), ('James Ca...   \n",
              "3  Francis Ford Coppola  ('Al Pacino',), ('Robert De Niro',), ('Robert ...   \n",
              "4      Steven Spielberg  ('Liam Neeson',), ('Ralph Fiennes',), ('Ben Ki...   \n",
              "\n",
              "       votes gross_earn  runtime_clear  gross_earn_clear  \n",
              "0  26,26,905    $28.34M            142              28.0  \n",
              "1     40,492        NaN             87               NaN  \n",
              "2  18,19,641   $134.97M            175             134.0  \n",
              "3  12,49,182    $57.30M            202              57.0  \n",
              "4  13,33,407    $96.90M            195              96.0  "
            ],
            "text/html": [
              "\n",
              "  <div id=\"df-2c0d7872-7251-4671-b8d9-8a1d5fb0b4b8\">\n",
              "    <div class=\"colab-df-container\">\n",
              "      <div>\n",
              "<style scoped>\n",
              "    .dataframe tbody tr th:only-of-type {\n",
              "        vertical-align: middle;\n",
              "    }\n",
              "\n",
              "    .dataframe tbody tr th {\n",
              "        vertical-align: top;\n",
              "    }\n",
              "\n",
              "    .dataframe thead th {\n",
              "        text-align: right;\n",
              "    }\n",
              "</style>\n",
              "<table border=\"1\" class=\"dataframe\">\n",
              "  <thead>\n",
              "    <tr style=\"text-align: right;\">\n",
              "      <th></th>\n",
              "      <th>Unnamed: 0</th>\n",
              "      <th>poster</th>\n",
              "      <th>title</th>\n",
              "      <th>certificate</th>\n",
              "      <th>runtime</th>\n",
              "      <th>genre</th>\n",
              "      <th>rating</th>\n",
              "      <th>about</th>\n",
              "      <th>director</th>\n",
              "      <th>stars</th>\n",
              "      <th>votes</th>\n",
              "      <th>gross_earn</th>\n",
              "      <th>runtime_clear</th>\n",
              "      <th>gross_earn_clear</th>\n",
              "    </tr>\n",
              "  </thead>\n",
              "  <tbody>\n",
              "    <tr>\n",
              "      <th>0</th>\n",
              "      <td>0</td>\n",
              "      <td>https://m.media-amazon.com/images/S/sash/4Fyxw...</td>\n",
              "      <td>The Shawshank Redemption</td>\n",
              "      <td>15</td>\n",
              "      <td>142 min</td>\n",
              "      <td>Drama</td>\n",
              "      <td>9.3</td>\n",
              "      <td>Two imprisoned men bond over a number of years...</td>\n",
              "      <td>Frank Darabont</td>\n",
              "      <td>('Tim Robbins',), ('Morgan Freeman',), ('Bob G...</td>\n",
              "      <td>26,26,905</td>\n",
              "      <td>$28.34M</td>\n",
              "      <td>142</td>\n",
              "      <td>28.0</td>\n",
              "    </tr>\n",
              "    <tr>\n",
              "      <th>1</th>\n",
              "      <td>1</td>\n",
              "      <td>https://m.media-amazon.com/images/S/sash/4Fyxw...</td>\n",
              "      <td>Hababam Sinifi</td>\n",
              "      <td>12A</td>\n",
              "      <td>87 min</td>\n",
              "      <td>Comedy, Drama</td>\n",
              "      <td>9.2</td>\n",
              "      <td>Lazy, uneducated students share a very close b...</td>\n",
              "      <td>Ertem Egilmez</td>\n",
              "      <td>('Kemal Sunal',), ('Münir Özkul',), ('Halit Ak...</td>\n",
              "      <td>40,492</td>\n",
              "      <td>NaN</td>\n",
              "      <td>87</td>\n",
              "      <td>NaN</td>\n",
              "    </tr>\n",
              "    <tr>\n",
              "      <th>2</th>\n",
              "      <td>2</td>\n",
              "      <td>https://m.media-amazon.com/images/S/sash/4Fyxw...</td>\n",
              "      <td>The Godfather</td>\n",
              "      <td>X</td>\n",
              "      <td>175 min</td>\n",
              "      <td>Crime, Drama</td>\n",
              "      <td>9.2</td>\n",
              "      <td>The aging patriarch of an organized crime dyna...</td>\n",
              "      <td>Francis Ford Coppola</td>\n",
              "      <td>('Marlon Brando',), ('Al Pacino',), ('James Ca...</td>\n",
              "      <td>18,19,641</td>\n",
              "      <td>$134.97M</td>\n",
              "      <td>175</td>\n",
              "      <td>134.0</td>\n",
              "    </tr>\n",
              "    <tr>\n",
              "      <th>3</th>\n",
              "      <td>3</td>\n",
              "      <td>https://m.media-amazon.com/images/S/sash/4Fyxw...</td>\n",
              "      <td>The Godfather: Part II</td>\n",
              "      <td>X</td>\n",
              "      <td>202 min</td>\n",
              "      <td>Crime, Drama</td>\n",
              "      <td>9.0</td>\n",
              "      <td>The early life and career of Vito Corleone in ...</td>\n",
              "      <td>Francis Ford Coppola</td>\n",
              "      <td>('Al Pacino',), ('Robert De Niro',), ('Robert ...</td>\n",
              "      <td>12,49,182</td>\n",
              "      <td>$57.30M</td>\n",
              "      <td>202</td>\n",
              "      <td>57.0</td>\n",
              "    </tr>\n",
              "    <tr>\n",
              "      <th>4</th>\n",
              "      <td>4</td>\n",
              "      <td>https://m.media-amazon.com/images/S/sash/4Fyxw...</td>\n",
              "      <td>Schindler's List</td>\n",
              "      <td>15</td>\n",
              "      <td>195 min</td>\n",
              "      <td>Biography, Drama, History</td>\n",
              "      <td>9.0</td>\n",
              "      <td>In German-occupied Poland during World War II,...</td>\n",
              "      <td>Steven Spielberg</td>\n",
              "      <td>('Liam Neeson',), ('Ralph Fiennes',), ('Ben Ki...</td>\n",
              "      <td>13,33,407</td>\n",
              "      <td>$96.90M</td>\n",
              "      <td>195</td>\n",
              "      <td>96.0</td>\n",
              "    </tr>\n",
              "  </tbody>\n",
              "</table>\n",
              "</div>\n",
              "      <button class=\"colab-df-convert\" onclick=\"convertToInteractive('df-2c0d7872-7251-4671-b8d9-8a1d5fb0b4b8')\"\n",
              "              title=\"Convert this dataframe to an interactive table.\"\n",
              "              style=\"display:none;\">\n",
              "        \n",
              "  <svg xmlns=\"http://www.w3.org/2000/svg\" height=\"24px\"viewBox=\"0 0 24 24\"\n",
              "       width=\"24px\">\n",
              "    <path d=\"M0 0h24v24H0V0z\" fill=\"none\"/>\n",
              "    <path d=\"M18.56 5.44l.94 2.06.94-2.06 2.06-.94-2.06-.94-.94-2.06-.94 2.06-2.06.94zm-11 1L8.5 8.5l.94-2.06 2.06-.94-2.06-.94L8.5 2.5l-.94 2.06-2.06.94zm10 10l.94 2.06.94-2.06 2.06-.94-2.06-.94-.94-2.06-.94 2.06-2.06.94z\"/><path d=\"M17.41 7.96l-1.37-1.37c-.4-.4-.92-.59-1.43-.59-.52 0-1.04.2-1.43.59L10.3 9.45l-7.72 7.72c-.78.78-.78 2.05 0 2.83L4 21.41c.39.39.9.59 1.41.59.51 0 1.02-.2 1.41-.59l7.78-7.78 2.81-2.81c.8-.78.8-2.07 0-2.86zM5.41 20L4 18.59l7.72-7.72 1.47 1.35L5.41 20z\"/>\n",
              "  </svg>\n",
              "      </button>\n",
              "      \n",
              "  <style>\n",
              "    .colab-df-container {\n",
              "      display:flex;\n",
              "      flex-wrap:wrap;\n",
              "      gap: 12px;\n",
              "    }\n",
              "\n",
              "    .colab-df-convert {\n",
              "      background-color: #E8F0FE;\n",
              "      border: none;\n",
              "      border-radius: 50%;\n",
              "      cursor: pointer;\n",
              "      display: none;\n",
              "      fill: #1967D2;\n",
              "      height: 32px;\n",
              "      padding: 0 0 0 0;\n",
              "      width: 32px;\n",
              "    }\n",
              "\n",
              "    .colab-df-convert:hover {\n",
              "      background-color: #E2EBFA;\n",
              "      box-shadow: 0px 1px 2px rgba(60, 64, 67, 0.3), 0px 1px 3px 1px rgba(60, 64, 67, 0.15);\n",
              "      fill: #174EA6;\n",
              "    }\n",
              "\n",
              "    [theme=dark] .colab-df-convert {\n",
              "      background-color: #3B4455;\n",
              "      fill: #D2E3FC;\n",
              "    }\n",
              "\n",
              "    [theme=dark] .colab-df-convert:hover {\n",
              "      background-color: #434B5C;\n",
              "      box-shadow: 0px 1px 3px 1px rgba(0, 0, 0, 0.15);\n",
              "      filter: drop-shadow(0px 1px 2px rgba(0, 0, 0, 0.3));\n",
              "      fill: #FFFFFF;\n",
              "    }\n",
              "  </style>\n",
              "\n",
              "      <script>\n",
              "        const buttonEl =\n",
              "          document.querySelector('#df-2c0d7872-7251-4671-b8d9-8a1d5fb0b4b8 button.colab-df-convert');\n",
              "        buttonEl.style.display =\n",
              "          google.colab.kernel.accessAllowed ? 'block' : 'none';\n",
              "\n",
              "        async function convertToInteractive(key) {\n",
              "          const element = document.querySelector('#df-2c0d7872-7251-4671-b8d9-8a1d5fb0b4b8');\n",
              "          const dataTable =\n",
              "            await google.colab.kernel.invokeFunction('convertToInteractive',\n",
              "                                                     [key], {});\n",
              "          if (!dataTable) return;\n",
              "\n",
              "          const docLinkHtml = 'Like what you see? Visit the ' +\n",
              "            '<a target=\"_blank\" href=https://colab.research.google.com/notebooks/data_table.ipynb>data table notebook</a>'\n",
              "            + ' to learn more about interactive tables.';\n",
              "          element.innerHTML = '';\n",
              "          dataTable['output_type'] = 'display_data';\n",
              "          await google.colab.output.renderOutput(dataTable, element);\n",
              "          const docLink = document.createElement('div');\n",
              "          docLink.innerHTML = docLinkHtml;\n",
              "          element.appendChild(docLink);\n",
              "        }\n",
              "      </script>\n",
              "    </div>\n",
              "  </div>\n",
              "  "
            ]
          },
          "metadata": {},
          "execution_count": 6
        }
      ]
    },
    {
      "cell_type": "markdown",
      "source": [
        "Удалите столбец 'Unnamed: 0' как ненужный с помощью метода drop(), передав в него параметры columns и inplace=True"
      ],
      "metadata": {
        "id": "-ZBXKlsk-KBh"
      }
    },
    {
      "cell_type": "code",
      "source": [
        "dataset.drop(columns='Unnamed: 0', inplace=True)"
      ],
      "metadata": {
        "id": "memX1_CzI44-"
      },
      "execution_count": 7,
      "outputs": []
    },
    {
      "cell_type": "markdown",
      "source": [
        "## 4. Оценка размеров датасета, выбор признаков для анализа"
      ],
      "metadata": {
        "id": "3uHWsjiUlAVn"
      }
    },
    {
      "cell_type": "markdown",
      "source": [
        "Оцените размеры датасета с помощью атрибута shape"
      ],
      "metadata": {
        "id": "UKQGc9s2-fEj"
      }
    },
    {
      "cell_type": "code",
      "execution_count": 8,
      "metadata": {
        "id": "Mbniz7lAHMdW",
        "outputId": "1321ce0f-fe3f-4b80-910d-b40deac568da",
        "colab": {
          "base_uri": "https://localhost:8080/"
        }
      },
      "outputs": [
        {
          "output_type": "execute_result",
          "data": {
            "text/plain": [
              "(4970, 13)"
            ]
          },
          "metadata": {},
          "execution_count": 8
        }
      ],
      "source": [
        "dataset.shape"
      ]
    },
    {
      "cell_type": "markdown",
      "source": [
        "Выведите информацию о датасете с помощью метода info()"
      ],
      "metadata": {
        "id": "zSMMwr0D-iKE"
      }
    },
    {
      "cell_type": "code",
      "source": [
        "dataset.info()"
      ],
      "metadata": {
        "id": "Rb9-5dw7lL-_",
        "outputId": "819f4ee2-a5a6-486e-eee1-2dbbc2d33fb9",
        "colab": {
          "base_uri": "https://localhost:8080/"
        }
      },
      "execution_count": 9,
      "outputs": [
        {
          "output_type": "stream",
          "name": "stdout",
          "text": [
            "<class 'pandas.core.frame.DataFrame'>\n",
            "RangeIndex: 4970 entries, 0 to 4969\n",
            "Data columns (total 13 columns):\n",
            " #   Column            Non-Null Count  Dtype  \n",
            "---  ------            --------------  -----  \n",
            " 0   poster            4970 non-null   object \n",
            " 1   title             4970 non-null   object \n",
            " 2   certificate       4970 non-null   object \n",
            " 3   runtime           4970 non-null   object \n",
            " 4   genre             4970 non-null   object \n",
            " 5   rating            4970 non-null   float64\n",
            " 6   about             4956 non-null   object \n",
            " 7   director          4970 non-null   object \n",
            " 8   stars             4970 non-null   object \n",
            " 9   votes             4970 non-null   object \n",
            " 10  gross_earn        4574 non-null   object \n",
            " 11  runtime_clear     4970 non-null   int64  \n",
            " 12  gross_earn_clear  4574 non-null   float64\n",
            "dtypes: float64(2), int64(1), object(10)\n",
            "memory usage: 504.9+ KB\n"
          ]
        }
      ]
    },
    {
      "cell_type": "markdown",
      "source": [
        "**Признаки, которые будут использованы для дальнейшего анализа:**"
      ],
      "metadata": {
        "id": "2uVZ_o9--met"
      }
    },
    {
      "cell_type": "markdown",
      "source": [
        "***Количественные признаки:***\n",
        "1.   Продолжительность фильма: runtime_clear\n",
        "2.   Доход с фильма: gross_earn_clear\n",
        "\n",
        "***Категориальные признаки:***\n",
        "1.   Наименование фильма: title\n",
        "2.   Класс фильма: certificate\n",
        "3.   Жанр фильма: genre\n",
        "4.   Рейтинг фильма: rating\n",
        "5.   Кинорежиссер: director\n",
        "6.   Актеры-звезды фильма: stars\n"
      ],
      "metadata": {
        "id": "__4ow2nerR2R"
      }
    },
    {
      "cell_type": "markdown",
      "source": [
        "## 5. Неграфический и графический анализ количественных признаков"
      ],
      "metadata": {
        "id": "Int1osF-mdy-"
      }
    },
    {
      "cell_type": "markdown",
      "source": [
        "Выполните неграфический и графический анализ количественных признаков"
      ],
      "metadata": {
        "id": "j5R6MgdIIpBb"
      }
    },
    {
      "cell_type": "markdown",
      "source": [
        "### *5.1. gross_earn_clear*"
      ],
      "metadata": {
        "id": "gp81b9DUrIEr"
      }
    },
    {
      "cell_type": "markdown",
      "source": [
        "Сохраните Series ['gross_earn_clear'] в переменную gross_earn"
      ],
      "metadata": {
        "id": "A-AUrPXC_h6p"
      }
    },
    {
      "cell_type": "code",
      "execution_count": 17,
      "metadata": {
        "id": "B4HhGwUOKCfU",
        "outputId": "0c382f46-1825-4c35-e6c1-f1a8783351e7",
        "colab": {
          "base_uri": "https://localhost:8080/"
        }
      },
      "outputs": [
        {
          "output_type": "execute_result",
          "data": {
            "text/plain": [
              "0        28\n",
              "1         0\n",
              "2       134\n",
              "3        57\n",
              "4        96\n",
              "       ... \n",
              "4965     10\n",
              "4966     14\n",
              "4967      0\n",
              "4968      4\n",
              "4969      9\n",
              "Name: gross_earn_clear, Length: 4970, dtype: Int64"
            ]
          },
          "metadata": {},
          "execution_count": 17
        }
      ],
      "source": [
        "gross_earn = dataset.gross_earn_clear.astype('Int64').fillna(0)\n",
        "gross_earn\n"
      ]
    },
    {
      "cell_type": "markdown",
      "source": [
        "Рассчитайте максимальное и минимальное значения доходов с фильмов с помощью методов max() и min() соответственно. Выведите значения на печать"
      ],
      "metadata": {
        "id": "gP-qOeh8AMLZ"
      }
    },
    {
      "cell_type": "code",
      "source": [
        "search_in('max', eda)"
      ],
      "metadata": {
        "id": "ND4IC-zGf1O6",
        "outputId": "884625b0-61cd-4fc1-e14e-90a6c9e95f52",
        "colab": {
          "base_uri": "https://localhost:8080/"
        }
      },
      "execution_count": 21,
      "outputs": [
        {
          "output_type": "stream",
          "name": "stdout",
          "text": [
            "************************************************************************************************************************************************************\n",
            "Расчет минимального и максимального значения Series\n",
            "max_value = year_of_construction.max()\n",
            "min_value = year_of_construction.min()\n",
            "print('Максимальный год постройки: ', max_value, 'Минимальный год постройки: ', min_value)\n",
            "------------------------------------------------------------------------------------------------------------------------------------------------------------\n",
            "Шаблон визуального анализа взаимосвязи категориальной и числовой колонок\n",
            "import seaborn as sns\n",
            "sns.boxplot(x='Класс жилья', y=\"Очищенная цена за м²\", data=dataset)\n",
            "plt.axis(ymin=0, ymax=1100000) \n",
            "plt.show()\n",
            "------------------------------------------------------------------------------------------------------------------------------------------------------------\n",
            "Для не числовых индексов все работает аналогично\n",
            "describe_data = dataset.describe()\n",
            "describe_data.loc['max']\n",
            "------------------------------------------------------------------------------------------------------------------------------------------------------------\n"
          ]
        }
      ]
    },
    {
      "cell_type": "code",
      "source": [
        "max_value = gross_earn.max()\n",
        "min_value = gross_earn.min()\n",
        "print('Наибольший доход: ', max_value, 'Наименьший доход: ', min_value)"
      ],
      "metadata": {
        "id": "PhrGIpCboJqC",
        "outputId": "7896ff05-a3b8-4af7-d0d3-f85cd477eff8",
        "colab": {
          "base_uri": "https://localhost:8080/"
        }
      },
      "execution_count": 22,
      "outputs": [
        {
          "output_type": "stream",
          "name": "stdout",
          "text": [
            "Наибольший доход:  936 Наименьший доход:  0\n"
          ]
        }
      ]
    },
    {
      "cell_type": "markdown",
      "source": [
        "Рассмотрите наблюдения, у которых значение по признаку gross_earn равно 0.0"
      ],
      "metadata": {
        "id": "ttYZso-zBLZJ"
      }
    },
    {
      "cell_type": "code",
      "source": [
        "dataset[dataset['gross_earn_clear']==0.0]"
      ],
      "metadata": {
        "id": "699S3eY8xjDf",
        "outputId": "4ff8ccb3-e04f-4ef1-eac1-7419081d7828",
        "colab": {
          "base_uri": "https://localhost:8080/",
          "height": 1000
        }
      },
      "execution_count": 23,
      "outputs": [
        {
          "output_type": "execute_result",
          "data": {
            "text/plain": [
              "                                                 poster  \\\n",
              "22    https://m.media-amazon.com/images/S/sash/4Fyxw...   \n",
              "32    https://m.media-amazon.com/images/S/sash/4Fyxw...   \n",
              "39    https://m.media-amazon.com/images/S/sash/4Fyxw...   \n",
              "40    https://m.media-amazon.com/images/S/sash/4Fyxw...   \n",
              "54    https://m.media-amazon.com/images/S/sash/4Fyxw...   \n",
              "...                                                 ...   \n",
              "4920  https://m.media-amazon.com/images/S/sash/4Fyxw...   \n",
              "4927  https://m.media-amazon.com/images/S/sash/4Fyxw...   \n",
              "4931  https://m.media-amazon.com/images/S/sash/4Fyxw...   \n",
              "4940  https://m.media-amazon.com/images/S/sash/4Fyxw...   \n",
              "4967  https://m.media-amazon.com/images/S/sash/4Fyxw...   \n",
              "\n",
              "                                      title certificate  runtime  \\\n",
              "22                            Seven Samurai           A  207 min   \n",
              "32                             Modern Times           U   87 min   \n",
              "39                              City Lights           U   87 min   \n",
              "40                        The Best of Youth           R  366 min   \n",
              "54                       The Great Dictator           U  125 min   \n",
              "...                                     ...         ...      ...   \n",
              "4920  The Human Centipede 2 (Full Sequence)          18   91 min   \n",
              "4927                            Piranha 3DD          18   83 min   \n",
              "4931                               The Room          15   99 min   \n",
              "4940      Police Academy: Mission to Moscow          PG   83 min   \n",
              "4967                The Hottie & the Nottie         12A   91 min   \n",
              "\n",
              "                       genre  rating  \\\n",
              "22             Action, Drama     8.6   \n",
              "32    Comedy, Drama, Romance     8.5   \n",
              "39    Comedy, Drama, Romance     8.5   \n",
              "40            Drama, Romance     8.5   \n",
              "54        Comedy, Drama, War     8.4   \n",
              "...                      ...     ...   \n",
              "4920                  Horror     3.8   \n",
              "4927  Comedy, Horror, Sci-Fi     3.7   \n",
              "4931                   Drama     3.6   \n",
              "4940           Comedy, Crime     3.4   \n",
              "4967         Comedy, Romance     1.9   \n",
              "\n",
              "                                                  about  \\\n",
              "22    \"A veteran samurai, gathers six samurais to pr...   \n",
              "32    The Tramp struggles to live in modern industri...   \n",
              "39    With the aid of a wealthy erratic tippler, a d...   \n",
              "40    An Italian epic that follows the lives of two ...   \n",
              "54    Dictator Adenoid Hynkel tries to expand his em...   \n",
              "...                                                 ...   \n",
              "4920  Inspired by the fictional Dr. Heiter, disturbe...   \n",
              "4927  After the events at Lake Victoria, the pre-his...   \n",
              "4931  Johnny is a successful bank executive who live...   \n",
              "4940   The Russian government hires the veterans of the   \n",
              "4967  A woman agrees to go on a date with a man only...   \n",
              "\n",
              "                   director  \\\n",
              "22           Akira Kurosawa   \n",
              "32          Charles Chaplin   \n",
              "39          Charles Chaplin   \n",
              "40    Marco Tullio Giordana   \n",
              "54          Charles Chaplin   \n",
              "...                     ...   \n",
              "4920                Tom Six   \n",
              "4927           John Gulager   \n",
              "4931           Tommy Wiseau   \n",
              "4940            Alan Metter   \n",
              "4967             Tom Putnam   \n",
              "\n",
              "                                                  stars     votes gross_earn  \\\n",
              "22    ('Toshirô Mifune',), ('Takashi Shimura',), ('K...  3,42,516     $0.27M   \n",
              "32    ('Charles Chaplin',), ('Paulette Goddard',), (...  2,39,970     $0.16M   \n",
              "39    ('Charles Chaplin',), ('Virginia Cherrill',), ...  1,83,315     $0.02M   \n",
              "40    ('Luigi Lo Cascio',), ('Alessio Boni',), ('Jas...    22,025     $0.27M   \n",
              "54    ('Charles Chaplin',), ('Paulette Goddard',), (...  2,22,217     $0.29M   \n",
              "...                                                 ...       ...        ...   \n",
              "4920  ('Laurence R. Harvey',), ('Ashlynn Yennie',), ...    38,879     $0.12M   \n",
              "4927  ('Danielle Panabaker',), ('Ving Rhames',), ('D...    42,625     $0.38M   \n",
              "4931  ('Tommy Wiseau',), ('Juliette Danielle',), ('G...    89,077     $0.56M   \n",
              "4940  ('G.W. Bailey',), ('George Gaynes',), ('Michae...    34,038     $0.13M   \n",
              "4967  ('Paris Hilton',), ('Joel David Moore',), ('Ch...    38,334     $0.03M   \n",
              "\n",
              "      runtime_clear  gross_earn_clear  \n",
              "22              207               0.0  \n",
              "32               87               0.0  \n",
              "39               87               0.0  \n",
              "40              366               0.0  \n",
              "54              125               0.0  \n",
              "...             ...               ...  \n",
              "4920             91               0.0  \n",
              "4927             83               0.0  \n",
              "4931             99               0.0  \n",
              "4940             83               0.0  \n",
              "4967             91               0.0  \n",
              "\n",
              "[503 rows x 13 columns]"
            ],
            "text/html": [
              "\n",
              "  <div id=\"df-90905b36-05eb-40a0-ae1d-661c640fcb93\">\n",
              "    <div class=\"colab-df-container\">\n",
              "      <div>\n",
              "<style scoped>\n",
              "    .dataframe tbody tr th:only-of-type {\n",
              "        vertical-align: middle;\n",
              "    }\n",
              "\n",
              "    .dataframe tbody tr th {\n",
              "        vertical-align: top;\n",
              "    }\n",
              "\n",
              "    .dataframe thead th {\n",
              "        text-align: right;\n",
              "    }\n",
              "</style>\n",
              "<table border=\"1\" class=\"dataframe\">\n",
              "  <thead>\n",
              "    <tr style=\"text-align: right;\">\n",
              "      <th></th>\n",
              "      <th>poster</th>\n",
              "      <th>title</th>\n",
              "      <th>certificate</th>\n",
              "      <th>runtime</th>\n",
              "      <th>genre</th>\n",
              "      <th>rating</th>\n",
              "      <th>about</th>\n",
              "      <th>director</th>\n",
              "      <th>stars</th>\n",
              "      <th>votes</th>\n",
              "      <th>gross_earn</th>\n",
              "      <th>runtime_clear</th>\n",
              "      <th>gross_earn_clear</th>\n",
              "    </tr>\n",
              "  </thead>\n",
              "  <tbody>\n",
              "    <tr>\n",
              "      <th>22</th>\n",
              "      <td>https://m.media-amazon.com/images/S/sash/4Fyxw...</td>\n",
              "      <td>Seven Samurai</td>\n",
              "      <td>A</td>\n",
              "      <td>207 min</td>\n",
              "      <td>Action, Drama</td>\n",
              "      <td>8.6</td>\n",
              "      <td>\"A veteran samurai, gathers six samurais to pr...</td>\n",
              "      <td>Akira Kurosawa</td>\n",
              "      <td>('Toshirô Mifune',), ('Takashi Shimura',), ('K...</td>\n",
              "      <td>3,42,516</td>\n",
              "      <td>$0.27M</td>\n",
              "      <td>207</td>\n",
              "      <td>0.0</td>\n",
              "    </tr>\n",
              "    <tr>\n",
              "      <th>32</th>\n",
              "      <td>https://m.media-amazon.com/images/S/sash/4Fyxw...</td>\n",
              "      <td>Modern Times</td>\n",
              "      <td>U</td>\n",
              "      <td>87 min</td>\n",
              "      <td>Comedy, Drama, Romance</td>\n",
              "      <td>8.5</td>\n",
              "      <td>The Tramp struggles to live in modern industri...</td>\n",
              "      <td>Charles Chaplin</td>\n",
              "      <td>('Charles Chaplin',), ('Paulette Goddard',), (...</td>\n",
              "      <td>2,39,970</td>\n",
              "      <td>$0.16M</td>\n",
              "      <td>87</td>\n",
              "      <td>0.0</td>\n",
              "    </tr>\n",
              "    <tr>\n",
              "      <th>39</th>\n",
              "      <td>https://m.media-amazon.com/images/S/sash/4Fyxw...</td>\n",
              "      <td>City Lights</td>\n",
              "      <td>U</td>\n",
              "      <td>87 min</td>\n",
              "      <td>Comedy, Drama, Romance</td>\n",
              "      <td>8.5</td>\n",
              "      <td>With the aid of a wealthy erratic tippler, a d...</td>\n",
              "      <td>Charles Chaplin</td>\n",
              "      <td>('Charles Chaplin',), ('Virginia Cherrill',), ...</td>\n",
              "      <td>1,83,315</td>\n",
              "      <td>$0.02M</td>\n",
              "      <td>87</td>\n",
              "      <td>0.0</td>\n",
              "    </tr>\n",
              "    <tr>\n",
              "      <th>40</th>\n",
              "      <td>https://m.media-amazon.com/images/S/sash/4Fyxw...</td>\n",
              "      <td>The Best of Youth</td>\n",
              "      <td>R</td>\n",
              "      <td>366 min</td>\n",
              "      <td>Drama, Romance</td>\n",
              "      <td>8.5</td>\n",
              "      <td>An Italian epic that follows the lives of two ...</td>\n",
              "      <td>Marco Tullio Giordana</td>\n",
              "      <td>('Luigi Lo Cascio',), ('Alessio Boni',), ('Jas...</td>\n",
              "      <td>22,025</td>\n",
              "      <td>$0.27M</td>\n",
              "      <td>366</td>\n",
              "      <td>0.0</td>\n",
              "    </tr>\n",
              "    <tr>\n",
              "      <th>54</th>\n",
              "      <td>https://m.media-amazon.com/images/S/sash/4Fyxw...</td>\n",
              "      <td>The Great Dictator</td>\n",
              "      <td>U</td>\n",
              "      <td>125 min</td>\n",
              "      <td>Comedy, Drama, War</td>\n",
              "      <td>8.4</td>\n",
              "      <td>Dictator Adenoid Hynkel tries to expand his em...</td>\n",
              "      <td>Charles Chaplin</td>\n",
              "      <td>('Charles Chaplin',), ('Paulette Goddard',), (...</td>\n",
              "      <td>2,22,217</td>\n",
              "      <td>$0.29M</td>\n",
              "      <td>125</td>\n",
              "      <td>0.0</td>\n",
              "    </tr>\n",
              "    <tr>\n",
              "      <th>...</th>\n",
              "      <td>...</td>\n",
              "      <td>...</td>\n",
              "      <td>...</td>\n",
              "      <td>...</td>\n",
              "      <td>...</td>\n",
              "      <td>...</td>\n",
              "      <td>...</td>\n",
              "      <td>...</td>\n",
              "      <td>...</td>\n",
              "      <td>...</td>\n",
              "      <td>...</td>\n",
              "      <td>...</td>\n",
              "      <td>...</td>\n",
              "    </tr>\n",
              "    <tr>\n",
              "      <th>4920</th>\n",
              "      <td>https://m.media-amazon.com/images/S/sash/4Fyxw...</td>\n",
              "      <td>The Human Centipede 2 (Full Sequence)</td>\n",
              "      <td>18</td>\n",
              "      <td>91 min</td>\n",
              "      <td>Horror</td>\n",
              "      <td>3.8</td>\n",
              "      <td>Inspired by the fictional Dr. Heiter, disturbe...</td>\n",
              "      <td>Tom Six</td>\n",
              "      <td>('Laurence R. Harvey',), ('Ashlynn Yennie',), ...</td>\n",
              "      <td>38,879</td>\n",
              "      <td>$0.12M</td>\n",
              "      <td>91</td>\n",
              "      <td>0.0</td>\n",
              "    </tr>\n",
              "    <tr>\n",
              "      <th>4927</th>\n",
              "      <td>https://m.media-amazon.com/images/S/sash/4Fyxw...</td>\n",
              "      <td>Piranha 3DD</td>\n",
              "      <td>18</td>\n",
              "      <td>83 min</td>\n",
              "      <td>Comedy, Horror, Sci-Fi</td>\n",
              "      <td>3.7</td>\n",
              "      <td>After the events at Lake Victoria, the pre-his...</td>\n",
              "      <td>John Gulager</td>\n",
              "      <td>('Danielle Panabaker',), ('Ving Rhames',), ('D...</td>\n",
              "      <td>42,625</td>\n",
              "      <td>$0.38M</td>\n",
              "      <td>83</td>\n",
              "      <td>0.0</td>\n",
              "    </tr>\n",
              "    <tr>\n",
              "      <th>4931</th>\n",
              "      <td>https://m.media-amazon.com/images/S/sash/4Fyxw...</td>\n",
              "      <td>The Room</td>\n",
              "      <td>15</td>\n",
              "      <td>99 min</td>\n",
              "      <td>Drama</td>\n",
              "      <td>3.6</td>\n",
              "      <td>Johnny is a successful bank executive who live...</td>\n",
              "      <td>Tommy Wiseau</td>\n",
              "      <td>('Tommy Wiseau',), ('Juliette Danielle',), ('G...</td>\n",
              "      <td>89,077</td>\n",
              "      <td>$0.56M</td>\n",
              "      <td>99</td>\n",
              "      <td>0.0</td>\n",
              "    </tr>\n",
              "    <tr>\n",
              "      <th>4940</th>\n",
              "      <td>https://m.media-amazon.com/images/S/sash/4Fyxw...</td>\n",
              "      <td>Police Academy: Mission to Moscow</td>\n",
              "      <td>PG</td>\n",
              "      <td>83 min</td>\n",
              "      <td>Comedy, Crime</td>\n",
              "      <td>3.4</td>\n",
              "      <td>The Russian government hires the veterans of the</td>\n",
              "      <td>Alan Metter</td>\n",
              "      <td>('G.W. Bailey',), ('George Gaynes',), ('Michae...</td>\n",
              "      <td>34,038</td>\n",
              "      <td>$0.13M</td>\n",
              "      <td>83</td>\n",
              "      <td>0.0</td>\n",
              "    </tr>\n",
              "    <tr>\n",
              "      <th>4967</th>\n",
              "      <td>https://m.media-amazon.com/images/S/sash/4Fyxw...</td>\n",
              "      <td>The Hottie &amp; the Nottie</td>\n",
              "      <td>12A</td>\n",
              "      <td>91 min</td>\n",
              "      <td>Comedy, Romance</td>\n",
              "      <td>1.9</td>\n",
              "      <td>A woman agrees to go on a date with a man only...</td>\n",
              "      <td>Tom Putnam</td>\n",
              "      <td>('Paris Hilton',), ('Joel David Moore',), ('Ch...</td>\n",
              "      <td>38,334</td>\n",
              "      <td>$0.03M</td>\n",
              "      <td>91</td>\n",
              "      <td>0.0</td>\n",
              "    </tr>\n",
              "  </tbody>\n",
              "</table>\n",
              "<p>503 rows × 13 columns</p>\n",
              "</div>\n",
              "      <button class=\"colab-df-convert\" onclick=\"convertToInteractive('df-90905b36-05eb-40a0-ae1d-661c640fcb93')\"\n",
              "              title=\"Convert this dataframe to an interactive table.\"\n",
              "              style=\"display:none;\">\n",
              "        \n",
              "  <svg xmlns=\"http://www.w3.org/2000/svg\" height=\"24px\"viewBox=\"0 0 24 24\"\n",
              "       width=\"24px\">\n",
              "    <path d=\"M0 0h24v24H0V0z\" fill=\"none\"/>\n",
              "    <path d=\"M18.56 5.44l.94 2.06.94-2.06 2.06-.94-2.06-.94-.94-2.06-.94 2.06-2.06.94zm-11 1L8.5 8.5l.94-2.06 2.06-.94-2.06-.94L8.5 2.5l-.94 2.06-2.06.94zm10 10l.94 2.06.94-2.06 2.06-.94-2.06-.94-.94-2.06-.94 2.06-2.06.94z\"/><path d=\"M17.41 7.96l-1.37-1.37c-.4-.4-.92-.59-1.43-.59-.52 0-1.04.2-1.43.59L10.3 9.45l-7.72 7.72c-.78.78-.78 2.05 0 2.83L4 21.41c.39.39.9.59 1.41.59.51 0 1.02-.2 1.41-.59l7.78-7.78 2.81-2.81c.8-.78.8-2.07 0-2.86zM5.41 20L4 18.59l7.72-7.72 1.47 1.35L5.41 20z\"/>\n",
              "  </svg>\n",
              "      </button>\n",
              "      \n",
              "  <style>\n",
              "    .colab-df-container {\n",
              "      display:flex;\n",
              "      flex-wrap:wrap;\n",
              "      gap: 12px;\n",
              "    }\n",
              "\n",
              "    .colab-df-convert {\n",
              "      background-color: #E8F0FE;\n",
              "      border: none;\n",
              "      border-radius: 50%;\n",
              "      cursor: pointer;\n",
              "      display: none;\n",
              "      fill: #1967D2;\n",
              "      height: 32px;\n",
              "      padding: 0 0 0 0;\n",
              "      width: 32px;\n",
              "    }\n",
              "\n",
              "    .colab-df-convert:hover {\n",
              "      background-color: #E2EBFA;\n",
              "      box-shadow: 0px 1px 2px rgba(60, 64, 67, 0.3), 0px 1px 3px 1px rgba(60, 64, 67, 0.15);\n",
              "      fill: #174EA6;\n",
              "    }\n",
              "\n",
              "    [theme=dark] .colab-df-convert {\n",
              "      background-color: #3B4455;\n",
              "      fill: #D2E3FC;\n",
              "    }\n",
              "\n",
              "    [theme=dark] .colab-df-convert:hover {\n",
              "      background-color: #434B5C;\n",
              "      box-shadow: 0px 1px 3px 1px rgba(0, 0, 0, 0.15);\n",
              "      filter: drop-shadow(0px 1px 2px rgba(0, 0, 0, 0.3));\n",
              "      fill: #FFFFFF;\n",
              "    }\n",
              "  </style>\n",
              "\n",
              "      <script>\n",
              "        const buttonEl =\n",
              "          document.querySelector('#df-90905b36-05eb-40a0-ae1d-661c640fcb93 button.colab-df-convert');\n",
              "        buttonEl.style.display =\n",
              "          google.colab.kernel.accessAllowed ? 'block' : 'none';\n",
              "\n",
              "        async function convertToInteractive(key) {\n",
              "          const element = document.querySelector('#df-90905b36-05eb-40a0-ae1d-661c640fcb93');\n",
              "          const dataTable =\n",
              "            await google.colab.kernel.invokeFunction('convertToInteractive',\n",
              "                                                     [key], {});\n",
              "          if (!dataTable) return;\n",
              "\n",
              "          const docLinkHtml = 'Like what you see? Visit the ' +\n",
              "            '<a target=\"_blank\" href=https://colab.research.google.com/notebooks/data_table.ipynb>data table notebook</a>'\n",
              "            + ' to learn more about interactive tables.';\n",
              "          element.innerHTML = '';\n",
              "          dataTable['output_type'] = 'display_data';\n",
              "          await google.colab.output.renderOutput(dataTable, element);\n",
              "          const docLink = document.createElement('div');\n",
              "          docLink.innerHTML = docLinkHtml;\n",
              "          element.appendChild(docLink);\n",
              "        }\n",
              "      </script>\n",
              "    </div>\n",
              "  </div>\n",
              "  "
            ]
          },
          "metadata": {},
          "execution_count": 23
        }
      ]
    },
    {
      "cell_type": "markdown",
      "source": [
        "Таких значений не так много. Можно их исключить из анализа. Перезапишите переменную gross_earn, исключив нулевые значения"
      ],
      "metadata": {
        "id": "hX1VqqvnCJ-p"
      }
    },
    {
      "cell_type": "code",
      "source": [
        "gross_earn = dataset[dataset['gross_earn_clear']!=0.0]['gross_earn_clear']"
      ],
      "metadata": {
        "id": "nRZYZy3yxzKd"
      },
      "execution_count": 24,
      "outputs": []
    },
    {
      "cell_type": "markdown",
      "source": [
        "Снова рассчитайте максимальное и минимальное значения доходов с фильмов. Выведите значения на печать"
      ],
      "metadata": {
        "id": "-lYIPwUQCW9Z"
      }
    },
    {
      "cell_type": "code",
      "source": [
        "max_value = gross_earn.max()\n",
        "min_value = gross_earn.min()\n",
        "print('Наибольший доход: ', max_value, 'Наименьший доход: ', min_value)"
      ],
      "metadata": {
        "id": "fS18XeD5yCtO",
        "outputId": "8dea9556-1f5b-4f30-f52b-cd46a8d63f80",
        "colab": {
          "base_uri": "https://localhost:8080/"
        }
      },
      "execution_count": 25,
      "outputs": [
        {
          "output_type": "stream",
          "name": "stdout",
          "text": [
            "Наибольший доход:  936.0 Наименьший доход:  1.0\n"
          ]
        }
      ]
    },
    {
      "cell_type": "markdown",
      "source": [
        "Рассчитайте среднее значение признака с помощью метода mean(). Выведите значение на печать"
      ],
      "metadata": {
        "id": "mLZQjrseCkhy"
      }
    },
    {
      "cell_type": "code",
      "source": [
        "mean_value = gross_earn.mean()\n",
        "print('Средний доход с фильма: ', mean_value)"
      ],
      "metadata": {
        "id": "v1_BDPsjxiS8",
        "outputId": "4e11a7bd-d93a-412a-b65f-7cda5e5e1640",
        "colab": {
          "base_uri": "https://localhost:8080/"
        }
      },
      "execution_count": 26,
      "outputs": [
        {
          "output_type": "stream",
          "name": "stdout",
          "text": [
            "Средний доход с фильма:  54.46032915745517\n"
          ]
        }
      ]
    },
    {
      "cell_type": "markdown",
      "source": [
        "Рассчитайте медианное значение признака с помощью метода median(). Выведите значение на печать"
      ],
      "metadata": {
        "id": "wup-6vVTC25L"
      }
    },
    {
      "cell_type": "code",
      "source": [
        "median_value = gross_earn.median()\n",
        "print('Медиана доходов фильмов: ', median_value)"
      ],
      "metadata": {
        "id": "oBSj2wGxyX0L",
        "outputId": "45ed0419-6130-40c4-9e9e-1a58ea87af99",
        "colab": {
          "base_uri": "https://localhost:8080/"
        }
      },
      "execution_count": 27,
      "outputs": [
        {
          "output_type": "stream",
          "name": "stdout",
          "text": [
            "Медиана доходов фильмов:  33.0\n"
          ]
        }
      ]
    },
    {
      "cell_type": "markdown",
      "source": [
        "Рассчитайте процентили (10, 25, 50, 75, 90) с помощью метода quantile(). Выведите значения на печать"
      ],
      "metadata": {
        "id": "t_2Bp1tHDdSt"
      }
    },
    {
      "cell_type": "code",
      "source": [
        "search_in('quantile', eda)"
      ],
      "metadata": {
        "id": "V-5eDbZsi9x6",
        "outputId": "56aa1d78-7d32-4045-ada8-a65a43738bfc",
        "colab": {
          "base_uri": "https://localhost:8080/"
        }
      },
      "execution_count": 30,
      "outputs": [
        {
          "output_type": "stream",
          "name": "stdout",
          "text": [
            "************************************************************************************************************************************************************\n",
            "Расчет 10-го и 25-го процентилей Series\n",
            "percentile_10_value = year_of_construction.quantile(0.10)\n",
            "percentile_25_value = year_of_construction.quantile(0.25)\n",
            "print('10-й процентиль года постройки: ', percentile_10_value)\n",
            "print('25-й процентиль года постройки: ', percentile_25_value)\n",
            "------------------------------------------------------------------------------------------------------------------------------------------------------------\n"
          ]
        }
      ]
    },
    {
      "cell_type": "code",
      "source": [
        "percentile_10_value = gross_earn.quantile(0.10)\n",
        "percentile_25_value = gross_earn.quantile(0.25)\n",
        "percentile_50_value = gross_earn.quantile(0.50)\n",
        "percentile_75_value = gross_earn.quantile(0.75)\n",
        "percentile_90_value = gross_earn.quantile(0.90)\n",
        "print('10-й процентиль доходов фильмов: ', percentile_10_value)\n",
        "print('25-й процентиль доходов фильмов: ', percentile_25_value)\n",
        "print('50-й процентиль доходов фильмов: ', percentile_50_value)\n",
        "print('75-й процентиль доходов фильмов: ', percentile_75_value)\n",
        "print('90-й процентиль доходов фильмов: ', percentile_90_value)"
      ],
      "metadata": {
        "id": "LNnm7ro_ysyw",
        "outputId": "293462d2-3fdb-4f9b-a36a-a777ea56a6f3",
        "colab": {
          "base_uri": "https://localhost:8080/"
        }
      },
      "execution_count": 32,
      "outputs": [
        {
          "output_type": "stream",
          "name": "stdout",
          "text": [
            "10-й процентиль доходов фильмов:  4.0\n",
            "25-й процентиль доходов фильмов:  12.0\n",
            "50-й процентиль доходов фильмов:  33.0\n",
            "75-й процентиль доходов фильмов:  69.0\n",
            "90-й процентиль доходов фильмов:  128.0\n"
          ]
        }
      ]
    },
    {
      "cell_type": "markdown",
      "source": [
        "Выведите показатели описательной статистики с помощью метода describe()"
      ],
      "metadata": {
        "id": "rVjnu8uZDwtk"
      }
    },
    {
      "cell_type": "code",
      "source": [
        "gross_earn.describe()"
      ],
      "metadata": {
        "id": "fXB8sBrgy_Wz",
        "outputId": "64ff7155-269e-4a1e-e356-970f14f9e8d0",
        "colab": {
          "base_uri": "https://localhost:8080/"
        }
      },
      "execution_count": 33,
      "outputs": [
        {
          "output_type": "execute_result",
          "data": {
            "text/plain": [
              "count    4071.000000\n",
              "mean       54.460329\n",
              "std        68.800112\n",
              "min         1.000000\n",
              "25%        12.000000\n",
              "50%        33.000000\n",
              "75%        69.000000\n",
              "max       936.000000\n",
              "Name: gross_earn_clear, dtype: float64"
            ]
          },
          "metadata": {},
          "execution_count": 33
        }
      ]
    },
    {
      "cell_type": "markdown",
      "source": [
        "Импортируйте библиотеку matplotlib с расширением pyplot, присвоив короткое название plt"
      ],
      "metadata": {
        "id": "TGpjqtQzD3ny"
      }
    },
    {
      "cell_type": "code",
      "source": [
        "import matplotlib.pyplot as plt\n"
      ],
      "metadata": {
        "id": "Tc4nmgTIzjMP"
      },
      "execution_count": 34,
      "outputs": []
    },
    {
      "cell_type": "markdown",
      "source": [
        "Постройте диаграмму \"ящик с усами\" с помощью метода boxplot()"
      ],
      "metadata": {
        "id": "Jjtqcv4vEQR2"
      }
    },
    {
      "cell_type": "code",
      "source": [
        "plt.boxplot(gross_earn)\n",
        "plt.show()"
      ],
      "metadata": {
        "id": "RXsW4eVYzkpd",
        "outputId": "311002a9-7718-446b-f17e-43ff83a81b95",
        "colab": {
          "base_uri": "https://localhost:8080/",
          "height": 430
        }
      },
      "execution_count": 38,
      "outputs": [
        {
          "output_type": "display_data",
          "data": {
            "text/plain": [
              "<Figure size 640x480 with 1 Axes>"
            ],
            "image/png": "[encoded data removed]"
          },
          "metadata": {}
        }
      ]
    },
    {
      "cell_type": "markdown",
      "source": [
        "Диаграмма пустая. Попробуйте построить гистограмму с помощью метода hist(), чтобы понять, в чем может быть причина"
      ],
      "metadata": {
        "id": "6zPujIlgEXKq"
      }
    },
    {
      "cell_type": "code",
      "source": [
        "plt.hist(gross_earn)\n",
        "plt.show()"
      ],
      "metadata": {
        "id": "lJ6L8Uzyz9bu",
        "outputId": "eda2f5ac-1752-46b5-8715-732efbd7f8b3",
        "colab": {
          "base_uri": "https://localhost:8080/",
          "height": 430
        }
      },
      "execution_count": 39,
      "outputs": [
        {
          "output_type": "display_data",
          "data": {
            "text/plain": [
              "<Figure size 640x480 with 1 Axes>"
            ],
            "image/png": "[encoded data removed]"
          },
          "metadata": {}
        }
      ]
    },
    {
      "cell_type": "markdown",
      "source": [
        "Гистограмма показывает, на достаточно большой размах в данных, что подтверждается и показателями описательной статистики (min и max). Ограничьте графический анализ 10 процентилем снизу и 90 процентилем сверху, тем самым обработав часть выбросов, и заново постройте \"ящик с усами\""
      ],
      "metadata": {
        "id": "nXkkSyFJE8Yz"
      }
    },
    {
      "cell_type": "code",
      "source": [
        "gross_earn_2 = dataset[\n",
        "    (dataset['gross_earn_clear']>=percentile_10_value)&\n",
        "    (dataset['gross_earn_clear']<=percentile_90_value)]['gross_earn_clear']"
      ],
      "metadata": {
        "id": "dh7enkUZ0IpG"
      },
      "execution_count": 40,
      "outputs": []
    },
    {
      "cell_type": "code",
      "source": [
        "plt.boxplot(gross_earn_2)\n",
        "plt.show()"
      ],
      "metadata": {
        "id": "-oFqo8Ni0uYE",
        "outputId": "8fed7c75-0aa2-45aa-9337-3f0dac7de03f",
        "colab": {
          "base_uri": "https://localhost:8080/",
          "height": 430
        }
      },
      "execution_count": 41,
      "outputs": [
        {
          "output_type": "display_data",
          "data": {
            "text/plain": [
              "<Figure size 640x480 with 1 Axes>"
            ],
            "image/png": "[encoded data removed]"
          },
          "metadata": {}
        }
      ]
    },
    {
      "cell_type": "markdown",
      "source": [
        "Также, заново постройте гистограмму, при этом передав в нее параметр bins=20 для лучшей визуализации"
      ],
      "metadata": {
        "id": "W4BiWtUjFrfY"
      }
    },
    {
      "cell_type": "code",
      "source": [
        "plt.hist(gross_earn_2)\n",
        "plt.show()"
      ],
      "metadata": {
        "id": "6AXohvCX1U1L",
        "outputId": "e4bd6d7c-ee40-4239-820e-2d8c12ee6de8",
        "colab": {
          "base_uri": "https://localhost:8080/",
          "height": 430
        }
      },
      "execution_count": 42,
      "outputs": [
        {
          "output_type": "display_data",
          "data": {
            "text/plain": [
              "<Figure size 640x480 with 1 Axes>"
            ],
            "image/png": "[encoded data removed]"
          },
          "metadata": {}
        }
      ]
    },
    {
      "cell_type": "markdown",
      "source": [
        "**Выводы:**"
      ],
      "metadata": {
        "id": "FyBbr2UJF6tx"
      }
    },
    {
      "cell_type": "markdown",
      "source": [
        "Напишите выводы по разделу:\n",
        "1.   О максимальных и минимальных значениях признака (оцените размах значений).\n",
        "2.   О нулевых значениях (их наличие, нужна ли предобработка).\n",
        "3.   О средних величинах (среднее, медиана, их отличия, возможные причины).\n",
        "4.   О процентилях (сколько процентов данных не превышают то или иное значение).\n",
        "5.   О результатах графического анализа (необходимость исключения выбросов, что показывает \"ящик с усами\", что показывает гистограмма)."
      ],
      "metadata": {
        "id": "tuzkA-OkGOFZ"
      }
    },
    {
      "cell_type": "markdown",
      "source": [
        "### **5.2. runtime_clear*"
      ],
      "metadata": {
        "id": "a0otq-lsrRQn"
      }
    },
    {
      "cell_type": "markdown",
      "source": [
        "По аналогии проанализируйте продолжительность фильмов"
      ],
      "metadata": {
        "id": "9j_RJKTa3JRk"
      }
    },
    {
      "cell_type": "code",
      "source": [],
      "metadata": {
        "id": "-6ffVMnt3Tul"
      },
      "execution_count": null,
      "outputs": []
    },
    {
      "cell_type": "markdown",
      "source": [
        "## 6. Неграфический и графический анализ категориальных признаков"
      ],
      "metadata": {
        "id": "Bd-m3BJcz06-"
      }
    },
    {
      "cell_type": "markdown",
      "source": [
        "Выполните неграфический и графический анализ категориальных признаков"
      ],
      "metadata": {
        "id": "JTCeHrjaIyOf"
      }
    },
    {
      "cell_type": "markdown",
      "source": [
        "### *6.1. certificate*"
      ],
      "metadata": {
        "id": "G72XgMKN3z4r"
      }
    },
    {
      "cell_type": "markdown",
      "source": [
        "Описание классификации [the British Board of Film Classification (BBFC)]( https://www.bbfc.co.uk/about-classification/classification-guidelines)"
      ],
      "metadata": {
        "id": "BHNgbMGy6W0e"
      }
    },
    {
      "cell_type": "markdown",
      "source": [
        "Оцените описательные статистики признака с помощью метода describe()"
      ],
      "metadata": {
        "id": "HztDdP-wJwTa"
      }
    },
    {
      "cell_type": "code",
      "source": [
        "dataset['certificate'].describe()"
      ],
      "metadata": {
        "id": "fzDbQl9L3v8r",
        "outputId": "a3285f78-8f6b-41af-c08e-86b07391a5c0",
        "colab": {
          "base_uri": "https://localhost:8080/"
        }
      },
      "execution_count": 43,
      "outputs": [
        {
          "output_type": "execute_result",
          "data": {
            "text/plain": [
              "count     4970\n",
              "unique      15\n",
              "top         15\n",
              "freq      1843\n",
              "Name: certificate, dtype: object"
            ]
          },
          "metadata": {},
          "execution_count": 43
        }
      ]
    },
    {
      "cell_type": "markdown",
      "source": [
        "Изучите уникальные значения признака, получив их с помощью метода unique()"
      ],
      "metadata": {
        "id": "2E0Vjd1bKDYq"
      }
    },
    {
      "cell_type": "code",
      "source": [
        "dataset['certificate'].unique()"
      ],
      "metadata": {
        "id": "h1VKyXTz4FHp",
        "outputId": "789b73ab-1176-4af7-9d30-0a4ed5b8ffba",
        "colab": {
          "base_uri": "https://localhost:8080/"
        }
      },
      "execution_count": 44,
      "outputs": [
        {
          "output_type": "execute_result",
          "data": {
            "text/plain": [
              "array(['15', '12A', 'X', 'U', '18', 'PG', '12', 'A', 'AA', 'R',\n",
              "       'Not Rated', 'Rejected', 'UA', 'PG-13', '(Banned)'], dtype=object)"
            ]
          },
          "metadata": {},
          "execution_count": 44
        }
      ]
    },
    {
      "cell_type": "markdown",
      "source": [
        "Проведите неграфический структурный анализ с помощью метода value_counts()"
      ],
      "metadata": {
        "id": "qX6CEMd3KOVO"
      }
    },
    {
      "cell_type": "code",
      "source": [
        "dataset['certificate'].value_counts()"
      ],
      "metadata": {
        "id": "CEzE2x684f_-",
        "outputId": "4d7dfde4-458b-44ec-949c-451cf10c052b",
        "colab": {
          "base_uri": "https://localhost:8080/"
        }
      },
      "execution_count": 45,
      "outputs": [
        {
          "output_type": "execute_result",
          "data": {
            "text/plain": [
              "15           1843\n",
              "12A           788\n",
              "18            659\n",
              "PG            614\n",
              "U             362\n",
              "12            278\n",
              "A             186\n",
              "X             134\n",
              "AA             59\n",
              "R              12\n",
              "UA             11\n",
              "PG-13          11\n",
              "Not Rated       7\n",
              "Rejected        5\n",
              "(Banned)        1\n",
              "Name: certificate, dtype: int64"
            ]
          },
          "metadata": {},
          "execution_count": 45
        }
      ]
    },
    {
      "cell_type": "markdown",
      "source": [
        "Сохраните результаты работы метода value_counts() в переменную certificate_counts, отсортировав значения с помощью метода sort_values(), передав в него параметр (ascending=True) (это необходимо для того, чтобы впоследствии столбчатая диаграмма сортировала значения сверху вниз: наибольшее - сверху, наименьшее - снизу)"
      ],
      "metadata": {
        "id": "sdcRPmbeJBPE"
      }
    },
    {
      "cell_type": "code",
      "source": [
        "certificate_counts = dataset['certificate'].value_counts().sort_values(ascending=True)"
      ],
      "metadata": {
        "id": "MkWmN2x64pGH"
      },
      "execution_count": 46,
      "outputs": []
    },
    {
      "cell_type": "markdown",
      "source": [
        "Постройте горизонтальную столбчатую диаграмму с помощью метода barh()"
      ],
      "metadata": {
        "id": "-VrpUZ9OLvvX"
      }
    },
    {
      "cell_type": "code",
      "source": [
        "search_in('barh', eda)"
      ],
      "metadata": {
        "id": "JvAomOFqoQo9",
        "outputId": "ff97e711-6589-4ef3-dad9-418eb6c19ca9",
        "colab": {
          "base_uri": "https://localhost:8080/"
        }
      },
      "execution_count": 50,
      "outputs": [
        {
          "output_type": "stream",
          "name": "stdout",
          "text": [
            "************************************************************************************************************************************************************\n",
            "Стобцевая диаграмма\n",
            "type_counts = dataset['Тип здания'].value_counts()\n",
            "plt.barh(type_counts.index, type_counts.values)\n",
            "plt.title('Столбцовая диаграмма распределения типов здания')\n",
            "plt.show()\n",
            "------------------------------------------------------------------------------------------------------------------------------------------------------------\n"
          ]
        }
      ]
    },
    {
      "cell_type": "code",
      "source": [
        "plt.barh(certificate_counts.index, certificate_counts.values)\n",
        "plt.title('Столбчатая диаграмма распределения фильмов по классам')\n",
        "plt.show()"
      ],
      "metadata": {
        "id": "a89EKFRN45CL",
        "outputId": "640cb525-4484-4116-df3f-b4b872802984",
        "colab": {
          "base_uri": "https://localhost:8080/",
          "height": 452
        }
      },
      "execution_count": 51,
      "outputs": [
        {
          "output_type": "display_data",
          "data": {
            "text/plain": [
              "<Figure size 640x480 with 1 Axes>"
            ],
            "image/png": "[encoded data removed]"
          },
          "metadata": {}
        }
      ]
    },
    {
      "cell_type": "markdown",
      "source": [
        "Выделите топ-5 классов, по которым больше всего фильмов и сохраните результат в переменную certificate_counts_top_5"
      ],
      "metadata": {
        "id": "4oIlstb9MdOv"
      }
    },
    {
      "cell_type": "code",
      "source": [
        "certificate_counts_top_5 = dataset['certificate'].value_counts()[:5]\n"
      ],
      "metadata": {
        "id": "S1q_T3eg55bz"
      },
      "execution_count": 53,
      "outputs": []
    },
    {
      "cell_type": "markdown",
      "source": [
        "Постройте круговую диаграмму с помощью метода pie(), добавив подписи данных с помощью параметра labels и подписи значений с помощью параметра autopct='%.1f' (проценты с одним знаком после запятой)"
      ],
      "metadata": {
        "id": "qyYaxnZLNS2a"
      }
    },
    {
      "cell_type": "markdown",
      "source": [
        "P.s. При анализе категориальных признаков если категорий не больше 5, то предпочтительна круговая диаграмма, в ином случае - столбчатая"
      ],
      "metadata": {
        "id": "_ACRmIV7MrUB"
      }
    },
    {
      "cell_type": "code",
      "source": [
        "search_in('pie', eda)"
      ],
      "metadata": {
        "id": "t84IX75ErMKB",
        "outputId": "2b7294a5-f98b-4d09-d977-297f564e83e3",
        "colab": {
          "base_uri": "https://localhost:8080/"
        }
      },
      "execution_count": 54,
      "outputs": [
        {
          "output_type": "stream",
          "name": "stdout",
          "text": [
            "************************************************************************************************************************************************************\n",
            "Круговая диаграмма\n",
            "plt.pie(class_counts.values, labels = class_counts.index)\n",
            "plt.title('Круговая диаграмма распределения классов квартир') # Добавление подписи к графику\n",
            "plt.show()\n",
            "------------------------------------------------------------------------------------------------------------------------------------------------------------\n",
            "Шаблона анализа взаимосвязи двух категориальных колонок\n",
            "import matplotlib.pyplot as plt\n",
            "flat_types = dataset['Класс жилья'].unique()\n",
            "flat_types = flat_types[1:]\n",
            "labels = dataset['Тип здания'].unique()\n",
            "colors = dict(zip(labels, plt.cm.tab20.colors[:len(labels)]))\n",
            "for flat_type in flat_types: \n",
            "  df = dataset[dataset['Класс жилья']==flat_type] \n",
            "  class_counts = df['Тип здания'].value_counts()\n",
            "  labels =class_counts.index\n",
            "  plt.title(flat_type)\n",
            "  patches, texts = plt.pie(\n",
            "      class_counts.values, \n",
            "      labels = labels, \n",
            "      colors = [colors[key] for key in labels],\n",
            "      textprops=dict(color=\"w\")\n",
            "      )\n",
            "  plt.legend(patches, labels, title=\"Типы здания\", loc=\"upper center\", bbox_to_anchor=(1, 0, 0.5, 1)) \n",
            "  plt.show()\n",
            "------------------------------------------------------------------------------------------------------------------------------------------------------------\n"
          ]
        }
      ]
    },
    {
      "cell_type": "code",
      "source": [
        "plt.pie(certificate_counts_top_5.values, labels = certificate_counts_top_5.index)\n",
        "plt.title('Круговая диаграмма распределения фильмов по классам')\n",
        "plt.show()"
      ],
      "metadata": {
        "id": "SNv_tBO56CiB",
        "outputId": "f3b4274a-62de-4afd-912c-cc11c8d2d7bc",
        "colab": {
          "base_uri": "https://localhost:8080/",
          "height": 428
        }
      },
      "execution_count": 55,
      "outputs": [
        {
          "output_type": "display_data",
          "data": {
            "text/plain": [
              "<Figure size 640x480 with 1 Axes>"
            ],
            "image/png": "[encoded data removed]"
          },
          "metadata": {}
        }
      ]
    },
    {
      "cell_type": "code",
      "source": [],
      "metadata": {
        "id": "y67ZWynvrc8-"
      },
      "execution_count": null,
      "outputs": []
    },
    {
      "cell_type": "markdown",
      "source": [
        "**Выводы:**"
      ],
      "metadata": {
        "id": "XNoGquMQNV3J"
      }
    },
    {
      "cell_type": "markdown",
      "source": [
        "Напишите выводы по разделу:\n",
        "1.   О количестве уникальных значений признака.\n",
        "2.   О наиболее часто встречаемом значении признака (что за значение, сколько раз встретилось).\n",
        "3.   О распределении значений признака (наиболее встречаемые, наименее встречаемые).\n",
        "4.   О результатах графического анализа определенного топ признака (что показывает столбчатая и круговая диаграммы)."
      ],
      "metadata": {
        "id": "gDA5_feeNaZ5"
      }
    },
    {
      "cell_type": "markdown",
      "source": [
        "### **6.2. rating*"
      ],
      "metadata": {
        "id": "iCDnHqZx5a3Z"
      }
    },
    {
      "cell_type": "markdown",
      "source": [
        "По аналогии проанализируйте рейтинг фильмов"
      ],
      "metadata": {
        "id": "apwwDOPG5kh6"
      }
    },
    {
      "cell_type": "code",
      "source": [],
      "metadata": {
        "id": "blRZya-Z5qHT"
      },
      "execution_count": null,
      "outputs": []
    },
    {
      "cell_type": "markdown",
      "source": [
        "### **6.3. director*"
      ],
      "metadata": {
        "id": "ZPdmKyqs5tfc"
      }
    },
    {
      "cell_type": "markdown",
      "source": [
        "По аналогии проанализируйте кинорежиссеров\n",
        "\n",
        "---\n",
        "\n"
      ],
      "metadata": {
        "id": "QjeVUwr25tfd"
      }
    },
    {
      "cell_type": "code",
      "source": [],
      "metadata": {
        "id": "dLeXM-EC5tfe"
      },
      "execution_count": null,
      "outputs": []
    },
    {
      "cell_type": "markdown",
      "source": [
        "## 7. Анализ взаимосвязи двух количественных признаков"
      ],
      "metadata": {
        "id": "vAJp76vN0gTL"
      }
    },
    {
      "cell_type": "markdown",
      "source": [
        "Выполните анализ взаимосвязи двух количественных признаков"
      ],
      "metadata": {
        "id": "xTmCEKbYr-g2"
      }
    },
    {
      "cell_type": "markdown",
      "source": [
        "### *7.1. runtime_clear - gross_earn_clear*"
      ],
      "metadata": {
        "id": "Wrf6bVeHVKBW"
      }
    },
    {
      "cell_type": "markdown",
      "source": [
        "Импортируйте библиотеку seaborn и присвойте ей короткое название sns"
      ],
      "metadata": {
        "id": "grh2doR3sNdk"
      }
    },
    {
      "cell_type": "code",
      "source": [
        "import seaborn as sns"
      ],
      "metadata": {
        "id": "rkOSFXqXN7vH"
      },
      "execution_count": 61,
      "outputs": []
    },
    {
      "cell_type": "markdown",
      "source": [
        "Постройте диаграмму совместного распределения двух количественных переменных с помощью функции jointplot(), передав параметры size и alpha для улучшения визуализации"
      ],
      "metadata": {
        "id": "opScXnousYJT"
      }
    },
    {
      "cell_type": "code",
      "source": [
        "search_in('двух' ,eda)"
      ],
      "metadata": {
        "id": "JQKwG8FNry4-",
        "outputId": "9f9f966a-6c1b-4a95-827b-f770966471f2",
        "colab": {
          "base_uri": "https://localhost:8080/"
        }
      },
      "execution_count": 59,
      "outputs": [
        {
          "output_type": "stream",
          "name": "stdout",
          "text": [
            "************************************************************************************************************************************************************\n",
            "Шаблона анализа взаимосвязи двух и более числовых колонок\n",
            "g = sns.PairGrid(new_dataset[columns])\n",
            "g.map(sns.scatterplot, alpha=0.2)\n",
            "------------------------------------------------------------------------------------------------------------------------------------------------------------\n",
            "Шаблона анализа взаимосвязи двух категориальных колонок\n",
            "import matplotlib.pyplot as plt\n",
            "flat_types = dataset['Класс жилья'].unique()\n",
            "flat_types = flat_types[1:]\n",
            "labels = dataset['Тип здания'].unique()\n",
            "colors = dict(zip(labels, plt.cm.tab20.colors[:len(labels)]))\n",
            "for flat_type in flat_types: \n",
            "  df = dataset[dataset['Класс жилья']==flat_type] \n",
            "  class_counts = df['Тип здания'].value_counts()\n",
            "  labels =class_counts.index\n",
            "  plt.title(flat_type)\n",
            "  patches, texts = plt.pie(\n",
            "      class_counts.values, \n",
            "      labels = labels, \n",
            "      colors = [colors[key] for key in labels],\n",
            "      textprops=dict(color=\"w\")\n",
            "      )\n",
            "  plt.legend(patches, labels, title=\"Типы здания\", loc=\"upper center\", bbox_to_anchor=(1, 0, 0.5, 1)) \n",
            "  plt.show()\n",
            "------------------------------------------------------------------------------------------------------------------------------------------------------------\n"
          ]
        }
      ]
    },
    {
      "cell_type": "code",
      "source": [
        "sns.jointplot([dataset['runtime_clear'], dataset['gross_earn_clear']], size=10,alpha = 0.2)\n",
        "plt.show()"
      ],
      "metadata": {
        "id": "fxdAuWu8NOfM",
        "outputId": "2a31de52-a628-436e-a382-1abda443e874",
        "colab": {
          "base_uri": "https://localhost:8080/",
          "height": 607
        }
      },
      "execution_count": 87,
      "outputs": [
        {
          "output_type": "display_data",
          "data": {
            "text/plain": [
              "<Figure size 600x600 with 3 Axes>"
            ],
            "image/png": "[encoded data removed]"
          },
          "metadata": {}
        }
      ]
    },
    {
      "cell_type": "markdown",
      "source": [
        "Сохраните колонки 'runtime_clear' и 'gross_earn_clear' в переменную columns и постройте диаграммы рассеяния, используя функции PairGrid(), map() и метод scatterplot, передав параметр alpha для улучшения визуализации"
      ],
      "metadata": {
        "id": "W387nNHns761"
      }
    },
    {
      "cell_type": "code",
      "source": [
        "columns = ['runtime_clear', 'gross_earn_clear']\n",
        "g = sns.\n",
        "g.map("
      ],
      "metadata": {
        "id": "eMueq5cMOUuz"
      },
      "execution_count": null,
      "outputs": []
    },
    {
      "cell_type": "markdown",
      "source": [
        "Исключите выбросы, отфильтровав датасет по 99% процентилю. Для этого сохраните копию исходного датасета в переменную new_dataset с помощью метода copy(). Для каждой колонки в columns ограничьте значения 99% процентилем с помощью метода quantile(), сохраняя объект Series в переменную limiter и фильтруя new_dataset по данному ограничению с помощью оператора <="
      ],
      "metadata": {
        "id": "NdEf5HQIt6YS"
      }
    },
    {
      "cell_type": "code",
      "source": [
        "new_dataset = \n",
        "for col in columns:\n",
        "  limiter = \n",
        "  new_dataset = "
      ],
      "metadata": {
        "id": "uo2wGHKPOnTL"
      },
      "execution_count": null,
      "outputs": []
    },
    {
      "cell_type": "markdown",
      "source": [
        "Постройте диаграммы рассеяния по данным датасета new_dataset, используя функции PairGrid(), map() и метод scatterplot, передав параметр alpha для улучшения визуализации"
      ],
      "metadata": {
        "id": "HS5dgAJ5vFeL"
      }
    },
    {
      "cell_type": "code",
      "source": [
        "g = sns.\n",
        "g.map("
      ],
      "metadata": {
        "id": "n-X1vgdnOtUL"
      },
      "execution_count": null,
      "outputs": []
    },
    {
      "cell_type": "markdown",
      "source": [
        "**Выводы:**"
      ],
      "metadata": {
        "id": "D9PE8nvlvZmS"
      }
    },
    {
      "cell_type": "markdown",
      "source": [
        "Напишите выводы по разделу:\n",
        "1.   О возможной взаимосвязи признаков (присутствует или отсутствует на диаграммах, какая взаимосвязь (линейная, нелинейная))."
      ],
      "metadata": {
        "id": "q65Pl9DfvZ-M"
      }
    },
    {
      "cell_type": "markdown",
      "source": [
        "## 8. Анализ взаимосвязи двух категориальных признаков"
      ],
      "metadata": {
        "id": "rfhui4VDeBZ9"
      }
    },
    {
      "cell_type": "markdown",
      "source": [
        "Выполните анализ взаимосвязи двух категориальных признаков"
      ],
      "metadata": {
        "id": "CN3POEscsEmy"
      }
    },
    {
      "cell_type": "markdown",
      "source": [
        "### *8.1. director - certificate*"
      ],
      "metadata": {
        "id": "oYsozV9-VRwe"
      }
    },
    {
      "cell_type": "markdown",
      "source": [
        "Сохраните уникальные значения признака 'director', определенные с помощью метода unique(), в переменную directors и определите их количество с помощью функции len()"
      ],
      "metadata": {
        "id": "NxoeiRmIwLXw"
      }
    },
    {
      "cell_type": "code",
      "source": [
        "directors = \n",
        "len(directors)"
      ],
      "metadata": {
        "id": "uBRXXQ4gPDQx"
      },
      "execution_count": null,
      "outputs": []
    },
    {
      "cell_type": "markdown",
      "source": [
        "Проведите неграфический структурный анализ признака с помощью метода value_counts()"
      ],
      "metadata": {
        "id": "ucpDRdTTwvwC"
      }
    },
    {
      "cell_type": "code",
      "source": [
        "dataset['director']."
      ],
      "metadata": {
        "id": "PImpazYgQjRj"
      },
      "execution_count": null,
      "outputs": []
    },
    {
      "cell_type": "markdown",
      "source": [
        "Определите топ-5 кинорежиссеров с помощью метода value_counts() и среза, выведите их список при помощи атрибута index и сохраните его в переменную directors_top_5"
      ],
      "metadata": {
        "id": "N5RxrG6vw-wM"
      }
    },
    {
      "cell_type": "code",
      "source": [
        "directors_top_5 = dataset['director'].value_counts()[:5].index\n",
        "directors_top_5"
      ],
      "metadata": {
        "id": "0V5w0ob7RCut"
      },
      "execution_count": null,
      "outputs": []
    },
    {
      "cell_type": "markdown",
      "source": [
        "Для корректного визуального представления распределения признака 'certificate' создайте словарь, в котором каждому классу будет присвоен соответствующий цвет из выбранной цветовой палитры tab20. Для этого в переменную labels сохраните уникальные значения признака, затем в переменную colors сохраните словарь, сформированный с помощью функции dict() из объединенных (с помощью функции zip()) попарно значения классов, сохраненных в переменной labels, и цветов из палитры tab20, выбранных по длине (len()) labels, с помощью выражения plt.cm.tab20.colors"
      ],
      "metadata": {
        "id": "5eP_se-Vxm6U"
      }
    },
    {
      "cell_type": "code",
      "source": [
        "labels = \n",
        "colors = \n",
        "colors"
      ],
      "metadata": {
        "id": "53EkvsqMUa0E"
      },
      "execution_count": null,
      "outputs": []
    },
    {
      "cell_type": "markdown",
      "source": [
        "Для каждого кинорежиссера из топ-5 (directors_top_5) постройте круговые диаграммы с помощью метода pie(). Для этого отфильтруйте исходный датасет признаку director и сохраните его в переменную df; сохраните топ-5 классов фильмов (certificate), определенных с помощью метода value_counts() и среза, в переменную certificate_counts; выведите список уникальных значений топ-5 классов с помощью атрибута index и сохраните его в переменную labels; в качестве названия диаграммы передайте кинорежиссера с помощью метода title(); постройте диаграмму, передав в нее в качестве параметров значения (values), подписи (labels), цвета (colors) и подписи значения в виде процентов autopct='%.1f'"
      ],
      "metadata": {
        "id": "JDGFFvmOzqC2"
      }
    },
    {
      "cell_type": "code",
      "source": [
        "for director in directors_top_5:\n",
        "  df =  \n",
        "\n",
        "  certificate_counts = \n",
        "  labels = \n",
        "\n",
        "  plt.title(director)\n",
        "  plt.\n",
        "  plt.show()"
      ],
      "metadata": {
        "id": "_EyIXRZBQwW3"
      },
      "execution_count": null,
      "outputs": []
    },
    {
      "cell_type": "markdown",
      "source": [
        "**Выводы:**"
      ],
      "metadata": {
        "id": "Y9oLLTWb15pH"
      }
    },
    {
      "cell_type": "markdown",
      "source": [
        "Напишите выводы по разделу:\n",
        "1.   О возможной взаимосвязи признаков (присутствует или отсутствует на диаграммах, похожи ли распределения признаков).\n",
        "2.   Об особенностях распределения признака в разрезе основного признака (что характерно для каждого значения основного признака)"
      ],
      "metadata": {
        "id": "f9zU9FLy1-Vm"
      }
    },
    {
      "cell_type": "markdown",
      "source": [
        "### **8.2. director - rating*"
      ],
      "metadata": {
        "id": "EOqC1iUrU-Td"
      }
    },
    {
      "cell_type": "markdown",
      "source": [
        "По аналогии проанализируйте взаимосвязь между рейтингом фильмов и кинорежиссерами"
      ],
      "metadata": {
        "id": "h4FcElnpVj99"
      }
    },
    {
      "cell_type": "code",
      "source": [],
      "metadata": {
        "id": "ynMUueJlWK3S"
      },
      "execution_count": null,
      "outputs": []
    },
    {
      "cell_type": "markdown",
      "source": [
        "### **8.3. certificate - rating*"
      ],
      "metadata": {
        "id": "0NCzVyQ6Wek9"
      }
    },
    {
      "cell_type": "markdown",
      "source": [
        "По аналогии проанализируйте взаимосвязь между классами фильмов и их рейтингом"
      ],
      "metadata": {
        "id": "TkZ3NmIaWek-"
      }
    },
    {
      "cell_type": "code",
      "source": [],
      "metadata": {
        "id": "xtIXlyqtWek_"
      },
      "execution_count": null,
      "outputs": []
    },
    {
      "cell_type": "markdown",
      "source": [
        "## 9. Анализ взаимосвязи количественного и категориального признаков"
      ],
      "metadata": {
        "id": "gQwmX8aD671J"
      }
    },
    {
      "cell_type": "markdown",
      "source": [
        "Выполните анализ взаимосвязи категориального и количественного признаков"
      ],
      "metadata": {
        "id": "g1RWUKTb26a5"
      }
    },
    {
      "cell_type": "markdown",
      "source": [
        "### *9.1. certificate - gross_earn_clear*"
      ],
      "metadata": {
        "id": "8qgg-4zkZ6dS"
      }
    },
    {
      "cell_type": "markdown",
      "source": [
        "Оцените медианные значения доходов с фильмов в разрезе классов фильмов. Для этого сгруппируйте датасет по признаку certificate с помощью метода groupby и к Series ['gross_earn_clear'] метод median()"
      ],
      "metadata": {
        "id": "44yyVyYO3gJ9"
      }
    },
    {
      "cell_type": "code",
      "source": [
        "dataset.groupby("
      ],
      "metadata": {
        "id": "G1V-4JRD665n"
      },
      "execution_count": null,
      "outputs": []
    },
    {
      "cell_type": "markdown",
      "source": [
        "Оцените описательные статистики доходов с фильмов в разрезе классов фильмов, также сгруппировав таблицу и применив метод describe()"
      ],
      "metadata": {
        "id": "13irQUyJ4EEc"
      }
    },
    {
      "cell_type": "code",
      "source": [
        "dataset.groupby("
      ],
      "metadata": {
        "id": "pHunMavmXG0B"
      },
      "execution_count": null,
      "outputs": []
    },
    {
      "cell_type": "markdown",
      "source": [
        "Постройте диаграммы \"ящик с усами\" с помощью метода boxplot(), передав в качестве x - значения классов, а в качестве y - доход с фильмов"
      ],
      "metadata": {
        "id": "T_JiBuJX4aXL"
      }
    },
    {
      "cell_type": "code",
      "source": [
        "sns.\n",
        "plt.show()"
      ],
      "metadata": {
        "id": "T1pXKykJXmBk"
      },
      "execution_count": null,
      "outputs": []
    },
    {
      "cell_type": "markdown",
      "source": [
        "Диаграмма получилась малоинформативна в связи с наличием выбросов, а также ее нагруженностью по количеству значений классов. Оцените количество значений классов с помощью метода value_counts()"
      ],
      "metadata": {
        "id": "yF03b9ne4wQh"
      }
    },
    {
      "cell_type": "code",
      "source": [
        "dataset['certificate']."
      ],
      "metadata": {
        "id": "S0CL9z5xX1c9"
      },
      "execution_count": null,
      "outputs": []
    },
    {
      "cell_type": "markdown",
      "source": [
        "По итогу оценки видно, что крупных классов - 8, поэтому ограничим диаграмму топ-8 классов. Для этого сохраните список топ-8 классов, определенный с помощью метода value_counts(), среза и атрибута index, в переменную certificate_list"
      ],
      "metadata": {
        "id": "2H2d_iLQ5Fmp"
      }
    },
    {
      "cell_type": "code",
      "source": [
        "certificate_list = \n",
        "certificate_list"
      ],
      "metadata": {
        "id": "PTr5lurLYDv7"
      },
      "execution_count": null,
      "outputs": []
    },
    {
      "cell_type": "markdown",
      "source": [
        "Отфильтруйте исходный датасет по признаку certificate с помощью метода isin() и сохраните его в переменную dataset_certificate_top_8. Оцените размеры датасета с помощью атрибута shape"
      ],
      "metadata": {
        "id": "ZJbszWYb5tEX"
      }
    },
    {
      "cell_type": "code",
      "source": [
        "dataset_certificate_top_8 = dataset[dataset['certificate'].isin(certificate_list)]\n",
        "dataset_certificate_top_8.shape"
      ],
      "metadata": {
        "id": "J0suRr9AYpyD"
      },
      "execution_count": null,
      "outputs": []
    },
    {
      "cell_type": "markdown",
      "source": [
        "Постройте диаграммы \"ящик с усами\" с помощью метода boxplot(), передав в качестве x - значения классов, а в качестве y - доход с фильмов, при этом ограничив значение оси x на 25000 млн.$ с помощью функции plt.axis() и параметров ymin и ymax"
      ],
      "metadata": {
        "id": "6Tv0a4-K6LOC"
      }
    },
    {
      "cell_type": "code",
      "source": [
        "sns.\n",
        "plt.\n",
        "plt.show()"
      ],
      "metadata": {
        "id": "FWDE0Y1kZG1u"
      },
      "execution_count": null,
      "outputs": []
    },
    {
      "cell_type": "markdown",
      "source": [
        "**Выводы:**"
      ],
      "metadata": {
        "id": "aYFltVwA6nvW"
      }
    },
    {
      "cell_type": "markdown",
      "source": [
        "Напишите выводы по разделу:\n",
        "1.   О возможной взаимосвязи признаков (присутствует или отсутствует на диаграммах, похожи ли распределения признаков).\n",
        "2.   Об особенностях распределения признака в разрезе основного признака (что характерно для каждого значения основного признака).\n",
        "3.   О средних величинах (как распределена медиана)."
      ],
      "metadata": {
        "id": "KJS_0ZmC6rp4"
      }
    },
    {
      "cell_type": "markdown",
      "source": [
        "### **9.2. certificate - runtime_clear*"
      ],
      "metadata": {
        "id": "Qt5xHqnCaf4z"
      }
    },
    {
      "cell_type": "markdown",
      "source": [
        "По аналогии проанализируйте взаимосвязь между классами фильмов и их продолжительностью"
      ],
      "metadata": {
        "id": "UXye956Vas6G"
      }
    },
    {
      "cell_type": "code",
      "source": [],
      "metadata": {
        "id": "t_CrQkckZqyd"
      },
      "execution_count": null,
      "outputs": []
    },
    {
      "cell_type": "markdown",
      "source": [
        "### **9.3. director - gross_earn_clear*"
      ],
      "metadata": {
        "id": "3gyUHz4nbEAt"
      }
    },
    {
      "cell_type": "markdown",
      "source": [
        "По аналогии проанализируйте взаимосвязь между кинорежиссерами и доходами с фильмов"
      ],
      "metadata": {
        "id": "EQGuce0lbEAv"
      }
    },
    {
      "cell_type": "code",
      "source": [],
      "metadata": {
        "id": "jrCxzXvqbEAv"
      },
      "execution_count": null,
      "outputs": []
    },
    {
      "cell_type": "markdown",
      "source": [
        "### **9.4. director - runtime_clear*"
      ],
      "metadata": {
        "id": "Kyz1v_UMbGrU"
      }
    },
    {
      "cell_type": "markdown",
      "source": [
        "По аналогии проанализируйте взаимосвязь между кинорежиссерами и продолжительностью фильмов"
      ],
      "metadata": {
        "id": "Al5GBEKXbGrV"
      }
    },
    {
      "cell_type": "code",
      "source": [],
      "metadata": {
        "id": "a_QEiC4UbGrV"
      },
      "execution_count": null,
      "outputs": []
    },
    {
      "cell_type": "markdown",
      "source": [
        "### **9.5. rating - gross_earn_clear*"
      ],
      "metadata": {
        "id": "q_BhBtmrb445"
      }
    },
    {
      "cell_type": "markdown",
      "source": [
        "По аналогии проанализируйте взаимосвязь между рейтингом фильмов и доходами с фильмов"
      ],
      "metadata": {
        "id": "QNhihG6Cb445"
      }
    },
    {
      "cell_type": "code",
      "source": [],
      "metadata": {
        "id": "eezxI8E2b446"
      },
      "execution_count": null,
      "outputs": []
    },
    {
      "cell_type": "markdown",
      "source": [
        "### **9.6. rating - runtime_clear*"
      ],
      "metadata": {
        "id": "ESd2HAesb446"
      }
    },
    {
      "cell_type": "markdown",
      "source": [
        "По аналогии проанализируйте взаимосвязь между рейтингом фильмов и их продолжительностью"
      ],
      "metadata": {
        "id": "iqCH-zTnb446"
      }
    },
    {
      "cell_type": "code",
      "source": [],
      "metadata": {
        "id": "KszuOCnkb446"
      },
      "execution_count": null,
      "outputs": []
    },
    {
      "cell_type": "markdown",
      "source": [
        "## 10. Общий вывод"
      ],
      "metadata": {
        "id": "aKvGYyMg3KoV"
      }
    },
    {
      "cell_type": "markdown",
      "source": [
        "Соберите промежуточные выводы в итоговый вывод по разведочному анализу"
      ],
      "metadata": {
        "id": "jMIiSlDy3VMs"
      }
    },
    {
      "cell_type": "markdown",
      "source": [
        "**Поздравляем! Часть 2 задания по модулю EDA выполнена! Далее Вас ожидают кейсы на фильтрацию, срезы и группировку!**"
      ],
      "metadata": {
        "id": "tCT6WeFO3cYc"
      }
    }
  ],
  "metadata": {
    "colab": {
      "provenance": [],
      "include_colab_link": true
    },
    "kernelspec": {
      "display_name": "Python 3",
      "name": "python3"
    },
    "language_info": {
      "name": "python"
    }
  },
  "nbformat": 4,
  "nbformat_minor": 0
}