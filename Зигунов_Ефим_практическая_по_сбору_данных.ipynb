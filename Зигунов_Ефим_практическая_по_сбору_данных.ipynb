{
  "nbformat": 4,
  "nbformat_minor": 0,
  "metadata": {
    "colab": {
      "provenance": [],
      "collapsed_sections": [
        "6rKWxkGBhRvH",
        "cJL8g8Cy96Rd",
        "xGVZmQlN9k8N"
      ],
      "include_colab_link": true
    },
    "kernelspec": {
      "name": "python3",
      "display_name": "Python 3"
    },
    "language_info": {
      "name": "python"
    }
  },
  "cells": [
    {
      "cell_type": "markdown",
      "metadata": {
        "id": "view-in-github",
        "colab_type": "text"
      },
      "source": [
        "<a href=\"https://colab.research.google.com/github/EZSib/data_analy2023/blob/main/%D0%97%D0%B8%D0%B3%D1%83%D0%BD%D0%BE%D0%B2_%D0%95%D1%84%D0%B8%D0%BC_%D0%BF%D1%80%D0%B0%D0%BA%D1%82%D0%B8%D1%87%D0%B5%D1%81%D0%BA%D0%B0%D1%8F_%D0%BF%D0%BE_%D1%81%D0%B1%D0%BE%D1%80%D1%83_%D0%B4%D0%B0%D0%BD%D0%BD%D1%8B%D1%85.ipynb\" target=\"_parent\"><img src=\"https://colab.research.google.com/assets/colab-badge.svg\" alt=\"Open In Colab\"/></a>"
      ]
    },
    {
      "cell_type": "markdown",
      "source": [
        "##Большая просьба сдавать работы на проверку, в которых сразу выполнены четыре обязательных задания. "
      ],
      "metadata": {
        "id": "oftpQvqjdgbZ"
      }
    },
    {
      "cell_type": "markdown",
      "source": [
        "##Задание 1. Библиотека VK API"
      ],
      "metadata": {
        "id": "XslJSFkAe5-5"
      }
    },
    {
      "cell_type": "markdown",
      "source": [
        "Напишите код, который получает список названия школ города Кемерово с помощью библиотеки vk_api и записывает результаты в файл JSON."
      ],
      "metadata": {
        "id": "Fv1R9qMftlt9"
      }
    },
    {
      "cell_type": "markdown",
      "source": [
        "Решение без апи_вк"
      ],
      "metadata": {
        "id": "AiSumKEqGcZf"
      }
    },
    {
      "cell_type": "code",
      "source": [
        "import requests, json,re\n",
        "from collections import defaultdict\n",
        "\n",
        "ACCESS_TOKEN = '' \n",
        "METHOD_NAME = 'database.getSchools'\n",
        "URL = f'https://api.vk.com/method/{METHOD_NAME}'\n",
        "pattern = r'[/.а-яА-ЯёЁ№()0-9\\- ]+'\n",
        "\n",
        "params = {\n",
        "    \"access_token\": ACCESS_TOKEN,\n",
        "    \"city_id\": 64,\n",
        "    \"sort\": 6,\n",
        "    \"v\": 5.131\n",
        "}\n",
        "final_res = defaultdict(list)\n",
        "res = requests.get(URL, params=params).text\n",
        "res1 = re.findall(pattern, res)                    # отбор регуляркой\n",
        "res1 = [i for i in res1 if  any(map(lambda x: x in [(lambda c: chr(c))(i) for i in range(1072, 1104)], i))]\n",
        "res = res.split(':')       # отбор не регуляркой \n",
        "res = [i.replace('},{\"id\"','').replace('}]}}','') for i in res if  any(map(lambda x: x in [(lambda c: chr(c))(i) for i in range(1072, 1104)],i )) ]\n",
        "for j in res1:\n",
        "    final_res[j[:j.find('№')]].append(j[j.rfind('№'):])\n",
        "print(*final_res.items(), sep='\\n')\n",
        "with open('kemerovo_schools.json', 'w', encoding='utf8') as file:\n",
        "    json.dump(final_res, file, ensure_ascii=False, indent=2)\n",
        "#таким образом уменьшаем коллизию бд сразу при создании файла в разы\n",
        "# при необходимости можно полирнуть отбор, чтоб корректно отображал именные\n",
        "# учебные заведения(в отдельные словари) и без номеров\n"
      ],
      "metadata": {
        "id": "rufJxiJufcPw"
      },
      "execution_count": null,
      "outputs": []
    },
    {
      "cell_type": "code",
      "source": [
        "!pip install vk_api"
      ],
      "metadata": {
        "id": "axtt0peTMxJs"
      },
      "execution_count": null,
      "outputs": []
    },
    {
      "cell_type": "code",
      "source": [
        "import vk_api, json,re\n",
        "from collections import defaultdict\n",
        "\n",
        "ACCESS_TOKEN = '' \n",
        "pattern = r'[/.а-яА-ЯёЁ№()0-9\\- ]+'\n",
        "try:\n",
        "  vk_session = vk_api.VkApi(token=ACCESS_TOKEN)\n",
        "  vk = vk_session.get_api()\n",
        "  city = vk.database.getCities(country_id=1, q='Кемерово', count=1)\n",
        "  city_id = city['items'][0]['id'] if city['count'] > 0 else None\n",
        "  res_dict = vk.database.getSchools(country_id=1, city_id=city_id)\n",
        "  res = str(res_dict)\n",
        "\n",
        "  final_res = defaultdict(list)\n",
        "#   res1 = re.findall(pattern, res)                    # отбор регуляркой\n",
        "#   res1 = [i for i in res1 if  any(map(lambda x: x in [(lambda c: chr(c))(i) for i in range(1072, 1104)], i))]\n",
        "\n",
        "#   res = res.split(':')       # отбор не регуляркой \n",
        "#   res = [i.replace('},{\"id\"','').replace('}]}}','') for i in res if  \n",
        "#         any(map(lambda x: x in [(lambda c: chr(c))(i) for i in range(1072, 1104)],i )) ]\n",
        "\n",
        "#   for j in res1:\n",
        "#       final_res[j[:j.find('№')]].append(j[j.rfind('№'):])\n",
        "#   print(*final_res.items(), sep='\\n')\n",
        "# except Exception as ex:\n",
        "#   print(f'ERROR: {ex}')\n",
        "\n",
        "# with open('kemerovo_schools.json', 'w', encoding='utf8') as file:\n",
        "#     json.dump(final_res, file, ensure_ascii=False, indent=1)\n",
        "  for j in [i['title'].split() for i in res_dict['items']]:\n",
        "    if len(j) == 3:\n",
        "      final_res[j[0]].append(f'{j[1]} {j[2]}')\n",
        "    if len(j) == 4:\n",
        "      final_res[f'{j[0]} {j[1]}'].append(f'{j[2]} {j[3]}')\n",
        "    if len(j) == 5:\n",
        "      final_res[f'{j[0]} {j[1]} {j[2]}'].append(f'{j[3]} {j[4]}')\n",
        "    if len(j) == 6:\n",
        "      final_res[f'{j[0]} {j[1]} {j[2]} {j[3]}'].append(f'{j[4]} {j[5]}')\n",
        "    if len(j) >6:\n",
        "      final_res[' '.join([k for k in j if k=='.' or k.isalpha()])].append(' '.join([k for k in j if k != '.' or not k.isalpha()]))\n",
        "except Exception as ex:\n",
        "  print(f'ERROR: {ex}')\n",
        "with open('kemerovo_schools_vk.json', 'w', encoding='utf8') as file:\n",
        "     json.dump(final_res, file, ensure_ascii=False, indent=1)"
      ],
      "metadata": {
        "id": "1BVvxQo-Ncij"
      },
      "execution_count": null,
      "outputs": []
    },
    {
      "cell_type": "markdown",
      "source": [
        "### Возможный алгоритм решения задачи:"
      ],
      "metadata": {
        "id": "v4_ZEnTShH_w"
      }
    },
    {
      "cell_type": "markdown",
      "source": [
        "1.   Получаем токен доступа к API Вконтакте\n",
        "2.   Инициализируем сессию библиотеки VK_API с помощью токена доступа\n",
        "3. Получаем доступ с помощью VK_API к API «ВКонтакте» методом get_api\n",
        "4. Следуя методу из документации для получения городов и используя библиотеку VK_API, составляем запрос на получение информации о городе «Кемерово» и получаем его id из ответа на запрос\n",
        "5. Следуя методу из документации для получения школ и используя библиотеку VK_API, составляем запрос на получение информации о школах города «Кемерово» (по найденному id) и получаем список названия школ\n",
        "10. Конкретный формат не указан, поэтому создаем JSON с удобными ключами.<br>Например: result: {schools: [...]}\n",
        "11. Записываем созданный  словарик  в файл с форматом JSON \n",
        "\n",
        "\n",
        "\n"
      ],
      "metadata": {
        "id": "oYJIXxVOBmHk"
      }
    },
    {
      "cell_type": "markdown",
      "source": [
        "##Задание 2. Запись данных в CSV формат"
      ],
      "metadata": {
        "id": "N1UzGf1CtVfa"
      }
    },
    {
      "cell_type": "markdown",
      "source": [
        "С помощью методов API «ВКонтакте» получите 1000 подписчиков группы «Лентач», отсортирванных по дате регистрации.\n",
        "\n",
        "Вам необходимо собрать следующие данные в CSV файл: пол, название город, семейное положение (ФИО партнера не указывать)."
      ],
      "metadata": {
        "id": "Rg-gNSTzfA7R"
      }
    },
    {
      "cell_type": "markdown",
      "source": [
        "Решение без апи_вк"
      ],
      "metadata": {
        "id": "kCkiwquhGuSp"
      }
    },
    {
      "cell_type": "code",
      "source": [
        "import requests, csv\n",
        "\n",
        "ACCESS_TOKEN = ''\n",
        "METHOD_NAME = 'groups.getMembers'\n",
        "URL = f'https://api.vk.com/method/{METHOD_NAME}'\n",
        "\n",
        "\n",
        "params = {\n",
        "    \"access_token\": ACCESS_TOKEN,\n",
        "    'group_id' : 29534144,\n",
        "    'fields' : 'sex, city, relation',\n",
        "    'sort': 'id_asc',\n",
        "    \"v\": 5.131\n",
        "}\n",
        "relations = {\n",
        "  1 : \"не женат/не замужем\",\n",
        "  2 : \"есть друг/есть подруга\",\n",
        "  3 : \"помолвлен/помолвлена\",\n",
        "  4 : \"женат/замужем\",\n",
        "  5 : \"всё сложно\",\n",
        "  6 : \"в активном поиске\",\n",
        "  7 : \"влюблён/влюблена\",\n",
        "  8 : \"в гражданском браке\",\n",
        "  0 : \"не указано\"\n",
        "}\n",
        "seex = {0: 'не указан', 1: 'Ж', 2: 'М'}\n",
        "res = requests.get(URL, params=params).json()\n",
        "res = res['response'][\"items\"]\n",
        "res_list = []\n",
        "for r in res:\n",
        "    if 'city' in r:\n",
        "        city = r['city']['title']\n",
        "    else: city = 'Город-Герой'\n",
        "    # sex = r.get('sex', 0)\n",
        "    # relation = r.get('relation', 0)\n",
        "    res_list.append({'city' : city,'sex' : seex[r.get('sex', 0)], 'ralation' : relations[r.get('relation', 0)]})\n",
        "\n",
        "\n",
        "with open('lentach.csv', 'w', encoding='utf8', newline='') as file:\n",
        "        writer = csv.DictWriter(file,fieldnames=res_list[0])\n",
        "        writer.writeheader()\n",
        "        for row in res_list:\n",
        "            writer.writerow(row)\n",
        "# import pandas as pd\n",
        "# f = pd.read_csv(\"lentach.csv\")\n",
        "# keep_col = ['relation','sex','city']\n",
        "# new_f = f[keep_col]\n",
        "# new_f.to_csv(\"lentach_pd.csv\", index=False)\n",
        "\n"
      ],
      "metadata": {
        "id": "eSslPXrGfDRb"
      },
      "execution_count": null,
      "outputs": []
    },
    {
      "cell_type": "code",
      "source": [
        "!pip install vk_api"
      ],
      "metadata": {
        "id": "NDqAjG17G8cJ"
      },
      "execution_count": null,
      "outputs": []
    },
    {
      "cell_type": "code",
      "source": [
        "import vk_api, csv\n",
        "\n",
        "ACCESS_TOKEN = ''\n",
        "\n",
        "try:\n",
        "  vk_session = vk_api.VkApi(token=ACCESS_TOKEN)\n",
        "  vk = vk_session.get_api()\n",
        "  group = vk.groups.search(q='Лентач', count=1)\n",
        "  group_id = group['items'][0]['id'] if group['count'] > 0 else None\n",
        "    \n",
        "  res = vk.groups.getMembers(group_id=group_id, \n",
        "                             sort='id_asc', count=1000, \n",
        "                             fields='sex, city, relation')[\"items\"]\n",
        "  \n",
        "\n",
        "  relations = {\n",
        "    1 : \"не женат/не замужем\",\n",
        "    2 : \"есть друг/есть подруга\",\n",
        "    3 : \"помолвлен/помолвлена\",\n",
        "    4 : \"женат/замужем\",\n",
        "    5 : \"всё сложно\",\n",
        "    6 : \"в активном поиске\",\n",
        "    7 : \"влюблён/влюблена\",\n",
        "    8 : \"в гражданском браке\",\n",
        "    0 : \"не указано\"\n",
        "  }\n",
        "  seex = {0: 'не указан', 1: 'Ж', 2: 'М'}\n",
        "  res_list = []\n",
        "  for r in res:\n",
        "      if 'city' in r:\n",
        "          city = r['city']['title']\n",
        "      else: city = 'Город-Герой'\n",
        "      # sex = r.get('sex', 0)\n",
        "      # relation = r.get('relation', 0)\n",
        "      res_list.append({'city' : city,'sex' : seex[r.get('sex', 0)], 'ralation' : relations[r.get('relation', 0)]})\n",
        "except Exception as ex:\n",
        "  print(f'ERROR: {ex}') \n",
        "\n",
        "with open('lentach.csv', 'w', encoding='utf8', newline='') as file:\n",
        "        writer = csv.DictWriter(file,fieldnames=res_list[0])\n",
        "        writer.writeheader()\n",
        "        for row in res_list:\n",
        "            writer.writerow(row)"
      ],
      "metadata": {
        "id": "H6WvgElmHJJh"
      },
      "execution_count": null,
      "outputs": []
    },
    {
      "cell_type": "markdown",
      "source": [
        "### Возможный алгоритм решения задачи:"
      ],
      "metadata": {
        "id": "6rKWxkGBhRvH"
      }
    },
    {
      "cell_type": "markdown",
      "source": [
        "1. Получаем токен доступа к API Вконтакте\n",
        "2. Инициализируем сессию библиотеки VK_API с помощью токена доступа\n",
        "3. Получаем доступ с помощью VK_API к API вконтакте методом get_api\n",
        "4. Следуя методу из документации для получения сообществ и используя библиотеку VK_API, составляем запрос на получение информации о сообществе «Лентач» и получаем его id из ответа на запрос\n",
        "5. Следуя методу (getMembers) из документации для получения участников сообщества и используя библиотеку VK_API, составляем запрос на получение информации о участниках сообщества «Лентач» (по найденному id) и получаем пол, город и СП каждого из участников\n",
        "6. С помощью CSV библиотеки записываем полученные данные в файл с форматом csv\n",
        "\n",
        "\n",
        "\n"
      ],
      "metadata": {
        "id": "yHNVe0qbDCbP"
      }
    },
    {
      "cell_type": "markdown",
      "source": [
        "##Задание 3. Скрещиваем Selenium и BeautifulSoup"
      ],
      "metadata": {
        "id": "XFUPJo-qsusT"
      }
    },
    {
      "cell_type": "markdown",
      "source": [
        "Соберите информацию с сайта nbcomputers.ru (https://www.nbcomputers.ru/catalog/noutbuki/) о ноутбуках данного интернет-магазина.\n",
        "<br>\n",
        "Данные, которые необходимы:\n",
        "* Название ноутбука\n",
        "* Цена ноутбука\n",
        "* Код товара\n",
        "\n",
        "Результат необходимо записать в CSV файл.\n",
        "<br>\n",
        "*(совет: обязательно делайте различные временные промежутки между прокликами)*"
      ],
      "metadata": {
        "id": "9O8NOJs51u8K"
      }
    },
    {
      "cell_type": "markdown",
      "source": [
        "Запустить в colab не получилось, использую вин7 а он не поддерживает веб-драйвер необходимой версии. В pycharme собирает csv как надо, при необходимости приложу файл\\проект."
      ],
      "metadata": {
        "id": "bhIxAw1hCvgS"
      }
    },
    {
      "cell_type": "code",
      "source": [
        "from selenium import webdriver\n",
        "from selenium.webdriver.chrome.service import Service\n",
        "from selenium.webdriver.common.by import By\n",
        "from selenium.webdriver.common.action_chains import ActionChains\n",
        "from selenium.webdriver.support.ui import WebDriverWait\n",
        "from selenium.webdriver.support import expected_conditions as EC\n",
        "from bs4 import BeautifulSoup\n",
        "import csv\n",
        "\n",
        "\n",
        "service = Service(executable_path='/usr/lib/chromium-browser/chromedriver')\n",
        "chrome_options = webdriver.ChromeOptions()\n",
        "chrome_options.add_argument(\"--headless\")\n",
        "chrome_options.add_argument(\"--no-sandbox\")\n",
        "driver = webdriver.Chrome(service=service, options=chrome_options)\n",
        "\n",
        "URL = f'https://www.nbcomputers.ru/catalog/noutbuki/?page=1'\n",
        "\n",
        "res_name_price_id = []\n",
        "\n",
        "driver.implicitly_wait(5)\n",
        "\n",
        "# определяем функцию для парсинга в бс4\n",
        "def parse(URL_page):\n",
        "    driver.get(URL)\n",
        "    html = driver.page_source\n",
        "\n",
        "    soup = BeautifulSoup(html, 'lxml')\n",
        "    all_cards = soup.select('article')\n",
        "    for card in all_cards:\n",
        "        name = (card.select_one('.iVdSZe').text).split('&')[0]\n",
        "        price = ''.join(list((i for i in (card.select_one('.sc-96470d6e-2').text) if i.isdigit())))\n",
        "        id = card.select_one('.cfXmWO').text.split()[1].strip()\n",
        "        res_name_price_id.append({'name': name, 'price': price, 'id': id})\n",
        "\n",
        "\n",
        "try:\n",
        "    parse(URL)\n",
        "except Exception as ex:\n",
        "    print(f'Error: {ex}')\n",
        "parent_element = driver.find_element(By.XPATH, '//*[@id=\"catalog-listing\"]/div[2]/ul/li[8]/a')\n",
        "\n",
        "\"\"\"Тут начинается самое смешное: по теническим причинам, для меня была отрезана возможность запарсить страницу\n",
        "используя кнопку \"показать еще\", и для того, чтобы использовать селениум хоть как то, я заставил \n",
        "нажимать его каждую последующую страницу, нашел 2 способа - XPath и сабстрока,  по сабстроке\n",
        "он открывал новую вкладку в браузере при переходе, а у меня по какой то причине не переключаются\n",
        "при помощи window_handles-switch_to.window, поэтому принял решение искать кнопки по XPath. \n",
        "Для этого разработал алгоритм который присутсвует ниже: end находит номер последней страницы,\n",
        "словарь открывает первые 5 страниц и последнюю (на сайте при подгрузки, кнопки смещаются),\n",
        "и условие которое прописывает пусть на все остальные страницы\"\"\"\n",
        "end = int(driver.execute_script('return arguments[0].firstChild.textContent;', parent_element).strip())\n",
        "\n",
        "\"\"\"А потом я нашел кнопку \"следущая страница..:=)\"\"\"\n",
        "dict_XPath = {2: 3, 3: 4, 4: 5, 5: 6}\n",
        "dict_XPath[end] = 8\n",
        "try:\n",
        "    for i in range(2, end+1):\n",
        "        if 5 < i < end:\n",
        "            j = 7\n",
        "        else:\n",
        "            j = dict_XPath[i]\n",
        "        driver.implicitly_wait(5)\n",
        "        actions = ActionChains(driver)\n",
        "        wait = WebDriverWait(driver, timeout=15)\n",
        "\n",
        "        actions.move_to_element(driver.find_element(By.XPATH, f'//*[@id=\"catalog-listing\"]/div[2]/ul/li[{j}]/a'))\n",
        "        actions.perform()\n",
        "        actions.scroll_to_element(driver.find_element(By.XPATH, f'//*[@id=\"catalog-listing\"]/div[2]/ul/li[{j}]/a'))\n",
        "        actions.perform()\n",
        "        # link_page = driver.find_element(By.CSS_SELECTOR, f'ul > li.ant-pagination-item.ant-pagination-item-{i} > a').get_attribute('href') #  пытался очень долго, стабильную ссылку получить не выходит\n",
        "        wait.until(EC.element_to_be_clickable((By.XPATH, f'//*[@id=\"catalog-listing\"]/div[2]/ul/li[{j}]/a'))).click()\n",
        "\n",
        "        URL = f'{URL[:URL.index(\"=\")+1]}{i}'\n",
        "        parse(URL)\n",
        "except Exception as ex:\n",
        "    print(f'Error: {ex}')\n",
        "print(len(res_name_price_id))\n",
        "\n",
        "driver.quit()\n",
        "\n",
        "with open('bs4_selen.css', 'w', encoding='utf8', newline='') as file:\n",
        "    writer = csv.DictWriter(file, fieldnames=res_name_price_id[0])\n",
        "    writer.writeheader()\n",
        "    for row in res_name_price_id:\n",
        "        writer.writerow(row)\n",
        "    "
      ],
      "metadata": {
        "id": "ORwgF2mYffFf"
      },
      "execution_count": null,
      "outputs": []
    },
    {
      "cell_type": "markdown",
      "source": [
        "### Возможный алгоритм решения задачи в Colab (простой):"
      ],
      "metadata": {
        "id": "wLgQzytJh7V_"
      }
    },
    {
      "cell_type": "markdown",
      "source": [
        "Возможный алгоритм решения задачи в коллабе (простой):\n",
        "1. Установливаем параметры для headless браузера\n",
        "2. Инициализацируем сессию браузера\n",
        "3. Переходим по данной ссылке\n",
        "4. Устанавливаем неявное ожидание\n",
        "5. Инициализируем явное ожидание для нажатия на кнопку \"Больше\"\n",
        "6. С помощью бесконечного цикла жмем на кнопку методом click, пока она кликабельна  (ну и не забываем про селектор)\n",
        "4. Оборачиваем все в trt except.Когда вылетит с ошибкой того, что кнопка не кликабельна => прогрузили все карточки\n",
        "\n",
        "5. С помощью BS находим блок карточек\n",
        "6. Поочереднно собираем необходимые данные с карточки\n",
        "7. Записываем все в файл с форматом csv, используя CSV библиотеку\n",
        "\n"
      ],
      "metadata": {
        "id": "TfOWoc4glonj"
      }
    },
    {
      "cell_type": "markdown",
      "source": [
        "##Задание 4. Фреймворк Scrapy"
      ],
      "metadata": {
        "id": "2kKiYGTFfSpV"
      }
    },
    {
      "cell_type": "markdown",
      "source": [
        "Соберите информацию о заквасках с сайта pro-syr.ru (https://pro-syr.ru/zakvaski-dlya-syra/mezofilnye/)\n",
        "\n",
        "Необходимо собрать следующие данные:\n",
        "* Название продукта\n",
        "* Цена\n",
        "* Есть ли продукт в наличии\n",
        "\n",
        "Результат должен быть записан в CSV файл"
      ],
      "metadata": {
        "id": "A6UOPxtk563f"
      }
    },
    {
      "cell_type": "code",
      "source": [
        "! pip install scrapy\n"
      ],
      "metadata": {
        "id": "tP7krMMSQ4hG"
      },
      "execution_count": null,
      "outputs": []
    },
    {
      "cell_type": "code",
      "source": [
        "!scrapy startproject last_sir\n",
        "\n"
      ],
      "metadata": {
        "id": "65zmezdBSMfg"
      },
      "execution_count": null,
      "outputs": []
    },
    {
      "cell_type": "code",
      "source": [
        "%cd /content/sir/sirsir/last_sir"
      ],
      "metadata": {
        "colab": {
          "base_uri": "https://localhost:8080/"
        },
        "id": "gFTdX376TM9m",
        "outputId": "16a27202-6f44-4919-c3ca-5268593d28fa"
      },
      "execution_count": null,
      "outputs": [
        {
          "output_type": "stream",
          "name": "stdout",
          "text": [
            "/content/sir/sirsir/last_sir\n"
          ]
        }
      ]
    },
    {
      "cell_type": "code",
      "source": [
        "import scrapy\n",
        "\n",
        "\n",
        "class SirSpider(scrapy.Spider):\n",
        "    name = \"last_sir\"\n",
        "    start_urls = [\"https://pro-syr.ru/zakvaski-dlya-syra/mezofilnye/\"]\n",
        "\n",
        "    def parse(self, response):\n",
        "        links = response.css(\"div.row.grid-july div.nameproduct a::attr(href)\")\n",
        "        for link in links:\n",
        "            yield response.follow(link, self.parse_product)\n",
        "\n",
        "        link = response.css(\"div.col-sm-12 ul.pagination a::attr(href)\")[-1].get()\n",
        "        yield response.follow(link, self.parse)\n",
        "\n",
        "    def parse_product(self, response):\n",
        "        yield {\n",
        "            \"name\": response.css(\"div.col-md-9 h1::text\").get(),\n",
        "            \"price\": response.css(\"li.price span::text\").get(),\n",
        "            \"in_stock\": response.css(\"div.product-description b::text\").get()\n",
        "        }"
      ],
      "metadata": {
        "id": "EO-otAz7JuMe"
      },
      "execution_count": null,
      "outputs": []
    },
    {
      "cell_type": "code",
      "source": [],
      "metadata": {
        "id": "0zUq-Xwlfgjn"
      },
      "execution_count": null,
      "outputs": []
    },
    {
      "cell_type": "code",
      "source": [
        "%cd /content/sir/sirsir/last_sir\n",
        "\n",
        "!scrapy crawl last_sir -o vsysnii_sir.csv"
      ],
      "metadata": {
        "id": "bxd1yuolSrdP"
      },
      "execution_count": null,
      "outputs": []
    },
    {
      "cell_type": "code",
      "source": [],
      "metadata": {
        "id": "udM4Isl1RDxB"
      },
      "execution_count": null,
      "outputs": []
    },
    {
      "cell_type": "markdown",
      "source": [
        "### Возможный алгоритм решения задачи:"
      ],
      "metadata": {
        "id": "Bp_AOQKphZDX"
      }
    },
    {
      "cell_type": "markdown",
      "source": [
        "1. Инициализируем проект SCRAPY\n",
        "2. В папке spiders создаем своего паука\n",
        "3. Создаем класс с пауком и наследуемся от scrapy.Spider\n",
        "4. Называем паука так же, как и класс\n",
        "5. Указываем стартовую ссылку\n",
        "6. Создаем функцию парсинга карточки, где описываем получение данных из карточки в словарь (название, цена и запас). Возвращаем обратно словарь через yield.\n",
        "7. Создаем функцию parse — основую логику перехода по ссылкам\n",
        "8. Получаем ссылки на каждую карточек текущей страницы\n",
        "9. Циклом проходимся по каждой и собираем данные через ранне коллбек функцию\n",
        "10. Дальше в функции parse расписываем переход на следующую страницу. Для этого находим в пагинации ссылку на следующую страницу  и переходим на нее до тех пор, пока она не закончится.\n",
        "11. В командной строке переходим в папку с проектом scrapy (%cd <название проекта>/) \n",
        "12. В командной строке пишем команду !scrapy runspider <название паука или путь до него из папки с проектом> -o <Название файла с форматом csv, куда будет записан результат парсинга>\n",
        "\n",
        "\n",
        "Не забывайте пользоваться scrapy shell!"
      ],
      "metadata": {
        "id": "s2id-iqTmngO"
      }
    },
    {
      "cell_type": "markdown",
      "source": [
        "# **Дополнительно (по желанию)**"
      ],
      "metadata": {
        "id": "uKGJfcM39R62"
      }
    },
    {
      "cell_type": "markdown",
      "source": [
        "##Задание. Собираем данные с помощью Requests"
      ],
      "metadata": {
        "id": "cJL8g8Cy96Rd"
      }
    },
    {
      "cell_type": "markdown",
      "source": [
        "С помощью методов API ВКонтакте получите список высших учебных заведений и названия их факультетов в городе Томск.\n",
        "Результат должен быть записан в файл JSON в следующем формате:"
      ],
      "metadata": {
        "id": "MgvkdXgsex5B"
      }
    },
    {
      "cell_type": "code",
      "execution_count": null,
      "metadata": {
        "id": "UiF3TeikBTrD"
      },
      "outputs": [],
      "source": [
        "\"result\": {\n",
        "  \"cities\": [\n",
        "    {   \n",
        "        \"id\": <ID города>,\n",
        "        \"name\": <Название города>,\n",
        "        \"universites\": [\n",
        "            {\n",
        "              \"id\": <ID ВУЗа>, \n",
        "              \"name\": <Название ВУЗа>\n",
        "              \"faculties\": [<Название факультета>, …]\n",
        "            },\n",
        "            ...\n",
        "        ]\n",
        "    },\n",
        "    ...\n",
        "}"
      ]
    },
    {
      "cell_type": "code",
      "source": [],
      "metadata": {
        "id": "RbPFOD0999QA"
      },
      "execution_count": null,
      "outputs": []
    },
    {
      "cell_type": "markdown",
      "source": [
        "### Возможный алгоритм решения задачи:"
      ],
      "metadata": {
        "id": "eQ8qxWmA-GlI"
      }
    },
    {
      "cell_type": "markdown",
      "source": [
        "1.   Получаем токен доступа к API Вконтакте\n",
        "2.   Настраиваем подключение к API Вконтакте  и устанавливаем базовые параметры (токен и версия) GET запроса\n",
        "\n",
        "---\n",
        "\n",
        "3. Следуя методу из документации для получения городов и используя библиотеку requests, составляем запрос на получение информации о городе «Томск» и получаем его id и название из ответа на запрос\n",
        "\n",
        "---\n",
        "4. Следуя методу из документации для получения университетов и используя библиотеку requests, составляем запрос на получение информации о университетах города «Томск» (по найденному id) и получаем список университетов\n",
        "5. Из полученного списка университетов получаем id и название каждого\n",
        "6. Список id и названия университетов записываем в словарь с информацией о найденном городе под ключем 'universites'\n",
        "---\n",
        "\n",
        "7. Находим метод получения факультетов университета в документации API Вконтакте\n",
        "8. Через цикл по каждому id университета, составляем запрос на получение информации о факультете университета (по найденному id) и получаем список названий факультетов\n",
        "9. В этом же цикле записываем под ключем 'faculties' полученный список\n",
        "---\n",
        "10. Создаем финальный словарь с ключем 'result', значение которого будет еще один словарь 'cities' со значением созданного нами словаря с информацией о городе-университетах-факультетах\n",
        "11. Записываем наш словарь в  файл с форматом JSON\n",
        "\n",
        "\n",
        "\n"
      ],
      "metadata": {
        "id": "1DiivPHK833t"
      }
    },
    {
      "cell_type": "markdown",
      "source": [
        "Пример решения задачи-аналога: https://colab.research.google.com/drive/1kvqcs1R8oRueCa_EajNXdV4w1qr6DCgA?usp=sharing"
      ],
      "metadata": {
        "id": "dI54GXxV-6rp"
      }
    },
    {
      "cell_type": "markdown",
      "source": [
        "##Задание. Библиотека BeautifulSoup"
      ],
      "metadata": {
        "id": "xGVZmQlN9k8N"
      }
    },
    {
      "cell_type": "markdown",
      "source": [
        "Написать код, который соберет список знаменательных дат в формате «чисто месяц год» с первой страницы сайта GCTC.ru (https://www.gctc.ru/main.php?id=98.1)"
      ],
      "metadata": {
        "id": "EvfKn3WArL8X"
      }
    },
    {
      "cell_type": "code",
      "source": [],
      "metadata": {
        "id": "Sdn8-Ot-9eSY"
      },
      "execution_count": null,
      "outputs": []
    },
    {
      "cell_type": "markdown",
      "source": [
        "### Возможный алгоритм решения задачи:"
      ],
      "metadata": {
        "id": "Z5fdkDqd9qq8"
      }
    },
    {
      "cell_type": "markdown",
      "source": [
        "1. Устанавливаем bs4\n",
        "2. Здесь lxml неправильно декодирует html в дерево супа (это можно узнать путем проб и ошибок)\n",
        "3. Устанавливаем любой другой парсер и проверяем, что он нормально декодирует (html5lib подходит)\n",
        "\n",
        "4. С помощью requests инициализируем сессию, используя указанную ссылку, и устанавливем заголовки\n",
        "5. Получаем из проинициализированной сессии text и варим суп\n",
        "6. Получаем главный блок с помощью селектора из которого нужно достать данные\n",
        "7. Получаем все теги h2, которые содержат год \n",
        "8. Создаем результативный массив и в цикле по каждому тегу h2 будем записывать в него полученный результат\n",
        "9. В цикле обрезаем .г у года, Получаем ОДИН h1, который был до div.news h2 с помощью метода find_previous (это и есть день и месяц события)\n",
        "10. Получаем дату+месяц, где первые два символа это день, а остальные символы это название месяца\n",
        "11. Записываем все в результативный массив\n",
        "\n",
        "\n",
        "Не забываем все обернуть в try except и проверять с помощью raise_for_status"
      ],
      "metadata": {
        "id": "ar3LJKizE3E7"
      }
    },
    {
      "cell_type": "markdown",
      "source": [
        "##Задание. Библиотека Selenium"
      ],
      "metadata": {
        "id": "4refkAJceIVx"
      }
    },
    {
      "cell_type": "markdown",
      "source": [
        "Написать код, который выполнит ввод слова «Lenovo» в поисковую строку сайта  nbcomputers.ru (https://www.nbcomputers.ru/) и начнет поиск\n",
        "<br>\n",
        "<br>\n",
        "![Поиск.png](data:image/png;base64,iVBORw0KGgoAAAANSUhEUgAAApQAAAAyCAYAAADiFUvmAAAAAXNSR0IArs4c6QAAAARnQU1BAACxjwv8YQUAAAAJcEhZcwAADsMAAA7DAcdvqGQAAATUSURBVHhe7d3PalNZHMDxeYx5CH2eER/CheAM6GIWA8K8jOAMwiy0MdQQSo2xtknHli7aGvtvNEiQtJTym3uSmzZm0iblitPYzwcO7UnvbaGrL+fck/wQAABQgKAEAKAQQQkAQCGCEgCAQgQlAACFTAzKR1ut+OnFYtx4Mhc/PvrLMAzDMAzDuCYj9d+trAMfb+/kZTjehUH5c70R916tRGn3IPa7h/mrAABcB6n/5rIOvFtbjgevm/mr/3VuUP6SxeTvzfV8BgDAdfawsRb3z4nKsUH56N1O3Kuv5DMAAIi4+2olHmedOGpsUKZnJkt7/+QzAACIeLp7ELcrL/PZmbFBmR7A3D88ymcAABCx1z2Mm1knjhoblOlUDwAAjBrXiYISAICpCUoAAAoRlAAAFCIoAQAoRFACAHzHPn78GEtLS1Eul+PZs2e9r81mM7rdbn5FcYISAOA7dHx83AvHFJHPnz+PWq0Wa2trva/ptTS2trbyq4v5xkHZjkalFKXaZj4fthm1UikqjXY+n0Yr6uX5WNo5zv5rO7E0X4radv4jAIBrrNFo9KIxfU1xOSytTg7C8mtE5YwHZfYPaS1FJbuvlI35+mZ8vcVbAIDZlLa5BzF5kYWFhd4WeNHt75kPSgAAvpSemUzb3KMrk6MG4Vl0lfJKB+VxeyPq1XJv9bG3ArnYiJ3TgO5fP/yrjrZrUR681m6crlyOjv7fmHA/AMCMGjwzOY3LXHueqxuURxuxmObLrWh3j+LoUyuW072LG9H/RPGRIDxJz1P2g3H012/WstcrjeyvD5v+fgCAWZJWHdMBnGmkmJzNoMyi7bxxGpQnR/G58zmOTvrTpN2oDIXhcBCexN7yfJSq1aievnZmclBefD8AwCy57Apl2iIv4v8JysX16HQ6I2O9vyI5tOXd3VmN2tCWd2+MCcqTD2l7uxKr7ZFVx9ykoJx0PwDALBmc8J502Ob9+/ff+TOUnbdRLZWj2mhFJ3+edPwKZTtWs99ZaXyIky9WHc9cHJST7wcAmCUpJFMoXrRKmQ7sVCqVqQ7vTHJ1g3KzFqVSLXv1zIcxQVmtVqM0vxx7va3xywflNPcDAMyatOqYojK9NVA6zT1sf3+/F5Pp50W3u5OrG5QHyzGf5ulQTqcTBxu13rxUrkerd0H/+lKpHPXW4EHLywflNPcDAMyiFJVpBTKFY3q/ybRiOfgIxsGzk+n79Ik6RVzdoIyT+LRZj0p+8rpcqcfm6mL2/UKs9455968v17bzU9/J5YNymvsBAGZV2v5OYTk4zZ0iMs0H29yD5y2LROU3DkoAAK6aolEpKAEAOI3Kad+/cpigBACgJ0VlOsRzWYISAIBCBCUAAIUISgAAChGUAAAUIigBAChEUAIAUIigBACgkKmD8saTudg/PPuQQgAA2Osexs2sE0eNDcpbLxZjbvcgnwEAQMTTrA9vV17mszNjg/Lxu524W1vJZwAAEHHn5Zv4s7Wbz86MDcrkwVIzHjbX8xkAANfZbytv49c3f+ezL50blMn9183eSmVa3kx75gAAXB+p/1IH3qktnxuTyYVBmfzxbqe3V54ewEynegzDMAzDMIzrMVL/pQ4ct809bGJQAgDARQQlAACFCEoAAAoRlAAAFCIoAQAoIOJfo8wRgBFQ9M8AAAAASUVORK5CYII=)\n",
        "\n",
        "*(подсказка: изучите внимательно документацию и методы wait.until, click или send_keys)*"
      ],
      "metadata": {
        "id": "6JTr57BPdOpA"
      }
    },
    {
      "cell_type": "code",
      "source": [
        "%%shell\n",
        "# Ubuntu no longer distributes chromium-browser outside of snap\n",
        "#\n",
        "# Proposed solution: https://askubuntu.com/questions/1204571/how-to-install-chromium-without-snap\n",
        "\n",
        "# Add debian buster\n",
        "cat > /etc/apt/sources.list.d/debian.list <<'EOF'\n",
        "deb [arch=amd64 signed-by=/usr/share/keyrings/debian-buster.gpg] http://deb.debian.org/debian buster main\n",
        "deb [arch=amd64 signed-by=/usr/share/keyrings/debian-buster-updates.gpg] http://deb.debian.org/debian buster-updates main\n",
        "deb [arch=amd64 signed-by=/usr/share/keyrings/debian-security-buster.gpg] http://deb.debian.org/debian-security buster/updates main\n",
        "EOF\n",
        "\n",
        "# Add keys\n",
        "apt-key adv --keyserver keyserver.ubuntu.com --recv-keys DCC9EFBF77E11517\n",
        "apt-key adv --keyserver keyserver.ubuntu.com --recv-keys 648ACFD622F3D138\n",
        "apt-key adv --keyserver keyserver.ubuntu.com --recv-keys 112695A0E562B32A\n",
        "\n",
        "apt-key export 77E11517 | gpg --dearmour -o /usr/share/keyrings/debian-buster.gpg\n",
        "apt-key export 22F3D138 | gpg --dearmour -o /usr/share/keyrings/debian-buster-updates.gpg\n",
        "apt-key export E562B32A | gpg --dearmour -o /usr/share/keyrings/debian-security-buster.gpg\n",
        "\n",
        "# Prefer debian repo for chromium* packages only\n",
        "# Note the double-blank lines between entries\n",
        "cat > /etc/apt/preferences.d/chromium.pref << 'EOF'\n",
        "Package: *\n",
        "Pin: release a=eoan\n",
        "Pin-Priority: 500\n",
        "\n",
        "\n",
        "Package: *\n",
        "Pin: origin \"deb.debian.org\"\n",
        "Pin-Priority: 300\n",
        "\n",
        "\n",
        "Package: chromium*\n",
        "Pin: origin \"deb.debian.org\"\n",
        "Pin-Priority: 700\n",
        "EOF\n",
        "\n",
        "# Install chromium and chromium-driver\n",
        "apt-get update\n",
        "apt-get install chromium chromium-driver\n",
        "\n",
        "# Install selenium\n",
        "pip install selenium"
      ],
      "metadata": {
        "id": "oL9552d2_PFO"
      },
      "execution_count": null,
      "outputs": []
    },
    {
      "cell_type": "code",
      "source": [
        "# Install chromium and chromium-driver\n",
        "!apt-get update\n",
        "!apt-get install chromium chromium-driver\n"
      ],
      "metadata": {
        "id": "3YcjfwyLRsG8"
      },
      "execution_count": null,
      "outputs": []
    },
    {
      "cell_type": "code",
      "source": [
        "\n",
        "# Install selenium\n",
        "!pip install selenium"
      ],
      "metadata": {
        "id": "ilkNnGFzSt6t"
      },
      "execution_count": null,
      "outputs": []
    },
    {
      "cell_type": "code",
      "source": [
        "from selenium import webdriver\n",
        "from selenium.webdriver.common.by import By\n",
        "from selenium.webdriver.common.action_chains import ActionChains\n",
        "from selenium.webdriver.support.wait import WebDriverWait\n",
        "from selenium.webdriver.support import expected_conditions as EC\n",
        "\n",
        "\n",
        "chrome_options = webdriver.ChromeOptions()\n",
        "chrome_options.add_argument('--headless')\n",
        "chrome_options.add_argument(\"window-size=1920,1080\")\n",
        "chrome_options.add_argument('--no-sandbox')\n",
        "chrome_options.add_argument('--disable-dev-shm-usage')\n",
        "driver = webdriver.Chrome('/usr/bin/chromedriver',options=chrome_options)\n",
        "\n",
        "\n",
        "\n",
        "\n",
        "\n",
        "try:\n",
        "    driver.get(\"https://www.nbcomputers.ru/\")\n",
        "    driver.implicitly_wait(10)\n",
        "    bt_search = driver.find_element(By.CSS_SELECTOR, 'input.ant-input')\n",
        "    ActionChains(driver).move_to_element(bt_search).click(bt_search).send_keys('Lenovo\\n').perform() \n",
        "    # bt_search.send_keys('Lenovo\\n')\n",
        "except Exception as ex:\n",
        "    print(f'Error: {ex}')\n",
        "\n",
        "html = driver.page_source\n",
        "driver.quit()"
      ],
      "metadata": {
        "id": "ePDfEe4YeMea",
        "colab": {
          "base_uri": "https://localhost:8080/"
        },
        "outputId": "56153079-10cb-4852-ed77-1984b746f9cc"
      },
      "execution_count": null,
      "outputs": [
        {
          "output_type": "stream",
          "name": "stderr",
          "text": [
            "<ipython-input-7-de8825436f62>:13: DeprecationWarning: executable_path has been deprecated, please pass in a Service object\n",
            "  driver = webdriver.Chrome('/usr/bin/chromedriver',options=chrome_options)\n"
          ]
        }
      ]
    },
    {
      "cell_type": "markdown",
      "source": [
        "### Возможный алгоритм решения задачи:"
      ],
      "metadata": {
        "id": "fjaTZHAIeLRB"
      }
    },
    {
      "cell_type": "markdown",
      "source": [
        "Возможный алгоритм решения задачи в коллабе (простой):\n",
        "1. Установливаем параметры для headless браузера\n",
        "2. Инициализацируем сессию браузера\n",
        "3. Переходим по данной ссылке\n",
        "4. Находим элемент по селектору\n",
        "5. С помощью метода send_keys и \\n в конце строки (\\n имитирует нажатие кнопки Enter) выполняем поиск\n",
        "\n",
        "Более сложный  и верный с использованием ожиданий\n"
      ],
      "metadata": {
        "id": "x0ngTW2zjv7A"
      }
    }
  ]
}