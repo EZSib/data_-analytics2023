{
  "nbformat": 4,
  "nbformat_minor": 0,
  "metadata": {
    "colab": {
      "provenance": [],
      "include_colab_link": true
    },
    "kernelspec": {
      "name": "python3",
      "display_name": "Python 3"
    },
    "language_info": {
      "name": "python"
    }
  },
  "cells": [
    {
      "cell_type": "markdown",
      "metadata": {
        "id": "view-in-github",
        "colab_type": "text"
      },
      "source": [
        "<a href=\"https://colab.research.google.com/github/EZSib/date_analy_cleaning/blob/main/%D0%95%D1%84%D0%B8%D0%BC_%22%D0%97%D0%B0%D0%B4%D0%B0%D0%BD%D0%B8%D0%B5_%D0%BF%D0%BE_%D1%82%D0%B5%D0%BC%D0%B5_3%22.ipynb\" target=\"_parent\"><img src=\"https://colab.research.google.com/assets/colab-badge.svg\" alt=\"Open In Colab\"/></a>"
      ]
    },
    {
      "cell_type": "markdown",
      "source": [
        "# Описание датасета"
      ],
      "metadata": {
        "id": "ubl8S6m-Okfm"
      }
    },
    {
      "cell_type": "markdown",
      "source": [
        "![](https://storage.googleapis.com/kaggle-datasets-images/1617785/2659800/c06a7a3de61a874af446f350118ca9ca/dataset-cover.jpg?t=2021-09-28-18-06-09)\n",
        "<br>Представлен датасет с данными об игроках режима \"Карьера\" компьютерной игры FIFA 2022 (датасет выложен на платформе [Kaggle](https://www.kaggle.com/datasets/stefanoleone992/fifa-22-complete-player-dataset))."
      ],
      "metadata": {
        "id": "ZpY_ynBcRHJP"
      }
    },
    {
      "cell_type": "markdown",
      "source": [
        "**Формат файла** : *csv*"
      ],
      "metadata": {
        "id": "TOpmRX4Vvqme"
      }
    },
    {
      "cell_type": "markdown",
      "source": [
        "**Ссылка на файл** : https://drive.google.com/file/d/1TO3ZFteyoxQ1GQYrs9Y3hDSdhxXDpx1u/view?usp=share_link"
      ],
      "metadata": {
        "id": "d3Viry5eSTw9"
      }
    },
    {
      "cell_type": "markdown",
      "source": [
        "# Задание по теме 3"
      ],
      "metadata": {
        "id": "N-iVm0gwVeje"
      }
    },
    {
      "cell_type": "markdown",
      "source": [
        "\n",
        " <br>!gdown --id тут айди - загрузка файла\n",
        " <br>pd.read_csv() - чтение сисв файлов\n",
        " <br>pd.read_excel() - for xls, xlsx\n",
        " <br>pd.head() - по умолчанию выводит первые 5 строк\n",
        " <br>pd.sample() - указанное количество случайных строк\n",
        " <br>pd.size - количество ячеек\n",
        " <br>len(df) - количество наблюдений (строк)\n",
        " <br>len(df.axes) - количество признаков в строке<br>(столбцов)\n",
        " <br>df.shape - количество строк и столбцов в дф\n",
        "<br> df.dtypes - список признаков по типам данных\n",
        "<br> df.info - сводная информация о датасете\n"
      ],
      "metadata": {
        "id": "Nmnh6Zit1NLg"
      }
    },
    {
      "cell_type": "code",
      "execution_count": null,
      "metadata": {
        "id": "mZFaBGyVO11S"
      },
      "outputs": [],
      "source": [
        "# скачайте датасет с помощью команды !gdown\n",
        "!gdown --id 1TO3ZFteyoxQ1GQYrs9Y3hDSdhxXDpx1u"
      ]
    },
    {
      "cell_type": "code",
      "source": [
        "# импортируйте библиотеку pandas\n",
        "import pandas as pd"
      ],
      "metadata": {
        "id": "oFiDlt-tTJqK"
      },
      "execution_count": 3,
      "outputs": []
    },
    {
      "cell_type": "code",
      "source": [
        "# прочитайте датасет и сохраните его в переменную\n",
        "df = pd.read_csv('players_22.csv')"
      ],
      "metadata": {
        "id": "7q_PjhIpS6kJ"
      },
      "execution_count": null,
      "outputs": []
    },
    {
      "cell_type": "code",
      "source": [
        "# проведите визуальный обзор датасета\n",
        "df"
      ],
      "metadata": {
        "id": "jeUuSYrhTRGL"
      },
      "execution_count": null,
      "outputs": []
    },
    {
      "cell_type": "code",
      "source": [
        "# определите количество ячеек в датафрейме (строки X столбцы)\n",
        "df.size"
      ],
      "metadata": {
        "id": "HqReIiUwTTAg",
        "colab": {
          "base_uri": "https://localhost:8080/"
        },
        "outputId": "2cfc19bf-89bc-4a38-9350-9ca62b68005c"
      },
      "execution_count": 13,
      "outputs": [
        {
          "output_type": "execute_result",
          "data": {
            "text/plain": [
              "2116290"
            ]
          },
          "metadata": {},
          "execution_count": 13
        }
      ]
    },
    {
      "cell_type": "code",
      "source": [
        "# определите количество наблюдений в датафрейме\n",
        "len(df)"
      ],
      "metadata": {
        "id": "nfOoW2hsUZgZ",
        "colab": {
          "base_uri": "https://localhost:8080/"
        },
        "outputId": "1f45c21c-a1e1-4d5c-b31d-354266f5a9a6"
      },
      "execution_count": 14,
      "outputs": [
        {
          "output_type": "execute_result",
          "data": {
            "text/plain": [
              "19239"
            ]
          },
          "metadata": {},
          "execution_count": 14
        }
      ]
    },
    {
      "cell_type": "code",
      "source": [
        "# определите количество признаков в датафрейме\n",
        "len(df.axes[1])"
      ],
      "metadata": {
        "id": "ezVvMlbsUQQP",
        "colab": {
          "base_uri": "https://localhost:8080/"
        },
        "outputId": "a8c12d22-2aac-4689-e504-703eb836341b"
      },
      "execution_count": 18,
      "outputs": [
        {
          "output_type": "execute_result",
          "data": {
            "text/plain": [
              "110"
            ]
          },
          "metadata": {},
          "execution_count": 18
        }
      ]
    },
    {
      "cell_type": "code",
      "source": [
        "# определите тип данных по признаку 'wage_eur'\n",
        "type(df['wage_eur'][0])"
      ],
      "metadata": {
        "id": "8oI1LtMIUfvh",
        "colab": {
          "base_uri": "https://localhost:8080/"
        },
        "outputId": "a1f5fae3-e457-4c10-ddaa-3db42c0eb1ec"
      },
      "execution_count": 20,
      "outputs": [
        {
          "output_type": "execute_result",
          "data": {
            "text/plain": [
              "numpy.float64"
            ]
          },
          "metadata": {},
          "execution_count": 20
        }
      ]
    }
  ]
}
