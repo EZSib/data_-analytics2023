{
  "nbformat": 4,
  "nbformat_minor": 0,
  "metadata": {
    "colab": {
      "provenance": [],
      "include_colab_link": true
    },
    "kernelspec": {
      "name": "python3",
      "display_name": "Python 3"
    },
    "language_info": {
      "name": "python"
    }
  },
  "cells": [
    {
      "cell_type": "markdown",
      "metadata": {
        "id": "view-in-github",
        "colab_type": "text"
      },
      "source": [
        "<a href=\"https://colab.research.google.com/github/EZSib/data_cleaning/blob/main/%D0%9F%D1%80%D0%B0%D0%BA%D1%82%D0%B8%D0%BA%D0%B0_%D0%A7%D0%B8%D1%81%D1%82%D0%BA%D0%B0_%D0%B4%D0%B0%D0%BD%D0%BD%D1%8B%D1%85_%22%D0%97%D0%B0%D0%B4%D0%B0%D0%BD%D0%B8%D0%B5_%D0%BF%D0%BE_%D1%82%D0%B5%D0%BC%D0%B5_4%22.ipynb\" target=\"_parent\"><img src=\"https://colab.research.google.com/assets/colab-badge.svg\" alt=\"Open In Colab\"/></a>"
      ]
    },
    {
      "cell_type": "markdown",
      "source": [
        "# Описание датасета"
      ],
      "metadata": {
        "id": "ubl8S6m-Okfm"
      }
    },
    {
      "cell_type": "markdown",
      "source": [
        "![](https://storage.googleapis.com/kaggle-datasets-images/1617785/2659800/c06a7a3de61a874af446f350118ca9ca/dataset-cover.jpg?t=2021-09-28-18-06-09)\n",
        "<br>Представлен датасет с данными об игроках режима \"Карьера\" компьютерной игры FIFA 2022 (датасет выложен на платформе [Kaggle](https://www.kaggle.com/datasets/stefanoleone992/fifa-22-complete-player-dataset))."
      ],
      "metadata": {
        "id": "ZpY_ynBcRHJP"
      }
    },
    {
      "cell_type": "markdown",
      "source": [
        "**Формат файла** : *csv*"
      ],
      "metadata": {
        "id": "TOpmRX4Vvqme"
      }
    },
    {
      "cell_type": "markdown",
      "source": [
        "**Ссылка на файл** : https://drive.google.com/file/d/1TO3ZFteyoxQ1GQYrs9Y3hDSdhxXDpx1u/view?usp=share_link"
      ],
      "metadata": {
        "id": "d3Viry5eSTw9"
      }
    },
    {
      "cell_type": "markdown",
      "source": [
        "# Задание по теме 4"
      ],
      "metadata": {
        "id": "yLwuG12GX7I8"
      }
    },
    {
      "cell_type": "markdown",
      "source": [
        "**df.copy()**\n",
        "* Создание копии датафрейма df\n",
        "\n",
        "**df.columns**\n",
        "* Вывод списка колонок(столбцов)датафрейма\n",
        "\n",
        "**df.drop**(columns=**columns**, inplace=**True**)\n",
        "* Удаление столбцов датафрейма(параметр inplace=True перезаписывает датафрейм)\n",
        "\n",
        "**df.duplicated()**\n",
        "* Проверка на дубликаты: выдает объект Series с булевыми значениями True/False\n",
        "\n",
        "**df.duplicated().sum()**\n",
        "* Количествополных дубликатов (по умолчанию параметр keep='first‘ присваивает значение True первому из совпадений)\n",
        "\n",
        "**df.duplicated**(subset=['bdate', 'sex'], **keep=False).sum()**\n",
        "* Количество дубликатов по столбцам 'bdate', 'sex’(параметр keep=False присваивает значения True всем найденным дубликатам)\n",
        "\n",
        "**df.drop_duplicates**(inplace=**True**)\n",
        "* Удаление полных дубликатов (по умолчанию параметр keep='first‘ удаляет все дубликаты, кроме первого; параметр inplace=True перезаписывает датафрейм)\n",
        "\n",
        "**df.drop_duplicates**(subset=['bdate', 'sex'], **keep=False**, **inplace=True**)\n",
        "* Удаление дубликатов по столбцам 'bdate', 'sex’ (параметр keep=False удаляет все найденные дубликаты; параметр inplace=True перезаписывает датафрейм)"
      ],
      "metadata": {
        "id": "Gs_bbLQcTuGd"
      }
    },
    {
      "cell_type": "code",
      "execution_count": 1,
      "metadata": {
        "id": "EsKs1CtVX7I-",
        "colab": {
          "base_uri": "https://localhost:8080/"
        },
        "outputId": "1937032c-8425-47ac-a45b-a03a7c6201af"
      },
      "outputs": [
        {
          "output_type": "stream",
          "name": "stdout",
          "text": [
            "/usr/local/lib/python3.9/dist-packages/gdown/cli.py:121: FutureWarning: Option `--id` was deprecated in version 4.3.1 and will be removed in 5.0. You don't need to pass it anymore to use a file ID.\n",
            "  warnings.warn(\n",
            "Downloading...\n",
            "From: https://drive.google.com/uc?id=1TO3ZFteyoxQ1GQYrs9Y3hDSdhxXDpx1u\n",
            "To: /content/players_22.csv\n",
            "100% 13.6M/13.6M [00:00<00:00, 148MB/s]\n"
          ]
        }
      ],
      "source": [
        "# скачайте датасет с помощью команды !gdown\n",
        "!gdown --id 1TO3ZFteyoxQ1GQYrs9Y3hDSdhxXDpx1u"
      ]
    },
    {
      "cell_type": "code",
      "source": [
        "# импортируйте библиотеку pandas\n",
        "import pandas as pd"
      ],
      "metadata": {
        "id": "DVKmLpKIX7JA"
      },
      "execution_count": 2,
      "outputs": []
    },
    {
      "cell_type": "code",
      "source": [
        "# прочитайте датасет и сохраните его в переменную df\n",
        "df = pd.read_csv('players_22.csv')"
      ],
      "metadata": {
        "id": "AMzH4Q22X7JB",
        "colab": {
          "base_uri": "https://localhost:8080/"
        },
        "outputId": "a003ccb7-e55b-4f7a-a9eb-1bdf198bbe5d"
      },
      "execution_count": 3,
      "outputs": [
        {
          "output_type": "stream",
          "name": "stderr",
          "text": [
            "<ipython-input-3-ad9c01067de1>:2: DtypeWarning: Columns (25,108) have mixed types. Specify dtype option on import or set low_memory=False.\n",
            "  df = pd.read_csv('players_22.csv')\n"
          ]
        }
      ]
    },
    {
      "cell_type": "code",
      "source": [
        "# проведите визуальный обзор датасета\n",
        "df"
      ],
      "metadata": {
        "id": "5iZ2skZOX7JB",
        "colab": {
          "base_uri": "https://localhost:8080/",
          "height": 678
        },
        "outputId": "52f61fba-d3a1-4249-831a-0c40236fff39"
      },
      "execution_count": 4,
      "outputs": [
        {
          "output_type": "execute_result",
          "data": {
            "text/plain": [
              "       sofifa_id                                         player_url  \\\n",
              "0         158023  https://sofifa.com/player/158023/lionel-messi/...   \n",
              "1         188545  https://sofifa.com/player/188545/robert-lewand...   \n",
              "2          20801  https://sofifa.com/player/20801/c-ronaldo-dos-...   \n",
              "3         190871  https://sofifa.com/player/190871/neymar-da-sil...   \n",
              "4         192985  https://sofifa.com/player/192985/kevin-de-bruy...   \n",
              "...          ...                                                ...   \n",
              "19234     261962  https://sofifa.com/player/261962/defu-song/220002   \n",
              "19235     262040  https://sofifa.com/player/262040/caoimhin-port...   \n",
              "19236     262760  https://sofifa.com/player/262760/nathan-logue/...   \n",
              "19237     262820  https://sofifa.com/player/262820/luke-rudden/2...   \n",
              "19238     264540  https://sofifa.com/player/264540/emanuel-lalch...   \n",
              "\n",
              "               short_name                            long_name  \\\n",
              "0                L. Messi       Lionel Andrés Messi Cuccittini   \n",
              "1          R. Lewandowski                   Robert Lewandowski   \n",
              "2       Cristiano Ronaldo  Cristiano Ronaldo dos Santos Aveiro   \n",
              "3               Neymar Jr        Neymar da Silva Santos Júnior   \n",
              "4            K. De Bruyne                      Kevin De Bruyne   \n",
              "...                   ...                                  ...   \n",
              "19234           Song Defu                                  宋德福   \n",
              "19235           C. Porter                      Caoimhin Porter   \n",
              "19236            N. Logue              Nathan Logue-Cunningham   \n",
              "19237           L. Rudden                          Luke Rudden   \n",
              "19238  E. Lalchhanchhuaha              Emanuel Lalchhanchhuaha   \n",
              "\n",
              "      player_positions  overall  potential    value_eur  wage_eur  age  ...  \\\n",
              "0           RW, ST, CF       93         93   78000000.0  320000.0   34  ...   \n",
              "1                   ST       92         92  119500000.0  270000.0   32  ...   \n",
              "2               ST, LW       91         91   45000000.0  270000.0   36  ...   \n",
              "3              LW, CAM       91         91  129000000.0  270000.0   29  ...   \n",
              "4              CM, CAM       91         91  125500000.0  350000.0   30  ...   \n",
              "...                ...      ...        ...          ...       ...  ...  ...   \n",
              "19234              CDM       47         52      70000.0    1000.0   22  ...   \n",
              "19235               CM       47         59     110000.0     500.0   19  ...   \n",
              "19236               CM       47         55     100000.0     500.0   21  ...   \n",
              "19237               ST       47         60     110000.0     500.0   19  ...   \n",
              "19238              CAM       47         60     110000.0     500.0   19  ...   \n",
              "\n",
              "        lcb    cb   rcb    rb    gk  \\\n",
              "0      50+3  50+3  50+3  61+3  19+3   \n",
              "1      60+3  60+3  60+3  61+3  19+3   \n",
              "2      53+3  53+3  53+3  60+3  20+3   \n",
              "3      50+3  50+3  50+3  62+3  20+3   \n",
              "4      69+3  69+3  69+3  75+3  21+3   \n",
              "...     ...   ...   ...   ...   ...   \n",
              "19234  46+2  46+2  46+2  48+2  15+2   \n",
              "19235  44+2  44+2  44+2  48+2  14+2   \n",
              "19236  45+2  45+2  45+2  47+2  12+2   \n",
              "19237  26+2  26+2  26+2  32+2  15+2   \n",
              "19238  41+2  41+2  41+2  45+2  16+2   \n",
              "\n",
              "                                         player_face_url  \\\n",
              "0      https://cdn.sofifa.net/players/158/023/22_120.png   \n",
              "1      https://cdn.sofifa.net/players/188/545/22_120.png   \n",
              "2      https://cdn.sofifa.net/players/020/801/22_120.png   \n",
              "3      https://cdn.sofifa.net/players/190/871/22_120.png   \n",
              "4      https://cdn.sofifa.net/players/192/985/22_120.png   \n",
              "...                                                  ...   \n",
              "19234  https://cdn.sofifa.net/players/261/962/22_120.png   \n",
              "19235  https://cdn.sofifa.net/players/262/040/22_120.png   \n",
              "19236  https://cdn.sofifa.net/players/262/760/22_120.png   \n",
              "19237  https://cdn.sofifa.net/players/262/820/22_120.png   \n",
              "19238  https://cdn.sofifa.net/players/264/540/22_120.png   \n",
              "\n",
              "                                    club_logo_url  \\\n",
              "0          https://cdn.sofifa.net/teams/73/60.png   \n",
              "1          https://cdn.sofifa.net/teams/21/60.png   \n",
              "2          https://cdn.sofifa.net/teams/11/60.png   \n",
              "3          https://cdn.sofifa.net/teams/73/60.png   \n",
              "4          https://cdn.sofifa.net/teams/10/60.png   \n",
              "...                                           ...   \n",
              "19234  https://cdn.sofifa.net/teams/112541/60.png   \n",
              "19235     https://cdn.sofifa.net/teams/445/60.png   \n",
              "19236  https://cdn.sofifa.net/teams/111131/60.png   \n",
              "19237  https://cdn.sofifa.net/teams/111131/60.png   \n",
              "19238  https://cdn.sofifa.net/teams/113040/60.png   \n",
              "\n",
              "                                 club_flag_url  \\\n",
              "0          https://cdn.sofifa.net/flags/fr.png   \n",
              "1          https://cdn.sofifa.net/flags/de.png   \n",
              "2      https://cdn.sofifa.net/flags/gb-eng.png   \n",
              "3          https://cdn.sofifa.net/flags/fr.png   \n",
              "4      https://cdn.sofifa.net/flags/gb-eng.png   \n",
              "...                                        ...   \n",
              "19234      https://cdn.sofifa.net/flags/cn.png   \n",
              "19235      https://cdn.sofifa.net/flags/ie.png   \n",
              "19236      https://cdn.sofifa.net/flags/ie.png   \n",
              "19237      https://cdn.sofifa.net/flags/ie.png   \n",
              "19238      https://cdn.sofifa.net/flags/in.png   \n",
              "\n",
              "                                nation_logo_url  \\\n",
              "0      https://cdn.sofifa.net/teams/1369/60.png   \n",
              "1      https://cdn.sofifa.net/teams/1353/60.png   \n",
              "2      https://cdn.sofifa.net/teams/1354/60.png   \n",
              "3                                           NaN   \n",
              "4      https://cdn.sofifa.net/teams/1325/60.png   \n",
              "...                                         ...   \n",
              "19234                                       NaN   \n",
              "19235                                       NaN   \n",
              "19236                                       NaN   \n",
              "19237                                       NaN   \n",
              "19238                                       NaN   \n",
              "\n",
              "                           nation_flag_url  \n",
              "0      https://cdn.sofifa.net/flags/ar.png  \n",
              "1      https://cdn.sofifa.net/flags/pl.png  \n",
              "2      https://cdn.sofifa.net/flags/pt.png  \n",
              "3      https://cdn.sofifa.net/flags/br.png  \n",
              "4      https://cdn.sofifa.net/flags/be.png  \n",
              "...                                    ...  \n",
              "19234  https://cdn.sofifa.net/flags/cn.png  \n",
              "19235  https://cdn.sofifa.net/flags/ie.png  \n",
              "19236  https://cdn.sofifa.net/flags/ie.png  \n",
              "19237  https://cdn.sofifa.net/flags/ie.png  \n",
              "19238  https://cdn.sofifa.net/flags/in.png  \n",
              "\n",
              "[19239 rows x 110 columns]"
            ],
            "text/html": [
              "\n",
              "  <div id=\"df-0719c712-8d52-4a61-8099-24fda744bba1\">\n",
              "    <div class=\"colab-df-container\">\n",
              "      <div>\n",
              "<style scoped>\n",
              "    .dataframe tbody tr th:only-of-type {\n",
              "        vertical-align: middle;\n",
              "    }\n",
              "\n",
              "    .dataframe tbody tr th {\n",
              "        vertical-align: top;\n",
              "    }\n",
              "\n",
              "    .dataframe thead th {\n",
              "        text-align: right;\n",
              "    }\n",
              "</style>\n",
              "<table border=\"1\" class=\"dataframe\">\n",
              "  <thead>\n",
              "    <tr style=\"text-align: right;\">\n",
              "      <th></th>\n",
              "      <th>sofifa_id</th>\n",
              "      <th>player_url</th>\n",
              "      <th>short_name</th>\n",
              "      <th>long_name</th>\n",
              "      <th>player_positions</th>\n",
              "      <th>overall</th>\n",
              "      <th>potential</th>\n",
              "      <th>value_eur</th>\n",
              "      <th>wage_eur</th>\n",
              "      <th>age</th>\n",
              "      <th>...</th>\n",
              "      <th>lcb</th>\n",
              "      <th>cb</th>\n",
              "      <th>rcb</th>\n",
              "      <th>rb</th>\n",
              "      <th>gk</th>\n",
              "      <th>player_face_url</th>\n",
              "      <th>club_logo_url</th>\n",
              "      <th>club_flag_url</th>\n",
              "      <th>nation_logo_url</th>\n",
              "      <th>nation_flag_url</th>\n",
              "    </tr>\n",
              "  </thead>\n",
              "  <tbody>\n",
              "    <tr>\n",
              "      <th>0</th>\n",
              "      <td>158023</td>\n",
              "      <td>https://sofifa.com/player/158023/lionel-messi/...</td>\n",
              "      <td>L. Messi</td>\n",
              "      <td>Lionel Andrés Messi Cuccittini</td>\n",
              "      <td>RW, ST, CF</td>\n",
              "      <td>93</td>\n",
              "      <td>93</td>\n",
              "      <td>78000000.0</td>\n",
              "      <td>320000.0</td>\n",
              "      <td>34</td>\n",
              "      <td>...</td>\n",
              "      <td>50+3</td>\n",
              "      <td>50+3</td>\n",
              "      <td>50+3</td>\n",
              "      <td>61+3</td>\n",
              "      <td>19+3</td>\n",
              "      <td>https://cdn.sofifa.net/players/158/023/22_120.png</td>\n",
              "      <td>https://cdn.sofifa.net/teams/73/60.png</td>\n",
              "      <td>https://cdn.sofifa.net/flags/fr.png</td>\n",
              "      <td>https://cdn.sofifa.net/teams/1369/60.png</td>\n",
              "      <td>https://cdn.sofifa.net/flags/ar.png</td>\n",
              "    </tr>\n",
              "    <tr>\n",
              "      <th>1</th>\n",
              "      <td>188545</td>\n",
              "      <td>https://sofifa.com/player/188545/robert-lewand...</td>\n",
              "      <td>R. Lewandowski</td>\n",
              "      <td>Robert Lewandowski</td>\n",
              "      <td>ST</td>\n",
              "      <td>92</td>\n",
              "      <td>92</td>\n",
              "      <td>119500000.0</td>\n",
              "      <td>270000.0</td>\n",
              "      <td>32</td>\n",
              "      <td>...</td>\n",
              "      <td>60+3</td>\n",
              "      <td>60+3</td>\n",
              "      <td>60+3</td>\n",
              "      <td>61+3</td>\n",
              "      <td>19+3</td>\n",
              "      <td>https://cdn.sofifa.net/players/188/545/22_120.png</td>\n",
              "      <td>https://cdn.sofifa.net/teams/21/60.png</td>\n",
              "      <td>https://cdn.sofifa.net/flags/de.png</td>\n",
              "      <td>https://cdn.sofifa.net/teams/1353/60.png</td>\n",
              "      <td>https://cdn.sofifa.net/flags/pl.png</td>\n",
              "    </tr>\n",
              "    <tr>\n",
              "      <th>2</th>\n",
              "      <td>20801</td>\n",
              "      <td>https://sofifa.com/player/20801/c-ronaldo-dos-...</td>\n",
              "      <td>Cristiano Ronaldo</td>\n",
              "      <td>Cristiano Ronaldo dos Santos Aveiro</td>\n",
              "      <td>ST, LW</td>\n",
              "      <td>91</td>\n",
              "      <td>91</td>\n",
              "      <td>45000000.0</td>\n",
              "      <td>270000.0</td>\n",
              "      <td>36</td>\n",
              "      <td>...</td>\n",
              "      <td>53+3</td>\n",
              "      <td>53+3</td>\n",
              "      <td>53+3</td>\n",
              "      <td>60+3</td>\n",
              "      <td>20+3</td>\n",
              "      <td>https://cdn.sofifa.net/players/020/801/22_120.png</td>\n",
              "      <td>https://cdn.sofifa.net/teams/11/60.png</td>\n",
              "      <td>https://cdn.sofifa.net/flags/gb-eng.png</td>\n",
              "      <td>https://cdn.sofifa.net/teams/1354/60.png</td>\n",
              "      <td>https://cdn.sofifa.net/flags/pt.png</td>\n",
              "    </tr>\n",
              "    <tr>\n",
              "      <th>3</th>\n",
              "      <td>190871</td>\n",
              "      <td>https://sofifa.com/player/190871/neymar-da-sil...</td>\n",
              "      <td>Neymar Jr</td>\n",
              "      <td>Neymar da Silva Santos Júnior</td>\n",
              "      <td>LW, CAM</td>\n",
              "      <td>91</td>\n",
              "      <td>91</td>\n",
              "      <td>129000000.0</td>\n",
              "      <td>270000.0</td>\n",
              "      <td>29</td>\n",
              "      <td>...</td>\n",
              "      <td>50+3</td>\n",
              "      <td>50+3</td>\n",
              "      <td>50+3</td>\n",
              "      <td>62+3</td>\n",
              "      <td>20+3</td>\n",
              "      <td>https://cdn.sofifa.net/players/190/871/22_120.png</td>\n",
              "      <td>https://cdn.sofifa.net/teams/73/60.png</td>\n",
              "      <td>https://cdn.sofifa.net/flags/fr.png</td>\n",
              "      <td>NaN</td>\n",
              "      <td>https://cdn.sofifa.net/flags/br.png</td>\n",
              "    </tr>\n",
              "    <tr>\n",
              "      <th>4</th>\n",
              "      <td>192985</td>\n",
              "      <td>https://sofifa.com/player/192985/kevin-de-bruy...</td>\n",
              "      <td>K. De Bruyne</td>\n",
              "      <td>Kevin De Bruyne</td>\n",
              "      <td>CM, CAM</td>\n",
              "      <td>91</td>\n",
              "      <td>91</td>\n",
              "      <td>125500000.0</td>\n",
              "      <td>350000.0</td>\n",
              "      <td>30</td>\n",
              "      <td>...</td>\n",
              "      <td>69+3</td>\n",
              "      <td>69+3</td>\n",
              "      <td>69+3</td>\n",
              "      <td>75+3</td>\n",
              "      <td>21+3</td>\n",
              "      <td>https://cdn.sofifa.net/players/192/985/22_120.png</td>\n",
              "      <td>https://cdn.sofifa.net/teams/10/60.png</td>\n",
              "      <td>https://cdn.sofifa.net/flags/gb-eng.png</td>\n",
              "      <td>https://cdn.sofifa.net/teams/1325/60.png</td>\n",
              "      <td>https://cdn.sofifa.net/flags/be.png</td>\n",
              "    </tr>\n",
              "    <tr>\n",
              "      <th>...</th>\n",
              "      <td>...</td>\n",
              "      <td>...</td>\n",
              "      <td>...</td>\n",
              "      <td>...</td>\n",
              "      <td>...</td>\n",
              "      <td>...</td>\n",
              "      <td>...</td>\n",
              "      <td>...</td>\n",
              "      <td>...</td>\n",
              "      <td>...</td>\n",
              "      <td>...</td>\n",
              "      <td>...</td>\n",
              "      <td>...</td>\n",
              "      <td>...</td>\n",
              "      <td>...</td>\n",
              "      <td>...</td>\n",
              "      <td>...</td>\n",
              "      <td>...</td>\n",
              "      <td>...</td>\n",
              "      <td>...</td>\n",
              "      <td>...</td>\n",
              "    </tr>\n",
              "    <tr>\n",
              "      <th>19234</th>\n",
              "      <td>261962</td>\n",
              "      <td>https://sofifa.com/player/261962/defu-song/220002</td>\n",
              "      <td>Song Defu</td>\n",
              "      <td>宋德福</td>\n",
              "      <td>CDM</td>\n",
              "      <td>47</td>\n",
              "      <td>52</td>\n",
              "      <td>70000.0</td>\n",
              "      <td>1000.0</td>\n",
              "      <td>22</td>\n",
              "      <td>...</td>\n",
              "      <td>46+2</td>\n",
              "      <td>46+2</td>\n",
              "      <td>46+2</td>\n",
              "      <td>48+2</td>\n",
              "      <td>15+2</td>\n",
              "      <td>https://cdn.sofifa.net/players/261/962/22_120.png</td>\n",
              "      <td>https://cdn.sofifa.net/teams/112541/60.png</td>\n",
              "      <td>https://cdn.sofifa.net/flags/cn.png</td>\n",
              "      <td>NaN</td>\n",
              "      <td>https://cdn.sofifa.net/flags/cn.png</td>\n",
              "    </tr>\n",
              "    <tr>\n",
              "      <th>19235</th>\n",
              "      <td>262040</td>\n",
              "      <td>https://sofifa.com/player/262040/caoimhin-port...</td>\n",
              "      <td>C. Porter</td>\n",
              "      <td>Caoimhin Porter</td>\n",
              "      <td>CM</td>\n",
              "      <td>47</td>\n",
              "      <td>59</td>\n",
              "      <td>110000.0</td>\n",
              "      <td>500.0</td>\n",
              "      <td>19</td>\n",
              "      <td>...</td>\n",
              "      <td>44+2</td>\n",
              "      <td>44+2</td>\n",
              "      <td>44+2</td>\n",
              "      <td>48+2</td>\n",
              "      <td>14+2</td>\n",
              "      <td>https://cdn.sofifa.net/players/262/040/22_120.png</td>\n",
              "      <td>https://cdn.sofifa.net/teams/445/60.png</td>\n",
              "      <td>https://cdn.sofifa.net/flags/ie.png</td>\n",
              "      <td>NaN</td>\n",
              "      <td>https://cdn.sofifa.net/flags/ie.png</td>\n",
              "    </tr>\n",
              "    <tr>\n",
              "      <th>19236</th>\n",
              "      <td>262760</td>\n",
              "      <td>https://sofifa.com/player/262760/nathan-logue/...</td>\n",
              "      <td>N. Logue</td>\n",
              "      <td>Nathan Logue-Cunningham</td>\n",
              "      <td>CM</td>\n",
              "      <td>47</td>\n",
              "      <td>55</td>\n",
              "      <td>100000.0</td>\n",
              "      <td>500.0</td>\n",
              "      <td>21</td>\n",
              "      <td>...</td>\n",
              "      <td>45+2</td>\n",
              "      <td>45+2</td>\n",
              "      <td>45+2</td>\n",
              "      <td>47+2</td>\n",
              "      <td>12+2</td>\n",
              "      <td>https://cdn.sofifa.net/players/262/760/22_120.png</td>\n",
              "      <td>https://cdn.sofifa.net/teams/111131/60.png</td>\n",
              "      <td>https://cdn.sofifa.net/flags/ie.png</td>\n",
              "      <td>NaN</td>\n",
              "      <td>https://cdn.sofifa.net/flags/ie.png</td>\n",
              "    </tr>\n",
              "    <tr>\n",
              "      <th>19237</th>\n",
              "      <td>262820</td>\n",
              "      <td>https://sofifa.com/player/262820/luke-rudden/2...</td>\n",
              "      <td>L. Rudden</td>\n",
              "      <td>Luke Rudden</td>\n",
              "      <td>ST</td>\n",
              "      <td>47</td>\n",
              "      <td>60</td>\n",
              "      <td>110000.0</td>\n",
              "      <td>500.0</td>\n",
              "      <td>19</td>\n",
              "      <td>...</td>\n",
              "      <td>26+2</td>\n",
              "      <td>26+2</td>\n",
              "      <td>26+2</td>\n",
              "      <td>32+2</td>\n",
              "      <td>15+2</td>\n",
              "      <td>https://cdn.sofifa.net/players/262/820/22_120.png</td>\n",
              "      <td>https://cdn.sofifa.net/teams/111131/60.png</td>\n",
              "      <td>https://cdn.sofifa.net/flags/ie.png</td>\n",
              "      <td>NaN</td>\n",
              "      <td>https://cdn.sofifa.net/flags/ie.png</td>\n",
              "    </tr>\n",
              "    <tr>\n",
              "      <th>19238</th>\n",
              "      <td>264540</td>\n",
              "      <td>https://sofifa.com/player/264540/emanuel-lalch...</td>\n",
              "      <td>E. Lalchhanchhuaha</td>\n",
              "      <td>Emanuel Lalchhanchhuaha</td>\n",
              "      <td>CAM</td>\n",
              "      <td>47</td>\n",
              "      <td>60</td>\n",
              "      <td>110000.0</td>\n",
              "      <td>500.0</td>\n",
              "      <td>19</td>\n",
              "      <td>...</td>\n",
              "      <td>41+2</td>\n",
              "      <td>41+2</td>\n",
              "      <td>41+2</td>\n",
              "      <td>45+2</td>\n",
              "      <td>16+2</td>\n",
              "      <td>https://cdn.sofifa.net/players/264/540/22_120.png</td>\n",
              "      <td>https://cdn.sofifa.net/teams/113040/60.png</td>\n",
              "      <td>https://cdn.sofifa.net/flags/in.png</td>\n",
              "      <td>NaN</td>\n",
              "      <td>https://cdn.sofifa.net/flags/in.png</td>\n",
              "    </tr>\n",
              "  </tbody>\n",
              "</table>\n",
              "<p>19239 rows × 110 columns</p>\n",
              "</div>\n",
              "      <button class=\"colab-df-convert\" onclick=\"convertToInteractive('df-0719c712-8d52-4a61-8099-24fda744bba1')\"\n",
              "              title=\"Convert this dataframe to an interactive table.\"\n",
              "              style=\"display:none;\">\n",
              "        \n",
              "  <svg xmlns=\"http://www.w3.org/2000/svg\" height=\"24px\"viewBox=\"0 0 24 24\"\n",
              "       width=\"24px\">\n",
              "    <path d=\"M0 0h24v24H0V0z\" fill=\"none\"/>\n",
              "    <path d=\"M18.56 5.44l.94 2.06.94-2.06 2.06-.94-2.06-.94-.94-2.06-.94 2.06-2.06.94zm-11 1L8.5 8.5l.94-2.06 2.06-.94-2.06-.94L8.5 2.5l-.94 2.06-2.06.94zm10 10l.94 2.06.94-2.06 2.06-.94-2.06-.94-.94-2.06-.94 2.06-2.06.94z\"/><path d=\"M17.41 7.96l-1.37-1.37c-.4-.4-.92-.59-1.43-.59-.52 0-1.04.2-1.43.59L10.3 9.45l-7.72 7.72c-.78.78-.78 2.05 0 2.83L4 21.41c.39.39.9.59 1.41.59.51 0 1.02-.2 1.41-.59l7.78-7.78 2.81-2.81c.8-.78.8-2.07 0-2.86zM5.41 20L4 18.59l7.72-7.72 1.47 1.35L5.41 20z\"/>\n",
              "  </svg>\n",
              "      </button>\n",
              "      \n",
              "  <style>\n",
              "    .colab-df-container {\n",
              "      display:flex;\n",
              "      flex-wrap:wrap;\n",
              "      gap: 12px;\n",
              "    }\n",
              "\n",
              "    .colab-df-convert {\n",
              "      background-color: #E8F0FE;\n",
              "      border: none;\n",
              "      border-radius: 50%;\n",
              "      cursor: pointer;\n",
              "      display: none;\n",
              "      fill: #1967D2;\n",
              "      height: 32px;\n",
              "      padding: 0 0 0 0;\n",
              "      width: 32px;\n",
              "    }\n",
              "\n",
              "    .colab-df-convert:hover {\n",
              "      background-color: #E2EBFA;\n",
              "      box-shadow: 0px 1px 2px rgba(60, 64, 67, 0.3), 0px 1px 3px 1px rgba(60, 64, 67, 0.15);\n",
              "      fill: #174EA6;\n",
              "    }\n",
              "\n",
              "    [theme=dark] .colab-df-convert {\n",
              "      background-color: #3B4455;\n",
              "      fill: #D2E3FC;\n",
              "    }\n",
              "\n",
              "    [theme=dark] .colab-df-convert:hover {\n",
              "      background-color: #434B5C;\n",
              "      box-shadow: 0px 1px 3px 1px rgba(0, 0, 0, 0.15);\n",
              "      filter: drop-shadow(0px 1px 2px rgba(0, 0, 0, 0.3));\n",
              "      fill: #FFFFFF;\n",
              "    }\n",
              "  </style>\n",
              "\n",
              "      <script>\n",
              "        const buttonEl =\n",
              "          document.querySelector('#df-0719c712-8d52-4a61-8099-24fda744bba1 button.colab-df-convert');\n",
              "        buttonEl.style.display =\n",
              "          google.colab.kernel.accessAllowed ? 'block' : 'none';\n",
              "\n",
              "        async function convertToInteractive(key) {\n",
              "          const element = document.querySelector('#df-0719c712-8d52-4a61-8099-24fda744bba1');\n",
              "          const dataTable =\n",
              "            await google.colab.kernel.invokeFunction('convertToInteractive',\n",
              "                                                     [key], {});\n",
              "          if (!dataTable) return;\n",
              "\n",
              "          const docLinkHtml = 'Like what you see? Visit the ' +\n",
              "            '<a target=\"_blank\" href=https://colab.research.google.com/notebooks/data_table.ipynb>data table notebook</a>'\n",
              "            + ' to learn more about interactive tables.';\n",
              "          element.innerHTML = '';\n",
              "          dataTable['output_type'] = 'display_data';\n",
              "          await google.colab.output.renderOutput(dataTable, element);\n",
              "          const docLink = document.createElement('div');\n",
              "          docLink.innerHTML = docLinkHtml;\n",
              "          element.appendChild(docLink);\n",
              "        }\n",
              "      </script>\n",
              "    </div>\n",
              "  </div>\n",
              "  "
            ]
          },
          "metadata": {},
          "execution_count": 4
        }
      ]
    },
    {
      "cell_type": "code",
      "source": [
        "# создайте копию датафрейма, сохранив его в переменную df1\n",
        "df1 = df.copy()"
      ],
      "metadata": {
        "id": "QMiIn5GPX7JC"
      },
      "execution_count": 5,
      "outputs": []
    },
    {
      "cell_type": "code",
      "source": [
        "# список столбцов, которые необходимо исключить\n",
        "columns = ['club_position',\n",
        " 'club_jersey_number',\n",
        " 'club_loaned_from',\n",
        " 'club_joined',\n",
        " 'club_contract_valid_until',\n",
        " 'nationality_id',\n",
        " 'nationality_name',\n",
        " 'nation_team_id',\n",
        " 'nation_position',\n",
        " 'nation_jersey_number',\n",
        " 'preferred_foot',\n",
        " 'weak_foot',\n",
        " 'skill_moves',\n",
        " 'international_reputation',\n",
        " 'work_rate',\n",
        " 'body_type',\n",
        " 'real_face',\n",
        " 'release_clause_eur',\n",
        " 'player_tags',\n",
        " 'player_traits',\n",
        " 'pace',\n",
        " 'shooting',\n",
        " 'passing',\n",
        " 'dribbling',\n",
        " 'defending',\n",
        " 'physic',\n",
        " 'attacking_crossing',\n",
        " 'attacking_finishing',\n",
        " 'attacking_heading_accuracy',\n",
        " 'attacking_short_passing',\n",
        " 'attacking_volleys',\n",
        " 'skill_dribbling',\n",
        " 'skill_curve',\n",
        " 'skill_fk_accuracy',\n",
        " 'skill_long_passing',\n",
        " 'skill_ball_control',\n",
        " 'movement_acceleration',\n",
        " 'movement_sprint_speed',\n",
        " 'movement_agility',\n",
        " 'movement_reactions',\n",
        " 'movement_balance',\n",
        " 'power_shot_power',\n",
        " 'power_jumping',\n",
        " 'power_stamina',\n",
        " 'power_strength',\n",
        " 'power_long_shots',\n",
        " 'mentality_aggression',\n",
        " 'mentality_interceptions',\n",
        " 'mentality_positioning',\n",
        " 'mentality_vision',\n",
        " 'mentality_penalties',\n",
        " 'mentality_composure',\n",
        " 'defending_marking_awareness',\n",
        " 'defending_standing_tackle',\n",
        " 'defending_sliding_tackle',\n",
        " 'goalkeeping_diving',\n",
        " 'goalkeeping_handling',\n",
        " 'goalkeeping_kicking',\n",
        " 'goalkeeping_positioning',\n",
        " 'goalkeeping_reflexes',\n",
        " 'goalkeeping_speed',\n",
        " 'ls',\n",
        " 'st',\n",
        " 'rs',\n",
        " 'lw',\n",
        " 'lf',\n",
        " 'cf',\n",
        " 'rf',\n",
        " 'rw',\n",
        " 'lam',\n",
        " 'cam',\n",
        " 'ram',\n",
        " 'lm',\n",
        " 'lcm',\n",
        " 'cm',\n",
        " 'rcm',\n",
        " 'rm',\n",
        " 'lwb',\n",
        " 'ldm',\n",
        " 'cdm',\n",
        " 'rdm',\n",
        " 'rwb',\n",
        " 'lb',\n",
        " 'lcb',\n",
        " 'cb',\n",
        " 'rcb',\n",
        " 'rb',\n",
        " 'gk',\n",
        " 'player_face_url',\n",
        " 'club_logo_url',\n",
        " 'club_flag_url',\n",
        " 'nation_logo_url',\n",
        " 'nation_flag_url']"
      ],
      "metadata": {
        "id": "ANq-IMWLb-xl"
      },
      "execution_count": 6,
      "outputs": []
    },
    {
      "cell_type": "code",
      "source": [
        "# исключите столбцы списка columns из датафрейма, автоматически перезаписав его\n",
        "df1.drop(columns=columns, inplace=True)"
      ],
      "metadata": {
        "id": "Zu9Gft_qcf47"
      },
      "execution_count": 7,
      "outputs": []
    },
    {
      "cell_type": "code",
      "source": [
        "df1.columns"
      ],
      "metadata": {
        "colab": {
          "base_uri": "https://localhost:8080/"
        },
        "id": "r28K1i8IaMKd",
        "outputId": "a7aa3609-ee1b-4aef-e7eb-ff4fdae7caba"
      },
      "execution_count": 9,
      "outputs": [
        {
          "output_type": "execute_result",
          "data": {
            "text/plain": [
              "Index(['sofifa_id', 'player_url', 'short_name', 'long_name',\n",
              "       'player_positions', 'overall', 'potential', 'value_eur', 'wage_eur',\n",
              "       'age', 'dob', 'height_cm', 'weight_kg', 'club_team_id', 'club_name',\n",
              "       'league_name', 'league_level'],\n",
              "      dtype='object')"
            ]
          },
          "metadata": {},
          "execution_count": 9
        }
      ]
    },
    {
      "cell_type": "code",
      "source": [
        "# определите количество признаков в датафрейме\n",
        "len(df1.axes[1])"
      ],
      "metadata": {
        "id": "-psgJj5LctJO",
        "colab": {
          "base_uri": "https://localhost:8080/"
        },
        "outputId": "4b4a5503-0276-4a91-992c-1927ddfbbf07"
      },
      "execution_count": 8,
      "outputs": [
        {
          "output_type": "execute_result",
          "data": {
            "text/plain": [
              "17"
            ]
          },
          "metadata": {},
          "execution_count": 8
        }
      ]
    },
    {
      "cell_type": "code",
      "source": [
        "# определите количество \"полных\" дубликатов\n",
        "df1.duplicated().sum()"
      ],
      "metadata": {
        "id": "hT9i2GZAc4Dl",
        "colab": {
          "base_uri": "https://localhost:8080/"
        },
        "outputId": "117668f2-6bf9-4142-e111-2a5336f9f956"
      },
      "execution_count": 10,
      "outputs": [
        {
          "output_type": "execute_result",
          "data": {
            "text/plain": [
              "0"
            ]
          },
          "metadata": {},
          "execution_count": 10
        }
      ]
    },
    {
      "cell_type": "code",
      "source": [
        "# определите количество дубликатов по признакам 'short_name' и 'age' (при условии совпадения обоих значений)\n",
        "df1.duplicated(subset=['short_name', 'age']).sum()"
      ],
      "metadata": {
        "id": "1Paqq-y0c6NT",
        "colab": {
          "base_uri": "https://localhost:8080/"
        },
        "outputId": "210b38ce-c85e-4ddf-c6b6-5fc26ef72d05"
      },
      "execution_count": 11,
      "outputs": [
        {
          "output_type": "execute_result",
          "data": {
            "text/plain": [
              "95"
            ]
          },
          "metadata": {},
          "execution_count": 11
        }
      ]
    },
    {
      "cell_type": "code",
      "source": [
        "# исключите все записи, по которым совпадают значения по признакам 'long_name' и 'club_name'\n",
        "# (автоматически перезапишите датафрейм)\n",
        "df1.drop_duplicates(subset=['long_name', 'club_name'], keep=False, inplace=True)"
      ],
      "metadata": {
        "id": "iD9NSJIjeTMM"
      },
      "execution_count": 12,
      "outputs": []
    },
    {
      "cell_type": "code",
      "source": [
        "# определите количество записей после исключения дубликатов\n",
        "len(df1)"
      ],
      "metadata": {
        "id": "MVmc-kXEfmln",
        "colab": {
          "base_uri": "https://localhost:8080/"
        },
        "outputId": "6a684f8a-c1fe-4bcc-de8c-bf6147f56d8c"
      },
      "execution_count": 13,
      "outputs": [
        {
          "output_type": "execute_result",
          "data": {
            "text/plain": [
              "19233"
            ]
          },
          "metadata": {},
          "execution_count": 13
        }
      ]
    },
    {
      "cell_type": "markdown",
      "source": [
        "Переходите к тесту и ответьте на вопросы"
      ],
      "metadata": {
        "id": "CE9h2Z22X7JG"
      }
    }
  ]
}
