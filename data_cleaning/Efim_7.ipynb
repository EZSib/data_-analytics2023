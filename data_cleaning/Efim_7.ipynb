{
  "nbformat": 4,
  "nbformat_minor": 0,
  "metadata": {
    "colab": {
      "provenance": [],
      "include_colab_link": true
    },
    "kernelspec": {
      "name": "python3",
      "display_name": "Python 3"
    },
    "language_info": {
      "name": "python"
    }
  },
  "cells": [
    {
      "cell_type": "markdown",
      "metadata": {
        "id": "view-in-github",
        "colab_type": "text"
      },
      "source": [
        "<a href=\"https://colab.research.google.com/github/EZSib/data_cleaning/blob/main/Efim_7.ipynb\" target=\"_parent\"><img src=\"https://colab.research.google.com/assets/colab-badge.svg\" alt=\"Open In Colab\"/></a>"
      ]
    },
    {
      "cell_type": "markdown",
      "source": [
        "# Описание датасета"
      ],
      "metadata": {
        "id": "ubl8S6m-Okfm"
      }
    },
    {
      "cell_type": "markdown",
      "source": [
        "![](https://storage.googleapis.com/kaggle-datasets-images/1617785/2659800/c06a7a3de61a874af446f350118ca9ca/dataset-cover.jpg?t=2021-09-28-18-06-09)\n",
        "<br>Представлен датасет с данными об игроках режима \"Карьера\" компьютерной игры FIFA 2022 (датасет выложен на платформе [Kaggle](https://www.kaggle.com/datasets/stefanoleone992/fifa-22-complete-player-dataset))."
      ],
      "metadata": {
        "id": "ZpY_ynBcRHJP"
      }
    },
    {
      "cell_type": "markdown",
      "source": [
        "**Формат файла** : *csv*"
      ],
      "metadata": {
        "id": "TOpmRX4Vvqme"
      }
    },
    {
      "cell_type": "markdown",
      "source": [
        "**Ссылка на файл** : https://drive.google.com/file/d/1TO3ZFteyoxQ1GQYrs9Y3hDSdhxXDpx1u/view?usp=share_link"
      ],
      "metadata": {
        "id": "d3Viry5eSTw9"
      }
    },
    {
      "cell_type": "markdown",
      "source": [
        "# Задание по теме 7"
      ],
      "metadata": {
        "id": "Tr37w503a0IQ"
      }
    },
    {
      "cell_type": "code",
      "source": [
        "pandas_methods = {\n",
        "    \"json.dump()\": \"Записывает объект Python в файл в формате JSON\",\n",
        "    \"json.dumps()\": \"Создает JSON-строку из переданного в нее объекта\",\n",
        "    \"json.load()\": \"Считывает файл в формате JSON и возвращает объекты Python\",\n",
        "    \"json.loads()\": \"Преобразует JSON-строку в объекты Python\",\n",
        "    \"df.to_json()\": \"Запись датафрейма в формат JSON\",\n",
        "    \"pd.read_json()\": \"Чтение файла формата JSON\",\n",
        "    \"eval()\": \"Функция, выполняющая строку-выражение, переданную ей в качестве обязательного аргумента, и возвращающая результат выполнения этой строки.\",\n",
        "    \"replace()\": \"Возвращает копию строки, в которой все вхождения подстроки заменяются другой подстрокой\",\n",
        "    \"split()\": \"Разбивает строку по указанному разделителю и возвращает список строк\",\n",
        "    \"strip()\": \"Возвращает копию строки, удаляя как начальные, так и конечные символы (в зависимости от переданного строкового аргумента; по умолчанию - пробелы)\",\n",
        "    \"apply()\": \"Позволяет пользователю передать функцию и применить ее к каждому отдельному значению серии Pandas\",\n",
        "    \"rename(columns={'costs_sum': 'costs'}, inplace=True)\": \"Переименовывает столбец датафрейма 'costs_sum‘ в 'costs‘ (параметр inplace=True перезаписывает датафрейм)\",\n",
        "    \"df.country.str.contains('platform')\": \"Проверяет все значения столбца 'country‘ датафрейма на вхождение подстроки 'platform'\",\n",
        "    \"df.drop([3334, 3335, 3336,3337],inplace=True)\": \"Удаляет наблюдения датафрейма по наименованию индексов ([3334, 3335, 3336, 3337]; параметр inplace=True перезаписывает датафрейм)\",\n",
        "\n",
        "    \"pd.DataFrame(data)\": \"Создание объекта DataFrame\",\n",
        "    \"!gdown –id 'id файла'\": \"одгрузка файла в среду выполнения кода Colab с google диска\",\n",
        "    \"from google.colab import files\": \" Импорт класса files из библиотеки google.colab.\",\n",
        "    \"uploaded = files.upload()\": \"Импорт класса files из библиотеки google.colab. Подгрузка файла в среду выполнения кода с персонального компьютера\",\n",
        "    \"pd.read_csv('shop_users.csv')\": \"Чтение файла формата csv (tsv)\",\n",
        "    \"pd.read_excel('shop_users.xlsx')\": \"Чтение файла формата xlsx (xls)\",\n",
        "    \"df.head()\": \"Показывает наблюдения с начала датасета (по умолчанию - 5 наблюдений)\",\n",
        "    \"df.tail(3)\": \"Показывает наблюдения с конца датасета (указано 3 строки)\",\n",
        "    \"df.sample(4)\": \"Показывает случайно выбранные наблюдения (указано 4 строки)\",\n",
        "    \"type(df)\": \"Показывает тип данных передаваемого объекта\",\n",
        "    \"df.size\": \"Показывает размеры датасета (количество ячеек: строки Х столбцы)\",\n",
        "    \"len(df)\": \"Показывает длину датасета (количество наблюдений)\",\n",
        "    \"len(df.axes[1])\": \"Показывает количество признаков в датасете (количество столбцов)\",\n",
        "    \"df.shape\": \"Показывает размеры датасета (количество наблюдений и признаков)\",\n",
        "    \"df.dtypes\": \"Показывает информацию о типах данных по каждому признаку\",\n",
        "    \"df.info()\": \"Показывает общую информацию о датасете\",\n",
        "\n",
        "    \"df.copy()\": \"Создание копии датафрейма df\",\n",
        "    \"df.columns\": \"Вывод списка колонок (столбцов) датафрейма\",\n",
        "    \"df.drop(columns=columns, inplace=True)\": \"Удаление столбцов датафрейма (параметр inplace=True перезаписывает датафрейм)\",\n",
        "    \"df.duplicated()\": \"Проверка на дубликаты: выдает объект Series с булевыми значениями True/False\",\n",
        "    \"df.duplicated().sum()\": \"Количество полных дубликатов (по умолчанию параметр keep='first‘ присваивает значение True первому из совпадений)\",\n",
        "    \"df.duplicated(subset=['bdate', 'sex'], keep=False).sum()\": \"Количество дубликатов по столбцам 'bdate', 'sex’ (параметр keep=False присваивает значения True всем найденным дубликатам)\",\n",
        "    \"df.drop_duplicates(inplace=True)\": \"Удаление полных дубликатов (по умолчанию параметр keep='first‘ удаляет все дубликаты, кроме первого; параметр inplace=True перезаписывает датафрейм)\",\n",
        "    \"df.drop_duplicates(subset=['bdate', 'sex'],keep=False, inplace=True)\": \"Удаление дубликатов по столбцам 'bdate', 'sex’ (параметр keep=False удаляет все найденные дубликаты; параметр inplace=True перезаписывает датафрейм)\",\n",
        "\n",
        "    \"df. isna() / df. isnull()\": \"Проверка датафрейма на пропуски\",\n",
        "    \"df. notna() / df. notnull()\": \"Проверка датафрейма на заполненные значения\",\n",
        "    \"df. isna().sum()\": \"Количество пропущенных значений в датафрейме\",\n",
        "    \"df.isnull().mean()*100\": \"Процент пропущенных значений в датафрейме\",\n",
        "    \"df.notna().sum()\": \"Количество заполненных значений в датафрейме\",\n",
        "    \"df['costs']. isna().sum()\": \"Количество пропущенных значений по столбцу ‘costs’\",\n",
        "    \"df.dropna(inplace=True)\": \"Удалению всех наблюдений датафрейма, где есть хотя бы одно пустое значение (параметр inplace=True перезаписывает датафрейм)\",\n",
        "    \"df.dropna(subset=['costs', 'games'], inplace=True)\": \"Удаление наблюдений, у которых пропущены значения по столбцам 'costs‘ и 'games' (параметр inplace=True перезаписывает датафрейм)\",\n",
        "    \"df['city'].fillna('Moscow‘, inplace=True)\": \"Заполнение пропущенных значений по столбцу 'city‘ значением 'Moscow‘ (параметр inplace=True перезаписывает датафрейм)\",\n",
        "    \"mean = df['followers_count'].mean()\": \"empty\",\n",
        "    \"df['followers_count'].fillna(mean, inplace=True)\": \"Заполнение пропущенных значений по столбцу 'followers_count‘ средним значением по этому столбцу (параметр inplace=True перезаписывает датафрейм)\",\n",
        "    \"df.reset_index(drop=True, inplace=True)\": \"Назначение нового индексного столбца датафрейма (параметр drop=True автоматически удаляет исходный индексный столбец; параметр inplace=True перезаписывает датафрейм)\",\n",
        "    \"df.index\": \"Проверка диапазона индексов\",\n",
        "    \"pd.Series.astype()\":\" переводит признаки в типы данных, используемых в Python или Numpy\",\n",
        "    \"pd.Series.astype(‘int’)\":\" переводит признак в тип данных int, используемый в Python (ошибка при наличии пропущенных значений)\",\n",
        "    \"pd.Series.astype(‘Int64’)\":\" переводит признак в тип данных Int64, используемый в Pandas  (работает при наличии пропущенных значений)\",\n",
        "    \"pd.to_numeric()\":\" переводит признак в числовой тип данных int64 или float64  в зависимости от подаваемых значений\",\n",
        "    \"pd.to_numeric(downcast=‘float’)\":\" переводит признак в числовой тип данных float64,т.к. это явно указано в параметре downcast\",\n",
        "    \"import datetime\":\" Импорт модуля datetime\",\n",
        "    \"from datetime import datetime\": \"Импорт класса datetime модуля datetime\",\n",
        "    \"pd.to_datetime()\": \"Переводит объект Pandas в формат datetime64\",\n",
        "    \"pd.to_datetime(df.Series, unit='s', origin='unix')\": \"Переводит объект Series, значения которого закодированы в Unix time в секундах, в формат datetime64\",\n",
        "    \"pd.Timestamp.utcfromtimestamp( df.Series)\": \"Переводит объект Series, значения которого закодированы в Unix time в секундах, в формат datetime64\",\n",
        "    \"df.Series.dt.strftime('%d.%m.%Y')\": \"Переводит объект Series формата datetime в строковое значение в виде ДД.ММ.ГГГГ\",\n",
        "    \"pd.Series.astype()\": \"Переводит признаки в типы данных, используемых в Python или Numpy (тип данных необходимо указывать в качестве параметра)\",\n",
        "    \"pd.to_numeric(downcast=‘float’)\": \"Переводит признак в числовой тип данных (параметр downcast указывает на перевод в тип данных float64; без указания параметра переводит в числовой тип данных int64 или float64\",\n",
        "    \"pd.Timestamp.today()\": \"Получение текущих даты и времени\",\n",
        "    \"DatetimeObject.year\": \"Извлечение года из объекта формата datetime (существует большое число атрибутов)\",\n",
        "    \"current_year - df.bdate.apply(lambda x: x.year)\": \"Расчет количества лет как текущий год за минусом года, извлеченного из даты рождения\",\n",
        "    \"df['costs_to_rur'] = df['currency'].map(rates) * df['costs']\": \"Расчет дополнительного признака со стоимостью в единой валюте – рублях на основании словаря с  курсами валют от существующих признаков 'currency‘ и 'costs'\",\n",
        "    \"df.sex.apply(lambda x: 1 if x == 'женский'  else 2)\": \"Кодирование пола (при условии, что все значения заполнены) sex_dict = {1: 'женский'  2: 'мужской', 0: 'не указан'}\",\n",
        "    \"df.sex.apply(lambda x: sex_dict[x])\": \"Декодирование пола на основании словарярасшифровки\",\n",
        "    \"df.Series.unique()\": \"Получение уникальных значений объекта Series  датафрейма\",   \n",
        "    \"df.explode(‘Series’, ignore_index=True)\": \"Трансформирует датафрейм в разрезе списков значений по признаку (параметр ignore_index=True сбрасывает исходные индексы) columns = […]\",\n",
        "    \"df = df[columns]\": \"Сохраняет датафрейм, состоящий из переданного списка признаков, при этом учитывая их порядок в списке\",\n",
        "    \"df.to_csv(‘FileName.csv’)\": \"Записывает датафрейм в файл формата csv\",\n",
        "    \"df.to_excel(‘FileName.xlsx’, index=False)\": \"Записывает датафрейм в файл формата xlsx (параметр index=False игнорирует индексный столбец при записи)  \",                                                                       \n",
        "    \"df.Series.str.len()\": \"Возвращает длины строковых значений объекта Series\",\n",
        "    \"df.Series.str.count(‘s’)\": \"Возвращает количество вхождений подстроки ‘s’ в строку объекта Series\",\n",
        "    \"df.Series.str.lower()\": \"Приведение строковых значений объекта Series в нижний регистр\",\n",
        "    \"df.Series.str.upper()\": \"Приведение строковых значений объекта Series в верхний регистр\",\n",
        "    \"df.Series.str.capitalize()\": \"Приведение первых символов строковых значений объекта Series в верхний регистр, а остальных символов – в нижний регистр\",\n",
        "    \"df.Series.str.strip()\": \"Возвращает копии строки объекта Series, удаляя как начальные, так и конечные символы (в зависимости от переданного строкового аргумента; по умолчанию - пробелы)\",\n",
        "    \"df.Series.str.lstrip()\": \"Возвращает копии строки объекта Series, удаляя как начальные символы (в зависимости от переданного строкового аргумента; по умолчанию - пробелы)\",\n",
        "    \"df.Series.str.rstrip()\": \"Возвращает копии строки объекта Series, удаляя конечные символы (в зависимости от переданного строкового аргумента; по умолчанию - пробелы)\",\n",
        "    \"df.Series.str.replace(‘old’, ‘new’)\": \"Заменяет указанную подстроку строковых значений объекта Series на новую\",\n",
        "    \"df.Series.str.split(sep=‘sep’)\": \"Разделяет строки объекта Series на список подстрок по указанному разделителю (по  умолчанию – пробел)\",\n",
        "    \"df.Series.str.cat(sep=‘sep’)\": \"Объединяет строки объектов Series в единое строковое значение через указанный разделитель (по умолчанию – пробел)\",\n",
        "    \"df.Series.str. get_dummies()\": \"Кодирует значения объекта Series, для каждого создавая отдельный столбец\",\n",
        "    \"df.loc[df['column_name'] == 'some_value', 'column_name'] = 'значение'\": \"Заменяет значение объекта Series по условию (для любого типа данных)\",\n",
        "    \"df.loc[df.city.str.contains('petersburg'), 'city'] = 'санкт-петербург'\": \"Заменяет значение признака 'city' на 'санкт-петербург' при условии, что изначальное значение по этому же признаку – содержит подстроку 'petersburg\",\n",
        "    \"df1[df1['player_surname'] == 'GOLOVIN']\": \"поиск строк с Головиным в ПЗ №6)\",\n",
        "    \"df1.overall = pd.to_numeric(df1.overall, downcast='float')\": \"методы перевода int во float\",\n",
        "    \"df1.overall = df1.overall.apply(pd.to_numeric)\": \"методы перевода int во float\"\n",
        "}\n",
        "\n",
        "\n",
        "def word(string):\n",
        "    '''Функция поиска совпадений по подстроке, можно писать часть названия метода/функции\n",
        "    или слово/часть слова из описания этой функции/метода'''\n",
        "    return_list = []\n",
        "    for name, info in pandas_methods.items():\n",
        "        if string.lower() in name.lower() or string.lower() in info.lower():\n",
        "            return_list.append({name: info})\n",
        "    yield from return_list"
      ],
      "metadata": {
        "id": "pkSMeN2Ud1jc"
      },
      "execution_count": null,
      "outputs": []
    },
    {
      "cell_type": "code",
      "execution_count": null,
      "metadata": {
        "id": "t2Og0Q6Qa0IR",
        "outputId": "76860496-c98d-471f-9bce-7ab09bc1966e",
        "colab": {
          "base_uri": "https://localhost:8080/"
        }
      },
      "outputs": [
        {
          "output_type": "stream",
          "name": "stdout",
          "text": [
            "/usr/local/lib/python3.9/dist-packages/gdown/cli.py:121: FutureWarning: Option `--id` was deprecated in version 4.3.1 and will be removed in 5.0. You don't need to pass it anymore to use a file ID.\n",
            "  warnings.warn(\n",
            "Downloading...\n",
            "From: https://drive.google.com/uc?id=1TO3ZFteyoxQ1GQYrs9Y3hDSdhxXDpx1u\n",
            "To: /content/players_22.csv\n",
            "100% 13.6M/13.6M [00:00<00:00, 140MB/s]\n"
          ]
        }
      ],
      "source": [
        "# скачайте датасет с помощью команды !gdown\n",
        "!gdown --id \"1TO3ZFteyoxQ1GQYrs9Y3hDSdhxXDpx1u\""
      ]
    },
    {
      "cell_type": "code",
      "source": [
        "# импортируйте библиотеку pandas\n",
        "import pandas as pd\n",
        "import datetime as dt"
      ],
      "metadata": {
        "id": "ncAJrQawa0IS"
      },
      "execution_count": null,
      "outputs": []
    },
    {
      "cell_type": "code",
      "source": [
        "# прочитайте датасет и сохраните его в переменную df\n",
        "df = pd.read_csv('players_22.csv')"
      ],
      "metadata": {
        "id": "Hg_1FFLIa0IS",
        "outputId": "305977ef-1b3f-437c-9f8c-3dd07d5584c2",
        "colab": {
          "base_uri": "https://localhost:8080/"
        }
      },
      "execution_count": null,
      "outputs": [
        {
          "output_type": "stream",
          "name": "stderr",
          "text": [
            "<ipython-input-5-ad9c01067de1>:2: DtypeWarning: Columns (25,108) have mixed types. Specify dtype option on import or set low_memory=False.\n",
            "  df = pd.read_csv('players_22.csv')\n"
          ]
        }
      ]
    },
    {
      "cell_type": "code",
      "source": [
        "# проведите визуальный обзор датасета\n",
        "df.info"
      ],
      "metadata": {
        "id": "v4NpZ9jGa0IT",
        "outputId": "1bf52cf1-dfcf-406d-85e0-068cca20be66",
        "colab": {
          "base_uri": "https://localhost:8080/"
        }
      },
      "execution_count": null,
      "outputs": [
        {
          "output_type": "execute_result",
          "data": {
            "text/plain": [
              "<bound method DataFrame.info of        sofifa_id                                         player_url  \\\n",
              "0         158023  https://sofifa.com/player/158023/lionel-messi/...   \n",
              "1         188545  https://sofifa.com/player/188545/robert-lewand...   \n",
              "2          20801  https://sofifa.com/player/20801/c-ronaldo-dos-...   \n",
              "3         190871  https://sofifa.com/player/190871/neymar-da-sil...   \n",
              "4         192985  https://sofifa.com/player/192985/kevin-de-bruy...   \n",
              "...          ...                                                ...   \n",
              "19234     261962  https://sofifa.com/player/261962/defu-song/220002   \n",
              "19235     262040  https://sofifa.com/player/262040/caoimhin-port...   \n",
              "19236     262760  https://sofifa.com/player/262760/nathan-logue/...   \n",
              "19237     262820  https://sofifa.com/player/262820/luke-rudden/2...   \n",
              "19238     264540  https://sofifa.com/player/264540/emanuel-lalch...   \n",
              "\n",
              "               short_name                            long_name  \\\n",
              "0                L. Messi       Lionel Andrés Messi Cuccittini   \n",
              "1          R. Lewandowski                   Robert Lewandowski   \n",
              "2       Cristiano Ronaldo  Cristiano Ronaldo dos Santos Aveiro   \n",
              "3               Neymar Jr        Neymar da Silva Santos Júnior   \n",
              "4            K. De Bruyne                      Kevin De Bruyne   \n",
              "...                   ...                                  ...   \n",
              "19234           Song Defu                                  宋德福   \n",
              "19235           C. Porter                      Caoimhin Porter   \n",
              "19236            N. Logue              Nathan Logue-Cunningham   \n",
              "19237           L. Rudden                          Luke Rudden   \n",
              "19238  E. Lalchhanchhuaha              Emanuel Lalchhanchhuaha   \n",
              "\n",
              "      player_positions  overall  potential    value_eur  wage_eur  age  ...  \\\n",
              "0           RW, ST, CF       93         93   78000000.0  320000.0   34  ...   \n",
              "1                   ST       92         92  119500000.0  270000.0   32  ...   \n",
              "2               ST, LW       91         91   45000000.0  270000.0   36  ...   \n",
              "3              LW, CAM       91         91  129000000.0  270000.0   29  ...   \n",
              "4              CM, CAM       91         91  125500000.0  350000.0   30  ...   \n",
              "...                ...      ...        ...          ...       ...  ...  ...   \n",
              "19234              CDM       47         52      70000.0    1000.0   22  ...   \n",
              "19235               CM       47         59     110000.0     500.0   19  ...   \n",
              "19236               CM       47         55     100000.0     500.0   21  ...   \n",
              "19237               ST       47         60     110000.0     500.0   19  ...   \n",
              "19238              CAM       47         60     110000.0     500.0   19  ...   \n",
              "\n",
              "        lcb    cb   rcb    rb    gk  \\\n",
              "0      50+3  50+3  50+3  61+3  19+3   \n",
              "1      60+3  60+3  60+3  61+3  19+3   \n",
              "2      53+3  53+3  53+3  60+3  20+3   \n",
              "3      50+3  50+3  50+3  62+3  20+3   \n",
              "4      69+3  69+3  69+3  75+3  21+3   \n",
              "...     ...   ...   ...   ...   ...   \n",
              "19234  46+2  46+2  46+2  48+2  15+2   \n",
              "19235  44+2  44+2  44+2  48+2  14+2   \n",
              "19236  45+2  45+2  45+2  47+2  12+2   \n",
              "19237  26+2  26+2  26+2  32+2  15+2   \n",
              "19238  41+2  41+2  41+2  45+2  16+2   \n",
              "\n",
              "                                         player_face_url  \\\n",
              "0      https://cdn.sofifa.net/players/158/023/22_120.png   \n",
              "1      https://cdn.sofifa.net/players/188/545/22_120.png   \n",
              "2      https://cdn.sofifa.net/players/020/801/22_120.png   \n",
              "3      https://cdn.sofifa.net/players/190/871/22_120.png   \n",
              "4      https://cdn.sofifa.net/players/192/985/22_120.png   \n",
              "...                                                  ...   \n",
              "19234  https://cdn.sofifa.net/players/261/962/22_120.png   \n",
              "19235  https://cdn.sofifa.net/players/262/040/22_120.png   \n",
              "19236  https://cdn.sofifa.net/players/262/760/22_120.png   \n",
              "19237  https://cdn.sofifa.net/players/262/820/22_120.png   \n",
              "19238  https://cdn.sofifa.net/players/264/540/22_120.png   \n",
              "\n",
              "                                    club_logo_url  \\\n",
              "0          https://cdn.sofifa.net/teams/73/60.png   \n",
              "1          https://cdn.sofifa.net/teams/21/60.png   \n",
              "2          https://cdn.sofifa.net/teams/11/60.png   \n",
              "3          https://cdn.sofifa.net/teams/73/60.png   \n",
              "4          https://cdn.sofifa.net/teams/10/60.png   \n",
              "...                                           ...   \n",
              "19234  https://cdn.sofifa.net/teams/112541/60.png   \n",
              "19235     https://cdn.sofifa.net/teams/445/60.png   \n",
              "19236  https://cdn.sofifa.net/teams/111131/60.png   \n",
              "19237  https://cdn.sofifa.net/teams/111131/60.png   \n",
              "19238  https://cdn.sofifa.net/teams/113040/60.png   \n",
              "\n",
              "                                 club_flag_url  \\\n",
              "0          https://cdn.sofifa.net/flags/fr.png   \n",
              "1          https://cdn.sofifa.net/flags/de.png   \n",
              "2      https://cdn.sofifa.net/flags/gb-eng.png   \n",
              "3          https://cdn.sofifa.net/flags/fr.png   \n",
              "4      https://cdn.sofifa.net/flags/gb-eng.png   \n",
              "...                                        ...   \n",
              "19234      https://cdn.sofifa.net/flags/cn.png   \n",
              "19235      https://cdn.sofifa.net/flags/ie.png   \n",
              "19236      https://cdn.sofifa.net/flags/ie.png   \n",
              "19237      https://cdn.sofifa.net/flags/ie.png   \n",
              "19238      https://cdn.sofifa.net/flags/in.png   \n",
              "\n",
              "                                nation_logo_url  \\\n",
              "0      https://cdn.sofifa.net/teams/1369/60.png   \n",
              "1      https://cdn.sofifa.net/teams/1353/60.png   \n",
              "2      https://cdn.sofifa.net/teams/1354/60.png   \n",
              "3                                           NaN   \n",
              "4      https://cdn.sofifa.net/teams/1325/60.png   \n",
              "...                                         ...   \n",
              "19234                                       NaN   \n",
              "19235                                       NaN   \n",
              "19236                                       NaN   \n",
              "19237                                       NaN   \n",
              "19238                                       NaN   \n",
              "\n",
              "                           nation_flag_url  \n",
              "0      https://cdn.sofifa.net/flags/ar.png  \n",
              "1      https://cdn.sofifa.net/flags/pl.png  \n",
              "2      https://cdn.sofifa.net/flags/pt.png  \n",
              "3      https://cdn.sofifa.net/flags/br.png  \n",
              "4      https://cdn.sofifa.net/flags/be.png  \n",
              "...                                    ...  \n",
              "19234  https://cdn.sofifa.net/flags/cn.png  \n",
              "19235  https://cdn.sofifa.net/flags/ie.png  \n",
              "19236  https://cdn.sofifa.net/flags/ie.png  \n",
              "19237  https://cdn.sofifa.net/flags/ie.png  \n",
              "19238  https://cdn.sofifa.net/flags/in.png  \n",
              "\n",
              "[19239 rows x 110 columns]>"
            ]
          },
          "metadata": {},
          "execution_count": 6
        }
      ]
    },
    {
      "cell_type": "code",
      "source": [
        "# создайте копию датафрейма, сохранив его в переменную df1\n",
        "df1 = df.copy()"
      ],
      "metadata": {
        "id": "JPcw6fLCa0IU"
      },
      "execution_count": null,
      "outputs": []
    },
    {
      "cell_type": "code",
      "source": [
        "# список столбцов, которые необходимо исключить\n",
        "columns = ['club_team_id',\n",
        " 'league_level',\n",
        " 'club_position',\n",
        " 'club_jersey_number',\n",
        " 'club_loaned_from',\n",
        " 'club_joined',\n",
        " 'club_contract_valid_until',\n",
        " 'nationality_id',\n",
        " 'nationality_name',\n",
        " 'nation_team_id',\n",
        " 'nation_position',\n",
        " 'nation_jersey_number',\n",
        " 'preferred_foot',\n",
        " 'weak_foot',\n",
        " 'skill_moves',\n",
        " 'international_reputation',\n",
        " 'work_rate',\n",
        " 'body_type',\n",
        " 'real_face',\n",
        " 'release_clause_eur',\n",
        " 'player_tags',\n",
        " 'player_traits',\n",
        " 'pace',\n",
        " 'shooting',\n",
        " 'passing',\n",
        " 'dribbling',\n",
        " 'defending',\n",
        " 'physic',\n",
        " 'attacking_crossing',\n",
        " 'attacking_finishing',\n",
        " 'attacking_heading_accuracy',\n",
        " 'attacking_short_passing',\n",
        " 'attacking_volleys',\n",
        " 'skill_dribbling',\n",
        " 'skill_curve',\n",
        " 'skill_fk_accuracy',\n",
        " 'skill_long_passing',\n",
        " 'skill_ball_control',\n",
        " 'movement_acceleration',\n",
        " 'movement_sprint_speed',\n",
        " 'movement_agility',\n",
        " 'movement_reactions',\n",
        " 'movement_balance',\n",
        " 'power_shot_power',\n",
        " 'power_jumping',\n",
        " 'power_stamina',\n",
        " 'power_strength',\n",
        " 'power_long_shots',\n",
        " 'mentality_aggression',\n",
        " 'mentality_interceptions',\n",
        " 'mentality_positioning',\n",
        " 'mentality_vision',\n",
        " 'mentality_penalties',\n",
        " 'mentality_composure',\n",
        " 'defending_marking_awareness',\n",
        " 'defending_standing_tackle',\n",
        " 'defending_sliding_tackle',\n",
        " 'goalkeeping_diving',\n",
        " 'goalkeeping_handling',\n",
        " 'goalkeeping_kicking',\n",
        " 'goalkeeping_positioning',\n",
        " 'goalkeeping_reflexes',\n",
        " 'goalkeeping_speed',\n",
        " 'ls',\n",
        " 'st',\n",
        " 'rs',\n",
        " 'lw',\n",
        " 'lf',\n",
        " 'cf',\n",
        " 'rf',\n",
        " 'rw',\n",
        " 'lam',\n",
        " 'cam',\n",
        " 'ram',\n",
        " 'lm',\n",
        " 'lcm',\n",
        " 'cm',\n",
        " 'rcm',\n",
        " 'rm',\n",
        " 'lwb',\n",
        " 'ldm',\n",
        " 'cdm',\n",
        " 'rdm',\n",
        " 'rwb',\n",
        " 'lb',\n",
        " 'lcb',\n",
        " 'cb',\n",
        " 'rcb',\n",
        " 'rb',\n",
        " 'gk',\n",
        " 'player_face_url',\n",
        " 'club_logo_url',\n",
        " 'club_flag_url',\n",
        " 'nation_logo_url',\n",
        " 'nation_flag_url']"
      ],
      "metadata": {
        "id": "BxGlYav1a0IU"
      },
      "execution_count": null,
      "outputs": []
    },
    {
      "cell_type": "code",
      "source": [
        "# исключите столбцы списка columns из датафрейма, автоматически перезаписав его\n",
        "df1.drop(columns=columns, inplace=True)"
      ],
      "metadata": {
        "id": "pwluWVHwa0IV"
      },
      "execution_count": null,
      "outputs": []
    },
    {
      "cell_type": "code",
      "source": [
        "from datetime import datetime as dt"
      ],
      "metadata": {
        "id": "IM6jOTuvhCzd"
      },
      "execution_count": null,
      "outputs": []
    },
    {
      "cell_type": "code",
      "source": [
        "# определите формат данных признака 'dob'\n",
        "df1.dtypes"
      ],
      "metadata": {
        "id": "uLdsBB2na0IW"
      },
      "execution_count": null,
      "outputs": []
    },
    {
      "cell_type": "code",
      "source": [
        "print(*(word('date')), sep='\\n\\n')"
      ],
      "metadata": {
        "id": "6G2UPrmfhy_r",
        "outputId": "dae41997-86d0-4ef5-cb6b-ab32165020e6",
        "colab": {
          "base_uri": "https://localhost:8080/"
        }
      },
      "execution_count": null,
      "outputs": [
        {
          "output_type": "stream",
          "name": "stdout",
          "text": [
            "{\"df.duplicated(subset=['bdate', 'sex'], keep=False).sum()\": \"Количество дубликатов по столбцам 'bdate', 'sex’ (параметр keep=False присваивает значения True всем найденным дубликатам)\"}\n",
            "\n",
            "{\"df.drop_duplicates(subset=['bdate', 'sex'],keep=False, inplace=True)\": \"Удаление дубликатов по столбцам 'bdate', 'sex’ (параметр keep=False удаляет все найденные дубликаты; параметр inplace=True перезаписывает датафрейм)\"}\n",
            "\n",
            "{'import datetime': ' Импорт модуля datetime'}\n",
            "\n",
            "{'from datetime import datetime': 'Импорт класса datetime модуля datetime'}\n",
            "\n",
            "{'pd.to_datetime()': 'Переводит объект Pandas в формат datetime64'}\n",
            "\n",
            "{\"pd.to_datetime(df.Series, unit='s', origin='unix')\": 'Переводит объект Series, значения которого закодированы в Unix time в секундах, в формат datetime64'}\n",
            "\n",
            "{'pd.Timestamp.utcfromtimestamp( df.Series)': 'Переводит объект Series, значения которого закодированы в Unix time в секундах, в формат datetime64'}\n",
            "\n",
            "{\"df.Series.dt.strftime('%d.%m.%Y')\": 'Переводит объект Series формата datetime в строковое значение в виде ДД.ММ.ГГГГ'}\n",
            "\n",
            "{'DatetimeObject.year': 'Извлечение года из объекта формата datetime (существует большое число атрибутов)'}\n",
            "\n",
            "{'current_year - df.bdate.apply(lambda x: x.year)': 'Расчет количества лет как текущий год за минусом года, извлеченного из даты рождения'}\n"
          ]
        }
      ]
    },
    {
      "cell_type": "code",
      "source": [
        "# переведите значения признака 'dob' в формат datetime\n",
        "df1['dob'] = pd.to_datetime(df1['dob'])"
      ],
      "metadata": {
        "id": "d3Q-55vMa0IW"
      },
      "execution_count": null,
      "outputs": []
    },
    {
      "cell_type": "code",
      "source": [
        "# отобразите даты в формате ДД.ММ.ГГГГ\n",
        "df1['dob'] = pd.to_datetime(df1['dob'], format='%d.%m.%Y')\n",
        "df1['dob']"
      ],
      "metadata": {
        "id": "P9UxbdQ4MBUq",
        "outputId": "05e816e8-306c-4630-e3a9-ef8119d5a465",
        "colab": {
          "base_uri": "https://localhost:8080/"
        }
      },
      "execution_count": null,
      "outputs": [
        {
          "output_type": "execute_result",
          "data": {
            "text/plain": [
              "0       1987-06-24\n",
              "1       1988-08-21\n",
              "2       1985-02-05\n",
              "3       1992-02-05\n",
              "4       1991-06-28\n",
              "           ...    \n",
              "19234   1999-01-02\n",
              "19235   2002-03-18\n",
              "19236   2000-02-07\n",
              "19237   2002-04-23\n",
              "19238   2002-02-06\n",
              "Name: dob, Length: 19239, dtype: datetime64[ns]"
            ]
          },
          "metadata": {},
          "execution_count": 45
        }
      ]
    },
    {
      "cell_type": "code",
      "source": [
        "# определите формат данных признака 'overall'\n",
        "df1['overall'].dtypes"
      ],
      "metadata": {
        "id": "TLZg8Hpla0IX",
        "outputId": "bddc9b70-da06-4819-eff8-c7d9d60a7a51",
        "colab": {
          "base_uri": "https://localhost:8080/"
        }
      },
      "execution_count": null,
      "outputs": [
        {
          "output_type": "execute_result",
          "data": {
            "text/plain": [
              "dtype('int64')"
            ]
          },
          "metadata": {},
          "execution_count": 46
        }
      ]
    },
    {
      "cell_type": "code",
      "source": [
        "# переведите значения признака 'overall' в формат числа с плавающей точкой\n",
        "df1['overall']"
      ],
      "metadata": {
        "id": "AxIAK-0oa0IX"
      },
      "execution_count": null,
      "outputs": []
    },
    {
      "cell_type": "code",
      "source": [
        "# определите формат данных признака 'value_eur'\n",
        "df1['value_eur']"
      ],
      "metadata": {
        "id": "S4pxTl-xa0IY"
      },
      "execution_count": null,
      "outputs": []
    },
    {
      "cell_type": "code",
      "source": [
        "# переведите значения признака 'overall' в формат целого числа\n",
        "df1['value_eur']"
      ],
      "metadata": {
        "id": "tRzNy-vAa0IY"
      },
      "execution_count": null,
      "outputs": []
    },
    {
      "cell_type": "markdown",
      "source": [
        "Переходите к тесту и ответьте на вопросы"
      ],
      "metadata": {
        "id": "uefFDrB3a0Ia"
      }
    }
  ]
}