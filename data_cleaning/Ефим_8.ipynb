{
  "nbformat": 4,
  "nbformat_minor": 0,
  "metadata": {
    "colab": {
      "provenance": [],
      "include_colab_link": true
    },
    "kernelspec": {
      "name": "python3",
      "display_name": "Python 3"
    },
    "language_info": {
      "name": "python"
    }
  },
  "cells": [
    {
      "cell_type": "markdown",
      "metadata": {
        "id": "view-in-github",
        "colab_type": "text"
      },
      "source": [
        "<a href=\"https://colab.research.google.com/github/EZSib/data_cleaning/blob/main/%D0%95%D1%84%D0%B8%D0%BC_8.ipynb\" target=\"_parent\"><img src=\"https://colab.research.google.com/assets/colab-badge.svg\" alt=\"Open In Colab\"/></a>"
      ]
    },
    {
      "cell_type": "markdown",
      "source": [
        "# Описание датасета"
      ],
      "metadata": {
        "id": "ubl8S6m-Okfm"
      }
    },
    {
      "cell_type": "markdown",
      "source": [
        "![](https://storage.googleapis.com/kaggle-datasets-images/1617785/2659800/c06a7a3de61a874af446f350118ca9ca/dataset-cover.jpg?t=2021-09-28-18-06-09)\n",
        "<br>Представлен датасет с данными об игроках режима \"Карьера\" компьютерной игры FIFA 2022 (датасет выложен на платформе [Kaggle](https://www.kaggle.com/datasets/stefanoleone992/fifa-22-complete-player-dataset))."
      ],
      "metadata": {
        "id": "ZpY_ynBcRHJP"
      }
    },
    {
      "cell_type": "markdown",
      "source": [
        "**Формат файла** : *csv*"
      ],
      "metadata": {
        "id": "TOpmRX4Vvqme"
      }
    },
    {
      "cell_type": "markdown",
      "source": [
        "**Ссылка на файл** : https://drive.google.com/file/d/1TO3ZFteyoxQ1GQYrs9Y3hDSdhxXDpx1u/view?usp=share_link"
      ],
      "metadata": {
        "id": "d3Viry5eSTw9"
      }
    },
    {
      "cell_type": "code",
      "source": [
        "#from functools import wraps as wp\n",
        "pandas_methods={\n",
        "    \"json.dump()\": \"Записывает объект Python в файл в формате JSON\",\n",
        "    \"json.dumps()\": \"Создает JSON-строку из переданного в нее объекта\",\n",
        "    \"json.load()\": \"Считывает файл в формате JSON и возвращает объекты Python\",\n",
        "    \"json.loads()\": \"Преобразует JSON-строку в объекты Python\",\n",
        "    \"df.to_json()\": \"Запись датафрейма в формат JSON\",\n",
        "    \"pd.read_json()\": \"Чтение файла формата JSON\",\n",
        "    \"eval()\": \"Функция, выполняющая строку-выражение, переданную ей в качестве обязательного аргумента, и возвращающая результат выполнения этой строки.\",\n",
        "    \"replace()\": \"Возвращает копию строки, в которой все вхождения подстроки заменяются другой подстрокой\",\n",
        "    \"split()\": \"Разбивает строку по указанному разделителю и возвращает список строк\",\n",
        "    \"strip()\": \"Возвращает копию строки, удаляя как начальные, так и конечные символы (в зависимости от переданного строкового аргумента; по умолчанию - пробелы)\",\n",
        "    \"apply()\": \"Позволяет пользователю передать функцию и применить ее к каждому отдельному значению серии Pandas\",\n",
        "    \"rename(columns={'costs_sum': 'costs'}, inplace=True)\": \"Переименовывает столбец датафрейма 'costs_sum‘ в 'costs‘ (параметр inplace=True перезаписывает датафрейм)\",\n",
        "    \"df.country.str.contains('platform')\": \"Проверяет все значения столбца 'country‘ датафрейма на вхождение подстроки 'platform'\",\n",
        "    \"df.drop([3334, 3335, 3336,3337],inplace=True)\": \"Удаляет наблюдения датафрейма по наименованию индексов ([3334, 3335, 3336, 3337]; параметр inplace=True перезаписывает датафрейм)\",\n",
        "\n",
        "    \"pd.DataFrame(data)\": \"Создание объекта DataFrame\",\n",
        "    \"!gdown –id 'id файла'\": \"одгрузка файла в среду выполнения кода Colab с google диска\",\n",
        "    \"from google.colab import files\": \" Импорт класса files из библиотеки google.colab.\",\n",
        "    \"uploaded = files.upload()\": \"Импорт класса files из библиотеки google.colab. Подгрузка файла в среду выполнения кода с персонального компьютера\",\n",
        "    \"pd.read_csv('shop_users.csv')\": \"Чтение файла формата csv (tsv)\",\n",
        "    \"pd.read_excel('shop_users.xlsx')\": \"Чтение файла формата xlsx (xls)\",\n",
        "    \"df.head()\": \"Показывает наблюдения с начала датасета (по умолчанию - 5 наблюдений)\",\n",
        "    \"df.tail(3)\": \"Показывает наблюдения с конца датасета (указано 3 строки)\",\n",
        "    \"df.sample(4)\": \"Показывает случайно выбранные наблюдения (указано 4 строки)\",\n",
        "    \"type(df)\": \"Показывает тип данных передаваемого объекта\",\n",
        "    \"df.size\": \"Показывает размеры датасета (количество ячеек: строки Х столбцы)\",\n",
        "    \"len(df)\": \"Показывает длину датасета (количество наблюдений)\",\n",
        "    \"len(df.axes[1])\": \"Показывает количество признаков в датасете (количество столбцов)\",\n",
        "    \"df.shape\": \"Показывает размеры датасета (количество наблюдений и признаков)\",\n",
        "    \"df.dtypes\": \"Показывает информацию о типах данных по каждому признаку\",\n",
        "    \"df.info()\": \"Показывает общую информацию о датасете\",\n",
        "\n",
        "    \"df.copy()\": \"Создание копии датафрейма df\",\n",
        "    \"df.columns\": \"Вывод списка колонок (столбцов) датафрейма\",\n",
        "    \"df.drop(columns=columns, inplace=True)\": \"Удаление столбцов датафрейма (параметр inplace=True перезаписывает датафрейм)\",\n",
        "    \"df.duplicated()\": \"Проверка на дубликаты: выдает объект Series с булевыми значениями True/False\",\n",
        "    \"df.duplicated().sum()\": \"Количество полных дубликатов (по умолчанию параметр keep='first‘ присваивает значение True первому из совпадений)\",\n",
        "    \"df.duplicated(subset=['bdate', 'sex'], keep=False).sum()\": \"Количество дубликатов по столбцам 'bdate', 'sex’ (параметр keep=False присваивает значения True всем найденным дубликатам)\",\n",
        "    \"df.drop_duplicates(inplace=True)\": \"Удаление полных дубликатов (по умолчанию параметр keep='first‘ удаляет все дубликаты, кроме первого; параметр inplace=True перезаписывает датафрейм)\",\n",
        "    \"df.drop_duplicates(subset=['bdate', 'sex'],keep=False, inplace=True)\": \"Удаление дубликатов по столбцам 'bdate', 'sex’ (параметр keep=False удаляет все найденные дубликаты; параметр inplace=True перезаписывает датафрейм)\",\n",
        "\n",
        "    \"df. isna() / df. isnull()\": \"Проверка датафрейма на пропуски\",\n",
        "    \"df. notna() / df. notnull()\": \"Проверка датафрейма на заполненные значения\",\n",
        "    \"df. isna().sum()\": \"Количество пропущенных значений в датафрейме\",\n",
        "    \"df.isnull().mean()*100\": \"Процент пропущенных значений в датафрейме\",\n",
        "    \"df.notna().sum()\": \"Количество заполненных значений в датафрейме\",\n",
        "    \"df['costs']. isna().sum()\": \"Количество пропущенных значений по столбцу ‘costs’\",\n",
        "    \"df.dropna(inplace=True)\": \"Удалению всех наблюдений датафрейма, где есть хотя бы одно пустое значение (параметр inplace=True перезаписывает датафрейм)\",\n",
        "    \"df.dropna(subset=['costs', 'games'], inplace=True)\": \"Удаление наблюдений, у которых пропущены значения по столбцам 'costs‘ и 'games' (параметр inplace=True перезаписывает датафрейм)\",\n",
        "    \"df['city'].fillna('Moscow‘, inplace=True)\": \"Заполнение пропущенных значений по столбцу 'city‘ значением 'Moscow‘ (параметр inplace=True перезаписывает датафрейм)\",\n",
        "    \"mean = df['followers_count'].mean()\": \"empty\",\n",
        "    \"df['followers_count'].fillna(mean, inplace=True)\": \"Заполнение пропущенных значений по столбцу 'followers_count‘ средним значением по этому столбцу (параметр inplace=True перезаписывает датафрейм)\",\n",
        "    \"df.reset_index(drop=True, inplace=True)\": \"Назначение нового индексного столбца датафрейма (параметр drop=True автоматически удаляет исходный индексный столбец; параметр inplace=True перезаписывает датафрейм)\",\n",
        "    \"df.index\": \"Проверка диапазона индексов\",\n",
        "    \"pd.Series.astype(‘int’)\":\" переводит признак в тип данных int, используемый в Python (ошибка при наличии пропущенных значений)\",\n",
        "    \"pd.Series.astype(‘Int64’)\":\" переводит признак в тип данных Int64, используемый в Pandas (работает при наличии пропущенных значений)\",\n",
        "    \"pd.to_numeric()\":\" переводит признак в числовой тип данных int64 или float64 в зависимости от подаваемых значений\",\n",
        "    \"import datetime\":\" Импорт модуля datetime\",\n",
        "    \"from datetime import datetime\": \"Импорт класса datetime модуля datetime\",\n",
        "    \"pd.to_datetime()\": \"Переводит объект Pandas в формат datetime64\",\n",
        "    \"pd.to_datetime(df.Series, unit='s', origin='unix')\": \"Переводит объект Series, значения которого закодированы в Unix time в секундах, в формат datetime64\",\n",
        "    \"pd.Timestamp.utcfromtimestamp( df.Series)\": \"Переводит объект Series, значения которого закодированы в Unix time в секундах, в формат datetime64\",\n",
        "    \"df.Series.dt.strftime('%d.%m.%Y')\": \"Переводит объект Series формата datetime в строковое значение в виде ДД.ММ.ГГГГ\",\n",
        "    \"pd.Series.astype()\": \"Переводит признаки в типы данных, используемых в Python или Numpy (тип данных необходимо указывать в качестве параметра)\",\n",
        "    \"pd.to_numeric(downcast=‘float’)\": \"Переводит признак в числовой тип данных (параметр downcast указывает на перевод в тип данных float64; без указания параметра переводит в числовой тип данных int64 или float64\",\n",
        "    \"pd.Timestamp.today()\": \"Получение текущих даты и времени\",\n",
        "    \"DatetimeObject.year\": \"Извлечение года из объекта формата datetime (существует большое число атрибутов)\",\n",
        "    \"current_year - df.bdate.apply(lambda x: x.year)\": \"Расчет количества лет как текущий год за минусом года, извлеченного из даты рождения\",\n",
        "    \"df['costs_to_rur'] = df['currency'].map(rates) * df['costs']\": \"Расчет дополнительного признака со стоимостью в единой валюте – рублях на основании словаря с курсами валют от существующих признаков 'currency‘ и 'costs'\",\n",
        "    \"df.sex.apply(lambda x: 1 if x == 'женский' else 2)\": \"Кодирование пола (при условии, что все значения заполнены) sex_dict = {1: 'женский' 2: 'мужской', 0: 'не указан'}\",\n",
        "    \"df.sex.apply(lambda x: sex_dict[x])\": \"Декодирование пола на основании словарярасшифровки\",\n",
        "\n",
        "    \"df.Series.unique()\": \"Получение уникальных значений объекта Series датафрейма\",\n",
        "    \"df.explode(‘Series’, ignore_index=True)\": \"Трансформирует датафрейм в разрезе списков значений по признаку (параметр ignore_index=True сбрасывает исходные индексы) columns = […]\",\n",
        "    \"df = df[columns]\": \"Сохраняет датафрейм, состоящий из переданного списка признаков, при этом учитывая их порядок в списке\",\n",
        "    \"df.to_csv(‘FileName.csv’)\": \"Записывает датафрейм в файл формата csv\",\n",
        "    \"df.to_excel(‘FileName.xlsx’, index=False)\": \"Записывает датафрейм в файл формата xlsx (параметр index=False игнорирует индексный столбец при записи) \",\n",
        "\n",
        "    \"df.Series.str.len()\": \"Возвращает длины строковых значений объекта Series\",\n",
        "    \"df.Series.str.count(‘s’)\": \"Возвращает количество вхождений подстроки ‘s’ в строку объекта Series\",\n",
        "    \"df.Series.str.lower()\": \"Приведение строковых значений объекта Series в нижний регистр\",\n",
        "    \"df.Series.str.upper()\": \"Приведение строковых значений объекта Series в верхний регистр\",\n",
        "    \"df.Series.str.capitalize()\": \"Приведение первых символов строковых значений объекта Series в верхний регистр, а остальных символов – в нижний регистр\",\n",
        "    \"df.Series.str.strip()\": \"Возвращает копии строки объекта Series, удаляя как начальные, так и конечные символы (в зависимости от переданного строкового аргумента; по умолчанию - пробелы)\",\n",
        "    \"df.Series.str.lstrip()\": \"Возвращает копии строки объекта Series, удаляя как начальные символы (в зависимости от переданного строкового аргумента; по умолчанию - пробелы)\",\n",
        "    \"df.Series.str.rstrip()\": \"Возвращает копии строки объекта Series, удаляя конечные символы (в зависимости от переданного строкового аргумента; по умолчанию - пробелы)\",\n",
        "    \"df.Series.str.replace(‘old’, ‘new’)\": \"Заменяет указанную подстроку строковых значений объекта Series на новую\",\n",
        "    \"df.Series.str.split(sep=‘sep’)\": \"Разделяет строки объекта Series на список подстрок по указанному разделителю (по умолчанию – пробел)\",\n",
        "    \"df.Series.str.cat(sep=‘sep’)\": \"Объединяет строки объектов Series в единое строковое значение через указанный разделитель (по умолчанию – пробел)\",\n",
        "    \"df.Series.str. get_dummies()\": \"Кодирует значения объекта Series, для каждого создавая отдельный столбец\",\n",
        "    \"df.loc[df['column_name'] == 'some_value', 'column_name'] = 'значение'\": \"Заменяет значение объекта Series по условию (для любого типа данных)\",\n",
        "\n",
        "    \"df.loc[df.city.str.contains('petersb urg'), 'city'] = 'санкт-петербург'\": \"Заменяет значение признака 'city' на 'санкт-петербург' при условии, что изначальное значение по этому же признаку – содержит подстроку 'petersburg\",\n",
        "    \"df1[df1['player_surname'] == 'GOLOVIN']\": \"поиск строк с Головиным в ПЗ №6)\",\n",
        "    \"df.set_index('id', inplace=True)\": \"меняем колонку index на id, inplace сохраняет изменения в датафрейме\",\n",
        "    \"pd.read_json('partner_data_records_cp1251.json', encoding='cp1251')\": \"чтение файла в кодировке Windows-1251 (cp1251),encoding='UTF-8'\",\n",
        "    \"df = pd.read_excel('partner_data.xlsx', sheet_name='partner_data1', header=0, index_col='id')\": \"header — строка с заголовками, index_col — колонка с индексами\",\n",
        "    \".iloc\": \"выбор элементов по индексу;\",\n",
        "    \".loc\": \"выбор элементов по названию. \",\n",
        "    \"df.iloc[0,0]\": \"элемент на позиции [0,0]\",\n",
        "    \"df.iloc[0:3, 0]\": \"элементы 0, 1, 2 нулевого столбца\",\n",
        "    \"df.iloc[:, 0]\": \"полный срез столбца 0\",\n",
        "    \"df.iloc[0, :]\": \"полный срез строки 0\",\n",
        "    \"df.loc[1, 'age']\": \"строка с id 1, столбец age\",\n",
        "    \"df.loc[5:6, 'marital':'education']\": \"обе границы включаются в диапазон\",\n",
        "    \"df.loc[[5,10], ['marital','default']]\": \"можно передавать списки\",\n",
        "    \"df['age']\": \"один столбец\",\n",
        "    \"df[['age', 'marital']]\": \"несколько столбцов\"\n",
        "\n",
        "}\n",
        "\n",
        "def search_in(string, dct=pandas_methods):\n",
        "    '''Функция поиска совпадений по подстроке, можно писать часть названия метода/функции\n",
        "    или слово/часть слова из описания этой функции/метода'''\n",
        "    return_list = []\n",
        "    for name, info in dct.items():\n",
        "        if string.lower() in name.lower() or string.lower() in info.lower():\n",
        "            return_list.append({name: info})\n",
        "    print(*(return_list), sep='\\n'+ max(map(lambda x: len(str(x)), return_list))*'-'+'\\n')"
      ],
      "metadata": {
        "id": "W1V9S3BJu_t9"
      },
      "execution_count": 2,
      "outputs": []
    },
    {
      "cell_type": "markdown",
      "source": [
        "# Задание по теме 8"
      ],
      "metadata": {
        "id": "msdTAzxbZLyz"
      }
    },
    {
      "cell_type": "code",
      "execution_count": 3,
      "metadata": {
        "id": "6OKfU29cZLzB",
        "outputId": "76dc1e7d-9a32-4b8a-b2cf-0b76acaa9a1f",
        "colab": {
          "base_uri": "https://localhost:8080/"
        }
      },
      "outputs": [
        {
          "output_type": "stream",
          "name": "stdout",
          "text": [
            "/usr/local/lib/python3.9/dist-packages/gdown/cli.py:121: FutureWarning: Option `--id` was deprecated in version 4.3.1 and will be removed in 5.0. You don't need to pass it anymore to use a file ID.\n",
            "  warnings.warn(\n",
            "Downloading...\n",
            "From: https://drive.google.com/uc?id=1TO3ZFteyoxQ1GQYrs9Y3hDSdhxXDpx1u\n",
            "To: /content/players_22.csv\n",
            "100% 13.6M/13.6M [00:00<00:00, 236MB/s]\n"
          ]
        }
      ],
      "source": [
        "# скачайте датасет с помощью команды !gdown\n",
        "!gdown --id '1TO3ZFteyoxQ1GQYrs9Y3hDSdhxXDpx1u'"
      ]
    },
    {
      "cell_type": "code",
      "source": [
        "# импортируйте библиотеку pandas\n",
        "import pandas as pd"
      ],
      "metadata": {
        "id": "1dYNDqf4ZLzC"
      },
      "execution_count": 4,
      "outputs": []
    },
    {
      "cell_type": "code",
      "source": [
        "# прочитайте датасет и сохраните его в переменную df\n",
        "df = pd.read_csv('players_22.csv')"
      ],
      "metadata": {
        "id": "fGXGJe8vZLzD",
        "outputId": "da09bf28-f94b-446c-f9f0-cc3da026f817",
        "colab": {
          "base_uri": "https://localhost:8080/"
        }
      },
      "execution_count": 5,
      "outputs": [
        {
          "output_type": "stream",
          "name": "stderr",
          "text": [
            "<ipython-input-5-ad9c01067de1>:2: DtypeWarning: Columns (25,108) have mixed types. Specify dtype option on import or set low_memory=False.\n",
            "  df = pd.read_csv('players_22.csv')\n"
          ]
        }
      ]
    },
    {
      "cell_type": "code",
      "source": [
        "# проведите визуальный обзор датасета\n",
        "df.info"
      ],
      "metadata": {
        "id": "WvJfxd40ZLzD"
      },
      "execution_count": null,
      "outputs": []
    },
    {
      "cell_type": "code",
      "source": [
        "# создайте копию датафрейма, сохранив его в переменную df1\n",
        "df1 = df.copy()"
      ],
      "metadata": {
        "id": "XU-V5K5JZLzE"
      },
      "execution_count": 6,
      "outputs": []
    },
    {
      "cell_type": "code",
      "source": [
        "# список столбцов, которые необходимо исключить\n",
        "columns = ['club_team_id',\n",
        " 'league_level',\n",
        " 'club_position',\n",
        " 'club_jersey_number',\n",
        " 'club_loaned_from',\n",
        " 'club_joined',\n",
        " 'club_contract_valid_until',\n",
        " 'nationality_id',\n",
        " 'nationality_name',\n",
        " 'nation_team_id',\n",
        " 'nation_position',\n",
        " 'nation_jersey_number',\n",
        " 'preferred_foot',\n",
        " 'weak_foot',\n",
        " 'skill_moves',\n",
        " 'international_reputation',\n",
        " 'work_rate',\n",
        " 'body_type',\n",
        " 'real_face',\n",
        " 'release_clause_eur',\n",
        " 'player_tags',\n",
        " 'player_traits',\n",
        " 'pace',\n",
        " 'shooting',\n",
        " 'passing',\n",
        " 'dribbling',\n",
        " 'defending',\n",
        " 'physic',\n",
        " 'attacking_crossing',\n",
        " 'attacking_finishing',\n",
        " 'attacking_heading_accuracy',\n",
        " 'attacking_short_passing',\n",
        " 'attacking_volleys',\n",
        " 'skill_dribbling',\n",
        " 'skill_curve',\n",
        " 'skill_fk_accuracy',\n",
        " 'skill_long_passing',\n",
        " 'skill_ball_control',\n",
        " 'movement_acceleration',\n",
        " 'movement_sprint_speed',\n",
        " 'movement_agility',\n",
        " 'movement_reactions',\n",
        " 'movement_balance',\n",
        " 'power_shot_power',\n",
        " 'power_jumping',\n",
        " 'power_stamina',\n",
        " 'power_strength',\n",
        " 'power_long_shots',\n",
        " 'mentality_aggression',\n",
        " 'mentality_interceptions',\n",
        " 'mentality_positioning',\n",
        " 'mentality_vision',\n",
        " 'mentality_penalties',\n",
        " 'mentality_composure',\n",
        " 'defending_marking_awareness',\n",
        " 'defending_standing_tackle',\n",
        " 'defending_sliding_tackle',\n",
        " 'goalkeeping_diving',\n",
        " 'goalkeeping_handling',\n",
        " 'goalkeeping_kicking',\n",
        " 'goalkeeping_positioning',\n",
        " 'goalkeeping_reflexes',\n",
        " 'goalkeeping_speed',\n",
        " 'ls',\n",
        " 'st',\n",
        " 'rs',\n",
        " 'lw',\n",
        " 'lf',\n",
        " 'cf',\n",
        " 'rf',\n",
        " 'rw',\n",
        " 'lam',\n",
        " 'cam',\n",
        " 'ram',\n",
        " 'lm',\n",
        " 'lcm',\n",
        " 'cm',\n",
        " 'rcm',\n",
        " 'rm',\n",
        " 'lwb',\n",
        " 'ldm',\n",
        " 'cdm',\n",
        " 'rdm',\n",
        " 'rwb',\n",
        " 'lb',\n",
        " 'lcb',\n",
        " 'cb',\n",
        " 'rcb',\n",
        " 'rb',\n",
        " 'gk',\n",
        " 'player_face_url',\n",
        " 'club_logo_url',\n",
        " 'club_flag_url',\n",
        " 'nation_logo_url',\n",
        " 'nation_flag_url']"
      ],
      "metadata": {
        "id": "EUEeASz9ZLzE"
      },
      "execution_count": 7,
      "outputs": []
    },
    {
      "cell_type": "code",
      "source": [
        "# исключите столбцы списка columns из датафрейма, автоматически перезаписав его\n",
        "df1.drop(columns=columns, inplace=True)"
      ],
      "metadata": {
        "id": "vWdaahw7ZLzF"
      },
      "execution_count": 8,
      "outputs": []
    },
    {
      "cell_type": "code",
      "source": [
        "print(*(word('tod')), sep='\\n\\n')"
      ],
      "metadata": {
        "id": "86LaWQblxm8-"
      },
      "execution_count": null,
      "outputs": []
    },
    {
      "cell_type": "code",
      "source": [
        "# переведите значения признака 'dob' в формат datetime\n",
        "df1['dob'] = pd.to_datetime(df1['dob'])\n",
        "df1['dob']"
      ],
      "metadata": {
        "id": "eGlcUua-ZLzH"
      },
      "execution_count": null,
      "outputs": []
    },
    {
      "cell_type": "code",
      "source": [
        "# рассчитайте актуальный возраст на текущий год (без учета дня и месяца рождения) и сохраните данные в столбец 'age_new'\n",
        "cur_day = pd.Timestamp.today().year\n",
        "df1['age_new'] = cur_day - df1.dob.apply(lambda x: x.year)\n",
        "df1['age_new']"
      ],
      "metadata": {
        "id": "3aymwgAMZLzH",
        "outputId": "0723c79f-1902-4a15-a96f-7d76f5ba438d",
        "colab": {
          "base_uri": "https://localhost:8080/"
        }
      },
      "execution_count": null,
      "outputs": [
        {
          "output_type": "execute_result",
          "data": {
            "text/plain": [
              "0        36\n",
              "1        35\n",
              "2        38\n",
              "3        31\n",
              "4        32\n",
              "         ..\n",
              "19234    24\n",
              "19235    21\n",
              "19236    23\n",
              "19237    21\n",
              "19238    21\n",
              "Name: age_new, Length: 19239, dtype: int64"
            ]
          },
          "metadata": {},
          "execution_count": 73
        }
      ]
    },
    {
      "cell_type": "code",
      "source": [
        "# определите разницу в возрасте (количество лет) между футболистами под индексом 0 и 10017\n",
        "df1['age_new']\n",
        "df1['age_new'][0] - df1['age_new'][10017]\n"
      ],
      "metadata": {
        "id": "iDf3GJbqiTKC",
        "outputId": "c9a72617-a578-4be7-dd6c-a572c26ba703",
        "colab": {
          "base_uri": "https://localhost:8080/"
        }
      },
      "execution_count": null,
      "outputs": [
        {
          "output_type": "execute_result",
          "data": {
            "text/plain": [
              "3"
            ]
          },
          "metadata": {},
          "execution_count": 75
        }
      ]
    },
    {
      "cell_type": "code",
      "source": [
        "# определите индекс массы тела футболистов, округлив результат до двух знаков после запятой\n",
        "# запишите результаты в столбец 'imt'\n",
        "# ИМТ = вес (в килограммах) : (рост (м))2\n",
        "# вес - 'weight_kg', рост - 'height_cm'\n",
        "df1['weight_kg']\n",
        "df1['height_cm']\n",
        "df1['imt'] = (df1['weight_kg'] / (df1['height_cm']/100)**2)\n",
        "df1['imt']"
      ],
      "metadata": {
        "id": "60wIU8xcZLzI",
        "outputId": "810ce5c9-c9d6-425d-9c46-53bd696cc4cf",
        "colab": {
          "base_uri": "https://localhost:8080/"
        }
      },
      "execution_count": null,
      "outputs": [
        {
          "output_type": "execute_result",
          "data": {
            "text/plain": [
              "0        24.913495\n",
              "1        23.666910\n",
              "2        23.735308\n",
              "3        22.204082\n",
              "4        21.366869\n",
              "           ...    \n",
              "19234    19.753086\n",
              "19235    22.857143\n",
              "19236    22.724403\n",
              "19237    22.052190\n",
              "19238    21.872423\n",
              "Name: imt, Length: 19239, dtype: float64"
            ]
          },
          "metadata": {},
          "execution_count": 77
        }
      ]
    },
    {
      "cell_type": "code",
      "source": [
        "# определите среднее значение ИМТ с помощью метода mean(), округлив результат до двух знаков после запятой\n",
        "df1['imt'] = round(df1['imt'].mean(),2)\n",
        "df1['imt']"
      ],
      "metadata": {
        "id": "a0_4zCwhkNaA",
        "outputId": "dd7da78a-2c81-49e9-8a09-269902e7da7c",
        "colab": {
          "base_uri": "https://localhost:8080/"
        }
      },
      "execution_count": null,
      "outputs": [
        {
          "output_type": "execute_result",
          "data": {
            "text/plain": [
              "0        22.77\n",
              "1        22.77\n",
              "2        22.77\n",
              "3        22.77\n",
              "4        22.77\n",
              "         ...  \n",
              "19234    22.77\n",
              "19235    22.77\n",
              "19236    22.77\n",
              "19237    22.77\n",
              "19238    22.77\n",
              "Name: imt, Length: 19239, dtype: float64"
            ]
          },
          "metadata": {},
          "execution_count": 78
        }
      ]
    },
    {
      "cell_type": "code",
      "source": [
        "print(*word('un'),sep='\\n')"
      ],
      "metadata": {
        "id": "i-aDOMwK36wl",
        "outputId": "00c47ac6-7679-4145-8722-a5a08d7d22b1",
        "colab": {
          "base_uri": "https://localhost:8080/"
        }
      },
      "execution_count": null,
      "outputs": [
        {
          "output_type": "stream",
          "name": "stdout",
          "text": [
            "{\"df.country.str.contains('platform')\": \"Проверяет все значения столбца 'country‘ датафрейма на вхождение подстроки 'platform'\"}\n",
            "{\"mean = df['followers_count'].mean()\": 'empty'}\n",
            "{\"df['followers_count'].fillna(mean, inplace=True)\": \"Заполнение пропущенных значений по столбцу 'followers_count‘ средним значением по этому столбцу (параметр inplace=True перезаписывает датафрейм)\"}\n",
            "{\"pd.to_datetime(df.Series, unit='s', origin='unix')\": 'Переводит объект Series, значения которого закодированы в Unix time в секундах, в формат datetime64'}\n",
            "{'pd.Timestamp.utcfromtimestamp( df.Series)': 'Переводит объект Series, значения которого закодированы в Unix time в секундах, в формат datetime64'}\n",
            "{'df.Series.unique()': 'Получение уникальных значений объекта Series  датафрейма'}\n",
            "{'df.Series.str.count(‘s’)': 'Возвращает количество вхождений подстроки ‘s’ в строку объекта Series'}\n"
          ]
        }
      ]
    },
    {
      "cell_type": "code",
      "source": [
        "# закодируйте значения по признаку 'player_positions' по условию:\n",
        "# если указано одно значение, то присвоить 0, в противном случае - 1\n",
        "# результаты сохраните в столбец 'player_positions_code'\n",
        "# подсказка: количество значений можно определить как длину списка, определенного с помощью метода split()\n",
        "df1['player_positions_code'] = df1['player_positions'].apply(lambda x: 0 if len(x.split())<=1 else 1)\n",
        "df1['player_positions_code']"
      ],
      "metadata": {
        "id": "jhoGLJA7nRJp",
        "outputId": "d94aed78-8430-42d0-c253-1e07cdef078c",
        "colab": {
          "base_uri": "https://localhost:8080/"
        }
      },
      "execution_count": 9,
      "outputs": [
        {
          "output_type": "execute_result",
          "data": {
            "text/plain": [
              "0        1\n",
              "1        0\n",
              "2        1\n",
              "3        1\n",
              "4        1\n",
              "        ..\n",
              "19234    0\n",
              "19235    0\n",
              "19236    0\n",
              "19237    0\n",
              "19238    0\n",
              "Name: player_positions_code, Length: 19239, dtype: int64"
            ]
          },
          "metadata": {},
          "execution_count": 9
        }
      ]
    },
    {
      "cell_type": "code",
      "source": [
        "# определите наиболее часто встречаемое значение по признаку 'player_positions_code'\n",
        "# подсказка: используйте метод mode()\n",
        "df1['player_positions_code'].mode()"
      ],
      "metadata": {
        "id": "BT3yD8Y2pLQy",
        "outputId": "78b7ebfe-8f64-491f-9259-926ce08bc964",
        "colab": {
          "base_uri": "https://localhost:8080/"
        }
      },
      "execution_count": 10,
      "outputs": [
        {
          "output_type": "execute_result",
          "data": {
            "text/plain": [
              "0    1\n",
              "Name: player_positions_code, dtype: int64"
            ]
          },
          "metadata": {},
          "execution_count": 10
        }
      ]
    },
    {
      "cell_type": "code",
      "source": [
        "# закодируйте значения по признаку 'player_positions_code' с помощью словаря:\n",
        "# 0: one, 1: several\n",
        "# результаты сохраните в столбец 'player_positions_category'\n",
        "player_positions_dict = {0: 'one', 1: 'several'}\n",
        "df1['player_positions_category'] = df1['player_positions_code'].apply(lambda x: player_positions_dict[x] )\n",
        "df1['player_positions_category']"
      ],
      "metadata": {
        "id": "ssZ35xpVp_Ym",
        "outputId": "0fff95fd-6116-42b6-eccf-6d3cbb910215",
        "colab": {
          "base_uri": "https://localhost:8080/"
        }
      },
      "execution_count": 11,
      "outputs": [
        {
          "output_type": "execute_result",
          "data": {
            "text/plain": [
              "0        several\n",
              "1            one\n",
              "2        several\n",
              "3        several\n",
              "4        several\n",
              "          ...   \n",
              "19234        one\n",
              "19235        one\n",
              "19236        one\n",
              "19237        one\n",
              "19238        one\n",
              "Name: player_positions_category, Length: 19239, dtype: object"
            ]
          },
          "metadata": {},
          "execution_count": 11
        }
      ]
    },
    {
      "cell_type": "code",
      "source": [
        "print(*word('sum'),sep='\\n')"
      ],
      "metadata": {
        "id": "vv9Jo1Xo5HX7"
      },
      "execution_count": null,
      "outputs": []
    },
    {
      "cell_type": "code",
      "source": [
        "search_in('кол')"
      ],
      "metadata": {
        "id": "JNMZ0vPB5lL4",
        "outputId": "1f02bf8d-db04-485b-8f3c-70c1bdec62cd",
        "colab": {
          "base_uri": "https://localhost:8080/"
        }
      },
      "execution_count": 12,
      "outputs": [
        {
          "output_type": "stream",
          "name": "stdout",
          "text": [
            "{'df.size': 'Показывает размеры датасета (количество ячеек: строки Х столбцы)'}\n",
            "------------------------------------------------------------------------------------------------------------------------------------------------------------------------------------------\n",
            "{'len(df)': 'Показывает длину датасета (количество наблюдений)'}\n",
            "------------------------------------------------------------------------------------------------------------------------------------------------------------------------------------------\n",
            "{'len(df.axes[1])': 'Показывает количество признаков в датасете (количество столбцов)'}\n",
            "------------------------------------------------------------------------------------------------------------------------------------------------------------------------------------------\n",
            "{'df.shape': 'Показывает размеры датасета (количество наблюдений и признаков)'}\n",
            "------------------------------------------------------------------------------------------------------------------------------------------------------------------------------------------\n",
            "{'df.columns': 'Вывод списка колонок (столбцов) датафрейма'}\n",
            "------------------------------------------------------------------------------------------------------------------------------------------------------------------------------------------\n",
            "{'df.duplicated().sum()': \"Количество полных дубликатов (по умолчанию параметр keep='first‘ присваивает значение True первому из совпадений)\"}\n",
            "------------------------------------------------------------------------------------------------------------------------------------------------------------------------------------------\n",
            "{\"df.duplicated(subset=['bdate', 'sex'], keep=False).sum()\": \"Количество дубликатов по столбцам 'bdate', 'sex’ (параметр keep=False присваивает значения True всем найденным дубликатам)\"}\n",
            "------------------------------------------------------------------------------------------------------------------------------------------------------------------------------------------\n",
            "{'df. isna().sum()': 'Количество пропущенных значений в датафрейме'}\n",
            "------------------------------------------------------------------------------------------------------------------------------------------------------------------------------------------\n",
            "{'df.notna().sum()': 'Количество заполненных значений в датафрейме'}\n",
            "------------------------------------------------------------------------------------------------------------------------------------------------------------------------------------------\n",
            "{\"df['costs']. isna().sum()\": 'Количество пропущенных значений по столбцу ‘costs’'}\n",
            "------------------------------------------------------------------------------------------------------------------------------------------------------------------------------------------\n",
            "{'current_year - df.bdate.apply(lambda x: x.year)': 'Расчет количества лет как текущий год за минусом года, извлеченного из даты рождения'}\n",
            "------------------------------------------------------------------------------------------------------------------------------------------------------------------------------------------\n",
            "{'df.Series.str.count(‘s’)': 'Возвращает количество вхождений подстроки ‘s’ в строку объекта Series'}\n",
            "------------------------------------------------------------------------------------------------------------------------------------------------------------------------------------------\n",
            "{\"df.set_index('id', inplace=True)\": 'меняем колонку index на id, inplace сохраняет изменения в датафрейме'}\n",
            "------------------------------------------------------------------------------------------------------------------------------------------------------------------------------------------\n",
            "{\"df = pd.read_excel('partner_data.xlsx', sheet_name='partner_data1', header=0, index_col='id')\": 'header — строка с заголовками, index_col — колонка с индексами'}\n",
            "------------------------------------------------------------------------------------------------------------------------------------------------------------------------------------------\n",
            "{\"df[['age', 'marital']]\": 'несколько столбцов'}\n"
          ]
        }
      ]
    },
    {
      "cell_type": "code",
      "source": [
        "# определите количество значений several по признаку 'player_positions_category'\n",
        "# подсказка: для вывода булевых значений используйте оператор сравнения\n",
        "# подсказка: для расчета количества используйте метод sum()\n",
        "print(sum(1 for i in df1['player_positions_category'] if i=='several'))\n",
        "len(df1['player_positions_category'])"
      ],
      "metadata": {
        "id": "Sq1pxCUfZLzI",
        "outputId": "3139e5b3-0152-4d6c-bc79-fcba10b4feec",
        "colab": {
          "base_uri": "https://localhost:8080/"
        }
      },
      "execution_count": 15,
      "outputs": [
        {
          "output_type": "execute_result",
          "data": {
            "text/plain": [
              "19239"
            ]
          },
          "metadata": {},
          "execution_count": 15
        }
      ]
    },
    {
      "cell_type": "code",
      "source": [],
      "metadata": {
        "id": "gtg5BUWv9jpO"
      },
      "execution_count": null,
      "outputs": []
    },
    {
      "cell_type": "markdown",
      "source": [
        "Переходите к тесту и ответьте на вопросы"
      ],
      "metadata": {
        "id": "iVGv5SvbZLzL"
      }
    },
    {
      "cell_type": "code",
      "source": [
        "df1['player_positions_category'].apply(lambda x: x=='several').sum()"
      ],
      "metadata": {
        "id": "xhBf4Kty7teB",
        "outputId": "63e997a2-f3ed-4b58-d671-56b485fe7672",
        "colab": {
          "base_uri": "https://localhost:8080/"
        }
      },
      "execution_count": 13,
      "outputs": [
        {
          "output_type": "execute_result",
          "data": {
            "text/plain": [
              "9809"
            ]
          },
          "metadata": {},
          "execution_count": 13
        }
      ]
    }
  ]
}