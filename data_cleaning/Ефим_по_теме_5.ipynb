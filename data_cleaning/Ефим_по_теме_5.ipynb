{
  "nbformat": 4,
  "nbformat_minor": 0,
  "metadata": {
    "colab": {
      "provenance": [],
      "include_colab_link": true
    },
    "kernelspec": {
      "name": "python3",
      "display_name": "Python 3"
    },
    "language_info": {
      "name": "python"
    }
  },
  "cells": [
    {
      "cell_type": "markdown",
      "metadata": {
        "id": "view-in-github",
        "colab_type": "text"
      },
      "source": [
        "<a href=\"https://colab.research.google.com/github/EZSib/data_cleaning/blob/main/%D0%95%D1%84%D0%B8%D0%BC_%D0%BF%D0%BE_%D1%82%D0%B5%D0%BC%D0%B5_5.ipynb\" target=\"_parent\"><img src=\"https://colab.research.google.com/assets/colab-badge.svg\" alt=\"Open In Colab\"/></a>"
      ]
    },
    {
      "cell_type": "markdown",
      "source": [
        "# Описание датасета"
      ],
      "metadata": {
        "id": "ubl8S6m-Okfm"
      }
    },
    {
      "cell_type": "markdown",
      "source": [
        "![](https://storage.googleapis.com/kaggle-datasets-images/1617785/2659800/c06a7a3de61a874af446f350118ca9ca/dataset-cover.jpg?t=2021-09-28-18-06-09)\n",
        "<br>Представлен датасет с данными об игроках режима \"Карьера\" компьютерной игры FIFA 2022 (датасет выложен на платформе [Kaggle](https://www.kaggle.com/datasets/stefanoleone992/fifa-22-complete-player-dataset))."
      ],
      "metadata": {
        "id": "ZpY_ynBcRHJP"
      }
    },
    {
      "cell_type": "markdown",
      "source": [
        "**Формат файла** : *csv*"
      ],
      "metadata": {
        "id": "TOpmRX4Vvqme"
      }
    },
    {
      "cell_type": "markdown",
      "source": [
        "**Ссылка на файл** : https://drive.google.com/file/d/1TO3ZFteyoxQ1GQYrs9Y3hDSdhxXDpx1u/view?usp=share_link"
      ],
      "metadata": {
        "id": "d3Viry5eSTw9"
      }
    },
    {
      "cell_type": "markdown",
      "source": [
        "# Задание по теме 5"
      ],
      "metadata": {
        "id": "aYbhjsqTjE6Y"
      }
    },
    {
      "cell_type": "code",
      "execution_count": 1,
      "metadata": {
        "id": "oouG5EpPjE6Z",
        "outputId": "5c7946ad-c224-44c6-8dc6-57b67b4d9f64",
        "colab": {
          "base_uri": "https://localhost:8080/"
        }
      },
      "outputs": [
        {
          "output_type": "stream",
          "name": "stdout",
          "text": [
            "/usr/local/lib/python3.9/dist-packages/gdown/cli.py:121: FutureWarning: Option `--id` was deprecated in version 4.3.1 and will be removed in 5.0. You don't need to pass it anymore to use a file ID.\n",
            "  warnings.warn(\n",
            "Downloading...\n",
            "From: https://drive.google.com/uc?id=1TO3ZFteyoxQ1GQYrs9Y3hDSdhxXDpx1u\n",
            "To: /content/players_22.csv\n",
            "100% 13.6M/13.6M [00:00<00:00, 47.6MB/s]\n"
          ]
        }
      ],
      "source": [
        "# скачайте датасет с помощью команды !gdown\n",
        "!gdown --id 1TO3ZFteyoxQ1GQYrs9Y3hDSdhxXDpx1u"
      ]
    },
    {
      "cell_type": "code",
      "source": [
        "# импортируйте библиотеку pandas\n",
        "import pandas as pd"
      ],
      "metadata": {
        "id": "hIvn6XSzjE6b"
      },
      "execution_count": 2,
      "outputs": []
    },
    {
      "cell_type": "code",
      "source": [
        "# прочитайте датасет и сохраните его в переменную df\n",
        "df = pd.read_csv('players_22.csv')"
      ],
      "metadata": {
        "id": "oV6fKqUZjE6b",
        "outputId": "ad8a808a-6e74-43aa-cf97-6041ada2ee14",
        "colab": {
          "base_uri": "https://localhost:8080/"
        }
      },
      "execution_count": 5,
      "outputs": [
        {
          "output_type": "stream",
          "name": "stderr",
          "text": [
            "<ipython-input-5-ad9c01067de1>:2: DtypeWarning: Columns (25,108) have mixed types. Specify dtype option on import or set low_memory=False.\n",
            "  df = pd.read_csv('players_22.csv')\n"
          ]
        }
      ]
    },
    {
      "cell_type": "code",
      "source": [
        "# проведите визуальный обзор датасета\n",
        "df.info()"
      ],
      "metadata": {
        "id": "-N_juvsYjE6c",
        "outputId": "1acd7a08-e963-45b3-c3a6-83319409d141",
        "colab": {
          "base_uri": "https://localhost:8080/"
        }
      },
      "execution_count": 8,
      "outputs": [
        {
          "output_type": "stream",
          "name": "stdout",
          "text": [
            "<class 'pandas.core.frame.DataFrame'>\n",
            "RangeIndex: 19239 entries, 0 to 19238\n",
            "Columns: 110 entries, sofifa_id to nation_flag_url\n",
            "dtypes: float64(16), int64(44), object(50)\n",
            "memory usage: 16.1+ MB\n"
          ]
        }
      ]
    },
    {
      "cell_type": "code",
      "source": [
        "# создайте копию датафрейма, сохранив его в переменную df1\n",
        "df1 = df.copy()"
      ],
      "metadata": {
        "id": "9JT-dG9yjE6d"
      },
      "execution_count": 7,
      "outputs": []
    },
    {
      "cell_type": "code",
      "source": [
        "# список столбцов, которые необходимо исключить\n",
        "columns = ['club_team_id',\n",
        " 'league_level',\n",
        " 'club_position',\n",
        " 'club_jersey_number',\n",
        " 'club_loaned_from',\n",
        " 'club_joined',\n",
        " 'club_contract_valid_until',\n",
        " 'nationality_id',\n",
        " 'nationality_name',\n",
        " 'nation_team_id',\n",
        " 'nation_position',\n",
        " 'nation_jersey_number',\n",
        " 'preferred_foot',\n",
        " 'weak_foot',\n",
        " 'skill_moves',\n",
        " 'international_reputation',\n",
        " 'work_rate',\n",
        " 'body_type',\n",
        " 'real_face',\n",
        " 'release_clause_eur',\n",
        " 'player_tags',\n",
        " 'player_traits',\n",
        " 'pace',\n",
        " 'shooting',\n",
        " 'passing',\n",
        " 'dribbling',\n",
        " 'defending',\n",
        " 'physic',\n",
        " 'attacking_crossing',\n",
        " 'attacking_finishing',\n",
        " 'attacking_heading_accuracy',\n",
        " 'attacking_short_passing',\n",
        " 'attacking_volleys',\n",
        " 'skill_dribbling',\n",
        " 'skill_curve',\n",
        " 'skill_fk_accuracy',\n",
        " 'skill_long_passing',\n",
        " 'skill_ball_control',\n",
        " 'movement_acceleration',\n",
        " 'movement_sprint_speed',\n",
        " 'movement_agility',\n",
        " 'movement_reactions',\n",
        " 'movement_balance',\n",
        " 'power_shot_power',\n",
        " 'power_jumping',\n",
        " 'power_stamina',\n",
        " 'power_strength',\n",
        " 'power_long_shots',\n",
        " 'mentality_aggression',\n",
        " 'mentality_interceptions',\n",
        " 'mentality_positioning',\n",
        " 'mentality_vision',\n",
        " 'mentality_penalties',\n",
        " 'mentality_composure',\n",
        " 'defending_marking_awareness',\n",
        " 'defending_standing_tackle',\n",
        " 'defending_sliding_tackle',\n",
        " 'goalkeeping_diving',\n",
        " 'goalkeeping_handling',\n",
        " 'goalkeeping_kicking',\n",
        " 'goalkeeping_positioning',\n",
        " 'goalkeeping_reflexes',\n",
        " 'goalkeeping_speed',\n",
        " 'ls',\n",
        " 'st',\n",
        " 'rs',\n",
        " 'lw',\n",
        " 'lf',\n",
        " 'cf',\n",
        " 'rf',\n",
        " 'rw',\n",
        " 'lam',\n",
        " 'cam',\n",
        " 'ram',\n",
        " 'lm',\n",
        " 'lcm',\n",
        " 'cm',\n",
        " 'rcm',\n",
        " 'rm',\n",
        " 'lwb',\n",
        " 'ldm',\n",
        " 'cdm',\n",
        " 'rdm',\n",
        " 'rwb',\n",
        " 'lb',\n",
        " 'lcb',\n",
        " 'cb',\n",
        " 'rcb',\n",
        " 'rb',\n",
        " 'gk',\n",
        " 'player_face_url',\n",
        " 'club_logo_url',\n",
        " 'club_flag_url',\n",
        " 'nation_logo_url',\n",
        " 'nation_flag_url']"
      ],
      "metadata": {
        "id": "yBO-f6ZzjE6e"
      },
      "execution_count": null,
      "outputs": []
    },
    {
      "cell_type": "code",
      "source": [
        "# исключите столбцы списка columns из датафрейма, автоматически перезаписав его\n",
        "df1.drop(columns=columns,inplace = True, keep=False )"
      ],
      "metadata": {
        "id": "hPlMjFR_jE6h"
      },
      "execution_count": null,
      "outputs": []
    },
    {
      "cell_type": "code",
      "source": [
        "# определите, по каким признакам присутствуют пропущенные значения\n",
        "df1.isnull().sum()"
      ],
      "metadata": {
        "id": "qxYjkHnolif4",
        "outputId": "29888418-f435-4d16-ad85-49d4a3458c9d",
        "colab": {
          "base_uri": "https://localhost:8080/"
        }
      },
      "execution_count": 15,
      "outputs": [
        {
          "output_type": "execute_result",
          "data": {
            "text/plain": [
              "sofifa_id               0\n",
              "player_url              0\n",
              "short_name              0\n",
              "long_name               0\n",
              "player_positions        0\n",
              "                    ...  \n",
              "player_face_url         0\n",
              "club_logo_url          61\n",
              "club_flag_url          61\n",
              "nation_logo_url     18480\n",
              "nation_flag_url         0\n",
              "Length: 110, dtype: int64"
            ]
          },
          "metadata": {},
          "execution_count": 15
        }
      ]
    },
    {
      "cell_type": "code",
      "source": [
        "# определите процент пропусков по признаку 'value_eur'\n",
        "df1['value_eur'].isnull().mean()*100"
      ],
      "metadata": {
        "id": "-3BD8fz6jE6i",
        "outputId": "d29e38c2-b750-499e-cc59-561fd079c5dd",
        "colab": {
          "base_uri": "https://localhost:8080/"
        }
      },
      "execution_count": 11,
      "outputs": [
        {
          "output_type": "execute_result",
          "data": {
            "text/plain": [
              "0.38463537605904674"
            ]
          },
          "metadata": {},
          "execution_count": 11
        }
      ]
    },
    {
      "cell_type": "code",
      "source": [
        "# определите количество заполненных значений по признаку 'league_name'\n",
        "df1['league_name'].notnull().sum()\n"
      ],
      "metadata": {
        "id": "n73EIdfejE6j",
        "outputId": "08f25379-5dcc-40a8-83ae-13e30e768823",
        "colab": {
          "base_uri": "https://localhost:8080/"
        }
      },
      "execution_count": 22,
      "outputs": [
        {
          "output_type": "stream",
          "name": "stdout",
          "text": [
            "<class 'pandas.core.frame.DataFrame'>\n",
            "Int64Index: 19178 entries, 0 to 19238\n",
            "Columns: 110 entries, sofifa_id to nation_flag_url\n",
            "dtypes: float64(16), int64(44), object(50)\n",
            "memory usage: 16.2+ MB\n"
          ]
        }
      ]
    },
    {
      "cell_type": "code",
      "source": [
        "# исключите все записи, по которым отсутствуют значения по признаку 'club_name'\n",
        "# (автоматически перезапишите датафрейм)\n",
        "df1.dropna(subset=['club_name'], inplace=True)"
      ],
      "metadata": {
        "id": "ZrQfe0okjE6m"
      },
      "execution_count": 17,
      "outputs": []
    },
    {
      "cell_type": "code",
      "source": [
        "# определите количество пропущенных значений по признаку 'value_eur'\n",
        "df1['value_eur'].isnull().sum()"
      ],
      "metadata": {
        "id": "bsMOfWKpnvNy",
        "outputId": "242e15ca-3689-40d7-a101-40bb05967304",
        "colab": {
          "base_uri": "https://localhost:8080/"
        }
      },
      "execution_count": 19,
      "outputs": [
        {
          "output_type": "execute_result",
          "data": {
            "text/plain": [
              "13"
            ]
          },
          "metadata": {},
          "execution_count": 19
        }
      ]
    },
    {
      "cell_type": "code",
      "source": [
        "# найдите среднее значение по признаку 'value_eur'\n",
        "mean = df1['value_eur'].mean()\n",
        "print(mean)"
      ],
      "metadata": {
        "id": "XI9Zf_HIoDOq",
        "outputId": "66ec8fd0-94af-4b28-9545-7fdd144f3b56",
        "colab": {
          "base_uri": "https://localhost:8080/"
        }
      },
      "execution_count": 21,
      "outputs": [
        {
          "output_type": "stream",
          "name": "stdout",
          "text": [
            "2850451.813201148\n"
          ]
        }
      ]
    },
    {
      "cell_type": "code",
      "source": [
        "# заполните средним значением отсутствующие значения по признаку 'value_eur'\n",
        "# (автоматически перезапишите датафрейм)\n",
        "df1['value_eur']."
      ],
      "metadata": {
        "id": "OAN-LNkJpC-m"
      },
      "execution_count": null,
      "outputs": []
    },
    {
      "cell_type": "code",
      "source": [
        "# сбросьте индексы после всех преобразований\n",
        "# (автоматически перезапишите датафрейм)\n",
        "df1."
      ],
      "metadata": {
        "id": "analF35ppcls"
      },
      "execution_count": null,
      "outputs": []
    },
    {
      "cell_type": "code",
      "source": [
        "# проверьте диапазон индексов\n",
        "df1."
      ],
      "metadata": {
        "id": "jtaG9yoopuCy"
      },
      "execution_count": null,
      "outputs": []
    },
    {
      "cell_type": "markdown",
      "source": [
        "Переходите к тесту и ответьте на вопросы"
      ],
      "metadata": {
        "id": "1flRxc_PjE6n"
      }
    }
  ]
}