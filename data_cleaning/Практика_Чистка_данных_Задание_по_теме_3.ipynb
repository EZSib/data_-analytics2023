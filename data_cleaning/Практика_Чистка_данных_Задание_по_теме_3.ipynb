{
  "nbformat": 4,
  "nbformat_minor": 0,
  "metadata": {
    "colab": {
      "provenance": [],
      "include_colab_link": true
    },
    "kernelspec": {
      "name": "python3",
      "display_name": "Python 3"
    },
    "language_info": {
      "name": "python"
    }
  },
  "cells": [
    {
      "cell_type": "markdown",
      "metadata": {
        "id": "view-in-github",
        "colab_type": "text"
      },
      "source": [
        "<a href=\"https://colab.research.google.com/github/EZSib/date_analy_cleaning/blob/main/%D0%9F%D1%80%D0%B0%D0%BA%D1%82%D0%B8%D0%BA%D0%B0_%D0%A7%D0%B8%D1%81%D1%82%D0%BA%D0%B0_%D0%B4%D0%B0%D0%BD%D0%BD%D1%8B%D1%85_%22%D0%97%D0%B0%D0%B4%D0%B0%D0%BD%D0%B8%D0%B5_%D0%BF%D0%BE_%D1%82%D0%B5%D0%BC%D0%B5_3%22.ipynb\" target=\"_parent\"><img src=\"https://colab.research.google.com/assets/colab-badge.svg\" alt=\"Open In Colab\"/></a>"
      ]
    },
    {
      "cell_type": "markdown",
      "source": [
        "# Описание датасета"
      ],
      "metadata": {
        "id": "ubl8S6m-Okfm"
      }
    },
    {
      "cell_type": "markdown",
      "source": [
        "![](https://storage.googleapis.com/kaggle-datasets-images/1617785/2659800/c06a7a3de61a874af446f350118ca9ca/dataset-cover.jpg?t=2021-09-28-18-06-09)\n",
        "<br>Представлен датасет с данными об игроках режима \"Карьера\" компьютерной игры FIFA 2022 (датасет выложен на платформе [Kaggle](https://www.kaggle.com/datasets/stefanoleone992/fifa-22-complete-player-dataset))."
      ],
      "metadata": {
        "id": "ZpY_ynBcRHJP"
      }
    },
    {
      "cell_type": "markdown",
      "source": [
        "**Формат файла** : *csv*"
      ],
      "metadata": {
        "id": "TOpmRX4Vvqme"
      }
    },
    {
      "cell_type": "markdown",
      "source": [
        "**Ссылка на файл** : https://drive.google.com/file/d/1TO3ZFteyoxQ1GQYrs9Y3hDSdhxXDpx1u/view?usp=share_link"
      ],
      "metadata": {
        "id": "d3Viry5eSTw9"
      }
    },
    {
      "cell_type": "markdown",
      "source": [
        "# Задание по теме 3"
      ],
      "metadata": {
        "id": "N-iVm0gwVeje"
      }
    },
    {
      "cell_type": "markdown",
      "source": [
        "!gdown --id тут айди - загрузка файла\n",
        "\n",
        "pd.read_csv() - чтение сисв файлов\n",
        "\n",
        "pd.read_excel() - for xls, xlsx\n",
        "\n",
        "pd.head() - по умолчанию выводит первые 5 строк\n",
        "\n",
        "pd.sample() - указанное количество случайных строк\n",
        "\n",
        "pd.size - количество ячеек\n",
        "\n",
        "len(df) - количество наблюдений (строк)\n",
        "\n",
        "len(df.axes) - количество признаков в строке (столбцов)\n",
        "\n",
        "df.shape - количество строк и столбцов в дф\n",
        "\n",
        "df.dtypes - список признаков по типам данных\n",
        "\n",
        "df.info - сводная информация о датасете"
      ],
      "metadata": {
        "id": "yLG8n12iB6xq"
      }
    },
    {
      "cell_type": "code",
      "execution_count": 1,
      "metadata": {
        "id": "mZFaBGyVO11S",
        "colab": {
          "base_uri": "https://localhost:8080/"
        },
        "outputId": "3f658923-a57d-43c0-e6bf-c7a19a1c037b"
      },
      "outputs": [
        {
          "output_type": "stream",
          "name": "stdout",
          "text": [
            "/usr/local/lib/python3.9/dist-packages/gdown/cli.py:121: FutureWarning: Option `--id` was deprecated in version 4.3.1 and will be removed in 5.0. You don't need to pass it anymore to use a file ID.\n",
            "  warnings.warn(\n",
            "Downloading...\n",
            "From: https://drive.google.com/uc?id=1TO3ZFteyoxQ1GQYrs9Y3hDSdhxXDpx1u\n",
            "To: /content/players_22.csv\n",
            "100% 13.6M/13.6M [00:00<00:00, 54.6MB/s]\n"
          ]
        }
      ],
      "source": [
        "# скачайте датасет с помощью команды !gdown\n",
        "!gdown --id 1TO3ZFteyoxQ1GQYrs9Y3hDSdhxXDpx1u"
      ]
    },
    {
      "cell_type": "code",
      "source": [
        "# импортируйте библиотеку pandas\n",
        "import pandas as pd"
      ],
      "metadata": {
        "id": "oFiDlt-tTJqK"
      },
      "execution_count": 2,
      "outputs": []
    },
    {
      "cell_type": "code",
      "source": [
        "# прочитайте датасет и сохраните его в переменную\n",
        "df = pd.read_csv('players_22.csv')\n",
        "df"
      ],
      "metadata": {
        "id": "7q_PjhIpS6kJ",
        "colab": {
          "base_uri": "https://localhost:8080/",
          "height": 713
        },
        "outputId": "89c5f692-5d53-49b1-b37b-33ef2ade06c8"
      },
      "execution_count": 3,
      "outputs": [
        {
          "output_type": "stream",
          "name": "stderr",
          "text": [
            "<ipython-input-3-1ae973591513>:2: DtypeWarning: Columns (25,108) have mixed types. Specify dtype option on import or set low_memory=False.\n",
            "  df = pd.read_csv('players_22.csv')\n"
          ]
        },
        {
          "output_type": "execute_result",
          "data": {
            "text/plain": [
              "       sofifa_id                                         player_url  \\\n",
              "0         158023  https://sofifa.com/player/158023/lionel-messi/...   \n",
              "1         188545  https://sofifa.com/player/188545/robert-lewand...   \n",
              "2          20801  https://sofifa.com/player/20801/c-ronaldo-dos-...   \n",
              "3         190871  https://sofifa.com/player/190871/neymar-da-sil...   \n",
              "4         192985  https://sofifa.com/player/192985/kevin-de-bruy...   \n",
              "...          ...                                                ...   \n",
              "19234     261962  https://sofifa.com/player/261962/defu-song/220002   \n",
              "19235     262040  https://sofifa.com/player/262040/caoimhin-port...   \n",
              "19236     262760  https://sofifa.com/player/262760/nathan-logue/...   \n",
              "19237     262820  https://sofifa.com/player/262820/luke-rudden/2...   \n",
              "19238     264540  https://sofifa.com/player/264540/emanuel-lalch...   \n",
              "\n",
              "               short_name                            long_name  \\\n",
              "0                L. Messi       Lionel Andrés Messi Cuccittini   \n",
              "1          R. Lewandowski                   Robert Lewandowski   \n",
              "2       Cristiano Ronaldo  Cristiano Ronaldo dos Santos Aveiro   \n",
              "3               Neymar Jr        Neymar da Silva Santos Júnior   \n",
              "4            K. De Bruyne                      Kevin De Bruyne   \n",
              "...                   ...                                  ...   \n",
              "19234           Song Defu                                  宋德福   \n",
              "19235           C. Porter                      Caoimhin Porter   \n",
              "19236            N. Logue              Nathan Logue-Cunningham   \n",
              "19237           L. Rudden                          Luke Rudden   \n",
              "19238  E. Lalchhanchhuaha              Emanuel Lalchhanchhuaha   \n",
              "\n",
              "      player_positions  overall  potential    value_eur  wage_eur  age  ...  \\\n",
              "0           RW, ST, CF       93         93   78000000.0  320000.0   34  ...   \n",
              "1                   ST       92         92  119500000.0  270000.0   32  ...   \n",
              "2               ST, LW       91         91   45000000.0  270000.0   36  ...   \n",
              "3              LW, CAM       91         91  129000000.0  270000.0   29  ...   \n",
              "4              CM, CAM       91         91  125500000.0  350000.0   30  ...   \n",
              "...                ...      ...        ...          ...       ...  ...  ...   \n",
              "19234              CDM       47         52      70000.0    1000.0   22  ...   \n",
              "19235               CM       47         59     110000.0     500.0   19  ...   \n",
              "19236               CM       47         55     100000.0     500.0   21  ...   \n",
              "19237               ST       47         60     110000.0     500.0   19  ...   \n",
              "19238              CAM       47         60     110000.0     500.0   19  ...   \n",
              "\n",
              "        lcb    cb   rcb    rb    gk  \\\n",
              "0      50+3  50+3  50+3  61+3  19+3   \n",
              "1      60+3  60+3  60+3  61+3  19+3   \n",
              "2      53+3  53+3  53+3  60+3  20+3   \n",
              "3      50+3  50+3  50+3  62+3  20+3   \n",
              "4      69+3  69+3  69+3  75+3  21+3   \n",
              "...     ...   ...   ...   ...   ...   \n",
              "19234  46+2  46+2  46+2  48+2  15+2   \n",
              "19235  44+2  44+2  44+2  48+2  14+2   \n",
              "19236  45+2  45+2  45+2  47+2  12+2   \n",
              "19237  26+2  26+2  26+2  32+2  15+2   \n",
              "19238  41+2  41+2  41+2  45+2  16+2   \n",
              "\n",
              "                                         player_face_url  \\\n",
              "0      https://cdn.sofifa.net/players/158/023/22_120.png   \n",
              "1      https://cdn.sofifa.net/players/188/545/22_120.png   \n",
              "2      https://cdn.sofifa.net/players/020/801/22_120.png   \n",
              "3      https://cdn.sofifa.net/players/190/871/22_120.png   \n",
              "4      https://cdn.sofifa.net/players/192/985/22_120.png   \n",
              "...                                                  ...   \n",
              "19234  https://cdn.sofifa.net/players/261/962/22_120.png   \n",
              "19235  https://cdn.sofifa.net/players/262/040/22_120.png   \n",
              "19236  https://cdn.sofifa.net/players/262/760/22_120.png   \n",
              "19237  https://cdn.sofifa.net/players/262/820/22_120.png   \n",
              "19238  https://cdn.sofifa.net/players/264/540/22_120.png   \n",
              "\n",
              "                                    club_logo_url  \\\n",
              "0          https://cdn.sofifa.net/teams/73/60.png   \n",
              "1          https://cdn.sofifa.net/teams/21/60.png   \n",
              "2          https://cdn.sofifa.net/teams/11/60.png   \n",
              "3          https://cdn.sofifa.net/teams/73/60.png   \n",
              "4          https://cdn.sofifa.net/teams/10/60.png   \n",
              "...                                           ...   \n",
              "19234  https://cdn.sofifa.net/teams/112541/60.png   \n",
              "19235     https://cdn.sofifa.net/teams/445/60.png   \n",
              "19236  https://cdn.sofifa.net/teams/111131/60.png   \n",
              "19237  https://cdn.sofifa.net/teams/111131/60.png   \n",
              "19238  https://cdn.sofifa.net/teams/113040/60.png   \n",
              "\n",
              "                                 club_flag_url  \\\n",
              "0          https://cdn.sofifa.net/flags/fr.png   \n",
              "1          https://cdn.sofifa.net/flags/de.png   \n",
              "2      https://cdn.sofifa.net/flags/gb-eng.png   \n",
              "3          https://cdn.sofifa.net/flags/fr.png   \n",
              "4      https://cdn.sofifa.net/flags/gb-eng.png   \n",
              "...                                        ...   \n",
              "19234      https://cdn.sofifa.net/flags/cn.png   \n",
              "19235      https://cdn.sofifa.net/flags/ie.png   \n",
              "19236      https://cdn.sofifa.net/flags/ie.png   \n",
              "19237      https://cdn.sofifa.net/flags/ie.png   \n",
              "19238      https://cdn.sofifa.net/flags/in.png   \n",
              "\n",
              "                                nation_logo_url  \\\n",
              "0      https://cdn.sofifa.net/teams/1369/60.png   \n",
              "1      https://cdn.sofifa.net/teams/1353/60.png   \n",
              "2      https://cdn.sofifa.net/teams/1354/60.png   \n",
              "3                                           NaN   \n",
              "4      https://cdn.sofifa.net/teams/1325/60.png   \n",
              "...                                         ...   \n",
              "19234                                       NaN   \n",
              "19235                                       NaN   \n",
              "19236                                       NaN   \n",
              "19237                                       NaN   \n",
              "19238                                       NaN   \n",
              "\n",
              "                           nation_flag_url  \n",
              "0      https://cdn.sofifa.net/flags/ar.png  \n",
              "1      https://cdn.sofifa.net/flags/pl.png  \n",
              "2      https://cdn.sofifa.net/flags/pt.png  \n",
              "3      https://cdn.sofifa.net/flags/br.png  \n",
              "4      https://cdn.sofifa.net/flags/be.png  \n",
              "...                                    ...  \n",
              "19234  https://cdn.sofifa.net/flags/cn.png  \n",
              "19235  https://cdn.sofifa.net/flags/ie.png  \n",
              "19236  https://cdn.sofifa.net/flags/ie.png  \n",
              "19237  https://cdn.sofifa.net/flags/ie.png  \n",
              "19238  https://cdn.sofifa.net/flags/in.png  \n",
              "\n",
              "[19239 rows x 110 columns]"
            ],
            "text/html": [
              "\n",
              "  <div id=\"df-e054c58f-f612-43e4-a861-1e30d62de7dd\">\n",
              "    <div class=\"colab-df-container\">\n",
              "      <div>\n",
              "<style scoped>\n",
              "    .dataframe tbody tr th:only-of-type {\n",
              "        vertical-align: middle;\n",
              "    }\n",
              "\n",
              "    .dataframe tbody tr th {\n",
              "        vertical-align: top;\n",
              "    }\n",
              "\n",
              "    .dataframe thead th {\n",
              "        text-align: right;\n",
              "    }\n",
              "</style>\n",
              "<table border=\"1\" class=\"dataframe\">\n",
              "  <thead>\n",
              "    <tr style=\"text-align: right;\">\n",
              "      <th></th>\n",
              "      <th>sofifa_id</th>\n",
              "      <th>player_url</th>\n",
              "      <th>short_name</th>\n",
              "      <th>long_name</th>\n",
              "      <th>player_positions</th>\n",
              "      <th>overall</th>\n",
              "      <th>potential</th>\n",
              "      <th>value_eur</th>\n",
              "      <th>wage_eur</th>\n",
              "      <th>age</th>\n",
              "      <th>...</th>\n",
              "      <th>lcb</th>\n",
              "      <th>cb</th>\n",
              "      <th>rcb</th>\n",
              "      <th>rb</th>\n",
              "      <th>gk</th>\n",
              "      <th>player_face_url</th>\n",
              "      <th>club_logo_url</th>\n",
              "      <th>club_flag_url</th>\n",
              "      <th>nation_logo_url</th>\n",
              "      <th>nation_flag_url</th>\n",
              "    </tr>\n",
              "  </thead>\n",
              "  <tbody>\n",
              "    <tr>\n",
              "      <th>0</th>\n",
              "      <td>158023</td>\n",
              "      <td>https://sofifa.com/player/158023/lionel-messi/...</td>\n",
              "      <td>L. Messi</td>\n",
              "      <td>Lionel Andrés Messi Cuccittini</td>\n",
              "      <td>RW, ST, CF</td>\n",
              "      <td>93</td>\n",
              "      <td>93</td>\n",
              "      <td>78000000.0</td>\n",
              "      <td>320000.0</td>\n",
              "      <td>34</td>\n",
              "      <td>...</td>\n",
              "      <td>50+3</td>\n",
              "      <td>50+3</td>\n",
              "      <td>50+3</td>\n",
              "      <td>61+3</td>\n",
              "      <td>19+3</td>\n",
              "      <td>https://cdn.sofifa.net/players/158/023/22_120.png</td>\n",
              "      <td>https://cdn.sofifa.net/teams/73/60.png</td>\n",
              "      <td>https://cdn.sofifa.net/flags/fr.png</td>\n",
              "      <td>https://cdn.sofifa.net/teams/1369/60.png</td>\n",
              "      <td>https://cdn.sofifa.net/flags/ar.png</td>\n",
              "    </tr>\n",
              "    <tr>\n",
              "      <th>1</th>\n",
              "      <td>188545</td>\n",
              "      <td>https://sofifa.com/player/188545/robert-lewand...</td>\n",
              "      <td>R. Lewandowski</td>\n",
              "      <td>Robert Lewandowski</td>\n",
              "      <td>ST</td>\n",
              "      <td>92</td>\n",
              "      <td>92</td>\n",
              "      <td>119500000.0</td>\n",
              "      <td>270000.0</td>\n",
              "      <td>32</td>\n",
              "      <td>...</td>\n",
              "      <td>60+3</td>\n",
              "      <td>60+3</td>\n",
              "      <td>60+3</td>\n",
              "      <td>61+3</td>\n",
              "      <td>19+3</td>\n",
              "      <td>https://cdn.sofifa.net/players/188/545/22_120.png</td>\n",
              "      <td>https://cdn.sofifa.net/teams/21/60.png</td>\n",
              "      <td>https://cdn.sofifa.net/flags/de.png</td>\n",
              "      <td>https://cdn.sofifa.net/teams/1353/60.png</td>\n",
              "      <td>https://cdn.sofifa.net/flags/pl.png</td>\n",
              "    </tr>\n",
              "    <tr>\n",
              "      <th>2</th>\n",
              "      <td>20801</td>\n",
              "      <td>https://sofifa.com/player/20801/c-ronaldo-dos-...</td>\n",
              "      <td>Cristiano Ronaldo</td>\n",
              "      <td>Cristiano Ronaldo dos Santos Aveiro</td>\n",
              "      <td>ST, LW</td>\n",
              "      <td>91</td>\n",
              "      <td>91</td>\n",
              "      <td>45000000.0</td>\n",
              "      <td>270000.0</td>\n",
              "      <td>36</td>\n",
              "      <td>...</td>\n",
              "      <td>53+3</td>\n",
              "      <td>53+3</td>\n",
              "      <td>53+3</td>\n",
              "      <td>60+3</td>\n",
              "      <td>20+3</td>\n",
              "      <td>https://cdn.sofifa.net/players/020/801/22_120.png</td>\n",
              "      <td>https://cdn.sofifa.net/teams/11/60.png</td>\n",
              "      <td>https://cdn.sofifa.net/flags/gb-eng.png</td>\n",
              "      <td>https://cdn.sofifa.net/teams/1354/60.png</td>\n",
              "      <td>https://cdn.sofifa.net/flags/pt.png</td>\n",
              "    </tr>\n",
              "    <tr>\n",
              "      <th>3</th>\n",
              "      <td>190871</td>\n",
              "      <td>https://sofifa.com/player/190871/neymar-da-sil...</td>\n",
              "      <td>Neymar Jr</td>\n",
              "      <td>Neymar da Silva Santos Júnior</td>\n",
              "      <td>LW, CAM</td>\n",
              "      <td>91</td>\n",
              "      <td>91</td>\n",
              "      <td>129000000.0</td>\n",
              "      <td>270000.0</td>\n",
              "      <td>29</td>\n",
              "      <td>...</td>\n",
              "      <td>50+3</td>\n",
              "      <td>50+3</td>\n",
              "      <td>50+3</td>\n",
              "      <td>62+3</td>\n",
              "      <td>20+3</td>\n",
              "      <td>https://cdn.sofifa.net/players/190/871/22_120.png</td>\n",
              "      <td>https://cdn.sofifa.net/teams/73/60.png</td>\n",
              "      <td>https://cdn.sofifa.net/flags/fr.png</td>\n",
              "      <td>NaN</td>\n",
              "      <td>https://cdn.sofifa.net/flags/br.png</td>\n",
              "    </tr>\n",
              "    <tr>\n",
              "      <th>4</th>\n",
              "      <td>192985</td>\n",
              "      <td>https://sofifa.com/player/192985/kevin-de-bruy...</td>\n",
              "      <td>K. De Bruyne</td>\n",
              "      <td>Kevin De Bruyne</td>\n",
              "      <td>CM, CAM</td>\n",
              "      <td>91</td>\n",
              "      <td>91</td>\n",
              "      <td>125500000.0</td>\n",
              "      <td>350000.0</td>\n",
              "      <td>30</td>\n",
              "      <td>...</td>\n",
              "      <td>69+3</td>\n",
              "      <td>69+3</td>\n",
              "      <td>69+3</td>\n",
              "      <td>75+3</td>\n",
              "      <td>21+3</td>\n",
              "      <td>https://cdn.sofifa.net/players/192/985/22_120.png</td>\n",
              "      <td>https://cdn.sofifa.net/teams/10/60.png</td>\n",
              "      <td>https://cdn.sofifa.net/flags/gb-eng.png</td>\n",
              "      <td>https://cdn.sofifa.net/teams/1325/60.png</td>\n",
              "      <td>https://cdn.sofifa.net/flags/be.png</td>\n",
              "    </tr>\n",
              "    <tr>\n",
              "      <th>...</th>\n",
              "      <td>...</td>\n",
              "      <td>...</td>\n",
              "      <td>...</td>\n",
              "      <td>...</td>\n",
              "      <td>...</td>\n",
              "      <td>...</td>\n",
              "      <td>...</td>\n",
              "      <td>...</td>\n",
              "      <td>...</td>\n",
              "      <td>...</td>\n",
              "      <td>...</td>\n",
              "      <td>...</td>\n",
              "      <td>...</td>\n",
              "      <td>...</td>\n",
              "      <td>...</td>\n",
              "      <td>...</td>\n",
              "      <td>...</td>\n",
              "      <td>...</td>\n",
              "      <td>...</td>\n",
              "      <td>...</td>\n",
              "      <td>...</td>\n",
              "    </tr>\n",
              "    <tr>\n",
              "      <th>19234</th>\n",
              "      <td>261962</td>\n",
              "      <td>https://sofifa.com/player/261962/defu-song/220002</td>\n",
              "      <td>Song Defu</td>\n",
              "      <td>宋德福</td>\n",
              "      <td>CDM</td>\n",
              "      <td>47</td>\n",
              "      <td>52</td>\n",
              "      <td>70000.0</td>\n",
              "      <td>1000.0</td>\n",
              "      <td>22</td>\n",
              "      <td>...</td>\n",
              "      <td>46+2</td>\n",
              "      <td>46+2</td>\n",
              "      <td>46+2</td>\n",
              "      <td>48+2</td>\n",
              "      <td>15+2</td>\n",
              "      <td>https://cdn.sofifa.net/players/261/962/22_120.png</td>\n",
              "      <td>https://cdn.sofifa.net/teams/112541/60.png</td>\n",
              "      <td>https://cdn.sofifa.net/flags/cn.png</td>\n",
              "      <td>NaN</td>\n",
              "      <td>https://cdn.sofifa.net/flags/cn.png</td>\n",
              "    </tr>\n",
              "    <tr>\n",
              "      <th>19235</th>\n",
              "      <td>262040</td>\n",
              "      <td>https://sofifa.com/player/262040/caoimhin-port...</td>\n",
              "      <td>C. Porter</td>\n",
              "      <td>Caoimhin Porter</td>\n",
              "      <td>CM</td>\n",
              "      <td>47</td>\n",
              "      <td>59</td>\n",
              "      <td>110000.0</td>\n",
              "      <td>500.0</td>\n",
              "      <td>19</td>\n",
              "      <td>...</td>\n",
              "      <td>44+2</td>\n",
              "      <td>44+2</td>\n",
              "      <td>44+2</td>\n",
              "      <td>48+2</td>\n",
              "      <td>14+2</td>\n",
              "      <td>https://cdn.sofifa.net/players/262/040/22_120.png</td>\n",
              "      <td>https://cdn.sofifa.net/teams/445/60.png</td>\n",
              "      <td>https://cdn.sofifa.net/flags/ie.png</td>\n",
              "      <td>NaN</td>\n",
              "      <td>https://cdn.sofifa.net/flags/ie.png</td>\n",
              "    </tr>\n",
              "    <tr>\n",
              "      <th>19236</th>\n",
              "      <td>262760</td>\n",
              "      <td>https://sofifa.com/player/262760/nathan-logue/...</td>\n",
              "      <td>N. Logue</td>\n",
              "      <td>Nathan Logue-Cunningham</td>\n",
              "      <td>CM</td>\n",
              "      <td>47</td>\n",
              "      <td>55</td>\n",
              "      <td>100000.0</td>\n",
              "      <td>500.0</td>\n",
              "      <td>21</td>\n",
              "      <td>...</td>\n",
              "      <td>45+2</td>\n",
              "      <td>45+2</td>\n",
              "      <td>45+2</td>\n",
              "      <td>47+2</td>\n",
              "      <td>12+2</td>\n",
              "      <td>https://cdn.sofifa.net/players/262/760/22_120.png</td>\n",
              "      <td>https://cdn.sofifa.net/teams/111131/60.png</td>\n",
              "      <td>https://cdn.sofifa.net/flags/ie.png</td>\n",
              "      <td>NaN</td>\n",
              "      <td>https://cdn.sofifa.net/flags/ie.png</td>\n",
              "    </tr>\n",
              "    <tr>\n",
              "      <th>19237</th>\n",
              "      <td>262820</td>\n",
              "      <td>https://sofifa.com/player/262820/luke-rudden/2...</td>\n",
              "      <td>L. Rudden</td>\n",
              "      <td>Luke Rudden</td>\n",
              "      <td>ST</td>\n",
              "      <td>47</td>\n",
              "      <td>60</td>\n",
              "      <td>110000.0</td>\n",
              "      <td>500.0</td>\n",
              "      <td>19</td>\n",
              "      <td>...</td>\n",
              "      <td>26+2</td>\n",
              "      <td>26+2</td>\n",
              "      <td>26+2</td>\n",
              "      <td>32+2</td>\n",
              "      <td>15+2</td>\n",
              "      <td>https://cdn.sofifa.net/players/262/820/22_120.png</td>\n",
              "      <td>https://cdn.sofifa.net/teams/111131/60.png</td>\n",
              "      <td>https://cdn.sofifa.net/flags/ie.png</td>\n",
              "      <td>NaN</td>\n",
              "      <td>https://cdn.sofifa.net/flags/ie.png</td>\n",
              "    </tr>\n",
              "    <tr>\n",
              "      <th>19238</th>\n",
              "      <td>264540</td>\n",
              "      <td>https://sofifa.com/player/264540/emanuel-lalch...</td>\n",
              "      <td>E. Lalchhanchhuaha</td>\n",
              "      <td>Emanuel Lalchhanchhuaha</td>\n",
              "      <td>CAM</td>\n",
              "      <td>47</td>\n",
              "      <td>60</td>\n",
              "      <td>110000.0</td>\n",
              "      <td>500.0</td>\n",
              "      <td>19</td>\n",
              "      <td>...</td>\n",
              "      <td>41+2</td>\n",
              "      <td>41+2</td>\n",
              "      <td>41+2</td>\n",
              "      <td>45+2</td>\n",
              "      <td>16+2</td>\n",
              "      <td>https://cdn.sofifa.net/players/264/540/22_120.png</td>\n",
              "      <td>https://cdn.sofifa.net/teams/113040/60.png</td>\n",
              "      <td>https://cdn.sofifa.net/flags/in.png</td>\n",
              "      <td>NaN</td>\n",
              "      <td>https://cdn.sofifa.net/flags/in.png</td>\n",
              "    </tr>\n",
              "  </tbody>\n",
              "</table>\n",
              "<p>19239 rows × 110 columns</p>\n",
              "</div>\n",
              "      <button class=\"colab-df-convert\" onclick=\"convertToInteractive('df-e054c58f-f612-43e4-a861-1e30d62de7dd')\"\n",
              "              title=\"Convert this dataframe to an interactive table.\"\n",
              "              style=\"display:none;\">\n",
              "        \n",
              "  <svg xmlns=\"http://www.w3.org/2000/svg\" height=\"24px\"viewBox=\"0 0 24 24\"\n",
              "       width=\"24px\">\n",
              "    <path d=\"M0 0h24v24H0V0z\" fill=\"none\"/>\n",
              "    <path d=\"M18.56 5.44l.94 2.06.94-2.06 2.06-.94-2.06-.94-.94-2.06-.94 2.06-2.06.94zm-11 1L8.5 8.5l.94-2.06 2.06-.94-2.06-.94L8.5 2.5l-.94 2.06-2.06.94zm10 10l.94 2.06.94-2.06 2.06-.94-2.06-.94-.94-2.06-.94 2.06-2.06.94z\"/><path d=\"M17.41 7.96l-1.37-1.37c-.4-.4-.92-.59-1.43-.59-.52 0-1.04.2-1.43.59L10.3 9.45l-7.72 7.72c-.78.78-.78 2.05 0 2.83L4 21.41c.39.39.9.59 1.41.59.51 0 1.02-.2 1.41-.59l7.78-7.78 2.81-2.81c.8-.78.8-2.07 0-2.86zM5.41 20L4 18.59l7.72-7.72 1.47 1.35L5.41 20z\"/>\n",
              "  </svg>\n",
              "      </button>\n",
              "      \n",
              "  <style>\n",
              "    .colab-df-container {\n",
              "      display:flex;\n",
              "      flex-wrap:wrap;\n",
              "      gap: 12px;\n",
              "    }\n",
              "\n",
              "    .colab-df-convert {\n",
              "      background-color: #E8F0FE;\n",
              "      border: none;\n",
              "      border-radius: 50%;\n",
              "      cursor: pointer;\n",
              "      display: none;\n",
              "      fill: #1967D2;\n",
              "      height: 32px;\n",
              "      padding: 0 0 0 0;\n",
              "      width: 32px;\n",
              "    }\n",
              "\n",
              "    .colab-df-convert:hover {\n",
              "      background-color: #E2EBFA;\n",
              "      box-shadow: 0px 1px 2px rgba(60, 64, 67, 0.3), 0px 1px 3px 1px rgba(60, 64, 67, 0.15);\n",
              "      fill: #174EA6;\n",
              "    }\n",
              "\n",
              "    [theme=dark] .colab-df-convert {\n",
              "      background-color: #3B4455;\n",
              "      fill: #D2E3FC;\n",
              "    }\n",
              "\n",
              "    [theme=dark] .colab-df-convert:hover {\n",
              "      background-color: #434B5C;\n",
              "      box-shadow: 0px 1px 3px 1px rgba(0, 0, 0, 0.15);\n",
              "      filter: drop-shadow(0px 1px 2px rgba(0, 0, 0, 0.3));\n",
              "      fill: #FFFFFF;\n",
              "    }\n",
              "  </style>\n",
              "\n",
              "      <script>\n",
              "        const buttonEl =\n",
              "          document.querySelector('#df-e054c58f-f612-43e4-a861-1e30d62de7dd button.colab-df-convert');\n",
              "        buttonEl.style.display =\n",
              "          google.colab.kernel.accessAllowed ? 'block' : 'none';\n",
              "\n",
              "        async function convertToInteractive(key) {\n",
              "          const element = document.querySelector('#df-e054c58f-f612-43e4-a861-1e30d62de7dd');\n",
              "          const dataTable =\n",
              "            await google.colab.kernel.invokeFunction('convertToInteractive',\n",
              "                                                     [key], {});\n",
              "          if (!dataTable) return;\n",
              "\n",
              "          const docLinkHtml = 'Like what you see? Visit the ' +\n",
              "            '<a target=\"_blank\" href=https://colab.research.google.com/notebooks/data_table.ipynb>data table notebook</a>'\n",
              "            + ' to learn more about interactive tables.';\n",
              "          element.innerHTML = '';\n",
              "          dataTable['output_type'] = 'display_data';\n",
              "          await google.colab.output.renderOutput(dataTable, element);\n",
              "          const docLink = document.createElement('div');\n",
              "          docLink.innerHTML = docLinkHtml;\n",
              "          element.appendChild(docLink);\n",
              "        }\n",
              "      </script>\n",
              "    </div>\n",
              "  </div>\n",
              "  "
            ]
          },
          "metadata": {},
          "execution_count": 3
        }
      ]
    },
    {
      "cell_type": "code",
      "source": [
        "# проведите визуальный обзор датасета\n",
        "df.head"
      ],
      "metadata": {
        "id": "jeUuSYrhTRGL",
        "colab": {
          "base_uri": "https://localhost:8080/"
        },
        "outputId": "2b8a4af1-a926-4bf6-c920-0d17c45c3cd2"
      },
      "execution_count": 19,
      "outputs": [
        {
          "output_type": "execute_result",
          "data": {
            "text/plain": [
              "<bound method NDFrame.head of        sofifa_id                                         player_url  \\\n",
              "0         158023  https://sofifa.com/player/158023/lionel-messi/...   \n",
              "1         188545  https://sofifa.com/player/188545/robert-lewand...   \n",
              "2          20801  https://sofifa.com/player/20801/c-ronaldo-dos-...   \n",
              "3         190871  https://sofifa.com/player/190871/neymar-da-sil...   \n",
              "4         192985  https://sofifa.com/player/192985/kevin-de-bruy...   \n",
              "...          ...                                                ...   \n",
              "19234     261962  https://sofifa.com/player/261962/defu-song/220002   \n",
              "19235     262040  https://sofifa.com/player/262040/caoimhin-port...   \n",
              "19236     262760  https://sofifa.com/player/262760/nathan-logue/...   \n",
              "19237     262820  https://sofifa.com/player/262820/luke-rudden/2...   \n",
              "19238     264540  https://sofifa.com/player/264540/emanuel-lalch...   \n",
              "\n",
              "               short_name                            long_name  \\\n",
              "0                L. Messi       Lionel Andrés Messi Cuccittini   \n",
              "1          R. Lewandowski                   Robert Lewandowski   \n",
              "2       Cristiano Ronaldo  Cristiano Ronaldo dos Santos Aveiro   \n",
              "3               Neymar Jr        Neymar da Silva Santos Júnior   \n",
              "4            K. De Bruyne                      Kevin De Bruyne   \n",
              "...                   ...                                  ...   \n",
              "19234           Song Defu                                  宋德福   \n",
              "19235           C. Porter                      Caoimhin Porter   \n",
              "19236            N. Logue              Nathan Logue-Cunningham   \n",
              "19237           L. Rudden                          Luke Rudden   \n",
              "19238  E. Lalchhanchhuaha              Emanuel Lalchhanchhuaha   \n",
              "\n",
              "      player_positions  overall  potential    value_eur  wage_eur  age  ...  \\\n",
              "0           RW, ST, CF       93         93   78000000.0  320000.0   34  ...   \n",
              "1                   ST       92         92  119500000.0  270000.0   32  ...   \n",
              "2               ST, LW       91         91   45000000.0  270000.0   36  ...   \n",
              "3              LW, CAM       91         91  129000000.0  270000.0   29  ...   \n",
              "4              CM, CAM       91         91  125500000.0  350000.0   30  ...   \n",
              "...                ...      ...        ...          ...       ...  ...  ...   \n",
              "19234              CDM       47         52      70000.0    1000.0   22  ...   \n",
              "19235               CM       47         59     110000.0     500.0   19  ...   \n",
              "19236               CM       47         55     100000.0     500.0   21  ...   \n",
              "19237               ST       47         60     110000.0     500.0   19  ...   \n",
              "19238              CAM       47         60     110000.0     500.0   19  ...   \n",
              "\n",
              "        lcb    cb   rcb    rb    gk  \\\n",
              "0      50+3  50+3  50+3  61+3  19+3   \n",
              "1      60+3  60+3  60+3  61+3  19+3   \n",
              "2      53+3  53+3  53+3  60+3  20+3   \n",
              "3      50+3  50+3  50+3  62+3  20+3   \n",
              "4      69+3  69+3  69+3  75+3  21+3   \n",
              "...     ...   ...   ...   ...   ...   \n",
              "19234  46+2  46+2  46+2  48+2  15+2   \n",
              "19235  44+2  44+2  44+2  48+2  14+2   \n",
              "19236  45+2  45+2  45+2  47+2  12+2   \n",
              "19237  26+2  26+2  26+2  32+2  15+2   \n",
              "19238  41+2  41+2  41+2  45+2  16+2   \n",
              "\n",
              "                                         player_face_url  \\\n",
              "0      https://cdn.sofifa.net/players/158/023/22_120.png   \n",
              "1      https://cdn.sofifa.net/players/188/545/22_120.png   \n",
              "2      https://cdn.sofifa.net/players/020/801/22_120.png   \n",
              "3      https://cdn.sofifa.net/players/190/871/22_120.png   \n",
              "4      https://cdn.sofifa.net/players/192/985/22_120.png   \n",
              "...                                                  ...   \n",
              "19234  https://cdn.sofifa.net/players/261/962/22_120.png   \n",
              "19235  https://cdn.sofifa.net/players/262/040/22_120.png   \n",
              "19236  https://cdn.sofifa.net/players/262/760/22_120.png   \n",
              "19237  https://cdn.sofifa.net/players/262/820/22_120.png   \n",
              "19238  https://cdn.sofifa.net/players/264/540/22_120.png   \n",
              "\n",
              "                                    club_logo_url  \\\n",
              "0          https://cdn.sofifa.net/teams/73/60.png   \n",
              "1          https://cdn.sofifa.net/teams/21/60.png   \n",
              "2          https://cdn.sofifa.net/teams/11/60.png   \n",
              "3          https://cdn.sofifa.net/teams/73/60.png   \n",
              "4          https://cdn.sofifa.net/teams/10/60.png   \n",
              "...                                           ...   \n",
              "19234  https://cdn.sofifa.net/teams/112541/60.png   \n",
              "19235     https://cdn.sofifa.net/teams/445/60.png   \n",
              "19236  https://cdn.sofifa.net/teams/111131/60.png   \n",
              "19237  https://cdn.sofifa.net/teams/111131/60.png   \n",
              "19238  https://cdn.sofifa.net/teams/113040/60.png   \n",
              "\n",
              "                                 club_flag_url  \\\n",
              "0          https://cdn.sofifa.net/flags/fr.png   \n",
              "1          https://cdn.sofifa.net/flags/de.png   \n",
              "2      https://cdn.sofifa.net/flags/gb-eng.png   \n",
              "3          https://cdn.sofifa.net/flags/fr.png   \n",
              "4      https://cdn.sofifa.net/flags/gb-eng.png   \n",
              "...                                        ...   \n",
              "19234      https://cdn.sofifa.net/flags/cn.png   \n",
              "19235      https://cdn.sofifa.net/flags/ie.png   \n",
              "19236      https://cdn.sofifa.net/flags/ie.png   \n",
              "19237      https://cdn.sofifa.net/flags/ie.png   \n",
              "19238      https://cdn.sofifa.net/flags/in.png   \n",
              "\n",
              "                                nation_logo_url  \\\n",
              "0      https://cdn.sofifa.net/teams/1369/60.png   \n",
              "1      https://cdn.sofifa.net/teams/1353/60.png   \n",
              "2      https://cdn.sofifa.net/teams/1354/60.png   \n",
              "3                                           NaN   \n",
              "4      https://cdn.sofifa.net/teams/1325/60.png   \n",
              "...                                         ...   \n",
              "19234                                       NaN   \n",
              "19235                                       NaN   \n",
              "19236                                       NaN   \n",
              "19237                                       NaN   \n",
              "19238                                       NaN   \n",
              "\n",
              "                           nation_flag_url  \n",
              "0      https://cdn.sofifa.net/flags/ar.png  \n",
              "1      https://cdn.sofifa.net/flags/pl.png  \n",
              "2      https://cdn.sofifa.net/flags/pt.png  \n",
              "3      https://cdn.sofifa.net/flags/br.png  \n",
              "4      https://cdn.sofifa.net/flags/be.png  \n",
              "...                                    ...  \n",
              "19234  https://cdn.sofifa.net/flags/cn.png  \n",
              "19235  https://cdn.sofifa.net/flags/ie.png  \n",
              "19236  https://cdn.sofifa.net/flags/ie.png  \n",
              "19237  https://cdn.sofifa.net/flags/ie.png  \n",
              "19238  https://cdn.sofifa.net/flags/in.png  \n",
              "\n",
              "[19239 rows x 110 columns]>"
            ]
          },
          "metadata": {},
          "execution_count": 19
        }
      ]
    },
    {
      "cell_type": "code",
      "source": [
        "# определите количество ячеек в датафрейме (строки X столбцы)\n",
        "df.size"
      ],
      "metadata": {
        "id": "HqReIiUwTTAg",
        "colab": {
          "base_uri": "https://localhost:8080/"
        },
        "outputId": "b9884a60-ad22-4452-cf21-17711269cbae"
      },
      "execution_count": 20,
      "outputs": [
        {
          "output_type": "execute_result",
          "data": {
            "text/plain": [
              "2116290"
            ]
          },
          "metadata": {},
          "execution_count": 20
        }
      ]
    },
    {
      "cell_type": "code",
      "source": [
        "# определите количество наблюдений в датафрейме\n",
        "len(df)"
      ],
      "metadata": {
        "id": "nfOoW2hsUZgZ",
        "colab": {
          "base_uri": "https://localhost:8080/"
        },
        "outputId": "2a8a770c-0442-4264-8f7d-8325aa911e39"
      },
      "execution_count": 21,
      "outputs": [
        {
          "output_type": "execute_result",
          "data": {
            "text/plain": [
              "19239"
            ]
          },
          "metadata": {},
          "execution_count": 21
        }
      ]
    },
    {
      "cell_type": "code",
      "source": [
        "# определите количество признаков в датафрейме\n",
        "len(df.axes[1])"
      ],
      "metadata": {
        "id": "ezVvMlbsUQQP",
        "colab": {
          "base_uri": "https://localhost:8080/"
        },
        "outputId": "aa39f717-f78c-4414-c58f-c46e577d8d6b"
      },
      "execution_count": 22,
      "outputs": [
        {
          "output_type": "execute_result",
          "data": {
            "text/plain": [
              "110"
            ]
          },
          "metadata": {},
          "execution_count": 22
        }
      ]
    },
    {
      "cell_type": "code",
      "source": [
        "# определите тип данных по признаку 'wage_eur'\n",
        "type(df['wage_eur'][0])"
      ],
      "metadata": {
        "id": "8oI1LtMIUfvh",
        "colab": {
          "base_uri": "https://localhost:8080/"
        },
        "outputId": "5da465ad-3240-4fb3-e69c-3dec5addc969"
      },
      "execution_count": 5,
      "outputs": [
        {
          "output_type": "execute_result",
          "data": {
            "text/plain": [
              "numpy.float64"
            ]
          },
          "metadata": {},
          "execution_count": 5
        }
      ]
    },
    {
      "cell_type": "code",
      "source": [
        "df.shape"
      ],
      "metadata": {
        "colab": {
          "base_uri": "https://localhost:8080/"
        },
        "id": "A55OF3IimnG-",
        "outputId": "8f3e6463-1519-47c4-8422-b710c1ae7a6f"
      },
      "execution_count": 27,
      "outputs": [
        {
          "output_type": "execute_result",
          "data": {
            "text/plain": [
              "(19239, 110)"
            ]
          },
          "metadata": {},
          "execution_count": 27
        }
      ]
    },
    {
      "cell_type": "code",
      "source": [
        "df.dtypes"
      ],
      "metadata": {
        "colab": {
          "base_uri": "https://localhost:8080/"
        },
        "id": "5T_Vtp4FmoBD",
        "outputId": "0c0bd06a-4736-4035-de8f-95a908a55802"
      },
      "execution_count": 25,
      "outputs": [
        {
          "output_type": "execute_result",
          "data": {
            "text/plain": [
              "sofifa_id            int64\n",
              "player_url          object\n",
              "short_name          object\n",
              "long_name           object\n",
              "player_positions    object\n",
              "                     ...  \n",
              "player_face_url     object\n",
              "club_logo_url       object\n",
              "club_flag_url       object\n",
              "nation_logo_url     object\n",
              "nation_flag_url     object\n",
              "Length: 110, dtype: object"
            ]
          },
          "metadata": {},
          "execution_count": 25
        }
      ]
    },
    {
      "cell_type": "code",
      "source": [
        "df.info()"
      ],
      "metadata": {
        "colab": {
          "base_uri": "https://localhost:8080/"
        },
        "id": "NI3CBXsGmtio",
        "outputId": "3502f839-fed5-4ea2-f920-2c0be39c65d7"
      },
      "execution_count": 26,
      "outputs": [
        {
          "output_type": "stream",
          "name": "stdout",
          "text": [
            "<class 'pandas.core.frame.DataFrame'>\n",
            "RangeIndex: 19239 entries, 0 to 19238\n",
            "Columns: 110 entries, sofifa_id to nation_flag_url\n",
            "dtypes: float64(16), int64(44), object(50)\n",
            "memory usage: 16.1+ MB\n"
          ]
        }
      ]
    }
  ]
}
