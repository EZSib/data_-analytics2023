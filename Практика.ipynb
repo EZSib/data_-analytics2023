{
  "nbformat": 4,
  "nbformat_minor": 0,
  "metadata": {
    "colab": {
      "provenance": [],
      "mount_file_id": "1i7HXwpU6HL7NjCCn3OGTCKL9w4iGYuHT",
      "authorship_tag": "ABX9TyPAg4ryM+OQdz/n9VeSgxqE",
      "include_colab_link": true
    },
    "kernelspec": {
      "name": "python3",
      "display_name": "Python 3"
    },
    "language_info": {
      "name": "python"
    }
  },
  "cells": [
    {
      "cell_type": "markdown",
      "metadata": {
        "id": "view-in-github",
        "colab_type": "text"
      },
      "source": [
        "<a href=\"https://colab.research.google.com/github/EZSib/data_analy2023/blob/main/%D0%9F%D1%80%D0%B0%D0%BA%D1%82%D0%B8%D0%BA%D0%B0.ipynb\" target=\"_parent\"><img src=\"https://colab.research.google.com/assets/colab-badge.svg\" alt=\"Open In Colab\"/></a>"
      ]
    },
    {
      "cell_type": "code",
      "execution_count": null,
      "metadata": {
        "colab": {
          "base_uri": "https://localhost:8080/"
        },
        "id": "4WHRLZ8QlwAr",
        "outputId": "faacf89d-ca95-4633-bd63-681f9ef0e19d"
      },
      "outputs": [
        {
          "output_type": "stream",
          "name": "stdout",
          "text": [
            "7\n"
          ]
        }
      ],
      "source": [
        "#Переменной a присваивается значение 3\n",
        "a = 3\n",
        "#Переменной b присваивается значение 4\n",
        "b = 4\n",
        "#Переменной result присваивается значение суммы a + b\n",
        "result = a + b\n",
        "#Выводим на экран значение переменной result\n",
        "print(result)"
      ]
    },
    {
      "cell_type": "code",
      "source": [
        "#Переменной n присваивается значение 10\n",
        "n = 10\n",
        "#Переменной v присваивается значение 60\n",
        "v = 60\n",
        "#Переменной result присваивается значение произведения n * v\n",
        "result = n * v\n",
        "#Выводим на экран значение переменной result\n",
        "print(result)"
      ],
      "metadata": {
        "colab": {
          "base_uri": "https://localhost:8080/"
        },
        "id": "zPcIwwgo_Mbp",
        "outputId": "093e5d20-026b-4e41-ca5e-975a68adfe96"
      },
      "execution_count": null,
      "outputs": [
        {
          "output_type": "stream",
          "name": "stdout",
          "text": [
            "600\n"
          ]
        }
      ]
    },
    {
      "cell_type": "code",
      "source": [
        "#Переменной a (катет) присваивается значение 6\n",
        "a = 6\n",
        "#Переменной b (катет) присваивается значение 8\n",
        "b = 8\n",
        "#Переменной c (гипотенуза) присваивается значение корня квадратного из суммы квадратов a и b\n",
        "c = (a**2 + b**2)**0.5\n",
        "#Выводим на экран значение переменной c\n",
        "print(c)"
      ],
      "metadata": {
        "colab": {
          "base_uri": "https://localhost:8080/"
        },
        "id": "3cNtLVA0BWGn",
        "outputId": "ce310cbe-bc08-4152-ac67-65e940d91f47"
      },
      "execution_count": null,
      "outputs": [
        {
          "output_type": "stream",
          "name": "stdout",
          "text": [
            "10.0\n"
          ]
        }
      ]
    },
    {
      "cell_type": "code",
      "source": [
        "#Переменной x присваивается значение 1.57\n",
        "x = 1.57\n",
        "print (x - x**3/(1*2*3) + x**5/(1*2*3*4*5) - x**7/(1*2*3*4*5*6*7))"
      ],
      "metadata": {
        "colab": {
          "base_uri": "https://localhost:8080/"
        },
        "id": "sfi-W9JSFa4b",
        "outputId": "8e014ada-1971-4f18-ab3e-153bc054416d"
      },
      "execution_count": null,
      "outputs": [
        {
          "output_type": "stream",
          "name": "stdout",
          "text": [
            "0.9998434952309573\n"
          ]
        }
      ]
    },
    {
      "cell_type": "code",
      "source": [
        "Masha = 3\n",
        "Sasha = 4\n",
        "if (Masha + Sasha) % 2 == 0:\n",
        "\tresult = 'Masha'\n",
        "else:\n",
        "\tresult = 'Sasha'\n",
        "print('Победитель ',result)"
      ],
      "metadata": {
        "colab": {
          "base_uri": "https://localhost:8080/"
        },
        "id": "ol4Yn3zppTSG",
        "outputId": "1d691973-6f53-4e24-ab6e-e2bec957d3b3"
      },
      "execution_count": null,
      "outputs": [
        {
          "output_type": "stream",
          "name": "stdout",
          "text": [
            "Победитель  Sasha\n"
          ]
        }
      ]
    },
    {
      "cell_type": "code",
      "source": [
        "year = 1932\n",
        "if year % 4 == 0 and year % 100 != 0  or year % 400 == 0:\n",
        "\tresult = True\n",
        "else:\n",
        "\tresult = False\n",
        "print(result)"
      ],
      "metadata": {
        "colab": {
          "base_uri": "https://localhost:8080/"
        },
        "id": "EEkftfgivwID",
        "outputId": "61932b03-f538-43c4-a36a-fb776379039c"
      },
      "execution_count": null,
      "outputs": [
        {
          "output_type": "stream",
          "name": "stdout",
          "text": [
            "True\n"
          ]
        }
      ]
    },
    {
      "cell_type": "code",
      "source": [
        "a = 5 # Переменной a присваивается значение 5\n",
        "b = 8 # Переменной b присваивается значение 8\n",
        "result = 0 # Переменной result присваивается значение 0\n",
        "i = a # Поскольку a по условию не должно изменяться в процессе выполнения программы,\n",
        "# используем дополнительную переменную i \n",
        "while i < b: # Цикл по целым числам из [a,b)\n",
        "    result += i # Каждый раз прибавляем значение переменной i к значению переменной result\n",
        "    i += 1 # Увеличиваем значение переменной i на единицу\n",
        "print(result)"
      ],
      "metadata": {
        "id": "NDJKpOx-8oMB",
        "colab": {
          "base_uri": "https://localhost:8080/"
        },
        "outputId": "08cdd295-ef87-4726-eb8a-96fb5b713a0d"
      },
      "execution_count": null,
      "outputs": [
        {
          "output_type": "stream",
          "name": "stdout",
          "text": [
            "14\n"
          ]
        }
      ]
    },
    {
      "cell_type": "code",
      "source": [
        "#Вычислить сумму натуральных чисел на интервале [a, b) где a < b\n",
        "a = 5\n",
        "b = 8\n",
        "if a < 0 or a > b:\n",
        "\tprint('Заданное значение a не является натуральным числом или не принадлежит к указанному множеству')\n",
        "sum = a\n",
        "counter = a\n",
        "while (counter + 1) < b:\n",
        "  counter += 1\n",
        "  sum = sum + counter\n",
        "if a >= 0 and a < b:\n",
        "  result = sum\n",
        "  print(result)"
      ],
      "metadata": {
        "colab": {
          "base_uri": "https://localhost:8080/"
        },
        "id": "_D7lSW5tTv3w",
        "outputId": "fe674fc2-e49b-4928-ec0f-0cbeb6a922be"
      },
      "execution_count": null,
      "outputs": [
        {
          "output_type": "stream",
          "name": "stdout",
          "text": [
            "18\n"
          ]
        }
      ]
    },
    {
      "cell_type": "code",
      "source": [
        "#Вычислить сумму натуральных чисел на интервале [a, b) где a < b\n",
        "a = 3\n",
        "b = 27\n",
        "c = 4\n",
        "result = 0\n",
        "if a < 0 or a % int(a) != 0 or a >= b or c <= 0:\t#Проверка что a натуральное число, что a < b и что c > 0\n",
        "\tprint('Заданное значение a не является натуральным числом или не принадлежит к указанному множеству')\n",
        "for i in range(a,b,c):\n",
        "\tresult += i\n",
        "if a >= 0 and a < b and c > 0:\n",
        "\tprint(result)"
      ],
      "metadata": {
        "colab": {
          "base_uri": "https://localhost:8080/"
        },
        "id": "vdmFGoRHmWRm",
        "outputId": "8b3f119d-578f-4468-d245-57e181a49cf9"
      },
      "execution_count": null,
      "outputs": [
        {
          "output_type": "stream",
          "name": "stdout",
          "text": [
            "78\n"
          ]
        }
      ]
    },
    {
      "cell_type": "code",
      "source": [
        "a = 3 # Переменной a присваивается значение 3\n",
        "b = 27 # Переменной b присваивается значение 27\n",
        "c = 4 # Переменной c присваивается значение 4  \n",
        "result = 0 # Переменной result присваивается значение 0\n",
        "i = a  # Поскольку a по условию не должно изменяться в процессе выполнения программы,\n",
        "# используем дополнительную переменную i \n",
        "\n",
        "while i < b: # Цикл пока i меньше b\n",
        "    result += i # Каждый раз прибавляем значение переменной i к значению переменной result\n",
        "    i += c # Наращиваем i с шагом c\n",
        "print(result)"
      ],
      "metadata": {
        "colab": {
          "base_uri": "https://localhost:8080/"
        },
        "id": "a2KY11Fu1h62",
        "outputId": "235c1732-97eb-4327-c97c-ac676c4ba8a5"
      },
      "execution_count": null,
      "outputs": [
        {
          "output_type": "stream",
          "name": "stdout",
          "text": [
            "78\n"
          ]
        }
      ]
    },
    {
      "cell_type": "code",
      "source": [
        "deposit = 100000\n",
        "rate = 0.06\n",
        "deposit_term = 5\n",
        "for y in range(0,deposit_term):\n",
        "\tdeposit += deposit*rate\n",
        "deposit = round(deposit,2)\n",
        "print(deposit)"
      ],
      "metadata": {
        "colab": {
          "base_uri": "https://localhost:8080/"
        },
        "id": "W6r0Vr9O5_zp",
        "outputId": "aa8f7962-9f73-4862-f451-b995902bbc14"
      },
      "execution_count": null,
      "outputs": [
        {
          "output_type": "stream",
          "name": "stdout",
          "text": [
            "133822.56\n"
          ]
        }
      ]
    },
    {
      "cell_type": "code",
      "source": [
        "x = 1\n",
        "degree = 0\n",
        "a = 0\n",
        "import math\n",
        "while degree <= 5:\n",
        "\ta = a + x**degree / math.factorial(degree)\n",
        "\tdegree += 1\n",
        "print(a)\n",
        "a = round(a,3)\n",
        "print(a)"
      ],
      "metadata": {
        "colab": {
          "base_uri": "https://localhost:8080/"
        },
        "id": "eKMYl7WBogUn",
        "outputId": "8bbf3edc-499f-4864-c437-50dccda50296"
      },
      "execution_count": null,
      "outputs": [
        {
          "output_type": "stream",
          "name": "stdout",
          "text": [
            "2.7166666666666663\n",
            "2.717\n"
          ]
        }
      ]
    },
    {
      "cell_type": "code",
      "source": [
        "import math\n",
        "x = 1\n",
        "a = 0\n",
        "for i in range(0,6):\n",
        "    a += x**i/math.factorial(i)\n",
        "print(a)"
      ],
      "metadata": {
        "colab": {
          "base_uri": "https://localhost:8080/"
        },
        "id": "LuiRSZUYu93a",
        "outputId": "ad6884a2-b9e1-482d-f904-254cdddc78de"
      },
      "execution_count": null,
      "outputs": [
        {
          "output_type": "stream",
          "name": "stdout",
          "text": [
            "2.7166666666666663\n"
          ]
        }
      ]
    },
    {
      "cell_type": "code",
      "source": [
        "def is_leap_year(year):\n",
        "\tif year % 4 == 0 and year % 100 != 0  or year % 400 == 0:\n",
        "\t\treturn True\n",
        "\telse:\n",
        "\t\treturn False\n",
        "print(is_leap_year(2000))"
      ],
      "metadata": {
        "colab": {
          "base_uri": "https://localhost:8080/"
        },
        "id": "wOBriy2q8dur",
        "outputId": "9b5c7236-106f-4fd5-d6af-17813f426226"
      },
      "execution_count": null,
      "outputs": [
        {
          "output_type": "stream",
          "name": "stdout",
          "text": [
            "True\n"
          ]
        }
      ]
    },
    {
      "cell_type": "code",
      "source": [
        "def get_sum_odd(a,b):\n",
        "\tif a < b:\n",
        "\t\tif a % 2 != 0:\t#если a нечетное\n",
        "\t\t\tsum = 0\n",
        "\t\t\tfor i in range (a,(b+1),2):\t#то в диапазоне от a вкл до b вкл с шагом 2\n",
        "\t\t\t\tsum += i\n",
        "\t\t\treturn sum\n",
        "\t\telif (a + 1) < b:\n",
        "\t\t\tsum = 0\n",
        "\t\t\tfor i in range ((a+1),(b+1),2):\t#то в диапазоне от (a+1) вкл до b вкл с шагом 2\n",
        "\t\t\t\tsum += i\n",
        "\t\t\treturn sum\n",
        "\telse:\n",
        "\t\tprint('Значения переменных не соответствуют указанному множеству a < b')\n",
        "print(get_sum_odd(1,3))"
      ],
      "metadata": {
        "id": "OsYG-UDrGA-v",
        "colab": {
          "base_uri": "https://localhost:8080/"
        },
        "outputId": "8ffe11d9-4c16-4c75-ee1f-301bcf9d5037"
      },
      "execution_count": null,
      "outputs": [
        {
          "output_type": "stream",
          "name": "stdout",
          "text": [
            "4\n"
          ]
        }
      ]
    },
    {
      "cell_type": "code",
      "source": [
        "def grade(score):\n",
        "\tif score in range (0,60):\n",
        "\t\treturn 'неудовлетворительно'\n",
        "\telif score in range (60,75):\n",
        "\t\treturn 'удовлетворительно'\n",
        "\telif score in range (75,91):\n",
        "\t\treturn 'хорошо'\n",
        "\telif score in range (91,101):\n",
        "\t\treturn 'отлично'\n",
        "\telse:\n",
        "\t\treturn 'Error'\n",
        "print(grade(91))"
      ],
      "metadata": {
        "colab": {
          "base_uri": "https://localhost:8080/"
        },
        "id": "2VAvcttOwVeg",
        "outputId": "cf93c957-dd26-4a14-bb82-d04ddc4d9a89"
      },
      "execution_count": null,
      "outputs": [
        {
          "output_type": "stream",
          "name": "stdout",
          "text": [
            "Error\n"
          ]
        }
      ]
    },
    {
      "cell_type": "code",
      "source": [
        "def solve(a,b):\n",
        "  if a != 0:\n",
        "    return b/a\n",
        "  if (a == 0) & (b != 0):\n",
        "    return 'Error'\n",
        "  if (a == 0) & (b == 0):\n",
        "    return 'Any'\n",
        "print(solve(0,0))"
      ],
      "metadata": {
        "colab": {
          "base_uri": "https://localhost:8080/"
        },
        "id": "6inrS9r_fds6",
        "outputId": "fba20db6-df49-4d5a-cac0-080340e80a4e"
      },
      "execution_count": null,
      "outputs": [
        {
          "output_type": "stream",
          "name": "stdout",
          "text": [
            "Any\n"
          ]
        }
      ]
    },
    {
      "cell_type": "code",
      "source": [
        "def gen_list(a, b, c):\n",
        "\tif (a < b) & (c < b):\n",
        "\t\tnumbers = list(range(a,b,c))\n",
        "\t\treturn numbers\n",
        "\tprint('Error')\n",
        "gen_list(1, 15, 4)"
      ],
      "metadata": {
        "colab": {
          "base_uri": "https://localhost:8080/"
        },
        "id": "BpF9lpuV7M7I",
        "outputId": "2eb53639-049b-4524-888e-b86e5142d6e7"
      },
      "execution_count": null,
      "outputs": [
        {
          "output_type": "execute_result",
          "data": {
            "text/plain": [
              "[1, 5, 9, 13]"
            ]
          },
          "metadata": {},
          "execution_count": 1
        }
      ]
    },
    {
      "cell_type": "code",
      "source": [
        "def gen_list(a, b, c):\n",
        "  numbers = [] # Инициализируем пустой список\n",
        "  for i in range(a, b, c): # Идем от a до b с шагом c\n",
        "    numbers.append(i) # Добавляем элемент в список\n",
        "  return numbers"
      ],
      "metadata": {
        "id": "xPJClGFiBY4Y"
      },
      "execution_count": null,
      "outputs": []
    },
    {
      "cell_type": "code",
      "source": [
        "def gen_dict(Name, Age):\n",
        "\tif len(Name) == len(Age):\n",
        "\t\tname_age = {}\n",
        "\t\tfor i in range(len(Name)):\n",
        "\t\t\tname_age[Name[i]] = Age[i]\n",
        "\t\treturn name_age\n",
        "\telse:\n",
        "\t\tprint('Длина списка имен не соответствует длине списка возрастов')\n",
        "Name = ['Kate', 'Lena', 'Dima']\n",
        "Age = [23, 56, 33]\n",
        "gen_dict(Name, Age)"
      ],
      "metadata": {
        "colab": {
          "base_uri": "https://localhost:8080/"
        },
        "id": "ygZB2FX206NK",
        "outputId": "52082d8d-be4c-45e2-da56-4bfb0bbac572"
      },
      "execution_count": null,
      "outputs": [
        {
          "output_type": "execute_result",
          "data": {
            "text/plain": [
              "{'Kate': 23, 'Lena': 56, 'Dima': 33}"
            ]
          },
          "metadata": {},
          "execution_count": 37
        }
      ]
    },
    {
      "cell_type": "code",
      "source": [
        "def gen_dict(Name, Age):\n",
        "  sample_dict = {}\n",
        "  for i, j in zip(Name, Age):\n",
        "    sample_dict[i] = j\n",
        "  return sample_dict\n",
        "Name = ['Kate', 'Lena', 'Dima']\n",
        "Age = [23, 56, 33]\n",
        "gen_dict(Name, Age)"
      ],
      "metadata": {
        "colab": {
          "base_uri": "https://localhost:8080/"
        },
        "id": "AcUweVYpB5CS",
        "outputId": "fa762350-8f5a-4a80-8853-c3d8936bf1e7"
      },
      "execution_count": null,
      "outputs": [
        {
          "output_type": "execute_result",
          "data": {
            "text/plain": [
              "{'Kate': 23, 'Lena': 56, 'Dima': 33}"
            ]
          },
          "metadata": {},
          "execution_count": 40
        }
      ]
    },
    {
      "cell_type": "code",
      "source": [
        "def gen_dict(Name, Age):\n",
        "\tName_Age = dict(zip(Name, Age))\n",
        "\treturn Name_Age\n",
        "Name = ['Kate', 'Lena', 'Dima']\n",
        "Age = [23, 56, 33]\n",
        "gen_dict(Name, Age)"
      ],
      "metadata": {
        "colab": {
          "base_uri": "https://localhost:8080/"
        },
        "id": "-ZK0SA2aDOlj",
        "outputId": "3fc6bd03-cbb7-4599-e170-008567d5013d"
      },
      "execution_count": null,
      "outputs": [
        {
          "output_type": "execute_result",
          "data": {
            "text/plain": [
              "{'Kate': 23, 'Lena': 56, 'Dima': 33}"
            ]
          },
          "metadata": {},
          "execution_count": 41
        }
      ]
    },
    {
      "cell_type": "code",
      "source": [
        "number = int(input())\n",
        "sum = number % 10 + number // 10 % 10 + number // 100 #считает сумму всех цифр, из кот.состоит трехзначное число\n",
        "print(int(sum))"
      ],
      "metadata": {
        "colab": {
          "base_uri": "https://localhost:8080/"
        },
        "id": "VMLAMtBu-2-0",
        "outputId": "68fee17c-8856-401f-bd5f-07219f9ccaf9"
      },
      "execution_count": null,
      "outputs": [
        {
          "output_type": "stream",
          "name": "stdout",
          "text": [
            "635\n",
            "14\n"
          ]
        }
      ]
    },
    {
      "cell_type": "code",
      "source": [
        "text = str(input()) #на вход пользователь введет любые строковые данные\n",
        "print(text.upper()) #на выход получит текст капсом"
      ],
      "metadata": {
        "colab": {
          "base_uri": "https://localhost:8080/"
        },
        "id": "j9c9kT2qnDES",
        "outputId": "794b7c2d-e511-4c07-bae1-8606bc03832a"
      },
      "execution_count": null,
      "outputs": [
        {
          "output_type": "stream",
          "name": "stdout",
          "text": [
            "cat\n",
            "CAT\n"
          ]
        }
      ]
    },
    {
      "cell_type": "code",
      "source": [
        "text = str(input()) #на вход строка с любыми кавычками '\", на выход все кавычки экранируются\n",
        "text1 = text.replace('\"','\\\\\"').replace(\"'\",\"\\\\'\")  #второй слэш экранирует первый\n",
        "print(text1)"
      ],
      "metadata": {
        "colab": {
          "base_uri": "https://localhost:8080/"
        },
        "id": "pusu0KQGtSdX",
        "outputId": "8f36d42d-7c3d-443b-c90a-61b1a60185be"
      },
      "execution_count": null,
      "outputs": [
        {
          "output_type": "stream",
          "name": "stdout",
          "text": [
            "I'm stadying \"Python\"\n",
            "I\\'m stadying \\\"Python\\\"\n"
          ]
        }
      ]
    },
    {
      "cell_type": "code",
      "source": [
        "print(input().replace(\"'\", \"\\\\'\").replace('\"', '\\\\\"'))"
      ],
      "metadata": {
        "colab": {
          "base_uri": "https://localhost:8080/"
        },
        "id": "i87epWVj0tzZ",
        "outputId": "9a57118e-7f2d-48fe-c4bf-5b37ad953aa3"
      },
      "execution_count": null,
      "outputs": [
        {
          "output_type": "stream",
          "name": "stdout",
          "text": [
            "I'm stadying \"Python\"\n",
            "I\\'m stadying \\\"Python\\\"\n"
          ]
        }
      ]
    },
    {
      "cell_type": "code",
      "source": [
        "text = str(input()) #на вход строку текста, и на печать - т.все кроме первых 4 символов\n",
        "print(text[4:])"
      ],
      "metadata": {
        "colab": {
          "base_uri": "https://localhost:8080/"
        },
        "id": "HyC7hLy9ebV3",
        "outputId": "6f35c932-ad63-4275-b0f1-897107c11dc4"
      },
      "execution_count": null,
      "outputs": [
        {
          "output_type": "stream",
          "name": "stdout",
          "text": [
            "подфплфжр\n",
            "плфжр\n"
          ]
        }
      ]
    },
    {
      "cell_type": "code",
      "source": [
        "a = input()   #на вход паспорт без пробела - на выход пробел после серии (можно через + и \"\")\n",
        "print(a[:4],a[4:])"
      ],
      "metadata": {
        "colab": {
          "base_uri": "https://localhost:8080/"
        },
        "id": "bRb3TAeEgr2M",
        "outputId": "afbfa10b-9dd2-4ae3-8630-fe117ff6af4b"
      },
      "execution_count": null,
      "outputs": [
        {
          "output_type": "stream",
          "name": "stdout",
          "text": [
            "4110679874\n",
            "4110 679874\n"
          ]
        }
      ]
    },
    {
      "cell_type": "code",
      "source": [
        "a = input()   #вывести на печать строку в обратном порядке\n",
        "print(a[-1::-1])"
      ],
      "metadata": {
        "colab": {
          "base_uri": "https://localhost:8080/"
        },
        "id": "HTFr7QWFjTGL",
        "outputId": "24277f6d-2c97-427c-f934-e7be60e3fdb7"
      },
      "execution_count": null,
      "outputs": [
        {
          "output_type": "stream",
          "name": "stdout",
          "text": [
            "abcdefghijklmnopqrstuvwxyz\n",
            "zyxwvutsrqponmlkjihgfedcba\n"
          ]
        }
      ]
    },
    {
      "cell_type": "code",
      "source": [
        "strk = input()\n",
        "print(strk[::-1])"
      ],
      "metadata": {
        "id": "5IKFMFRck0Cg"
      },
      "execution_count": null,
      "outputs": []
    },
    {
      "cell_type": "code",
      "source": [
        "print(input()[::-1])"
      ],
      "metadata": {
        "id": "e9Y-ydRmk9Na"
      },
      "execution_count": null,
      "outputs": []
    },
    {
      "cell_type": "code",
      "source": [
        "text = ''.join(reversed(input()))\n",
        "print(text)"
      ],
      "metadata": {
        "id": "1pQY8O6HluRg"
      },
      "execution_count": null,
      "outputs": []
    },
    {
      "cell_type": "code",
      "source": [
        "a = list(input())\n",
        "a.reverse()\n",
        "for i in a:\n",
        "    print(i, end = '')"
      ],
      "metadata": {
        "id": "on6mZkZHlyWM"
      },
      "execution_count": null,
      "outputs": []
    },
    {
      "cell_type": "code",
      "source": [
        "a = input()\n",
        "print(len(a))"
      ],
      "metadata": {
        "colab": {
          "base_uri": "https://localhost:8080/"
        },
        "id": "_n_plK4Xmx9R",
        "outputId": "96835479-498b-4074-96c1-a270e19b8b15"
      },
      "execution_count": null,
      "outputs": [
        {
          "output_type": "stream",
          "name": "stdout",
          "text": [
            "My hovercraft is full of eels\n",
            "29\n"
          ]
        }
      ]
    },
    {
      "cell_type": "code",
      "source": [
        "first, second = input().split()   #На вход подаются два числа. Напишите программу, которая их сравнивает.\n",
        "first = float(first)\n",
        "second = float(second)\n",
        "print(first > second)   #Если первое число больше второго, выведите True, иначе выведите False"
      ],
      "metadata": {
        "colab": {
          "base_uri": "https://localhost:8080/"
        },
        "id": "x6_PgsLEokr7",
        "outputId": "0611a5e2-93bd-4dda-b17f-d2a2db1dd7d4"
      },
      "execution_count": null,
      "outputs": [
        {
          "output_type": "stream",
          "name": "stdout",
          "text": [
            "10 10\n",
            "False\n"
          ]
        }
      ]
    },
    {
      "cell_type": "code",
      "source": [
        "a, b = map(int, input().split())    #На вход подаются два двузначных числа. \n",
        "print((a%10!=0 and b%10==0) or (a%10==0 and b%10!=0)) #Выведите True, если одно из них заканчивается на 0, а другое нет. В остальных случаях выведите False"
      ],
      "metadata": {
        "colab": {
          "base_uri": "https://localhost:8080/"
        },
        "id": "0OUTeZ7psre_",
        "outputId": "1a65c572-1d58-446d-8cfc-d3234b9891cb"
      },
      "execution_count": null,
      "outputs": [
        {
          "output_type": "stream",
          "name": "stdout",
          "text": [
            "10 15\n",
            "True\n"
          ]
        }
      ]
    },
    {
      "cell_type": "code",
      "source": [
        "a, b = map(int, input().split())\n",
        "a = a % 10\n",
        "b = b % 10\n",
        "print((a == 0 or b == 0) and b != a)"
      ],
      "metadata": {
        "id": "sJH6Ju0OwRKy"
      },
      "execution_count": null,
      "outputs": []
    },
    {
      "cell_type": "code",
      "source": [
        "x, y = map(int, input().split())  #На вход подаются две координаты вектора.\n",
        "a = (x**2 + y**2)**0.5  #Вычислите длину этого вектора, и выведите True, если она больше или равна 10 и False, если длина меньше 10.\n",
        "print(a >= 10)  #длина вектора = извлечь квадратный корень из суммы квадратов его координат. "
      ],
      "metadata": {
        "colab": {
          "base_uri": "https://localhost:8080/"
        },
        "id": "Va-E3W5WsMka",
        "outputId": "9f0a7655-2f53-44b1-f5b9-36722775f939"
      },
      "execution_count": null,
      "outputs": [
        {
          "output_type": "stream",
          "name": "stdout",
          "text": [
            "2 3\n",
            "False\n"
          ]
        }
      ]
    },
    {
      "cell_type": "code",
      "source": [
        "a = input()   #На вход программы подается строка.\n",
        "print(a == a[::-1]) #Выведите True, если строка является палиндромом (одинаково читается в обоих направлениях) и выведите False, если нет."
      ],
      "metadata": {
        "colab": {
          "base_uri": "https://localhost:8080/"
        },
        "id": "CG9PTtA4zay9",
        "outputId": "b13cf304-ded0-4e60-d24c-bd7c9be62ef7"
      },
      "execution_count": null,
      "outputs": [
        {
          "output_type": "stream",
          "name": "stdout",
          "text": [
            "abcde\n",
            "False\n"
          ]
        }
      ]
    },
    {
      "cell_type": "code",
      "source": [
        "a, b = map(int, input().split())  #На вход подаются два трехзначных числа.\n",
        "sum1 = int(a % 10 + a // 10 % 10 + a // 100)\n",
        "sum2 = int(b % 10 + b // 10 % 10 + b // 100) \n",
        "print(sum1 == sum2) #Верните True, если суммы цифр в них равны и False - если не равны."
      ],
      "metadata": {
        "colab": {
          "base_uri": "https://localhost:8080/"
        },
        "id": "qOiNCoz43Hld",
        "outputId": "06d93033-c98d-4fad-97f4-9c422e06f8f1"
      },
      "execution_count": null,
      "outputs": [
        {
          "output_type": "stream",
          "name": "stdout",
          "text": [
            "125 413\n",
            "True\n"
          ]
        }
      ]
    },
    {
      "cell_type": "code",
      "source": [
        "a, b = input().split()\n",
        "print(sum(map(int, a)) == sum(map(int, b)))"
      ],
      "metadata": {
        "id": "QrpY-JWN39-P"
      },
      "execution_count": null,
      "outputs": []
    },
    {
      "cell_type": "code",
      "source": [
        "a, b = input().split()\n",
        "a_1, a_2, a_3 = map(int, a)\n",
        "b_1, b_2, b_3 = map(int, b)\n",
        "print(a_1 + a_2 + a_3 == b_1 + b_2 + b_3)"
      ],
      "metadata": {
        "id": "EzKx8Crn4EIh"
      },
      "execution_count": null,
      "outputs": []
    },
    {
      "cell_type": "code",
      "source": [
        "a, b = map(str, input().split())\n",
        "if (int(a[0]) + int(a[1]) + int(a[2])) == int(b[0]) + int(b[1]) + int(b[2]):\n",
        "    print(True)\n",
        "else:\n",
        "    print(False)"
      ],
      "metadata": {
        "id": "655x_36z4t5A"
      },
      "execution_count": null,
      "outputs": []
    },
    {
      "cell_type": "code",
      "source": [
        "x = float(input())  #На вход подается число. Напишите программу, которая реализует логику работы функции sign()\n",
        "if x > 0:   #float чб работала и с дробными\n",
        "\tsign_x = 1\n",
        "elif x < 0:\n",
        "\tsign_x = -1\n",
        "else:\n",
        "\tsign_x = 0\n",
        "print(sign_x)"
      ],
      "metadata": {
        "colab": {
          "base_uri": "https://localhost:8080/"
        },
        "id": "Hl3R5w7s7qqQ",
        "outputId": "07f9884d-79ea-46cb-9e89-90b194bf86d0"
      },
      "execution_count": null,
      "outputs": [
        {
          "output_type": "stream",
          "name": "stdout",
          "text": [
            "-1.1\n",
            "-1\n"
          ]
        }
      ]
    },
    {
      "cell_type": "code",
      "source": [
        "x = float(input())  #Тернарный оператор\n",
        "print(1 if x > 0 else 0 if x == 0 else -1)"
      ],
      "metadata": {
        "id": "FLj5iv_E9V1K"
      },
      "execution_count": null,
      "outputs": []
    },
    {
      "cell_type": "code",
      "source": [
        "a = input()   #Без приведения типа\n",
        "if a[0]=='-':\n",
        "    print('-1')\n",
        "elif a=='0':\n",
        "    print('0')\n",
        "else:\n",
        "    print('1')"
      ],
      "metadata": {
        "id": "PCn6x1cl9xr1"
      },
      "execution_count": null,
      "outputs": []
    },
    {
      "cell_type": "code",
      "source": [
        "n = float(input()) #при выполнении арифметических операций  с boolean (логическим типом): true=1 false=0\n",
        "print((n > 0) - (n < 0))"
      ],
      "metadata": {
        "id": "vjUO7kAA-bOv"
      },
      "execution_count": null,
      "outputs": []
    },
    {
      "cell_type": "code",
      "source": [
        "def sign(n):  #функция знак числа \n",
        "    if n > 0:\n",
        "        return 1\n",
        "    elif n == 0:\n",
        "        return 0\n",
        "    return -1\n",
        "\n",
        "print(sign(float(input())))"
      ],
      "metadata": {
        "id": "5_g05-t5_Yrj"
      },
      "execution_count": null,
      "outputs": []
    },
    {
      "cell_type": "code",
      "source": [
        "[print(*[1 if x>0 else -1 if x<0 else 0]) for x in [float(input())]]"
      ],
      "metadata": {
        "id": "MKnUByOm_82p"
      },
      "execution_count": null,
      "outputs": []
    },
    {
      "cell_type": "code",
      "source": [
        "a, b, c = map(int, input().split()) #На вход программа получает три целых числа. Выведите наибольшее.\n",
        "print(max(a,b,c))"
      ],
      "metadata": {
        "colab": {
          "base_uri": "https://localhost:8080/"
        },
        "id": "l7ZP3LVfD0-H",
        "outputId": "d0863f2f-bfbf-4512-f0a3-f10e79dd48cf"
      },
      "execution_count": null,
      "outputs": [
        {
          "output_type": "stream",
          "name": "stdout",
          "text": [
            "11 3 7\n",
            "11\n"
          ]
        }
      ]
    },
    {
      "cell_type": "code",
      "source": [
        "print(max(map(int, input().split())))"
      ],
      "metadata": {
        "id": "HM92xfa6EuKR"
      },
      "execution_count": null,
      "outputs": []
    },
    {
      "cell_type": "code",
      "source": [
        "x = float(input())  #На вход программы подается число (не обязательно целое).\n",
        "if 1 <= x <= 5: #ыведите True, если это число находится в интервале от 1 до 5 (границы включены) и False, если нет.\n",
        "\tprint(True)\n",
        "else:\n",
        "\tprint(False)"
      ],
      "metadata": {
        "colab": {
          "base_uri": "https://localhost:8080/"
        },
        "id": "fxnpyDpcHH_W",
        "outputId": "0dc5d556-5928-4d37-a787-113a2dbe6246"
      },
      "execution_count": null,
      "outputs": [
        {
          "output_type": "stream",
          "name": "stdout",
          "text": [
            "5\n",
            "True\n"
          ]
        }
      ]
    },
    {
      "cell_type": "code",
      "source": [
        "print(1 <= float(input()) <= 5)"
      ],
      "metadata": {
        "id": "-OjMjtwRIpEE"
      },
      "execution_count": null,
      "outputs": []
    },
    {
      "cell_type": "code",
      "source": [
        "a = int(input())  #Дан список чисел от 0 до 99. На вход подается целое положительное число. \n",
        "numbers_a = []\n",
        "for i in range(0,100):\n",
        "\tif i % a == 0:\n",
        "\t\tnumbers_a.append(i)\n",
        "print(numbers_a)  #Верните список чисел, которые нацело делятся на это число."
      ],
      "metadata": {
        "colab": {
          "base_uri": "https://localhost:8080/"
        },
        "id": "NcQmHIQxis-x",
        "outputId": "1c18b3b8-8761-460a-c6e3-572e1784d4ee"
      },
      "execution_count": null,
      "outputs": [
        {
          "output_type": "stream",
          "name": "stdout",
          "text": [
            "5\n",
            "[0, 5, 10, 15, 20, 25, 30, 35, 40, 45, 50, 55, 60, 65, 70, 75, 80, 85, 90, 95]\n"
          ]
        }
      ]
    },
    {
      "cell_type": "code",
      "source": [
        "numbers = [0, 1, 2, 3, 4, 5, 6, 7, 8, 9, 10, 11, 12, 13, 14, 15, 16, 17, 18, 19, 20, 21, 22, 23, 24, 25, 26, 27, 28, 29, 30, 31, 32, 33, 34, 35, 36, 37, 38, 39, 40, 41, 42, 43, 44, 45, 46, 47, 48, 49, 50, 51, 52, 53, 54, 55, 56, 57, 58, 59, 60, 61, 62, 63, 64, 65, 66, 67, 68, 69, 70, 71, 72, 73, 74, 75, 76, 77, 78, 79, 80, 81, 82, 83, 84, 85, 86, 87, 88, 89, 90, 91, 92, 93, 94, 95, 96, 97, 98, 99]\n",
        "n = int(input())\n",
        "print(numbers[::n])"
      ],
      "metadata": {
        "colab": {
          "base_uri": "https://localhost:8080/"
        },
        "id": "fotbXxyLlTjy",
        "outputId": "4dcba9e2-1ef9-4b0d-8871-edf0254ca068"
      },
      "execution_count": null,
      "outputs": [
        {
          "output_type": "stream",
          "name": "stdout",
          "text": [
            "5\n",
            "[0, 5, 10, 15, 20, 25, 30, 35, 40, 45, 50, 55, 60, 65, 70, 75, 80, 85, 90, 95]\n"
          ]
        }
      ]
    },
    {
      "cell_type": "code",
      "source": [
        "numbers = [0, 1, 2, 3, 4, 5, 6, 7, 8, 9, 10]  #Дан список чисел от 0 до 10. На вход подается целое число\n",
        "print(int(input()) in numbers)  #Если это число есть в списке, верните True, иначе верните False."
      ],
      "metadata": {
        "colab": {
          "base_uri": "https://localhost:8080/"
        },
        "id": "PctbpEZPn2sV",
        "outputId": "eacd369b-f366-4b45-eadb-a8e7d68211f4"
      },
      "execution_count": null,
      "outputs": [
        {
          "output_type": "stream",
          "name": "stdout",
          "text": [
            "11\n",
            "False\n"
          ]
        }
      ]
    },
    {
      "cell_type": "code",
      "source": [
        "print(int(input()) in range(11))"
      ],
      "metadata": {
        "id": "FkiKbL4bocrN"
      },
      "execution_count": null,
      "outputs": []
    },
    {
      "cell_type": "code",
      "source": [
        "numbers = [1, 2, 3, 4, 5, 6, 7, 8, 9, 10]\n",
        "a = int(input())  #Удалите все элементы списка с элемента, равного этому числу. Если такого числа нет, печать всего списка\n",
        "if a not in numbers:\n",
        "\tprint(numbers)\n",
        "else: \n",
        "\tdel numbers[numbers.index(a):]\n",
        "\tprint(numbers)"
      ],
      "metadata": {
        "colab": {
          "base_uri": "https://localhost:8080/"
        },
        "id": "jVbmqsEIzUdW",
        "outputId": "3908e437-75fd-4adb-f413-64cd5614096f"
      },
      "execution_count": null,
      "outputs": [
        {
          "output_type": "stream",
          "name": "stdout",
          "text": [
            "5\n",
            "[1, 2, 3, 4]\n"
          ]
        }
      ]
    },
    {
      "cell_type": "code",
      "source": [
        "numbers = list(map(int, input().split())) #На вход подается список целых чисел. Поменяйте местами первый и последний элементы.\n",
        "if len(numbers) != 1:\n",
        "\tnumbers[-1],numbers[0] = numbers[0],numbers[-1] \n",
        "\tprint(numbers)\n",
        "else: print(numbers)  #вывод списка из 1 элемента, если ввели т 1 число"
      ],
      "metadata": {
        "colab": {
          "base_uri": "https://localhost:8080/"
        },
        "id": "6maz1h2pIS6_",
        "outputId": "af0808c3-16ee-4e29-a038-d9fb0589854f"
      },
      "execution_count": null,
      "outputs": [
        {
          "output_type": "stream",
          "name": "stdout",
          "text": [
            "6 11 8\n",
            "[8, 11, 6]\n"
          ]
        }
      ]
    },
    {
      "cell_type": "code",
      "source": [
        "N = int(input())  #На вход подается число N. Найдите его факториал, то есть произведение натуральных чисел от 1 до N\n",
        "a = 1\n",
        "for i in range(N):\n",
        "\ta *= (i+1)\n",
        "print(a)"
      ],
      "metadata": {
        "colab": {
          "base_uri": "https://localhost:8080/"
        },
        "id": "uIZSYIwyU7Bw",
        "outputId": "9c449109-ee9c-47aa-d293-d9ce4dcfc005"
      },
      "execution_count": null,
      "outputs": [
        {
          "output_type": "stream",
          "name": "stdout",
          "text": [
            "5\n",
            "120\n"
          ]
        }
      ]
    },
    {
      "cell_type": "code",
      "source": [
        "n, k = input().split()  #Посчитайте для этих чисел сумму ряда 1**k+2**k+...+n**k\n",
        "n = int(n)\n",
        "k = float(k)\n",
        "sum = 0.0\n",
        "for i in range(n):\n",
        "\tsum += (i+1)**k\n",
        "print(round(sum,3)) #округлите результат до трех цифр после запятой"
      ],
      "metadata": {
        "colab": {
          "base_uri": "https://localhost:8080/"
        },
        "id": "PwRKB2LVdQmV",
        "outputId": "0979b095-dd55-4f81-8223-d4705349dff9"
      },
      "execution_count": null,
      "outputs": [
        {
          "output_type": "stream",
          "name": "stdout",
          "text": [
            "1000 0.2\n",
            "3319.201\n"
          ]
        }
      ]
    },
    {
      "cell_type": "code",
      "source": [
        "number = int(input()) #Вводится целое положительное число n\n",
        "count = 0 #Выведите True, если число простое и False, если составное (то есть, имеет делители, отличные от 1 и самого себя).\n",
        "if number > 3:\n",
        "\tfor i in range(2,number):\n",
        "\t\tif number % i == 0:\n",
        "\t\t\tcount += 1\n",
        "\tprint(count == 0)\n",
        "else: print(True)"
      ],
      "metadata": {
        "colab": {
          "base_uri": "https://localhost:8080/"
        },
        "id": "0UywQv0AjD4p",
        "outputId": "37d3537b-5bad-4859-f211-f09b3a90d0e4"
      },
      "execution_count": null,
      "outputs": [
        {
          "output_type": "stream",
          "name": "stdout",
          "text": [
            "12\n",
            "False\n"
          ]
        }
      ]
    },
    {
      "cell_type": "code",
      "source": [
        "number = int(input())\n",
        "divider_count = 0\n",
        "for i in range(1, number):\n",
        "    if number % i == 0:\n",
        "        divider_count +=1\n",
        "print(divider_count == 1)"
      ],
      "metadata": {
        "id": "IV8tqiP-pA0_"
      },
      "execution_count": null,
      "outputs": []
    },
    {
      "cell_type": "code",
      "source": [
        "a = []  #Найдите и выведите в порядке возрастания все двузначные числа, которые равны утроенному произведению своих цифр\n",
        "for i in range(10,100):\n",
        "\tif i == 3*int(i//10)*(i%10):\n",
        "\t\ta.append(i)\n",
        "a.sort()  #необязательный шаг в данном случае, но если поменять порядок перебора в цикле, выведет список все равно по возрастанию\n",
        "print(a) #выведите результат в виде списка. Числа в списке должны быть расположены в порядке возрастания."
      ],
      "metadata": {
        "colab": {
          "base_uri": "https://localhost:8080/"
        },
        "id": "A6tuaY4HriqH",
        "outputId": "4013d1f8-4697-4ffb-84d3-530da4a23510"
      },
      "execution_count": null,
      "outputs": [
        {
          "output_type": "stream",
          "name": "stdout",
          "text": [
            "[15, 24]\n"
          ]
        }
      ]
    },
    {
      "cell_type": "code",
      "source": [
        "result = []\n",
        "for i in range(10, 100):\n",
        "    if i == (int(str(i)[0]) * int(str(i)[1]) * 3):\n",
        "        result.append(i)\n",
        "print(result)"
      ],
      "metadata": {
        "id": "foeMjzeGvllZ"
      },
      "execution_count": null,
      "outputs": []
    },
    {
      "cell_type": "code",
      "source": [
        "i = 0 #выведите на печать 5 раз\n",
        "while i < 5:\n",
        "\tprint(\"Hello, while loops!\")\n",
        "\ti += 1"
      ],
      "metadata": {
        "colab": {
          "base_uri": "https://localhost:8080/"
        },
        "id": "4DqsqDJJgaZD",
        "outputId": "d3d59952-8d76-4868-c68a-aa6b79d39b83"
      },
      "execution_count": null,
      "outputs": [
        {
          "output_type": "stream",
          "name": "stdout",
          "text": [
            "Hello, while loops!\n",
            "Hello, while loops!\n",
            "Hello, while loops!\n",
            "Hello, while loops!\n",
            "Hello, while loops!\n"
          ]
        }
      ]
    },
    {
      "cell_type": "code",
      "source": [
        "i = 5\n",
        "while i:\n",
        "    print('Hello, while loops!')\n",
        "    i -= 1"
      ],
      "metadata": {
        "id": "neO2WITngzMm"
      },
      "execution_count": null,
      "outputs": []
    },
    {
      "cell_type": "code",
      "source": [
        "numbers = [22, 9, 37, 44, 46, 69, 24, 100, 97, 57, 1, 6, 27, 96, 16, 82, 10, 95, 99, 78, 62, 50, 77, 86, 56, 40, 49, 32, 53, 76, 63, 67, 52, 0, 93, 84, 28, 8, 41, 79, 25, 21, 71, 43, 81, 72, 20, 90, 39, 75, 85, 14, 15, 60, 64, 5, 66, 4, 36, 98, 80, 12, 47, 91, 73, 45, 31, 65, 87, 74, 11, 34, 33, 18, 58, 23, 68, 94, 92, 17, 26, 88, 35, 13, 7, 42, 38, 19, 48, 29, 3, 59, 55, 51, 89, 2, 70, 83, 61, 54, 30]\n",
        "count = 0 #Определите, сколько в списке чисел, которые одновременно строго больше как соседнего слева числа, так и соседнего справа. \n",
        "for i in range(1,len(numbers)):\n",
        "\tif numbers[i-1] < numbers[i] > numbers[i+1]:\n",
        "\t\tcount += 1\n",
        "print(count)  #Ответ выведите как целое число"
      ],
      "metadata": {
        "colab": {
          "base_uri": "https://localhost:8080/"
        },
        "id": "WIN6IwS2kEOX",
        "outputId": "dc486593-72f2-403c-f56c-bcd8c992a90f"
      },
      "execution_count": null,
      "outputs": [
        {
          "output_type": "stream",
          "name": "stdout",
          "text": [
            "29\n"
          ]
        }
      ]
    },
    {
      "cell_type": "code",
      "source": [
        "#Бегун готовится к соревнованиям. Сейчас он может пробежать start километров, а на соревнованиях ему нужно будет пробежать goal километров. \n",
        "#До соревнования осталось days дней. \n",
        "#Во время подготовки к соревнованиям спортсмен может увеличивать дистанцию, которую он пробегает, не больше чем на 10% в день.\n",
        "#Успеет ли спортсмен подготовиться к соревнованиям? Выведите True, если успеет и False если не успеет. \n",
        "#В день соревнования тренироваться нельзя.\n",
        "start, goal, days = map(int, input().split())\n",
        "i = 1\n",
        "while i <= days:\n",
        "\tstart *= 1.1\n",
        "\ti += 1\n",
        "print(start >= goal)"
      ],
      "metadata": {
        "colab": {
          "base_uri": "https://localhost:8080/"
        },
        "id": "ZMrH3FjWqKZf",
        "outputId": "f517af2a-280c-4e63-8844-7bc23977c11c"
      },
      "execution_count": null,
      "outputs": [
        {
          "output_type": "stream",
          "name": "stdout",
          "text": [
            "3 7 3\n",
            "False\n"
          ]
        }
      ]
    },
    {
      "cell_type": "code",
      "source": [
        "start, goal, days = map(int, input().split())\n",
        "print(start * 1.1 ** days >= goal)"
      ],
      "metadata": {
        "id": "6nDqQBpBaa09"
      },
      "execution_count": null,
      "outputs": []
    },
    {
      "cell_type": "code",
      "source": [
        "start, goal, days = map(int, input().split())\n",
        "for i in range(days):\n",
        "    start = 1.1*start\n",
        "print(start>=goal)"
      ],
      "metadata": {
        "id": "xAqtWlWTa5qT"
      },
      "execution_count": null,
      "outputs": []
    },
    {
      "cell_type": "code",
      "source": [
        "start, goal, days = map(int, input().split())\n",
        "while days:\n",
        "    days -= 1\n",
        "    start *= 1.1\n",
        "print(start >= goal)"
      ],
      "metadata": {
        "id": "o0RELTqSbHW_"
      },
      "execution_count": null,
      "outputs": []
    },
    {
      "cell_type": "code",
      "source": [
        "(lambda start, goal, days: print(start * 1.1 ** days >= goal))(*map(int, input().split()))"
      ],
      "metadata": {
        "colab": {
          "base_uri": "https://localhost:8080/"
        },
        "id": "SPt0riulb4qw",
        "outputId": "a1451aa9-2887-4684-de46-47007b4a07b8"
      },
      "execution_count": null,
      "outputs": [
        {
          "output_type": "stream",
          "name": "stdout",
          "text": [
            "3 5 3\n",
            "False\n"
          ]
        }
      ]
    },
    {
      "cell_type": "code",
      "source": [
        "k = int(input())  #На вход программы подается число k.\n",
        "trinity = []  #Найдите все пифагоровы тройки, такие, что c<k и выведите их количество для заданного k.\n",
        "for a in range(1,k-2):  \n",
        "\tfor b in range(a,k-1):\n",
        "\t\tc = (a**2 + b**2)**0.5  #Пифагоровой тройкой называют такие целые числа a, b и c, которые удовлетворяют условию a**2+b**2=c**2\n",
        "\t\tif (b != c != a) and int(c) == c and c < k:\n",
        "\t\t\tc = int(c)\n",
        "\t\t\tprint(a,b,c)\n",
        "\t\t\ttrinity.append(c)\n",
        "print(trinity)\n",
        "print(len(trinity))"
      ],
      "metadata": {
        "colab": {
          "base_uri": "https://localhost:8080/"
        },
        "id": "60tRXBt6ld1i",
        "outputId": "fbb8f792-222c-47db-f10e-52303038d9a1"
      },
      "execution_count": null,
      "outputs": [
        {
          "output_type": "stream",
          "name": "stdout",
          "text": [
            "100\n",
            "3 4 5\n",
            "5 12 13\n",
            "6 8 10\n",
            "7 24 25\n",
            "8 15 17\n",
            "9 12 15\n",
            "9 40 41\n",
            "10 24 26\n",
            "11 60 61\n",
            "12 16 20\n",
            "12 35 37\n",
            "13 84 85\n",
            "14 48 50\n",
            "15 20 25\n",
            "15 36 39\n",
            "16 30 34\n",
            "16 63 65\n",
            "18 24 30\n",
            "18 80 82\n",
            "20 21 29\n",
            "20 48 52\n",
            "21 28 35\n",
            "21 72 75\n",
            "24 32 40\n",
            "24 45 51\n",
            "24 70 74\n",
            "25 60 65\n",
            "27 36 45\n",
            "28 45 53\n",
            "30 40 50\n",
            "30 72 78\n",
            "32 60 68\n",
            "33 44 55\n",
            "33 56 65\n",
            "35 84 91\n",
            "36 48 60\n",
            "36 77 85\n",
            "39 52 65\n",
            "39 80 89\n",
            "40 42 58\n",
            "40 75 85\n",
            "42 56 70\n",
            "45 60 75\n",
            "48 55 73\n",
            "48 64 80\n",
            "51 68 85\n",
            "54 72 90\n",
            "57 76 95\n",
            "60 63 87\n",
            "65 72 97\n",
            "[5, 13, 10, 25, 17, 15, 41, 26, 61, 20, 37, 85, 50, 25, 39, 34, 65, 30, 82, 29, 52, 35, 75, 40, 51, 74, 65, 45, 53, 50, 78, 68, 55, 65, 91, 60, 85, 65, 89, 58, 85, 70, 75, 73, 80, 85, 90, 95, 87, 97]\n",
            "50\n"
          ]
        }
      ]
    },
    {
      "cell_type": "code",
      "source": [
        "k = int(input())\n",
        "trinity = []\n",
        "for a in range(1,k-1):\n",
        "\tfor b in range(a,k):\n",
        "\t\tc = (a**2 + b**2)**0.5\n",
        "\t\tif (b != c != a) and int(c) == c and c < k:\n",
        "\t\t\tc = int(c)\n",
        "\t\t\ttrinity.append(c)\n",
        "print(len(trinity))"
      ],
      "metadata": {
        "colab": {
          "base_uri": "https://localhost:8080/"
        },
        "id": "7E_ydXdVuCDz",
        "outputId": "11967c7d-0f24-42a2-a9c1-0ace22598b9c"
      },
      "execution_count": null,
      "outputs": [
        {
          "output_type": "stream",
          "name": "stdout",
          "text": [
            "100\n",
            "50\n"
          ]
        }
      ]
    },
    {
      "cell_type": "code",
      "source": [
        "k = int(input())\n",
        "n = 0\n",
        "for c in range(1,k):\n",
        "    for b in range(1,c):\n",
        "        for a in range(1,b):\n",
        "            if c**2 == b**2 + a**2:\n",
        "                n += 1\n",
        "print(n)"
      ],
      "metadata": {
        "colab": {
          "base_uri": "https://localhost:8080/"
        },
        "id": "Izuh57CKxZFy",
        "outputId": "5284da6b-bf9e-4b86-a990-18d4b916755b"
      },
      "execution_count": null,
      "outputs": [
        {
          "output_type": "stream",
          "name": "stdout",
          "text": [
            "100\n",
            "50\n"
          ]
        }
      ]
    },
    {
      "cell_type": "code",
      "source": [
        "k = int(input()) #На вход программы k \n",
        "vocabulary = {}\n",
        "for i in range(0, k):   #На вход программы подаются k пар слов: слово на русском и его перевод на испанский.\n",
        "\tru, sp = input().split()\n",
        "\tvocabulary[ru] = sp\n",
        "print(vocabulary.get(input()))  #Последней строкой подается еще одно слово на русском. Выведите перевод последнего слова."
      ],
      "metadata": {
        "colab": {
          "base_uri": "https://localhost:8080/"
        },
        "id": "HuH7J4WEFKUp",
        "outputId": "80d31ebc-10f3-4fa4-803d-6ef3c189b2f1"
      },
      "execution_count": null,
      "outputs": [
        {
          "output_type": "stream",
          "name": "stdout",
          "text": [
            "3\n",
            "коза cabra\n",
            "кошка gato\n",
            "мышь ratón\n",
            "кошка\n",
            "gato\n"
          ]
        }
      ]
    },
    {
      "cell_type": "code",
      "source": [
        "n, k = map(int, input().split())  #На вход программы подаются два числа n и k.\n",
        "numbers = {}  #оздайте словарь, в котором ключами будут целые числа от n до k, а значениями их квадраты.\n",
        "for i in range(n,k+1):  #Гарантируется, что n неотрицательное и строго меньше k.\n",
        "\tnumbers[i] = i**2\n",
        "print(numbers)"
      ],
      "metadata": {
        "colab": {
          "base_uri": "https://localhost:8080/"
        },
        "id": "J2Ion4ubShS4",
        "outputId": "48769924-b604-40c9-9137-39243ebe1189"
      },
      "execution_count": null,
      "outputs": [
        {
          "output_type": "stream",
          "name": "stdout",
          "text": [
            "1 9\n",
            "{1: 1, 2: 4, 3: 9, 4: 16, 5: 25, 6: 36, 7: 49, 8: 64, 9: 81}\n"
          ]
        }
      ]
    },
    {
      "cell_type": "code",
      "source": [
        "begin, end=map(int, input().split())\n",
        "vocabulary={}\n",
        "for i in range(begin, end+1):\n",
        "    vocabulary.setdefault(i, i**2)\n",
        "print(vocabulary)"
      ],
      "metadata": {
        "id": "0JZWN6mxU4HA"
      },
      "execution_count": null,
      "outputs": []
    },
    {
      "cell_type": "code",
      "source": [
        "n, m = map(int, input().split())\n",
        "print({x: x ** 2 for x in range(n, m + 1)}) #Через генератор словаря"
      ],
      "metadata": {
        "id": "xdTNw4jaVRkg"
      },
      "execution_count": null,
      "outputs": []
    },
    {
      "cell_type": "code",
      "source": [
        "[print({i: i**2 for i in range(n, k + 1)}) for n, k in [[*map(int, input().split())]]]  #шикардос)))"
      ],
      "metadata": {
        "id": "KlMH-pAZV0gK"
      },
      "execution_count": null,
      "outputs": []
    },
    {
      "cell_type": "code",
      "source": [
        "words = input().lower() #На вход программы подается текст. Слова с заглавной и строчной \"равны\"\n",
        "words_list = list(words.split()) #Определите, какое слово в нем встречается чаще всего и напечатайте его в нижнем регистре\n",
        "# print(words_list)\n",
        "quantity_dict = {}  # инициируем пустой словарь\n",
        "for value in words_list:  # перебираем значения списка\n",
        "\tquantity_dict[value] = words_list.count(value)  # добавляем в словарь пару ключ(слово):значение(его кол-во повторений в списке) \n",
        "# print(quantity_dict)\n",
        "max_val_key = max(quantity_dict, key=quantity_dict.get) ##вывести ключ первого найденного макс.эл-та словаря\n",
        "print(max_val_key)  #Если таких слов несколько, напечатайте первое в лексикографическом порядке"
      ],
      "metadata": {
        "colab": {
          "base_uri": "https://localhost:8080/"
        },
        "id": "JwIjlRsQxpw7",
        "outputId": "b1f74b0e-8e35-455d-8b46-5fccf2c19478"
      },
      "execution_count": null,
      "outputs": [
        {
          "output_type": "stream",
          "name": "stdout",
          "text": [
            "Аня спала когда спала жара и от ветра от моря распахнуло окно и снесло цветок с подоконника\n",
            "спала\n"
          ]
        }
      ]
    },
    {
      "cell_type": "code",
      "source": [
        "words = list(input().lower().split())\n",
        "dictionary = {}\n",
        "for word in words:\n",
        "    dictionary[word] = words.count(word)\n",
        "max_fr = max(sorted(dictionary), key=dictionary.get)\n",
        "print(max_fr)"
      ],
      "metadata": {
        "id": "XmRL8nWBFdFp"
      },
      "execution_count": null,
      "outputs": []
    },
    {
      "cell_type": "code",
      "source": [
        "dictionary, lst = {}, [x for x in input().split()] #объявляем словарь и список всех слов\n",
        "uni_words = list(set(lst)) #создаём список уникальных слов\n",
        "for key in uni_words: dictionary[key] = lst.count(key) #заполняем словарь\n",
        "for key in sorted(dictionary): #sorted представляет словарь как список ключей, поэтому перебираем их\n",
        "    if dictionary[key] == max(dictionary.values()): #находим max среди значений словаря и сравниваем с его ключом\n",
        "        print(key.lower()); break"
      ],
      "metadata": {
        "id": "MwFlV-OpFeB5"
      },
      "execution_count": null,
      "outputs": []
    },
    {
      "cell_type": "code",
      "source": [
        "from collections import Counter\n",
        "print(Counter(input().lower().split()).most_common()[0][0])"
      ],
      "metadata": {
        "id": "0aqMT0qpFjsN"
      },
      "execution_count": null,
      "outputs": []
    },
    {
      "cell_type": "code",
      "source": [
        "vocabulary = {}\n",
        "for word in input().lower().split():\n",
        "\tvocabulary[word] = vocabulary.get(word, 0) + 1\n",
        "print(max(vocabulary, key = vocabulary.get))"
      ],
      "metadata": {
        "id": "OMGibk53FtRc"
      },
      "execution_count": null,
      "outputs": []
    },
    {
      "cell_type": "code",
      "source": [
        "#На вход программы подается несколько стран со списками их городов в формате:\n",
        "#Россия Москва Петербург Новгород Калуга\n",
        "#После вводится еще одна строка, содержащая название города.\n",
        "#Выведите название страны, в которой находится этот город.\n",
        "k = int(input())\n",
        "country_dict = {}\n",
        "for i in range(k):\n",
        "\tcountry_cities = input().split()\n",
        "\tcities_list = list(country_cities)\n",
        "\tcountry = cities_list.pop(0)  # убрали страну из списка в переменную\n",
        "\t#print(cities_list)\n",
        "\tcountry_dict[country] = cities_list # добавили в словарь пару страна:список_городов\n",
        "#print(country_dict)\n",
        "input_city = input()\n",
        "for k, v in country_dict.items(): #print[key for key, value in country_dict.items() if input() in value]\n",
        "\tif input_city in v: \n",
        "    \t\tprint(k)\n",
        "        break"
      ],
      "metadata": {
        "colab": {
          "base_uri": "https://localhost:8080/"
        },
        "id": "W4DxHE-vx9nR",
        "outputId": "bc314398-8163-4cbe-a284-ab7abd32d911"
      },
      "execution_count": null,
      "outputs": [
        {
          "output_type": "stream",
          "name": "stdout",
          "text": [
            "3\n",
            "Германия Берлин Гамбург Мюнхен Кёльн\n",
            "['Берлин', 'Гамбург', 'Мюнхен', 'Кёльн']\n",
            "Россия Москва Петербург Новгород Калуга\n",
            "['Москва', 'Петербург', 'Новгород', 'Калуга']\n",
            "Марокко Касабланка Рабат Фес\n",
            "['Касабланка', 'Рабат', 'Фес']\n",
            "{'Германия': ['Берлин', 'Гамбург', 'Мюнхен', 'Кёльн'], 'Россия': ['Москва', 'Петербург', 'Новгород', 'Калуга'], 'Марокко': ['Касабланка', 'Рабат', 'Фес']}\n"
          ]
        }
      ]
    },
    {
      "cell_type": "code",
      "source": [
        "k = int(input())\n",
        "country_dict = {}\n",
        "for i in range(k):\n",
        "\tcountry, *cities = input().split()  # тогда сразу ждет множественный ввод*\n",
        "\tcities_list = list(cities)\t\n",
        "\tcountry_dict[country] = cities_list\n",
        "input_city = input()  #for key in country_dict.keys(): if input_city in country_dict[key]: print(key)\n",
        "[print(key) for key, value in country_dict.items() if input_city in value]  # Россия. [None] - почему???"
      ],
      "metadata": {
        "colab": {
          "base_uri": "https://localhost:8080/",
          "height": 130
        },
        "id": "5NKL650H8yuz",
        "outputId": "30dc4f84-30e3-4f05-bec9-3e1220640184"
      },
      "execution_count": null,
      "outputs": [
        {
          "output_type": "error",
          "ename": "SyntaxError",
          "evalue": "ignored",
          "traceback": [
            "\u001b[0;36m  File \u001b[0;32m\"<ipython-input-12-85964855c6ed>\"\u001b[0;36m, line \u001b[0;32m8\u001b[0m\n\u001b[0;31m    [print(key) for key, value in country_dict.items() if input_city in value break]  # Россия. [None] - почему???\u001b[0m\n\u001b[0m                                                                              ^\u001b[0m\n\u001b[0;31mSyntaxError\u001b[0m\u001b[0;31m:\u001b[0m invalid syntax\n"
          ]
        }
      ]
    },
    {
      "cell_type": "code",
      "source": [
        "k = int(input())\n",
        "countrys = {}\n",
        "for i in range(0, k): \n",
        "    citys = input().split()\n",
        "    countrys[citys[0]] = citys[1:]\n",
        "search_city = input()\n",
        "for k, v in countrys.items():\n",
        "    if search_city in v: print(k) # почему v:"
      ],
      "metadata": {
        "id": "khrJ7hZlAJkk"
      },
      "execution_count": null,
      "outputs": []
    },
    {
      "cell_type": "code",
      "source": [
        "n = int(input())\n",
        "l = []\n",
        "for _ in range(n):\n",
        "    l.append(input().split())\n",
        "city =  input()\n",
        "for i in range(n):\n",
        "    if city in l[i]:\n",
        "        print(l[i][0])"
      ],
      "metadata": {
        "id": "Bibdxb4KF6hY"
      },
      "execution_count": null,
      "outputs": []
    },
    {
      "cell_type": "code",
      "source": [
        "d = {}\n",
        "for i in range(int(input())):\n",
        "    lst = input().split()\n",
        "    d[lst[0]] = lst[1:]\n",
        "s = input()    \n",
        "[print(i) for i in d if s in d[i]]"
      ],
      "metadata": {
        "id": "psI9vXKiGEFm"
      },
      "execution_count": null,
      "outputs": []
    },
    {
      "cell_type": "code",
      "source": [
        "n, l, sd = int(input()), [], {} \n",
        "for _ in range(0, n):\n",
        "    l = input().split()\n",
        "    dl = dict.fromkeys(l[1:], l[0]) # словарь где города(ключи):страна(значение)\n",
        "    sd.update(dl)\n",
        "print(sd[input()])  # печать значения словаря по ключу вводимого города"
      ],
      "metadata": {
        "colab": {
          "base_uri": "https://localhost:8080/"
        },
        "id": "7YQJhT_uIE7u",
        "outputId": "776b8d5c-0410-496e-84ad-5224d96e0c6d"
      },
      "execution_count": null,
      "outputs": [
        {
          "output_type": "stream",
          "name": "stdout",
          "text": [
            "3\n",
            "Германия Берлин Гамбург Мюнхен Кёльн\n",
            "Россия Москва Петербург Новгород Калуга\n",
            "Марокко Касабланка Рабат Фес\n",
            "Петербург\n",
            "Россия\n"
          ]
        }
      ]
    },
    {
      "cell_type": "code",
      "source": [
        "str_count = int(input())\n",
        "geo = {}\n",
        "for i in range(str_count): #будем читать str_count строк со входа\n",
        "    inp = input().split() #строка, разбитая на слова\n",
        "    for city in inp[1:]: #первое слово - страна, всегда будет значением. ключи - города\n",
        "        geo[city] = inp[0]\n",
        "city = input()\n",
        "print(geo.get(city))"
      ],
      "metadata": {
        "id": "4t1SohzCJgM6"
      },
      "execution_count": null,
      "outputs": []
    },
    {
      "cell_type": "code",
      "source": [
        "cities = {}\n",
        "for _ in range(int(input())):\n",
        "    country = input().split(' ', 1) # набор, где 1 - неразбитые города\n",
        "    cities.update(dict.fromkeys(country[1].split(), country[0]))  # разбивает города и делает их ключом, страну значением\n",
        "print(cities[input()])"
      ],
      "metadata": {
        "id": "bAX_NC7lJuwl"
      },
      "execution_count": null,
      "outputs": []
    },
    {
      "cell_type": "code",
      "source": [
        "# На вход программе подается база продаж канцелярского магазина в виде: число вводимых строк\n",
        "# Название товара\t/ Продано единиц / Цена\n",
        "# После этого вводится название товара. Выведите, сколько магазин заработал на продажах этого товара в виде целого числа.\n",
        "sales_data_dict = {}\n",
        "for _ in range(int(input())):\n",
        "\tname, number1, number2 = input().split()\t# ввод строковых значений\n",
        "\tmulty = int(number1) * int(number2) # приводим к числовому типу и перемножаем колич и цену\n",
        "\tsales_data_dict[name] = multy # назв.товара:произведение\n",
        "product_name = input()\n",
        "for key, value in sales_data_dict.items():  \n",
        "  if product_name in key:\n",
        "    print(value)"
      ],
      "metadata": {
        "colab": {
          "base_uri": "https://localhost:8080/"
        },
        "id": "wopdrTW4OqVd",
        "outputId": "b7101bca-b4c9-4841-d9ac-75a870b99635"
      },
      "execution_count": null,
      "outputs": [
        {
          "output_type": "stream",
          "name": "stdout",
          "text": [
            "3\n",
            "Бумага 12 400\n",
            "Ручка 44 20\n",
            "Конверт 22 6\n",
            "Ручка\n",
            "880\n"
          ]
        }
      ]
    },
    {
      "cell_type": "code",
      "source": [
        "print({item[0]: int(item[1]) * int(item[2]) for item in [input().split() for _ in range(int(input()))]}[input()])"
      ],
      "metadata": {
        "colab": {
          "base_uri": "https://localhost:8080/"
        },
        "id": "NW-rq5X5Ti9T",
        "outputId": "dc076f99-ffbc-4a16-8ac1-230d2c12ec27"
      },
      "execution_count": null,
      "outputs": [
        {
          "output_type": "stream",
          "name": "stdout",
          "text": [
            "3\n",
            "Бумага 12 400\n",
            "Ручка 44 20\n",
            "Конверт 22 6\n",
            "Ручка\n",
            "880\n"
          ]
        }
      ]
    },
    {
      "cell_type": "code",
      "source": [
        "d = {}\n",
        "for i in range(int(input())):\n",
        "    s= input().split()\n",
        "    d[s[0]] = int(s[1]) * int(s[2])          \n",
        "print(d[input()])"
      ],
      "metadata": {
        "colab": {
          "base_uri": "https://localhost:8080/"
        },
        "id": "dS1PtQo8aOXW",
        "outputId": "690baea5-52d6-4858-bf22-8ad130c0eecf"
      },
      "execution_count": null,
      "outputs": [
        {
          "output_type": "stream",
          "name": "stdout",
          "text": [
            "3\n",
            "Бумага 12 400\n",
            "Ручка 44 20\n",
            "Конверт 22 6\n",
            "Ручка\n",
            "880\n"
          ]
        }
      ]
    },
    {
      "cell_type": "code",
      "source": [
        "print(len({*map(int, input().split())}))  #Дан список чисел. Определите, сколько чисел в нем различны. "
      ],
      "metadata": {
        "colab": {
          "base_uri": "https://localhost:8080/"
        },
        "id": "bHqNYrhMfe_E",
        "outputId": "8cbe5280-1d52-4a99-9f9f-e44c60f1935b"
      },
      "execution_count": null,
      "outputs": [
        {
          "output_type": "stream",
          "name": "stdout",
          "text": [
            "8 11 1 8\n",
            "3\n"
          ]
        }
      ]
    },
    {
      "cell_type": "code",
      "source": [
        "print(len(set(input().split())))"
      ],
      "metadata": {
        "id": "8rA_7KzHikdr"
      },
      "execution_count": null,
      "outputs": []
    },
    {
      "cell_type": "code",
      "source": [
        "numbers = set(map(int, input().split()))  # Дан список чисел. \n",
        "sorted_numbers = sorted(numbers)  # Выведите все различные числа в нем на экран в порядке возрастания:\n",
        "print(*sorted_numbers)"
      ],
      "metadata": {
        "colab": {
          "base_uri": "https://localhost:8080/"
        },
        "id": "6125gIauUYyM",
        "outputId": "39636889-36e4-4988-f6a7-b9681a595146"
      },
      "execution_count": null,
      "outputs": [
        {
          "output_type": "stream",
          "name": "stdout",
          "text": [
            "8 11 1 15\n",
            "1 8 11 15\n"
          ]
        }
      ]
    },
    {
      "cell_type": "code",
      "source": [
        "print(*sorted(set(map(int, input().split()))))"
      ],
      "metadata": {
        "colab": {
          "base_uri": "https://localhost:8080/"
        },
        "id": "Z5XUzzNRW1Um",
        "outputId": "81e0c507-057d-48bb-a762-a63afc8979f3"
      },
      "execution_count": null,
      "outputs": [
        {
          "output_type": "stream",
          "name": "stdout",
          "text": [
            "8 11 1 15\n",
            "1 8 11 15\n"
          ]
        }
      ]
    },
    {
      "cell_type": "code",
      "source": [
        "# Даны два списка: в первом пользователи Инстаграма, а во втором пользователи Тик-Тока. \n",
        "#Посчитайте, сколько людей пользуются как Инстаграмом, так и Тик-Током. \n",
        "# Если людей, пользующихся двумя соцсетями одновременно, не оказалось, выведите 0.\n",
        "# Формат ввода: первой строкой вводятся имена пользователей Инстаграма, а второй - имена пользователей Тик-Тока.\n",
        "instagram = set(input().split())\n",
        "tiktok = set(input().split())\n",
        "insta_tiktok = instagram.intersection(tiktok)\n",
        "if len(insta_tiktok) > 0:\n",
        "\tprint(len(insta_tiktok))\n",
        "else: print(0)"
      ],
      "metadata": {
        "colab": {
          "base_uri": "https://localhost:8080/"
        },
        "id": "1O2dTYrGhq3i",
        "outputId": "9cb51abc-30ec-4592-d901-68679e9912da"
      },
      "execution_count": null,
      "outputs": [
        {
          "output_type": "stream",
          "name": "stdout",
          "text": [
            "Andrey Natalia Nikolay Vasisly\n",
            "Nikolay Natalia Egor Julia\n",
            "2\n"
          ]
        }
      ]
    },
    {
      "cell_type": "code",
      "source": [
        "instagram = set(input().split())\n",
        "tiktok = set(input().split())\n",
        "print(len(instagram & tiktok))"
      ],
      "metadata": {
        "colab": {
          "base_uri": "https://localhost:8080/"
        },
        "id": "07FYfb_Wj6hy",
        "outputId": "00fffc86-0815-4b8e-db3b-43913963ab7b"
      },
      "execution_count": null,
      "outputs": [
        {
          "output_type": "stream",
          "name": "stdout",
          "text": [
            "Andrey Natalia Nikolay Vasisly\n",
            "Sasha\n",
            "[False]\n"
          ]
        }
      ]
    },
    {
      "cell_type": "code",
      "source": [
        "numbers, result = map(int, input().split()), [] # Во входной строке записана последовательность чисел через пробел.\n",
        "used = set()  # Для каждого числа выведите слово yes, если это число уже встречалось в последовательности или no, если не встречалось.\n",
        "for number in numbers:\n",
        "\tif number in used:  # проверяем вхождение текущего числа в множество\n",
        "\t\tresult.append('yes')\n",
        "\telse: \n",
        "\t\tused.add(number)  # если не входит, добавляем его туда\n",
        "\t\tresult.append('no')\n",
        "print(*result)  # в одну строку через пробел"
      ],
      "metadata": {
        "colab": {
          "base_uri": "https://localhost:8080/"
        },
        "id": "BaSjVa78tROJ",
        "outputId": "bcb37890-14dc-40af-f493-df9d88e9496f"
      },
      "execution_count": null,
      "outputs": [
        {
          "output_type": "stream",
          "name": "stdout",
          "text": [
            "5 3 5 4\n",
            "no no yes no\n"
          ]
        }
      ]
    },
    {
      "cell_type": "code",
      "source": [
        "numbers = set()\n",
        "for i in input().split():\n",
        "    print((\"no\", \"yes\")[i in numbers], end=\" \")\n",
        "    numbers.add(i)"
      ],
      "metadata": {
        "id": "MLVlRHOWvnJc"
      },
      "execution_count": null,
      "outputs": []
    },
    {
      "cell_type": "code",
      "source": [
        "numbers = list(map(int, input().split()))\n",
        "for i in range(len(numbers)):\n",
        "    print('yes' if numbers[i] in numbers[:i] else 'no', end=' ')"
      ],
      "metadata": {
        "id": "mHuYr_66vuai"
      },
      "execution_count": null,
      "outputs": []
    },
    {
      "cell_type": "code",
      "source": [
        "print(*['yes' if el in lst[:i] else 'no' for lst in [input().split()] for i, el in enumerate(lst)])"
      ],
      "metadata": {
        "id": "zd14wBVSv71A"
      },
      "execution_count": null,
      "outputs": []
    },
    {
      "cell_type": "code",
      "source": [
        "numbers = map(int, input().split())  # Напишите функцию, которая вычисляет произведение чисел этого списка и возвращает ответ.      \n",
        "\n",
        "def product(numbers):\n",
        "    a = 1\n",
        "    for number in numbers:\n",
        "\t    a *= number\n",
        "    return a\n",
        "\n",
        "result = product(numbers)\n",
        "print(result)"
      ],
      "metadata": {
        "colab": {
          "base_uri": "https://localhost:8080/"
        },
        "id": "ca1LWMjF7cZq",
        "outputId": "8c8e9184-c7f2-4ea7-dcdd-4e3d5ccf502d"
      },
      "execution_count": null,
      "outputs": [
        {
          "output_type": "stream",
          "name": "stdout",
          "text": [
            "8 11 4 5\n",
            "1760\n"
          ]
        }
      ]
    },
    {
      "cell_type": "code",
      "source": [
        "# рекурсия numbers = list(map(int, input().split())) def product(numbers): if len(numbers) == 0: return 1 else: x = numbers.pop() return x*product(numbers) result = product(numbers) print(result)"
      ],
      "metadata": {
        "id": "Q8XRfH5m8iR0"
      },
      "execution_count": null,
      "outputs": []
    },
    {
      "cell_type": "code",
      "source": [
        "numbers = list(map(str, input().split()))        \n",
        "\n",
        "def product(numbers):\n",
        "    return eval('*'.join(numbers))\n",
        "\n",
        "result = product(numbers)\n",
        "print(result)"
      ],
      "metadata": {
        "id": "8AP1Ou7F8374"
      },
      "execution_count": null,
      "outputs": []
    },
    {
      "cell_type": "code",
      "source": [
        "numbers = map(int, input().split())        \n",
        "\n",
        "def product(numbers):\n",
        "    from functools import reduce\n",
        "    return reduce(lambda x, y: x * y, numbers)\n",
        "\n",
        "print(product(numbers))"
      ],
      "metadata": {
        "id": "IW4FyMpy9Fpn"
      },
      "execution_count": null,
      "outputs": []
    },
    {
      "cell_type": "code",
      "source": [
        "print(eval(input().replace(' ', '*')))  # СУПЕР !!!"
      ],
      "metadata": {
        "id": "HmFk3Cp49ND2"
      },
      "execution_count": null,
      "outputs": []
    },
    {
      "cell_type": "code",
      "source": [
        "def product(numbers): # то же как функция\n",
        "    return eval(numbers.replace(' ', '*'))\n",
        "print(product(input()))"
      ],
      "metadata": {
        "id": "Sw3ZnUQS9Z26"
      },
      "execution_count": null,
      "outputs": []
    },
    {
      "cell_type": "code",
      "source": [
        "number = int(input())     # Напишите функцию, которая возвращает произведение цифр, из которых это число состоит.   \n",
        "\n",
        "def product(number):\n",
        "\ta = 1\n",
        "\tres = [int(x) for x in str(number)]\t# to convert number to list of integers(через строку)\n",
        "\tfor re in res: \n",
        "\t\ta *= re\n",
        "\treturn a\n",
        "\n",
        "result = product(number)\n",
        "print(result)"
      ],
      "metadata": {
        "colab": {
          "base_uri": "https://localhost:8080/"
        },
        "id": "sM11JvHUBEI8",
        "outputId": "85d31733-f763-425c-c252-adde527203b9"
      },
      "execution_count": null,
      "outputs": [
        {
          "output_type": "stream",
          "name": "stdout",
          "text": [
            "3279\n",
            "378\n"
          ]
        }
      ]
    },
    {
      "cell_type": "code",
      "source": [
        "number = int(input()) \n",
        "\n",
        "def product(number):\n",
        "    c = 1\n",
        "    while number != 0:\n",
        "        c *= number % 10\n",
        "        number = number // 10\n",
        "    return c\n",
        "result = product(number)\n",
        "print(result)"
      ],
      "metadata": {
        "id": "Iu5zemk-Izvh"
      },
      "execution_count": null,
      "outputs": []
    },
    {
      "cell_type": "code",
      "source": [
        "number = int(input())        \n",
        "\n",
        "def product(number):\n",
        "    temp = str(number)\n",
        "    prod = 1\n",
        "    for i in temp:\n",
        "        prod *= int(i)\n",
        "    return prod\n",
        "\n",
        "result = product(number)\n",
        "print(result)"
      ],
      "metadata": {
        "id": "vX48_wahJoOt"
      },
      "execution_count": null,
      "outputs": []
    },
    {
      "cell_type": "code",
      "source": [
        "number = int(input())        \n",
        "\n",
        "def product(number):\n",
        "    return eval('*'.join(str(number)))  # join работает только с итерабельными объектами\n",
        "\n",
        "result = product(number)\n",
        "print(result)"
      ],
      "metadata": {
        "colab": {
          "base_uri": "https://localhost:8080/"
        },
        "id": "l6zyou7yJ4Nc",
        "outputId": "91df982b-d30c-4311-f9eb-b810c4e2d5ed"
      },
      "execution_count": null,
      "outputs": [
        {
          "output_type": "stream",
          "name": "stdout",
          "text": [
            "3279\n",
            "378\n"
          ]
        }
      ]
    },
    {
      "cell_type": "code",
      "source": [
        "number=int(input(\"Integer: \"))  #разложить число на множители, чтобы их произведение было равно этому числу.\n",
        "for i in range(1, number+1):\n",
        "    if(number%i==0):\n",
        "        print(i)"
      ],
      "metadata": {
        "id": "ejQXsrd8R9bM"
      },
      "execution_count": null,
      "outputs": []
    },
    {
      "cell_type": "code",
      "source": [
        "def print_number(a):  # 2520 - это самое маленькое число, которое можно разделить на каждое из чисел от 1 до 10 без остатка.\n",
        "\tfor number in range(2520, 400000, a): # Какое самое маленькое число, которое можно разделить без остатка на все числа от 1 до 14?\n",
        "\t\tcount = 0\n",
        "\t\tfor i in range(1,a+1):\n",
        "\t\t\tif number % i != 0:\n",
        "\t\t\t\tbreak\n",
        "\t\t\tcount += 1\n",
        "\t\tif count == a:\n",
        "\t\t\tbreak\n",
        "\treturn(print(number))\n",
        "a = 14\n",
        "print_number(a) # Напишите функцию, которая выводит это число."
      ],
      "metadata": {
        "colab": {
          "base_uri": "https://localhost:8080/"
        },
        "id": "Tb8f5Y-eoN-f",
        "outputId": "2c394ec5-47be-4ecf-d5d8-e89addda27f8"
      },
      "execution_count": null,
      "outputs": [
        {
          "output_type": "stream",
          "name": "stdout",
          "text": [
            "360360\n"
          ]
        }
      ]
    },
    {
      "cell_type": "code",
      "source": [
        "def print_number(n=14):\n",
        "    number = 1\n",
        "    for i in range(1, n + 1):\n",
        "        x = number\n",
        "        while number % i != 0:\n",
        "            number += x\n",
        "    print(number)\n",
        " \n",
        "print_number()"
      ],
      "metadata": {
        "id": "lO15FasdSNMT"
      },
      "execution_count": null,
      "outputs": []
    },
    {
      "cell_type": "code",
      "source": [
        "def print_number():\n",
        "    for i in range(14, 14**14, 14):\n",
        "        if all([i % j == 0 for j in range(3, 15)]):\n",
        "            return i\n",
        "\n",
        "print(print_number())"
      ],
      "metadata": {
        "id": "xcuHoC9ESX-e"
      },
      "execution_count": null,
      "outputs": []
    },
    {
      "cell_type": "code",
      "source": [
        "def gcd(a, b):\n",
        "    while b > 0:\n",
        "        a, b = b, a % b\n",
        "    return a\n",
        "\n",
        "def lcm(a, b):\n",
        "    return a * b // gcd(a, b)     # integer division\n",
        "\n",
        "d = 1\n",
        "for i in range(1, 15):\n",
        "    d = lcm(d, i)\n",
        "print(d)    "
      ],
      "metadata": {
        "id": "GuHmupyfTDjU"
      },
      "execution_count": null,
      "outputs": []
    },
    {
      "cell_type": "code",
      "source": [
        "def print_number():\n",
        "    number, end = 0, False\n",
        "    while not end:\n",
        "        number += 1\n",
        "        end = all([not number % i for i in range(1, 15)])\n",
        "    print(number)\n",
        "\n",
        "print_number()"
      ],
      "metadata": {
        "id": "iQhEC9DEUEtA"
      },
      "execution_count": null,
      "outputs": []
    },
    {
      "cell_type": "code",
      "source": [
        "def print_number():\n",
        "    for n in __import__('itertools').count(2520):\n",
        "        if all(not n % c for c in range(1, 15)):\n",
        "            print(n)\n",
        "            break\n",
        "\n",
        "print_number()"
      ],
      "metadata": {
        "id": "KfHJwc1OUWu-"
      },
      "execution_count": null,
      "outputs": []
    },
    {
      "cell_type": "code",
      "source": [
        "def print_number():\n",
        "    number = 14\n",
        "    while True:\n",
        "        if all([not number % i  for i in range(1, 15)]):\n",
        "            break\n",
        "        number += 1\n",
        "    print(number)\n",
        "\n",
        "print_number()"
      ],
      "metadata": {
        "id": "3TQyQ-RwUg5f"
      },
      "execution_count": null,
      "outputs": []
    },
    {
      "cell_type": "code",
      "source": [
        "def print_number(): # подумать!!!!\n",
        "    number = 1\n",
        "    for i in range(1, 15):\n",
        "        k = number\n",
        "        while number % i != 0:\n",
        "            number += k\n",
        "    print(number)\n",
        "    \n",
        "print_number()"
      ],
      "metadata": {
        "colab": {
          "base_uri": "https://localhost:8080/"
        },
        "id": "EDP5X5EFVNUt",
        "outputId": "9e3a39a4-b62d-4de1-8b6e-6c2c14ef15de"
      },
      "execution_count": null,
      "outputs": [
        {
          "output_type": "stream",
          "name": "stdout",
          "text": [
            "360360\n"
          ]
        }
      ]
    },
    {
      "cell_type": "code",
      "source": [
        "def print_number():\n",
        "    c = 0\n",
        "    while True:\n",
        "        c += 1\n",
        "        if all(map(lambda x: c % x == 0, [i for i in range(1, 15)])): break\n",
        "    print(c) \n",
        "    \n",
        "print_number()"
      ],
      "metadata": {
        "id": "zs3O4iBUWe1S"
      },
      "execution_count": null,
      "outputs": []
    },
    {
      "cell_type": "code",
      "source": [
        "first = list(map(int, input().split())) #Гарантируется, что длины 2 списков, поданных на вход, равны.\n",
        "second = list(map(int, input().split()))\n",
        "\n",
        "def mult_list(first, second): #Напишите функцию mult_list, которая возвращает список, состоящий из произведения элементов исходных.\n",
        "    mult_list = []\n",
        "    for i in range(len(first)):\n",
        "        element = first[i] * second[i]\n",
        "        mult_list.append(element)\n",
        "    return mult_list\n",
        "\n",
        "\n",
        "result = mult_list(first, second)\n",
        "print(*result)"
      ],
      "metadata": {
        "colab": {
          "base_uri": "https://localhost:8080/"
        },
        "id": "fQoI1RNdO2Wi",
        "outputId": "26d88c52-36c2-4f88-d72e-19a33a07cebd"
      },
      "execution_count": null,
      "outputs": [
        {
          "output_type": "stream",
          "name": "stdout",
          "text": [
            "1 4 5\n",
            "3 10 2\n",
            "3 40 10\n"
          ]
        }
      ]
    },
    {
      "cell_type": "code",
      "source": [
        "first = map(int, input().split())\n",
        "second = map(int, input().split())\n",
        "\n",
        "def mult_list(a, b):\n",
        "    return (i * y for i, y in zip(a, b))  # функция mult_list возвращает генератор списка вместо самого списка ;)\n",
        "    \n",
        "result = mult_list(first, second)\n",
        "print(*result)  # но он тоже распаковывается"
      ],
      "metadata": {
        "id": "j6wfvsTbaN4o"
      },
      "execution_count": null,
      "outputs": []
    },
    {
      "cell_type": "code",
      "source": [
        "sp1 = list(map(int, input().split()))\n",
        "sp2 = list(map(int, input().split()))\n",
        "\n",
        "def mult_list(sp1, sp2):\n",
        "    for i in range(0,len(sp1)):\n",
        "        print(sp1[i]*sp2[i], end=' ')\n",
        "    \n",
        "result = mult_list(sp1, sp2)"
      ],
      "metadata": {
        "id": "WMOVW7MeamkE"
      },
      "execution_count": null,
      "outputs": []
    },
    {
      "cell_type": "code",
      "source": [
        "first = map(int, input().split())\n",
        "second = map(int, input().split())\n",
        "\n",
        "mult_list = lambda l1, l2: [x * y for x, y in zip(l1, l2)]\n",
        "\n",
        "result = mult_list(first, second)\n",
        "print(*result)"
      ],
      "metadata": {
        "id": "9gwQD_1fasOL"
      },
      "execution_count": null,
      "outputs": []
    },
    {
      "cell_type": "code",
      "source": [
        "first = map(int, input().split())\n",
        "second = map(int, input().split())\n",
        "\n",
        "def mult_list(x, y):\n",
        "    return [i*j for i,j in zip(x,y)]   # тут возвращает список \n",
        "result = mult_list(first, second)\n",
        "print(*result)"
      ],
      "metadata": {
        "id": "8ztuDqNRa-sz"
      },
      "execution_count": null,
      "outputs": []
    },
    {
      "cell_type": "code",
      "source": [
        "# Анаграмма - это слово, образованное с помощью перестановки букв другого слова.\n",
        "# Напишите функцию is_anagram, которая принимает на вход две строки и возвращает True, если одна строка является анаграммой другой.\n",
        "first_word, second_word = input().split()\n",
        "\n",
        "def is_anagram(first_word, second_word):\n",
        "\tfirst_word = first_word.lower()\n",
        "\tsecond_word = second_word.lower()\n",
        "\tif  first_word != second_word and sorted(first_word) == sorted(second_word):\n",
        "\t\treturn True\n",
        "\treturn False\n",
        "\t\n",
        "result = is_anagram(first_word, second_word)\n",
        "print(result)"
      ],
      "metadata": {
        "colab": {
          "base_uri": "https://localhost:8080/"
        },
        "id": "wW4VUKtajNBj",
        "outputId": "c91e46cb-7388-45f1-f533-053bed4ca5ee"
      },
      "execution_count": null,
      "outputs": [
        {
          "output_type": "stream",
          "name": "stdout",
          "text": [
            "aabb aab\n",
            "False\n"
          ]
        }
      ]
    },
    {
      "cell_type": "code",
      "source": [
        "first_word, second_word = input().split()\n",
        "\n",
        "def is_anagram(first_word, second_word):\n",
        "\tfirst_word = first_word.lower()\n",
        "\tsecond_word = second_word.lower()\n",
        "\tif sorted(first_word) == sorted(second_word): # программа ждет что sos / sos будет анаграммой (перестановка 1 и 3 символов)\n",
        "\t\treturn True   # поэтому проверка на изначальное неравенство слов избыточна\n",
        "\treturn False\n",
        "\t\n",
        "result = is_anagram(first_word, second_word)\n",
        "print(result)"
      ],
      "metadata": {
        "id": "GUb2oNagsiI7"
      },
      "execution_count": null,
      "outputs": []
    },
    {
      "cell_type": "code",
      "source": [
        "first_word, second_word = input().split()\n",
        "\n",
        "def is_anagram(a, b):\n",
        "    return sorted(a) == sorted(b)\n",
        "\n",
        "result = is_anagram(first_word, second_word)\n",
        "print(result)"
      ],
      "metadata": {
        "id": "w1apaESw3vXw"
      },
      "execution_count": null,
      "outputs": []
    },
    {
      "cell_type": "code",
      "source": [
        "# Напишите функцию in_interval, которая принимает на вход три числа a, b, c и возвращает True, \n",
        "# если число c находится в промежутке от a до b (вкл)\n",
        "# В ином случае функция должна возвращать False\n",
        "a, b, c = map(int, input().split())\n",
        "\n",
        "def in_interval(a, b, c):\n",
        "\tif a <= c <= b:\n",
        "\t\treturn True\n",
        "\treturn False\n",
        "\n",
        "print(in_interval(a, b, c))"
      ],
      "metadata": {
        "colab": {
          "base_uri": "https://localhost:8080/"
        },
        "id": "ur4McG1x-PaO",
        "outputId": "2016dc8c-cd2d-4d08-dda8-85b4f84160cf"
      },
      "execution_count": null,
      "outputs": [
        {
          "output_type": "stream",
          "name": "stdout",
          "text": [
            "8 10 11\n",
            "False\n"
          ]
        }
      ]
    },
    {
      "cell_type": "code",
      "source": [
        "a, b, c = map(int, input().split())\n",
        "\n",
        "def in_interval(a, b, c):\n",
        "   return (a <= c <= b)\n",
        "    \n",
        "print(in_interval(a, b, c))"
      ],
      "metadata": {
        "id": "CnUc20PE_9na"
      },
      "execution_count": null,
      "outputs": []
    },
    {
      "cell_type": "code",
      "source": [
        "k = int(input())  # На вход программы подается список имён и возрастов участников соревнований\n",
        "people_list = []\n",
        "age_list = []\n",
        "for i in range (k): # Где k - число строк с данными участников, которые последуют дальше.\n",
        "\ta, b = input().split()\n",
        "\tpeople_list.append(a)\n",
        "\tage_list.append(int(b))\n",
        "\n",
        "def get_youngest(people_list, age_list):\n",
        "\ta = min(age_list)\n",
        "\tb = people_list[age_list.index(a)]\n",
        "\treturn b, a\n",
        "\n",
        "print(*get_youngest(people_list, age_list)) # Напишите функцию, которая вернет имя и возраст самого младшего участника (через пробел)"
      ],
      "metadata": {
        "colab": {
          "base_uri": "https://localhost:8080/"
        },
        "id": "gXUClwtQKUes",
        "outputId": "66e78013-5452-426a-b337-68afcf951e61"
      },
      "execution_count": null,
      "outputs": [
        {
          "output_type": "stream",
          "name": "stdout",
          "text": [
            "4\n",
            "Николай 20\n",
            "Наталья 17\n",
            "Дарья 22\n",
            "Сергей 19\n",
            "Наталья 17\n"
          ]
        }
      ]
    },
    {
      "cell_type": "code",
      "source": [
        "k = int(input())\n",
        "dic = {}\n",
        "for i in range(0, k): \n",
        "    x,y = input().split()\n",
        "    dic[x] = int(y)\n",
        "\n",
        "def get_youngest(dic):\n",
        "    a = sorted(dic, key=dic.get, reverse=False)\n",
        "    return a[0], dic.get(a[0])\n",
        "print(*get_youngest(dic))"
      ],
      "metadata": {
        "id": "8CLnn2FUN51t"
      },
      "execution_count": null,
      "outputs": []
    },
    {
      "cell_type": "code",
      "source": [
        "tpl = tuple(input().split()[::-1] for _ in range(int(input())))\n",
        "\n",
        "def get_youngest(tpl):\n",
        "    return sorted(tpl)[0]\n",
        "\n",
        "print(*get_youngest(tpl))"
      ],
      "metadata": {
        "id": "r4vCGK8ON7AM"
      },
      "execution_count": null,
      "outputs": []
    },
    {
      "cell_type": "code",
      "source": [
        "tpl = tuple(input().split() for _ in range(int(input())))\n",
        "\n",
        "def get_youngest(tpl):\n",
        "    return sorted(tpl, key=lambda x: int(x[1]))[0]\n",
        "\n",
        "print(*get_youngest(tpl))"
      ],
      "metadata": {
        "id": "lEPi74YYOEBL"
      },
      "execution_count": null,
      "outputs": []
    },
    {
      "cell_type": "code",
      "source": [
        "k = int(input())  # через 1 список\n",
        "c = []    \n",
        "for i in range(k):\n",
        "    a, b = input().split()\n",
        "    c.append(a)\n",
        "    c.append(int(b))\n",
        "print(c[c.index(min(c[1::2]))-1], min(c[1::2]))"
      ],
      "metadata": {
        "id": "bRBUX4scOG6V"
      },
      "execution_count": null,
      "outputs": []
    },
    {
      "cell_type": "code",
      "source": [
        "values = tuple(map(int, input().split())) # На вход программы подаются числа.\n",
        "\n",
        "def mean(values): # Напишите функцию mean, которая принимает все переданные числа\n",
        "\tsum = 0   # возвращает сначала их все, а потом их среднее\n",
        "\tfor i in values:\n",
        "\t\tsum += i\n",
        "\ta = sum / len(values)\n",
        "\treturn print(*values, a)\n",
        "\n",
        "mean(values)"
      ],
      "metadata": {
        "colab": {
          "base_uri": "https://localhost:8080/"
        },
        "id": "7wT9zLB_Dzm0",
        "outputId": "46996fce-5464-4e9b-bf63-0e3c89e81c79"
      },
      "execution_count": null,
      "outputs": [
        {
          "output_type": "stream",
          "name": "stdout",
          "text": [
            "9 13 2\n",
            "9 13 2 8.0\n"
          ]
        }
      ]
    },
    {
      "cell_type": "code",
      "source": [
        "values = tuple(map(int, input().split()))\n",
        "\n",
        "def mean(values):\n",
        "    return (*values, sum(values) / len(values)) # можно проще и в 1 строку!\n",
        "\n",
        "print(*mean(values))"
      ],
      "metadata": {
        "id": "_CvtwG2qkOr3"
      },
      "execution_count": null,
      "outputs": []
    },
    {
      "cell_type": "code",
      "source": [
        "values = tuple(map(int, input().split()))\n",
        "def mean(values):\n",
        "    from statistics import mean\n",
        "    print(*values, float(mean(values)))\n",
        "mean(values)"
      ],
      "metadata": {
        "id": "cmPBCvjmxT-N"
      },
      "execution_count": null,
      "outputs": []
    },
    {
      "cell_type": "code",
      "source": [
        "class User: # Создайте пользователя Maria (уже сделано в шаблоне). \n",
        "    id = None\n",
        "    name = None\n",
        "    order = {}\n",
        "\n",
        "    def __init__(self, identifier, first_name):\n",
        "        self.id = identifier\n",
        "        self.name = first_name\n",
        "\n",
        "    def total_sum(self):\n",
        "        purchase = 0\n",
        "        for item, price in self.order.items():\n",
        "            purchase += price\n",
        "        return purchase\n",
        "\n",
        "    def add_purchase(self, item, price):\n",
        "        self.order.update({item: price})        \n",
        "\n",
        "maria = User(10, \"Maria\") # создали пользователя\n",
        "maria.add_purchase(\"apple\", 20) # И добавьте этому пользователю еще одну покупку: \"apple\" стоимостью 20 единиц. \n",
        "\n",
        "print(maria.total_sum())"
      ],
      "metadata": {
        "colab": {
          "base_uri": "https://localhost:8080/"
        },
        "id": "nSs9zongRzy1",
        "outputId": "4e5e9517-b782-4d8f-b618-7cdab8a10b81"
      },
      "execution_count": null,
      "outputs": [
        {
          "output_type": "stream",
          "name": "stdout",
          "text": [
            "20\n"
          ]
        }
      ]
    },
    {
      "cell_type": "code",
      "source": [
        "class User:\n",
        "    id = None\n",
        "    name = None\n",
        "    order = {}\n",
        "\n",
        "    def __init__(self, identifier, first_name):\n",
        "        self.id = identifier\n",
        "        self.name = first_name\n",
        "\n",
        "    def total_sum(self):\n",
        "        purchase = 0\n",
        "        for item, price in self.order.items():\n",
        "            purchase += price\n",
        "        return purchase\n",
        "\n",
        "    def add_purchase(self, item, price):\n",
        "        self.order.update({item: price})   \n",
        "\n",
        "    def get_orders(self):\n",
        "        return list(self.order.keys())  # в функции возвращать return ', '.join(self.order.keys())\n",
        "\n",
        "maria = User(10, \"Maria\")\n",
        "\n",
        "maria.add_purchase(\"apple\", 20)\n",
        "maria.add_purchase(\"sandwich\", 120)\n",
        "maria.add_purchase(\"coffee\", 100)\n",
        "\n",
        "print(*maria.get_orders(), sep=', ')  # либо print(\", \".join(maria.get_orders()))"
      ],
      "metadata": {
        "colab": {
          "base_uri": "https://localhost:8080/"
        },
        "id": "gcH4Yl8AXRtX",
        "outputId": "c584bb90-b7ef-4c4f-83ce-b8c60f3d5e43"
      },
      "execution_count": null,
      "outputs": [
        {
          "output_type": "stream",
          "name": "stdout",
          "text": [
            "apple, sandwich, coffee\n"
          ]
        }
      ]
    },
    {
      "cell_type": "code",
      "source": [
        "class Triangle:\n",
        "    a = None\n",
        "    b = None\n",
        "    c = None\n",
        "    def __init__(self, a, b ,c):\n",
        "        self.a = angles[0]\n",
        "        self.b = angles[1]\n",
        "        self.c = angles[2]\n",
        "\n",
        "    def check(self, a, b ,c):\n",
        "        if (a+b+c) == 180 and a>0 and b>0 and c>0:\n",
        "            return print('Triangle initialized')\n",
        "        return print('Initialization failed')\n",
        "\n",
        "angles = list(map(int, input().split()))\n",
        "triangle = Triangle(angles[0], angles[1], angles[2])\n",
        "triangle.check(angles[0], angles[1], angles[2])"
      ],
      "metadata": {
        "colab": {
          "base_uri": "https://localhost:8080/"
        },
        "id": "FUIBTYi-6SG_",
        "outputId": "9a81e73d-12e7-416d-806f-5fc22a4cd4f8"
      },
      "execution_count": null,
      "outputs": [
        {
          "output_type": "stream",
          "name": "stdout",
          "text": [
            "120 90 -30\n",
            "Initialization failed\n"
          ]
        }
      ]
    },
    {
      "cell_type": "code",
      "source": [
        "class Triangle:\n",
        "    def __init__(self, *args):\n",
        "        for i, value in enumerate(args, 1):\n",
        "            setattr(Triangle, f'angle_{i}', value)\n",
        "        status_ = ('Initialization failed', 'Triangle initialized')\n",
        "        print(status_[sum(args) == 180 and all([x > 0 for x in args])])\n",
        "\n",
        "\n",
        "triangle = Triangle(*map(int, input().split()))\n",
        "\n",
        "# проверка атрибутов\n",
        "# print(triangle.angle_1, triangle.angle_2, triangle.angle_3)\n",
        "# Результат проверки условия sum(args) == 180 and all([x > 0 for x in args]) будет True или False. \n",
        "# status_ - кортеж из двух элементов, из которого по индексу 1 или 0 достается нужное значение."
      ],
      "metadata": {
        "colab": {
          "base_uri": "https://localhost:8080/"
        },
        "id": "0Fi0oSa_arB5",
        "outputId": "9549d209-ea09-4d95-b6e4-43c73f27367d"
      },
      "execution_count": null,
      "outputs": [
        {
          "output_type": "stream",
          "name": "stdout",
          "text": [
            "90 30 60\n",
            "Triangle initialized\n"
          ]
        }
      ]
    },
    {
      "cell_type": "code",
      "source": [
        "class Triangle:\n",
        "    angle_1 = None\n",
        "    angle_2 = None\n",
        "    angle_3 = None\n",
        "    \n",
        "    def __init__(self, a1, a2, a3):\n",
        "        if a1 > 0 and a2 > 0 and a3 > 0 and a1 + a2 + a3 == 180:\n",
        "            print('Triangle initialized')\n",
        "        else:\n",
        "            print('Initialization failed')\n",
        "\n",
        "angles = list(map(int, input().split()))\n",
        "triangle = Triangle(angles[0], angles[1], angles[2])"
      ],
      "metadata": {
        "id": "qQdEXGPPau_h"
      },
      "execution_count": null,
      "outputs": []
    },
    {
      "cell_type": "code",
      "source": [
        "class Triangle:\n",
        "    def __init__(self, angles):\n",
        "        self.angles = angles\n",
        "        \n",
        "    def is_triangle(self):\n",
        "        if all(map(lambda x: x > 0, self.angles)) and sum(self.angles) == 180:\n",
        "            return 'Triangle initialized'\n",
        "        else:\n",
        "            return 'Initialization failed'\n",
        "\n",
        "angles = list(map(int, input().split()))\n",
        "triangle = Triangle(angles)\n",
        "print(triangle.is_triangle())"
      ],
      "metadata": {
        "id": "kEeZaQ6YbdIR"
      },
      "execution_count": null,
      "outputs": []
    },
    {
      "cell_type": "code",
      "source": [
        "class Triangle:\n",
        "    def __init__(self, a1, a2, a3):\n",
        "        if a1 > 0 and a2 > 0 and a3 > 0 and a1 + a2 + a3 == 180:\n",
        "            print('Triangle initialized')\n",
        "            self.a1, self.a2, self.a3 = a1, a2, a3\n",
        "        else:\n",
        "            print('Initialization failed')  # если треугольник не сущ, то поля и не присвоили\n",
        "        \n",
        "angles = list(map(int, input().split()))\n",
        "triangle = Triangle(angles[0], angles[1], angles[2])"
      ],
      "metadata": {
        "id": "K6xthH8cbzSj"
      },
      "execution_count": null,
      "outputs": []
    },
    {
      "cell_type": "code",
      "source": [
        "name = input()\n",
        "print('Привет,', name, end = '!')"
      ],
      "metadata": {
        "colab": {
          "base_uri": "https://localhost:8080/"
        },
        "id": "SQUtSPIXPmYO",
        "outputId": "c602e81e-70ef-4ad6-9d41-9fdb93b257bc"
      },
      "execution_count": null,
      "outputs": [
        {
          "output_type": "stream",
          "name": "stdout",
          "text": [
            "Nbhbjy\n",
            "Привет, Nbhbjy!"
          ]
        }
      ]
    },
    {
      "cell_type": "code",
      "source": [
        "x = int(input())   # пересчёт величины временного интервала, заданного в минутах, в величину, выраженную в часах и минутах\n",
        "print(x, 'мин - это', x // 60, 'час', x % 60, 'минут.')"
      ],
      "metadata": {
        "colab": {
          "base_uri": "https://localhost:8080/"
        },
        "id": "FwUwhbwAN0W0",
        "outputId": "6711df9f-e57f-431b-a23a-14f956383773"
      },
      "execution_count": null,
      "outputs": [
        {
          "output_type": "stream",
          "name": "stdout",
          "text": [
            "150\n",
            "150 мин - это 2 час 30 минут.\n"
          ]
        }
      ]
    },
    {
      "cell_type": "code",
      "source": [
        "# Дано трехзначное число abc, в котором все цифры различны. \n",
        "# Напишите программу, которая выводит шесть чисел, образованных при перестановке цифр заданного числа\n",
        "# Программа должна вывести шесть чисел, образованных при перестановке цифр заданного числа в следующем порядке: abc,acb,bac,bca,cab,cba\n",
        "x = int(input())\n",
        "a, b, c = str(x // 100), str((x % 100) // 10), str(x % 10)\n",
        "print(int(a+b+c), int(a+c+b), int(b+a+c), int(b+c+a), int(c+a+b), int(c+b+a), sep='\\n')"
      ],
      "metadata": {
        "colab": {
          "base_uri": "https://localhost:8080/"
        },
        "id": "PiP2msd_V2w3",
        "outputId": "22ff8bfd-9833-4aa8-ad58-b882e58e8709"
      },
      "execution_count": null,
      "outputs": [
        {
          "output_type": "stream",
          "name": "stdout",
          "text": [
            "754\n",
            "754\n",
            "745\n",
            "574\n",
            "547\n",
            "475\n",
            "457\n"
          ]
        }
      ]
    },
    {
      "cell_type": "code",
      "source": [
        "x = int(input())  # Напишите программу для нахождения цифр четырёхзначного числа\n",
        "nums = []\n",
        "for i in range (4):\n",
        "\tnums.append(x % 10**(i+1) // 10**i)\n",
        "print('Цифра в позиции тысяч равна', nums[3])\n",
        "print('Цифра в позиции сотен равна', nums[2])\n",
        "print('Цифра в позиции десятков равна', nums[1])\n",
        "print('Цифра в позиции единиц равна', nums[0])"
      ],
      "metadata": {
        "colab": {
          "base_uri": "https://localhost:8080/"
        },
        "id": "F0L4ogysZ56S",
        "outputId": "5a991d97-1138-4c91-b6da-d4df2835ab50"
      },
      "execution_count": null,
      "outputs": [
        {
          "output_type": "stream",
          "name": "stdout",
          "text": [
            "3281\n",
            "Цифра в позиции тысяч равна 3\n",
            "Цифра в позиции сотен равна 2\n",
            "Цифра в позиции десятков равна 8\n",
            "Цифра в позиции единиц равна 1\n"
          ]
        }
      ]
    },
    {
      "cell_type": "code",
      "source": [
        "import pandas as pd\n",
        "all_cars = pd.read_csv('/content/drive/MyDrive/ИТМО/auto-mpg-quiz.csv',   # указали путь к файлу csv\n",
        "                 delimiter=',',   # разделитель строк\n",
        "                 decimal='.',   # десятичный знак\n",
        "                 index_col = 'name')  # колонкой индексов стали name"
      ],
      "metadata": {
        "id": "1LRxWIOZymyt"
      },
      "execution_count": null,
      "outputs": []
    },
    {
      "cell_type": "code",
      "source": [
        "all_cars.head()"
      ],
      "metadata": {
        "colab": {
          "base_uri": "https://localhost:8080/",
          "height": 237
        },
        "id": "trWihH5L1EWX",
        "outputId": "9e43d0ab-aaa0-440e-aa5b-e6a3a3dc5420"
      },
      "execution_count": null,
      "outputs": [
        {
          "output_type": "execute_result",
          "data": {
            "text/plain": [
              "                            mpg  cyl  displ   hp  weight  accel  yr  origin\n",
              "name                                                                       \n",
              "chevrolet chevelle malibu  18.0    8  307.0  130    3504   12.0  70       1\n",
              "buick skylark 320          15.0    8  350.0  165    3693   11.5  70       1\n",
              "plymouth satellite         18.0    8  318.0  150    3436   11.0  70       1\n",
              "amc rebel sst              16.0    8  304.0  150    3433   12.0  70       1\n",
              "ford torino                17.0    8  302.0  140    3449   10.5  70       1"
            ],
            "text/html": [
              "\n",
              "  <div id=\"df-5ce3ee47-28bf-4829-8c8f-a7cddc92820d\">\n",
              "    <div class=\"colab-df-container\">\n",
              "      <div>\n",
              "<style scoped>\n",
              "    .dataframe tbody tr th:only-of-type {\n",
              "        vertical-align: middle;\n",
              "    }\n",
              "\n",
              "    .dataframe tbody tr th {\n",
              "        vertical-align: top;\n",
              "    }\n",
              "\n",
              "    .dataframe thead th {\n",
              "        text-align: right;\n",
              "    }\n",
              "</style>\n",
              "<table border=\"1\" class=\"dataframe\">\n",
              "  <thead>\n",
              "    <tr style=\"text-align: right;\">\n",
              "      <th></th>\n",
              "      <th>mpg</th>\n",
              "      <th>cyl</th>\n",
              "      <th>displ</th>\n",
              "      <th>hp</th>\n",
              "      <th>weight</th>\n",
              "      <th>accel</th>\n",
              "      <th>yr</th>\n",
              "      <th>origin</th>\n",
              "    </tr>\n",
              "    <tr>\n",
              "      <th>name</th>\n",
              "      <th></th>\n",
              "      <th></th>\n",
              "      <th></th>\n",
              "      <th></th>\n",
              "      <th></th>\n",
              "      <th></th>\n",
              "      <th></th>\n",
              "      <th></th>\n",
              "    </tr>\n",
              "  </thead>\n",
              "  <tbody>\n",
              "    <tr>\n",
              "      <th>chevrolet chevelle malibu</th>\n",
              "      <td>18.0</td>\n",
              "      <td>8</td>\n",
              "      <td>307.0</td>\n",
              "      <td>130</td>\n",
              "      <td>3504</td>\n",
              "      <td>12.0</td>\n",
              "      <td>70</td>\n",
              "      <td>1</td>\n",
              "    </tr>\n",
              "    <tr>\n",
              "      <th>buick skylark 320</th>\n",
              "      <td>15.0</td>\n",
              "      <td>8</td>\n",
              "      <td>350.0</td>\n",
              "      <td>165</td>\n",
              "      <td>3693</td>\n",
              "      <td>11.5</td>\n",
              "      <td>70</td>\n",
              "      <td>1</td>\n",
              "    </tr>\n",
              "    <tr>\n",
              "      <th>plymouth satellite</th>\n",
              "      <td>18.0</td>\n",
              "      <td>8</td>\n",
              "      <td>318.0</td>\n",
              "      <td>150</td>\n",
              "      <td>3436</td>\n",
              "      <td>11.0</td>\n",
              "      <td>70</td>\n",
              "      <td>1</td>\n",
              "    </tr>\n",
              "    <tr>\n",
              "      <th>amc rebel sst</th>\n",
              "      <td>16.0</td>\n",
              "      <td>8</td>\n",
              "      <td>304.0</td>\n",
              "      <td>150</td>\n",
              "      <td>3433</td>\n",
              "      <td>12.0</td>\n",
              "      <td>70</td>\n",
              "      <td>1</td>\n",
              "    </tr>\n",
              "    <tr>\n",
              "      <th>ford torino</th>\n",
              "      <td>17.0</td>\n",
              "      <td>8</td>\n",
              "      <td>302.0</td>\n",
              "      <td>140</td>\n",
              "      <td>3449</td>\n",
              "      <td>10.5</td>\n",
              "      <td>70</td>\n",
              "      <td>1</td>\n",
              "    </tr>\n",
              "  </tbody>\n",
              "</table>\n",
              "</div>\n",
              "      <button class=\"colab-df-convert\" onclick=\"convertToInteractive('df-5ce3ee47-28bf-4829-8c8f-a7cddc92820d')\"\n",
              "              title=\"Convert this dataframe to an interactive table.\"\n",
              "              style=\"display:none;\">\n",
              "        \n",
              "  <svg xmlns=\"http://www.w3.org/2000/svg\" height=\"24px\"viewBox=\"0 0 24 24\"\n",
              "       width=\"24px\">\n",
              "    <path d=\"M0 0h24v24H0V0z\" fill=\"none\"/>\n",
              "    <path d=\"M18.56 5.44l.94 2.06.94-2.06 2.06-.94-2.06-.94-.94-2.06-.94 2.06-2.06.94zm-11 1L8.5 8.5l.94-2.06 2.06-.94-2.06-.94L8.5 2.5l-.94 2.06-2.06.94zm10 10l.94 2.06.94-2.06 2.06-.94-2.06-.94-.94-2.06-.94 2.06-2.06.94z\"/><path d=\"M17.41 7.96l-1.37-1.37c-.4-.4-.92-.59-1.43-.59-.52 0-1.04.2-1.43.59L10.3 9.45l-7.72 7.72c-.78.78-.78 2.05 0 2.83L4 21.41c.39.39.9.59 1.41.59.51 0 1.02-.2 1.41-.59l7.78-7.78 2.81-2.81c.8-.78.8-2.07 0-2.86zM5.41 20L4 18.59l7.72-7.72 1.47 1.35L5.41 20z\"/>\n",
              "  </svg>\n",
              "      </button>\n",
              "      \n",
              "  <style>\n",
              "    .colab-df-container {\n",
              "      display:flex;\n",
              "      flex-wrap:wrap;\n",
              "      gap: 12px;\n",
              "    }\n",
              "\n",
              "    .colab-df-convert {\n",
              "      background-color: #E8F0FE;\n",
              "      border: none;\n",
              "      border-radius: 50%;\n",
              "      cursor: pointer;\n",
              "      display: none;\n",
              "      fill: #1967D2;\n",
              "      height: 32px;\n",
              "      padding: 0 0 0 0;\n",
              "      width: 32px;\n",
              "    }\n",
              "\n",
              "    .colab-df-convert:hover {\n",
              "      background-color: #E2EBFA;\n",
              "      box-shadow: 0px 1px 2px rgba(60, 64, 67, 0.3), 0px 1px 3px 1px rgba(60, 64, 67, 0.15);\n",
              "      fill: #174EA6;\n",
              "    }\n",
              "\n",
              "    [theme=dark] .colab-df-convert {\n",
              "      background-color: #3B4455;\n",
              "      fill: #D2E3FC;\n",
              "    }\n",
              "\n",
              "    [theme=dark] .colab-df-convert:hover {\n",
              "      background-color: #434B5C;\n",
              "      box-shadow: 0px 1px 3px 1px rgba(0, 0, 0, 0.15);\n",
              "      filter: drop-shadow(0px 1px 2px rgba(0, 0, 0, 0.3));\n",
              "      fill: #FFFFFF;\n",
              "    }\n",
              "  </style>\n",
              "\n",
              "      <script>\n",
              "        const buttonEl =\n",
              "          document.querySelector('#df-5ce3ee47-28bf-4829-8c8f-a7cddc92820d button.colab-df-convert');\n",
              "        buttonEl.style.display =\n",
              "          google.colab.kernel.accessAllowed ? 'block' : 'none';\n",
              "\n",
              "        async function convertToInteractive(key) {\n",
              "          const element = document.querySelector('#df-5ce3ee47-28bf-4829-8c8f-a7cddc92820d');\n",
              "          const dataTable =\n",
              "            await google.colab.kernel.invokeFunction('convertToInteractive',\n",
              "                                                     [key], {});\n",
              "          if (!dataTable) return;\n",
              "\n",
              "          const docLinkHtml = 'Like what you see? Visit the ' +\n",
              "            '<a target=\"_blank\" href=https://colab.research.google.com/notebooks/data_table.ipynb>data table notebook</a>'\n",
              "            + ' to learn more about interactive tables.';\n",
              "          element.innerHTML = '';\n",
              "          dataTable['output_type'] = 'display_data';\n",
              "          await google.colab.output.renderOutput(dataTable, element);\n",
              "          const docLink = document.createElement('div');\n",
              "          docLink.innerHTML = docLinkHtml;\n",
              "          element.appendChild(docLink);\n",
              "        }\n",
              "      </script>\n",
              "    </div>\n",
              "  </div>\n",
              "  "
            ]
          },
          "metadata": {},
          "execution_count": 10
        }
      ]
    },
    {
      "cell_type": "code",
      "source": [
        "all_cars = all_cars.drop(['origin', 'mpg', 'displ', 'yr', 'origin'], axis = 1)  # drop удаляет лишние колонки\n",
        "all_cars.head() # Должны остаться колонки 'hp', 'cyl', 'weight', 'accel' и индекс 'name'"
      ],
      "metadata": {
        "colab": {
          "base_uri": "https://localhost:8080/",
          "height": 237
        },
        "id": "AKl-X59D2DUd",
        "outputId": "472b968c-a455-4c35-83b2-1f9cc54dde0b"
      },
      "execution_count": null,
      "outputs": [
        {
          "output_type": "execute_result",
          "data": {
            "text/plain": [
              "                           cyl   hp  weight  accel\n",
              "name                                              \n",
              "chevrolet chevelle malibu    8  130    3504   12.0\n",
              "buick skylark 320            8  165    3693   11.5\n",
              "plymouth satellite           8  150    3436   11.0\n",
              "amc rebel sst                8  150    3433   12.0\n",
              "ford torino                  8  140    3449   10.5"
            ],
            "text/html": [
              "\n",
              "  <div id=\"df-7df9c4d1-4ab1-4850-9513-1a3ad4feae06\">\n",
              "    <div class=\"colab-df-container\">\n",
              "      <div>\n",
              "<style scoped>\n",
              "    .dataframe tbody tr th:only-of-type {\n",
              "        vertical-align: middle;\n",
              "    }\n",
              "\n",
              "    .dataframe tbody tr th {\n",
              "        vertical-align: top;\n",
              "    }\n",
              "\n",
              "    .dataframe thead th {\n",
              "        text-align: right;\n",
              "    }\n",
              "</style>\n",
              "<table border=\"1\" class=\"dataframe\">\n",
              "  <thead>\n",
              "    <tr style=\"text-align: right;\">\n",
              "      <th></th>\n",
              "      <th>cyl</th>\n",
              "      <th>hp</th>\n",
              "      <th>weight</th>\n",
              "      <th>accel</th>\n",
              "    </tr>\n",
              "    <tr>\n",
              "      <th>name</th>\n",
              "      <th></th>\n",
              "      <th></th>\n",
              "      <th></th>\n",
              "      <th></th>\n",
              "    </tr>\n",
              "  </thead>\n",
              "  <tbody>\n",
              "    <tr>\n",
              "      <th>chevrolet chevelle malibu</th>\n",
              "      <td>8</td>\n",
              "      <td>130</td>\n",
              "      <td>3504</td>\n",
              "      <td>12.0</td>\n",
              "    </tr>\n",
              "    <tr>\n",
              "      <th>buick skylark 320</th>\n",
              "      <td>8</td>\n",
              "      <td>165</td>\n",
              "      <td>3693</td>\n",
              "      <td>11.5</td>\n",
              "    </tr>\n",
              "    <tr>\n",
              "      <th>plymouth satellite</th>\n",
              "      <td>8</td>\n",
              "      <td>150</td>\n",
              "      <td>3436</td>\n",
              "      <td>11.0</td>\n",
              "    </tr>\n",
              "    <tr>\n",
              "      <th>amc rebel sst</th>\n",
              "      <td>8</td>\n",
              "      <td>150</td>\n",
              "      <td>3433</td>\n",
              "      <td>12.0</td>\n",
              "    </tr>\n",
              "    <tr>\n",
              "      <th>ford torino</th>\n",
              "      <td>8</td>\n",
              "      <td>140</td>\n",
              "      <td>3449</td>\n",
              "      <td>10.5</td>\n",
              "    </tr>\n",
              "  </tbody>\n",
              "</table>\n",
              "</div>\n",
              "      <button class=\"colab-df-convert\" onclick=\"convertToInteractive('df-7df9c4d1-4ab1-4850-9513-1a3ad4feae06')\"\n",
              "              title=\"Convert this dataframe to an interactive table.\"\n",
              "              style=\"display:none;\">\n",
              "        \n",
              "  <svg xmlns=\"http://www.w3.org/2000/svg\" height=\"24px\"viewBox=\"0 0 24 24\"\n",
              "       width=\"24px\">\n",
              "    <path d=\"M0 0h24v24H0V0z\" fill=\"none\"/>\n",
              "    <path d=\"M18.56 5.44l.94 2.06.94-2.06 2.06-.94-2.06-.94-.94-2.06-.94 2.06-2.06.94zm-11 1L8.5 8.5l.94-2.06 2.06-.94-2.06-.94L8.5 2.5l-.94 2.06-2.06.94zm10 10l.94 2.06.94-2.06 2.06-.94-2.06-.94-.94-2.06-.94 2.06-2.06.94z\"/><path d=\"M17.41 7.96l-1.37-1.37c-.4-.4-.92-.59-1.43-.59-.52 0-1.04.2-1.43.59L10.3 9.45l-7.72 7.72c-.78.78-.78 2.05 0 2.83L4 21.41c.39.39.9.59 1.41.59.51 0 1.02-.2 1.41-.59l7.78-7.78 2.81-2.81c.8-.78.8-2.07 0-2.86zM5.41 20L4 18.59l7.72-7.72 1.47 1.35L5.41 20z\"/>\n",
              "  </svg>\n",
              "      </button>\n",
              "      \n",
              "  <style>\n",
              "    .colab-df-container {\n",
              "      display:flex;\n",
              "      flex-wrap:wrap;\n",
              "      gap: 12px;\n",
              "    }\n",
              "\n",
              "    .colab-df-convert {\n",
              "      background-color: #E8F0FE;\n",
              "      border: none;\n",
              "      border-radius: 50%;\n",
              "      cursor: pointer;\n",
              "      display: none;\n",
              "      fill: #1967D2;\n",
              "      height: 32px;\n",
              "      padding: 0 0 0 0;\n",
              "      width: 32px;\n",
              "    }\n",
              "\n",
              "    .colab-df-convert:hover {\n",
              "      background-color: #E2EBFA;\n",
              "      box-shadow: 0px 1px 2px rgba(60, 64, 67, 0.3), 0px 1px 3px 1px rgba(60, 64, 67, 0.15);\n",
              "      fill: #174EA6;\n",
              "    }\n",
              "\n",
              "    [theme=dark] .colab-df-convert {\n",
              "      background-color: #3B4455;\n",
              "      fill: #D2E3FC;\n",
              "    }\n",
              "\n",
              "    [theme=dark] .colab-df-convert:hover {\n",
              "      background-color: #434B5C;\n",
              "      box-shadow: 0px 1px 3px 1px rgba(0, 0, 0, 0.15);\n",
              "      filter: drop-shadow(0px 1px 2px rgba(0, 0, 0, 0.3));\n",
              "      fill: #FFFFFF;\n",
              "    }\n",
              "  </style>\n",
              "\n",
              "      <script>\n",
              "        const buttonEl =\n",
              "          document.querySelector('#df-7df9c4d1-4ab1-4850-9513-1a3ad4feae06 button.colab-df-convert');\n",
              "        buttonEl.style.display =\n",
              "          google.colab.kernel.accessAllowed ? 'block' : 'none';\n",
              "\n",
              "        async function convertToInteractive(key) {\n",
              "          const element = document.querySelector('#df-7df9c4d1-4ab1-4850-9513-1a3ad4feae06');\n",
              "          const dataTable =\n",
              "            await google.colab.kernel.invokeFunction('convertToInteractive',\n",
              "                                                     [key], {});\n",
              "          if (!dataTable) return;\n",
              "\n",
              "          const docLinkHtml = 'Like what you see? Visit the ' +\n",
              "            '<a target=\"_blank\" href=https://colab.research.google.com/notebooks/data_table.ipynb>data table notebook</a>'\n",
              "            + ' to learn more about interactive tables.';\n",
              "          element.innerHTML = '';\n",
              "          dataTable['output_type'] = 'display_data';\n",
              "          await google.colab.output.renderOutput(dataTable, element);\n",
              "          const docLink = document.createElement('div');\n",
              "          docLink.innerHTML = docLinkHtml;\n",
              "          element.appendChild(docLink);\n",
              "        }\n",
              "      </script>\n",
              "    </div>\n",
              "  </div>\n",
              "  "
            ]
          },
          "metadata": {},
          "execution_count": 12
        }
      ]
    },
    {
      "cell_type": "code",
      "source": [
        "all_cars.columns  # число столбцов"
      ],
      "metadata": {
        "colab": {
          "base_uri": "https://localhost:8080/"
        },
        "id": "Lxp9edli2wRJ",
        "outputId": "ed504439-fcb6-4527-ca23-da21fe21d7f5"
      },
      "execution_count": null,
      "outputs": [
        {
          "output_type": "execute_result",
          "data": {
            "text/plain": [
              "Index(['cyl', 'hp', 'weight', 'accel'], dtype='object')"
            ]
          },
          "metadata": {},
          "execution_count": 15
        }
      ]
    },
    {
      "cell_type": "code",
      "source": [
        "all_cars.index  # число строк"
      ],
      "metadata": {
        "colab": {
          "base_uri": "https://localhost:8080/"
        },
        "id": "SP23wwtg4daO",
        "outputId": "ea9af1d8-27c4-4246-cd63-80327c48342e"
      },
      "execution_count": null,
      "outputs": [
        {
          "output_type": "execute_result",
          "data": {
            "text/plain": [
              "Index(['chevrolet chevelle malibu', 'buick skylark 320', 'plymouth satellite',\n",
              "       'amc rebel sst', 'ford torino', 'ford galaxie 500', 'chevrolet impala',\n",
              "       'plymouth fury iii', 'pontiac catalina', 'amc ambassador dpl',\n",
              "       ...\n",
              "       'chrysler lebaron medallion', 'ford granada l', 'toyota celica gt',\n",
              "       'dodge charger 2.2', 'chevrolet camaro', 'ford mustang gl', 'vw pickup',\n",
              "       'dodge rampage', 'ford ranger', 'chevy s-10'],\n",
              "      dtype='object', name='name', length=392)"
            ]
          },
          "metadata": {},
          "execution_count": 16
        }
      ]
    },
    {
      "cell_type": "code",
      "source": [
        "# Получите выборку из исходного набора данных на основании следующего критерия:\n",
        "all_cars[all_cars.cyl == 4] # Все строки, где cyl=4 (автомобили с четырехцилиндровым двигателем)"
      ],
      "metadata": {
        "colab": {
          "base_uri": "https://localhost:8080/",
          "height": 455
        },
        "id": "b7c_rC9R-S6u",
        "outputId": "ca6cc78f-55cc-45b7-8f45-479827bf5dd3"
      },
      "execution_count": null,
      "outputs": [
        {
          "output_type": "execute_result",
          "data": {
            "text/plain": [
              "                              cyl  hp  weight  accel\n",
              "name                                                \n",
              "toyota corona mark ii           4  95    2372   15.0\n",
              "datsun pl510                    4  88    2130   14.5\n",
              "volkswagen 1131 deluxe sedan    4  46    1835   20.5\n",
              "peugeot 504                     4  87    2672   17.5\n",
              "audi 100 ls                     4  90    2430   14.5\n",
              "...                           ...  ..     ...    ...\n",
              "ford mustang gl                 4  86    2790   15.6\n",
              "vw pickup                       4  52    2130   24.6\n",
              "dodge rampage                   4  84    2295   11.6\n",
              "ford ranger                     4  79    2625   18.6\n",
              "chevy s-10                      4  82    2720   19.4\n",
              "\n",
              "[199 rows x 4 columns]"
            ],
            "text/html": [
              "\n",
              "  <div id=\"df-43be9db4-b2b5-4b8d-a5f4-1b4c6f673980\">\n",
              "    <div class=\"colab-df-container\">\n",
              "      <div>\n",
              "<style scoped>\n",
              "    .dataframe tbody tr th:only-of-type {\n",
              "        vertical-align: middle;\n",
              "    }\n",
              "\n",
              "    .dataframe tbody tr th {\n",
              "        vertical-align: top;\n",
              "    }\n",
              "\n",
              "    .dataframe thead th {\n",
              "        text-align: right;\n",
              "    }\n",
              "</style>\n",
              "<table border=\"1\" class=\"dataframe\">\n",
              "  <thead>\n",
              "    <tr style=\"text-align: right;\">\n",
              "      <th></th>\n",
              "      <th>cyl</th>\n",
              "      <th>hp</th>\n",
              "      <th>weight</th>\n",
              "      <th>accel</th>\n",
              "    </tr>\n",
              "    <tr>\n",
              "      <th>name</th>\n",
              "      <th></th>\n",
              "      <th></th>\n",
              "      <th></th>\n",
              "      <th></th>\n",
              "    </tr>\n",
              "  </thead>\n",
              "  <tbody>\n",
              "    <tr>\n",
              "      <th>toyota corona mark ii</th>\n",
              "      <td>4</td>\n",
              "      <td>95</td>\n",
              "      <td>2372</td>\n",
              "      <td>15.0</td>\n",
              "    </tr>\n",
              "    <tr>\n",
              "      <th>datsun pl510</th>\n",
              "      <td>4</td>\n",
              "      <td>88</td>\n",
              "      <td>2130</td>\n",
              "      <td>14.5</td>\n",
              "    </tr>\n",
              "    <tr>\n",
              "      <th>volkswagen 1131 deluxe sedan</th>\n",
              "      <td>4</td>\n",
              "      <td>46</td>\n",
              "      <td>1835</td>\n",
              "      <td>20.5</td>\n",
              "    </tr>\n",
              "    <tr>\n",
              "      <th>peugeot 504</th>\n",
              "      <td>4</td>\n",
              "      <td>87</td>\n",
              "      <td>2672</td>\n",
              "      <td>17.5</td>\n",
              "    </tr>\n",
              "    <tr>\n",
              "      <th>audi 100 ls</th>\n",
              "      <td>4</td>\n",
              "      <td>90</td>\n",
              "      <td>2430</td>\n",
              "      <td>14.5</td>\n",
              "    </tr>\n",
              "    <tr>\n",
              "      <th>...</th>\n",
              "      <td>...</td>\n",
              "      <td>...</td>\n",
              "      <td>...</td>\n",
              "      <td>...</td>\n",
              "    </tr>\n",
              "    <tr>\n",
              "      <th>ford mustang gl</th>\n",
              "      <td>4</td>\n",
              "      <td>86</td>\n",
              "      <td>2790</td>\n",
              "      <td>15.6</td>\n",
              "    </tr>\n",
              "    <tr>\n",
              "      <th>vw pickup</th>\n",
              "      <td>4</td>\n",
              "      <td>52</td>\n",
              "      <td>2130</td>\n",
              "      <td>24.6</td>\n",
              "    </tr>\n",
              "    <tr>\n",
              "      <th>dodge rampage</th>\n",
              "      <td>4</td>\n",
              "      <td>84</td>\n",
              "      <td>2295</td>\n",
              "      <td>11.6</td>\n",
              "    </tr>\n",
              "    <tr>\n",
              "      <th>ford ranger</th>\n",
              "      <td>4</td>\n",
              "      <td>79</td>\n",
              "      <td>2625</td>\n",
              "      <td>18.6</td>\n",
              "    </tr>\n",
              "    <tr>\n",
              "      <th>chevy s-10</th>\n",
              "      <td>4</td>\n",
              "      <td>82</td>\n",
              "      <td>2720</td>\n",
              "      <td>19.4</td>\n",
              "    </tr>\n",
              "  </tbody>\n",
              "</table>\n",
              "<p>199 rows × 4 columns</p>\n",
              "</div>\n",
              "      <button class=\"colab-df-convert\" onclick=\"convertToInteractive('df-43be9db4-b2b5-4b8d-a5f4-1b4c6f673980')\"\n",
              "              title=\"Convert this dataframe to an interactive table.\"\n",
              "              style=\"display:none;\">\n",
              "        \n",
              "  <svg xmlns=\"http://www.w3.org/2000/svg\" height=\"24px\"viewBox=\"0 0 24 24\"\n",
              "       width=\"24px\">\n",
              "    <path d=\"M0 0h24v24H0V0z\" fill=\"none\"/>\n",
              "    <path d=\"M18.56 5.44l.94 2.06.94-2.06 2.06-.94-2.06-.94-.94-2.06-.94 2.06-2.06.94zm-11 1L8.5 8.5l.94-2.06 2.06-.94-2.06-.94L8.5 2.5l-.94 2.06-2.06.94zm10 10l.94 2.06.94-2.06 2.06-.94-2.06-.94-.94-2.06-.94 2.06-2.06.94z\"/><path d=\"M17.41 7.96l-1.37-1.37c-.4-.4-.92-.59-1.43-.59-.52 0-1.04.2-1.43.59L10.3 9.45l-7.72 7.72c-.78.78-.78 2.05 0 2.83L4 21.41c.39.39.9.59 1.41.59.51 0 1.02-.2 1.41-.59l7.78-7.78 2.81-2.81c.8-.78.8-2.07 0-2.86zM5.41 20L4 18.59l7.72-7.72 1.47 1.35L5.41 20z\"/>\n",
              "  </svg>\n",
              "      </button>\n",
              "      \n",
              "  <style>\n",
              "    .colab-df-container {\n",
              "      display:flex;\n",
              "      flex-wrap:wrap;\n",
              "      gap: 12px;\n",
              "    }\n",
              "\n",
              "    .colab-df-convert {\n",
              "      background-color: #E8F0FE;\n",
              "      border: none;\n",
              "      border-radius: 50%;\n",
              "      cursor: pointer;\n",
              "      display: none;\n",
              "      fill: #1967D2;\n",
              "      height: 32px;\n",
              "      padding: 0 0 0 0;\n",
              "      width: 32px;\n",
              "    }\n",
              "\n",
              "    .colab-df-convert:hover {\n",
              "      background-color: #E2EBFA;\n",
              "      box-shadow: 0px 1px 2px rgba(60, 64, 67, 0.3), 0px 1px 3px 1px rgba(60, 64, 67, 0.15);\n",
              "      fill: #174EA6;\n",
              "    }\n",
              "\n",
              "    [theme=dark] .colab-df-convert {\n",
              "      background-color: #3B4455;\n",
              "      fill: #D2E3FC;\n",
              "    }\n",
              "\n",
              "    [theme=dark] .colab-df-convert:hover {\n",
              "      background-color: #434B5C;\n",
              "      box-shadow: 0px 1px 3px 1px rgba(0, 0, 0, 0.15);\n",
              "      filter: drop-shadow(0px 1px 2px rgba(0, 0, 0, 0.3));\n",
              "      fill: #FFFFFF;\n",
              "    }\n",
              "  </style>\n",
              "\n",
              "      <script>\n",
              "        const buttonEl =\n",
              "          document.querySelector('#df-43be9db4-b2b5-4b8d-a5f4-1b4c6f673980 button.colab-df-convert');\n",
              "        buttonEl.style.display =\n",
              "          google.colab.kernel.accessAllowed ? 'block' : 'none';\n",
              "\n",
              "        async function convertToInteractive(key) {\n",
              "          const element = document.querySelector('#df-43be9db4-b2b5-4b8d-a5f4-1b4c6f673980');\n",
              "          const dataTable =\n",
              "            await google.colab.kernel.invokeFunction('convertToInteractive',\n",
              "                                                     [key], {});\n",
              "          if (!dataTable) return;\n",
              "\n",
              "          const docLinkHtml = 'Like what you see? Visit the ' +\n",
              "            '<a target=\"_blank\" href=https://colab.research.google.com/notebooks/data_table.ipynb>data table notebook</a>'\n",
              "            + ' to learn more about interactive tables.';\n",
              "          element.innerHTML = '';\n",
              "          dataTable['output_type'] = 'display_data';\n",
              "          await google.colab.output.renderOutput(dataTable, element);\n",
              "          const docLink = document.createElement('div');\n",
              "          docLink.innerHTML = docLinkHtml;\n",
              "          element.appendChild(docLink);\n",
              "        }\n",
              "      </script>\n",
              "    </div>\n",
              "  </div>\n",
              "  "
            ]
          },
          "metadata": {},
          "execution_count": 17
        }
      ]
    },
    {
      "cell_type": "code",
      "source": [
        "all_cars[all_cars['cyl'] == 4]"
      ],
      "metadata": {
        "colab": {
          "base_uri": "https://localhost:8080/",
          "height": 455
        },
        "id": "qrM8dH76-iw2",
        "outputId": "e8bc61fe-17ee-47fb-9516-26740c7bf862"
      },
      "execution_count": null,
      "outputs": [
        {
          "output_type": "execute_result",
          "data": {
            "text/plain": [
              "                              cyl  hp  weight  accel\n",
              "name                                                \n",
              "toyota corona mark ii           4  95    2372   15.0\n",
              "datsun pl510                    4  88    2130   14.5\n",
              "volkswagen 1131 deluxe sedan    4  46    1835   20.5\n",
              "peugeot 504                     4  87    2672   17.5\n",
              "audi 100 ls                     4  90    2430   14.5\n",
              "...                           ...  ..     ...    ...\n",
              "ford mustang gl                 4  86    2790   15.6\n",
              "vw pickup                       4  52    2130   24.6\n",
              "dodge rampage                   4  84    2295   11.6\n",
              "ford ranger                     4  79    2625   18.6\n",
              "chevy s-10                      4  82    2720   19.4\n",
              "\n",
              "[199 rows x 4 columns]"
            ],
            "text/html": [
              "\n",
              "  <div id=\"df-e596db8a-abf0-4890-94d5-2212f5deb974\">\n",
              "    <div class=\"colab-df-container\">\n",
              "      <div>\n",
              "<style scoped>\n",
              "    .dataframe tbody tr th:only-of-type {\n",
              "        vertical-align: middle;\n",
              "    }\n",
              "\n",
              "    .dataframe tbody tr th {\n",
              "        vertical-align: top;\n",
              "    }\n",
              "\n",
              "    .dataframe thead th {\n",
              "        text-align: right;\n",
              "    }\n",
              "</style>\n",
              "<table border=\"1\" class=\"dataframe\">\n",
              "  <thead>\n",
              "    <tr style=\"text-align: right;\">\n",
              "      <th></th>\n",
              "      <th>cyl</th>\n",
              "      <th>hp</th>\n",
              "      <th>weight</th>\n",
              "      <th>accel</th>\n",
              "    </tr>\n",
              "    <tr>\n",
              "      <th>name</th>\n",
              "      <th></th>\n",
              "      <th></th>\n",
              "      <th></th>\n",
              "      <th></th>\n",
              "    </tr>\n",
              "  </thead>\n",
              "  <tbody>\n",
              "    <tr>\n",
              "      <th>toyota corona mark ii</th>\n",
              "      <td>4</td>\n",
              "      <td>95</td>\n",
              "      <td>2372</td>\n",
              "      <td>15.0</td>\n",
              "    </tr>\n",
              "    <tr>\n",
              "      <th>datsun pl510</th>\n",
              "      <td>4</td>\n",
              "      <td>88</td>\n",
              "      <td>2130</td>\n",
              "      <td>14.5</td>\n",
              "    </tr>\n",
              "    <tr>\n",
              "      <th>volkswagen 1131 deluxe sedan</th>\n",
              "      <td>4</td>\n",
              "      <td>46</td>\n",
              "      <td>1835</td>\n",
              "      <td>20.5</td>\n",
              "    </tr>\n",
              "    <tr>\n",
              "      <th>peugeot 504</th>\n",
              "      <td>4</td>\n",
              "      <td>87</td>\n",
              "      <td>2672</td>\n",
              "      <td>17.5</td>\n",
              "    </tr>\n",
              "    <tr>\n",
              "      <th>audi 100 ls</th>\n",
              "      <td>4</td>\n",
              "      <td>90</td>\n",
              "      <td>2430</td>\n",
              "      <td>14.5</td>\n",
              "    </tr>\n",
              "    <tr>\n",
              "      <th>...</th>\n",
              "      <td>...</td>\n",
              "      <td>...</td>\n",
              "      <td>...</td>\n",
              "      <td>...</td>\n",
              "    </tr>\n",
              "    <tr>\n",
              "      <th>ford mustang gl</th>\n",
              "      <td>4</td>\n",
              "      <td>86</td>\n",
              "      <td>2790</td>\n",
              "      <td>15.6</td>\n",
              "    </tr>\n",
              "    <tr>\n",
              "      <th>vw pickup</th>\n",
              "      <td>4</td>\n",
              "      <td>52</td>\n",
              "      <td>2130</td>\n",
              "      <td>24.6</td>\n",
              "    </tr>\n",
              "    <tr>\n",
              "      <th>dodge rampage</th>\n",
              "      <td>4</td>\n",
              "      <td>84</td>\n",
              "      <td>2295</td>\n",
              "      <td>11.6</td>\n",
              "    </tr>\n",
              "    <tr>\n",
              "      <th>ford ranger</th>\n",
              "      <td>4</td>\n",
              "      <td>79</td>\n",
              "      <td>2625</td>\n",
              "      <td>18.6</td>\n",
              "    </tr>\n",
              "    <tr>\n",
              "      <th>chevy s-10</th>\n",
              "      <td>4</td>\n",
              "      <td>82</td>\n",
              "      <td>2720</td>\n",
              "      <td>19.4</td>\n",
              "    </tr>\n",
              "  </tbody>\n",
              "</table>\n",
              "<p>199 rows × 4 columns</p>\n",
              "</div>\n",
              "      <button class=\"colab-df-convert\" onclick=\"convertToInteractive('df-e596db8a-abf0-4890-94d5-2212f5deb974')\"\n",
              "              title=\"Convert this dataframe to an interactive table.\"\n",
              "              style=\"display:none;\">\n",
              "        \n",
              "  <svg xmlns=\"http://www.w3.org/2000/svg\" height=\"24px\"viewBox=\"0 0 24 24\"\n",
              "       width=\"24px\">\n",
              "    <path d=\"M0 0h24v24H0V0z\" fill=\"none\"/>\n",
              "    <path d=\"M18.56 5.44l.94 2.06.94-2.06 2.06-.94-2.06-.94-.94-2.06-.94 2.06-2.06.94zm-11 1L8.5 8.5l.94-2.06 2.06-.94-2.06-.94L8.5 2.5l-.94 2.06-2.06.94zm10 10l.94 2.06.94-2.06 2.06-.94-2.06-.94-.94-2.06-.94 2.06-2.06.94z\"/><path d=\"M17.41 7.96l-1.37-1.37c-.4-.4-.92-.59-1.43-.59-.52 0-1.04.2-1.43.59L10.3 9.45l-7.72 7.72c-.78.78-.78 2.05 0 2.83L4 21.41c.39.39.9.59 1.41.59.51 0 1.02-.2 1.41-.59l7.78-7.78 2.81-2.81c.8-.78.8-2.07 0-2.86zM5.41 20L4 18.59l7.72-7.72 1.47 1.35L5.41 20z\"/>\n",
              "  </svg>\n",
              "      </button>\n",
              "      \n",
              "  <style>\n",
              "    .colab-df-container {\n",
              "      display:flex;\n",
              "      flex-wrap:wrap;\n",
              "      gap: 12px;\n",
              "    }\n",
              "\n",
              "    .colab-df-convert {\n",
              "      background-color: #E8F0FE;\n",
              "      border: none;\n",
              "      border-radius: 50%;\n",
              "      cursor: pointer;\n",
              "      display: none;\n",
              "      fill: #1967D2;\n",
              "      height: 32px;\n",
              "      padding: 0 0 0 0;\n",
              "      width: 32px;\n",
              "    }\n",
              "\n",
              "    .colab-df-convert:hover {\n",
              "      background-color: #E2EBFA;\n",
              "      box-shadow: 0px 1px 2px rgba(60, 64, 67, 0.3), 0px 1px 3px 1px rgba(60, 64, 67, 0.15);\n",
              "      fill: #174EA6;\n",
              "    }\n",
              "\n",
              "    [theme=dark] .colab-df-convert {\n",
              "      background-color: #3B4455;\n",
              "      fill: #D2E3FC;\n",
              "    }\n",
              "\n",
              "    [theme=dark] .colab-df-convert:hover {\n",
              "      background-color: #434B5C;\n",
              "      box-shadow: 0px 1px 3px 1px rgba(0, 0, 0, 0.15);\n",
              "      filter: drop-shadow(0px 1px 2px rgba(0, 0, 0, 0.3));\n",
              "      fill: #FFFFFF;\n",
              "    }\n",
              "  </style>\n",
              "\n",
              "      <script>\n",
              "        const buttonEl =\n",
              "          document.querySelector('#df-e596db8a-abf0-4890-94d5-2212f5deb974 button.colab-df-convert');\n",
              "        buttonEl.style.display =\n",
              "          google.colab.kernel.accessAllowed ? 'block' : 'none';\n",
              "\n",
              "        async function convertToInteractive(key) {\n",
              "          const element = document.querySelector('#df-e596db8a-abf0-4890-94d5-2212f5deb974');\n",
              "          const dataTable =\n",
              "            await google.colab.kernel.invokeFunction('convertToInteractive',\n",
              "                                                     [key], {});\n",
              "          if (!dataTable) return;\n",
              "\n",
              "          const docLinkHtml = 'Like what you see? Visit the ' +\n",
              "            '<a target=\"_blank\" href=https://colab.research.google.com/notebooks/data_table.ipynb>data table notebook</a>'\n",
              "            + ' to learn more about interactive tables.';\n",
              "          element.innerHTML = '';\n",
              "          dataTable['output_type'] = 'display_data';\n",
              "          await google.colab.output.renderOutput(dataTable, element);\n",
              "          const docLink = document.createElement('div');\n",
              "          docLink.innerHTML = docLinkHtml;\n",
              "          element.appendChild(docLink);\n",
              "        }\n",
              "      </script>\n",
              "    </div>\n",
              "  </div>\n",
              "  "
            ]
          },
          "metadata": {},
          "execution_count": 18
        }
      ]
    },
    {
      "cell_type": "code",
      "source": [
        "all_cars[(all_cars.cyl == 4) & (all_cars.hp > 80)]  # cyl=4 (автомобили с четырехцилиндровым двигателем) и  hp>80 (мощность строго больше 80)"
      ],
      "metadata": {
        "colab": {
          "base_uri": "https://localhost:8080/",
          "height": 455
        },
        "id": "CtCfhPuh_T2c",
        "outputId": "db108c23-45a6-43a7-b289-ae9743850713"
      },
      "execution_count": null,
      "outputs": [
        {
          "output_type": "execute_result",
          "data": {
            "text/plain": [
              "                       cyl  hp  weight  accel\n",
              "name                                         \n",
              "toyota corona mark ii    4  95    2372   15.0\n",
              "datsun pl510             4  88    2130   14.5\n",
              "peugeot 504              4  87    2672   17.5\n",
              "audi 100 ls              4  90    2430   14.5\n",
              "saab 99e                 4  95    2375   17.5\n",
              "...                    ...  ..     ...    ...\n",
              "dodge charger 2.2        4  84    2370   13.0\n",
              "chevrolet camaro         4  90    2950   17.3\n",
              "ford mustang gl          4  86    2790   15.6\n",
              "dodge rampage            4  84    2295   11.6\n",
              "chevy s-10               4  82    2720   19.4\n",
              "\n",
              "[86 rows x 4 columns]"
            ],
            "text/html": [
              "\n",
              "  <div id=\"df-f3c430c7-31db-4bc7-8614-b96b7fa882e0\">\n",
              "    <div class=\"colab-df-container\">\n",
              "      <div>\n",
              "<style scoped>\n",
              "    .dataframe tbody tr th:only-of-type {\n",
              "        vertical-align: middle;\n",
              "    }\n",
              "\n",
              "    .dataframe tbody tr th {\n",
              "        vertical-align: top;\n",
              "    }\n",
              "\n",
              "    .dataframe thead th {\n",
              "        text-align: right;\n",
              "    }\n",
              "</style>\n",
              "<table border=\"1\" class=\"dataframe\">\n",
              "  <thead>\n",
              "    <tr style=\"text-align: right;\">\n",
              "      <th></th>\n",
              "      <th>cyl</th>\n",
              "      <th>hp</th>\n",
              "      <th>weight</th>\n",
              "      <th>accel</th>\n",
              "    </tr>\n",
              "    <tr>\n",
              "      <th>name</th>\n",
              "      <th></th>\n",
              "      <th></th>\n",
              "      <th></th>\n",
              "      <th></th>\n",
              "    </tr>\n",
              "  </thead>\n",
              "  <tbody>\n",
              "    <tr>\n",
              "      <th>toyota corona mark ii</th>\n",
              "      <td>4</td>\n",
              "      <td>95</td>\n",
              "      <td>2372</td>\n",
              "      <td>15.0</td>\n",
              "    </tr>\n",
              "    <tr>\n",
              "      <th>datsun pl510</th>\n",
              "      <td>4</td>\n",
              "      <td>88</td>\n",
              "      <td>2130</td>\n",
              "      <td>14.5</td>\n",
              "    </tr>\n",
              "    <tr>\n",
              "      <th>peugeot 504</th>\n",
              "      <td>4</td>\n",
              "      <td>87</td>\n",
              "      <td>2672</td>\n",
              "      <td>17.5</td>\n",
              "    </tr>\n",
              "    <tr>\n",
              "      <th>audi 100 ls</th>\n",
              "      <td>4</td>\n",
              "      <td>90</td>\n",
              "      <td>2430</td>\n",
              "      <td>14.5</td>\n",
              "    </tr>\n",
              "    <tr>\n",
              "      <th>saab 99e</th>\n",
              "      <td>4</td>\n",
              "      <td>95</td>\n",
              "      <td>2375</td>\n",
              "      <td>17.5</td>\n",
              "    </tr>\n",
              "    <tr>\n",
              "      <th>...</th>\n",
              "      <td>...</td>\n",
              "      <td>...</td>\n",
              "      <td>...</td>\n",
              "      <td>...</td>\n",
              "    </tr>\n",
              "    <tr>\n",
              "      <th>dodge charger 2.2</th>\n",
              "      <td>4</td>\n",
              "      <td>84</td>\n",
              "      <td>2370</td>\n",
              "      <td>13.0</td>\n",
              "    </tr>\n",
              "    <tr>\n",
              "      <th>chevrolet camaro</th>\n",
              "      <td>4</td>\n",
              "      <td>90</td>\n",
              "      <td>2950</td>\n",
              "      <td>17.3</td>\n",
              "    </tr>\n",
              "    <tr>\n",
              "      <th>ford mustang gl</th>\n",
              "      <td>4</td>\n",
              "      <td>86</td>\n",
              "      <td>2790</td>\n",
              "      <td>15.6</td>\n",
              "    </tr>\n",
              "    <tr>\n",
              "      <th>dodge rampage</th>\n",
              "      <td>4</td>\n",
              "      <td>84</td>\n",
              "      <td>2295</td>\n",
              "      <td>11.6</td>\n",
              "    </tr>\n",
              "    <tr>\n",
              "      <th>chevy s-10</th>\n",
              "      <td>4</td>\n",
              "      <td>82</td>\n",
              "      <td>2720</td>\n",
              "      <td>19.4</td>\n",
              "    </tr>\n",
              "  </tbody>\n",
              "</table>\n",
              "<p>86 rows × 4 columns</p>\n",
              "</div>\n",
              "      <button class=\"colab-df-convert\" onclick=\"convertToInteractive('df-f3c430c7-31db-4bc7-8614-b96b7fa882e0')\"\n",
              "              title=\"Convert this dataframe to an interactive table.\"\n",
              "              style=\"display:none;\">\n",
              "        \n",
              "  <svg xmlns=\"http://www.w3.org/2000/svg\" height=\"24px\"viewBox=\"0 0 24 24\"\n",
              "       width=\"24px\">\n",
              "    <path d=\"M0 0h24v24H0V0z\" fill=\"none\"/>\n",
              "    <path d=\"M18.56 5.44l.94 2.06.94-2.06 2.06-.94-2.06-.94-.94-2.06-.94 2.06-2.06.94zm-11 1L8.5 8.5l.94-2.06 2.06-.94-2.06-.94L8.5 2.5l-.94 2.06-2.06.94zm10 10l.94 2.06.94-2.06 2.06-.94-2.06-.94-.94-2.06-.94 2.06-2.06.94z\"/><path d=\"M17.41 7.96l-1.37-1.37c-.4-.4-.92-.59-1.43-.59-.52 0-1.04.2-1.43.59L10.3 9.45l-7.72 7.72c-.78.78-.78 2.05 0 2.83L4 21.41c.39.39.9.59 1.41.59.51 0 1.02-.2 1.41-.59l7.78-7.78 2.81-2.81c.8-.78.8-2.07 0-2.86zM5.41 20L4 18.59l7.72-7.72 1.47 1.35L5.41 20z\"/>\n",
              "  </svg>\n",
              "      </button>\n",
              "      \n",
              "  <style>\n",
              "    .colab-df-container {\n",
              "      display:flex;\n",
              "      flex-wrap:wrap;\n",
              "      gap: 12px;\n",
              "    }\n",
              "\n",
              "    .colab-df-convert {\n",
              "      background-color: #E8F0FE;\n",
              "      border: none;\n",
              "      border-radius: 50%;\n",
              "      cursor: pointer;\n",
              "      display: none;\n",
              "      fill: #1967D2;\n",
              "      height: 32px;\n",
              "      padding: 0 0 0 0;\n",
              "      width: 32px;\n",
              "    }\n",
              "\n",
              "    .colab-df-convert:hover {\n",
              "      background-color: #E2EBFA;\n",
              "      box-shadow: 0px 1px 2px rgba(60, 64, 67, 0.3), 0px 1px 3px 1px rgba(60, 64, 67, 0.15);\n",
              "      fill: #174EA6;\n",
              "    }\n",
              "\n",
              "    [theme=dark] .colab-df-convert {\n",
              "      background-color: #3B4455;\n",
              "      fill: #D2E3FC;\n",
              "    }\n",
              "\n",
              "    [theme=dark] .colab-df-convert:hover {\n",
              "      background-color: #434B5C;\n",
              "      box-shadow: 0px 1px 3px 1px rgba(0, 0, 0, 0.15);\n",
              "      filter: drop-shadow(0px 1px 2px rgba(0, 0, 0, 0.3));\n",
              "      fill: #FFFFFF;\n",
              "    }\n",
              "  </style>\n",
              "\n",
              "      <script>\n",
              "        const buttonEl =\n",
              "          document.querySelector('#df-f3c430c7-31db-4bc7-8614-b96b7fa882e0 button.colab-df-convert');\n",
              "        buttonEl.style.display =\n",
              "          google.colab.kernel.accessAllowed ? 'block' : 'none';\n",
              "\n",
              "        async function convertToInteractive(key) {\n",
              "          const element = document.querySelector('#df-f3c430c7-31db-4bc7-8614-b96b7fa882e0');\n",
              "          const dataTable =\n",
              "            await google.colab.kernel.invokeFunction('convertToInteractive',\n",
              "                                                     [key], {});\n",
              "          if (!dataTable) return;\n",
              "\n",
              "          const docLinkHtml = 'Like what you see? Visit the ' +\n",
              "            '<a target=\"_blank\" href=https://colab.research.google.com/notebooks/data_table.ipynb>data table notebook</a>'\n",
              "            + ' to learn more about interactive tables.';\n",
              "          element.innerHTML = '';\n",
              "          dataTable['output_type'] = 'display_data';\n",
              "          await google.colab.output.renderOutput(dataTable, element);\n",
              "          const docLink = document.createElement('div');\n",
              "          docLink.innerHTML = docLinkHtml;\n",
              "          element.appendChild(docLink);\n",
              "        }\n",
              "      </script>\n",
              "    </div>\n",
              "  </div>\n",
              "  "
            ]
          },
          "metadata": {},
          "execution_count": 19
        }
      ]
    },
    {
      "cell_type": "code",
      "source": [
        "sample_cars = all_cars[((all_cars.cyl == 4) & (all_cars.hp > 80)) | ((all_cars.cyl == 8) & (all_cars.hp > 90))]\n",
        "sample_cars # выборка где cyl=4 и hp>80 либо cyl=8 и hp>90"
      ],
      "metadata": {
        "colab": {
          "base_uri": "https://localhost:8080/",
          "height": 455
        },
        "id": "2G50VkjoAAon",
        "outputId": "8894fb52-0c60-4152-b195-f1bbec1e5dbb"
      },
      "execution_count": null,
      "outputs": [
        {
          "output_type": "execute_result",
          "data": {
            "text/plain": [
              "                           cyl   hp  weight  accel\n",
              "name                                              \n",
              "chevrolet chevelle malibu    8  130    3504   12.0\n",
              "buick skylark 320            8  165    3693   11.5\n",
              "plymouth satellite           8  150    3436   11.0\n",
              "amc rebel sst                8  150    3433   12.0\n",
              "ford torino                  8  140    3449   10.5\n",
              "...                        ...  ...     ...    ...\n",
              "dodge charger 2.2            4   84    2370   13.0\n",
              "chevrolet camaro             4   90    2950   17.3\n",
              "ford mustang gl              4   86    2790   15.6\n",
              "dodge rampage                4   84    2295   11.6\n",
              "chevy s-10                   4   82    2720   19.4\n",
              "\n",
              "[188 rows x 4 columns]"
            ],
            "text/html": [
              "\n",
              "  <div id=\"df-7f3c0e43-9a46-4100-a12d-de6b55e826c6\">\n",
              "    <div class=\"colab-df-container\">\n",
              "      <div>\n",
              "<style scoped>\n",
              "    .dataframe tbody tr th:only-of-type {\n",
              "        vertical-align: middle;\n",
              "    }\n",
              "\n",
              "    .dataframe tbody tr th {\n",
              "        vertical-align: top;\n",
              "    }\n",
              "\n",
              "    .dataframe thead th {\n",
              "        text-align: right;\n",
              "    }\n",
              "</style>\n",
              "<table border=\"1\" class=\"dataframe\">\n",
              "  <thead>\n",
              "    <tr style=\"text-align: right;\">\n",
              "      <th></th>\n",
              "      <th>cyl</th>\n",
              "      <th>hp</th>\n",
              "      <th>weight</th>\n",
              "      <th>accel</th>\n",
              "    </tr>\n",
              "    <tr>\n",
              "      <th>name</th>\n",
              "      <th></th>\n",
              "      <th></th>\n",
              "      <th></th>\n",
              "      <th></th>\n",
              "    </tr>\n",
              "  </thead>\n",
              "  <tbody>\n",
              "    <tr>\n",
              "      <th>chevrolet chevelle malibu</th>\n",
              "      <td>8</td>\n",
              "      <td>130</td>\n",
              "      <td>3504</td>\n",
              "      <td>12.0</td>\n",
              "    </tr>\n",
              "    <tr>\n",
              "      <th>buick skylark 320</th>\n",
              "      <td>8</td>\n",
              "      <td>165</td>\n",
              "      <td>3693</td>\n",
              "      <td>11.5</td>\n",
              "    </tr>\n",
              "    <tr>\n",
              "      <th>plymouth satellite</th>\n",
              "      <td>8</td>\n",
              "      <td>150</td>\n",
              "      <td>3436</td>\n",
              "      <td>11.0</td>\n",
              "    </tr>\n",
              "    <tr>\n",
              "      <th>amc rebel sst</th>\n",
              "      <td>8</td>\n",
              "      <td>150</td>\n",
              "      <td>3433</td>\n",
              "      <td>12.0</td>\n",
              "    </tr>\n",
              "    <tr>\n",
              "      <th>ford torino</th>\n",
              "      <td>8</td>\n",
              "      <td>140</td>\n",
              "      <td>3449</td>\n",
              "      <td>10.5</td>\n",
              "    </tr>\n",
              "    <tr>\n",
              "      <th>...</th>\n",
              "      <td>...</td>\n",
              "      <td>...</td>\n",
              "      <td>...</td>\n",
              "      <td>...</td>\n",
              "    </tr>\n",
              "    <tr>\n",
              "      <th>dodge charger 2.2</th>\n",
              "      <td>4</td>\n",
              "      <td>84</td>\n",
              "      <td>2370</td>\n",
              "      <td>13.0</td>\n",
              "    </tr>\n",
              "    <tr>\n",
              "      <th>chevrolet camaro</th>\n",
              "      <td>4</td>\n",
              "      <td>90</td>\n",
              "      <td>2950</td>\n",
              "      <td>17.3</td>\n",
              "    </tr>\n",
              "    <tr>\n",
              "      <th>ford mustang gl</th>\n",
              "      <td>4</td>\n",
              "      <td>86</td>\n",
              "      <td>2790</td>\n",
              "      <td>15.6</td>\n",
              "    </tr>\n",
              "    <tr>\n",
              "      <th>dodge rampage</th>\n",
              "      <td>4</td>\n",
              "      <td>84</td>\n",
              "      <td>2295</td>\n",
              "      <td>11.6</td>\n",
              "    </tr>\n",
              "    <tr>\n",
              "      <th>chevy s-10</th>\n",
              "      <td>4</td>\n",
              "      <td>82</td>\n",
              "      <td>2720</td>\n",
              "      <td>19.4</td>\n",
              "    </tr>\n",
              "  </tbody>\n",
              "</table>\n",
              "<p>188 rows × 4 columns</p>\n",
              "</div>\n",
              "      <button class=\"colab-df-convert\" onclick=\"convertToInteractive('df-7f3c0e43-9a46-4100-a12d-de6b55e826c6')\"\n",
              "              title=\"Convert this dataframe to an interactive table.\"\n",
              "              style=\"display:none;\">\n",
              "        \n",
              "  <svg xmlns=\"http://www.w3.org/2000/svg\" height=\"24px\"viewBox=\"0 0 24 24\"\n",
              "       width=\"24px\">\n",
              "    <path d=\"M0 0h24v24H0V0z\" fill=\"none\"/>\n",
              "    <path d=\"M18.56 5.44l.94 2.06.94-2.06 2.06-.94-2.06-.94-.94-2.06-.94 2.06-2.06.94zm-11 1L8.5 8.5l.94-2.06 2.06-.94-2.06-.94L8.5 2.5l-.94 2.06-2.06.94zm10 10l.94 2.06.94-2.06 2.06-.94-2.06-.94-.94-2.06-.94 2.06-2.06.94z\"/><path d=\"M17.41 7.96l-1.37-1.37c-.4-.4-.92-.59-1.43-.59-.52 0-1.04.2-1.43.59L10.3 9.45l-7.72 7.72c-.78.78-.78 2.05 0 2.83L4 21.41c.39.39.9.59 1.41.59.51 0 1.02-.2 1.41-.59l7.78-7.78 2.81-2.81c.8-.78.8-2.07 0-2.86zM5.41 20L4 18.59l7.72-7.72 1.47 1.35L5.41 20z\"/>\n",
              "  </svg>\n",
              "      </button>\n",
              "      \n",
              "  <style>\n",
              "    .colab-df-container {\n",
              "      display:flex;\n",
              "      flex-wrap:wrap;\n",
              "      gap: 12px;\n",
              "    }\n",
              "\n",
              "    .colab-df-convert {\n",
              "      background-color: #E8F0FE;\n",
              "      border: none;\n",
              "      border-radius: 50%;\n",
              "      cursor: pointer;\n",
              "      display: none;\n",
              "      fill: #1967D2;\n",
              "      height: 32px;\n",
              "      padding: 0 0 0 0;\n",
              "      width: 32px;\n",
              "    }\n",
              "\n",
              "    .colab-df-convert:hover {\n",
              "      background-color: #E2EBFA;\n",
              "      box-shadow: 0px 1px 2px rgba(60, 64, 67, 0.3), 0px 1px 3px 1px rgba(60, 64, 67, 0.15);\n",
              "      fill: #174EA6;\n",
              "    }\n",
              "\n",
              "    [theme=dark] .colab-df-convert {\n",
              "      background-color: #3B4455;\n",
              "      fill: #D2E3FC;\n",
              "    }\n",
              "\n",
              "    [theme=dark] .colab-df-convert:hover {\n",
              "      background-color: #434B5C;\n",
              "      box-shadow: 0px 1px 3px 1px rgba(0, 0, 0, 0.15);\n",
              "      filter: drop-shadow(0px 1px 2px rgba(0, 0, 0, 0.3));\n",
              "      fill: #FFFFFF;\n",
              "    }\n",
              "  </style>\n",
              "\n",
              "      <script>\n",
              "        const buttonEl =\n",
              "          document.querySelector('#df-7f3c0e43-9a46-4100-a12d-de6b55e826c6 button.colab-df-convert');\n",
              "        buttonEl.style.display =\n",
              "          google.colab.kernel.accessAllowed ? 'block' : 'none';\n",
              "\n",
              "        async function convertToInteractive(key) {\n",
              "          const element = document.querySelector('#df-7f3c0e43-9a46-4100-a12d-de6b55e826c6');\n",
              "          const dataTable =\n",
              "            await google.colab.kernel.invokeFunction('convertToInteractive',\n",
              "                                                     [key], {});\n",
              "          if (!dataTable) return;\n",
              "\n",
              "          const docLinkHtml = 'Like what you see? Visit the ' +\n",
              "            '<a target=\"_blank\" href=https://colab.research.google.com/notebooks/data_table.ipynb>data table notebook</a>'\n",
              "            + ' to learn more about interactive tables.';\n",
              "          element.innerHTML = '';\n",
              "          dataTable['output_type'] = 'display_data';\n",
              "          await google.colab.output.renderOutput(dataTable, element);\n",
              "          const docLink = document.createElement('div');\n",
              "          docLink.innerHTML = docLinkHtml;\n",
              "          element.appendChild(docLink);\n",
              "        }\n",
              "      </script>\n",
              "    </div>\n",
              "  </div>\n",
              "  "
            ]
          },
          "metadata": {},
          "execution_count": 20
        }
      ]
    },
    {
      "cell_type": "code",
      "source": [
        "print(sample_cars['weight'].mean()) # определить сред.знач. по столбцу 'weight' - по названию колонки\n",
        "print(sample_cars.weight.mean())  # по методу"
      ],
      "metadata": {
        "colab": {
          "base_uri": "https://localhost:8080/"
        },
        "id": "6TrXe3QrAx-p",
        "outputId": "6abe69bf-ea53-4c47-d48d-d91a8cf3410a"
      },
      "execution_count": null,
      "outputs": [
        {
          "output_type": "stream",
          "name": "stdout",
          "text": [
            "3400.303191489362\n",
            "3400.303191489362\n"
          ]
        }
      ]
    },
    {
      "cell_type": "code",
      "source": [
        "round(sample_cars.weight.mean(), 3) # округляем до тысячных"
      ],
      "metadata": {
        "colab": {
          "base_uri": "https://localhost:8080/"
        },
        "id": "hUvZrcGFBLU0",
        "outputId": "fa802144-74e2-4fe8-fb5a-38a0bb17aab6"
      },
      "execution_count": null,
      "outputs": [
        {
          "output_type": "execute_result",
          "data": {
            "text/plain": [
              "3400.303"
            ]
          },
          "metadata": {},
          "execution_count": 22
        }
      ]
    },
    {
      "cell_type": "code",
      "source": [
        "dir(list)"
      ],
      "metadata": {
        "colab": {
          "base_uri": "https://localhost:8080/"
        },
        "id": "pyx8SmsIE2ht",
        "outputId": "49278bd2-dc57-4fd9-d52f-a50abe0883ae"
      },
      "execution_count": null,
      "outputs": [
        {
          "output_type": "execute_result",
          "data": {
            "text/plain": [
              "['__add__',\n",
              " '__class__',\n",
              " '__contains__',\n",
              " '__delattr__',\n",
              " '__delitem__',\n",
              " '__dir__',\n",
              " '__doc__',\n",
              " '__eq__',\n",
              " '__format__',\n",
              " '__ge__',\n",
              " '__getattribute__',\n",
              " '__getitem__',\n",
              " '__gt__',\n",
              " '__hash__',\n",
              " '__iadd__',\n",
              " '__imul__',\n",
              " '__init__',\n",
              " '__init_subclass__',\n",
              " '__iter__',\n",
              " '__le__',\n",
              " '__len__',\n",
              " '__lt__',\n",
              " '__mul__',\n",
              " '__ne__',\n",
              " '__new__',\n",
              " '__reduce__',\n",
              " '__reduce_ex__',\n",
              " '__repr__',\n",
              " '__reversed__',\n",
              " '__rmul__',\n",
              " '__setattr__',\n",
              " '__setitem__',\n",
              " '__sizeof__',\n",
              " '__str__',\n",
              " '__subclasshook__',\n",
              " 'append',\n",
              " 'clear',\n",
              " 'copy',\n",
              " 'count',\n",
              " 'extend',\n",
              " 'index',\n",
              " 'insert',\n",
              " 'pop',\n",
              " 'remove',\n",
              " 'reverse',\n",
              " 'sort']"
            ]
          },
          "metadata": {},
          "execution_count": 23
        }
      ]
    },
    {
      "cell_type": "code",
      "source": [
        "dir(tuple)"
      ],
      "metadata": {
        "colab": {
          "base_uri": "https://localhost:8080/"
        },
        "id": "0NDdiIKJLJ6A",
        "outputId": "4502696d-d33e-45d8-b8b1-6e17ab04db3a"
      },
      "execution_count": null,
      "outputs": [
        {
          "output_type": "execute_result",
          "data": {
            "text/plain": [
              "['__add__',\n",
              " '__class__',\n",
              " '__contains__',\n",
              " '__delattr__',\n",
              " '__dir__',\n",
              " '__doc__',\n",
              " '__eq__',\n",
              " '__format__',\n",
              " '__ge__',\n",
              " '__getattribute__',\n",
              " '__getitem__',\n",
              " '__getnewargs__',\n",
              " '__gt__',\n",
              " '__hash__',\n",
              " '__init__',\n",
              " '__init_subclass__',\n",
              " '__iter__',\n",
              " '__le__',\n",
              " '__len__',\n",
              " '__lt__',\n",
              " '__mul__',\n",
              " '__ne__',\n",
              " '__new__',\n",
              " '__reduce__',\n",
              " '__reduce_ex__',\n",
              " '__repr__',\n",
              " '__rmul__',\n",
              " '__setattr__',\n",
              " '__sizeof__',\n",
              " '__str__',\n",
              " '__subclasshook__',\n",
              " 'count',\n",
              " 'index']"
            ]
          },
          "metadata": {},
          "execution_count": 24
        }
      ]
    },
    {
      "cell_type": "code",
      "source": [
        "a, b, c, d = int(input()), int(input()), int(input()), int(input())\n",
        "if a>b<c and b<d:\n",
        "\tprint(b)\n",
        "if a>c<b and c<d:\n",
        "\tprint(c)\n",
        "if a>d<b and d<c:\n",
        "\tprint(d)\n",
        "if d>a<b and a<c:\n",
        "\tprint(a)"
      ],
      "metadata": {
        "colab": {
          "base_uri": "https://localhost:8080/"
        },
        "id": "3Wfaa4DczKqL",
        "outputId": "eac00bb7-d811-4137-c49c-ea5740423b72"
      },
      "execution_count": null,
      "outputs": [
        {
          "output_type": "stream",
          "name": "stdout",
          "text": [
            "10\n",
            "9\n",
            "11\n",
            "12\n",
            "9\n"
          ]
        }
      ]
    },
    {
      "cell_type": "code",
      "source": [
        "# Напишите программу, которая определяет наименьшее из четырёх чисел\n",
        "a, b, c, d = int(input()), int(input()), int(input()), int(input())\n",
        "i = 0\n",
        "if a<=b and c>=a<=d:\n",
        "\tprint(a)\n",
        "\ti = 1\n",
        "if b<=a and c>=b<=d and i==0:\n",
        "\tprint(b)\n",
        "\ti = 1\n",
        "if c<=d and a>=c<=b and i==0:\n",
        "\tprint(c)\n",
        "\ti = 1\n",
        "if d<=c and a>=d<=b and i==0:\n",
        "\tprint(d)"
      ],
      "metadata": {
        "colab": {
          "base_uri": "https://localhost:8080/"
        },
        "id": "dVAqNQPcAhKS",
        "outputId": "f4329ae4-0150-43ce-b30f-28405d3a4635"
      },
      "execution_count": null,
      "outputs": [
        {
          "output_type": "stream",
          "name": "stdout",
          "text": [
            "5\n",
            "5\n",
            "5\n",
            "6\n",
            "5\n"
          ]
        }
      ]
    },
    {
      "cell_type": "code",
      "source": [
        "a, b, c, d = int(input()), int(input()), int(input()), int(input())\n",
        "# Создаётся специальная переменная (m), которая будет хранить минимальное значение (минимум), сравниваясь со всеми введёнными числами поочерёдно.\n",
        "m = a      # I число сравнивать не с чем, поэтому оно прямо записывается в спец. переменную.\n",
        "if b < m:  # Сравнивается II число со спец. переменной.\n",
        "    m = b  # Если II число меньше, чем значение спец. переменной, то текущий минимум обновляется.\n",
        "if c < m:  # Сравнивается III число со спец. переменной... И далее поочерёдно перебираются все числа\n",
        "    m = c  # Если очередное число меньше, чем значение спец. переменной, то текущий минимум обновляется,\n",
        "if d < m:  #      иначе спец. переменная, содержащая текущий минимум остаётся без изменений.\n",
        "    m = d  # \n",
        "print(m)   # Вывод \"накопленного результата\" в процессе сравнения всех чисел."
      ],
      "metadata": {
        "id": "cTeLR87uF__s"
      },
      "execution_count": null,
      "outputs": []
    },
    {
      "cell_type": "code",
      "source": [
        "a = 17 * '*'\n",
        "b = '*' + 15 * ' ' + '*'\n",
        "print(a, b, b, a, sep='\\n')"
      ],
      "metadata": {
        "colab": {
          "base_uri": "https://localhost:8080/"
        },
        "id": "RZA1BVetwN_a",
        "outputId": "457d51fb-00fc-4beb-d7ea-164de6c8f11a"
      },
      "execution_count": null,
      "outputs": [
        {
          "output_type": "stream",
          "name": "stdout",
          "text": [
            "*****************\n",
            "*               *\n",
            "*               *\n",
            "*****************\n"
          ]
        }
      ]
    },
    {
      "cell_type": "code",
      "source": [
        "a, b = int(input()), int(input())\n",
        "print('Квадрат суммы', a, 'и', b, 'равен', (a + b)**2)\n",
        "print('Сумма квадратов', a, 'и', b, 'равна', a**2 + b**2)"
      ],
      "metadata": {
        "colab": {
          "base_uri": "https://localhost:8080/"
        },
        "id": "wo_B2FXG1pj2",
        "outputId": "7e41da4e-d039-48d1-869b-416702f9b041"
      },
      "execution_count": null,
      "outputs": [
        {
          "output_type": "stream",
          "name": "stdout",
          "text": [
            "3\n",
            "2\n",
            "Квадрат суммы 3 и 2 равен 25\n",
            "Сумма квадратов 3 и 2 равна 13\n"
          ]
        }
      ]
    },
    {
      "cell_type": "code",
      "source": [
        "n = int(input())  # пример 1+11+111=123 вывести результат суммы чисел, образованных из n\n",
        "nn, nnn = str(n)*2, str(n)*3\n",
        "print(n + int(nn) + int(nnn))"
      ],
      "metadata": {
        "colab": {
          "base_uri": "https://localhost:8080/"
        },
        "id": "4DYMmdiv3osw",
        "outputId": "81cb44c3-51cd-4c9b-835b-e1b074579511"
      },
      "execution_count": null,
      "outputs": [
        {
          "output_type": "stream",
          "name": "stdout",
          "text": [
            "2\n",
            "246\n"
          ]
        }
      ]
    },
    {
      "cell_type": "code",
      "source": [
        "a, b, c = int(input()), int(input()), int(input())  # Даны три различных целых числа. \n",
        "# Напишите программу, которая находит среднее по величине число. \n",
        "# Средним называется число, которое будет вторым, если три числа отсортировать в порядке возрастания\n",
        "if a < b < c or a > b > c:\n",
        "\tprint(b)\n",
        "elif b < c < a or b > c > a:\n",
        "\tprint(c)\n",
        "else:\n",
        "\tprint(a)"
      ],
      "metadata": {
        "colab": {
          "base_uri": "https://localhost:8080/"
        },
        "id": "q9tjysCwMW2-",
        "outputId": "32bac451-43ec-4773-f7f0-01bf820faf3e"
      },
      "execution_count": null,
      "outputs": [
        {
          "output_type": "stream",
          "name": "stdout",
          "text": [
            "10\n",
            "30\n",
            "20\n",
            "20\n"
          ]
        }
      ]
    },
    {
      "cell_type": "code",
      "source": [
        "a, b, c = int(input()), int(input()), input()   # вводится 2 числа и строка (оператор +-*/ или ошибка)\n",
        "if c == '+':\n",
        "\tprint(a + b)\n",
        "elif c == '-':\n",
        "\tprint(a - b)\n",
        "elif c == '*':\n",
        "\tprint(a * b)\n",
        "elif c == '/':\n",
        "\tif  b != 0:\n",
        "\t\tprint(a / b)\n",
        "\telse:\n",
        "\t\tprint('На ноль делить нельзя!')   # при попытке делить на 0\n",
        "else:\n",
        "\tprint('Неверная операция')  # вывести результат или ошибка"
      ],
      "metadata": {
        "colab": {
          "base_uri": "https://localhost:8080/"
        },
        "id": "ppgxFUnmbh6h",
        "outputId": "4bdcbbfc-58c5-482f-a2d0-0afd9bb1dec0"
      },
      "execution_count": null,
      "outputs": [
        {
          "output_type": "stream",
          "name": "stdout",
          "text": [
            "0\n",
            "7\n",
            "*\n",
            "0\n"
          ]
        }
      ]
    },
    {
      "cell_type": "code",
      "source": [
        "# если смешать красный и синий, то получится фиолетовый;\n",
        "# если смешать красный и желтый, то получится оранжевый;\n",
        "# если смешать синий и желтый, то получится зеленый.\n",
        "a, b = input(), input() # вводится 2 цвета\n",
        "red, blue, yellow = 'красный', 'синий', 'желтый'\n",
        "if a == red and b == blue or b == red and a == blue:\n",
        "\tprint('фиолетовый')\n",
        "elif a == red and b == yellow or b == red and a == yellow:\n",
        "\tprint('оранжевый')\n",
        "elif a == blue and b == yellow or b == blue and a == yellow:\n",
        "\tprint('зеленый')\n",
        "elif a == b == red or a == b == blue or a == b == yellow:\n",
        "\tprint(a)\n",
        "else:\n",
        "\tprint('ошибка цвета')"
      ],
      "metadata": {
        "colab": {
          "base_uri": "https://localhost:8080/"
        },
        "id": "yMDOv3StjWth",
        "outputId": "d083f6dd-d25d-4539-9a78-137a2e62025d"
      },
      "execution_count": null,
      "outputs": [
        {
          "output_type": "stream",
          "name": "stdout",
          "text": [
            "куку\n",
            "куку\n",
            "ошибка цвета\n"
          ]
        }
      ]
    },
    {
      "cell_type": "code",
      "source": [
        "#На колесе рулетки карманы пронумерованы от 0 до 36. Ниже приведены цвета карманов: \n",
        "#карман 0 зеленый;\n",
        "#для карманов с 1 по 10 карманы с нечетным номером имеют красный цвет, карманы с четным номером – черный;\n",
        "#для карманов с 11 по 18 карманы с нечетным номером имеют черный цвет, карманы с четным номером – красный;\n",
        "#для карманов с 19 по 28 карманы с нечетным номером имеют красный цвет, карманы с четным номером – черный;\n",
        "#для карманов с 29 по 36 карманы с нечетным номером имеют черный цвет, карманы с четным номером – красный.\n",
        "#Напишите программу, которая считывает номер кармана и показывает, является ли этот карман зеленым, красным или черным. \n",
        "#Программа должна вывести сообщение об ошибке, если пользователь вводит число, которое лежит вне диапазона от 0 до 36.\n",
        "p, R, B = int(input()), 'красный', 'черный'\n",
        "if p < 0 or p > 36:\n",
        "\tprint('ошибка ввода')\n",
        "elif p == 0:\n",
        "\tprint('зеленый')\n",
        "elif p < 11:\n",
        "\tif p % 2 != 0:\n",
        "\t\tprint(R)\n",
        "\telse:\n",
        "\t\tprint(B)\n",
        "elif p < 19:\n",
        "\tif p % 2 != 0:\n",
        "\t\tprint(B)\n",
        "\telse:\n",
        "\t\tprint(R)\n",
        "elif p < 29:\n",
        "\tif p % 2 != 0:\n",
        "\t\tprint(R)\n",
        "\telse:\n",
        "\t\tprint(B)\n",
        "else:\n",
        "\tif p % 2 != 0:\n",
        "\t\tprint(B)\n",
        "\telse:\n",
        "\t\tprint(R)"
      ],
      "metadata": {
        "colab": {
          "base_uri": "https://localhost:8080/"
        },
        "id": "9qXBnOCQmjnF",
        "outputId": "44a1e17d-c81d-4d60-c926-dd0084dbfa38"
      },
      "execution_count": null,
      "outputs": [
        {
          "output_type": "stream",
          "name": "stdout",
          "text": [
            "37\n",
            "ошибка ввода\n"
          ]
        }
      ]
    },
    {
      "cell_type": "code",
      "source": [
        "a = int(input())\n",
        "if 0<=a<37:\n",
        "  if (0<a<11 or 18<a<29) and a%2 or (10<a<19 or 28<a<37) and a%2==0:\n",
        "    print('красный')\n",
        "  elif a == 0:\n",
        "    print('зеленый')\n",
        "  else:\n",
        "    print('черный')\n",
        "else:\n",
        "  print('ошибка ввода')"
      ],
      "metadata": {
        "id": "Hg6DxyCWrCDm"
      },
      "execution_count": null,
      "outputs": []
    },
    {
      "cell_type": "code",
      "source": [
        "a = int(input())\n",
        "if a == 0:\n",
        "    print(\"зеленый\")\n",
        "elif a < 0 or a > 36:\n",
        "    print(\"ошибка ввода\")\n",
        "elif (1 <= a <= 10 or 19 <= a <= 28) + (not a % 2) == 1:\n",
        "    print(\"красный\")\n",
        "else:\n",
        "    print(\"черный\")"
      ],
      "metadata": {
        "id": "UQMObOarrbtv"
      },
      "execution_count": null,
      "outputs": []
    },
    {
      "cell_type": "code",
      "source": [
        "n = int(input())\t# создал список где индекс вернет цвет поля рулетки\n",
        "print((['зеленый'] + \n",
        "       ['красный','черный'] * 5 +\n",
        "       ['черный','красный'] * 4 + \n",
        "       ['красный','черный'] * 5 +\n",
        "       ['черный','красный'] * 4) [n] if 0 <= n <= 36 else 'ошибка ввода')"
      ],
      "metadata": {
        "id": "xP4z-ZS3sPBc"
      },
      "execution_count": null,
      "outputs": []
    },
    {
      "cell_type": "code",
      "source": [
        "a = int(input())\n",
        "if a == 0:\n",
        "    print('зеленый')\n",
        "elif (1<=a<=10 or 19<=a<=28) and a%2==0:\n",
        "    print(\"черный\")\n",
        "elif (1<=a<=10 or 19<=a<=28) and a%2!=0:\n",
        "    print(\"красный\")\n",
        "elif (11<=a<=18 or 29<=a<=36) and a%2==0:\n",
        "    print(\"красный\")\n",
        "elif (11<=a<=18 or 29<=a<=36) and a%2!=0:\n",
        "    print(\"черный\")\n",
        "else:\n",
        "    print('ошибка ввода')"
      ],
      "metadata": {
        "id": "aTo8JEhNtC_Z"
      },
      "execution_count": null,
      "outputs": []
    },
    {
      "cell_type": "code",
      "source": [
        "a1, b1, a2, b2 = int(input()), int(input()), int(input()), int(input())\n",
        "if a1 == a2 and b1 == b2:\n",
        "\tprint(a1, b1)\n",
        "elif b1 < a2 or b2 < a1:\n",
        "\tprint('пустое множество')\n",
        "elif a1 <= a2:\n",
        "\tif b1 == a2:\n",
        "\t\tprint(b1)\n",
        "\telif b1 <= b2:\n",
        "\t\tprint(a2, b1)\n",
        "\telse:\n",
        "\t\tprint(a2, b2)\n",
        "elif a2 <= a1:\n",
        "\tif b2 == a1:\n",
        "\t\tprint(b2)\n",
        "\telif b2 <= b1:\n",
        "\t\tprint(a1, b2)\n",
        "\telse:\n",
        "\t\tprint(a1, b1)"
      ],
      "metadata": {
        "colab": {
          "base_uri": "https://localhost:8080/"
        },
        "id": "s-K_xbEVAMxE",
        "outputId": "963a0c05-361b-4c90-8b2b-fbe0c1e3bd56"
      },
      "execution_count": null,
      "outputs": [
        {
          "output_type": "stream",
          "name": "stdout",
          "text": [
            "5\n",
            "9\n",
            "5\n",
            "7\n",
            "5 7\n"
          ]
        }
      ]
    },
    {
      "cell_type": "code",
      "source": [
        "# Заданы две клетки шахматной доски. Напишите программу, которая определяет имеют ли указанные клетки один цвет или нет. \n",
        "# Если они покрашены в один цвет, то выведите слово «YES», а если в разные цвета — то «NO». Столбец, строка - для каждой клетки\n",
        "x1, y1, x2, y2 = int(input()), int(input()), int(input()), int(input())\n",
        "if (x1 % 2 == 0 and y1 % 2 == 0) or (x1 % 2 != 0 and y1 % 2 != 0):\t# если первая клетка белая\n",
        "\tif (x2 % 2 == 0 and y2 % 2 == 0) or (x2 % 2 != 0 and y2 % 2 != 0):\t# и вторая тоже\n",
        "\t\tprint('YES')\n",
        "\telse:\n",
        "\t\tprint('NO')\n",
        "elif (x1 % 2 != 0 and y1 % 2 == 0) or (x1 % 2 == 0 and y1 % 2 != 0):   # если первая клетка черная\n",
        "\tif (x2 % 2 != 0 and y2 % 2 == 0) or (x2 % 2 == 0 and y2 % 2 != 0): # и вторая\n",
        "\t\tprint('YES')\n",
        "\telse:\n",
        "\t\tprint('NO')"
      ],
      "metadata": {
        "colab": {
          "base_uri": "https://localhost:8080/"
        },
        "id": "CFBQWnd1fjX7",
        "outputId": "b3d7f636-264b-4a3a-d96c-b8b716402392"
      },
      "execution_count": null,
      "outputs": [
        {
          "output_type": "stream",
          "name": "stdout",
          "text": [
            "2\n",
            "2\n",
            "2\n",
            "5\n",
            "NO\n"
          ]
        }
      ]
    },
    {
      "cell_type": "code",
      "source": [
        "age, gender = int(input()), input()\n",
        "if 10 <= age <= 15 and gender == 'f': # проверяет возраст и пол для женской команды от 10-15 лет\n",
        "\tprint('YES')\n",
        "else:\n",
        "\tprint('NO')"
      ],
      "metadata": {
        "colab": {
          "base_uri": "https://localhost:8080/"
        },
        "id": "ZW0cKVyulT5s",
        "outputId": "c74f73d5-1c83-4d96-b285-79b019765f07"
      },
      "execution_count": null,
      "outputs": [
        {
          "output_type": "stream",
          "name": "stdout",
          "text": [
            "11\n",
            "m\n",
            "NO\n"
          ]
        }
      ]
    },
    {
      "cell_type": "code",
      "source": [
        "num = int(input())  # считывает целое число и выводит соответствующую ему римскую цифру от 1-10\n",
        "if num == 1:\n",
        "\tprint('I')\n",
        "elif num == 2:\n",
        "\tprint('II')\n",
        "elif num == 3:\n",
        "\tprint('III')\n",
        "elif num == 4:\n",
        "\tprint('IV')\n",
        "elif num == 5:\n",
        "\tprint('V')\n",
        "elif num == 6:\n",
        "\tprint('VI')\n",
        "elif num == 7:\n",
        "\tprint('VII')\n",
        "elif num == 8:\n",
        "\tprint('VIII')\n",
        "elif num == 9:\n",
        "\tprint('IX')\n",
        "elif num == 10:\n",
        "\tprint('X')\n",
        "else:\n",
        "\tprint(\"ошибка\")"
      ],
      "metadata": {
        "colab": {
          "base_uri": "https://localhost:8080/"
        },
        "id": "Q7JNIwGJqTGy",
        "outputId": "eae80dc0-e8b3-42f1-b8e6-065d3dcfdb86"
      },
      "execution_count": null,
      "outputs": [
        {
          "output_type": "stream",
          "name": "stdout",
          "text": [
            "11\n",
            "ошибка\n"
          ]
        }
      ]
    },
    {
      "cell_type": "code",
      "source": [
        "x1, y1, x2, y2 = int(input()), int(input()), int(input()), int(input())\n",
        "if abs(x1 - x2) == abs(y1 - y2):  # может ли слон попасть с первой клетки на вторую одним ходом\n",
        "\tprint('YES')\n",
        "else:\n",
        "\tprint('NO')"
      ],
      "metadata": {
        "id": "FbqPPULNvcs7"
      },
      "execution_count": null,
      "outputs": []
    },
    {
      "cell_type": "code",
      "source": [
        "x1, y1, x2, y2 = int(input()), int(input()), int(input()), int(input())\n",
        "if abs(x1 - x2) == 1 and abs(y1 - y2) == 2 or abs(x1 - x2) == 2 and abs(y1 - y2) == 1:\n",
        "\tprint('YES')  # может ли конь попасть с первой клетки на вторую одним ходом\n",
        "else:\n",
        "\tprint('NO')"
      ],
      "metadata": {
        "id": "Ty7Z41T4xcR9"
      },
      "execution_count": null,
      "outputs": []
    },
    {
      "cell_type": "code",
      "source": [
        "x1, y1, x2, y2 = int(input()), int(input()), int(input()), int(input())\n",
        "if x1 == x2 or y1 == y2 or abs(x1 - x2) == abs(y1 - y2):\n",
        "\tprint('YES')  # может ли ферзь попасть с первой клетки на вторую одним ходом\n",
        "else:\n",
        "\tprint('NO')"
      ],
      "metadata": {
        "id": "rQ3yEK6q1bE3"
      },
      "execution_count": null,
      "outputs": []
    },
    {
      "cell_type": "code",
      "source": [
        "print('\"Python is a great language!\", said Fred. \"I don' + \"'\" + 't ever remember having this much fun before.\"')"
      ],
      "metadata": {
        "colab": {
          "base_uri": "https://localhost:8080/"
        },
        "id": "s4wltFEZXZgb",
        "outputId": "5f64c4cd-03f5-4d82-b8b7-58c78adda210"
      },
      "execution_count": null,
      "outputs": [
        {
          "output_type": "stream",
          "name": "stdout",
          "text": [
            "\"Python is a great language!\", said Fred. \"I don't ever remember having this much fun before.\"\n"
          ]
        }
      ]
    },
    {
      "cell_type": "code",
      "source": [
        "print('Hello', input(), input() + '!', 'You just delved into Python')"
      ],
      "metadata": {
        "colab": {
          "base_uri": "https://localhost:8080/"
        },
        "id": "JQFiWid2oMgY",
        "outputId": "b311191c-5d81-4ebc-afd1-5bb9a74806fc"
      },
      "execution_count": null,
      "outputs": [
        {
          "output_type": "stream",
          "name": "stdout",
          "text": [
            "red\n",
            "red\n",
            "Hello red red! You just delved into Python\n"
          ]
        }
      ]
    },
    {
      "cell_type": "code",
      "source": [
        "a = input()\n",
        "print('Футбольная команда', a, 'имеет длину', len(a), 'символов')"
      ],
      "metadata": {
        "colab": {
          "base_uri": "https://localhost:8080/"
        },
        "id": "C50qRDl5pUfA",
        "outputId": "b1537a6b-1a6b-45c9-e74f-2c9a2a3274e0"
      },
      "execution_count": null,
      "outputs": [
        {
          "output_type": "stream",
          "name": "stdout",
          "text": [
            "Barcelona\n",
            "Футбольная команда Barcelona имеет длину 9 символов\n"
          ]
        }
      ]
    },
    {
      "cell_type": "code",
      "source": [
        "a, b, c = input(), input(), input() # можно ли из длин этих строк построить возрастающую арифметическую прогрессию\n",
        "d = (max(len(a), len(b), len(c)) - min(len(a), len(b), len(c))) / 2\n",
        "mid = len(a) + len(b) + len(c) - max(len(a), len(b), len(c)) - min(len(a), len(b), len(c))\n",
        "if (min(len(a), len(b), len(c)) + d) == mid:\n",
        "\tprint('YES')\n",
        "else:\n",
        "\tprint('NO')"
      ],
      "metadata": {
        "colab": {
          "base_uri": "https://localhost:8080/"
        },
        "id": "ZQ3Jy72Ryt-4",
        "outputId": "f78fff34-5436-4e68-c10d-923f6dc70862"
      },
      "execution_count": null,
      "outputs": [
        {
          "output_type": "stream",
          "name": "stdout",
          "text": [
            "abc\n",
            "a\n",
            "abcbc\n",
            "YES\n"
          ]
        }
      ]
    },
    {
      "cell_type": "code",
      "source": [
        "import math as m\n",
        "\n",
        "n, a = float(input()), float(input())\n",
        "S = (n * pow(a, 2)) / (4 * m.tan(m.pi / n)) # Площадь правильного многоугольника с длиной стороны a и количеством сторон n\n",
        "print(S)"
      ],
      "metadata": {
        "colab": {
          "base_uri": "https://localhost:8080/"
        },
        "id": "E5Rkp22O2JGS",
        "outputId": "56eaa6c1-747a-4bb3-89d1-ee68a94d77e4"
      },
      "execution_count": null,
      "outputs": [
        {
          "output_type": "stream",
          "name": "stdout",
          "text": [
            "3\n",
            "2.0\n",
            "1.7320508075688779\n"
          ]
        }
      ]
    },
    {
      "cell_type": "code",
      "source": [
        "# вещественные корни квадратного уравнения a*x**2+b*x+c=0\n",
        "from math import sqrt\n",
        "\n",
        "a, b, c = float(input()), float(input()), float(input())\n",
        "D = b ** 2 - 4 * a * c    # Дискриминант\n",
        "if D < 0:\n",
        "\tprint('Нет корней')\n",
        "elif D == 0:\n",
        "\tprint(-b / 2 / a)\n",
        "else:\n",
        "\tx1 = (-b + sqrt(D)) / 2 / a\n",
        "\tx2 = (-b - sqrt(D)) / 2 / a\n",
        "\tprint(min(x1, x2), max(x1, x2), sep='\\n')"
      ],
      "metadata": {
        "id": "18tggJCP5hHY"
      },
      "execution_count": null,
      "outputs": []
    },
    {
      "cell_type": "code",
      "source": [
        "import pandas as pd\n",
        "\n",
        "data = pd.read_csv('https://studio.openedu.ru/asset-v1:ITMOUniversity+DATANFST2035+cifru_2035+type@asset+block@pulsar_stars_new.csv',\n",
        "                   delimiter=',',\n",
        "                   decimal='.')"
      ],
      "metadata": {
        "id": "2eHTOzgc6dOP"
      },
      "execution_count": null,
      "outputs": []
    },
    {
      "cell_type": "code",
      "source": [
        "data.head()"
      ],
      "metadata": {
        "colab": {
          "base_uri": "https://localhost:8080/",
          "height": 206
        },
        "id": "fwcI1saV7hX2",
        "outputId": "0488543e-df79-4812-fce7-b28924d4b165"
      },
      "execution_count": null,
      "outputs": [
        {
          "output_type": "execute_result",
          "data": {
            "text/plain": [
              "          MIP      STDIP      EKIP       SIP        MC       STDC        EKC  \\\n",
              "0  140.562500  55.683782 -0.234571 -0.699648  3.199833  19.110426   7.975532   \n",
              "1  102.507812  58.882430  0.465318 -0.515088  1.677258  14.860146  10.576487   \n",
              "2  103.015625  39.341649  0.323328  1.051164  3.121237  21.744669   7.735822   \n",
              "3  136.750000  57.178449 -0.068415 -0.636238  3.642977  20.959280   6.896499   \n",
              "4   88.726562  40.672225  0.600866  1.123492  1.178930  11.468720  14.269573   \n",
              "\n",
              "           SC  TG  \n",
              "0   74.242225   0  \n",
              "1  127.393580   0  \n",
              "2   63.171909   0  \n",
              "3   53.593661   0  \n",
              "4  252.567306   0  "
            ],
            "text/html": [
              "\n",
              "  <div id=\"df-4e8d7f00-5d7a-40a7-8dd6-31b63de236c1\">\n",
              "    <div class=\"colab-df-container\">\n",
              "      <div>\n",
              "<style scoped>\n",
              "    .dataframe tbody tr th:only-of-type {\n",
              "        vertical-align: middle;\n",
              "    }\n",
              "\n",
              "    .dataframe tbody tr th {\n",
              "        vertical-align: top;\n",
              "    }\n",
              "\n",
              "    .dataframe thead th {\n",
              "        text-align: right;\n",
              "    }\n",
              "</style>\n",
              "<table border=\"1\" class=\"dataframe\">\n",
              "  <thead>\n",
              "    <tr style=\"text-align: right;\">\n",
              "      <th></th>\n",
              "      <th>MIP</th>\n",
              "      <th>STDIP</th>\n",
              "      <th>EKIP</th>\n",
              "      <th>SIP</th>\n",
              "      <th>MC</th>\n",
              "      <th>STDC</th>\n",
              "      <th>EKC</th>\n",
              "      <th>SC</th>\n",
              "      <th>TG</th>\n",
              "    </tr>\n",
              "  </thead>\n",
              "  <tbody>\n",
              "    <tr>\n",
              "      <th>0</th>\n",
              "      <td>140.562500</td>\n",
              "      <td>55.683782</td>\n",
              "      <td>-0.234571</td>\n",
              "      <td>-0.699648</td>\n",
              "      <td>3.199833</td>\n",
              "      <td>19.110426</td>\n",
              "      <td>7.975532</td>\n",
              "      <td>74.242225</td>\n",
              "      <td>0</td>\n",
              "    </tr>\n",
              "    <tr>\n",
              "      <th>1</th>\n",
              "      <td>102.507812</td>\n",
              "      <td>58.882430</td>\n",
              "      <td>0.465318</td>\n",
              "      <td>-0.515088</td>\n",
              "      <td>1.677258</td>\n",
              "      <td>14.860146</td>\n",
              "      <td>10.576487</td>\n",
              "      <td>127.393580</td>\n",
              "      <td>0</td>\n",
              "    </tr>\n",
              "    <tr>\n",
              "      <th>2</th>\n",
              "      <td>103.015625</td>\n",
              "      <td>39.341649</td>\n",
              "      <td>0.323328</td>\n",
              "      <td>1.051164</td>\n",
              "      <td>3.121237</td>\n",
              "      <td>21.744669</td>\n",
              "      <td>7.735822</td>\n",
              "      <td>63.171909</td>\n",
              "      <td>0</td>\n",
              "    </tr>\n",
              "    <tr>\n",
              "      <th>3</th>\n",
              "      <td>136.750000</td>\n",
              "      <td>57.178449</td>\n",
              "      <td>-0.068415</td>\n",
              "      <td>-0.636238</td>\n",
              "      <td>3.642977</td>\n",
              "      <td>20.959280</td>\n",
              "      <td>6.896499</td>\n",
              "      <td>53.593661</td>\n",
              "      <td>0</td>\n",
              "    </tr>\n",
              "    <tr>\n",
              "      <th>4</th>\n",
              "      <td>88.726562</td>\n",
              "      <td>40.672225</td>\n",
              "      <td>0.600866</td>\n",
              "      <td>1.123492</td>\n",
              "      <td>1.178930</td>\n",
              "      <td>11.468720</td>\n",
              "      <td>14.269573</td>\n",
              "      <td>252.567306</td>\n",
              "      <td>0</td>\n",
              "    </tr>\n",
              "  </tbody>\n",
              "</table>\n",
              "</div>\n",
              "      <button class=\"colab-df-convert\" onclick=\"convertToInteractive('df-4e8d7f00-5d7a-40a7-8dd6-31b63de236c1')\"\n",
              "              title=\"Convert this dataframe to an interactive table.\"\n",
              "              style=\"display:none;\">\n",
              "        \n",
              "  <svg xmlns=\"http://www.w3.org/2000/svg\" height=\"24px\"viewBox=\"0 0 24 24\"\n",
              "       width=\"24px\">\n",
              "    <path d=\"M0 0h24v24H0V0z\" fill=\"none\"/>\n",
              "    <path d=\"M18.56 5.44l.94 2.06.94-2.06 2.06-.94-2.06-.94-.94-2.06-.94 2.06-2.06.94zm-11 1L8.5 8.5l.94-2.06 2.06-.94-2.06-.94L8.5 2.5l-.94 2.06-2.06.94zm10 10l.94 2.06.94-2.06 2.06-.94-2.06-.94-.94-2.06-.94 2.06-2.06.94z\"/><path d=\"M17.41 7.96l-1.37-1.37c-.4-.4-.92-.59-1.43-.59-.52 0-1.04.2-1.43.59L10.3 9.45l-7.72 7.72c-.78.78-.78 2.05 0 2.83L4 21.41c.39.39.9.59 1.41.59.51 0 1.02-.2 1.41-.59l7.78-7.78 2.81-2.81c.8-.78.8-2.07 0-2.86zM5.41 20L4 18.59l7.72-7.72 1.47 1.35L5.41 20z\"/>\n",
              "  </svg>\n",
              "      </button>\n",
              "      \n",
              "  <style>\n",
              "    .colab-df-container {\n",
              "      display:flex;\n",
              "      flex-wrap:wrap;\n",
              "      gap: 12px;\n",
              "    }\n",
              "\n",
              "    .colab-df-convert {\n",
              "      background-color: #E8F0FE;\n",
              "      border: none;\n",
              "      border-radius: 50%;\n",
              "      cursor: pointer;\n",
              "      display: none;\n",
              "      fill: #1967D2;\n",
              "      height: 32px;\n",
              "      padding: 0 0 0 0;\n",
              "      width: 32px;\n",
              "    }\n",
              "\n",
              "    .colab-df-convert:hover {\n",
              "      background-color: #E2EBFA;\n",
              "      box-shadow: 0px 1px 2px rgba(60, 64, 67, 0.3), 0px 1px 3px 1px rgba(60, 64, 67, 0.15);\n",
              "      fill: #174EA6;\n",
              "    }\n",
              "\n",
              "    [theme=dark] .colab-df-convert {\n",
              "      background-color: #3B4455;\n",
              "      fill: #D2E3FC;\n",
              "    }\n",
              "\n",
              "    [theme=dark] .colab-df-convert:hover {\n",
              "      background-color: #434B5C;\n",
              "      box-shadow: 0px 1px 3px 1px rgba(0, 0, 0, 0.15);\n",
              "      filter: drop-shadow(0px 1px 2px rgba(0, 0, 0, 0.3));\n",
              "      fill: #FFFFFF;\n",
              "    }\n",
              "  </style>\n",
              "\n",
              "      <script>\n",
              "        const buttonEl =\n",
              "          document.querySelector('#df-4e8d7f00-5d7a-40a7-8dd6-31b63de236c1 button.colab-df-convert');\n",
              "        buttonEl.style.display =\n",
              "          google.colab.kernel.accessAllowed ? 'block' : 'none';\n",
              "\n",
              "        async function convertToInteractive(key) {\n",
              "          const element = document.querySelector('#df-4e8d7f00-5d7a-40a7-8dd6-31b63de236c1');\n",
              "          const dataTable =\n",
              "            await google.colab.kernel.invokeFunction('convertToInteractive',\n",
              "                                                     [key], {});\n",
              "          if (!dataTable) return;\n",
              "\n",
              "          const docLinkHtml = 'Like what you see? Visit the ' +\n",
              "            '<a target=\"_blank\" href=https://colab.research.google.com/notebooks/data_table.ipynb>data table notebook</a>'\n",
              "            + ' to learn more about interactive tables.';\n",
              "          element.innerHTML = '';\n",
              "          dataTable['output_type'] = 'display_data';\n",
              "          await google.colab.output.renderOutput(dataTable, element);\n",
              "          const docLink = document.createElement('div');\n",
              "          docLink.innerHTML = docLinkHtml;\n",
              "          element.appendChild(docLink);\n",
              "        }\n",
              "      </script>\n",
              "    </div>\n",
              "  </div>\n",
              "  "
            ]
          },
          "metadata": {},
          "execution_count": 5
        }
      ]
    },
    {
      "cell_type": "code",
      "source": [
        "sample_data = data[((data.TG == 0) & (data.MIP >= 96.921875) & (data.MIP <= 97.4140625)) | ((data.TG == 1) & (data.MIP >= 41.8828125) & (data.MIP <= 47.4140625))]"
      ],
      "metadata": {
        "id": "NG4PBOEc76zq"
      },
      "execution_count": null,
      "outputs": []
    },
    {
      "cell_type": "code",
      "source": [
        "sample_data.MIP.mean()"
      ],
      "metadata": {
        "colab": {
          "base_uri": "https://localhost:8080/"
        },
        "id": "bP8B4wxb8BW4",
        "outputId": "e4082c24-ae83-42a4-9e90-f5fa78f14b79"
      },
      "execution_count": null,
      "outputs": [
        {
          "output_type": "execute_result",
          "data": {
            "text/plain": [
              "70.79517326732673"
            ]
          },
          "metadata": {},
          "execution_count": 7
        }
      ]
    },
    {
      "cell_type": "code",
      "source": [
        "round(sample_data.MIP.mean(), 3)"
      ],
      "metadata": {
        "colab": {
          "base_uri": "https://localhost:8080/"
        },
        "id": "eWfmyt3s8qjJ",
        "outputId": "bcf86efc-c7e9-401f-c050-c31993838026"
      },
      "execution_count": null,
      "outputs": [
        {
          "output_type": "execute_result",
          "data": {
            "text/plain": [
              "70.795"
            ]
          },
          "metadata": {},
          "execution_count": 8
        }
      ]
    },
    {
      "cell_type": "code",
      "source": [
        "sample_data.index  # число строк"
      ],
      "metadata": {
        "colab": {
          "base_uri": "https://localhost:8080/"
        },
        "id": "0zMhuYYc9vWX",
        "outputId": "ca2864ec-622c-4c59-bf07-f5226a7b668d"
      },
      "execution_count": null,
      "outputs": [
        {
          "output_type": "execute_result",
          "data": {
            "text/plain": [
              "Int64Index([   98,   145,   346,   358,   445,   505,   512,   561,   562,\n",
              "              668,\n",
              "            ...\n",
              "            16786, 16848, 16857, 17044, 17143, 17186, 17243, 17359, 17539,\n",
              "            17748],\n",
              "           dtype='int64', length=202)"
            ]
          },
          "metadata": {},
          "execution_count": 9
        }
      ]
    },
    {
      "cell_type": "code",
      "source": [
        "# Колонка 'name' должна быть использована в качестве индекса. Десятичный разделитель — точка, разделитель колонок — запятая.\n",
        "# Отсортируйте данные по возрастанию мощности автомобилей (колонка hp) и постройте график зависимости ускорения от мощности (accel) от hp))\n",
        "\n",
        "from pandas import Series, DataFrame  # Подключим библиотеки, импортируем данные\n",
        "import pandas as pd\n",
        "import matplotlib.pyplot as plt\n",
        "%matplotlib inline\n",
        "\n",
        "all_cars = pd.read_csv('https://courses.openedu.ru/assets/courseware/v1/b6cb4ea6a069a5a588596dd9e12de293/asset-v1:ITMOUniversity+DATANTECH2035+fall_2022_2+type@asset+block/auto-mpg-quiz.csv',\n",
        "                       delimiter = ',',\n",
        "                       decimal = '.',\n",
        "                       index_col = 'name')"
      ],
      "metadata": {
        "id": "jqS79DOK9VtK"
      },
      "execution_count": null,
      "outputs": []
    },
    {
      "cell_type": "code",
      "source": [
        "all_cars.head() # проверим, что корректный импорт, выведем первые 5 строк"
      ],
      "metadata": {
        "colab": {
          "base_uri": "https://localhost:8080/",
          "height": 237
        },
        "id": "CerNofvA-qdJ",
        "outputId": "53145f49-ebfc-477c-bdc9-610477af3263"
      },
      "execution_count": null,
      "outputs": [
        {
          "output_type": "execute_result",
          "data": {
            "text/plain": [
              "                            mpg  cyl  displ   hp  weight  accel  yr  origin\n",
              "name                                                                       \n",
              "chevrolet chevelle malibu  18.0    8  307.0  130    3504   12.0  70       1\n",
              "buick skylark 320          15.0    8  350.0  165    3693   11.5  70       1\n",
              "plymouth satellite         18.0    8  318.0  150    3436   11.0  70       1\n",
              "amc rebel sst              16.0    8  304.0  150    3433   12.0  70       1\n",
              "ford torino                17.0    8  302.0  140    3449   10.5  70       1"
            ],
            "text/html": [
              "\n",
              "  <div id=\"df-7c299758-363a-4c08-bccd-6b6cb19cfe31\">\n",
              "    <div class=\"colab-df-container\">\n",
              "      <div>\n",
              "<style scoped>\n",
              "    .dataframe tbody tr th:only-of-type {\n",
              "        vertical-align: middle;\n",
              "    }\n",
              "\n",
              "    .dataframe tbody tr th {\n",
              "        vertical-align: top;\n",
              "    }\n",
              "\n",
              "    .dataframe thead th {\n",
              "        text-align: right;\n",
              "    }\n",
              "</style>\n",
              "<table border=\"1\" class=\"dataframe\">\n",
              "  <thead>\n",
              "    <tr style=\"text-align: right;\">\n",
              "      <th></th>\n",
              "      <th>mpg</th>\n",
              "      <th>cyl</th>\n",
              "      <th>displ</th>\n",
              "      <th>hp</th>\n",
              "      <th>weight</th>\n",
              "      <th>accel</th>\n",
              "      <th>yr</th>\n",
              "      <th>origin</th>\n",
              "    </tr>\n",
              "    <tr>\n",
              "      <th>name</th>\n",
              "      <th></th>\n",
              "      <th></th>\n",
              "      <th></th>\n",
              "      <th></th>\n",
              "      <th></th>\n",
              "      <th></th>\n",
              "      <th></th>\n",
              "      <th></th>\n",
              "    </tr>\n",
              "  </thead>\n",
              "  <tbody>\n",
              "    <tr>\n",
              "      <th>chevrolet chevelle malibu</th>\n",
              "      <td>18.0</td>\n",
              "      <td>8</td>\n",
              "      <td>307.0</td>\n",
              "      <td>130</td>\n",
              "      <td>3504</td>\n",
              "      <td>12.0</td>\n",
              "      <td>70</td>\n",
              "      <td>1</td>\n",
              "    </tr>\n",
              "    <tr>\n",
              "      <th>buick skylark 320</th>\n",
              "      <td>15.0</td>\n",
              "      <td>8</td>\n",
              "      <td>350.0</td>\n",
              "      <td>165</td>\n",
              "      <td>3693</td>\n",
              "      <td>11.5</td>\n",
              "      <td>70</td>\n",
              "      <td>1</td>\n",
              "    </tr>\n",
              "    <tr>\n",
              "      <th>plymouth satellite</th>\n",
              "      <td>18.0</td>\n",
              "      <td>8</td>\n",
              "      <td>318.0</td>\n",
              "      <td>150</td>\n",
              "      <td>3436</td>\n",
              "      <td>11.0</td>\n",
              "      <td>70</td>\n",
              "      <td>1</td>\n",
              "    </tr>\n",
              "    <tr>\n",
              "      <th>amc rebel sst</th>\n",
              "      <td>16.0</td>\n",
              "      <td>8</td>\n",
              "      <td>304.0</td>\n",
              "      <td>150</td>\n",
              "      <td>3433</td>\n",
              "      <td>12.0</td>\n",
              "      <td>70</td>\n",
              "      <td>1</td>\n",
              "    </tr>\n",
              "    <tr>\n",
              "      <th>ford torino</th>\n",
              "      <td>17.0</td>\n",
              "      <td>8</td>\n",
              "      <td>302.0</td>\n",
              "      <td>140</td>\n",
              "      <td>3449</td>\n",
              "      <td>10.5</td>\n",
              "      <td>70</td>\n",
              "      <td>1</td>\n",
              "    </tr>\n",
              "  </tbody>\n",
              "</table>\n",
              "</div>\n",
              "      <button class=\"colab-df-convert\" onclick=\"convertToInteractive('df-7c299758-363a-4c08-bccd-6b6cb19cfe31')\"\n",
              "              title=\"Convert this dataframe to an interactive table.\"\n",
              "              style=\"display:none;\">\n",
              "        \n",
              "  <svg xmlns=\"http://www.w3.org/2000/svg\" height=\"24px\"viewBox=\"0 0 24 24\"\n",
              "       width=\"24px\">\n",
              "    <path d=\"M0 0h24v24H0V0z\" fill=\"none\"/>\n",
              "    <path d=\"M18.56 5.44l.94 2.06.94-2.06 2.06-.94-2.06-.94-.94-2.06-.94 2.06-2.06.94zm-11 1L8.5 8.5l.94-2.06 2.06-.94-2.06-.94L8.5 2.5l-.94 2.06-2.06.94zm10 10l.94 2.06.94-2.06 2.06-.94-2.06-.94-.94-2.06-.94 2.06-2.06.94z\"/><path d=\"M17.41 7.96l-1.37-1.37c-.4-.4-.92-.59-1.43-.59-.52 0-1.04.2-1.43.59L10.3 9.45l-7.72 7.72c-.78.78-.78 2.05 0 2.83L4 21.41c.39.39.9.59 1.41.59.51 0 1.02-.2 1.41-.59l7.78-7.78 2.81-2.81c.8-.78.8-2.07 0-2.86zM5.41 20L4 18.59l7.72-7.72 1.47 1.35L5.41 20z\"/>\n",
              "  </svg>\n",
              "      </button>\n",
              "      \n",
              "  <style>\n",
              "    .colab-df-container {\n",
              "      display:flex;\n",
              "      flex-wrap:wrap;\n",
              "      gap: 12px;\n",
              "    }\n",
              "\n",
              "    .colab-df-convert {\n",
              "      background-color: #E8F0FE;\n",
              "      border: none;\n",
              "      border-radius: 50%;\n",
              "      cursor: pointer;\n",
              "      display: none;\n",
              "      fill: #1967D2;\n",
              "      height: 32px;\n",
              "      padding: 0 0 0 0;\n",
              "      width: 32px;\n",
              "    }\n",
              "\n",
              "    .colab-df-convert:hover {\n",
              "      background-color: #E2EBFA;\n",
              "      box-shadow: 0px 1px 2px rgba(60, 64, 67, 0.3), 0px 1px 3px 1px rgba(60, 64, 67, 0.15);\n",
              "      fill: #174EA6;\n",
              "    }\n",
              "\n",
              "    [theme=dark] .colab-df-convert {\n",
              "      background-color: #3B4455;\n",
              "      fill: #D2E3FC;\n",
              "    }\n",
              "\n",
              "    [theme=dark] .colab-df-convert:hover {\n",
              "      background-color: #434B5C;\n",
              "      box-shadow: 0px 1px 3px 1px rgba(0, 0, 0, 0.15);\n",
              "      filter: drop-shadow(0px 1px 2px rgba(0, 0, 0, 0.3));\n",
              "      fill: #FFFFFF;\n",
              "    }\n",
              "  </style>\n",
              "\n",
              "      <script>\n",
              "        const buttonEl =\n",
              "          document.querySelector('#df-7c299758-363a-4c08-bccd-6b6cb19cfe31 button.colab-df-convert');\n",
              "        buttonEl.style.display =\n",
              "          google.colab.kernel.accessAllowed ? 'block' : 'none';\n",
              "\n",
              "        async function convertToInteractive(key) {\n",
              "          const element = document.querySelector('#df-7c299758-363a-4c08-bccd-6b6cb19cfe31');\n",
              "          const dataTable =\n",
              "            await google.colab.kernel.invokeFunction('convertToInteractive',\n",
              "                                                     [key], {});\n",
              "          if (!dataTable) return;\n",
              "\n",
              "          const docLinkHtml = 'Like what you see? Visit the ' +\n",
              "            '<a target=\"_blank\" href=https://colab.research.google.com/notebooks/data_table.ipynb>data table notebook</a>'\n",
              "            + ' to learn more about interactive tables.';\n",
              "          element.innerHTML = '';\n",
              "          dataTable['output_type'] = 'display_data';\n",
              "          await google.colab.output.renderOutput(dataTable, element);\n",
              "          const docLink = document.createElement('div');\n",
              "          docLink.innerHTML = docLinkHtml;\n",
              "          element.appendChild(docLink);\n",
              "        }\n",
              "      </script>\n",
              "    </div>\n",
              "  </div>\n",
              "  "
            ]
          },
          "metadata": {},
          "execution_count": 4
        }
      ]
    },
    {
      "cell_type": "code",
      "source": [
        "all_cars_sorted = all_cars.sort_values(by=['hp']) # выполним сортировку по колонке hp"
      ],
      "metadata": {
        "id": "sXgxbYXX_VhS"
      },
      "execution_count": null,
      "outputs": []
    },
    {
      "cell_type": "code",
      "source": [
        "plt.plot('hp', 'accel', data=all_cars_sorted) # Выведем график\n",
        "plt.show()"
      ],
      "metadata": {
        "colab": {
          "base_uri": "https://localhost:8080/",
          "height": 265
        },
        "id": "a1OTnFP2_xcp",
        "outputId": "20b2c3bd-ed86-4697-ecc3-5e6e6c7fa3df"
      },
      "execution_count": null,
      "outputs": [
        {
          "output_type": "display_data",
          "data": {
            "text/plain": [
              "<Figure size 432x288 with 1 Axes>"
            ],
            "image/png": "[encoded data removed]"
          },
          "metadata": {
            "needs_background": "light"
          }
        }
      ]
    },
    {
      "cell_type": "code",
      "source": [
        "# Постройте гистограмму распределения лошадиных сил (столбец hp) среди автомобилей. \n",
        "# Используйте метод hist библиотеки matplotlib с параметрами по умолчанию.\n",
        "\n",
        "plt.hist('hp', data=all_cars)\n",
        "plt.show()"
      ],
      "metadata": {
        "colab": {
          "base_uri": "https://localhost:8080/",
          "height": 265
        },
        "id": "WaclOMMSAodG",
        "outputId": "b5313183-e34b-4356-a9e2-037f7a05d347"
      },
      "execution_count": null,
      "outputs": [
        {
          "output_type": "display_data",
          "data": {
            "text/plain": [
              "<Figure size 432x288 with 1 Axes>"
            ],
            "image/png": "[encoded data removed]"
          },
          "metadata": {
            "needs_background": "light"
          }
        }
      ]
    },
    {
      "cell_type": "code",
      "source": [
        "# Выполните агрегацию данных, определив количество автомобилей с определенным числом цилиндров (столбец cyl). \n",
        "# Постройте пирог (метод pie библиотеки matplotlib)\n",
        "\n",
        "pie_data = all_cars.groupby(['cyl']).count()  # В каждом из столбцов полученной таблицы \n",
        "#содержится количество автомобилей в группе, в индексе указано число цилиндров."
      ],
      "metadata": {
        "id": "ZghdBrqyBTOT"
      },
      "execution_count": null,
      "outputs": []
    },
    {
      "cell_type": "code",
      "source": [
        "plt.pie(pie_data['mpg'], labels=pie_data.index)\n",
        "plt.show()  "
      ],
      "metadata": {
        "colab": {
          "base_uri": "https://localhost:8080/",
          "height": 248
        },
        "id": "3vsJS98CBgGs",
        "outputId": "52c03f65-8d26-49a2-c450-42b369f2555d"
      },
      "execution_count": null,
      "outputs": [
        {
          "output_type": "display_data",
          "data": {
            "text/plain": [
              "<Figure size 432x288 with 1 Axes>"
            ],
            "image/png": "[encoded data removed]"
          },
          "metadata": {}
        }
      ]
    },
    {
      "cell_type": "code",
      "source": [
        "#найдите пять натуральных чисел a,b,c,d,e удовлетворяющих условию: a**5+b**5+c**5+d**5=e**5.\n",
        "#В ответе укажите сумму a+b+c+d+e.\n",
        "#Используйте вложенный цикл for.\n",
        "#Считайте, что числа a,b,c,d,e не превосходят 150.\n",
        "from math import floor\n",
        "\n",
        "flag = 0\n",
        "for a in range(1, 151):\n",
        "    for b in range(a + 1, 151):\n",
        "        for c in range(b + 1, 151):\n",
        "            for d in range(c + 1, 151):\n",
        "                total = a ** 5 + b ** 5 + c ** 5 + d ** 5\n",
        "                e = floor((a ** 5 + b ** 5 + c ** 5 + d ** 5)**0.2)\n",
        "                if total == e ** 5:\n",
        "                    print(a, b, c, d, e, a + b + c + d + e)\n",
        "                    flag = 1\n",
        "                    break\n",
        "            if flag == 1:\n",
        "                break\n",
        "        if flag == 1:\n",
        "            break\n",
        "    if flag == 1:\n",
        "        break"
      ],
      "metadata": {
        "colab": {
          "base_uri": "https://localhost:8080/"
        },
        "id": "EHLbyqPronxr",
        "outputId": "45ec406c-af91-4f2c-c276-ac4929b78385"
      },
      "execution_count": null,
      "outputs": [
        {
          "output_type": "stream",
          "name": "stdout",
          "text": [
            "27 84 110 133 144 498\n"
          ]
        }
      ]
    },
    {
      "cell_type": "code",
      "source": [
        "#Дано натуральное число n. Напишите программу, которая печатает численный треугольник с высотой равной n\n",
        "count = 0\n",
        "n = int(input())\n",
        "for i in range(1, n + 1):\n",
        "    for _ in range(i):\n",
        "        count += 1\n",
        "        print(count, end=' ')\n",
        "    print()"
      ],
      "metadata": {
        "colab": {
          "base_uri": "https://localhost:8080/"
        },
        "id": "vapnwceG8F3-",
        "outputId": "8ac985f6-c450-4878-b5e6-5f4966f2071a"
      },
      "execution_count": null,
      "outputs": [
        {
          "output_type": "stream",
          "name": "stdout",
          "text": [
            "7\n",
            "1 \n",
            "2 3 \n",
            "4 5 6 \n",
            "7 8 9 10 \n",
            "11 12 13 14 15 \n",
            "16 17 18 19 20 21 \n",
            "22 23 24 25 26 27 28 \n"
          ]
        }
      ]
    },
    {
      "cell_type": "code",
      "source": [
        "#Дано натуральное число n. Напишите программу, которая печатает численный треугольник с высотой равной n, в соответствии с примером:   \n",
        "#(число строк n, в каждой строке нечетное число цифр (1,3,5,7), цифры по возрастанию к середине затем убыванию в строке)\n",
        "n = int(input())\n",
        "for i in range(1, n + 1):\n",
        "    for j in range(1, i):\n",
        "        print(j, end='') \n",
        "    for j in range(i, 0, -1):\n",
        "        print(j, end='')\n",
        "    print()"
      ],
      "metadata": {
        "colab": {
          "base_uri": "https://localhost:8080/"
        },
        "id": "gPTg-kESE0Nz",
        "outputId": "73ecb14e-2f06-422b-de65-03a4e644bb26"
      },
      "execution_count": null,
      "outputs": [
        {
          "output_type": "stream",
          "name": "stdout",
          "text": [
            "7\n",
            "1\n",
            "121\n",
            "12321\n",
            "1234321\n",
            "123454321\n",
            "12345654321\n",
            "1234567654321\n"
          ]
        }
      ]
    },
    {
      "cell_type": "code",
      "source": [
        "#На вход программе подается два натуральных числа a и b (a < b). \n",
        "#Напишите программу, которая находит натуральное число из отрезка [a;b] с максимальной суммой делителей.\n",
        "#Программа должна вывести два числа на одной строке, разделенных пробелом: число с максимальной суммой делителей и сумму его делителей.\n",
        "#Примечание. Если таких чисел несколько, то выведите наибольшее из них.\n",
        "a, b = int(input()), int(input())\n",
        "largest, total_l = 0, 0\n",
        "for i in range(b, a - 1, -1):\n",
        "    total = 1 + i\n",
        "    for j in range(2, i // 2 + 1):\n",
        "        if i % j == 0:\n",
        "            total += j\n",
        "    if total > total_l:\n",
        "        largest, total_l = i, total\n",
        "    elif total == total_l:\n",
        "        if i > largest:\n",
        "            largest, total_l = i, total\n",
        "print(largest, total_l)"
      ],
      "metadata": {
        "colab": {
          "base_uri": "https://localhost:8080/"
        },
        "id": "e-w9ZY_qq04a",
        "outputId": "803fd23c-ee26-4382-e924-66ed416a02d7"
      },
      "execution_count": null,
      "outputs": [
        {
          "output_type": "stream",
          "name": "stdout",
          "text": [
            "1\n",
            "10\n",
            "10 18\n"
          ]
        }
      ]
    },
    {
      "cell_type": "code",
      "source": [
        "n = int(input())\n",
        "for i in range(1, n + 1):\n",
        "    count = 0\n",
        "    for j in range(1, i + 1):\n",
        "        if i % j == 0:\n",
        "            count += 1\n",
        "    print(i, count * '+', sep='')"
      ],
      "metadata": {
        "colab": {
          "base_uri": "https://localhost:8080/"
        },
        "id": "t5HntKAC7_z0",
        "outputId": "4eaa582f-16ea-4de1-9172-4fb94fac3901"
      },
      "execution_count": null,
      "outputs": [
        {
          "output_type": "stream",
          "name": "stdout",
          "text": [
            "5\n",
            "1+\n",
            "2++\n",
            "3++\n",
            "4+++\n",
            "5++\n"
          ]
        }
      ]
    },
    {
      "cell_type": "code",
      "source": [
        "#На вход программе подается натуральное число n. Напишите программу, которая находит цифровой корень данного числа. \n",
        "#Цифровой корень числа n получается следующим образом: если сложить все цифры этого числа, \n",
        "#затем все цифры найденной суммы и повторить этот процесс, то в результате будет получено однозначное число (цифра), \n",
        "#которое и называется цифровым корнем данного числа.\n",
        "n = int(input())\n",
        "def root_n(n):\n",
        "    total = 0\n",
        "    while n:\n",
        "        total += n % 10\n",
        "        n //= 10\n",
        "    return total\n",
        "\n",
        "while n // 10:\n",
        "    n = root_n(n)\n",
        "print(n)"
      ],
      "metadata": {
        "colab": {
          "base_uri": "https://localhost:8080/"
        },
        "id": "2eK15bl3Uirs",
        "outputId": "e21b9ecf-70ac-4fdd-e91f-a78cc00cac2f"
      },
      "execution_count": null,
      "outputs": [
        {
          "output_type": "stream",
          "name": "stdout",
          "text": [
            "192\n",
            "3\n"
          ]
        }
      ]
    },
    {
      "cell_type": "markdown",
      "source": [
        "Дано натуральное число nn. Напишите программу, которая выводит значение суммы 1!+2!+3!+…+n!"
      ],
      "metadata": {
        "id": "pOR2RrRqYnVL"
      }
    },
    {
      "cell_type": "code",
      "source": [
        "from math import factorial\n",
        "\n",
        "n, total = int(input()), 0\n",
        "for i in range(1, n + 1):\n",
        "    total += factorial(i)\n",
        "print(total)"
      ],
      "metadata": {
        "colab": {
          "base_uri": "https://localhost:8080/"
        },
        "id": "2KgITMeBY8EJ",
        "outputId": "0f589edc-f3a2-4148-a797-8203b575105e"
      },
      "execution_count": null,
      "outputs": [
        {
          "output_type": "stream",
          "name": "stdout",
          "text": [
            "3\n",
            "9\n"
          ]
        }
      ]
    },
    {
      "cell_type": "markdown",
      "source": [
        "На вход программе подается два натуральных числа a и b (a < b). Напишите программу, которая находит все простые числа от a до b включительно."
      ],
      "metadata": {
        "id": "fhgyEeRte3NY"
      }
    },
    {
      "cell_type": "code",
      "source": [
        "a, b = int(input()), int(input())\n",
        "if a == 1:  # 1 не является простым числом, сразу его исключаем\n",
        "    a += 1\n",
        "for i in range(a, b + 1):\n",
        "    count = 0\n",
        "    for j in range(2, i // 2 + 1):  # простые делятся только на себя и 1 (достаточно проверить делители до n/2)\n",
        "        if i % j == 0:\n",
        "            count += 1\n",
        "    if not count:\n",
        "        print(i)"
      ],
      "metadata": {
        "id": "id_R7Node6s0"
      },
      "execution_count": null,
      "outputs": []
    },
    {
      "cell_type": "markdown",
      "source": [
        "Это наименьшее число, выражаемое как сумма двух кубов двумя разными способами\n",
        "Напишите программу, которая находит аналогичные интересные числа. В ответе запишите первые 5 чисел в порядке возрастания, включая число 1729.\n",
        "Примечание. Используйте вложенный цикл.\n",
        "Обратите внимание на закономерность: a < c < d < b (или, если хотите, a > c > d > b). Т.о. можно ограничивать правые границы последовательностей.\n"
      ],
      "metadata": {
        "id": "twiv--GGr4A9"
      }
    },
    {
      "cell_type": "code",
      "source": [
        "count, list_0 = 0, []\n",
        "for i in range(1, 20):\n",
        "    for j in range(2, 40):\n",
        "        for k in range(3, 50):\n",
        "            for n in range(4, 60):\n",
        "                if i**3 + j**3 == k**3 + n**3 and (i not in (j, k, n) or j not in (i, k, n) or k not in (i, j, n) or n not in (i, j, k)):\n",
        "                    print(i**3 + j**3, i, j, k, n)\n",
        "                    count += 1\n",
        "                    list_0.append(i**3 + j**3)\n",
        "                    if count == 15:\n",
        "                        break\n",
        "                if count == 15:\n",
        "                    break    \n",
        "            if count == 15:\n",
        "                break\n",
        "        if count == 15:\n",
        "            break\n",
        "    if count == 15:\n",
        "        break\n",
        "list_0 = sorted(list(set(list_0)))\n",
        "print(list_0)      "
      ],
      "metadata": {
        "colab": {
          "base_uri": "https://localhost:8080/"
        },
        "id": "DyKvOA67R0XC",
        "outputId": "602e3025-1823-4516-b6df-bcc5cf4f12de"
      },
      "execution_count": null,
      "outputs": [
        {
          "output_type": "stream",
          "name": "stdout",
          "text": [
            "1729 1 12 9 10\n",
            "1729 1 12 10 9\n",
            "4104 2 16 9 15\n",
            "4104 2 16 15 9\n",
            "13832 2 24 18 20\n",
            "13832 2 24 20 18\n",
            "39312 2 34 15 33\n",
            "39312 2 34 33 15\n",
            "46683 3 36 27 30\n",
            "46683 3 36 30 27\n",
            "32832 4 32 18 30\n",
            "32832 4 32 30 18\n",
            "40033 9 34 16 33\n",
            "40033 9 34 33 16\n",
            "20683 10 27 19 24\n",
            "[1729, 4104, 13832, 20683, 32832, 39312, 40033, 46683]\n"
          ]
        }
      ]
    },
    {
      "cell_type": "code",
      "source": [
        "s = input()\n",
        "start = s.find('h')\n",
        "end = s.rfind('h') + 1\n",
        "slice_s = s[start:end]\n",
        "print(s.replace(slice_s, ''))"
      ],
      "metadata": {
        "colab": {
          "base_uri": "https://localhost:8080/"
        },
        "id": "NB-EqjXolKs5",
        "outputId": "d6bd65d7-304e-430d-d6b7-a5c42279b1a8"
      },
      "execution_count": null,
      "outputs": [
        {
          "output_type": "stream",
          "name": "stdout",
          "text": [
            "ahahahahaha\n",
            "aa\n"
          ]
        }
      ]
    },
    {
      "cell_type": "code",
      "source": [
        "dir(list)"
      ],
      "metadata": {
        "colab": {
          "base_uri": "https://localhost:8080/"
        },
        "id": "A6DHJHiFpYly",
        "outputId": "8dbdc79d-00bf-431d-e75d-60c73a7f3948"
      },
      "execution_count": null,
      "outputs": [
        {
          "output_type": "execute_result",
          "data": {
            "text/plain": [
              "['__add__',\n",
              " '__class__',\n",
              " '__contains__',\n",
              " '__delattr__',\n",
              " '__delitem__',\n",
              " '__dir__',\n",
              " '__doc__',\n",
              " '__eq__',\n",
              " '__format__',\n",
              " '__ge__',\n",
              " '__getattribute__',\n",
              " '__getitem__',\n",
              " '__gt__',\n",
              " '__hash__',\n",
              " '__iadd__',\n",
              " '__imul__',\n",
              " '__init__',\n",
              " '__init_subclass__',\n",
              " '__iter__',\n",
              " '__le__',\n",
              " '__len__',\n",
              " '__lt__',\n",
              " '__mul__',\n",
              " '__ne__',\n",
              " '__new__',\n",
              " '__reduce__',\n",
              " '__reduce_ex__',\n",
              " '__repr__',\n",
              " '__reversed__',\n",
              " '__rmul__',\n",
              " '__setattr__',\n",
              " '__setitem__',\n",
              " '__sizeof__',\n",
              " '__str__',\n",
              " '__subclasshook__',\n",
              " 'append',\n",
              " 'clear',\n",
              " 'copy',\n",
              " 'count',\n",
              " 'extend',\n",
              " 'index',\n",
              " 'insert',\n",
              " 'pop',\n",
              " 'remove',\n",
              " 'reverse',\n",
              " 'sort']"
            ]
          },
          "metadata": {},
          "execution_count": 6
        }
      ]
    },
    {
      "cell_type": "code",
      "source": [
        "n, lst = int(input()), []\n",
        "for _ in range(n):\n",
        "    lst.append(int(input()))\n",
        "del lst[lst.index(max(lst))]\n",
        "del lst[lst.index(min(lst))]\n",
        "print(*lst, sep='\\n')"
      ],
      "metadata": {
        "colab": {
          "base_uri": "https://localhost:8080/"
        },
        "id": "5LYT7I9bJQ7k",
        "outputId": "25f00e50-abf2-4d60-ca0b-24d1a6f3aff1"
      },
      "execution_count": null,
      "outputs": [
        {
          "output_type": "stream",
          "name": "stdout",
          "text": [
            "10\n",
            "9\n",
            "17\n",
            "189\n",
            "3\n",
            "55\n",
            "78\n",
            "11\n",
            "7\n",
            "888\n",
            "160\n",
            "9\n",
            "17\n",
            "189\n",
            "55\n",
            "78\n",
            "11\n",
            "7\n",
            "160\n"
          ]
        }
      ]
    },
    {
      "cell_type": "markdown",
      "source": [],
      "metadata": {
        "id": "ZEelvWvvFAj6"
      }
    },
    {
      "cell_type": "code",
      "source": [
        "palindromes = [num for num in range(100, 1000) if str(num)[0:] == str(num)[::-1]]\n",
        "\n",
        "print(palindromes)"
      ],
      "metadata": {
        "colab": {
          "base_uri": "https://localhost:8080/"
        },
        "id": "UMg5bxZgsy6g",
        "outputId": "a15bc57d-80d1-4800-ceab-7fa662ab5a9c"
      },
      "execution_count": null,
      "outputs": [
        {
          "output_type": "stream",
          "name": "stdout",
          "text": [
            "[101, 111, 121, 131, 141, 151, 161, 171, 181, 191, 202, 212, 222, 232, 242, 252, 262, 272, 282, 292, 303, 313, 323, 333, 343, 353, 363, 373, 383, 393, 404, 414, 424, 434, 444, 454, 464, 474, 484, 494, 505, 515, 525, 535, 545, 555, 565, 575, 585, 595, 606, 616, 626, 636, 646, 656, 666, 676, 686, 696, 707, 717, 727, 737, 747, 757, 767, 777, 787, 797, 808, 818, 828, 838, 848, 858, 868, 878, 888, 898, 909, 919, 929, 939, 949, 959, 969, 979, 989, 999]\n"
          ]
        }
      ]
    },
    {
      "cell_type": "code",
      "source": [
        "print(*[x * x for x in range(1, int(input()) + 1)], sep='\\n')"
      ],
      "metadata": {
        "colab": {
          "base_uri": "https://localhost:8080/"
        },
        "id": "fWXLiFYNuU0Y",
        "outputId": "7db4932a-a858-4108-c56b-653c9d7fba1a"
      },
      "execution_count": null,
      "outputs": [
        {
          "output_type": "stream",
          "name": "stdout",
          "text": [
            "5\n",
            "1\n",
            "4\n",
            "9\n",
            "16\n",
            "25\n"
          ]
        }
      ]
    },
    {
      "cell_type": "code",
      "source": [
        "!python --version"
      ],
      "metadata": {
        "colab": {
          "base_uri": "https://localhost:8080/"
        },
        "id": "COjZFCS5gdnM",
        "outputId": "3773fd46-4e7d-4b61-f841-1ea3c71174e4"
      },
      "execution_count": null,
      "outputs": [
        {
          "output_type": "stream",
          "name": "stdout",
          "text": [
            "Python 3.9.16\n"
          ]
        }
      ]
    },
    {
      "cell_type": "code",
      "source": [
        "import math\n",
        "fun = lambda x : 1 if x == 1 else math.ceil(math.sinh(fun (x-1)))\n",
        "print(fun(5))"
      ],
      "metadata": {
        "id": "y_995RvRdevT",
        "outputId": "7039ae77-6ad2-4913-b2b2-b5dc65062a30",
        "colab": {
          "base_uri": "https://localhost:8080/"
        }
      },
      "execution_count": null,
      "outputs": [
        {
          "output_type": "stream",
          "name": "stdout",
          "text": [
            "723128532146\n"
          ]
        }
      ]
    },
    {
      "cell_type": "markdown",
      "source": [
        "Напишите функцию get_factors(num), принимающую в качестве аргумента натуральное число и возвращающую список всех делителей данного числа."
      ],
      "metadata": {
        "id": "TiB27H3daP4s"
      }
    },
    {
      "cell_type": "code",
      "source": [
        "num = int(input())\n",
        "print([i for i in range(1, num + 1) if not num % i])"
      ],
      "metadata": {
        "colab": {
          "base_uri": "https://localhost:8080/"
        },
        "id": "bXqLjonmQ5k4",
        "outputId": "23b05b61-0867-4bd9-ab88-9537040bfc76"
      },
      "execution_count": null,
      "outputs": [
        {
          "output_type": "stream",
          "name": "stdout",
          "text": [
            "10\n",
            "[1, 2, 5, 10]\n"
          ]
        }
      ]
    },
    {
      "cell_type": "markdown",
      "source": [
        "Напишите функцию с именем find_all(target, symbol), которая принимает два аргумента: строку target и символ symbol и возвращает список, содержащий все местоположения этого символа в строке."
      ],
      "metadata": {
        "id": "o2572gi3aJ3Y"
      }
    },
    {
      "cell_type": "code",
      "source": [
        "target, symbol = input(), input()\n",
        "index_list = []\n",
        "for i in range(len(target)):\n",
        "  if target[i] == symbol:\n",
        "    index_list.append(i)\n",
        "print(index_list)"
      ],
      "metadata": {
        "colab": {
          "base_uri": "https://localhost:8080/"
        },
        "id": "wevPdIP5WxK1",
        "outputId": "3b6fe767-f473-415f-9c30-27bf918227b7"
      },
      "execution_count": null,
      "outputs": [
        {
          "output_type": "stream",
          "name": "stdout",
          "text": [
            "abcdabcaaa\n",
            "a\n",
            "[0, 4, 7, 8, 9]\n"
          ]
        }
      ]
    },
    {
      "cell_type": "code",
      "source": [
        "[i for i in range(len(target)) if target[i] == symbol]"
      ],
      "metadata": {
        "colab": {
          "base_uri": "https://localhost:8080/"
        },
        "id": "_24ses7gX83d",
        "outputId": "52cea24e-84fa-4650-e1e4-8b96da9a1320"
      },
      "execution_count": null,
      "outputs": [
        {
          "output_type": "execute_result",
          "data": {
            "text/plain": [
              "[0, 4, 7, 8, 9]"
            ]
          },
          "metadata": {},
          "execution_count": 9
        }
      ]
    },
    {
      "cell_type": "markdown",
      "source": [
        "На вход программе подается число n, а затем n строк, содержащих целые числа в порядке возрастания. Из данных строк формируются списки чисел. Напишите программу, которая объединяет указанные списки в один отсортированный список с помощью функции quick_merge(), а затем выводит его."
      ],
      "metadata": {
        "id": "ftDBdhiM_1tP"
      }
    },
    {
      "cell_type": "code",
      "source": [
        "def quick_merge(list1, list2):\n",
        "    result = []\n",
        "\n",
        "    p1 = 0  # указатель на первый элемент списка list1\n",
        "    p2 = 0  # указатель на первый элемент списка list2\n",
        "\n",
        "    while p1 < len(list1) and p2 < len(list2):  # пока не закончился хотя бы один список\n",
        "        if list1[p1] <= list2[p2]:\n",
        "            result.append(list1[p1])\n",
        "            p1 += 1\n",
        "        else:\n",
        "            result.append(list2[p2])\n",
        "            p2 += 1\n",
        "\n",
        "    if p1 < len(list1):   # прицепление остатка\n",
        "        result += list1[p1:]\n",
        "    if p2 < len(list2):\n",
        "        result += list2[p2:]\n",
        "\n",
        "    return result\n",
        "\n",
        "\n",
        "n = int(input())\n",
        "lists = []\n",
        "[lists.append([int(x) for x in input().split()]) for i in range(n)]\n",
        "\n",
        "while n - 1:\n",
        "    new_list = quick_merge(lists[0], lists[1])\n",
        "    lists.append(new_list)\n",
        "    del lists[0:2]\n",
        "    n -= 1\n",
        "\n",
        "print(*new_list)"
      ],
      "metadata": {
        "colab": {
          "base_uri": "https://localhost:8080/",
          "height": 425
        },
        "id": "R31k0iEvF3m5",
        "outputId": "0b014323-6123-4c7d-87f6-4704212ef224"
      },
      "execution_count": null,
      "outputs": [
        {
          "name": "stdout",
          "output_type": "stream",
          "text": [
            "3\n",
            "1 2 3 4\n",
            "5 6 7\n",
            "8 9 10\n"
          ]
        },
        {
          "output_type": "error",
          "ename": "TypeError",
          "evalue": "ignored",
          "traceback": [
            "\u001b[0;31m---------------------------------------------------------------------------\u001b[0m",
            "\u001b[0;31mTypeError\u001b[0m                                 Traceback (most recent call last)",
            "\u001b[0;32m<ipython-input-27-c55ad23d9ee6>\u001b[0m in \u001b[0;36m<module>\u001b[0;34m\u001b[0m\n\u001b[1;32m     25\u001b[0m \u001b[0;34m\u001b[0m\u001b[0m\n\u001b[1;32m     26\u001b[0m \u001b[0;32mwhile\u001b[0m \u001b[0mn\u001b[0m \u001b[0;34m-\u001b[0m \u001b[0;36m1\u001b[0m\u001b[0;34m:\u001b[0m\u001b[0;34m\u001b[0m\u001b[0;34m\u001b[0m\u001b[0m\n\u001b[0;32m---> 27\u001b[0;31m     \u001b[0mnew_list\u001b[0m \u001b[0;34m=\u001b[0m \u001b[0mquick_merge\u001b[0m\u001b[0;34m(\u001b[0m\u001b[0mlists\u001b[0m\u001b[0;34m[\u001b[0m\u001b[0;36m0\u001b[0m\u001b[0;34m]\u001b[0m\u001b[0;34m,\u001b[0m \u001b[0mlists\u001b[0m\u001b[0;34m[\u001b[0m\u001b[0;36m1\u001b[0m\u001b[0;34m]\u001b[0m\u001b[0;34m)\u001b[0m\u001b[0;34m\u001b[0m\u001b[0;34m\u001b[0m\u001b[0m\n\u001b[0m\u001b[1;32m     28\u001b[0m     \u001b[0mlists\u001b[0m\u001b[0;34m.\u001b[0m\u001b[0mappend\u001b[0m\u001b[0;34m(\u001b[0m\u001b[0mnew_list\u001b[0m\u001b[0;34m)\u001b[0m\u001b[0;34m\u001b[0m\u001b[0;34m\u001b[0m\u001b[0m\n\u001b[1;32m     29\u001b[0m     \u001b[0;32mdel\u001b[0m \u001b[0mlists\u001b[0m\u001b[0;34m[\u001b[0m\u001b[0;36m0\u001b[0m\u001b[0;34m:\u001b[0m\u001b[0;36m2\u001b[0m\u001b[0;34m]\u001b[0m\u001b[0;34m\u001b[0m\u001b[0;34m\u001b[0m\u001b[0m\n",
            "\u001b[0;32m<ipython-input-27-c55ad23d9ee6>\u001b[0m in \u001b[0;36mquick_merge\u001b[0;34m(list1, list2)\u001b[0m\n\u001b[1;32m      5\u001b[0m     \u001b[0mp2\u001b[0m \u001b[0;34m=\u001b[0m \u001b[0;36m0\u001b[0m  \u001b[0;31m# указатель на первый элемент списка list2\u001b[0m\u001b[0;34m\u001b[0m\u001b[0;34m\u001b[0m\u001b[0m\n\u001b[1;32m      6\u001b[0m \u001b[0;34m\u001b[0m\u001b[0m\n\u001b[0;32m----> 7\u001b[0;31m     \u001b[0;32mwhile\u001b[0m \u001b[0mp1\u001b[0m \u001b[0;34m<\u001b[0m \u001b[0mlen\u001b[0m\u001b[0;34m(\u001b[0m\u001b[0mlist1\u001b[0m\u001b[0;34m)\u001b[0m \u001b[0;32mand\u001b[0m \u001b[0mp2\u001b[0m \u001b[0;34m<\u001b[0m \u001b[0mlen\u001b[0m\u001b[0;34m(\u001b[0m\u001b[0mlist2\u001b[0m\u001b[0;34m)\u001b[0m\u001b[0;34m:\u001b[0m  \u001b[0;31m# пока не закончился хотя бы один список\u001b[0m\u001b[0;34m\u001b[0m\u001b[0;34m\u001b[0m\u001b[0m\n\u001b[0m\u001b[1;32m      8\u001b[0m         \u001b[0;32mif\u001b[0m \u001b[0mlist1\u001b[0m\u001b[0;34m[\u001b[0m\u001b[0mp1\u001b[0m\u001b[0;34m]\u001b[0m \u001b[0;34m<=\u001b[0m \u001b[0mlist2\u001b[0m\u001b[0;34m[\u001b[0m\u001b[0mp2\u001b[0m\u001b[0;34m]\u001b[0m\u001b[0;34m:\u001b[0m\u001b[0;34m\u001b[0m\u001b[0;34m\u001b[0m\u001b[0m\n\u001b[1;32m      9\u001b[0m             \u001b[0mresult\u001b[0m\u001b[0;34m.\u001b[0m\u001b[0mappend\u001b[0m\u001b[0;34m(\u001b[0m\u001b[0mlist1\u001b[0m\u001b[0;34m[\u001b[0m\u001b[0mp1\u001b[0m\u001b[0;34m]\u001b[0m\u001b[0;34m)\u001b[0m\u001b[0;34m\u001b[0m\u001b[0;34m\u001b[0m\u001b[0m\n",
            "\u001b[0;31mTypeError\u001b[0m: object of type 'NoneType' has no len()"
          ]
        }
      ]
    },
    {
      "cell_type": "code",
      "source": [
        "n = int(input())\n",
        "lists = []\n",
        "for _ in range(n):\n",
        "    a = [int(x) for x in input().split()]\n",
        "    lists.append(a)\n",
        "    print(lists)"
      ],
      "metadata": {
        "colab": {
          "base_uri": "https://localhost:8080/"
        },
        "id": "KQvxe7AdiSHH",
        "outputId": "39522194-8384-406e-fa25-f5f307be4620"
      },
      "execution_count": null,
      "outputs": [
        {
          "output_type": "stream",
          "name": "stdout",
          "text": [
            "3\n",
            "1 2 3 4\n",
            "[[1, 2, 3, 4]]\n",
            "5 6 7\n",
            "[[1, 2, 3, 4], [5, 6, 7]]\n",
            "8 9 10\n",
            "[[1, 2, 3, 4], [5, 6, 7], [8, 9, 10]]\n"
          ]
        }
      ]
    },
    {
      "cell_type": "code",
      "source": [
        "n = int(input())\n",
        "lists = []\n",
        "[lists.append([int(x) for x in input().split()]) for i in range(n)]\n",
        "print(lists)"
      ],
      "metadata": {
        "colab": {
          "base_uri": "https://localhost:8080/"
        },
        "id": "m2XGfsUhirly",
        "outputId": "5a3fdb7a-0964-4910-b941-f732fdd92d49"
      },
      "execution_count": null,
      "outputs": [
        {
          "output_type": "stream",
          "name": "stdout",
          "text": [
            "3\n",
            "1 2 3 4\n",
            "5 6 7\n",
            "8 9 10\n",
            "[[1, 2, 3, 4], [5, 6, 7], [8, 9, 10]]\n"
          ]
        }
      ]
    },
    {
      "cell_type": "markdown",
      "source": [
        "Напишите функцию is_valid_triangle(side1, side2, side3), которая принимает в качестве аргументов три натуральных числа, и возвращает значение True если существует невырожденный треугольник со сторонами side1, side2, side3 и False в противном случае."
      ],
      "metadata": {
        "id": "FnVnunDr7zPj"
      }
    },
    {
      "cell_type": "code",
      "source": [
        "def is_valid_triangle(a, b, c):\n",
        "    return bool((a < b+c) and (b < a+c) and (c < a+b))\n",
        "\n",
        "a, b, c = int(input()), int(input()), int(input())\n",
        "print(is_valid_triangle(a, b, c))"
      ],
      "metadata": {
        "colab": {
          "base_uri": "https://localhost:8080/"
        },
        "id": "r_hcTel87LTm",
        "outputId": "d1746d65-1204-4aa9-bb7a-6d99cd84f1df"
      },
      "execution_count": null,
      "outputs": [
        {
          "output_type": "stream",
          "name": "stdout",
          "text": [
            "2\n",
            "2\n",
            "2\n",
            "True\n"
          ]
        }
      ]
    },
    {
      "cell_type": "markdown",
      "source": [
        "решение можно записать в одну строку:\n",
        "return bool(а тут условие)\n",
        "И тогда функция вернет True или False.\n",
        "***можно даже без bool и круглых скобочек писать"
      ],
      "metadata": {
        "id": "o5djvi0m73Mp"
      }
    },
    {
      "cell_type": "code",
      "source": [
        "def is_valid_triangle(a, b, c):\n",
        "    return (a < b+c) and (b < a+c) and (c < a+b)\n",
        "\n",
        "a, b, c = int(input()), int(input()), int(input())\n",
        "print(is_valid_triangle(a, b, c))"
      ],
      "metadata": {
        "colab": {
          "base_uri": "https://localhost:8080/"
        },
        "id": "az4ETsnr76Gk",
        "outputId": "c96450f8-db42-46a9-8341-cd6828d91d42"
      },
      "execution_count": null,
      "outputs": [
        {
          "output_type": "stream",
          "name": "stdout",
          "text": [
            "2\n",
            "3\n",
            "4\n",
            "True\n"
          ]
        }
      ]
    },
    {
      "cell_type": "markdown",
      "source": [
        "Напишите функцию is_prime(num), которая принимает в качестве аргумента натуральное число и возвращает значение True если число является простым и False в противном случае."
      ],
      "metadata": {
        "id": "jvxLuiHiFTV1"
      }
    },
    {
      "cell_type": "code",
      "source": [
        "def is_prime(num):\n",
        "    return not [i for i in range(2, num) if not num % i] and num != 1\n",
        "\n",
        "print(is_prime(int(input())))"
      ],
      "metadata": {
        "colab": {
          "base_uri": "https://localhost:8080/"
        },
        "id": "3TfiCDopQERG",
        "outputId": "4d1da8bb-0997-467e-8649-8026a9e593e9"
      },
      "execution_count": null,
      "outputs": [
        {
          "output_type": "stream",
          "name": "stdout",
          "text": [
            "25\n",
            "False\n"
          ]
        }
      ]
    },
    {
      "cell_type": "markdown",
      "source": [
        "Напишите функцию get_next_prime(num), которая принимает в качестве аргумента натуральное число num и возвращает первое простое число большее числа num.\n",
        "Используйте функцию is_prime() из предыдущей задачи."
      ],
      "metadata": {
        "id": "HxKWqIch_NFl"
      }
    },
    {
      "cell_type": "code",
      "source": [
        "def get_next_prime(num):\n",
        "\n",
        "    def is_prime(num):\n",
        "        return not [i for i in range(2, num) if not num % i] and num != 1\n",
        "\n",
        "    while True:\n",
        "        num += 1\n",
        "        if is_prime(num):\n",
        "            return num     \n",
        "\n",
        "print(get_next_prime(int(input())))"
      ],
      "metadata": {
        "colab": {
          "base_uri": "https://localhost:8080/"
        },
        "id": "jwhbolDeX8Gk",
        "outputId": "0e59fda7-78fa-4882-e14d-dde44d0dc484"
      },
      "execution_count": null,
      "outputs": [
        {
          "output_type": "stream",
          "name": "stdout",
          "text": [
            "2\n",
            "3\n"
          ]
        }
      ]
    },
    {
      "cell_type": "markdown",
      "source": [
        "Напишите функцию is_password_good(password), которая принимает в качестве аргумента строковое значение пароля password и возвращает значение True если пароль является надежным и False в противном случае.\n",
        "Пароль является надежным если:\n",
        "его длина не менее 8 символов; \n",
        "он содержит как минимум одну заглавную букву (верхний регистр); \n",
        "он содержит как минимум одну строчную букву (нижний регистр);\n",
        "он содержит хотя бы одну цифру."
      ],
      "metadata": {
        "id": "K9TG-x0N1Gv4"
      }
    },
    {
      "cell_type": "code",
      "source": [
        "def is_password_good(password):\n",
        "    return len(password) >= 8 and sum(i.isupper() for i in password) >= 1 and sum(i.islower() for i in password) >=1 and sum(i.isdigit() for i in password) >= 1\n",
        "\n",
        "print(is_password_good(input()))"
      ],
      "metadata": {
        "colab": {
          "base_uri": "https://localhost:8080/"
        },
        "id": "DRGVSs70efqe",
        "outputId": "2100078b-4cac-4500-ea43-172661ce9190"
      },
      "execution_count": null,
      "outputs": [
        {
          "output_type": "stream",
          "name": "stdout",
          "text": [
            "abC1pu\n",
            "False\n"
          ]
        }
      ]
    },
    {
      "cell_type": "markdown",
      "source": [
        "Напишите функцию is_one_away(word1, word2), которая принимает в качестве аргументов два слова word1 и word2 и возвращает значение True если слова имеют одинаковую длину и отличаются ровно в 1 символе и False в противном случае."
      ],
      "metadata": {
        "id": "lUA1O06o1Afl"
      }
    },
    {
      "cell_type": "code",
      "source": [
        "def is_one_away(word1, word2):\n",
        "    if len(word1) == len(word2):\n",
        "        count = 0\n",
        "        for i in range(len(word1)):\n",
        "            if word1[i] != word2[i]:\n",
        "                count += 1\n",
        "        if count == 1:\n",
        "            return True\n",
        "        else:\n",
        "            return False\n",
        "    else:\n",
        "        return False\n",
        "\n",
        "print(is_one_away(input(), input()))"
      ],
      "metadata": {
        "colab": {
          "base_uri": "https://localhost:8080/"
        },
        "id": "Y8DV8dHF07Z3",
        "outputId": "22c29a47-b95a-4b43-9479-0230450442dd"
      },
      "execution_count": null,
      "outputs": [
        {
          "output_type": "stream",
          "name": "stdout",
          "text": [
            "bike\n",
            "hike\n",
            "True\n"
          ]
        }
      ]
    },
    {
      "cell_type": "markdown",
      "source": [
        "Напишите функцию is_one_away(word1, word2), которая принимает в качестве аргументов два слова word1 и word2 и возвращает значение True если слова имеют одинаковую длину и отличаются ровно в 1 символе и False в противном случае."
      ],
      "metadata": {
        "id": "k20q05zHE3pC"
      }
    },
    {
      "cell_type": "code",
      "source": [
        "def is_one_away(word1, word2):\n",
        "    return len(word1) == len(word2) and len([i for i in range(len(word1)) if word1[i] != word2[i]]) == 1\n",
        "\n",
        "print(is_one_away(input(), input()))"
      ],
      "metadata": {
        "colab": {
          "base_uri": "https://localhost:8080/"
        },
        "id": "6JVMPMnF2DB3",
        "outputId": "70a34661-78c3-4b09-b4c7-a640ccca7678"
      },
      "execution_count": null,
      "outputs": [
        {
          "output_type": "stream",
          "name": "stdout",
          "text": [
            "bike\n",
            "hike\n",
            "True\n"
          ]
        }
      ]
    },
    {
      "cell_type": "markdown",
      "source": [
        "Напишите функцию is_palindrome(text), которая принимает в качестве аргумента строку text и возвращает значение True если указанный текст является палиндромом и False в противном случае.\n",
        "При проверке считайте большие и маленькие буквы одинаковыми, а также игнорируйте пробелы, а также символы , . ! ? -."
      ],
      "metadata": {
        "id": "YKhOSZ6XJvmF"
      }
    },
    {
      "cell_type": "code",
      "source": [
        "def is_palindrome(text):\n",
        "    return text == text[::-1]\n",
        "\n",
        "txt = input().lower()\n",
        "txt = ''.join([i for i in txt if i not in[',', '.', '!', '?', '-', ' ']])\n",
        "print(is_palindrome(txt))"
      ],
      "metadata": {
        "colab": {
          "base_uri": "https://localhost:8080/"
        },
        "id": "2XCdteFIXy59",
        "outputId": "57f54703-d0b8-4aa8-a2aa-a3d785696852"
      },
      "execution_count": null,
      "outputs": [
        {
          "output_type": "stream",
          "name": "stdout",
          "text": [
            "Standart - smallest, sell Amstrad nats.\n",
            "True\n"
          ]
        }
      ]
    },
    {
      "cell_type": "markdown",
      "source": [
        "функция enumerate() определена на множестве итерируемых объектов и служит для создания кортежей на основании каждого из элементов объекта. Кортежи строятся по принципу (индекс элемента, элемент), что бывает крайне удобно, когда помимо самих элементов требуется ещё и их индекс"
      ],
      "metadata": {
        "id": "ql1O2QIhJ4Ao"
      }
    },
    {
      "cell_type": "code",
      "source": [
        "text = \"Это не те дроиды, которых вы ищете\"\n",
        "new_text = \"\"\n",
        "for char in enumerate(text):\n",
        "    if char[0] % 5 == 0:  # заменим каждый пятый символ предложения, начиная с 0-го, на *\n",
        "        new_text += '*'\n",
        "    else:\n",
        "        new_text += char[1]\n",
        "print(new_text)"
      ],
      "metadata": {
        "colab": {
          "base_uri": "https://localhost:8080/"
        },
        "id": "Vxdr6qfyJrQ-",
        "outputId": "7bb49aa1-a077-4db0-8055-53460e5baded"
      },
      "execution_count": null,
      "outputs": [
        {
          "output_type": "stream",
          "name": "stdout",
          "text": [
            "*то н* те *роид*, ко*орых*вы и*ете\n",
            "<enumerate object at 0x7fa1f508b640>\n"
          ]
        }
      ]
    },
    {
      "cell_type": "markdown",
      "source": [
        "Напишите функцию is_palindrome(text), которая принимает в качестве аргумента строку text и возвращает значение True если указанный текст является палиндромом и False в противном случае.\n",
        "При проверке считайте большие и маленькие буквы одинаковыми, а также игнорируйте пробелы, а также символы , . ! ? -."
      ],
      "metadata": {
        "id": "OdToJdbmEtVh"
      }
    },
    {
      "cell_type": "code",
      "source": [
        "def is_palindrome(text):\n",
        "    t = [i for i in text.lower() if i.isalpha()]\n",
        "    return t == t[::-1]\n",
        "\n",
        "print(is_palindrome(input()))"
      ],
      "metadata": {
        "id": "ryRsem2FkaCS"
      },
      "execution_count": null,
      "outputs": []
    },
    {
      "cell_type": "markdown",
      "source": [
        "BEEGEEK наконец открыл свой банк в котором используются специальные банкоматы с необычным паролем.\n",
        "Действительный пароль BEEGEEK банка имеет вид a:b:c, где a, b и c – натуральные числа. Поскольку основатель BEEGEEK фанатеет от математики, то он решил:\n",
        "*   число a – должно быть палиндромом;\n",
        "*   число b – должно быть простым;\n",
        "*   число c – должно быть четным.\n",
        "\n",
        "Напишите функцию is_valid_password(password), которая принимает в качестве аргумента строковое значение пароля password и возвращает значение True если пароль является действительным паролем BEEGEEK банка и False в противном случае."
      ],
      "metadata": {
        "id": "4pPJFbapsCga"
      }
    },
    {
      "cell_type": "code",
      "source": [
        "def is_valid_password(psw):\n",
        "    psw = psw.split(':')\n",
        "    psw[1], psw[2] = int(psw[1]), int(psw[2])\n",
        "    return len(psw) == 3 and psw[0] == psw[0][::-1] and not [i for i in range(2, psw[1]) if psw[1] % i == 0] and psw[1] != 1 and psw[2] % 2 == 0\n",
        "\n",
        "print(is_valid_password(input()))"
      ],
      "metadata": {
        "colab": {
          "base_uri": "https://localhost:8080/"
        },
        "id": "Gt_ecvgYry2n",
        "outputId": "3c30ee4d-f352-4c6a-a944-5b154f85fc8e"
      },
      "execution_count": null,
      "outputs": [
        {
          "output_type": "stream",
          "name": "stdout",
          "text": [
            "1221:101:22\n",
            "True\n"
          ]
        }
      ]
    },
    {
      "cell_type": "markdown",
      "source": [
        "Напишите функцию is_correct_bracket(text), которая принимает в качестве аргумента непустую строку text, состоящую из символов ( и ) и возвращает значение True если поступившая на вход строка является правильной скобочной последовательностью и False в противном случае.\n",
        "Правильной скобочной последовательностью называется строка, состоящая только из символов ( и ), где каждой открывающей скобке найдется парная закрывающая скобка."
      ],
      "metadata": {
        "id": "-2WgNnLIH-Yh"
      }
    },
    {
      "cell_type": "markdown",
      "source": [
        "Это старая математическая задача.\n",
        "\n",
        "Открыли +1\n",
        "\n",
        "Закрыли -1\n",
        "\n",
        "Как только баланс меньше нуля, дальше нет смысла смотреть.\n",
        "\n",
        "Если в конце баланс больше нуля - все равно косяк\n",
        "\n",
        "Ну а если НОЛЬ - то все норм"
      ],
      "metadata": {
        "id": "i2smD6cKLC3A"
      }
    },
    {
      "cell_type": "code",
      "source": [
        "def is_correct_bracket(text):\n",
        "  count = 0\n",
        "  for i in text:\n",
        "    if count < 0:\n",
        "      return False\n",
        "    if i == '(':\n",
        "      count += 1\n",
        "    else:\n",
        "      count += -1\n",
        "  if count == 0:\n",
        "    return True\n",
        "  else:\n",
        "    return False\n",
        "\n",
        "print(is_correct_bracket(input()))"
      ],
      "metadata": {
        "colab": {
          "base_uri": "https://localhost:8080/"
        },
        "id": "5YYPnyfHw2Wk",
        "outputId": "2f99db6b-e50c-4147-d599-894c06b22abd"
      },
      "execution_count": null,
      "outputs": [
        {
          "output_type": "stream",
          "name": "stdout",
          "text": [
            "(()())\n",
            "True\n"
          ]
        }
      ]
    },
    {
      "cell_type": "markdown",
      "source": [
        "Напишите функцию convert_to_python_case(text), которая принимает в качестве аргумента строку в «верблюжьем регистре» и преобразует его в «змеиный регистр»."
      ],
      "metadata": {
        "id": "JkmS_3d2Qeq-"
      }
    },
    {
      "cell_type": "markdown",
      "source": [
        "Верблюжий - стиль написания составных слов, при котором несколько слов пишутся слитно без пробелов, при этом каждое слово внутри фразы пишется с прописной буквы. Стиль получил название CamelCase, поскольку прописные буквы внутри слова напоминают горбы верблюда"
      ],
      "metadata": {
        "id": "Dujmn5rvQuT2"
      }
    },
    {
      "cell_type": "markdown",
      "source": [
        "Змеиный — стиль написания составных слов, при котором несколько слов разделяются символом подчеркивания (_), и не имеют пробелов в записи, причём каждое слово обычно пишется с маленькой буквы — «foo_bar», «hello_world» и т. д. Такой стиль написания используется для именования переменных и функций в исходном коде, и иногда для именования файлов на компьютере."
      ],
      "metadata": {
        "id": "whxLuQ6KRGuj"
      }
    },
    {
      "cell_type": "code",
      "source": [
        "def convert_to_python_case(text):\n",
        "    text_new = text[0].lower() + text[1::]\n",
        "    for i in text_new:\n",
        "        if i.isupper():\n",
        "            text_new = text_new.replace(i, '_' + i.lower())\n",
        "    return text_new\n",
        "\n",
        "\n",
        "print(convert_to_python_case(input()))"
      ],
      "metadata": {
        "colab": {
          "base_uri": "https://localhost:8080/"
        },
        "id": "Z4G1Vlfo5v9R",
        "outputId": "77b04d47-f4c5-4a2e-8f1f-5359684fca69"
      },
      "execution_count": null,
      "outputs": [
        {
          "output_type": "stream",
          "name": "stdout",
          "text": [
            "MyMethodThatDoSomething\n",
            "my_method_that_do_something\n"
          ]
        }
      ]
    },
    {
      "cell_type": "markdown",
      "source": [
        "Напишите функцию get_circle(radius), которая принимает в качестве аргумента радиус окружности и возвращает два значения: длину окружности и площадь круга, ограниченного данной окружностью."
      ],
      "metadata": {
        "id": "DggpbcZK8sVb"
      }
    },
    {
      "cell_type": "code",
      "source": [
        "from math import pi\n",
        "\n",
        "def get_circle(r):\n",
        "    return 2 * pi * r, pi * r ** 2\n",
        "\n",
        "length, square = get_circle(float(input()))\n",
        "print(length, square)"
      ],
      "metadata": {
        "colab": {
          "base_uri": "https://localhost:8080/"
        },
        "id": "XJ75jgQnEVV-",
        "outputId": "c8ae7f02-ca61-4c7d-eddb-e0b1020db330"
      },
      "execution_count": null,
      "outputs": [
        {
          "output_type": "stream",
          "name": "stdout",
          "text": [
            "1\n",
            "6.283185307179586 3.141592653589793\n"
          ]
        }
      ]
    },
    {
      "cell_type": "markdown",
      "source": [
        "Напишите функцию solve(a, b, c), которая принимает в качестве аргументов три целых числа a, b, c – коэффициенты квадратного уравнения ax**2+bx+c=0 и возвращает его корни в порядке возрастания."
      ],
      "metadata": {
        "id": "MuBthzsF_XfH"
      }
    },
    {
      "cell_type": "code",
      "source": [
        "from math import sqrt\n",
        "\n",
        "def solve(a, b, c):\n",
        "    D = b ** 2 - 4 * a * c\n",
        "    if D == 0:\n",
        "        return (-b / 2 / a), (-b / 2 / a)\n",
        "    else:\n",
        "        x1 = (-b + sqrt(D)) / 2 / a\n",
        "        x2 = (-b - sqrt(D)) / 2 / a\n",
        "        return min(x1, x2), max(x1, x2)\n",
        "\n",
        "a, b, c = float(input()), float(input()), float(input())\n",
        "x1, x2 = solve(a, b, c)\n",
        "print(x1, x2)"
      ],
      "metadata": {
        "colab": {
          "base_uri": "https://localhost:8080/"
        },
        "id": "UGSJ-UaP_Eit",
        "outputId": "8cf93eea-9cb8-486f-c568-8cda45d734fe"
      },
      "execution_count": null,
      "outputs": [
        {
          "output_type": "stream",
          "name": "stdout",
          "text": [
            "1\n",
            "-4\n",
            "-5\n",
            "-1.0 5.0\n"
          ]
        }
      ]
    },
    {
      "cell_type": "markdown",
      "source": [
        "Напишите функцию draw_triangle(), которая выводит звездный равнобедренный треугольник с основанием и высотой равными 15 и 8 соответственно:\n",
        "Для вывода треугольника используйте цикл for. Справа от звездочек пробелов нет."
      ],
      "metadata": {
        "id": "FcKNfyIvEWOx"
      }
    },
    {
      "cell_type": "code",
      "source": [
        "def draw_triangle():\n",
        "    base, count = 15, 1\n",
        "    for _ in range(8):\n",
        "        print(base // 2 * ' ' + count * '*')\n",
        "        base -= 2\n",
        "        count += 2\n",
        "\n",
        "draw_triangle()"
      ],
      "metadata": {
        "colab": {
          "base_uri": "https://localhost:8080/"
        },
        "id": "ccqt7HqxBaOt",
        "outputId": "b4c746c7-6ddf-4968-f371-6983502897bf"
      },
      "execution_count": null,
      "outputs": [
        {
          "output_type": "stream",
          "name": "stdout",
          "text": [
            "       *\n",
            "      ***\n",
            "     *****\n",
            "    *******\n",
            "   *********\n",
            "  ***********\n",
            " *************\n",
            "***************\n"
          ]
        }
      ]
    },
    {
      "cell_type": "markdown",
      "source": [
        "\n",
        "Калькулятор доставки. Интернет магазин осуществляет экспресс доставку для своих товаров по цене \n",
        "1000 рублей за первый товар и 120 рублей за каждый последующий товар. Напишите функцию get_shipping_cost(quantity), которая принимает в качестве аргумента натуральное число quantity – количество товаров в заказе и возвращает стоимость доставки."
      ],
      "metadata": {
        "id": "ptJSWN1RESLA"
      }
    },
    {
      "cell_type": "code",
      "source": [
        "def get_shipping_cost(quantity):\n",
        "    cost = 1000\n",
        "    for i in range(1, quantity):\n",
        "            cost += 120\n",
        "    return cost\n",
        "\n",
        "print(get_shipping_cost(int(input())))"
      ],
      "metadata": {
        "colab": {
          "base_uri": "https://localhost:8080/"
        },
        "id": "op05TmMVIHbN",
        "outputId": "9f0a19ab-dfdf-4878-87c3-eef782c02a68"
      },
      "execution_count": null,
      "outputs": [
        {
          "output_type": "stream",
          "name": "stdout",
          "text": [
            "3\n",
            "1240\n"
          ]
        }
      ]
    },
    {
      "cell_type": "markdown",
      "source": [
        "Напишите функцию compute_binom(n, k), которая принимает в качестве аргументов два натуральных числа n и k и возвращает значение биномиального коэффициента, равного n!/(k!*(n-k)!)\n",
        "Реализуйте вспомогательную функцию factorial(n), вычисляющую факториал числа или воспользуйтесь уже готовой функцией из модуля math.\n",
        "***Значение биномиального коэффициента - всегда натуральное число (int)"
      ],
      "metadata": {
        "id": "eF4KrDu5EFzU"
      }
    },
    {
      "cell_type": "code",
      "source": [
        "from math import factorial\n",
        "\n",
        "def compute_binom(n, k):\n",
        "    return int(factorial(n) / (factorial(k) * factorial(n-k)))\n",
        "\n",
        "n, k = int(input()), int(input())\n",
        "print(compute_binom(n, k))"
      ],
      "metadata": {
        "colab": {
          "base_uri": "https://localhost:8080/"
        },
        "id": "RjmNWwHtJ93U",
        "outputId": "f0a7538e-2777-4337-d052-2ac0930af6e3"
      },
      "execution_count": null,
      "outputs": [
        {
          "output_type": "stream",
          "name": "stdout",
          "text": [
            "1\n",
            "1\n",
            "1\n"
          ]
        }
      ]
    },
    {
      "cell_type": "markdown",
      "source": [
        "Напишите функцию number_to_words(num), которая принимает в качестве аргумента натуральное число num и возвращает его словесное описание на русском языке. Считайте, что число 1≤num≤99"
      ],
      "metadata": {
        "id": "OzAIAEo0EAeK"
      }
    },
    {
      "cell_type": "code",
      "source": [
        "def number_to_words(num):\n",
        "    d = {\n",
        "0: '0', 1: 'один', 2: 'два', 3: 'три', 4: 'четыре', 5: 'пять', 6: 'шесть', 7: 'семь', 8: 'восемь', 9: 'девять', 10: 'десять', 11: 'одиннадцать', 12: 'двенадцать', 13: 'тринадцать', 14: 'четырнадцать', 15: 'пятнадцать', 16: 'шестнадцать',17: 'семнадцать', 18: 'восемнадцать', 19: 'девятнадцать', 20: 'двадцать', 30: 'тридцать', 40: 'сорок', 50: 'пятьдесят', 60: 'шестьдесят', 70: 'семьдесят', 80: 'восемьдесят', 90: 'девяносто'\n",
        "}\n",
        "    if num in range(1, 20) or num in (20, 30, 40, 50, 60, 70, 80, 90):\n",
        "        return d[num]\n",
        "    else:\n",
        "        return d[num // 10 * 10] + ' ' + d[num % 10]\n",
        "\n",
        "print(number_to_words(int(input())))"
      ],
      "metadata": {
        "colab": {
          "base_uri": "https://localhost:8080/"
        },
        "id": "g3AV6VKITL7O",
        "outputId": "b1074497-8d55-4240-bafe-bded91a716ec"
      },
      "execution_count": null,
      "outputs": [
        {
          "output_type": "stream",
          "name": "stdout",
          "text": [
            "11\n",
            "одиннадцать\n"
          ]
        }
      ]
    },
    {
      "cell_type": "markdown",
      "source": [
        "Напишите функцию get_month(language, number), которая принимает на вход два аргумента language – язык ru или en и number – номер месяца (от 1 до 12) и возвращает название месяца на русском или английском языке."
      ],
      "metadata": {
        "id": "plOimFdrD7bN"
      }
    },
    {
      "cell_type": "code",
      "source": [
        "def get_month(language, number):\n",
        "    lng_ru = [0, 'январь', 'февраль', 'март', 'апрель', 'май', 'июнь', 'июль', 'август', 'сентябрь', 'октябрь', 'ноябрь', 'декабрь']\n",
        "    lng_en = [0, 'january', 'february', 'march', 'april', 'may', 'june', 'july', 'august', 'september', 'october', 'november', 'december']\n",
        "    if language == 'ru':\n",
        "        return lng_ru[number]\n",
        "    else:\n",
        "        return lng_en[number]\n",
        "\n",
        "print(get_month(input(), int(input())))"
      ],
      "metadata": {
        "colab": {
          "base_uri": "https://localhost:8080/"
        },
        "id": "KwW3ZptkVf0T",
        "outputId": "28845bec-937b-4004-d3a5-a267aeab0f8f"
      },
      "execution_count": null,
      "outputs": [
        {
          "output_type": "stream",
          "name": "stdout",
          "text": [
            "ru\n",
            "8\n",
            "август\n"
          ]
        }
      ]
    },
    {
      "cell_type": "markdown",
      "source": [
        "Магическая дата – это дата, когда день, умноженный на месяц, равен числу, образованному последними двумя цифрами года.\n",
        "Напишите функцию, is_magic(date) которая принимает в качестве аргумента строковое представление корректной даты и возвращает значение True если дата является магической и False в противном случае."
      ],
      "metadata": {
        "id": "4JjJhReWD4KO"
      }
    },
    {
      "cell_type": "code",
      "source": [
        "def is_magic(date):\n",
        "    date = date.split('.')\n",
        "    return int(date[0]) * int(date[1]) == int(date[2][2::]) \n",
        "\n",
        "print(is_magic(input()))"
      ],
      "metadata": {
        "colab": {
          "base_uri": "https://localhost:8080/"
        },
        "id": "jaIyIqnAXX2d",
        "outputId": "b0396d24-de01-4d36-f426-bde51b9245bf"
      },
      "execution_count": null,
      "outputs": [
        {
          "output_type": "stream",
          "name": "stdout",
          "text": [
            "10.06.1960\n",
            "True\n"
          ]
        }
      ]
    },
    {
      "cell_type": "markdown",
      "source": [
        "Панграмма – это фраза, содержащая в себе все буквы алфавита. Обычно панграммы используют для презентации шрифтов, чтобы можно было в одной фразе рассмотреть все глифы.\n",
        "Напишите функцию, is_pangram(text) которая принимает в качестве аргумента строку текста на английском языке и возвращает значение True если текст является панграммой и False в противном случае. Гарантируется, что введенная строка содержит только буквы английского алфавита.\n",
        "['a', 'b', 'c', 'd', 'e', 'f', 'g', 'h', 'i', 'j', 'k', 'l', 'm', 'n', 'o', 'p', 'q', 'r', 's', 't', 'u', 'v', 'w', 'x', 'y', 'z']\n",
        "функция set() применяемая к строке, создает множество из неповторяющихся элементов строки\n",
        "например, set('aabbccdd') = (a, b, c, d). \n",
        "Останется проверить только его длину через len().\n",
        "***Напоминаю, что алфавит можно сгенерировать связкой a in range(97, 123) и chr(a)"
      ],
      "metadata": {
        "id": "M13ho2hsDwKB"
      }
    },
    {
      "cell_type": "code",
      "source": [
        "def is_pangram(text):\n",
        "    for char in \"abcdefghijklmnopqrstuvwxyz\":\n",
        "        if char not in text.lower():\n",
        "            return False\n",
        "    return True\n",
        "\n",
        "print(is_pangram(input()))"
      ],
      "metadata": {
        "colab": {
          "base_uri": "https://localhost:8080/"
        },
        "id": "R9M02HQwZiSS",
        "outputId": "493c2bf9-8f6c-487e-d6b2-831ec7ab0dd8"
      },
      "execution_count": null,
      "outputs": [
        {
          "output_type": "stream",
          "name": "stdout",
          "text": [
            "razy Fredrick bought many very exquisite opal\n",
            "False\n"
          ]
        }
      ]
    },
    {
      "cell_type": "markdown",
      "source": [
        "Угадайка чисел\n",
        "Описание проекта: программа генерирует случайное число в диапазоне от \n",
        "1 до 100 и просит пользователя угадать это число. Если догадка пользователя больше случайного числа, то программа должна вывести сообщение 'Слишком много, попробуйте еще раз'. Если догадка меньше случайного числа, то программа должна вывести сообщение 'Слишком мало, попробуйте еще раз'. Если пользователь угадывает число, то программа должна поздравить его и вывести сообщение 'Вы угадали, поздравляем!'.\n",
        "\n",
        "Составляющие проекта:\n",
        "\n",
        "* Целые числа (тип int);\n",
        "* Переменные;\n",
        "* Ввод / вывод данных (функции input() и print());\n",
        "* Условный оператор (if/elif/else);\n",
        "* Цикл while;\n",
        "* Бесконечный цикл;\n",
        "* Операторы break, continue;\n",
        "* Работа с модулем random для генерации случайных чисел."
      ],
      "metadata": {
        "id": "M7X7jr3GPVNq"
      }
    },
    {
      "cell_type": "code",
      "source": [
        "from random import *\n",
        "\n",
        "\n",
        "def guess_num():\n",
        "  n = randint(1, 100)\n",
        "  while True:\n",
        "    num = int(input('Введите целое число от 1 до 100: '))\n",
        "    if num > n:\n",
        "      print('Слишком много, попробуйте еще раз')\n",
        "      continue\n",
        "    elif num < n:\n",
        "      print('Слишком мало, попробуйте еще раз')\n",
        "      continue\n",
        "    else:\n",
        "      print('Вы угадали, поздравляем!')\n",
        "      break\n",
        "\n",
        "guess_num()"
      ],
      "metadata": {
        "colab": {
          "base_uri": "https://localhost:8080/",
          "height": 553
        },
        "id": "MGvjnnTg0Cfe",
        "outputId": "d1eea3fa-7401-4d3d-c064-db930aee16c7"
      },
      "execution_count": null,
      "outputs": [
        {
          "output_type": "stream",
          "name": "stdout",
          "text": [
            "Введите целое число от 1 до 100: 25\n",
            "Слишком мало, попробуйте еще раз\n",
            "Введите целое число от 1 до 100: 44\n",
            "Слишком мало, попробуйте еще раз\n",
            "Введите целое число от 1 до 100: 77\n",
            "Слишком мало, попробуйте еще раз\n",
            "Введите целое число от 1 до 100: 88\n",
            "Слишком много, попробуйте еще раз\n",
            "Введите целое число от 1 до 100: 11\n",
            "Слишком мало, попробуйте еще раз\n",
            "Введите целое число от 1 до 100: 17\n",
            "Слишком мало, попробуйте еще раз\n"
          ]
        },
        {
          "output_type": "error",
          "ename": "KeyboardInterrupt",
          "evalue": "ignored",
          "traceback": [
            "\u001b[0;31m---------------------------------------------------------------------------\u001b[0m",
            "\u001b[0;31mKeyboardInterrupt\u001b[0m                         Traceback (most recent call last)",
            "\u001b[0;32m<ipython-input-8-450764c36781>\u001b[0m in \u001b[0;36m<module>\u001b[0;34m\u001b[0m\n\u001b[1;32m     16\u001b[0m       \u001b[0;32mbreak\u001b[0m\u001b[0;34m\u001b[0m\u001b[0;34m\u001b[0m\u001b[0m\n\u001b[1;32m     17\u001b[0m \u001b[0;34m\u001b[0m\u001b[0m\n\u001b[0;32m---> 18\u001b[0;31m \u001b[0mguess_num\u001b[0m\u001b[0;34m(\u001b[0m\u001b[0;34m)\u001b[0m\u001b[0;34m\u001b[0m\u001b[0;34m\u001b[0m\u001b[0m\n\u001b[0m",
            "\u001b[0;32m<ipython-input-8-450764c36781>\u001b[0m in \u001b[0;36mguess_num\u001b[0;34m()\u001b[0m\n\u001b[1;32m      5\u001b[0m   \u001b[0mn\u001b[0m \u001b[0;34m=\u001b[0m \u001b[0mrandint\u001b[0m\u001b[0;34m(\u001b[0m\u001b[0;36m1\u001b[0m\u001b[0;34m,\u001b[0m \u001b[0;36m100\u001b[0m\u001b[0;34m)\u001b[0m\u001b[0;34m\u001b[0m\u001b[0;34m\u001b[0m\u001b[0m\n\u001b[1;32m      6\u001b[0m   \u001b[0;32mwhile\u001b[0m \u001b[0;32mTrue\u001b[0m\u001b[0;34m:\u001b[0m\u001b[0;34m\u001b[0m\u001b[0;34m\u001b[0m\u001b[0m\n\u001b[0;32m----> 7\u001b[0;31m     \u001b[0mnum\u001b[0m \u001b[0;34m=\u001b[0m \u001b[0mint\u001b[0m\u001b[0;34m(\u001b[0m\u001b[0minput\u001b[0m\u001b[0;34m(\u001b[0m\u001b[0;34m'Введите целое число от 1 до 100: '\u001b[0m\u001b[0;34m)\u001b[0m\u001b[0;34m)\u001b[0m\u001b[0;34m\u001b[0m\u001b[0;34m\u001b[0m\u001b[0m\n\u001b[0m\u001b[1;32m      8\u001b[0m     \u001b[0;32mif\u001b[0m \u001b[0mnum\u001b[0m \u001b[0;34m>\u001b[0m \u001b[0mn\u001b[0m\u001b[0;34m:\u001b[0m\u001b[0;34m\u001b[0m\u001b[0;34m\u001b[0m\u001b[0m\n\u001b[1;32m      9\u001b[0m       \u001b[0mprint\u001b[0m\u001b[0;34m(\u001b[0m\u001b[0;34m'Слишком много, попробуйте еще раз'\u001b[0m\u001b[0;34m)\u001b[0m\u001b[0;34m\u001b[0m\u001b[0;34m\u001b[0m\u001b[0m\n",
            "\u001b[0;32m/usr/local/lib/python3.9/dist-packages/ipykernel/kernelbase.py\u001b[0m in \u001b[0;36mraw_input\u001b[0;34m(self, prompt)\u001b[0m\n\u001b[1;32m    858\u001b[0m                 \u001b[0;34m\"raw_input was called, but this frontend does not support input requests.\"\u001b[0m\u001b[0;34m\u001b[0m\u001b[0;34m\u001b[0m\u001b[0m\n\u001b[1;32m    859\u001b[0m             )\n\u001b[0;32m--> 860\u001b[0;31m         return self._input_request(str(prompt),\n\u001b[0m\u001b[1;32m    861\u001b[0m             \u001b[0mself\u001b[0m\u001b[0;34m.\u001b[0m\u001b[0m_parent_ident\u001b[0m\u001b[0;34m,\u001b[0m\u001b[0;34m\u001b[0m\u001b[0;34m\u001b[0m\u001b[0m\n\u001b[1;32m    862\u001b[0m             \u001b[0mself\u001b[0m\u001b[0;34m.\u001b[0m\u001b[0m_parent_header\u001b[0m\u001b[0;34m,\u001b[0m\u001b[0;34m\u001b[0m\u001b[0;34m\u001b[0m\u001b[0m\n",
            "\u001b[0;32m/usr/local/lib/python3.9/dist-packages/ipykernel/kernelbase.py\u001b[0m in \u001b[0;36m_input_request\u001b[0;34m(self, prompt, ident, parent, password)\u001b[0m\n\u001b[1;32m    902\u001b[0m             \u001b[0;32mexcept\u001b[0m \u001b[0mKeyboardInterrupt\u001b[0m\u001b[0;34m:\u001b[0m\u001b[0;34m\u001b[0m\u001b[0;34m\u001b[0m\u001b[0m\n\u001b[1;32m    903\u001b[0m                 \u001b[0;31m# re-raise KeyboardInterrupt, to truncate traceback\u001b[0m\u001b[0;34m\u001b[0m\u001b[0;34m\u001b[0m\u001b[0m\n\u001b[0;32m--> 904\u001b[0;31m                 \u001b[0;32mraise\u001b[0m \u001b[0mKeyboardInterrupt\u001b[0m\u001b[0;34m(\u001b[0m\u001b[0;34m\"Interrupted by user\"\u001b[0m\u001b[0;34m)\u001b[0m \u001b[0;32mfrom\u001b[0m \u001b[0;32mNone\u001b[0m\u001b[0;34m\u001b[0m\u001b[0;34m\u001b[0m\u001b[0m\n\u001b[0m\u001b[1;32m    905\u001b[0m             \u001b[0;32mexcept\u001b[0m \u001b[0mException\u001b[0m \u001b[0;32mas\u001b[0m \u001b[0me\u001b[0m\u001b[0;34m:\u001b[0m\u001b[0;34m\u001b[0m\u001b[0;34m\u001b[0m\u001b[0m\n\u001b[1;32m    906\u001b[0m                 \u001b[0mself\u001b[0m\u001b[0;34m.\u001b[0m\u001b[0mlog\u001b[0m\u001b[0;34m.\u001b[0m\u001b[0mwarning\u001b[0m\u001b[0;34m(\u001b[0m\u001b[0;34m\"Invalid Message:\"\u001b[0m\u001b[0;34m,\u001b[0m \u001b[0mexc_info\u001b[0m\u001b[0;34m=\u001b[0m\u001b[0;32mTrue\u001b[0m\u001b[0;34m)\u001b[0m\u001b[0;34m\u001b[0m\u001b[0;34m\u001b[0m\u001b[0m\n",
            "\u001b[0;31mKeyboardInterrupt\u001b[0m: Interrupted by user"
          ]
        }
      ]
    },
    {
      "cell_type": "markdown",
      "source": [
        "Тимур загадал число от 1 до n. За какое наименьшее количество вопросов (на которые Тимур отвечает \"больше\" или \"меньше\") Руслан может гарантированно угадать число Тимура?"
      ],
      "metadata": {
        "id": "1QpW2O9PXc9A"
      }
    },
    {
      "cell_type": "code",
      "source": [
        "from math import log2, ceil\n",
        "\n",
        "\n",
        "def guess_num(num):\n",
        "  return ceil(log2(n))\n",
        "\n",
        "n = int(input())\n",
        "guess_num(n)"
      ],
      "metadata": {
        "id": "Di9Bve7KSCud",
        "colab": {
          "base_uri": "https://localhost:8080/"
        },
        "outputId": "2f6b89a7-8d01-427b-f0ad-132779f289be"
      },
      "execution_count": null,
      "outputs": [
        {
          "name": "stdout",
          "output_type": "stream",
          "text": [
            "1025\n"
          ]
        },
        {
          "output_type": "execute_result",
          "data": {
            "text/plain": [
              "11"
            ]
          },
          "metadata": {},
          "execution_count": 6
        }
      ]
    },
    {
      "cell_type": "markdown",
      "source": [
        "**Заголовок программы**\n",
        "\n",
        "Подключите модуль random;\n",
        "Сгенерируйте случайное число от 1 до 100;\n",
        "Выведите текст приветствия пользователю: 'Добро пожаловать в числовую угадайку'."
      ],
      "metadata": {
        "id": "880Gu6ejRpd1"
      }
    },
    {
      "cell_type": "markdown",
      "source": [
        "**Функция проверки корректности введенных данных**\n",
        "\n",
        "Пользователь потенциально может ввести неверные данные, например, не число, или число, превышающее 100. Важно предусмотреть такую возможность, чтобы программа продолжала правильно работать. Обработка такого рода ситуаций называется защитой от дурака.\n",
        "\n",
        "Напишите функцию is_valid() в которую передается один строковый аргумент. Функция возвращает значение True если переданный аргумент является целым числом от 1 до 100 и False в противном случае. "
      ],
      "metadata": {
        "id": "t6VTbpxQSAAN"
      }
    },
    {
      "cell_type": "markdown",
      "source": [
        "**Основной цикл программы**\n",
        "\n",
        "* Организуйте цикл, который будет запрашивать у пользователя данные (цикл может быть бесконечным (while True) или может использовать сигнальную метку с последующим переключением, после угадывания числа);\n",
        "* Запросите у пользователя число от 1 до 100;\n",
        "* Проверьте введенные данные с помощью функции is_valid():\n",
        "  * если данные некорректны, выведите текст: 'А может быть все-таки введем целое число от 1 до 100?' и перейдите к следующей итерации основного цикла;\n",
        "  * если данные корректны, преобразуйте их к целому числу для удобства дальнейшей работы."
      ],
      "metadata": {
        "id": "cjaHvXQpSqdn"
      }
    },
    {
      "cell_type": "markdown",
      "source": [
        "**Сравнение введенного числа с загаданным**\n",
        "\n",
        "Организуйте сравнение введенного числа с загаданным числом:\n",
        "* Если введенное число меньше загаданного числа, выведите текст: 'Ваше число меньше загаданного, попробуйте еще разок';\n",
        "* Если введенное число больше загаданного числа, выведите текст: 'Ваше число больше загаданного, попробуйте еще разок';\n",
        "* Если введенное число равно загаданному числу, выведите текст: 'Вы угадали, поздравляем!'.\n",
        "* Выведите прощальное сообщение пользователю: 'Спасибо, что играли в числовую угадайку. Еще увидимся...'"
      ],
      "metadata": {
        "id": "6_YiiMOiTAnC"
      }
    },
    {
      "cell_type": "markdown",
      "source": [
        "**Улучшения проекта**\n",
        "\n",
        "* Добавьте подсчет попыток, сделанных пользователем. Когда число отгадано, программа должна показать количество попыток;\n",
        "* Добавьте возможность генерации нового числа (повторная игра), после того, как пользователь угадал число;\n",
        "* Добавить возможность указания правой границы для случайного выбора числа (от \n",
        "1 до n)."
      ],
      "metadata": {
        "id": "kxsCG7UbTr5a"
      }
    },
    {
      "cell_type": "code",
      "source": [
        "import random\n",
        "\n",
        "\n",
        "num = random.randint(1, 100)\n",
        "print('Добро пожаловать в числовую угадайку!\\nВведите число от 1 до 100:\\n')\n",
        "\n",
        "def is_valid(n):\n",
        "    return n.isdigit() and 1 <= int(n) <= 100\n",
        "\n",
        "def input_num():\n",
        "    while True:\n",
        "        guess = input()\n",
        "        if is_valid(guess):\n",
        "            return int(guess)\n",
        "        else:\n",
        "            print('А может быть все-таки введем целое число от 1 до 100?')\n",
        "\n",
        "def compare_num():\n",
        "    while True:\n",
        "        n = input_num()\n",
        "        if n < num:\n",
        "            print('Ваше число меньше загаданного, попробуйте еще разок')\n",
        "        elif n > num:\n",
        "            print('Ваше число больше загаданного, попробуйте еще разок')\n",
        "        else:\n",
        "            print('Вы угадали, поздравляем!')\n",
        "            break\n",
        "\n",
        "compare_num()"
      ],
      "metadata": {
        "id": "Ka0Afhs-Rvhw"
      },
      "execution_count": null,
      "outputs": []
    },
    {
      "cell_type": "code",
      "source": [
        "import random\n",
        "\n",
        "\n",
        "def is_valid(n): # проверка на соответствие введенного значения условию\n",
        "    return n.isdigit() and float(n) - int(float(n)) == 0 and 1 <= int(n) <= 100\n",
        "\n",
        "\n",
        "def input_num(): # ввод данных\n",
        "    while True:\n",
        "        guess = input()\n",
        "        if is_valid(guess):\n",
        "            return int(guess)\n",
        "        else:\n",
        "            print('А может быть все-таки введем целое число от 1 до 100?')\n",
        "\n",
        "\n",
        "def compare_num(down_num, up_num): # Сравнение введенного значения с загаданным\n",
        "    num = random.randint(down_num, up_num)\n",
        "    total = 0\n",
        "    while True:\n",
        "        n = input_num()\n",
        "        total += 1\n",
        "        if n < num:\n",
        "            print('Не угадали, попробуйте число побольше')\n",
        "        elif n > num:\n",
        "            print('Мимо, назовите число поменьше')\n",
        "        else:\n",
        "            print('Победа!!! Вы угадали ответ за', total,  'попыток, поздравляем!' )\n",
        "            break\n",
        "\n",
        "\n",
        "def continue_game(): # Предложение продолжить игру\n",
        "    ans = input('Хотите продолжить (\"д\"/\"н\")?\\n')\n",
        "    while True:\n",
        "        if ans not in ('y', 'д', 'n', 'н'):\n",
        "            ans = input('Вроде, взрослый человек, а на простой вопрос ответить не может...\\nПродолжим (\"д\"/\"н\")?\\n')\n",
        "        elif ans in ('n', 'н'):\n",
        "            print('До новых встреч!!!')\n",
        "            return False\n",
        "        else:\n",
        "            return True\n",
        "\n",
        "\n",
        "def game(): # Запуск игры\n",
        "    print('Добро пожаловать в числовую угадайку!')\n",
        "    while True:\n",
        "        print('Укажите, в каком диапазоне Вы готовы угадывать числа\\n(В пределах от 1 до 100):\\n')\n",
        "        x, y = input_num(), input_num()\n",
        "        if x > y:\n",
        "            x, y = y, x\n",
        "        print('Введите число от', x, 'до', y, '\\n')\n",
        "        compare_num(x, y)\n",
        "        if continue_game():\n",
        "            continue\n",
        "        else:\n",
        "            break\n",
        "\n",
        "\n",
        "game() # Вызов игры"
      ],
      "metadata": {
        "id": "OfBKK4FjUWJC"
      },
      "execution_count": null,
      "outputs": []
    }
  ]
}