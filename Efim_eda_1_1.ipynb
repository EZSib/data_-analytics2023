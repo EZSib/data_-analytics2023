{
  "cells": [
    {
      "cell_type": "markdown",
      "metadata": {
        "id": "view-in-github",
        "colab_type": "text"
      },
      "source": [
        "<a href=\"https://colab.research.google.com/github/EZSib/data_-analytics2023/blob/main/Efim_eda_1_1.ipynb\" target=\"_parent\"><img src=\"https://colab.research.google.com/assets/colab-badge.svg\" alt=\"Open In Colab\"/></a>"
      ]
    },
    {
      "cell_type": "code",
      "source": [
        "#словарь с методами пандаса и связанные с ним библиотеки\n",
        "pandas_methods = {\n",
        "    \"json.dump()\": \"Записывает объект Python в файл в формате JSON\",\n",
        "    \"json.dumps()\": \"Создает JSON-строку из переданного в нее объекта\",\n",
        "    \"json.load()\": \"Считывает файл в формате JSON и возвращает объекты Python\",\n",
        "    \"json.loads()\": \"Преобразует JSON-строку в объекты Python\",\n",
        "    \"df.to_json()\": \"Запись датафрейма в формат JSON\",\n",
        "    \"pd.read_json()\": \"Чтение файла формата JSON\",\n",
        "    \"eval()\": \"Функция, выполняющая строку-выражение, переданную ей в качестве обязательного аргумента, и возвращающая результат выполнения этой строки.\",\n",
        "    \"replace()\": \"Возвращает копию строки, в которой все вхождения подстроки заменяются другой подстрокой\",\n",
        "    \"split()\": \"Разбивает строку по указанному разделителю и возвращает список строк\",\n",
        "    \"strip()\": \"Возвращает копию строки, удаляя как начальные, так и конечные символы (в зависимости от переданного строкового аргумента; по умолчанию - пробелы)\",\n",
        "    \"apply()\": \"Позволяет пользователю передать функцию и применить ее к каждому отдельному значению серии Pandas\",\n",
        "    \"rename(columns={'costs_sum': 'costs'}, inplace=True)\": \"Переименовывает столбец датафрейма 'costs_sum‘ в 'costs‘ (параметр inplace=True перезаписывает датафрейм)\",\n",
        "    \"df.country.str.contains('platform')\": \"Проверяет все значения столбца 'country‘ датафрейма на вхождение подстроки 'platform'\",\n",
        "    \"df.drop([3334, 3335, 3336,3337],inplace=True)\": \"Удаляет наблюдения датафрейма по наименованию индексов ([3334, 3335, 3336, 3337]; параметр inplace=True перезаписывает датафрейм)\",\n",
        "\n",
        "    \"pd.DataFrame(data)\": \"Создание объекта DataFrame\",\n",
        "    \"!gdown –id 'id файла'\": \"одгрузка файла в среду выполнения кода Colab с google диска\",\n",
        "    \"from google.colab import files\": \" Импорт класса files из библиотеки google.colab.\",\n",
        "    \"uploaded = files.upload()\": \"Импорт класса files из библиотеки google.colab. Подгрузка файла в среду выполнения кода с персонального компьютера\",\n",
        "    \"pd.read_csv('shop_users.csv')\": \"Чтение файла формата csv (tsv)\",\n",
        "    \"pd.read_excel('shop_users.xlsx')\": \"Чтение файла формата xlsx (xls)\",\n",
        "    \"df.head()\": \"Показывает наблюдения с начала датасета (по умолчанию - 5 наблюдений)\",\n",
        "    \"df.tail(3)\": \"Показывает наблюдения с конца датасета (указано 3 строки)\",\n",
        "    \"df.sample(4)\": \"Показывает случайно выбранные наблюдения (указано 4 строки)\",\n",
        "    \"type(df)\": \"Показывает тип данных передаваемого объекта\",\n",
        "    \"df.size\": \"Показывает размеры датасета (количество ячеек: строки Х столбцы)\",\n",
        "    \"len(df)\": \"Показывает длину датасета (количество наблюдений)\",\n",
        "    \"len(df.axes[1])\": \"Показывает количество признаков в датасете (количество столбцов)\",\n",
        "    \"df.shape\": \"Показывает размеры датасета (количество наблюдений и признаков)\",\n",
        "    \"df.dtypes\": \"Показывает информацию о типах данных по каждому признаку\",\n",
        "    \"df.info()\": \"Показывает общую информацию о датасете\",\n",
        "\n",
        "    \"df.copy()\": \"Создание копии датафрейма df\",\n",
        "    \"df.columns\": \"Вывод списка колонок (столбцов) датафрейма\",\n",
        "    \"df.drop(columns=columns, inplace=True)\": \"Удаление столбцов датафрейма (параметр inplace=True перезаписывает датафрейм)\",\n",
        "    \"df.duplicated()\": \"Проверка на дубликаты: выдает объект Series с булевыми значениями True/False\",\n",
        "    \"df.duplicated().sum()\": \"Количество полных дубликатов (по умолчанию параметр keep='first‘ присваивает значение True первому из совпадений)\",\n",
        "    \"df.duplicated(subset=['bdate', 'sex'], keep=False).sum()\": \"Количество дубликатов по столбцам 'bdate', 'sex’ (параметр keep=False присваивает значения True всем найденным дубликатам)\",\n",
        "    \"df.drop_duplicates(inplace=True)\": \"Удаление полных дубликатов (по умолчанию параметр keep='first‘ удаляет все дубликаты, кроме первого; параметр inplace=True перезаписывает датафрейм)\",\n",
        "    \"df.drop_duplicates(subset=['bdate', 'sex'],keep=False, inplace=True)\": \"Удаление дубликатов по столбцам 'bdate', 'sex’ (параметр keep=False удаляет все найденные дубликаты; параметр inplace=True перезаписывает датафрейм)\",\n",
        "\n",
        "    \"df. isna() / df. isnull()\": \"Проверка датафрейма на пропуски\",\n",
        "    \"df. notna() / df. notnull()\": \"Проверка датафрейма на заполненные значения\",\n",
        "    \"df. isna().sum()\": \"Количество пропущенных значений в датафрейме\",\n",
        "    \"df.isnull().mean()*100\": \"Процент пропущенных значений в датафрейме\",\n",
        "    \"df.notna().sum()\": \"Количество заполненных значений в датафрейме\",\n",
        "    \"df['costs']. isna().sum()\": \"Количество пропущенных значений по столбцу ‘costs’\",\n",
        "    \"df.dropna(inplace=True)\": \"Удалению всех наблюдений датафрейма, где есть хотя бы одно пустое значение (параметр inplace=True перезаписывает датафрейм)\",\n",
        "    \"df.dropna(subset=['costs', 'games'], inplace=True)\": \"Удаление наблюдений, у которых пропущены значения по столбцам 'costs‘ и 'games' (параметр inplace=True перезаписывает датафрейм)\",\n",
        "    \"df['city'].fillna('Moscow‘, inplace=True)\": \"Заполнение пропущенных значений по столбцу 'city‘ значением 'Moscow‘ (параметр inplace=True перезаписывает датафрейм)\",\n",
        "    \"mean = df['followers_count'].mean()\": \"empty\",\n",
        "    \"df['followers_count'].fillna(mean, inplace=True)\": \"Заполнение пропущенных значений по столбцу 'followers_count‘ средним значением по этому столбцу (параметр inplace=True перезаписывает датафрейм)\",\n",
        "    \"df.reset_index(drop=True, inplace=True)\": \"Назначение нового индексного столбца датафрейма (параметр drop=True автоматически удаляет исходный индексный столбец; параметр inplace=True перезаписывает датафрейм)\",\n",
        "    \"df.index\": \"Проверка диапазона индексов\",\n",
        "    \"pd.Series.astype(‘int’)\":\" переводит признак в тип данных int, используемый в Python (ошибка при наличии пропущенных значений)\",\n",
        "    \"pd.Series.astype(‘Int64’)\":\" переводит признак в тип данных Int64, используемый в Pandas  (работает при наличии пропущенных значений)\",\n",
        "    \"pd.to_numeric()\":\" переводит признак в числовой тип данных int64 или float64  в зависимости от подаваемых значений\",\n",
        "    \"import datetime\":\" Импорт модуля datetime\",\n",
        "    \"from datetime import datetime\": \"Импорт класса datetime модуля datetime\",\n",
        "    \"pd.to_datetime()\": \"Переводит объект Pandas в формат datetime64\",\n",
        "    \"pd.to_datetime(df.Series, unit='s', origin='unix')\": \"Переводит объект Series, значения которого закодированы в Unix time в секундах, в формат datetime64\",\n",
        "    \"pd.Timestamp.utcfromtimestamp( df.Series)\": \"Переводит объект Series, значения которого закодированы в Unix time в секундах, в формат datetime64\",\n",
        "    \"df.Series.dt.strftime('%d.%m.%Y')\": \"Переводит объект Series формата datetime в строковое значение в виде ДД.ММ.ГГГГ\",\n",
        "    \"pd.Series.astype()\": \"Переводит признаки в типы данных, используемых в Python или Numpy (тип данных необходимо указывать в качестве параметра)\",\n",
        "    \"pd.to_numeric(downcast=‘float’)\": \"Переводит признак в числовой тип данных (параметр downcast указывает на перевод в тип данных float64; без указания параметра переводит в числовой тип данных int64 или float64\",\n",
        "    \"pd.Timestamp.today()\": \"Получение текущих даты и времени\",\n",
        "    \"DatetimeObject.year\": \"Извлечение года из объекта формата datetime (существует большое число атрибутов)\",\n",
        "    \"current_year - df.bdate.apply(lambda x: x.year)\": \"Расчет количества лет как текущий год за минусом года, извлеченного из даты рождения\",\n",
        "    \"df['costs_to_rur'] = df['currency'].map(rates) * df['costs']\": \"Расчет дополнительного признака со стоимостью в единой валюте – рублях на основании словаря с  курсами валют от существующих признаков 'currency‘ и 'costs'\",\n",
        "    \"df.sex.apply(lambda x: 1 if x == 'женский'  else 2)\": \"Кодирование пола (при условии, что все значения заполнены) sex_dict = {1: 'женский'  2: 'мужской', 0: 'не указан'}\",\n",
        "    \"df.sex.apply(lambda x: sex_dict[x])\": \"Декодирование пола на основании словарярасшифровки\",\n",
        "\n",
        "    \"df.Series.unique()\": \"Получение уникальных значений объекта Series  датафрейма\",\n",
        "    \"df.explode(‘Series’, ignore_index=True)\": \"Трансформирует датафрейм в разрезе списков значений по признаку (параметр ignore_index=True сбрасывает исходные индексы) columns = […]\",\n",
        "    \"df = df[columns]\": \"Сохраняет датафрейм, состоящий из переданного списка признаков, при этом учитывая их порядок в списке\",\n",
        "    \"df.to_csv(‘FileName.csv’)\": \"Записывает датафрейм в файл формата csv\",\n",
        "    \"df.to_excel(‘FileName.xlsx’, index=False)\": \"Записывает датафрейм в файл формата xlsx (параметр index=False игнорирует индексный столбец при записи)  \",\n",
        "\n",
        "    \"df.Series.str.len()\": \"Возвращает длины строковых значений объекта Series\",\n",
        "    \"df.Series.str.count(‘s’)\": \"Возвращает количество вхождений подстроки ‘s’ в строку объекта Series\",\n",
        "    \"df.Series.str.lower()\": \"Приведение строковых значений объекта Series в нижний регистр\",\n",
        "    \"df.Series.str.upper()\": \"Приведение строковых значений объекта Series в верхний регистр\",\n",
        "    \"df.Series.str.capitalize()\": \"Приведение первых символов строковых значений объекта Series в верхний регистр, а остальных символов – в нижний регистр\",\n",
        "    \"df.Series.str.strip()\": \"Возвращает копии строки объекта Series, удаляя как начальные, так и конечные символы (в зависимости от переданного строкового аргумента; по умолчанию - пробелы)\",\n",
        "    \"df.Series.str.lstrip()\": \"Возвращает копии строки объекта Series, удаляя как начальные символы (в зависимости от переданного строкового аргумента; по умолчанию - пробелы)\",\n",
        "    \"df.Series.str.rstrip()\": \"Возвращает копии строки объекта Series, удаляя конечные символы (в зависимости от переданного строкового аргумента; по умолчанию - пробелы)\",\n",
        "    \"df.Series.str.replace(‘old’, ‘new’)\": \"Заменяет указанную подстроку строковых значений объекта Series на новую\",\n",
        "    \"df.Series.str.split(sep=‘sep’)\": \"Разделяет строки объекта Series на список подстрок по указанному разделителю (по  умолчанию – пробел)\",\n",
        "    \"df.Series.str.cat(sep=‘sep’)\": \"Объединяет строки объектов Series в единое строковое значение через указанный разделитель (по умолчанию – пробел)\",\n",
        "    \"df.Series.str. get_dummies()\": \"Кодирует значения объекта Series, для каждого создавая отдельный столбец\",\n",
        "    \"df.loc[df['column_name'] == 'some_value', 'column_name'] = 'значение'\": \"Заменяет значение объекта Series по условию (для любого типа данных)\",\n",
        "\n",
        "    \"df.loc[df.city.str.contains('petersb urg'), 'city'] = 'санкт-петербург'\": \"Заменяет значение признака 'city' на 'санкт-петербург' при условии, что изначальное значение по этому же признаку – содержит подстроку 'petersburg\",\n",
        "    \"df1[df1['player_surname'] == 'GOLOVIN']\": \"поиск строк с Головиным в ПЗ №6)\",\n",
        "    \"df.set_index('id', inplace=True)\":  \"меняем колонку index на id, inplace сохраняет изменения в датафрейме\",\n",
        "    \"pd.read_json('partner_data_records_cp1251.json', encoding='cp1251')\": \"чтение файла в кодировке Windows-1251 (cp1251),encoding='UTF-8'\",\n",
        "    \"df = pd.read_excel('partner_data.xlsx', sheet_name='partner_data1', header=0, index_col='id')\": \"header — строка с заголовками, index_col — колонка с индексами\",\n",
        "    \".iloc\": \"выбор элементов по индексу;\",\n",
        "    \".loc\": \"выбор элементов по названию. \",\n",
        "    \"df.iloc[0,0]\": \"элемент на позиции [0,0]\",\n",
        "    \"df.iloc[0:3, 0]\": \"элементы 0, 1, 2 нулевого столбца\",\n",
        "    \"df.iloc[:, 0]\": \"полный срез столбца 0\",\n",
        "    \"df.iloc[0, :]\": \"полный срез строки 0\",\n",
        "    \"df.loc[1, 'age']\": \"строка с id 1, столбец age\",\n",
        "    \"df.loc[5:6, 'marital':'education']\": \"обе границы включаются в диапазон\",\n",
        "    \"df.loc[[5,10], ['marital','default']]\": \"можно передавать списки\",\n",
        "    \"df['age']\": \"один столбец\",\n",
        "    \"df[['age', 'marital']]\": \"несколько столбцов\"\n",
        "\n",
        "}\n",
        "# словарь с шаблонами eda\n",
        "eda = {\n",
        "\"Шаблон применения какой-либо функции ко всем значениям колонки\": '''import re\n",
        "def clear_price(price):\n",
        "    return int(re.sub(\\'\\\\D\\', \\'\\', price))\n",
        "dataset[\\'Очищенная цена\\'] = dataset[\\'Цена\\'].apply(clear_price)''',\n",
        "    \"Шаблон сортировки по значению\": '''sorted_dataset = dataset.sort_values('Очищенная цена')\n",
        "sorted_dataset''',\n",
        "    \"Импортируем библиотеку визуализации\":'''import matplotlib.pyplot as plt''',\n",
        "    \"Для визуального представления данных в том числе медианы, квартилей и выбросов используем boxplot\": '''plt.boxplot(dataset['Номер этажа'])\n",
        "plt.show()''',\n",
        "    \"Альтернативный способ визуализировать колонку - гистограмма\":'''plt.hist(dataset['Номер этажа'], bins = 50)\n",
        "plt.xlim((None,55)) # для \"отрезания\" от графика неинформативного\n",
        "plt.show()''',\n",
        "    \"Создание переменной с Series\":'''year_of_construction = dataset['Год постройки']''',\n",
        "    \"Расчет минимального и максимального значения Series\":'''max_value = year_of_construction.max()\n",
        "min_value = year_of_construction.min()\n",
        "print('Максимальный год постройки: ', max_value, 'Минимальный год постройки: ', min_value)''',\n",
        "    \"Расчет среднего значения Series\":'''mean_value = year_of_construction.mean()\n",
        "print('Средний год постройки: ', mean_value)''',\n",
        "    \"Расчет медианы Series\":'''median_value = year_of_construction.median()\n",
        "print('Медиана года постройки: ', median_value)''',\n",
        "    \"Расчет 10-го и 25-го процентилей Series\":'''percentile_10_value = year_of_construction.quantile(0.10)\n",
        "percentile_25_value = year_of_construction.quantile(0.25)\n",
        "print('10-й процентиль года постройки: ', percentile_10_value)\n",
        "print('25-й процентиль года постройки: ', percentile_25_value)''',\n",
        "    \"Для расчета всех основных статистических показателей сразу\":'''year_of_construction.describe()''',\n",
        "    \"Неграфический способ проанализировать колонку\":'''dataset['Класс жилья'].describe()''',\n",
        "    \"Более полный неграфический способ\":'''class_counts = dataset['Класс жилья'].value_counts()\n",
        "class_counts''',\n",
        "    \"Круговая диаграмма\":'''plt.pie(class_counts.values, labels = class_counts.index)\n",
        "plt.title('Круговая диаграмма распределения классов квартир') # Добавление подписи к графику\n",
        "plt.show()''',\n",
        "    \"Стобцевая диаграмма\":'''type_counts = dataset['Тип здания'].value_counts()\n",
        "plt.barh(type_counts.index, type_counts.values)\n",
        "plt.title('Столбцовая диаграмма распределения типов здания')\n",
        "plt.show()''',\n",
        "    \"Шаблона первичного анализа взаимосвязи категориальной и числовой колонок\":'''dataset.groupby('Класс жилья')[\"Очищенная цена за м²\"].describe()''',\n",
        "    \"Шаблон визуального анализа взаимосвязи категориальной и числовой колонок\":'''import seaborn as sns\n",
        "sns.boxplot(x='Класс жилья', y=\"Очищенная цена за м²\", data=dataset)\n",
        "plt.axis(ymin=0, ymax=1100000) \n",
        "plt.show()''',\n",
        "    \"Шаблона анализа взаимосвязи двух и более числовых колонок\":'''g = sns.PairGrid(new_dataset[columns])\n",
        "g.map(sns.scatterplot, alpha=0.2)''',\n",
        "    \"Шаблона анализа взаимосвязи двух категориальных колонок\":'''import matplotlib.pyplot as plt\n",
        "flat_types = dataset['Класс жилья'].unique()\n",
        "flat_types = flat_types[1:]\n",
        "labels = dataset['Тип здания'].unique()\n",
        "colors = dict(zip(labels, plt.cm.tab20.colors[:len(labels)]))\n",
        "for flat_type in flat_types: \n",
        "  df = dataset[dataset['Класс жилья']==flat_type] \n",
        "  class_counts = df['Тип здания'].value_counts()\n",
        "  labels =class_counts.index\n",
        "  plt.title(flat_type)\n",
        "  patches, texts = plt.pie(\n",
        "      class_counts.values, \n",
        "      labels = labels, \n",
        "      colors = [colors[key] for key in labels],\n",
        "      textprops=dict(color=\"w\")\n",
        "      )\n",
        "  plt.legend(patches, labels, title=\"Типы здания\", loc=\"upper center\", bbox_to_anchor=(1, 0, 0.5, 1)) \n",
        "  plt.show()''',\n",
        "    \"Шаблон фильтрации по одному значению в колонке\":'''filtered_dataset = dataset[dataset['Этап строительства']=='Котлован']''',\n",
        "    \"Шаблон фильтрации числовой колонки\":'''filtered_dataset = dataset[dataset['Год постройки']>2010]''',\n",
        "    \"Шаблон фильтрации по нескольким значениям в колонке\":'''districts = ['Строгино', 'Щукино', 'Хорошёвский']\n",
        "filtered_dataset = dataset[dataset['Район'].isin(districts)]''',\n",
        "    \"Шаблон фильтрации по нескольким колонкам\":'''districts = ['Строгино', 'Щукино', 'Хорошёвский']\n",
        "filtered_dataset = dataset[(dataset['Район'].isin(districts)) & (dataset['Год постройки']>2010)]''',\n",
        "    \"Шаблон фильтрации по всем значениям кроме заданных в фильтре\":'''districts = ['Строгино', 'Щукино', 'Хорошёвский']\n",
        "filtered_dataset = dataset[~(dataset['Район'].isin(districts))]''',\n",
        "    \"Шаблон взятия элемента по индексу\":'''dataset.loc[100]''',\n",
        "    \"Шаблон взятия среза по промежутку\":'''dataset.loc[1000:1002]''',\n",
        "    \"Шаблон создания нового датасета списку индексов \":'''index_list = [354,1,2]\n",
        "dataset.loc[index_list].head()''',\n",
        "    \"Для не числовых индексов все работает аналогично\":'''describe_data = dataset.describe()\n",
        "describe_data.loc['max']''',\n",
        "    \"Шаблон для взятия среза в хаотично пронумеровнном датасете \":'''sorted_dataset = dataset.sort_values('Количество комнат', ascending=False)\n",
        "sorted_dataset.iloc[:100]''',\n",
        "    \"Нестандартная фильтрация с помощью дополнительный функции\":'''def is_address_correct(address):\n",
        "  return 'Тагильская' in address\n",
        "mask = dataset['Адрес'].apply(is_address_correct)\n",
        "filtred_dataset = dataset[mask]''',\n",
        "    \"Шаблон фильтрации числовых колонок\":'''dtypes = dataset.dtypes\n",
        "num_dtypes = dtypes[dtypes!='object']\n",
        "new_columns = num_dtypes.index\n",
        "filtred_dataset = dataset[num_dtypes.index]''',\n",
        "    \"Шаблон взятия среднего значения цены квартир сгруппированных по значениям Этапа строительства  \":'''groups_mean_price = dataset.groupby('Этап строительства')['Очищенная цена'].mean()''',\n",
        "    \"Шаблон взятия среднего значения цены квартир сгруппированных по значениям колонок Этапа строительства и Класса жилья\":'''\n",
        "groups_mean_price = dataset.groupby(['Этап строительства', 'Класс жилья'], as_index=False)['Очищенная цена'].mean()\n",
        "groups_mean_price['Очищенная цена'] = groups_mean_price['Очищенная цена'].astype(int)''',\n",
        "    \"Размер шрифта на диаграмме\":'''params = {\n",
        "          'axes.titlesize': 15,   Размер шрифта главной подписи\n",
        "          'xtick.labelsize': 12,  Размер шрифта подписей тикетов оси X\n",
        "          'axes.labelsize': 14    Размер шрифта подписей осей\n",
        "          }\n",
        "plt.rcParams.update(params)''',\n",
        "    \"Шаблон улучшения графика\":'''import matplotlib.pyplot as plt\n",
        "type_counts = dataset['Тип здания'].value_counts()\n",
        "other_types = type_counts[type_counts<500]\n",
        "type_counts = type_counts[type_counts>500]\n",
        "type_counts['Другое'] = other_types.sum() # Замена редких значений категорией Другое\n",
        "plt.style.use('seaborn') # Смена стиля всех графиков matplotlib\n",
        "params = {\n",
        "          'axes.titlesize': 15,   # Размер шрифта главной подписи\n",
        "          'xtick.labelsize': 12,  # Размер шрифта подписей тикетов оси X\n",
        "          'axes.labelsize': 14    # Размер шрифта подписей осей\n",
        "          }\n",
        "plt.rcParams.update(params) # Фиксация параметров\n",
        "plt.ylabel('Количество квартир') # Подпись оси Y\n",
        "plt.title('Диаграмма распределения типов здания') # Подпись всего графика\n",
        "plt.xticks(rotation=30, ha = 'right') # Поворот на 30 градусов подписей оси X и выравнивание по правому краю\n",
        "plt.bar(type_counts.index, type_counts.values, color='#03A9F4') # Кастомизация цвета\n",
        "plt.show()''',\n",
        "    \"50 разных способов создать боксплот/диаграмму/гистаграмму\":'''https://habr.com/ru/articles/468295/''',\n",
        "                                                                  }\n",
        "def search_in(string, dct=pandas_methods):\n",
        "    '''Функция поиска совпадений по подстроке, можно писать часть названия метода/функции\n",
        "    или слово/часть слова из описания этой функции/метода'''\n",
        "    return_list = []\n",
        "    for name, info in dct.items():\n",
        "        if string.lower() in name.lower() or string.lower() in info.lower():\n",
        "            return_list.append({name: info})\n",
        "    print('*'*156)\n",
        "    for i in return_list:\n",
        "        print(*i)\n",
        "        print(*(i.values()), end='\\n'+156 * '-'+'\\n')\n",
        "# end='\\n'+ max(map(lambda x: len(str(x)), return_list))*'-'+'\\n'\n",
        "# запросы разделены *, примеры разделены -"
      ],
      "metadata": {
        "id": "XJbggQ_grfd8"
      },
      "execution_count": null,
      "outputs": []
    },
    {
      "cell_type": "markdown",
      "source": [
        "# **Разведочный анализ по датасету IMDb Movies: 5000 фильмов с наибольшим рейтингом. Часть 1: Обзор и предобработка данных**"
      ],
      "metadata": {
        "id": "L2Epn7UHiXfS"
      }
    },
    {
      "cell_type": "markdown",
      "source": [
        "![](https://adabul.com/wp-content/uploads/2020/04/diziler-360x240.jpg)"
      ],
      "metadata": {
        "id": "uF5OyCiAZ7Bn"
      }
    },
    {
      "cell_type": "markdown",
      "source": [
        "## 1. Описание датасета и задания"
      ],
      "metadata": {
        "id": "jgCIJe8tjIvI"
      }
    },
    {
      "cell_type": "markdown",
      "source": [
        "Представлен датасет с данными о 5000 фильмах, имеющих наибольший рейтинг на сайте IMDb (датасет выложен на платформе [Kaggle](https://www.kaggle.com/datasets/totoro29/imdb-movies))."
      ],
      "metadata": {
        "id": "ODZr1pzSjUEZ"
      }
    },
    {
      "cell_type": "markdown",
      "source": [
        "***Информация, содержащаяся в датасете:***\n",
        "1.   Ссылка на постер фильма (poster).\n",
        "2.   Наименование фильма (title).\n",
        "3.   Класс фильма по рейтингу the British Board of Film Classification (BBFC) (certificate).\n",
        "4.   Продолжительность фильма (runtime).\n",
        "5.   Жанр фильма (genre).\n",
        "6.   Рейтинг фильма на платформе IMBD (rating).\n",
        "7.   Описание сюжета фильма (about).\n",
        "8.   Кинорежиссер фильма (director).\n",
        "9.   Актеры-звезды фильма (stars).\n",
        "10.  Количество проголосовавших за фильм (votes).\n",
        "11.  Доход с фильма (gross_earn).\n",
        "\n"
      ],
      "metadata": {
        "id": "wU83gIaOVmSq"
      }
    },
    {
      "cell_type": "markdown",
      "source": [
        "***Задача:***\n",
        "провести разведочный анализ данных, найти взаимосвязи и сформулировать выводы."
      ],
      "metadata": {
        "id": "peR0dY_JVeCJ"
      }
    },
    {
      "cell_type": "markdown",
      "source": [
        "**В части 1 задания необходимо:**\n",
        "1.   Выполнить обзор данных.\n",
        "2.   Оценить датасет на наличие дубликатов и при необходимости обработать их.\n",
        "3.   Оценить признаки на наличие пропусков и при необходимости обработать их.\n",
        "4.   Привести данные к необходимому для анализа типу.\n",
        "5.   Отсортировать и сохранить датасет для дальнейшего анализа.\n",
        "\n",
        "\n",
        "\n",
        "\n",
        "\n"
      ],
      "metadata": {
        "id": "Ef42FcCzkpb9"
      }
    },
    {
      "cell_type": "markdown",
      "source": [
        "## 2. Загрузка датасета"
      ],
      "metadata": {
        "id": "Tjg16j1yj7h3"
      }
    },
    {
      "cell_type": "code",
      "source": [
        "!gdown --id 1imLd48Tn7Z2iiORJp6tKWR0whfWBrP-0"
      ],
      "metadata": {
        "id": "hXVPxaqzkA1T",
        "outputId": "0e032419-f123-4edb-f93e-1c5b1af5f72a",
        "colab": {
          "base_uri": "https://localhost:8080/"
        }
      },
      "execution_count": null,
      "outputs": [
        {
          "output_type": "stream",
          "name": "stdout",
          "text": [
            "/usr/local/lib/python3.9/dist-packages/gdown/cli.py:121: FutureWarning: Option `--id` was deprecated in version 4.3.1 and will be removed in 5.0. You don't need to pass it anymore to use a file ID.\n",
            "  warnings.warn(\n",
            "Downloading...\n",
            "From: https://drive.google.com/uc?id=1imLd48Tn7Z2iiORJp6tKWR0whfWBrP-0\n",
            "To: /content/movies.csv\n",
            "100% 1.89M/1.89M [00:00<00:00, 156MB/s]\n"
          ]
        }
      ]
    },
    {
      "cell_type": "markdown",
      "source": [
        "## 3. Подгрузка данных в питон и начало работы с ними"
      ],
      "metadata": {
        "id": "Ui2UmktdkfBX"
      }
    },
    {
      "cell_type": "markdown",
      "source": [
        "Импортируйте библиотеку pandas и присвойте ей короткое название pd"
      ],
      "metadata": {
        "id": "GOhi3LqkhwaO"
      }
    },
    {
      "cell_type": "code",
      "execution_count": null,
      "metadata": {
        "id": "HDirS7pLCdac"
      },
      "outputs": [],
      "source": [
        "import pandas as pd"
      ]
    },
    {
      "cell_type": "markdown",
      "source": [
        "Откройте датасет movies.csv и сохраните его в переменную dataset"
      ],
      "metadata": {
        "id": "XNGRVqpyh28Y"
      }
    },
    {
      "cell_type": "code",
      "execution_count": null,
      "metadata": {
        "id": "PXy_b8D-DYxq"
      },
      "outputs": [],
      "source": [
        "dataset = pd.read_csv('movies.csv')"
      ]
    },
    {
      "cell_type": "markdown",
      "source": [
        "Проведите обзор таблицы с помощью метода head()"
      ],
      "metadata": {
        "id": "v5G-GfyWiZUg"
      }
    },
    {
      "cell_type": "code",
      "source": [
        "dataset.head"
      ],
      "metadata": {
        "id": "777NV7RZkwos",
        "outputId": "26dbc961-dd32-4f52-db1a-5f08455f361f",
        "colab": {
          "base_uri": "https://localhost:8080/"
        }
      },
      "execution_count": null,
      "outputs": [
        {
          "output_type": "execute_result",
          "data": {
            "text/plain": [
              "<bound method NDFrame.head of                                                  poster  \\\n",
              "0     https://m.media-amazon.com/images/S/sash/4Fyxw...   \n",
              "1     https://m.media-amazon.com/images/S/sash/4Fyxw...   \n",
              "2     https://m.media-amazon.com/images/S/sash/4Fyxw...   \n",
              "3     https://m.media-amazon.com/images/S/sash/4Fyxw...   \n",
              "4     https://m.media-amazon.com/images/S/sash/4Fyxw...   \n",
              "...                                                 ...   \n",
              "4995  https://m.media-amazon.com/images/S/sash/4Fyxw...   \n",
              "4996  https://m.media-amazon.com/images/S/sash/4Fyxw...   \n",
              "4997  https://m.media-amazon.com/images/S/sash/4Fyxw...   \n",
              "4998  https://m.media-amazon.com/images/S/sash/4Fyxw...   \n",
              "4999  https://m.media-amazon.com/images/S/sash/4Fyxw...   \n",
              "\n",
              "                                title certificate         runtime  \\\n",
              "0            The Shawshank Redemption          15         142 min   \n",
              "1                     The Dark Knight         12A         152 min   \n",
              "2                           Inception         12A         148 min   \n",
              "3                          Fight Club          18         139 min   \n",
              "4                        Pulp Fiction          18         154 min   \n",
              "...                               ...         ...             ...   \n",
              "4995  Seven Brides for Seven Brothers           U         102 min   \n",
              "4996                  Playing It Cool          15          94 min   \n",
              "4997             A Moment to Remember     144 min  Drama, Romance   \n",
              "4998                        Hairspray          PG          92 min   \n",
              "4999             McCabe & Mrs. Miller           X         120 min   \n",
              "\n",
              "                          genre  rating  \\\n",
              "0                         Drama     9.3   \n",
              "1          Action, Crime, Drama     9.0   \n",
              "2     Action, Adventure, Sci-Fi     8.8   \n",
              "3                         Drama     8.8   \n",
              "4                  Crime, Drama     8.9   \n",
              "...                         ...     ...   \n",
              "4995     Comedy, Drama, Musical     7.3   \n",
              "4996            Comedy, Romance     5.9   \n",
              "4997                        NaN     8.1   \n",
              "4998      Comedy, Drama, Family     7.0   \n",
              "4999             Drama, Western     7.6   \n",
              "\n",
              "                                                  about           director  \\\n",
              "0     Two imprisoned men bond over a number of years...     Frank Darabont   \n",
              "1     When the menace known as the Joker wreaks havo...  Christopher Nolan   \n",
              "2     A thief who steals corporate secrets through t...  Christopher Nolan   \n",
              "3     An insomniac office worker and a devil-may-car...      David Fincher   \n",
              "4     The lives of two mob hitmen, a boxer, a gangst...  Quentin Tarantino   \n",
              "...                                                 ...                ...   \n",
              "4995  In 1850 Oregon, when a backwoodsman brings a w...      Stanley Donen   \n",
              "4996  Unrequited love motivates a guy to write about...     Justin Reardon   \n",
              "4997  A young couple's enduring love is tested when ...        John H. Lee   \n",
              "4998  A 'pleasantly plump' teenager teaches 1962 Bal...        John Waters   \n",
              "4999  A gambler and a prostitute become business par...      Robert Altman   \n",
              "\n",
              "                                                  stars      votes gross_earn  \n",
              "0     ('Tim Robbins',), ('Morgan Freeman',), ('Bob G...  26,26,905    $28.34M  \n",
              "1     ('Christian Bale',), ('Heath Ledger',), ('Aaro...  25,98,173   $534.86M  \n",
              "2     ('Leonardo DiCaprio',), ('Joseph Gordon-Levitt...  23,04,062   $292.58M  \n",
              "3     ('Brad Pitt',), ('Edward Norton',), ('Meat Loa...  20,71,088    $37.03M  \n",
              "4     ('John Travolta',), ('Uma Thurman',), ('Samuel...  20,11,013   $107.93M  \n",
              "...                                                 ...        ...        ...  \n",
              "4995  ('Jane Powell',), ('Howard Keel',), ('Jeff Ric...     25,112     $9.40M  \n",
              "4996  ('Chris Evans',), ('Michelle Monaghan',), ('To...     28,515        NaN  \n",
              "4997  ('Jung Woo-sung',), ('Son Ye-jin',), ('Jong-ha...     23,957        NaN  \n",
              "4998  ('Sonny Bono',), ('Ruth Brown',), ('Divine',),...     21,536     $6.67M  \n",
              "4999  ('Warren Beatty',), ('Julie Christie',), ('Ren...     25,097     $8.20M  \n",
              "\n",
              "[5000 rows x 11 columns]>"
            ]
          },
          "metadata": {},
          "execution_count": 5
        }
      ]
    },
    {
      "cell_type": "markdown",
      "source": [
        "## 4. Оценка размеров датасета, наличия дубликатов и пропусков"
      ],
      "metadata": {
        "id": "3uHWsjiUlAVn"
      }
    },
    {
      "cell_type": "markdown",
      "source": [
        "Оцените размеры датасета с помощью атрибута shape"
      ],
      "metadata": {
        "id": "pKCuhhm4feDW"
      }
    },
    {
      "cell_type": "code",
      "execution_count": null,
      "metadata": {
        "id": "Mbniz7lAHMdW",
        "outputId": "80c720c0-e78f-422b-930e-627bf4251eb8",
        "colab": {
          "base_uri": "https://localhost:8080/"
        }
      },
      "outputs": [
        {
          "output_type": "execute_result",
          "data": {
            "text/plain": [
              "(5000, 11)"
            ]
          },
          "metadata": {},
          "execution_count": 10
        }
      ],
      "source": [
        "dataset.shape"
      ]
    },
    {
      "cell_type": "markdown",
      "source": [
        "Выведите информацию о датасете с помощью метода info(). Оцените признаки и типы данных, обратите внимание на пропущенные значения"
      ],
      "metadata": {
        "id": "-JVqJfqofmEp"
      }
    },
    {
      "cell_type": "code",
      "source": [
        "dataset.info()"
      ],
      "metadata": {
        "id": "Rb9-5dw7lL-_",
        "outputId": "2ea4bf3b-b56d-4108-a736-b27bb44643c4",
        "colab": {
          "base_uri": "https://localhost:8080/"
        }
      },
      "execution_count": null,
      "outputs": [
        {
          "output_type": "stream",
          "name": "stdout",
          "text": [
            "<class 'pandas.core.frame.DataFrame'>\n",
            "RangeIndex: 5000 entries, 0 to 4999\n",
            "Data columns (total 11 columns):\n",
            " #   Column       Non-Null Count  Dtype  \n",
            "---  ------       --------------  -----  \n",
            " 0   poster       5000 non-null   object \n",
            " 1   title        5000 non-null   object \n",
            " 2   certificate  5000 non-null   object \n",
            " 3   runtime      5000 non-null   object \n",
            " 4   genre        4970 non-null   object \n",
            " 5   rating       5000 non-null   float64\n",
            " 6   about        4986 non-null   object \n",
            " 7   director     5000 non-null   object \n",
            " 8   stars        5000 non-null   object \n",
            " 9   votes        5000 non-null   object \n",
            " 10  gross_earn   4585 non-null   object \n",
            "dtypes: float64(1), object(10)\n",
            "memory usage: 429.8+ KB\n"
          ]
        }
      ]
    },
    {
      "cell_type": "markdown",
      "source": [
        "Оцените наличие дубликатов в датасете с помощью метода duplicated() в связке с sum() (при необходимости исключите полные дубликаты)"
      ],
      "metadata": {
        "id": "AqF3KuIugDUA"
      }
    },
    {
      "cell_type": "code",
      "source": [
        "search_in('проп')"
      ],
      "metadata": {
        "id": "MOFTldW_uWQu",
        "outputId": "1b9a1f9a-dc27-46b0-a41a-1f053dcf6843",
        "colab": {
          "base_uri": "https://localhost:8080/"
        }
      },
      "execution_count": null,
      "outputs": [
        {
          "output_type": "stream",
          "name": "stdout",
          "text": [
            "************************************************************************************************************************************************************\n",
            "df. isna() / df. isnull()\n",
            "Проверка датафрейма на пропуски\n",
            "------------------------------------------------------------------------------------------------------------------------------------------------------------\n",
            "df. isna().sum()\n",
            "Количество пропущенных значений в датафрейме\n",
            "------------------------------------------------------------------------------------------------------------------------------------------------------------\n",
            "df.isnull().mean()*100\n",
            "Процент пропущенных значений в датафрейме\n",
            "------------------------------------------------------------------------------------------------------------------------------------------------------------\n",
            "df['costs']. isna().sum()\n",
            "Количество пропущенных значений по столбцу ‘costs’\n",
            "------------------------------------------------------------------------------------------------------------------------------------------------------------\n",
            "df.dropna(subset=['costs', 'games'], inplace=True)\n",
            "Удаление наблюдений, у которых пропущены значения по столбцам 'costs‘ и 'games' (параметр inplace=True перезаписывает датафрейм)\n",
            "------------------------------------------------------------------------------------------------------------------------------------------------------------\n",
            "df['city'].fillna('Moscow‘, inplace=True)\n",
            "Заполнение пропущенных значений по столбцу 'city‘ значением 'Moscow‘ (параметр inplace=True перезаписывает датафрейм)\n",
            "------------------------------------------------------------------------------------------------------------------------------------------------------------\n",
            "df['followers_count'].fillna(mean, inplace=True)\n",
            "Заполнение пропущенных значений по столбцу 'followers_count‘ средним значением по этому столбцу (параметр inplace=True перезаписывает датафрейм)\n",
            "------------------------------------------------------------------------------------------------------------------------------------------------------------\n",
            "pd.Series.astype(‘int’)\n",
            " переводит признак в тип данных int, используемый в Python (ошибка при наличии пропущенных значений)\n",
            "------------------------------------------------------------------------------------------------------------------------------------------------------------\n",
            "pd.Series.astype(‘Int64’)\n",
            " переводит признак в тип данных Int64, используемый в Pandas  (работает при наличии пропущенных значений)\n",
            "------------------------------------------------------------------------------------------------------------------------------------------------------------\n"
          ]
        }
      ]
    },
    {
      "cell_type": "code",
      "execution_count": null,
      "metadata": {
        "id": "Q_MAd-7IHVev",
        "outputId": "c6ad51ee-b0d9-4b39-9cf8-30f3ebf14392",
        "colab": {
          "base_uri": "https://localhost:8080/"
        }
      },
      "outputs": [
        {
          "output_type": "execute_result",
          "data": {
            "text/plain": [
              "0"
            ]
          },
          "metadata": {},
          "execution_count": 14
        }
      ],
      "source": [
        "dataset.duplicated().sum()"
      ]
    },
    {
      "cell_type": "markdown",
      "source": [
        "P.s. бывают ситуации, когда нет необходимости удалять дубликаты, т.к. их наличие может нести ценную информацию при анализе."
      ],
      "metadata": {
        "id": "93d03vUNlDZr"
      }
    },
    {
      "cell_type": "markdown",
      "source": [
        "Оцените наличие пропущенных значений в датасете по признаку gross_earn"
      ],
      "metadata": {
        "id": "mDDGcBNhg4CH"
      }
    },
    {
      "cell_type": "code",
      "source": [
        "dataset['gross_earn'].isna().sum()"
      ],
      "metadata": {
        "id": "ibVN4eMgl3bF",
        "outputId": "434bd9dd-a827-4e47-99cc-fdeaa452e62a",
        "colab": {
          "base_uri": "https://localhost:8080/"
        }
      },
      "execution_count": null,
      "outputs": [
        {
          "output_type": "execute_result",
          "data": {
            "text/plain": [
              "415"
            ]
          },
          "metadata": {},
          "execution_count": 17
        }
      ]
    },
    {
      "cell_type": "markdown",
      "source": [
        "P.s. не стоит исключать наблюдения с пропущенными значениями на этапе предобработки датасета, если нет жесткого требования это делать. Так можно потерять информацию по другим более значимым признакам. Кроме того, их наличие может нести ценную информацию при анализе."
      ],
      "metadata": {
        "id": "ockjWssjjvDF"
      }
    },
    {
      "cell_type": "markdown",
      "source": [
        "**Выводы:**"
      ],
      "metadata": {
        "id": "g8VaEPz_kVPe"
      }
    },
    {
      "cell_type": "markdown",
      "source": [
        "Напишите выводы по разделу:\n",
        "1.   О размерах датасета (количество признаков и количество наблюдений).\n",
        "2.   О типах данных (какие есть и какие должны быть, нужна ли предобработа).\n",
        "3.   О дубликатах (их наличие, нужна ли предобработка).\n",
        "4.   О пропущенных значениях (их наличие, нужна ли предобработка).\n",
        "5.   О возможных проблемах, которые могут возникнуть при анализе.\n",
        "\n"
      ],
      "metadata": {
        "id": "gTrlw0afkaE4"
      }
    },
    {
      "cell_type": "markdown",
      "source": [
        "## 5. Обработка колонок runtime и gross_earn: приведение к числовому типу"
      ],
      "metadata": {
        "id": "Int1osF-mdy-"
      }
    },
    {
      "cell_type": "markdown",
      "source": [
        "Приведите значения признаков runtime и gross_earn к числовому типу, исключив лишние символы"
      ],
      "metadata": {
        "id": "pr-FxQ0Zlc-z"
      }
    },
    {
      "cell_type": "markdown",
      "source": [
        "### *5.1. runtime*"
      ],
      "metadata": {
        "id": "gp81b9DUrIEr"
      }
    },
    {
      "cell_type": "markdown",
      "source": [
        "Выведите Series ['runtime'] для детального просмотра данных"
      ],
      "metadata": {
        "id": "gcGr7u2Vm7Ny"
      }
    },
    {
      "cell_type": "code",
      "execution_count": null,
      "metadata": {
        "id": "B4HhGwUOKCfU",
        "outputId": "02e1df51-43a4-4da1-9ba8-f17b0350c006",
        "colab": {
          "base_uri": "https://localhost:8080/"
        }
      },
      "outputs": [
        {
          "output_type": "execute_result",
          "data": {
            "text/plain": [
              "0              142 min\n",
              "1              152 min\n",
              "2              148 min\n",
              "3              139 min\n",
              "4              154 min\n",
              "             ...      \n",
              "4995           102 min\n",
              "4996            94 min\n",
              "4997    Drama, Romance\n",
              "4998            92 min\n",
              "4999           120 min\n",
              "Name: runtime, Length: 5000, dtype: object"
            ]
          },
          "metadata": {},
          "execution_count": 18
        }
      ],
      "source": [
        "dataset['runtime']"
      ]
    },
    {
      "cell_type": "markdown",
      "source": [
        "По индексу 4997 в признак попало аномальное значение - Drama, Romance"
      ],
      "metadata": {
        "id": "MuCBWTvJnEHF"
      }
    },
    {
      "cell_type": "markdown",
      "source": [
        "Выведите уникальные значения по Series ['runtime'] с помощью метода unique()"
      ],
      "metadata": {
        "id": "r8_UlDDRnSg1"
      }
    },
    {
      "cell_type": "code",
      "source": [
        "dataset['runtime'].unique()"
      ],
      "metadata": {
        "id": "PhrGIpCboJqC",
        "outputId": "e4e55a9b-e5bf-4776-895f-06ea1f70d0d3",
        "colab": {
          "base_uri": "https://localhost:8080/"
        }
      },
      "execution_count": null,
      "outputs": [
        {
          "output_type": "execute_result",
          "data": {
            "text/plain": [
              "array(['142 min', '152 min', '148 min', '139 min', '154 min', '178 min',\n",
              "       '136 min', '201 min', '175 min', '164 min', '179 min', '127 min',\n",
              "       '143 min', '155 min', '140 min', '165 min', '169 min', '121 min',\n",
              "       '118 min', '162 min', '153 min', '151 min', '195 min', '113 min',\n",
              "       '130 min', '124 min', '122 min', '194 min', '132 min', '202 min',\n",
              "       '138 min', '119 min', '189 min', '180 min', '137 min', '106 min',\n",
              "       '111 min', '116 min', '145 min', '110 min', '98 min', '107 min',\n",
              "       '126 min', '100 min', '131 min', '133 min', '103 min', '108 min',\n",
              "       '96 min', '99 min', '115 min', '88 min', '120 min', '81 min',\n",
              "       '135 min', '146 min', '117 min', '104 min', '92 min', '91 min',\n",
              "       '102 min', '149 min', '170 min', '112 min', '101 min', '141 min',\n",
              "       '144 min', '114 min', '150 min', '90 min', '161 min', '128 min',\n",
              "       '93 min', '129 min', '166 min', '147 min', '134 min', '109 min',\n",
              "       '105 min', '125 min', '156 min', '123 min', '95 min', '157 min',\n",
              "       '163 min', '158 min', '89 min', '187 min', '167 min', '84 min',\n",
              "       '94 min', '85 min', '172 min', '160 min', '168 min', '86 min',\n",
              "       '97 min', '87 min', '183 min', '188 min', '207 min', '159 min',\n",
              "       '76 min', '229 min', '238 min', '83 min', '218 min', '77 min',\n",
              "       '181 min', '191 min', '80 min', '212 min', '78 min', '79 min',\n",
              "       '82 min', '74 min', '185 min', '75 min', '197 min', '69 min',\n",
              "       '64 min', '224 min', '68 min', '210 min', '177 min', '193 min',\n",
              "       '67 min', '174 min', '70 min', '220 min', '321 min', 'Comedy',\n",
              "       '186 min', 'Action, Crime, Mystery', '198 min', '58 min',\n",
              "       'Comedy, Drama, Romance', 'Comedy, Romance', '192 min', '242 min',\n",
              "       'Horror', '204 min', 'Comedy, Drama', '171 min', '63 min',\n",
              "       'Horror, Sci-Fi, Thriller', 'Action, Biography, Drama', '182 min',\n",
              "       '176 min', '196 min', 'Drama', '205 min', 'Action, Drama, War',\n",
              "       '71 min', '259 min', '45 min', 'Fantasy, Romance',\n",
              "       'Action, Crime, Comedy', 'Crime, Drama, Mystery',\n",
              "       'Action, Adventure, Drama', 'Drama, Horror, Mystery',\n",
              "       'Crime, Mystery', '213 min', '72 min', '216 min',\n",
              "       'Comedy, Western', '317 min', 'Adventure, Drama, Romance',\n",
              "       'Fantasy, Horror', 'Adventure, Comedy', 'Comedy, Family',\n",
              "       'Adventure, Comedy, Romance', '366 min', 'Action, Comedy',\n",
              "       'Adventure, Comedy, Fantasy', 'Action, Crime, Thriller',\n",
              "       'Action, Adventure, Sci-Fi', 'Drama, Romance'], dtype=object)"
            ]
          },
          "metadata": {},
          "execution_count": 19
        }
      ]
    },
    {
      "cell_type": "markdown",
      "source": [
        "Таких аномальных значений несколько. Следует исключить их из датасета"
      ],
      "metadata": {
        "id": "aX6ujpINnqVX"
      }
    },
    {
      "cell_type": "markdown",
      "source": [
        "Импортируйте библиотеку re"
      ],
      "metadata": {
        "id": "TZAtdQlbn9IE"
      }
    },
    {
      "cell_type": "code",
      "source": [
        "import re"
      ],
      "metadata": {
        "id": "-YjdyM_7o1aq"
      },
      "execution_count": null,
      "outputs": []
    },
    {
      "cell_type": "markdown",
      "source": [
        "Напишите функцию, которая исключит нецифровые символы с помощью регулярных выражений"
      ],
      "metadata": {
        "id": "JHI-nCi8n_AA"
      }
    },
    {
      "cell_type": "code",
      "source": [
        "def clear_runtime(runtime):\n",
        "  a = re.sub('\\D','',runtime)\n",
        "  if a == '':\n",
        "    return 0\n",
        "  else: return int(a)"
      ],
      "metadata": {
        "id": "bYp8o4HVoZ2v"
      },
      "execution_count": null,
      "outputs": []
    },
    {
      "cell_type": "markdown",
      "source": [
        "Примените функцию к Series ['runtime'] с помощью метода apply()"
      ],
      "metadata": {
        "id": "_8glouCioP_6"
      }
    },
    {
      "cell_type": "code",
      "source": [
        "search_in('appl')"
      ],
      "metadata": {
        "id": "8WUsnh9_1cjb"
      },
      "execution_count": null,
      "outputs": []
    },
    {
      "cell_type": "code",
      "source": [
        "dataset.runtime.apply(clear_runtime)"
      ],
      "metadata": {
        "id": "vNc3QynOos0-",
        "outputId": "c9243f07-9e93-444a-8dd7-0941444a3b0b",
        "colab": {
          "base_uri": "https://localhost:8080/"
        }
      },
      "execution_count": null,
      "outputs": [
        {
          "output_type": "execute_result",
          "data": {
            "text/plain": [
              "0       142\n",
              "1       152\n",
              "2       148\n",
              "3       139\n",
              "4       154\n",
              "       ... \n",
              "4995    102\n",
              "4996     94\n",
              "4997      0\n",
              "4998     92\n",
              "4999    120\n",
              "Name: runtime, Length: 5000, dtype: int64"
            ]
          },
          "metadata": {},
          "execution_count": 18
        }
      ]
    },
    {
      "cell_type": "markdown",
      "source": [
        "Создайте столбец runtime_clear в исходном датасете, применив функцию к признаку runtime"
      ],
      "metadata": {
        "id": "Id4WMbV5odI5"
      }
    },
    {
      "cell_type": "code",
      "source": [
        "dataset['runtime_clear'] = dataset.runtime.apply(clear_runtime)"
      ],
      "metadata": {
        "id": "z134V_42pGVH"
      },
      "execution_count": null,
      "outputs": []
    },
    {
      "cell_type": "markdown",
      "source": [
        "Выведите Series ['runtime_clear'] для оценки результата"
      ],
      "metadata": {
        "id": "s3olTg3PopAk"
      }
    },
    {
      "cell_type": "code",
      "source": [
        "dataset['runtime_clear']"
      ],
      "metadata": {
        "id": "a2qhTdfqpNZX",
        "outputId": "8c4f6ac0-e7f5-4440-e697-7210153331fd",
        "colab": {
          "base_uri": "https://localhost:8080/"
        }
      },
      "execution_count": null,
      "outputs": [
        {
          "output_type": "execute_result",
          "data": {
            "text/plain": [
              "0       142\n",
              "1       152\n",
              "2       148\n",
              "3       139\n",
              "4       154\n",
              "       ... \n",
              "4995    102\n",
              "4996     94\n",
              "4997      0\n",
              "4998     92\n",
              "4999    120\n",
              "Name: runtime_clear, Length: 5000, dtype: int64"
            ]
          },
          "metadata": {},
          "execution_count": 20
        }
      ]
    },
    {
      "cell_type": "markdown",
      "source": [
        "По индексу 4997, где было аномальное значение, теперь на первый взгляд пустота. Проверьте, так ли это, с помощью метода isna()"
      ],
      "metadata": {
        "id": "EapFUrJwowuH"
      }
    },
    {
      "cell_type": "code",
      "source": [
        "dataset['runtime_clear'].isna()"
      ],
      "metadata": {
        "id": "0vz9e_cDqNPW",
        "outputId": "1861817d-3b88-4801-f570-7be0e4439517",
        "colab": {
          "base_uri": "https://localhost:8080/"
        }
      },
      "execution_count": null,
      "outputs": [
        {
          "output_type": "execute_result",
          "data": {
            "text/plain": [
              "0       False\n",
              "1       False\n",
              "2       False\n",
              "3       False\n",
              "4       False\n",
              "        ...  \n",
              "4995    False\n",
              "4996    False\n",
              "4997    False\n",
              "4998    False\n",
              "4999    False\n",
              "Name: runtime_clear, Length: 5000, dtype: bool"
            ]
          },
          "metadata": {},
          "execution_count": 21
        }
      ]
    },
    {
      "cell_type": "markdown",
      "source": [
        "Количество пустых полей - 0... Посмотрите поближе, что же на самом деле записано в данном поле с помощью индексации датасет['столбец'][индекс]"
      ],
      "metadata": {
        "id": "uAKaRobspWFO"
      }
    },
    {
      "cell_type": "code",
      "source": [
        "dataset['runtime_clear'][4997]"
      ],
      "metadata": {
        "id": "iRzRAGhDpPMa",
        "outputId": "4c33e886-f468-48df-ae68-2640762af8c6",
        "colab": {
          "base_uri": "https://localhost:8080/"
        }
      },
      "execution_count": null,
      "outputs": [
        {
          "output_type": "execute_result",
          "data": {
            "text/plain": [
              "0"
            ]
          },
          "metadata": {},
          "execution_count": 22
        }
      ]
    },
    {
      "cell_type": "markdown",
      "source": [
        "Записано нулевое строковое значение. Убедитесь в этом, проверив тип данных с помощью функции type()"
      ],
      "metadata": {
        "id": "MPmEnBmBpwMs"
      }
    },
    {
      "cell_type": "code",
      "source": [
        "type(dataset['runtime_clear'][4997])"
      ],
      "metadata": {
        "id": "irGF6aBKpoYl",
        "outputId": "c335f18b-de89-4519-f8bb-0e9f79686f4c",
        "colab": {
          "base_uri": "https://localhost:8080/"
        }
      },
      "execution_count": null,
      "outputs": [
        {
          "output_type": "execute_result",
          "data": {
            "text/plain": [
              "numpy.int64"
            ]
          },
          "metadata": {},
          "execution_count": 23
        }
      ]
    },
    {
      "cell_type": "markdown",
      "source": [
        "Действительно, это строковое значение. Отфильтруйте датасет, исключив все такие значения с помощью оператора !="
      ],
      "metadata": {
        "id": "7aXYnR-YqCwx"
      }
    },
    {
      "cell_type": "code",
      "source": [
        "dataset = dataset[dataset['runtime_clear']!=0]"
      ],
      "metadata": {
        "id": "TbbsFoD2psjm"
      },
      "execution_count": null,
      "outputs": []
    },
    {
      "cell_type": "markdown",
      "source": [
        "Оцените размеры датасета с помощью атрибута shape"
      ],
      "metadata": {
        "id": "K63T4u-mqc9s"
      }
    },
    {
      "cell_type": "code",
      "source": [
        "dataset.shape"
      ],
      "metadata": {
        "id": "graH8Xv7qq9J",
        "outputId": "466d7e96-5aaf-4313-b7bb-869df01b7adb",
        "colab": {
          "base_uri": "https://localhost:8080/"
        }
      },
      "execution_count": null,
      "outputs": [
        {
          "output_type": "execute_result",
          "data": {
            "text/plain": [
              "(4970, 12)"
            ]
          },
          "metadata": {},
          "execution_count": 25
        }
      ]
    },
    {
      "cell_type": "markdown",
      "source": [
        "А также проверьте тип данных с помощью метода info()"
      ],
      "metadata": {
        "id": "najkeUhhqmaz"
      }
    },
    {
      "cell_type": "code",
      "source": [
        "dataset.info()"
      ],
      "metadata": {
        "id": "1f1SdjY5quE6",
        "outputId": "b16f6a6d-b0fe-45fb-fc5f-ee79d4b7f346",
        "colab": {
          "base_uri": "https://localhost:8080/"
        }
      },
      "execution_count": null,
      "outputs": [
        {
          "output_type": "stream",
          "name": "stdout",
          "text": [
            "<class 'pandas.core.frame.DataFrame'>\n",
            "Int64Index: 4970 entries, 0 to 4999\n",
            "Data columns (total 12 columns):\n",
            " #   Column         Non-Null Count  Dtype  \n",
            "---  ------         --------------  -----  \n",
            " 0   poster         4970 non-null   object \n",
            " 1   title          4970 non-null   object \n",
            " 2   certificate    4970 non-null   object \n",
            " 3   runtime        4970 non-null   object \n",
            " 4   genre          4970 non-null   object \n",
            " 5   rating         4970 non-null   float64\n",
            " 6   about          4956 non-null   object \n",
            " 7   director       4970 non-null   object \n",
            " 8   stars          4970 non-null   object \n",
            " 9   votes          4970 non-null   object \n",
            " 10  gross_earn     4574 non-null   object \n",
            " 11  runtime_clear  4970 non-null   int64  \n",
            "dtypes: float64(1), int64(1), object(10)\n",
            "memory usage: 504.8+ KB\n"
          ]
        }
      ]
    },
    {
      "cell_type": "markdown",
      "source": [
        "Приведите признак runtime_clear в формат int с помощью метода astype()"
      ],
      "metadata": {
        "id": "gqZC_f6-qxx5"
      }
    },
    {
      "cell_type": "code",
      "source": [
        "search_in('astype')"
      ],
      "metadata": {
        "id": "if1tEUMVNBwM",
        "outputId": "78f4b523-1f05-47c1-b7b2-46c9bf99bd37",
        "colab": {
          "base_uri": "https://localhost:8080/"
        }
      },
      "execution_count": null,
      "outputs": [
        {
          "output_type": "stream",
          "name": "stdout",
          "text": [
            "************************************************************************************************************************************************************\n",
            "pd.Series.astype(‘int’)\n",
            " переводит признак в тип данных int, используемый в Python (ошибка при наличии пропущенных значений)\n",
            "------------------------------------------------------------------------------------------------------------------------------------------------------------\n",
            "pd.Series.astype(‘Int64’)\n",
            " переводит признак в тип данных Int64, используемый в Pandas  (работает при наличии пропущенных значений)\n",
            "------------------------------------------------------------------------------------------------------------------------------------------------------------\n",
            "pd.Series.astype()\n",
            "Переводит признаки в типы данных, используемых в Python или Numpy (тип данных необходимо указывать в качестве параметра)\n",
            "------------------------------------------------------------------------------------------------------------------------------------------------------------\n"
          ]
        }
      ]
    },
    {
      "cell_type": "code",
      "source": [
        "# dataset['runtime_clear'] =dataset.runtime_clear.astype('Int64')"
      ],
      "metadata": {
        "id": "VqTGqYK3n_BJ",
        "outputId": "d8bc2470-f787-488b-afa4-f5523ef6d7f9",
        "colab": {
          "base_uri": "https://localhost:8080/"
        }
      },
      "execution_count": null,
      "outputs": [
        {
          "output_type": "stream",
          "name": "stderr",
          "text": [
            "<ipython-input-45-dc7db9882c6c>:1: SettingWithCopyWarning: \n",
            "A value is trying to be set on a copy of a slice from a DataFrame.\n",
            "Try using .loc[row_indexer,col_indexer] = value instead\n",
            "\n",
            "See the caveats in the documentation: https://pandas.pydata.org/pandas-docs/stable/user_guide/indexing.html#returning-a-view-versus-a-copy\n",
            "  dataset['runtime_clear'] =dataset['runtime_clear'].astype('Int64')\n"
          ]
        }
      ]
    },
    {
      "cell_type": "markdown",
      "source": [
        "Проверьте тип данных с помощью метода info()"
      ],
      "metadata": {
        "id": "CEPHEs3-q_Bq"
      }
    },
    {
      "cell_type": "code",
      "source": [
        "dataset.info()"
      ],
      "metadata": {
        "id": "1HBemaU4rBcG",
        "outputId": "c26bbeeb-8894-4418-f566-98dee154efb9",
        "colab": {
          "base_uri": "https://localhost:8080/"
        }
      },
      "execution_count": null,
      "outputs": [
        {
          "output_type": "stream",
          "name": "stdout",
          "text": [
            "<class 'pandas.core.frame.DataFrame'>\n",
            "Int64Index: 4970 entries, 0 to 4999\n",
            "Data columns (total 12 columns):\n",
            " #   Column         Non-Null Count  Dtype  \n",
            "---  ------         --------------  -----  \n",
            " 0   poster         4970 non-null   object \n",
            " 1   title          4970 non-null   object \n",
            " 2   certificate    4970 non-null   object \n",
            " 3   runtime        4970 non-null   object \n",
            " 4   genre          4970 non-null   object \n",
            " 5   rating         4970 non-null   float64\n",
            " 6   about          4956 non-null   object \n",
            " 7   director       4970 non-null   object \n",
            " 8   stars          4970 non-null   object \n",
            " 9   votes          4970 non-null   object \n",
            " 10  gross_earn     4574 non-null   object \n",
            " 11  runtime_clear  4970 non-null   int64  \n",
            "dtypes: float64(1), int64(1), object(10)\n",
            "memory usage: 504.8+ KB\n"
          ]
        }
      ]
    },
    {
      "cell_type": "markdown",
      "source": [
        "Тип данных - int64. Все получилось!"
      ],
      "metadata": {
        "id": "adSAGmwErDCR"
      }
    },
    {
      "cell_type": "markdown",
      "source": [
        "### *5.2. gross_earn*"
      ],
      "metadata": {
        "id": "a0otq-lsrRQn"
      }
    },
    {
      "cell_type": "markdown",
      "source": [
        "По аналогии приведите признак gross_earn к числовому типу данных"
      ],
      "metadata": {
        "id": "G0BQ0qP-rM_w"
      }
    },
    {
      "cell_type": "markdown",
      "source": [
        "Выведите Series ['gross_earn'] для детального просмотра данных"
      ],
      "metadata": {
        "id": "eBUu_knwrV3n"
      }
    },
    {
      "cell_type": "code",
      "execution_count": null,
      "metadata": {
        "id": "a5tCaUfZrotU",
        "outputId": "500a34b0-77ac-4a44-8175-dc6fe947d92c",
        "colab": {
          "base_uri": "https://localhost:8080/"
        }
      },
      "outputs": [
        {
          "output_type": "execute_result",
          "data": {
            "text/plain": [
              "0        $28.34M\n",
              "1       $534.86M\n",
              "2       $292.58M\n",
              "3        $37.03M\n",
              "4       $107.93M\n",
              "          ...   \n",
              "4994         NaN\n",
              "4995      $9.40M\n",
              "4996         NaN\n",
              "4998      $6.67M\n",
              "4999      $8.20M\n",
              "Name: gross_earn, Length: 4970, dtype: object"
            ]
          },
          "metadata": {},
          "execution_count": 32
        }
      ],
      "source": [
        "dataset['gross_earn']"
      ]
    },
    {
      "cell_type": "markdown",
      "source": [
        "Напишите функцию, которая исключит нецифровые символы с помощью регулярных выражений"
      ],
      "metadata": {
        "id": "uqKoqt1HrZnd"
      }
    },
    {
      "cell_type": "code",
      "source": [
        "def clear_gross_earn(gross_earn):\n",
        "  a = re.sub('[\\D\\.]','', gross_earn)\n",
        "  if a == False:\n",
        "    return 0\n",
        "  else: return int(a)"
      ],
      "metadata": {
        "id": "HyxrxpfProtX"
      },
      "execution_count": null,
      "outputs": []
    },
    {
      "cell_type": "markdown",
      "source": [
        "Примените функцию к Series ['gross_earn'] с помощью метода apply()"
      ],
      "metadata": {
        "id": "4xqDl81prgBz"
      }
    },
    {
      "cell_type": "code",
      "source": [
        "dataset['gross_earn'] = dataset.gross_earn.apply(clear_gross_earn)"
      ],
      "metadata": {
        "id": "fWln7bTSrotY",
        "colab": {
          "base_uri": "https://localhost:8080/",
          "height": 311
        },
        "outputId": "fb4c274b-22f0-4260-f59f-c6fe40bb0638"
      },
      "execution_count": null,
      "outputs": [
        {
          "output_type": "error",
          "ename": "TypeError",
          "evalue": "ignored",
          "traceback": [
            "\u001b[0;31m---------------------------------------------------------------------------\u001b[0m",
            "\u001b[0;31mTypeError\u001b[0m                                 Traceback (most recent call last)",
            "\u001b[0;32m<ipython-input-37-b85c8505c476>\u001b[0m in \u001b[0;36m<cell line: 1>\u001b[0;34m()\u001b[0m\n\u001b[0;32m----> 1\u001b[0;31m \u001b[0mdataset\u001b[0m\u001b[0;34m[\u001b[0m\u001b[0;34m'gross_earn'\u001b[0m\u001b[0;34m]\u001b[0m \u001b[0;34m=\u001b[0m \u001b[0mdataset\u001b[0m\u001b[0;34m.\u001b[0m\u001b[0mgross_earn\u001b[0m\u001b[0;34m.\u001b[0m\u001b[0mapply\u001b[0m\u001b[0;34m(\u001b[0m\u001b[0mclear_gross_earn\u001b[0m\u001b[0;34m)\u001b[0m\u001b[0;34m\u001b[0m\u001b[0;34m\u001b[0m\u001b[0m\n\u001b[0m",
            "\u001b[0;32m/usr/local/lib/python3.9/dist-packages/pandas/core/series.py\u001b[0m in \u001b[0;36mapply\u001b[0;34m(self, func, convert_dtype, args, **kwargs)\u001b[0m\n\u001b[1;32m   4769\u001b[0m         \u001b[0mdtype\u001b[0m\u001b[0;34m:\u001b[0m \u001b[0mfloat64\u001b[0m\u001b[0;34m\u001b[0m\u001b[0;34m\u001b[0m\u001b[0m\n\u001b[1;32m   4770\u001b[0m         \"\"\"\n\u001b[0;32m-> 4771\u001b[0;31m         \u001b[0;32mreturn\u001b[0m \u001b[0mSeriesApply\u001b[0m\u001b[0;34m(\u001b[0m\u001b[0mself\u001b[0m\u001b[0;34m,\u001b[0m \u001b[0mfunc\u001b[0m\u001b[0;34m,\u001b[0m \u001b[0mconvert_dtype\u001b[0m\u001b[0;34m,\u001b[0m \u001b[0margs\u001b[0m\u001b[0;34m,\u001b[0m \u001b[0mkwargs\u001b[0m\u001b[0;34m)\u001b[0m\u001b[0;34m.\u001b[0m\u001b[0mapply\u001b[0m\u001b[0;34m(\u001b[0m\u001b[0;34m)\u001b[0m\u001b[0;34m\u001b[0m\u001b[0;34m\u001b[0m\u001b[0m\n\u001b[0m\u001b[1;32m   4772\u001b[0m \u001b[0;34m\u001b[0m\u001b[0m\n\u001b[1;32m   4773\u001b[0m     def _reduce(\n",
            "\u001b[0;32m/usr/local/lib/python3.9/dist-packages/pandas/core/apply.py\u001b[0m in \u001b[0;36mapply\u001b[0;34m(self)\u001b[0m\n\u001b[1;32m   1121\u001b[0m \u001b[0;34m\u001b[0m\u001b[0m\n\u001b[1;32m   1122\u001b[0m         \u001b[0;31m# self.f is Callable\u001b[0m\u001b[0;34m\u001b[0m\u001b[0;34m\u001b[0m\u001b[0m\n\u001b[0;32m-> 1123\u001b[0;31m         \u001b[0;32mreturn\u001b[0m \u001b[0mself\u001b[0m\u001b[0;34m.\u001b[0m\u001b[0mapply_standard\u001b[0m\u001b[0;34m(\u001b[0m\u001b[0;34m)\u001b[0m\u001b[0;34m\u001b[0m\u001b[0;34m\u001b[0m\u001b[0m\n\u001b[0m\u001b[1;32m   1124\u001b[0m \u001b[0;34m\u001b[0m\u001b[0m\n\u001b[1;32m   1125\u001b[0m     \u001b[0;32mdef\u001b[0m \u001b[0magg\u001b[0m\u001b[0;34m(\u001b[0m\u001b[0mself\u001b[0m\u001b[0;34m)\u001b[0m\u001b[0;34m:\u001b[0m\u001b[0;34m\u001b[0m\u001b[0;34m\u001b[0m\u001b[0m\n",
            "\u001b[0;32m/usr/local/lib/python3.9/dist-packages/pandas/core/apply.py\u001b[0m in \u001b[0;36mapply_standard\u001b[0;34m(self)\u001b[0m\n\u001b[1;32m   1172\u001b[0m             \u001b[0;32melse\u001b[0m\u001b[0;34m:\u001b[0m\u001b[0;34m\u001b[0m\u001b[0;34m\u001b[0m\u001b[0m\n\u001b[1;32m   1173\u001b[0m                 \u001b[0mvalues\u001b[0m \u001b[0;34m=\u001b[0m \u001b[0mobj\u001b[0m\u001b[0;34m.\u001b[0m\u001b[0mastype\u001b[0m\u001b[0;34m(\u001b[0m\u001b[0mobject\u001b[0m\u001b[0;34m)\u001b[0m\u001b[0;34m.\u001b[0m\u001b[0m_values\u001b[0m\u001b[0;34m\u001b[0m\u001b[0;34m\u001b[0m\u001b[0m\n\u001b[0;32m-> 1174\u001b[0;31m                 mapped = lib.map_infer(\n\u001b[0m\u001b[1;32m   1175\u001b[0m                     \u001b[0mvalues\u001b[0m\u001b[0;34m,\u001b[0m\u001b[0;34m\u001b[0m\u001b[0;34m\u001b[0m\u001b[0m\n\u001b[1;32m   1176\u001b[0m                     \u001b[0mf\u001b[0m\u001b[0;34m,\u001b[0m\u001b[0;34m\u001b[0m\u001b[0;34m\u001b[0m\u001b[0m\n",
            "\u001b[0;32m/usr/local/lib/python3.9/dist-packages/pandas/_libs/lib.pyx\u001b[0m in \u001b[0;36mpandas._libs.lib.map_infer\u001b[0;34m()\u001b[0m\n",
            "\u001b[0;32m<ipython-input-36-1a97c627bd56>\u001b[0m in \u001b[0;36mclear_gross_earn\u001b[0;34m(gross_earn)\u001b[0m\n\u001b[1;32m      1\u001b[0m \u001b[0;32mdef\u001b[0m \u001b[0mclear_gross_earn\u001b[0m\u001b[0;34m(\u001b[0m\u001b[0mgross_earn\u001b[0m\u001b[0;34m)\u001b[0m\u001b[0;34m:\u001b[0m\u001b[0;34m\u001b[0m\u001b[0;34m\u001b[0m\u001b[0m\n\u001b[0;32m----> 2\u001b[0;31m   \u001b[0ma\u001b[0m \u001b[0;34m=\u001b[0m \u001b[0mre\u001b[0m\u001b[0;34m.\u001b[0m\u001b[0msub\u001b[0m\u001b[0;34m(\u001b[0m\u001b[0;34m'\\D'\u001b[0m\u001b[0;34m,\u001b[0m\u001b[0;34m''\u001b[0m\u001b[0;34m,\u001b[0m \u001b[0mgross_earn\u001b[0m\u001b[0;34m)\u001b[0m\u001b[0;34m\u001b[0m\u001b[0;34m\u001b[0m\u001b[0m\n\u001b[0m\u001b[1;32m      3\u001b[0m   \u001b[0;32mif\u001b[0m \u001b[0ma\u001b[0m \u001b[0;34m==\u001b[0m \u001b[0;32mFalse\u001b[0m\u001b[0;34m:\u001b[0m\u001b[0;34m\u001b[0m\u001b[0;34m\u001b[0m\u001b[0m\n\u001b[1;32m      4\u001b[0m     \u001b[0;32mreturn\u001b[0m \u001b[0;36m0\u001b[0m\u001b[0;34m\u001b[0m\u001b[0;34m\u001b[0m\u001b[0m\n\u001b[1;32m      5\u001b[0m   \u001b[0;32melse\u001b[0m\u001b[0;34m:\u001b[0m \u001b[0;32mreturn\u001b[0m \u001b[0mint\u001b[0m\u001b[0;34m(\u001b[0m\u001b[0ma\u001b[0m\u001b[0;34m)\u001b[0m\u001b[0;34m\u001b[0m\u001b[0;34m\u001b[0m\u001b[0m\n",
            "\u001b[0;32m/usr/lib/python3.9/re.py\u001b[0m in \u001b[0;36msub\u001b[0;34m(pattern, repl, string, count, flags)\u001b[0m\n\u001b[1;32m    208\u001b[0m     \u001b[0ma\u001b[0m \u001b[0mcallable\u001b[0m\u001b[0;34m,\u001b[0m \u001b[0mit\u001b[0m\u001b[0;31m'\u001b[0m\u001b[0ms\u001b[0m \u001b[0mpassed\u001b[0m \u001b[0mthe\u001b[0m \u001b[0mMatch\u001b[0m \u001b[0mobject\u001b[0m \u001b[0;32mand\u001b[0m \u001b[0mmust\u001b[0m \u001b[0;32mreturn\u001b[0m\u001b[0;34m\u001b[0m\u001b[0;34m\u001b[0m\u001b[0m\n\u001b[1;32m    209\u001b[0m     a replacement string to be used.\"\"\"\n\u001b[0;32m--> 210\u001b[0;31m     \u001b[0;32mreturn\u001b[0m \u001b[0m_compile\u001b[0m\u001b[0;34m(\u001b[0m\u001b[0mpattern\u001b[0m\u001b[0;34m,\u001b[0m \u001b[0mflags\u001b[0m\u001b[0;34m)\u001b[0m\u001b[0;34m.\u001b[0m\u001b[0msub\u001b[0m\u001b[0;34m(\u001b[0m\u001b[0mrepl\u001b[0m\u001b[0;34m,\u001b[0m \u001b[0mstring\u001b[0m\u001b[0;34m,\u001b[0m \u001b[0mcount\u001b[0m\u001b[0;34m)\u001b[0m\u001b[0;34m\u001b[0m\u001b[0;34m\u001b[0m\u001b[0m\n\u001b[0m\u001b[1;32m    211\u001b[0m \u001b[0;34m\u001b[0m\u001b[0m\n\u001b[1;32m    212\u001b[0m \u001b[0;32mdef\u001b[0m \u001b[0msubn\u001b[0m\u001b[0;34m(\u001b[0m\u001b[0mpattern\u001b[0m\u001b[0;34m,\u001b[0m \u001b[0mrepl\u001b[0m\u001b[0;34m,\u001b[0m \u001b[0mstring\u001b[0m\u001b[0;34m,\u001b[0m \u001b[0mcount\u001b[0m\u001b[0;34m=\u001b[0m\u001b[0;36m0\u001b[0m\u001b[0;34m,\u001b[0m \u001b[0mflags\u001b[0m\u001b[0;34m=\u001b[0m\u001b[0;36m0\u001b[0m\u001b[0;34m)\u001b[0m\u001b[0;34m:\u001b[0m\u001b[0;34m\u001b[0m\u001b[0;34m\u001b[0m\u001b[0m\n",
            "\u001b[0;31mTypeError\u001b[0m: expected string or bytes-like object"
          ]
        }
      ]
    },
    {
      "cell_type": "markdown",
      "source": [
        "Ошибка TypeError, связанная с тем, что в какой-то момент в функцию попали пропущенные значения, которые она не смогла обработать"
      ],
      "metadata": {
        "id": "RAL5uqpnrmhY"
      }
    },
    {
      "cell_type": "markdown",
      "source": [
        "Оцените количество пропущенных значений по признаку с помощью метода isna() в связке с методом sum()"
      ],
      "metadata": {
        "id": "c_x8NDojr3rl"
      }
    },
    {
      "cell_type": "code",
      "source": [
        "dataset['gross_earn'].isna().sum()"
      ],
      "metadata": {
        "id": "AXWG2J1ErzQT",
        "outputId": "97d21771-57e0-4e4c-879c-63d12c2bd233",
        "colab": {
          "base_uri": "https://localhost:8080/"
        }
      },
      "execution_count": null,
      "outputs": [
        {
          "output_type": "execute_result",
          "data": {
            "text/plain": [
              "396"
            ]
          },
          "metadata": {},
          "execution_count": 35
        }
      ]
    },
    {
      "cell_type": "markdown",
      "source": [
        "Необходимо добавить в функцию обработку пустых значений. Для этого импортируйте библиотеку numpy с коротким наименованием np"
      ],
      "metadata": {
        "id": "GS11wCDTsAbW"
      }
    },
    {
      "cell_type": "code",
      "source": [
        "import numpy as np\n"
      ],
      "metadata": {
        "id": "hZP7gii2w0lN"
      },
      "execution_count": null,
      "outputs": []
    },
    {
      "cell_type": "markdown",
      "source": [
        "Добавьте в функцию проверку на пустые значения с помощью метода pandas pd.isna(). В случае пропуска она должна вернуть пустое значение np.nan; в ином случае - сохранить алгоритм, написанный ранее"
      ],
      "metadata": {
        "id": "n8YBVKFXsNY-"
      }
    },
    {
      "cell_type": "code",
      "source": [
        "def clear_gross_earn(gross_earn):\n",
        "  if pd.isna(gross_earn):\n",
        "    return np.nan\n",
        "  else:\n",
        "    return int((''.join(re.findall('[0-9|.]', gross_earn)).split('.'))[0])"
      ],
      "metadata": {
        "id": "herSamxHwxNo"
      },
      "execution_count": null,
      "outputs": []
    },
    {
      "cell_type": "markdown",
      "source": [
        "Примените функцию к Series ['gross_earn'] с помощью метода apply()"
      ],
      "metadata": {
        "id": "N1QwLObasy1l"
      }
    },
    {
      "cell_type": "code",
      "source": [
        "dataset['gross_earn'].apply(clear_gross_earn)"
      ],
      "metadata": {
        "id": "A6_Q4diKxC8V",
        "outputId": "d775d491-ca32-4e38-9942-dd43bcfa6df6",
        "colab": {
          "base_uri": "https://localhost:8080/"
        }
      },
      "execution_count": null,
      "outputs": [
        {
          "output_type": "execute_result",
          "data": {
            "text/plain": [
              "0        28.0\n",
              "1       534.0\n",
              "2       292.0\n",
              "3        37.0\n",
              "4       107.0\n",
              "        ...  \n",
              "4994      NaN\n",
              "4995      9.0\n",
              "4996      NaN\n",
              "4998      6.0\n",
              "4999      8.0\n",
              "Name: gross_earn, Length: 4970, dtype: float64"
            ]
          },
          "metadata": {},
          "execution_count": 67
        }
      ]
    },
    {
      "cell_type": "markdown",
      "source": [
        "Создайте столбец gross_earn в исходном датасете, применив функцию к признаку gross_earn"
      ],
      "metadata": {
        "id": "de36T4hks3v_"
      }
    },
    {
      "cell_type": "code",
      "source": [
        "dataset['gross_earn_clear'] = dataset['gross_earn'].apply(clear_gross_earn)"
      ],
      "metadata": {
        "id": "F_ZKUk3xrotZ"
      },
      "execution_count": null,
      "outputs": []
    },
    {
      "cell_type": "markdown",
      "source": [
        "Выведите Series ['gross_earn_clear'] для оценки результата"
      ],
      "metadata": {
        "id": "jGMzKot8tBji"
      }
    },
    {
      "cell_type": "code",
      "source": [
        "dataset['gross_earn_clear']"
      ],
      "metadata": {
        "id": "YC4Gmts7rotZ",
        "outputId": "ba836225-6491-41b0-917b-56d2f9b969e9",
        "colab": {
          "base_uri": "https://localhost:8080/"
        }
      },
      "execution_count": null,
      "outputs": [
        {
          "output_type": "execute_result",
          "data": {
            "text/plain": [
              "0        28.0\n",
              "1       534.0\n",
              "2       292.0\n",
              "3        37.0\n",
              "4       107.0\n",
              "        ...  \n",
              "4994      NaN\n",
              "4995      9.0\n",
              "4996      NaN\n",
              "4998      6.0\n",
              "4999      8.0\n",
              "Name: gross_earn_clear, Length: 4970, dtype: float64"
            ]
          },
          "metadata": {},
          "execution_count": 69
        }
      ]
    },
    {
      "cell_type": "markdown",
      "source": [
        "Приведите признак gross_earn_clear в формат int с помощью метода astype()"
      ],
      "metadata": {
        "id": "ezGCPh3rtMU_"
      }
    },
    {
      "cell_type": "code",
      "source": [
        "dataset['gross_earn_clear']  =dataset.gross_earn_clear.astype('Int64')"
      ],
      "metadata": {
        "id": "8SCkBUOMrotb"
      },
      "execution_count": null,
      "outputs": []
    },
    {
      "cell_type": "markdown",
      "source": [
        "Ошибка ValueError, связанная с тем, что метод не может перевести значения NaN (которые имеют тип данных float) в формат int. Попробуйте применить метод pandas pd.numeric(), чтобы привести данные в числовой формат numpy.float64, подходящий для дальнейшего переводы в int64"
      ],
      "metadata": {
        "id": "5hq8CSHQtUdp"
      }
    },
    {
      "cell_type": "code",
      "source": [
        "# dataset['gross_earn_clear'] = pd.to_numeric(dataset['gross_earn_clear'])"
      ],
      "metadata": {
        "id": "vwVteSaErotb"
      },
      "execution_count": null,
      "outputs": []
    },
    {
      "cell_type": "markdown",
      "source": [
        "Проверьте тип данных на любом значении признака с помощью функции type()"
      ],
      "metadata": {
        "id": "USmtQ-IUuRZR"
      }
    },
    {
      "cell_type": "code",
      "source": [
        "type(dataset['gross_earn_clear'][0])"
      ],
      "metadata": {
        "id": "fgyoVFBnzL1p",
        "outputId": "b3c991d3-c266-4598-c3f0-d25713c53d05",
        "colab": {
          "base_uri": "https://localhost:8080/"
        }
      },
      "execution_count": null,
      "outputs": [
        {
          "output_type": "execute_result",
          "data": {
            "text/plain": [
              "numpy.int64"
            ]
          },
          "metadata": {},
          "execution_count": 73
        }
      ]
    },
    {
      "cell_type": "markdown",
      "source": [
        "Тип данных - numpy.float64. Приведите признак gross_earn_clear в формат Int64 с помощью метода astype()"
      ],
      "metadata": {
        "id": "v-hrj5SQuZjE"
      }
    },
    {
      "cell_type": "code",
      "source": [
        "dataset['gross_earn_clear'] = pd.to_numeric(dataset['gross_earn_clear'])"
      ],
      "metadata": {
        "id": "hjAP_2NuzRiI"
      },
      "execution_count": null,
      "outputs": []
    },
    {
      "cell_type": "markdown",
      "source": [
        "Код был выполнен. Оцените результат, детально рассмотрев Series ['gross_earn_clear']"
      ],
      "metadata": {
        "id": "XEE1rc2Vuo78"
      }
    },
    {
      "cell_type": "code",
      "source": [
        "dataset['gross_earn_clear']"
      ],
      "metadata": {
        "id": "0LpWHrxJzYl7",
        "outputId": "fc2d2bf1-b341-41eb-a6e0-838cb560121f",
        "colab": {
          "base_uri": "https://localhost:8080/"
        }
      },
      "execution_count": null,
      "outputs": [
        {
          "output_type": "execute_result",
          "data": {
            "text/plain": [
              "0         28\n",
              "1        534\n",
              "2        292\n",
              "3         37\n",
              "4        107\n",
              "        ... \n",
              "4994    <NA>\n",
              "4995       9\n",
              "4996    <NA>\n",
              "4998       6\n",
              "4999       8\n",
              "Name: gross_earn_clear, Length: 4970, dtype: Int64"
            ]
          },
          "metadata": {},
          "execution_count": 77
        }
      ]
    },
    {
      "cell_type": "markdown",
      "source": [
        "Выведите информацию о датасете с помощью метода info()"
      ],
      "metadata": {
        "id": "pU_iMRmhu19Z"
      }
    },
    {
      "cell_type": "code",
      "source": [
        "dataset.info()"
      ],
      "metadata": {
        "id": "mONxpon3rotd",
        "outputId": "14b7011d-849e-4ced-ecef-888f263d1b89",
        "colab": {
          "base_uri": "https://localhost:8080/"
        }
      },
      "execution_count": null,
      "outputs": [
        {
          "output_type": "stream",
          "name": "stdout",
          "text": [
            "<class 'pandas.core.frame.DataFrame'>\n",
            "Int64Index: 4970 entries, 0 to 4999\n",
            "Data columns (total 13 columns):\n",
            " #   Column            Non-Null Count  Dtype  \n",
            "---  ------            --------------  -----  \n",
            " 0   poster            4970 non-null   object \n",
            " 1   title             4970 non-null   object \n",
            " 2   certificate       4970 non-null   object \n",
            " 3   runtime           4970 non-null   object \n",
            " 4   genre             4970 non-null   object \n",
            " 5   rating            4970 non-null   float64\n",
            " 6   about             4956 non-null   object \n",
            " 7   director          4970 non-null   object \n",
            " 8   stars             4970 non-null   object \n",
            " 9   votes             4970 non-null   object \n",
            " 10  gross_earn        4574 non-null   object \n",
            " 11  runtime_clear     4970 non-null   int64  \n",
            " 12  gross_earn_clear  4574 non-null   Int64  \n",
            "dtypes: Int64(1), float64(1), int64(1), object(10)\n",
            "memory usage: 677.5+ KB\n"
          ]
        }
      ]
    },
    {
      "cell_type": "markdown",
      "source": [
        "Все получилось: признаки runtime и gross_earn в числовом формате!"
      ],
      "metadata": {
        "id": "edPJiFwmu6ta"
      }
    },
    {
      "cell_type": "markdown",
      "source": [
        "## 6. Сортировка по рейтингу"
      ],
      "metadata": {
        "id": "Bd-m3BJcz06-"
      }
    },
    {
      "cell_type": "markdown",
      "source": [
        "Отсортируйте датасет в порядке убывания рейтинга фильмов (rating), применив метод sort_values() с переданным в него параметром ascending=False"
      ],
      "metadata": {
        "id": "gclevZr3vDaj"
      }
    },
    {
      "cell_type": "code",
      "source": [
        "search_in('sort_values',eda)"
      ],
      "metadata": {
        "id": "fIghZ_TiblD7",
        "outputId": "a889520e-1bbb-4239-d497-30a51a155099",
        "colab": {
          "base_uri": "https://localhost:8080/"
        }
      },
      "execution_count": null,
      "outputs": [
        {
          "output_type": "stream",
          "name": "stdout",
          "text": [
            "************************************************************************************************************************************************************\n",
            "Шаблон сортировки по значению\n",
            "sorted_dataset = dataset.sort_values('Очищенная цена')\n",
            "sorted_dataset\n",
            "------------------------------------------------------------------------------------------------------------------------------------------------------------\n",
            "Шаблон для взятия среза в хаотично пронумеровнном датасете \n",
            "sorted_dataset = dataset.sort_values('Количество комнат', ascending=False)\n",
            "sorted_dataset.iloc[:100]\n",
            "------------------------------------------------------------------------------------------------------------------------------------------------------------\n"
          ]
        }
      ]
    },
    {
      "cell_type": "code",
      "source": [
        "sorted_dataset = dataset.sort_values('rating', ascending=False)\n",
        "sorted_dataset.head()"
      ],
      "metadata": {
        "id": "UXanY_pIrDoo",
        "outputId": "c1d68616-f7e0-44d5-fd7c-654c37af132b",
        "colab": {
          "base_uri": "https://localhost:8080/",
          "height": 704
        }
      },
      "execution_count": null,
      "outputs": [
        {
          "output_type": "execute_result",
          "data": {
            "text/plain": [
              "                                                 poster  \\\n",
              "0     https://m.media-amazon.com/images/S/sash/4Fyxw...   \n",
              "3788  https://m.media-amazon.com/images/S/sash/4Fyxw...   \n",
              "9     https://m.media-amazon.com/images/S/sash/4Fyxw...   \n",
              "32    https://m.media-amazon.com/images/S/sash/4Fyxw...   \n",
              "24    https://m.media-amazon.com/images/S/sash/4Fyxw...   \n",
              "\n",
              "                         title certificate  runtime  \\\n",
              "0     The Shawshank Redemption          15  142 min   \n",
              "3788            Hababam Sinifi         12A   87 min   \n",
              "9                The Godfather           X  175 min   \n",
              "32      The Godfather: Part II           X  202 min   \n",
              "24            Schindler's List          15  195 min   \n",
              "\n",
              "                          genre  rating  \\\n",
              "0                         Drama     9.3   \n",
              "3788              Comedy, Drama     9.2   \n",
              "9                  Crime, Drama     9.2   \n",
              "32                 Crime, Drama     9.0   \n",
              "24    Biography, Drama, History     9.0   \n",
              "\n",
              "                                                  about              director  \\\n",
              "0     Two imprisoned men bond over a number of years...        Frank Darabont   \n",
              "3788  Lazy, uneducated students share a very close b...         Ertem Egilmez   \n",
              "9     The aging patriarch of an organized crime dyna...  Francis Ford Coppola   \n",
              "32    The early life and career of Vito Corleone in ...  Francis Ford Coppola   \n",
              "24    In German-occupied Poland during World War II,...      Steven Spielberg   \n",
              "\n",
              "                                                  stars      votes gross_earn  \\\n",
              "0     ('Tim Robbins',), ('Morgan Freeman',), ('Bob G...  26,26,905    $28.34M   \n",
              "3788  ('Kemal Sunal',), ('Münir Özkul',), ('Halit Ak...     40,492        NaN   \n",
              "9     ('Marlon Brando',), ('Al Pacino',), ('James Ca...  18,19,641   $134.97M   \n",
              "32    ('Al Pacino',), ('Robert De Niro',), ('Robert ...  12,49,182    $57.30M   \n",
              "24    ('Liam Neeson',), ('Ralph Fiennes',), ('Ben Ki...  13,33,407    $96.90M   \n",
              "\n",
              "      runtime_clear  gross_earn_clear  \n",
              "0               142                28  \n",
              "3788             87              <NA>  \n",
              "9               175               134  \n",
              "32              202                57  \n",
              "24              195                96  "
            ],
            "text/html": [
              "\n",
              "  <div id=\"df-da124027-a8cd-4d3a-9354-c2a06208d264\">\n",
              "    <div class=\"colab-df-container\">\n",
              "      <div>\n",
              "<style scoped>\n",
              "    .dataframe tbody tr th:only-of-type {\n",
              "        vertical-align: middle;\n",
              "    }\n",
              "\n",
              "    .dataframe tbody tr th {\n",
              "        vertical-align: top;\n",
              "    }\n",
              "\n",
              "    .dataframe thead th {\n",
              "        text-align: right;\n",
              "    }\n",
              "</style>\n",
              "<table border=\"1\" class=\"dataframe\">\n",
              "  <thead>\n",
              "    <tr style=\"text-align: right;\">\n",
              "      <th></th>\n",
              "      <th>poster</th>\n",
              "      <th>title</th>\n",
              "      <th>certificate</th>\n",
              "      <th>runtime</th>\n",
              "      <th>genre</th>\n",
              "      <th>rating</th>\n",
              "      <th>about</th>\n",
              "      <th>director</th>\n",
              "      <th>stars</th>\n",
              "      <th>votes</th>\n",
              "      <th>gross_earn</th>\n",
              "      <th>runtime_clear</th>\n",
              "      <th>gross_earn_clear</th>\n",
              "    </tr>\n",
              "  </thead>\n",
              "  <tbody>\n",
              "    <tr>\n",
              "      <th>0</th>\n",
              "      <td>https://m.media-amazon.com/images/S/sash/4Fyxw...</td>\n",
              "      <td>The Shawshank Redemption</td>\n",
              "      <td>15</td>\n",
              "      <td>142 min</td>\n",
              "      <td>Drama</td>\n",
              "      <td>9.3</td>\n",
              "      <td>Two imprisoned men bond over a number of years...</td>\n",
              "      <td>Frank Darabont</td>\n",
              "      <td>('Tim Robbins',), ('Morgan Freeman',), ('Bob G...</td>\n",
              "      <td>26,26,905</td>\n",
              "      <td>$28.34M</td>\n",
              "      <td>142</td>\n",
              "      <td>28</td>\n",
              "    </tr>\n",
              "    <tr>\n",
              "      <th>3788</th>\n",
              "      <td>https://m.media-amazon.com/images/S/sash/4Fyxw...</td>\n",
              "      <td>Hababam Sinifi</td>\n",
              "      <td>12A</td>\n",
              "      <td>87 min</td>\n",
              "      <td>Comedy, Drama</td>\n",
              "      <td>9.2</td>\n",
              "      <td>Lazy, uneducated students share a very close b...</td>\n",
              "      <td>Ertem Egilmez</td>\n",
              "      <td>('Kemal Sunal',), ('Münir Özkul',), ('Halit Ak...</td>\n",
              "      <td>40,492</td>\n",
              "      <td>NaN</td>\n",
              "      <td>87</td>\n",
              "      <td>&lt;NA&gt;</td>\n",
              "    </tr>\n",
              "    <tr>\n",
              "      <th>9</th>\n",
              "      <td>https://m.media-amazon.com/images/S/sash/4Fyxw...</td>\n",
              "      <td>The Godfather</td>\n",
              "      <td>X</td>\n",
              "      <td>175 min</td>\n",
              "      <td>Crime, Drama</td>\n",
              "      <td>9.2</td>\n",
              "      <td>The aging patriarch of an organized crime dyna...</td>\n",
              "      <td>Francis Ford Coppola</td>\n",
              "      <td>('Marlon Brando',), ('Al Pacino',), ('James Ca...</td>\n",
              "      <td>18,19,641</td>\n",
              "      <td>$134.97M</td>\n",
              "      <td>175</td>\n",
              "      <td>134</td>\n",
              "    </tr>\n",
              "    <tr>\n",
              "      <th>32</th>\n",
              "      <td>https://m.media-amazon.com/images/S/sash/4Fyxw...</td>\n",
              "      <td>The Godfather: Part II</td>\n",
              "      <td>X</td>\n",
              "      <td>202 min</td>\n",
              "      <td>Crime, Drama</td>\n",
              "      <td>9.0</td>\n",
              "      <td>The early life and career of Vito Corleone in ...</td>\n",
              "      <td>Francis Ford Coppola</td>\n",
              "      <td>('Al Pacino',), ('Robert De Niro',), ('Robert ...</td>\n",
              "      <td>12,49,182</td>\n",
              "      <td>$57.30M</td>\n",
              "      <td>202</td>\n",
              "      <td>57</td>\n",
              "    </tr>\n",
              "    <tr>\n",
              "      <th>24</th>\n",
              "      <td>https://m.media-amazon.com/images/S/sash/4Fyxw...</td>\n",
              "      <td>Schindler's List</td>\n",
              "      <td>15</td>\n",
              "      <td>195 min</td>\n",
              "      <td>Biography, Drama, History</td>\n",
              "      <td>9.0</td>\n",
              "      <td>In German-occupied Poland during World War II,...</td>\n",
              "      <td>Steven Spielberg</td>\n",
              "      <td>('Liam Neeson',), ('Ralph Fiennes',), ('Ben Ki...</td>\n",
              "      <td>13,33,407</td>\n",
              "      <td>$96.90M</td>\n",
              "      <td>195</td>\n",
              "      <td>96</td>\n",
              "    </tr>\n",
              "  </tbody>\n",
              "</table>\n",
              "</div>\n",
              "      <button class=\"colab-df-convert\" onclick=\"convertToInteractive('df-da124027-a8cd-4d3a-9354-c2a06208d264')\"\n",
              "              title=\"Convert this dataframe to an interactive table.\"\n",
              "              style=\"display:none;\">\n",
              "        \n",
              "  <svg xmlns=\"http://www.w3.org/2000/svg\" height=\"24px\"viewBox=\"0 0 24 24\"\n",
              "       width=\"24px\">\n",
              "    <path d=\"M0 0h24v24H0V0z\" fill=\"none\"/>\n",
              "    <path d=\"M18.56 5.44l.94 2.06.94-2.06 2.06-.94-2.06-.94-.94-2.06-.94 2.06-2.06.94zm-11 1L8.5 8.5l.94-2.06 2.06-.94-2.06-.94L8.5 2.5l-.94 2.06-2.06.94zm10 10l.94 2.06.94-2.06 2.06-.94-2.06-.94-.94-2.06-.94 2.06-2.06.94z\"/><path d=\"M17.41 7.96l-1.37-1.37c-.4-.4-.92-.59-1.43-.59-.52 0-1.04.2-1.43.59L10.3 9.45l-7.72 7.72c-.78.78-.78 2.05 0 2.83L4 21.41c.39.39.9.59 1.41.59.51 0 1.02-.2 1.41-.59l7.78-7.78 2.81-2.81c.8-.78.8-2.07 0-2.86zM5.41 20L4 18.59l7.72-7.72 1.47 1.35L5.41 20z\"/>\n",
              "  </svg>\n",
              "      </button>\n",
              "      \n",
              "  <style>\n",
              "    .colab-df-container {\n",
              "      display:flex;\n",
              "      flex-wrap:wrap;\n",
              "      gap: 12px;\n",
              "    }\n",
              "\n",
              "    .colab-df-convert {\n",
              "      background-color: #E8F0FE;\n",
              "      border: none;\n",
              "      border-radius: 50%;\n",
              "      cursor: pointer;\n",
              "      display: none;\n",
              "      fill: #1967D2;\n",
              "      height: 32px;\n",
              "      padding: 0 0 0 0;\n",
              "      width: 32px;\n",
              "    }\n",
              "\n",
              "    .colab-df-convert:hover {\n",
              "      background-color: #E2EBFA;\n",
              "      box-shadow: 0px 1px 2px rgba(60, 64, 67, 0.3), 0px 1px 3px 1px rgba(60, 64, 67, 0.15);\n",
              "      fill: #174EA6;\n",
              "    }\n",
              "\n",
              "    [theme=dark] .colab-df-convert {\n",
              "      background-color: #3B4455;\n",
              "      fill: #D2E3FC;\n",
              "    }\n",
              "\n",
              "    [theme=dark] .colab-df-convert:hover {\n",
              "      background-color: #434B5C;\n",
              "      box-shadow: 0px 1px 3px 1px rgba(0, 0, 0, 0.15);\n",
              "      filter: drop-shadow(0px 1px 2px rgba(0, 0, 0, 0.3));\n",
              "      fill: #FFFFFF;\n",
              "    }\n",
              "  </style>\n",
              "\n",
              "      <script>\n",
              "        const buttonEl =\n",
              "          document.querySelector('#df-da124027-a8cd-4d3a-9354-c2a06208d264 button.colab-df-convert');\n",
              "        buttonEl.style.display =\n",
              "          google.colab.kernel.accessAllowed ? 'block' : 'none';\n",
              "\n",
              "        async function convertToInteractive(key) {\n",
              "          const element = document.querySelector('#df-da124027-a8cd-4d3a-9354-c2a06208d264');\n",
              "          const dataTable =\n",
              "            await google.colab.kernel.invokeFunction('convertToInteractive',\n",
              "                                                     [key], {});\n",
              "          if (!dataTable) return;\n",
              "\n",
              "          const docLinkHtml = 'Like what you see? Visit the ' +\n",
              "            '<a target=\"_blank\" href=https://colab.research.google.com/notebooks/data_table.ipynb>data table notebook</a>'\n",
              "            + ' to learn more about interactive tables.';\n",
              "          element.innerHTML = '';\n",
              "          dataTable['output_type'] = 'display_data';\n",
              "          await google.colab.output.renderOutput(dataTable, element);\n",
              "          const docLink = document.createElement('div');\n",
              "          docLink.innerHTML = docLinkHtml;\n",
              "          element.appendChild(docLink);\n",
              "        }\n",
              "      </script>\n",
              "    </div>\n",
              "  </div>\n",
              "  "
            ]
          },
          "metadata": {},
          "execution_count": 85
        }
      ]
    },
    {
      "cell_type": "markdown",
      "source": [
        "## 7. Переопределение индексов"
      ],
      "metadata": {
        "id": "vAJp76vN0gTL"
      }
    },
    {
      "cell_type": "markdown",
      "source": [
        "Переопределите индексы по порядку с помощью метода reset_index() с переданными в него параметрами drop=True для удаления предыдущего столбца индексов и inplace=True для автоматической перезаписи таблицы"
      ],
      "metadata": {
        "id": "jTBRnhPhvcoT"
      }
    },
    {
      "cell_type": "code",
      "source": [
        "sorted_dataset.reset_index(drop=True, inplace=True)\n",
        "sorted_dataset.head()"
      ],
      "metadata": {
        "id": "YK8ZVEoB0L9o",
        "outputId": "eecd761d-53bc-4317-bb8d-af4f96a14927",
        "colab": {
          "base_uri": "https://localhost:8080/",
          "height": 704
        }
      },
      "execution_count": null,
      "outputs": [
        {
          "output_type": "execute_result",
          "data": {
            "text/plain": [
              "                                              poster  \\\n",
              "0  https://m.media-amazon.com/images/S/sash/4Fyxw...   \n",
              "1  https://m.media-amazon.com/images/S/sash/4Fyxw...   \n",
              "2  https://m.media-amazon.com/images/S/sash/4Fyxw...   \n",
              "3  https://m.media-amazon.com/images/S/sash/4Fyxw...   \n",
              "4  https://m.media-amazon.com/images/S/sash/4Fyxw...   \n",
              "\n",
              "                      title certificate  runtime                      genre  \\\n",
              "0  The Shawshank Redemption          15  142 min                      Drama   \n",
              "1            Hababam Sinifi         12A   87 min              Comedy, Drama   \n",
              "2             The Godfather           X  175 min               Crime, Drama   \n",
              "3    The Godfather: Part II           X  202 min               Crime, Drama   \n",
              "4          Schindler's List          15  195 min  Biography, Drama, History   \n",
              "\n",
              "   rating                                              about  \\\n",
              "0     9.3  Two imprisoned men bond over a number of years...   \n",
              "1     9.2  Lazy, uneducated students share a very close b...   \n",
              "2     9.2  The aging patriarch of an organized crime dyna...   \n",
              "3     9.0  The early life and career of Vito Corleone in ...   \n",
              "4     9.0  In German-occupied Poland during World War II,...   \n",
              "\n",
              "               director                                              stars  \\\n",
              "0        Frank Darabont  ('Tim Robbins',), ('Morgan Freeman',), ('Bob G...   \n",
              "1         Ertem Egilmez  ('Kemal Sunal',), ('Münir Özkul',), ('Halit Ak...   \n",
              "2  Francis Ford Coppola  ('Marlon Brando',), ('Al Pacino',), ('James Ca...   \n",
              "3  Francis Ford Coppola  ('Al Pacino',), ('Robert De Niro',), ('Robert ...   \n",
              "4      Steven Spielberg  ('Liam Neeson',), ('Ralph Fiennes',), ('Ben Ki...   \n",
              "\n",
              "       votes gross_earn  runtime_clear  gross_earn_clear  \n",
              "0  26,26,905    $28.34M            142                28  \n",
              "1     40,492        NaN             87              <NA>  \n",
              "2  18,19,641   $134.97M            175               134  \n",
              "3  12,49,182    $57.30M            202                57  \n",
              "4  13,33,407    $96.90M            195                96  "
            ],
            "text/html": [
              "\n",
              "  <div id=\"df-201a9074-2d77-4d43-96bf-ffd3411b0c6b\">\n",
              "    <div class=\"colab-df-container\">\n",
              "      <div>\n",
              "<style scoped>\n",
              "    .dataframe tbody tr th:only-of-type {\n",
              "        vertical-align: middle;\n",
              "    }\n",
              "\n",
              "    .dataframe tbody tr th {\n",
              "        vertical-align: top;\n",
              "    }\n",
              "\n",
              "    .dataframe thead th {\n",
              "        text-align: right;\n",
              "    }\n",
              "</style>\n",
              "<table border=\"1\" class=\"dataframe\">\n",
              "  <thead>\n",
              "    <tr style=\"text-align: right;\">\n",
              "      <th></th>\n",
              "      <th>poster</th>\n",
              "      <th>title</th>\n",
              "      <th>certificate</th>\n",
              "      <th>runtime</th>\n",
              "      <th>genre</th>\n",
              "      <th>rating</th>\n",
              "      <th>about</th>\n",
              "      <th>director</th>\n",
              "      <th>stars</th>\n",
              "      <th>votes</th>\n",
              "      <th>gross_earn</th>\n",
              "      <th>runtime_clear</th>\n",
              "      <th>gross_earn_clear</th>\n",
              "    </tr>\n",
              "  </thead>\n",
              "  <tbody>\n",
              "    <tr>\n",
              "      <th>0</th>\n",
              "      <td>https://m.media-amazon.com/images/S/sash/4Fyxw...</td>\n",
              "      <td>The Shawshank Redemption</td>\n",
              "      <td>15</td>\n",
              "      <td>142 min</td>\n",
              "      <td>Drama</td>\n",
              "      <td>9.3</td>\n",
              "      <td>Two imprisoned men bond over a number of years...</td>\n",
              "      <td>Frank Darabont</td>\n",
              "      <td>('Tim Robbins',), ('Morgan Freeman',), ('Bob G...</td>\n",
              "      <td>26,26,905</td>\n",
              "      <td>$28.34M</td>\n",
              "      <td>142</td>\n",
              "      <td>28</td>\n",
              "    </tr>\n",
              "    <tr>\n",
              "      <th>1</th>\n",
              "      <td>https://m.media-amazon.com/images/S/sash/4Fyxw...</td>\n",
              "      <td>Hababam Sinifi</td>\n",
              "      <td>12A</td>\n",
              "      <td>87 min</td>\n",
              "      <td>Comedy, Drama</td>\n",
              "      <td>9.2</td>\n",
              "      <td>Lazy, uneducated students share a very close b...</td>\n",
              "      <td>Ertem Egilmez</td>\n",
              "      <td>('Kemal Sunal',), ('Münir Özkul',), ('Halit Ak...</td>\n",
              "      <td>40,492</td>\n",
              "      <td>NaN</td>\n",
              "      <td>87</td>\n",
              "      <td>&lt;NA&gt;</td>\n",
              "    </tr>\n",
              "    <tr>\n",
              "      <th>2</th>\n",
              "      <td>https://m.media-amazon.com/images/S/sash/4Fyxw...</td>\n",
              "      <td>The Godfather</td>\n",
              "      <td>X</td>\n",
              "      <td>175 min</td>\n",
              "      <td>Crime, Drama</td>\n",
              "      <td>9.2</td>\n",
              "      <td>The aging patriarch of an organized crime dyna...</td>\n",
              "      <td>Francis Ford Coppola</td>\n",
              "      <td>('Marlon Brando',), ('Al Pacino',), ('James Ca...</td>\n",
              "      <td>18,19,641</td>\n",
              "      <td>$134.97M</td>\n",
              "      <td>175</td>\n",
              "      <td>134</td>\n",
              "    </tr>\n",
              "    <tr>\n",
              "      <th>3</th>\n",
              "      <td>https://m.media-amazon.com/images/S/sash/4Fyxw...</td>\n",
              "      <td>The Godfather: Part II</td>\n",
              "      <td>X</td>\n",
              "      <td>202 min</td>\n",
              "      <td>Crime, Drama</td>\n",
              "      <td>9.0</td>\n",
              "      <td>The early life and career of Vito Corleone in ...</td>\n",
              "      <td>Francis Ford Coppola</td>\n",
              "      <td>('Al Pacino',), ('Robert De Niro',), ('Robert ...</td>\n",
              "      <td>12,49,182</td>\n",
              "      <td>$57.30M</td>\n",
              "      <td>202</td>\n",
              "      <td>57</td>\n",
              "    </tr>\n",
              "    <tr>\n",
              "      <th>4</th>\n",
              "      <td>https://m.media-amazon.com/images/S/sash/4Fyxw...</td>\n",
              "      <td>Schindler's List</td>\n",
              "      <td>15</td>\n",
              "      <td>195 min</td>\n",
              "      <td>Biography, Drama, History</td>\n",
              "      <td>9.0</td>\n",
              "      <td>In German-occupied Poland during World War II,...</td>\n",
              "      <td>Steven Spielberg</td>\n",
              "      <td>('Liam Neeson',), ('Ralph Fiennes',), ('Ben Ki...</td>\n",
              "      <td>13,33,407</td>\n",
              "      <td>$96.90M</td>\n",
              "      <td>195</td>\n",
              "      <td>96</td>\n",
              "    </tr>\n",
              "  </tbody>\n",
              "</table>\n",
              "</div>\n",
              "      <button class=\"colab-df-convert\" onclick=\"convertToInteractive('df-201a9074-2d77-4d43-96bf-ffd3411b0c6b')\"\n",
              "              title=\"Convert this dataframe to an interactive table.\"\n",
              "              style=\"display:none;\">\n",
              "        \n",
              "  <svg xmlns=\"http://www.w3.org/2000/svg\" height=\"24px\"viewBox=\"0 0 24 24\"\n",
              "       width=\"24px\">\n",
              "    <path d=\"M0 0h24v24H0V0z\" fill=\"none\"/>\n",
              "    <path d=\"M18.56 5.44l.94 2.06.94-2.06 2.06-.94-2.06-.94-.94-2.06-.94 2.06-2.06.94zm-11 1L8.5 8.5l.94-2.06 2.06-.94-2.06-.94L8.5 2.5l-.94 2.06-2.06.94zm10 10l.94 2.06.94-2.06 2.06-.94-2.06-.94-.94-2.06-.94 2.06-2.06.94z\"/><path d=\"M17.41 7.96l-1.37-1.37c-.4-.4-.92-.59-1.43-.59-.52 0-1.04.2-1.43.59L10.3 9.45l-7.72 7.72c-.78.78-.78 2.05 0 2.83L4 21.41c.39.39.9.59 1.41.59.51 0 1.02-.2 1.41-.59l7.78-7.78 2.81-2.81c.8-.78.8-2.07 0-2.86zM5.41 20L4 18.59l7.72-7.72 1.47 1.35L5.41 20z\"/>\n",
              "  </svg>\n",
              "      </button>\n",
              "      \n",
              "  <style>\n",
              "    .colab-df-container {\n",
              "      display:flex;\n",
              "      flex-wrap:wrap;\n",
              "      gap: 12px;\n",
              "    }\n",
              "\n",
              "    .colab-df-convert {\n",
              "      background-color: #E8F0FE;\n",
              "      border: none;\n",
              "      border-radius: 50%;\n",
              "      cursor: pointer;\n",
              "      display: none;\n",
              "      fill: #1967D2;\n",
              "      height: 32px;\n",
              "      padding: 0 0 0 0;\n",
              "      width: 32px;\n",
              "    }\n",
              "\n",
              "    .colab-df-convert:hover {\n",
              "      background-color: #E2EBFA;\n",
              "      box-shadow: 0px 1px 2px rgba(60, 64, 67, 0.3), 0px 1px 3px 1px rgba(60, 64, 67, 0.15);\n",
              "      fill: #174EA6;\n",
              "    }\n",
              "\n",
              "    [theme=dark] .colab-df-convert {\n",
              "      background-color: #3B4455;\n",
              "      fill: #D2E3FC;\n",
              "    }\n",
              "\n",
              "    [theme=dark] .colab-df-convert:hover {\n",
              "      background-color: #434B5C;\n",
              "      box-shadow: 0px 1px 3px 1px rgba(0, 0, 0, 0.15);\n",
              "      filter: drop-shadow(0px 1px 2px rgba(0, 0, 0, 0.3));\n",
              "      fill: #FFFFFF;\n",
              "    }\n",
              "  </style>\n",
              "\n",
              "      <script>\n",
              "        const buttonEl =\n",
              "          document.querySelector('#df-201a9074-2d77-4d43-96bf-ffd3411b0c6b button.colab-df-convert');\n",
              "        buttonEl.style.display =\n",
              "          google.colab.kernel.accessAllowed ? 'block' : 'none';\n",
              "\n",
              "        async function convertToInteractive(key) {\n",
              "          const element = document.querySelector('#df-201a9074-2d77-4d43-96bf-ffd3411b0c6b');\n",
              "          const dataTable =\n",
              "            await google.colab.kernel.invokeFunction('convertToInteractive',\n",
              "                                                     [key], {});\n",
              "          if (!dataTable) return;\n",
              "\n",
              "          const docLinkHtml = 'Like what you see? Visit the ' +\n",
              "            '<a target=\"_blank\" href=https://colab.research.google.com/notebooks/data_table.ipynb>data table notebook</a>'\n",
              "            + ' to learn more about interactive tables.';\n",
              "          element.innerHTML = '';\n",
              "          dataTable['output_type'] = 'display_data';\n",
              "          await google.colab.output.renderOutput(dataTable, element);\n",
              "          const docLink = document.createElement('div');\n",
              "          docLink.innerHTML = docLinkHtml;\n",
              "          element.appendChild(docLink);\n",
              "        }\n",
              "      </script>\n",
              "    </div>\n",
              "  </div>\n",
              "  "
            ]
          },
          "metadata": {},
          "execution_count": 86
        }
      ]
    },
    {
      "cell_type": "markdown",
      "source": [
        "## 8. Сохранение датасета"
      ],
      "metadata": {
        "id": "rfhui4VDeBZ9"
      }
    },
    {
      "cell_type": "markdown",
      "source": [
        "Сохраните датасет под названием movies_clean в формате csv и скачайте его себе на ПК. Он Понадобится Вам при дальнейшем выполнении тренировочных заданий"
      ],
      "metadata": {
        "id": "BM47OTjHv1K_"
      }
    },
    {
      "cell_type": "code",
      "source": [
        "sorted_dataset.to_csv('movies_clean.csv')"
      ],
      "metadata": {
        "id": "mQE36Xmz0z_6"
      },
      "execution_count": null,
      "outputs": []
    },
    {
      "cell_type": "markdown",
      "source": [
        "**Поздравляем! Часть 1 задания по модулю EDA выполнена! Далее Вас ожидает разведочный анализ данных!**"
      ],
      "metadata": {
        "id": "jqnyCEDkwGvN"
      }
    },
    {
      "cell_type": "code",
      "source": [
        "sorted_dataset.info()"
      ],
      "metadata": {
        "id": "PCHLhltqbXsu",
        "outputId": "37c3238d-c7a7-4b00-b6c7-c78bcb2cf6be",
        "colab": {
          "base_uri": "https://localhost:8080/"
        }
      },
      "execution_count": null,
      "outputs": [
        {
          "output_type": "stream",
          "name": "stdout",
          "text": [
            "<class 'pandas.core.series.Series'>\n",
            "RangeIndex: 4970 entries, 0 to 4969\n",
            "Series name: rating\n",
            "Non-Null Count  Dtype  \n",
            "--------------  -----  \n",
            "4970 non-null   float64\n",
            "dtypes: float64(1)\n",
            "memory usage: 39.0 KB\n"
          ]
        }
      ]
    }
  ],
  "metadata": {
    "colab": {
      "provenance": [],
      "include_colab_link": true
    },
    "kernelspec": {
      "display_name": "Python 3",
      "name": "python3"
    },
    "language_info": {
      "name": "python"
    }
  },
  "nbformat": 4,
  "nbformat_minor": 0
}