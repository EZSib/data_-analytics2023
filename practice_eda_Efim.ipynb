{
  "nbformat": 4,
  "nbformat_minor": 0,
  "metadata": {
    "colab": {
      "provenance": [],
      "toc_visible": true,
      "authorship_tag": "ABX9TyPdj/MRKbqISxYNUgsQNmFS",
      "include_colab_link": true
    },
    "kernelspec": {
      "name": "python3",
      "display_name": "Python 3"
    },
    "language_info": {
      "name": "python"
    }
  },
  "cells": [
    {
      "cell_type": "markdown",
      "metadata": {
        "id": "view-in-github",
        "colab_type": "text"
      },
      "source": [
        "<a href=\"https://colab.research.google.com/github/EZSib/data_-analytics2023/blob/main/practice_eda_Efim.ipynb\" target=\"_parent\"><img src=\"https://colab.research.google.com/assets/colab-badge.svg\" alt=\"Open In Colab\"/></a>"
      ]
    },
    {
      "cell_type": "markdown",
      "source": [
        "# словарь"
      ],
      "metadata": {
        "id": "hVk22pYpDTiq"
      }
    },
    {
      "cell_type": "code",
      "source": [
        "\n",
        "#словарь с методами пандаса и связанные с ним библиотеки\n",
        "pandas_methods = {\n",
        "    \"json.dump()\": \"Записывает объект Python в файл в формате JSON\",\n",
        "    \"json.dumps()\": \"Создает JSON-строку из переданного в нее объекта\",\n",
        "    \"json.load()\": \"Считывает файл в формате JSON и возвращает объекты Python\",\n",
        "    \"json.loads()\": \"Преобразует JSON-строку в объекты Python\",\n",
        "    \"df.to_json()\": \"Запись датафрейма в формат JSON\",\n",
        "    \"pd.read_json()\": \"Чтение файла формата JSON\",\n",
        "    \"eval()\": \"Функция, выполняющая строку-выражение, переданную ей в качестве обязательного аргумента, и возвращающая результат выполнения этой строки.\",\n",
        "    \"replace()\": \"Возвращает копию строки, в которой все вхождения подстроки заменяются другой подстрокой\",\n",
        "    \"split()\": \"Разбивает строку по указанному разделителю и возвращает список строк\",\n",
        "    \"strip()\": \"Возвращает копию строки, удаляя как начальные, так и конечные символы (в зависимости от переданного строкового аргумента; по умолчанию - пробелы)\",\n",
        "    \"apply()\": \"Позволяет пользователю передать функцию и применить ее к каждому отдельному значению серии Pandas\",\n",
        "    \"rename(columns={'costs_sum': 'costs'}, inplace=True)\": \"Переименовывает столбец датафрейма 'costs_sum‘ в 'costs‘ (параметр inplace=True перезаписывает датафрейм)\",\n",
        "    \"df.country.str.contains('platform')\": \"Проверяет все значения столбца 'country‘ датафрейма на вхождение подстроки 'platform'\",\n",
        "    \"df.drop([3334, 3335, 3336,3337],inplace=True)\": \"Удаляет наблюдения датафрейма по наименованию индексов ([3334, 3335, 3336, 3337]; параметр inplace=True перезаписывает датафрейм)\",\n",
        "\n",
        "    \"pd.DataFrame(data)\": \"Создание объекта DataFrame\",\n",
        "    \"!gdown –id 'id файла'\": \"одгрузка файла в среду выполнения кода Colab с google диска\",\n",
        "    \"from google.colab import files\": \" Импорт класса files из библиотеки google.colab.\",\n",
        "    \"uploaded = files.upload()\": \"Импорт класса files из библиотеки google.colab. Подгрузка файла в среду выполнения кода с персонального компьютера\",\n",
        "    \"pd.read_csv('shop_users.csv')\": \"Чтение файла формата csv (tsv)\",\n",
        "    \"pd.read_excel('shop_users.xlsx')\": \"Чтение файла формата xlsx (xls)\",\n",
        "    \"df.head()\": \"Показывает наблюдения с начала датасета (по умолчанию - 5 наблюдений)\",\n",
        "    \"df.tail(3)\": \"Показывает наблюдения с конца датасета (указано 3 строки)\",\n",
        "    \"df.sample(4)\": \"Показывает случайно выбранные наблюдения (указано 4 строки)\",\n",
        "    \"type(df)\": \"Показывает тип данных передаваемого объекта\",\n",
        "    \"df.size\": \"Показывает размеры датасета (количество ячеек: строки Х столбцы)\",\n",
        "    \"len(df)\": \"Показывает длину датасета (количество наблюдений)\",\n",
        "    \"len(df.axes[1])\": \"Показывает количество признаков в датасете (количество столбцов)\",\n",
        "    \"df.shape\": \"Показывает размеры датасета (количество наблюдений и признаков)\",\n",
        "    \"df.dtypes\": \"Показывает информацию о типах данных по каждому признаку\",\n",
        "    \"df.info()\": \"Показывает общую информацию о датасете\",\n",
        "\n",
        "    \"df.copy()\": \"Создание копии датафрейма df\",\n",
        "    \"df.columns\": \"Вывод списка колонок (столбцов) датафрейма\",\n",
        "    \"df.drop(columns=columns, inplace=True)\": \"Удаление столбцов датафрейма (параметр inplace=True перезаписывает датафрейм)\",\n",
        "    \"df.duplicated()\": \"Проверка на дубликаты: выдает объект Series с булевыми значениями True/False\",\n",
        "    \"df.duplicated().sum()\": \"Количество полных дубликатов (по умолчанию параметр keep='first‘ присваивает значение True первому из совпадений)\",\n",
        "    \"df.duplicated(subset=['bdate', 'sex'], keep=False).sum()\": \"Количество дубликатов по столбцам 'bdate', 'sex’ (параметр keep=False присваивает значения True всем найденным дубликатам)\",\n",
        "    \"df.drop_duplicates(inplace=True)\": \"Удаление полных дубликатов (по умолчанию параметр keep='first‘ удаляет все дубликаты, кроме первого; параметр inplace=True перезаписывает датафрейм)\",\n",
        "    \"df.drop_duplicates(subset=['bdate', 'sex'],keep=False, inplace=True)\": \"Удаление дубликатов по столбцам 'bdate', 'sex’ (параметр keep=False удаляет все найденные дубликаты; параметр inplace=True перезаписывает датафрейм)\",\n",
        "\n",
        "    \"df. isna() / df. isnull()\": \"Проверка датафрейма на пропуски\",\n",
        "    \"df. notna() / df. notnull()\": \"Проверка датафрейма на заполненные значения\",\n",
        "    \"df. isna().sum()\": \"Количество пропущенных значений в датафрейме\",\n",
        "    \"df.isnull().mean()*100\": \"Процент пропущенных значений в датафрейме\",\n",
        "    \"df.notna().sum()\": \"Количество заполненных значений в датафрейме\",\n",
        "    \"df['costs']. isna().sum()\": \"Количество пропущенных значений по столбцу ‘costs’\",\n",
        "    \"df.dropna(inplace=True)\": \"Удалению всех наблюдений датафрейма, где есть хотя бы одно пустое значение (параметр inplace=True перезаписывает датафрейм)\",\n",
        "    \"df.dropna(subset=['costs', 'games'], inplace=True)\": \"Удаление наблюдений, у которых пропущены значения по столбцам 'costs‘ и 'games' (параметр inplace=True перезаписывает датафрейм)\",\n",
        "    \"df['city'].fillna('Moscow‘, inplace=True)\": \"Заполнение пропущенных значений по столбцу 'city‘ значением 'Moscow‘ (параметр inplace=True перезаписывает датафрейм)\",\n",
        "    \"mean = df['followers_count'].mean()\": \"empty\",\n",
        "    \"df['followers_count'].fillna(mean, inplace=True)\": \"Заполнение пропущенных значений по столбцу 'followers_count‘ средним значением по этому столбцу (параметр inplace=True перезаписывает датафрейм)\",\n",
        "    \"df.reset_index(drop=True, inplace=True)\": \"Назначение нового индексного столбца датафрейма (параметр drop=True автоматически удаляет исходный индексный столбец; параметр inplace=True перезаписывает датафрейм)\",\n",
        "    \"df.index\": \"Проверка диапазона индексов\",\n",
        "    \"pd.Series.astype(‘int’)\":\" переводит признак в тип данных int, используемый в Python (ошибка при наличии пропущенных значений)\",\n",
        "    \"pd.Series.astype(‘Int64’)\":\" переводит признак в тип данных Int64, используемый в Pandas  (работает при наличии пропущенных значений)\",\n",
        "    \"pd.to_numeric()\":\" переводит признак в числовой тип данных int64 или float64  в зависимости от подаваемых значений\",\n",
        "    \"import datetime\":\" Импорт модуля datetime\",\n",
        "    \"from datetime import datetime\": \"Импорт класса datetime модуля datetime\",\n",
        "    \"pd.to_datetime()\": \"Переводит объект Pandas в формат datetime64\",\n",
        "    \"pd.to_datetime(df.Series, unit='s', origin='unix')\": \"Переводит объект Series, значения которого закодированы в Unix time в секундах, в формат datetime64\",\n",
        "    \"pd.Timestamp.utcfromtimestamp( df.Series)\": \"Переводит объект Series, значения которого закодированы в Unix time в секундах, в формат datetime64\",\n",
        "    \"df.Series.dt.strftime('%d.%m.%Y')\": \"Переводит объект Series формата datetime в строковое значение в виде ДД.ММ.ГГГГ\",\n",
        "    \"pd.Series.astype()\": \"Переводит признаки в типы данных, используемых в Python или Numpy (тип данных необходимо указывать в качестве параметра)\",\n",
        "    \"pd.to_numeric(downcast=‘float’)\": \"Переводит признак в числовой тип данных (параметр downcast указывает на перевод в тип данных float64; без указания параметра переводит в числовой тип данных int64 или float64\",\n",
        "    \"pd.Timestamp.today()\": \"Получение текущих даты и времени\",\n",
        "    \"DatetimeObject.year\": \"Извлечение года из объекта формата datetime (существует большое число атрибутов)\",\n",
        "    \"current_year - df.bdate.apply(lambda x: x.year)\": \"Расчет количества лет как текущий год за минусом года, извлеченного из даты рождения\",\n",
        "    \"df['costs_to_rur'] = df['currency'].map(rates) * df['costs']\": \"Расчет дополнительного признака со стоимостью в единой валюте – рублях на основании словаря с  курсами валют от существующих признаков 'currency‘ и 'costs'\",\n",
        "    \"df.sex.apply(lambda x: 1 if x == 'женский'  else 2)\": \"Кодирование пола (при условии, что все значения заполнены) sex_dict = {1: 'женский'  2: 'мужской', 0: 'не указан'}\",\n",
        "    \"df.sex.apply(lambda x: sex_dict[x])\": \"Декодирование пола на основании словарярасшифровки\",\n",
        "\n",
        "    \"df.Series.unique()\": \"Получение уникальных значений объекта Series  датафрейма\",\n",
        "    \"df.explode(‘Series’, ignore_index=True)\": \"Трансформирует датафрейм в разрезе списков значений по признаку (параметр ignore_index=True сбрасывает исходные индексы) columns = […]\",\n",
        "    \"df = df[columns]\": \"Сохраняет датафрейм, состоящий из переданного списка признаков, при этом учитывая их порядок в списке\",\n",
        "    \"df.to_csv(‘FileName.csv’)\": \"Записывает датафрейм в файл формата csv\",\n",
        "    \"df.to_excel(‘FileName.xlsx’, index=False)\": \"Записывает датафрейм в файл формата xlsx (параметр index=False игнорирует индексный столбец при записи)  \",\n",
        "\n",
        "    \"df.Series.str.len()\": \"Возвращает длины строковых значений объекта Series\",\n",
        "    \"df.Series.str.count(‘s’)\": \"Возвращает количество вхождений подстроки ‘s’ в строку объекта Series\",\n",
        "    \"df.Series.str.lower()\": \"Приведение строковых значений объекта Series в нижний регистр\",\n",
        "    \"df.Series.str.upper()\": \"Приведение строковых значений объекта Series в верхний регистр\",\n",
        "    \"df.Series.str.capitalize()\": \"Приведение первых символов строковых значений объекта Series в верхний регистр, а остальных символов – в нижний регистр\",\n",
        "    \"df.Series.str.strip()\": \"Возвращает копии строки объекта Series, удаляя как начальные, так и конечные символы (в зависимости от переданного строкового аргумента; по умолчанию - пробелы)\",\n",
        "    \"df.Series.str.lstrip()\": \"Возвращает копии строки объекта Series, удаляя как начальные символы (в зависимости от переданного строкового аргумента; по умолчанию - пробелы)\",\n",
        "    \"df.Series.str.rstrip()\": \"Возвращает копии строки объекта Series, удаляя конечные символы (в зависимости от переданного строкового аргумента; по умолчанию - пробелы)\",\n",
        "    \"df.Series.str.replace(‘old’, ‘new’)\": \"Заменяет указанную подстроку строковых значений объекта Series на новую\",\n",
        "    \"df.Series.str.split(sep=‘sep’)\": \"Разделяет строки объекта Series на список подстрок по указанному разделителю (по  умолчанию – пробел)\",\n",
        "    \"df.Series.str.cat(sep=‘sep’)\": \"Объединяет строки объектов Series в единое строковое значение через указанный разделитель (по умолчанию – пробел)\",\n",
        "    \"df.Series.str. get_dummies()\": \"Кодирует значения объекта Series, для каждого создавая отдельный столбец\",\n",
        "    \"df.loc[df['column_name'] == 'some_value', 'column_name'] = 'значение'\": \"Заменяет значение объекта Series по условию (для любого типа данных)\",\n",
        "\n",
        "    \"df.loc[df.city.str.contains('petersb urg'), 'city'] = 'санкт-петербург'\": \"Заменяет значение признака 'city' на 'санкт-петербург' при условии, что изначальное значение по этому же признаку – содержит подстроку 'petersburg\",\n",
        "    \"df1[df1['player_surname'] == 'GOLOVIN']\": \"поиск строк с Головиным в ПЗ №6)\",\n",
        "    \"df.set_index('id', inplace=True)\":  \"меняем колонку index на id, inplace сохраняет изменения в датафрейме\",\n",
        "    \"pd.read_json('partner_data_records_cp1251.json', encoding='cp1251')\": \"чтение файла в кодировке Windows-1251 (cp1251),encoding='UTF-8'\",\n",
        "    \"df = pd.read_excel('partner_data.xlsx', sheet_name='partner_data1', header=0, index_col='id')\": \"header — строка с заголовками, index_col — колонка с индексами\",\n",
        "    \".iloc\": \"выбор элементов по индексу;\",\n",
        "    \".loc\": \"выбор элементов по названию. \",\n",
        "    \"df.iloc[0,0]\": \"элемент на позиции [0,0]\",\n",
        "    \"df.iloc[0:3, 0]\": \"элементы 0, 1, 2 нулевого столбца\",\n",
        "    \"df.iloc[:, 0]\": \"полный срез столбца 0\",\n",
        "    \"df.iloc[0, :]\": \"полный срез строки 0\",\n",
        "    \"df.loc[1, 'age']\": \"строка с id 1, столбец age\",\n",
        "    \"df.loc[5:6, 'marital':'education']\": \"обе границы включаются в диапазон\",\n",
        "    \"df.loc[[5,10], ['marital','default']]\": \"можно передавать списки\",\n",
        "    \"df['age']\": \"один столбец\",\n",
        "    \"df[['age', 'marital']]\": \"несколько столбцов\"\n",
        "\n",
        "}\n",
        "# словарь с шаблонами eda\n",
        "eda = {\n",
        "\"Шаблон применения какой-либо функции ко всем значениям колонки\": '''import re\n",
        "def clear_price(price):\n",
        "    return int(re.sub(\\'\\D\\', \\'\\', price))\n",
        "dataset[\\'Очищенная цена\\'] = dataset[\\'Цена\\'].apply(clear_price)''',\n",
        "    \"Шаблон сортировки по значению\": '''sorted_dataset = dataset.sort_values('Очищенная цена')\n",
        "sorted_dataset''',\n",
        "    \"Импортируем библиотеку визуализации\":'''import matplotlib.pyplot as plt''',\n",
        "    \"Для визуального представления данных в том числе медианы, квартилей и выбросов используем boxplot\": '''plt.boxplot(dataset['Номер этажа'])\n",
        "plt.show()''',\n",
        "    \"Альтернативный способ визуализировать колонку - гистограмма\":'''plt.hist(dataset['Номер этажа'], bins = 50)\n",
        "plt.xlim((None,55)) # для \"отрезания\" от графика неинформативного\n",
        "plt.show()''',\n",
        "    \"Создание переменной с Series\":'''year_of_construction = dataset['Год постройки']''',\n",
        "    \"Расчет минимального и максимального значения Series\":'''max_value = year_of_construction.max()\n",
        "min_value = year_of_construction.min()\n",
        "print('Максимальный год постройки: ', max_value, 'Минимальный год постройки: ', min_value)''',\n",
        "    \"Расчет среднего значения Series\":'''mean_value = year_of_construction.mean()\n",
        "print('Средний год постройки: ', mean_value)''',\n",
        "    \"Расчет медианы Series\":'''median_value = year_of_construction.median()\n",
        "print('Медиана года постройки: ', median_value)''',\n",
        "    \"Расчет 10-го и 25-го процентилей Series\":'''percentile_10_value = year_of_construction.quantile(0.10)\n",
        "percentile_25_value = year_of_construction.quantile(0.25)\n",
        "print('10-й процентиль года постройки: ', percentile_10_value)\n",
        "print('25-й процентиль года постройки: ', percentile_25_value)''',\n",
        "    \"Для расчета всех основных статистических показателей сразу\":'''year_of_construction.describe()''',\n",
        "    \"Неграфический способ проанализировать колонку\":'''dataset['Класс жилья'].describe()''',\n",
        "    \"Более полный неграфический способ\":'''class_counts = dataset['Класс жилья'].value_counts()\n",
        "class_counts''',\n",
        "    \"Круговая диаграмма\":'''plt.pie(class_counts.values, labels = class_counts.index)\n",
        "plt.title('Круговая диаграмма распределения классов квартир') # Добавление подписи к графику\n",
        "plt.show()''',\n",
        "    \"Стобцевая диаграмма\":'''type_counts = dataset['Тип здания'].value_counts()\n",
        "plt.barh(type_counts.index, type_counts.values)\n",
        "plt.title('Столбцовая диаграмма распределения типов здания')\n",
        "plt.show()''',\n",
        "    \"Шаблона первичного анализа взаимосвязи категориальной и числовой колонок\":'''dataset.groupby('Класс жилья')[\"Очищенная цена за м²\"].describe()''',\n",
        "    \"Шаблон визуального анализа взаимосвязи категориальной и числовой колонок\":'''import seaborn as sns\n",
        "sns.boxplot(x='Класс жилья', y=\"Очищенная цена за м²\", data=dataset)\n",
        "plt.axis(ymin=0, ymax=1100000)\n",
        "plt.show()''',\n",
        "    \"Шаблона анализа взаимосвязи двух и более числовых колонок\":'''g = sns.PairGrid(new_dataset[columns])\n",
        "g.map(sns.scatterplot, alpha=0.2)''',\n",
        "    \"Шаблона анализа взаимосвязи двух категориальных колонок\":'''import matplotlib.pyplot as plt\n",
        "flat_types = dataset['Класс жилья'].unique()\n",
        "flat_types = flat_types[1:]\n",
        "labels = dataset['Тип здания'].unique()\n",
        "colors = dict(zip(labels, plt.cm.tab20.colors[:len(labels)]))\n",
        "for flat_type in flat_types:\n",
        "  df = dataset[dataset['Класс жилья']==flat_type]\n",
        "  class_counts = df['Тип здания'].value_counts()\n",
        "  labels =class_counts.index\n",
        "  plt.title(flat_type)\n",
        "  patches, texts = plt.pie(\n",
        "      class_counts.values,\n",
        "      labels = labels,\n",
        "      colors = [colors[key] for key in labels],\n",
        "      textprops=dict(color=\"w\")\n",
        "      )\n",
        "  plt.legend(patches, labels, title=\"Типы здания\", loc=\"upper center\", bbox_to_anchor=(1, 0, 0.5, 1))\n",
        "  plt.show()''',\n",
        "    \"Шаблон фильтрации по одному значению в колонке\":'''filtered_dataset = dataset[dataset['Этап строительства']=='Котлован']''',\n",
        "    \"Шаблон фильтрации числовой колонки\":'''filtered_dataset = dataset[dataset['Год постройки']>2010]''',\n",
        "    \"Шаблон фильтрации по нескольким значениям в колонке\":'''districts = ['Строгино', 'Щукино', 'Хорошёвский']\n",
        "filtered_dataset = dataset[dataset['Район'].isin(districts)]''',\n",
        "    \"Шаблон фильтрации по нескольким колонкам\":'''districts = ['Строгино', 'Щукино', 'Хорошёвский']\n",
        "filtered_dataset = dataset[(dataset['Район'].isin(districts)) & (dataset['Год постройки']>2010)]''',\n",
        "    \"Шаблон фильтрации по всем значениям кроме заданных в фильтре\":'''districts = ['Строгино', 'Щукино', 'Хорошёвский']\n",
        "filtered_dataset = dataset[~(dataset['Район'].isin(districts))]''',\n",
        "    \"Шаблон взятия элемента по индексу\":'''dataset.loc[100]''',\n",
        "    \"Шаблон взятия среза по промежутку\":'''dataset.loc[1000:1002]''',\n",
        "    \"Шаблон создания нового датасета списку индексов \":'''index_list = [354,1,2]\n",
        "dataset.loc[index_list].head()''',\n",
        "    \"Для не числовых индексов все работает аналогично\":'''describe_data = dataset.describe()\n",
        "describe_data.loc['max']''',\n",
        "    \"Шаблон для взятия среза в хаотично пронумеровнном датасете \":'''sorted_dataset = dataset.sort_values('Количество комнат', ascending=False)\n",
        "sorted_dataset.iloc[:100]''',\n",
        "    \"Нестандартная фильтрация с помощью дополнительный функции\":'''def is_address_correct(address):\n",
        "  return 'Тагильская' in address\n",
        "mask = dataset['Адрес'].apply(is_address_correct)\n",
        "filtred_dataset = dataset[mask]''',\n",
        "    \"Шаблон фильтрации числовых колонок\":'''dtypes = dataset.dtypes\n",
        "num_dtypes = dtypes[dtypes!='object']\n",
        "new_columns = num_dtypes.index\n",
        "filtred_dataset = dataset[num_dtypes.index]''',\n",
        "    \"Шаблон взятия среднего значения цены квартир сгруппированных по значениям Этапа строительства  \":'''groups_mean_price = dataset.groupby('Этап строительства')['Очищенная цена'].mean()''',\n",
        "    \"Шаблон взятия среднего значения цены квартир сгруппированных по значениям колонок Этапа строительства и Класса жилья\":'''\n",
        "groups_mean_price = dataset.groupby(['Этап строительства', 'Класс жилья'], as_index=False)['Очищенная цена'].mean()\n",
        "groups_mean_price['Очищенная цена'] = groups_mean_price['Очищенная цена'].astype(int)''',\n",
        "    \"Размер шрифта на диаграмме\":'''params = {\n",
        "          'axes.titlesize': 15,   Размер шрифта главной подписи\n",
        "          'xtick.labelsize': 12,  Размер шрифта подписей тикетов оси X\n",
        "          'axes.labelsize': 14    Размер шрифта подписей осей\n",
        "          }\n",
        "plt.rcParams.update(params)''',\n",
        "    \"Шаблон улучшения графика\":'''import matplotlib.pyplot as plt\n",
        "type_counts = dataset['Тип здания'].value_counts()\n",
        "other_types = type_counts[type_counts<500]\n",
        "type_counts = type_counts[type_counts>500]\n",
        "type_counts['Другое'] = other_types.sum() # Замена редких значений категорией Другое\n",
        "plt.style.use('seaborn') # Смена стиля всех графиков matplotlib\n",
        "params = {\n",
        "          'axes.titlesize': 15,   # Размер шрифта главной подписи\n",
        "          'xtick.labelsize': 12,  # Размер шрифта подписей тикетов оси X\n",
        "          'axes.labelsize': 14    # Размер шрифта подписей осей\n",
        "          }\n",
        "plt.rcParams.update(params) # Фиксация параметров\n",
        "plt.ylabel('Количество квартир') # Подпись оси Y\n",
        "plt.title('Диаграмма распределения типов здания') # Подпись всего графика\n",
        "plt.xticks(rotation=30, ha = 'right') # Поворот на 30 градусов подписей оси X и выравнивание по правому краю\n",
        "plt.bar(type_counts.index, type_counts.values, color='#03A9F4') # Кастомизация цвета\n",
        "plt.show()''',\n",
        "    \"50 разных способов создать боксплот/диаграмму/гистаграмму\":'''https://habr.com/ru/articles/468295/''',\n",
        "                                                                  }\n",
        "def search_in(string, dct=pandas_methods):\n",
        "    '''Функция поиска совпадений по подстроке, можно писать часть названия метода/функции\n",
        "    или слово/часть слова из описания этой функции/метода'''\n",
        "    return_list = []\n",
        "    for name, info in dct.items():\n",
        "        if string.lower() in name.lower() or string.lower() in info.lower():\n",
        "            return_list.append({name: info})\n",
        "    print('*'*156)\n",
        "    for i in return_list:\n",
        "        print(*i)\n",
        "        print(*(i.values()), end='\\n'+156 * '-'+'\\n')\n",
        "# end='\\n'+ max(map(lambda x: len(str(x)), return_list))*'-'+'\\n'\n",
        "# запросы разделены *, примеры разделены -"
      ],
      "metadata": {
        "id": "tBk7_taLCOZY"
      },
      "execution_count": 2,
      "outputs": []
    },
    {
      "cell_type": "markdown",
      "source": [
        "# EDA"
      ],
      "metadata": {
        "id": "5btoSA5VDzKW"
      }
    },
    {
      "cell_type": "code",
      "source": [
        "import pandas as pd\n",
        "from google.colab import files\n",
        "import matplotlib.pyplot as plt\n",
        "import seaborn as sns"
      ],
      "metadata": {
        "id": "7R_7mF14-oYT"
      },
      "execution_count": 3,
      "outputs": []
    },
    {
      "cell_type": "code",
      "source": [
        "from google.colab import drive\n",
        "drive.mount('1HAZaZ9pNq2D0rGBedCAthhsTb920kgoX')"
      ],
      "metadata": {
        "id": "aSOIoWdUBq6B",
        "outputId": "ab983794-033f-451c-bace-3bf9b786a082",
        "colab": {
          "base_uri": "https://localhost:8080/"
        }
      },
      "execution_count": 4,
      "outputs": [
        {
          "output_type": "stream",
          "name": "stdout",
          "text": [
            "Mounted at 1HAZaZ9pNq2D0rGBedCAthhsTb920kgoX\n"
          ]
        }
      ]
    },
    {
      "cell_type": "code",
      "source": [
        "last_after_last_clean = pd.read_excel('/content/1HAZaZ9pNq2D0rGBedCAthhsTb920kgoX/MyDrive/only_good_pc.xlsx')"
      ],
      "metadata": {
        "id": "l2dLdjUw_WOJ"
      },
      "execution_count": 5,
      "outputs": []
    },
    {
      "cell_type": "code",
      "source": [
        "last_after_last_clean.head(5)"
      ],
      "metadata": {
        "id": "SY8dyM3e_MpW",
        "outputId": "62efcd68-95b0-4fed-d075-d032b6f22d2a",
        "colab": {
          "base_uri": "https://localhost:8080/",
          "height": 548
        }
      },
      "execution_count": 6,
      "outputs": [
        {
          "output_type": "execute_result",
          "data": {
            "text/plain": [
              "   product_id                                        title   price  sales  \\\n",
              "0    17877962                               Системный блок   32900      0   \n",
              "1    19347937      Офисный Компьютер Robotcomp Казначей V1   39237     11   \n",
              "2    19348951       Игровой Компьютер Robotcomp М16 2.0 V1   76188    201   \n",
              "3    19355097          Игровой Компьютер Robotcomp M-16 V1   55625     41   \n",
              "4    19358744  Игровой Компьютер Robotcomp Анаконда 2.0 V1  128284      6   \n",
              "\n",
              "   feedbacks     seller  seller_rating           Видеопроцессор  \\\n",
              "0          0          0            0.0               Integrated   \n",
              "1          1  Robotcomp            4.7               Integrated   \n",
              "2         94  Robotcomp            4.7  nvidia geforce gtx 1660   \n",
              "3         12  Robotcomp            4.7  nvidia geforce gtx 1650   \n",
              "4          4  Robotcomp            4.7  nvidia geforce rtx 3070   \n",
              "\n",
              "  Операционная система  Гарантийный срок Страна производства  \\\n",
              "0                    0                 0               Китай   \n",
              "1      windows пробная              1080              Россия   \n",
              "2      windows пробная              1080              Россия   \n",
              "3      windows пробная              1080              Россия   \n",
              "4      windows пробная              1080              Россия   \n",
              "\n",
              "      имя процессора количество ядер поколение ОП объём ОП  HDD   SSD  \\\n",
              "0  IntelCorei510400f               0      NO DATA       16  0.0  0.25   \n",
              "1  IntelCorei510400f               6         DDR4        8  0.0  0.50   \n",
              "2  IntelCorei510400f               6         DDR4       16  0.0  1.00   \n",
              "3  IntelCorei510400f               6         DDR4       16  0.0  0.50   \n",
              "4  IntelCorei510400f              10         DDR4       16  0.0  1.00   \n",
              "\n",
              "   Объём кв.см  вес кг.  \n",
              "0          0.0      0.0  \n",
              "1      94192.0      7.0  \n",
              "2      39600.0      7.0  \n",
              "3      39600.0      7.0  \n",
              "4      43470.0      7.0  "
            ],
            "text/html": [
              "\n",
              "  <div id=\"df-fa4a2207-e600-48dc-b454-361388bdefdb\">\n",
              "    <div class=\"colab-df-container\">\n",
              "      <div>\n",
              "<style scoped>\n",
              "    .dataframe tbody tr th:only-of-type {\n",
              "        vertical-align: middle;\n",
              "    }\n",
              "\n",
              "    .dataframe tbody tr th {\n",
              "        vertical-align: top;\n",
              "    }\n",
              "\n",
              "    .dataframe thead th {\n",
              "        text-align: right;\n",
              "    }\n",
              "</style>\n",
              "<table border=\"1\" class=\"dataframe\">\n",
              "  <thead>\n",
              "    <tr style=\"text-align: right;\">\n",
              "      <th></th>\n",
              "      <th>product_id</th>\n",
              "      <th>title</th>\n",
              "      <th>price</th>\n",
              "      <th>sales</th>\n",
              "      <th>feedbacks</th>\n",
              "      <th>seller</th>\n",
              "      <th>seller_rating</th>\n",
              "      <th>Видеопроцессор</th>\n",
              "      <th>Операционная система</th>\n",
              "      <th>Гарантийный срок</th>\n",
              "      <th>Страна производства</th>\n",
              "      <th>имя процессора</th>\n",
              "      <th>количество ядер</th>\n",
              "      <th>поколение ОП</th>\n",
              "      <th>объём ОП</th>\n",
              "      <th>HDD</th>\n",
              "      <th>SSD</th>\n",
              "      <th>Объём кв.см</th>\n",
              "      <th>вес кг.</th>\n",
              "    </tr>\n",
              "  </thead>\n",
              "  <tbody>\n",
              "    <tr>\n",
              "      <th>0</th>\n",
              "      <td>17877962</td>\n",
              "      <td>Системный блок</td>\n",
              "      <td>32900</td>\n",
              "      <td>0</td>\n",
              "      <td>0</td>\n",
              "      <td>0</td>\n",
              "      <td>0.0</td>\n",
              "      <td>Integrated</td>\n",
              "      <td>0</td>\n",
              "      <td>0</td>\n",
              "      <td>Китай</td>\n",
              "      <td>IntelCorei510400f</td>\n",
              "      <td>0</td>\n",
              "      <td>NO DATA</td>\n",
              "      <td>16</td>\n",
              "      <td>0.0</td>\n",
              "      <td>0.25</td>\n",
              "      <td>0.0</td>\n",
              "      <td>0.0</td>\n",
              "    </tr>\n",
              "    <tr>\n",
              "      <th>1</th>\n",
              "      <td>19347937</td>\n",
              "      <td>Офисный Компьютер Robotcomp Казначей V1</td>\n",
              "      <td>39237</td>\n",
              "      <td>11</td>\n",
              "      <td>1</td>\n",
              "      <td>Robotcomp</td>\n",
              "      <td>4.7</td>\n",
              "      <td>Integrated</td>\n",
              "      <td>windows пробная</td>\n",
              "      <td>1080</td>\n",
              "      <td>Россия</td>\n",
              "      <td>IntelCorei510400f</td>\n",
              "      <td>6</td>\n",
              "      <td>DDR4</td>\n",
              "      <td>8</td>\n",
              "      <td>0.0</td>\n",
              "      <td>0.50</td>\n",
              "      <td>94192.0</td>\n",
              "      <td>7.0</td>\n",
              "    </tr>\n",
              "    <tr>\n",
              "      <th>2</th>\n",
              "      <td>19348951</td>\n",
              "      <td>Игровой Компьютер Robotcomp М16 2.0 V1</td>\n",
              "      <td>76188</td>\n",
              "      <td>201</td>\n",
              "      <td>94</td>\n",
              "      <td>Robotcomp</td>\n",
              "      <td>4.7</td>\n",
              "      <td>nvidia geforce gtx 1660</td>\n",
              "      <td>windows пробная</td>\n",
              "      <td>1080</td>\n",
              "      <td>Россия</td>\n",
              "      <td>IntelCorei510400f</td>\n",
              "      <td>6</td>\n",
              "      <td>DDR4</td>\n",
              "      <td>16</td>\n",
              "      <td>0.0</td>\n",
              "      <td>1.00</td>\n",
              "      <td>39600.0</td>\n",
              "      <td>7.0</td>\n",
              "    </tr>\n",
              "    <tr>\n",
              "      <th>3</th>\n",
              "      <td>19355097</td>\n",
              "      <td>Игровой Компьютер Robotcomp M-16 V1</td>\n",
              "      <td>55625</td>\n",
              "      <td>41</td>\n",
              "      <td>12</td>\n",
              "      <td>Robotcomp</td>\n",
              "      <td>4.7</td>\n",
              "      <td>nvidia geforce gtx 1650</td>\n",
              "      <td>windows пробная</td>\n",
              "      <td>1080</td>\n",
              "      <td>Россия</td>\n",
              "      <td>IntelCorei510400f</td>\n",
              "      <td>6</td>\n",
              "      <td>DDR4</td>\n",
              "      <td>16</td>\n",
              "      <td>0.0</td>\n",
              "      <td>0.50</td>\n",
              "      <td>39600.0</td>\n",
              "      <td>7.0</td>\n",
              "    </tr>\n",
              "    <tr>\n",
              "      <th>4</th>\n",
              "      <td>19358744</td>\n",
              "      <td>Игровой Компьютер Robotcomp Анаконда 2.0 V1</td>\n",
              "      <td>128284</td>\n",
              "      <td>6</td>\n",
              "      <td>4</td>\n",
              "      <td>Robotcomp</td>\n",
              "      <td>4.7</td>\n",
              "      <td>nvidia geforce rtx 3070</td>\n",
              "      <td>windows пробная</td>\n",
              "      <td>1080</td>\n",
              "      <td>Россия</td>\n",
              "      <td>IntelCorei510400f</td>\n",
              "      <td>10</td>\n",
              "      <td>DDR4</td>\n",
              "      <td>16</td>\n",
              "      <td>0.0</td>\n",
              "      <td>1.00</td>\n",
              "      <td>43470.0</td>\n",
              "      <td>7.0</td>\n",
              "    </tr>\n",
              "  </tbody>\n",
              "</table>\n",
              "</div>\n",
              "      <button class=\"colab-df-convert\" onclick=\"convertToInteractive('df-fa4a2207-e600-48dc-b454-361388bdefdb')\"\n",
              "              title=\"Convert this dataframe to an interactive table.\"\n",
              "              style=\"display:none;\">\n",
              "        \n",
              "  <svg xmlns=\"http://www.w3.org/2000/svg\" height=\"24px\"viewBox=\"0 0 24 24\"\n",
              "       width=\"24px\">\n",
              "    <path d=\"M0 0h24v24H0V0z\" fill=\"none\"/>\n",
              "    <path d=\"M18.56 5.44l.94 2.06.94-2.06 2.06-.94-2.06-.94-.94-2.06-.94 2.06-2.06.94zm-11 1L8.5 8.5l.94-2.06 2.06-.94-2.06-.94L8.5 2.5l-.94 2.06-2.06.94zm10 10l.94 2.06.94-2.06 2.06-.94-2.06-.94-.94-2.06-.94 2.06-2.06.94z\"/><path d=\"M17.41 7.96l-1.37-1.37c-.4-.4-.92-.59-1.43-.59-.52 0-1.04.2-1.43.59L10.3 9.45l-7.72 7.72c-.78.78-.78 2.05 0 2.83L4 21.41c.39.39.9.59 1.41.59.51 0 1.02-.2 1.41-.59l7.78-7.78 2.81-2.81c.8-.78.8-2.07 0-2.86zM5.41 20L4 18.59l7.72-7.72 1.47 1.35L5.41 20z\"/>\n",
              "  </svg>\n",
              "      </button>\n",
              "      \n",
              "  <style>\n",
              "    .colab-df-container {\n",
              "      display:flex;\n",
              "      flex-wrap:wrap;\n",
              "      gap: 12px;\n",
              "    }\n",
              "\n",
              "    .colab-df-convert {\n",
              "      background-color: #E8F0FE;\n",
              "      border: none;\n",
              "      border-radius: 50%;\n",
              "      cursor: pointer;\n",
              "      display: none;\n",
              "      fill: #1967D2;\n",
              "      height: 32px;\n",
              "      padding: 0 0 0 0;\n",
              "      width: 32px;\n",
              "    }\n",
              "\n",
              "    .colab-df-convert:hover {\n",
              "      background-color: #E2EBFA;\n",
              "      box-shadow: 0px 1px 2px rgba(60, 64, 67, 0.3), 0px 1px 3px 1px rgba(60, 64, 67, 0.15);\n",
              "      fill: #174EA6;\n",
              "    }\n",
              "\n",
              "    [theme=dark] .colab-df-convert {\n",
              "      background-color: #3B4455;\n",
              "      fill: #D2E3FC;\n",
              "    }\n",
              "\n",
              "    [theme=dark] .colab-df-convert:hover {\n",
              "      background-color: #434B5C;\n",
              "      box-shadow: 0px 1px 3px 1px rgba(0, 0, 0, 0.15);\n",
              "      filter: drop-shadow(0px 1px 2px rgba(0, 0, 0, 0.3));\n",
              "      fill: #FFFFFF;\n",
              "    }\n",
              "  </style>\n",
              "\n",
              "      <script>\n",
              "        const buttonEl =\n",
              "          document.querySelector('#df-fa4a2207-e600-48dc-b454-361388bdefdb button.colab-df-convert');\n",
              "        buttonEl.style.display =\n",
              "          google.colab.kernel.accessAllowed ? 'block' : 'none';\n",
              "\n",
              "        async function convertToInteractive(key) {\n",
              "          const element = document.querySelector('#df-fa4a2207-e600-48dc-b454-361388bdefdb');\n",
              "          const dataTable =\n",
              "            await google.colab.kernel.invokeFunction('convertToInteractive',\n",
              "                                                     [key], {});\n",
              "          if (!dataTable) return;\n",
              "\n",
              "          const docLinkHtml = 'Like what you see? Visit the ' +\n",
              "            '<a target=\"_blank\" href=https://colab.research.google.com/notebooks/data_table.ipynb>data table notebook</a>'\n",
              "            + ' to learn more about interactive tables.';\n",
              "          element.innerHTML = '';\n",
              "          dataTable['output_type'] = 'display_data';\n",
              "          await google.colab.output.renderOutput(dataTable, element);\n",
              "          const docLink = document.createElement('div');\n",
              "          docLink.innerHTML = docLinkHtml;\n",
              "          element.appendChild(docLink);\n",
              "        }\n",
              "      </script>\n",
              "    </div>\n",
              "  </div>\n",
              "  "
            ]
          },
          "metadata": {},
          "execution_count": 6
        }
      ]
    },
    {
      "cell_type": "code",
      "source": [
        "last_after_last_clean.info()"
      ],
      "metadata": {
        "colab": {
          "base_uri": "https://localhost:8080/"
        },
        "id": "ck1zAuX4BIyO",
        "outputId": "880acb92-49ed-4a14-d739-518de3baa180"
      },
      "execution_count": 7,
      "outputs": [
        {
          "output_type": "stream",
          "name": "stdout",
          "text": [
            "<class 'pandas.core.frame.DataFrame'>\n",
            "RangeIndex: 3508 entries, 0 to 3507\n",
            "Data columns (total 19 columns):\n",
            " #   Column                Non-Null Count  Dtype  \n",
            "---  ------                --------------  -----  \n",
            " 0   product_id            3508 non-null   int64  \n",
            " 1   title                 3508 non-null   object \n",
            " 2   price                 3508 non-null   int64  \n",
            " 3   sales                 3508 non-null   int64  \n",
            " 4   feedbacks             3508 non-null   int64  \n",
            " 5   seller                3508 non-null   object \n",
            " 6   seller_rating         3508 non-null   float64\n",
            " 7   Видеопроцессор        3508 non-null   object \n",
            " 8   Операционная система  3508 non-null   object \n",
            " 9   Гарантийный срок      3508 non-null   int64  \n",
            " 10  Страна производства   3508 non-null   object \n",
            " 11  имя процессора        3508 non-null   object \n",
            " 12  количество ядер       3508 non-null   object \n",
            " 13  поколение ОП          3508 non-null   object \n",
            " 14  объём ОП              3508 non-null   object \n",
            " 15  HDD                   3508 non-null   float64\n",
            " 16  SSD                   3508 non-null   float64\n",
            " 17  Объём кв.см           3093 non-null   float64\n",
            " 18  вес кг.               3093 non-null   float64\n",
            "dtypes: float64(5), int64(5), object(9)\n",
            "memory usage: 520.8+ KB\n"
          ]
        }
      ]
    },
    {
      "cell_type": "markdown",
      "source": [
        "Категориальные\n",
        "1.   seller\n",
        "2.   seller_rating\n",
        "3.  Видеопроцессор\n",
        "4. Операционная система\n",
        "5. Страна производства\n",
        "6. имя процессора\n",
        "7. количество ядер\n",
        "8. поколение ОП\n",
        "9. объём ОП\n",
        "10.  HDD\n",
        "11.  SSD\n",
        "\n",
        "<br>\n",
        "Количественные\n",
        "\n",
        "1.   price\n",
        "2.   sales\n",
        "3. feedbacks\n",
        "4. Объём кв.см\n",
        "5. вес кг.\n",
        "6. Гарантийный срок\n",
        "\n",
        "\n",
        "\n",
        "\n",
        "\n",
        "\n"
      ],
      "metadata": {
        "id": "09GE396dBqrp"
      }
    },
    {
      "cell_type": "code",
      "source": [
        "ds = last_after_last_clean.copy()"
      ],
      "metadata": {
        "id": "LYIs1DHFDT-h"
      },
      "execution_count": 200,
      "outputs": []
    },
    {
      "cell_type": "code",
      "source": [
        "# исследуем 2 ключевых показателя\n",
        "ds['price'].describe()"
      ],
      "metadata": {
        "colab": {
          "base_uri": "https://localhost:8080/"
        },
        "id": "qos-udr2DJH_",
        "outputId": "c68e61b4-b4de-4524-f6e1-4c0ae9b595ee"
      },
      "execution_count": 201,
      "outputs": [
        {
          "output_type": "execute_result",
          "data": {
            "text/plain": [
              "count      3508.000000\n",
              "mean      66987.277081\n",
              "std       32370.907489\n",
              "min       10805.000000\n",
              "25%       39572.500000\n",
              "50%       66112.500000\n",
              "75%       83638.000000\n",
              "max      235900.000000\n",
              "Name: price, dtype: float64"
            ]
          },
          "metadata": {},
          "execution_count": 201
        }
      ]
    },
    {
      "cell_type": "code",
      "source": [
        "ds['price'].mode()"
      ],
      "metadata": {
        "colab": {
          "base_uri": "https://localhost:8080/"
        },
        "id": "0w0Jo_4lFGcp",
        "outputId": "72a00cc9-c1c6-436c-aa2f-4f9b0e8b307d"
      },
      "execution_count": 202,
      "outputs": [
        {
          "output_type": "execute_result",
          "data": {
            "text/plain": [
              "0    65630\n",
              "Name: price, dtype: int64"
            ]
          },
          "metadata": {},
          "execution_count": 202
        }
      ]
    },
    {
      "cell_type": "markdown",
      "source": [
        "среднее значение практически равняется медиане и моде, что говорит нам о нормальном распределении. Проверим это в графическом анализе.\n",
        "Размах стоимости большой (более 200тыс, при отклонении в 32370), но это логично, с учетом того, что в датасете есть как и офисные затычки, так и нафаршированные игровые машины."
      ],
      "metadata": {
        "id": "ofMyPUneGKV8"
      }
    },
    {
      "cell_type": "code",
      "source": [
        "ds['sales'].describe()\n",
        "# слишком много 0ых значений, избавимся от них для получения более точных данных"
      ],
      "metadata": {
        "colab": {
          "base_uri": "https://localhost:8080/"
        },
        "id": "36boFxhLDd7p",
        "outputId": "93a53072-aa6e-439d-e7d2-805bc8981295"
      },
      "execution_count": 203,
      "outputs": [
        {
          "output_type": "execute_result",
          "data": {
            "text/plain": [
              "count    3508.000000\n",
              "mean        4.214082\n",
              "std        30.171566\n",
              "min         0.000000\n",
              "25%         0.000000\n",
              "50%         0.000000\n",
              "75%         0.000000\n",
              "max       801.000000\n",
              "Name: sales, dtype: float64"
            ]
          },
          "metadata": {},
          "execution_count": 203
        }
      ]
    },
    {
      "cell_type": "code",
      "source": [
        "ds[ds['sales']!=0.0]['sales'].describe()"
      ],
      "metadata": {
        "colab": {
          "base_uri": "https://localhost:8080/"
        },
        "id": "JoUNkSbjHM3K",
        "outputId": "13e8170f-0936-47ab-c32a-2da14690c0ab"
      },
      "execution_count": 204,
      "outputs": [
        {
          "output_type": "execute_result",
          "data": {
            "text/plain": [
              "count    846.000000\n",
              "mean      17.473995\n",
              "std       59.549422\n",
              "min        4.000000\n",
              "25%        4.000000\n",
              "50%        4.000000\n",
              "75%       11.000000\n",
              "max      801.000000\n",
              "Name: sales, dtype: float64"
            ]
          },
          "metadata": {},
          "execution_count": 204
        }
      ]
    },
    {
      "cell_type": "code",
      "source": [
        "ds[ds['sales']!=0.0]['sales'].mode()"
      ],
      "metadata": {
        "colab": {
          "base_uri": "https://localhost:8080/"
        },
        "id": "orUghzhJKE2N",
        "outputId": "c51d5cac-5a44-42ad-af84-fd596838ce32"
      },
      "execution_count": 205,
      "outputs": [
        {
          "output_type": "execute_result",
          "data": {
            "text/plain": [
              "0    4\n",
              "Name: sales, dtype: int64"
            ]
          },
          "metadata": {},
          "execution_count": 205
        }
      ]
    },
    {
      "cell_type": "code",
      "source": [
        "ds[ds['sales']!=0.0]['sales'].info()"
      ],
      "metadata": {
        "colab": {
          "base_uri": "https://localhost:8080/"
        },
        "id": "HaT4yMlWHrLp",
        "outputId": "28cc13f0-077e-4e33-844e-973fbb517445"
      },
      "execution_count": 206,
      "outputs": [
        {
          "output_type": "stream",
          "name": "stdout",
          "text": [
            "<class 'pandas.core.series.Series'>\n",
            "Int64Index: 846 entries, 1 to 3503\n",
            "Series name: sales\n",
            "Non-Null Count  Dtype\n",
            "--------------  -----\n",
            "846 non-null    int64\n",
            "dtypes: int64(1)\n",
            "memory usage: 13.2 KB\n"
          ]
        }
      ]
    },
    {
      "cell_type": "markdown",
      "source": [
        "846 - позиций с продажами, мы будем использовать их для определения наиболее популярных комплектующих для формирования топ 100. <br>\n",
        "\n",
        "Показатели описательной статистики говорят нам о том, что большенство представленных в датасете пк, продаются плохо(менее 5 штук), ну существует небольшое количество лидеров, о чем говорят высокое среднее, относителньо медианы и моды (17,47 против 4) и большой размах (797)."
      ],
      "metadata": {
        "id": "LkxghvOsFFn2"
      }
    },
    {
      "cell_type": "code",
      "source": [
        "plt.boxplot(ds['sales'])\n",
        "plt.show()"
      ],
      "metadata": {
        "colab": {
          "base_uri": "https://localhost:8080/",
          "height": 430
        },
        "id": "fY3ti4KcK57D",
        "outputId": "8525cfee-6e6f-4dcc-eb86-2484925175f9"
      },
      "execution_count": 207,
      "outputs": [
        {
          "output_type": "display_data",
          "data": {
            "text/plain": [
              "<Figure size 640x480 with 1 Axes>"
            ],
            "image/png": "[encoded data removed]"
          },
          "metadata": {}
        }
      ]
    },
    {
      "cell_type": "code",
      "source": [
        "plt.boxplot(ds[ds['sales'] > 11]['sales'])\n",
        "plt.show()\n"
      ],
      "metadata": {
        "colab": {
          "base_uri": "https://localhost:8080/",
          "height": 430
        },
        "id": "OYMwM-yZTkXd",
        "outputId": "d03de07a-e904-432a-cdc2-a82d8d9307b6"
      },
      "execution_count": 208,
      "outputs": [
        {
          "output_type": "display_data",
          "data": {
            "text/plain": [
              "<Figure size 640x480 with 1 Axes>"
            ],
            "image/png": "[encoded data removed]"
          },
          "metadata": {}
        }
      ]
    },
    {
      "cell_type": "code",
      "source": [
        "plt.boxplot(ds['price'])\n",
        "plt.show()\n"
      ],
      "metadata": {
        "colab": {
          "base_uri": "https://localhost:8080/",
          "height": 430
        },
        "id": "3m4HxqPJNg8m",
        "outputId": "4c4b2cca-c30a-4bf9-b3de-706243d4d229"
      },
      "execution_count": 209,
      "outputs": [
        {
          "output_type": "display_data",
          "data": {
            "text/plain": [
              "<Figure size 640x480 with 1 Axes>"
            ],
            "image/png": "[encoded data removed]"
          },
          "metadata": {}
        }
      ]
    },
    {
      "cell_type": "code",
      "source": [
        "plt.boxplot(ds[ds['sales'] > 11]['price'])\n",
        "plt.show()"
      ],
      "metadata": {
        "colab": {
          "base_uri": "https://localhost:8080/",
          "height": 435
        },
        "id": "BptPfgokTlDz",
        "outputId": "53e11522-19fb-47db-eb40-e1e8e02e3c0e"
      },
      "execution_count": 210,
      "outputs": [
        {
          "output_type": "display_data",
          "data": {
            "text/plain": [
              "<Figure size 640x480 with 1 Axes>"
            ],
            "image/png": "[encoded data removed]"
          },
          "metadata": {}
        }
      ]
    },
    {
      "cell_type": "code",
      "source": [
        "plt.hist(ds['price'],bins = 30)\n",
        "plt.show()"
      ],
      "metadata": {
        "colab": {
          "base_uri": "https://localhost:8080/",
          "height": 430
        },
        "id": "84KgU6MCNuv9",
        "outputId": "a77a8a6d-148f-4b91-e7c8-d5c173106995"
      },
      "execution_count": 211,
      "outputs": [
        {
          "output_type": "display_data",
          "data": {
            "text/plain": [
              "<Figure size 640x480 with 1 Axes>"
            ],
            "image/png": "[encoded data removed]"
          },
          "metadata": {}
        }
      ]
    },
    {
      "cell_type": "code",
      "source": [
        "counts, edges, bars = plt.hist(ds['price'],bins = 30)\n",
        "plt.bar_label(bars)\n",
        "plt.show()"
      ],
      "metadata": {
        "colab": {
          "base_uri": "https://localhost:8080/",
          "height": 430
        },
        "id": "2BK8d_dIN2P-",
        "outputId": "d486bccb-d590-41e1-f16f-5451a6ed061d"
      },
      "execution_count": 212,
      "outputs": [
        {
          "output_type": "display_data",
          "data": {
            "text/plain": [
              "<Figure size 640x480 with 1 Axes>"
            ],
            "image/png": "[encoded data removed]"
          },
          "metadata": {}
        }
      ]
    },
    {
      "cell_type": "code",
      "source": [
        "counts, edges, bars = plt.hist(ds[ds['sales'] > 11]['sales'])\n",
        "plt.bar_label(bars)\n",
        "plt.show()"
      ],
      "metadata": {
        "colab": {
          "base_uri": "https://localhost:8080/",
          "height": 430
        },
        "id": "2fnfuaAiOMat",
        "outputId": "7fb7e5d9-5e66-45df-9ab2-403644adc7d9"
      },
      "execution_count": 213,
      "outputs": [
        {
          "output_type": "display_data",
          "data": {
            "text/plain": [
              "<Figure size 640x480 with 1 Axes>"
            ],
            "image/png": "[encoded data removed]"
          },
          "metadata": {}
        }
      ]
    },
    {
      "cell_type": "code",
      "source": [
        "counts, edges, bars = plt.hist(ds[ds['sales'] > 0]['price'])\n",
        "plt.bar_label(bars)\n",
        "plt.show()"
      ],
      "metadata": {
        "colab": {
          "base_uri": "https://localhost:8080/",
          "height": 430
        },
        "id": "WXlPBPE4R4dc",
        "outputId": "3f8ab476-d45c-423b-f2ee-08f3dc8cc721"
      },
      "execution_count": 214,
      "outputs": [
        {
          "output_type": "display_data",
          "data": {
            "text/plain": [
              "<Figure size 640x480 with 1 Axes>"
            ],
            "image/png": "[encoded data removed]"
          },
          "metadata": {}
        }
      ]
    },
    {
      "cell_type": "markdown",
      "source": [
        "В результате графического анализа, гипотеза о том что признак цена имеен нормальное распределение не подтвердилась, нормального распределения нет, как и равномерного.\n",
        "\n",
        "\n",
        "В данном исследовании интерес представляют наблюдения из популярность которых позволяет добавить их в топ 100, а так же в результате неграфического исследования напршивается ввывод - интересны наблюдения выше 75%ля (по продажам)."
      ],
      "metadata": {
        "id": "3EBEyqFgRXp3"
      }
    },
    {
      "cell_type": "code",
      "source": [
        "top_sales = ds[ds['sales'] > 11]"
      ],
      "metadata": {
        "id": "_nhbo0dWXPTX"
      },
      "execution_count": 241,
      "outputs": []
    },
    {
      "cell_type": "code",
      "source": [
        "top_sales.shape\n",
        "#нам нужны 100 наблюдений"
      ],
      "metadata": {
        "colab": {
          "base_uri": "https://localhost:8080/"
        },
        "id": "F16Wb8YEXbTU",
        "outputId": "3e97b09c-b477-4f5c-86c5-9e1e589923de"
      },
      "execution_count": 216,
      "outputs": [
        {
          "output_type": "execute_result",
          "data": {
            "text/plain": [
              "(123, 19)"
            ]
          },
          "metadata": {},
          "execution_count": 216
        }
      ]
    },
    {
      "cell_type": "code",
      "source": [
        "top100 = top_sales.sort_values(['sales', 'price' ], ascending=False).iloc[:100]"
      ],
      "metadata": {
        "id": "4oHQNr7uXmDr"
      },
      "execution_count": 242,
      "outputs": []
    },
    {
      "cell_type": "code",
      "source": [
        "pd.set_option('display.max_colwidth', None)\n",
        "pd.set_option('display.max_rows', None)"
      ],
      "metadata": {
        "id": "-U0pO0_nYdl6"
      },
      "execution_count": 218,
      "outputs": []
    },
    {
      "cell_type": "markdown",
      "source": [
        "далее нужны списки самых популярных комплектующих, для того чтобы отделить то, что интересно(то, что продается) от всего остального."
      ],
      "metadata": {
        "id": "QGxky0ASGMB0"
      }
    },
    {
      "cell_type": "code",
      "source": [
        "top100.columns"
      ],
      "metadata": {
        "id": "kPuT6va4YOdr",
        "outputId": "bf234797-b815-4194-b87e-c06ae8842a42",
        "colab": {
          "base_uri": "https://localhost:8080/"
        }
      },
      "execution_count": 219,
      "outputs": [
        {
          "output_type": "execute_result",
          "data": {
            "text/plain": [
              "Index(['product_id', 'title', 'price', 'sales', 'feedbacks', 'seller',\n",
              "       'seller_rating', 'Видеопроцессор', 'Операционная система',\n",
              "       'Гарантийный срок', 'Страна производства', 'имя процессора',\n",
              "       'количество ядер', 'поколение ОП', 'объём ОП', 'HDD', 'SSD',\n",
              "       'Объём кв.см', 'вес кг.'],\n",
              "      dtype='object')"
            ]
          },
          "metadata": {},
          "execution_count": 219
        }
      ]
    },
    {
      "cell_type": "code",
      "source": [
        "list_grap = list(top100['Видеопроцессор'].unique())\n",
        "list_proc = list(top100['Процессор'].unique())\n",
        "list_oper = list(top100['объём ОП'].unique())\n",
        "list_hdd = list(top100['HDD'].unique())\n",
        "list_ssd = list(top100['SSD'].unique())\n"
      ],
      "metadata": {
        "id": "ZjrDFY5OMz1r"
      },
      "execution_count": 244,
      "outputs": []
    },
    {
      "cell_type": "code",
      "source": [
        "print(list_grap,list_proc, list_oper, list_hdd, list_ssd, sep='/n')"
      ],
      "metadata": {
        "id": "qnqIztlw2-wx",
        "outputId": "8c5606a8-46e0-4fe1-8100-5e7916c812d0",
        "colab": {
          "base_uri": "https://localhost:8080/"
        }
      },
      "execution_count": 245,
      "outputs": [
        {
          "output_type": "stream",
          "name": "stdout",
          "text": [
            "['Integrated', 'nvidia geforce gt 730', 'nvidia geforce gt 1030', 'nvidia geforce gtx 1660', 'nvidia geforce rtx 3060', 'nvidia geforce rtx 3050', 'nvidia geforce gtx 1650', 'nvidia geforce gtx 1630', 'nvidia geforce rtx 3080', 'nvidia geforce rtx 2060']/n['Intel Pentium', 'Intel i7', 'AMD Ryzen5', 'Intel i3', 'Intel i5', 'Intel Celeron', 'AMD Athlon', 'AMD A', 'Intel i9']/n[4, 16, 8, 32, 64]/n[0.0, 2.0, 1.0, 0.5]/n[0.125, 0.5, 0.25, 1.0, 0.0]\n"
          ]
        }
      ]
    },
    {
      "cell_type": "markdown",
      "source": [
        "Ради приличия неграфический анализ остальных количественных"
      ],
      "metadata": {
        "id": "Xi5YJiimgUUN"
      }
    },
    {
      "cell_type": "code",
      "source": [
        "for i in ['feedbacks','Объём кв.см','вес кг.','Гарантийный срок']:\n",
        "  print(ds[i].describe())\n",
        "  print('мода:',ds[i].mode())\n",
        "  counts, edges, bars = plt.hist(ds[i])\n",
        "  plt.bar_label(bars)\n",
        "  plt.show()"
      ],
      "metadata": {
        "id": "PLzFHJ3JgsvI",
        "outputId": "687572a1-8fd9-4266-8f2a-d1c4a422126f",
        "colab": {
          "base_uri": "https://localhost:8080/",
          "height": 1000
        }
      },
      "execution_count": 222,
      "outputs": [
        {
          "output_type": "stream",
          "name": "stdout",
          "text": [
            "count    3508.000000\n",
            "mean        2.672178\n",
            "std        16.798025\n",
            "min         0.000000\n",
            "25%         0.000000\n",
            "50%         0.000000\n",
            "75%         0.000000\n",
            "max       296.000000\n",
            "Name: feedbacks, dtype: float64\n",
            "мода: 0    0\n",
            "Name: feedbacks, dtype: int64\n"
          ]
        },
        {
          "output_type": "display_data",
          "data": {
            "text/plain": [
              "<Figure size 640x480 with 1 Axes>"
            ],
            "image/png": "[encoded data removed]"
          },
          "metadata": {}
        },
        {
          "output_type": "stream",
          "name": "stdout",
          "text": [
            "count    3.093000e+03\n",
            "mean     2.574350e+04\n",
            "std      4.856401e+05\n",
            "min      0.000000e+00\n",
            "25%      0.000000e+00\n",
            "50%      0.000000e+00\n",
            "75%      3.351600e+04\n",
            "max      2.700000e+07\n",
            "Name: Объём кв.см, dtype: float64\n",
            "мода: 0    0.0\n",
            "Name: Объём кв.см, dtype: float64\n"
          ]
        },
        {
          "output_type": "display_data",
          "data": {
            "text/plain": [
              "<Figure size 640x480 with 1 Axes>"
            ],
            "image/png": "[encoded data removed]"
          },
          "metadata": {}
        },
        {
          "output_type": "stream",
          "name": "stdout",
          "text": [
            "count    3093.000000\n",
            "mean        6.403353\n",
            "std         3.368255\n",
            "min         0.000000\n",
            "25%         5.000000\n",
            "50%         7.000000\n",
            "75%         9.000000\n",
            "max        20.000000\n",
            "Name: вес кг., dtype: float64\n",
            "мода: 0    7.0\n",
            "Name: вес кг., dtype: float64\n"
          ]
        },
        {
          "output_type": "display_data",
          "data": {
            "text/plain": [
              "<Figure size 640x480 with 1 Axes>"
            ],
            "image/png": "[encoded data removed]"
          },
          "metadata": {}
        },
        {
          "output_type": "stream",
          "name": "stdout",
          "text": [
            "count    3508.000000\n",
            "mean      493.947548\n",
            "std       473.980194\n",
            "min         0.000000\n",
            "25%         0.000000\n",
            "50%       360.000000\n",
            "75%      1080.000000\n",
            "max      1080.000000\n",
            "Name: Гарантийный срок, dtype: float64\n",
            "мода: 0    0\n",
            "Name: Гарантийный срок, dtype: int64\n"
          ]
        },
        {
          "output_type": "display_data",
          "data": {
            "text/plain": [
              "<Figure size 640x480 with 1 Axes>"
            ],
            "image/png": "[encoded data removed]"
          },
          "metadata": {}
        }
      ]
    },
    {
      "cell_type": "markdown",
      "source": [
        "Практически по всем показателям медиана и мода равна 0, это связанно с признаком \"продажи\", продублируем исследование для наблюдений с продажами."
      ],
      "metadata": {
        "id": "oaHEZwKAigLq"
      }
    },
    {
      "cell_type": "code",
      "source": [
        "for i in ['feedbacks','Объём кв.см','вес кг.','Гарантийный срок']:\n",
        "  print(ds[ds['sales'] > 0][i].describe())\n",
        "  print('мода:',ds[ds['sales'] > 0][i].mode())\n",
        "  counts, edges, bars = plt.hist(ds[ds['sales'] > 0][i])\n",
        "  plt.bar_label(bars)\n",
        "  plt.show()"
      ],
      "metadata": {
        "id": "ziGc1TafiwQd",
        "outputId": "de028061-ebb5-4a9c-b64c-01759cd3e353",
        "colab": {
          "base_uri": "https://localhost:8080/",
          "height": 1000
        }
      },
      "execution_count": 223,
      "outputs": [
        {
          "output_type": "stream",
          "name": "stdout",
          "text": [
            "count    846.000000\n",
            "mean      10.466903\n",
            "std       32.660719\n",
            "min        0.000000\n",
            "25%        0.000000\n",
            "50%        1.000000\n",
            "75%        4.000000\n",
            "max      296.000000\n",
            "Name: feedbacks, dtype: float64\n",
            "мода: 0    0\n",
            "Name: feedbacks, dtype: int64\n"
          ]
        },
        {
          "output_type": "display_data",
          "data": {
            "text/plain": [
              "<Figure size 640x480 with 1 Axes>"
            ],
            "image/png": "[encoded data removed]"
          },
          "metadata": {}
        },
        {
          "output_type": "stream",
          "name": "stdout",
          "text": [
            "count      695.000000\n",
            "mean     21544.843939\n",
            "std      20991.159109\n",
            "min          0.000000\n",
            "25%          0.000000\n",
            "50%      23520.000000\n",
            "75%      36000.000000\n",
            "max      94192.000000\n",
            "Name: Объём кв.см, dtype: float64\n",
            "мода: 0    0.0\n",
            "Name: Объём кв.см, dtype: float64\n"
          ]
        },
        {
          "output_type": "display_data",
          "data": {
            "text/plain": [
              "<Figure size 640x480 with 1 Axes>"
            ],
            "image/png": "[encoded data removed]"
          },
          "metadata": {}
        },
        {
          "output_type": "stream",
          "name": "stdout",
          "text": [
            "count    695.000000\n",
            "mean       6.126504\n",
            "std        3.003469\n",
            "min        0.000000\n",
            "25%        5.000000\n",
            "50%        7.000000\n",
            "75%        8.000000\n",
            "max       14.000000\n",
            "Name: вес кг., dtype: float64\n",
            "мода: 0    7.0\n",
            "Name: вес кг., dtype: float64\n"
          ]
        },
        {
          "output_type": "display_data",
          "data": {
            "text/plain": [
              "<Figure size 640x480 with 1 Axes>"
            ],
            "image/png": "[encoded data removed]"
          },
          "metadata": {}
        },
        {
          "output_type": "stream",
          "name": "stdout",
          "text": [
            "count     846.000000\n",
            "mean      757.340426\n",
            "std       422.924330\n",
            "min         0.000000\n",
            "25%       360.000000\n",
            "50%      1080.000000\n",
            "75%      1080.000000\n",
            "max      1080.000000\n",
            "Name: Гарантийный срок, dtype: float64\n",
            "мода: 0    1080\n",
            "Name: Гарантийный срок, dtype: int64\n"
          ]
        },
        {
          "output_type": "display_data",
          "data": {
            "text/plain": [
              "<Figure size 640x480 with 1 Axes>"
            ],
            "image/png": "[encoded data removed]"
          },
          "metadata": {}
        }
      ]
    },
    {
      "cell_type": "markdown",
      "source": [
        "Так данных немного больше: половина товаров с продажами имеет не более 1го отзыва. Размер товара указывают есть чем в не более 75% наблюдений, там где он указан, он не превышает 0.094 кв.м. С весом ситуация немного лучше, наиболее частостный показатель 7кг, он равен медиане, средний приближается к нему(6.1) отклонения в среднем связаны в перую очередь с наблюдениями где вес не указан (0кг). Самая популярная гарантия у продаваемых товаров - 3 года.\n",
        "Исходя из исследований выше, можно сделать первоначальный вывод: товар с данными заполненными характеристиками продается лучше."
      ],
      "metadata": {
        "id": "yil5e_y3kMMO"
      }
    },
    {
      "cell_type": "code",
      "source": [
        "top100.columns"
      ],
      "metadata": {
        "id": "1N6lwrudmxoA",
        "outputId": "cd59109f-c42e-4065-b38a-a55849320e3d",
        "colab": {
          "base_uri": "https://localhost:8080/"
        }
      },
      "execution_count": 224,
      "outputs": [
        {
          "output_type": "execute_result",
          "data": {
            "text/plain": [
              "Index(['product_id', 'title', 'price', 'sales', 'feedbacks', 'seller',\n",
              "       'seller_rating', 'Видеопроцессор', 'Операционная система',\n",
              "       'Гарантийный срок', 'Страна производства', 'имя процессора',\n",
              "       'количество ядер', 'поколение ОП', 'объём ОП', 'HDD', 'SSD',\n",
              "       'Объём кв.см', 'вес кг.'],\n",
              "      dtype='object')"
            ]
          },
          "metadata": {},
          "execution_count": 224
        }
      ]
    },
    {
      "cell_type": "markdown",
      "source": [
        "**Анализ категориальных**"
      ],
      "metadata": {
        "id": "oyvbGiumnAGp"
      }
    },
    {
      "cell_type": "code",
      "source": [
        "print(ds['имя процессора'].unique(), len(ds['имя процессора'].unique()))"
      ],
      "metadata": {
        "id": "1JCF56pyvWFm",
        "outputId": "c949e056-186b-4ca9-e585-2bf4b9c8136a",
        "colab": {
          "base_uri": "https://localhost:8080/"
        }
      },
      "execution_count": 225,
      "outputs": [
        {
          "output_type": "stream",
          "name": "stdout",
          "text": [
            "['IntelCorei510400f' 'IntelCorei3' 'AMDRyzen5' 'AMDAthlon' 'IntelCorei7'\n",
            " 'IntelCorei9' 'AMDRyzen3' 'GeminiLakeRefreshJ4115' 'IntelCore12400F'\n",
            " 'IntelPentium' 'Intelcore12400F' 'IntelXeon' 'AMDE16010' 'AMDRyzen7'\n",
            " '12400f' 'AMDA69500E' '8' 'Intel4' 'AMDA129800E' 'AMDRYZEN4600gVega7'\n",
            " 'IntelN5105' 'IntelCeleron3' 'AMDRyzen6' 'AMDRyzen9' 'A105800KRAM'\n",
            " 'AMDFX4300' 'AMDFX6100' 'IntlQuadQ9400' 'IntlQuad9400' 'IntelE5'\n",
            " 'IntelCoreQuad9400' 'IntelE3' 'AMDRadeonRX570' 'Q9400' 'Ryzen31300x'\n",
            " 'intelcorei310100f' 'intelcorei510400f' 'AMD55600x' 'AMD54650' 'A89600'\n",
            " 'AMDB450' 'I36100T2Core3' 'AMDB350' 'Dexpi32120' 'Dexpi54670' 'i7'\n",
            " 'Xeon5430' 'IntelCore2' 'PhenomIIX6' 'on' 'Xen' 'AthlonII4' 'intel4'\n",
            " '1020' 'Ryzen3200G' 'I73770'] 56\n"
          ]
        }
      ]
    },
    {
      "cell_type": "code",
      "source": [
        "def big_love(x):\n",
        "  if x == '8':\n",
        "    return 'Intel E5-2420V2'\n",
        "  if x =='1020' :\n",
        "    return 'Intel xeon e5 2670'\n",
        "  if x == 'Q9400':\n",
        "    return 'IntlQuadQ9400'\n",
        "  if x == 'i7':\n",
        "    return 'IntelCorei7'\n",
        "  if x == 'on' or x == 'Xen':\n",
        "    return 'IntelXeon'\n",
        "  return x"
      ],
      "metadata": {
        "id": "zoHZZhihzcbZ"
      },
      "execution_count": 226,
      "outputs": []
    },
    {
      "cell_type": "code",
      "source": [
        "ds['имя процессора'] = ds['имя процессора'].apply(big_love)"
      ],
      "metadata": {
        "id": "Zg9BmX3U0QL9"
      },
      "execution_count": 227,
      "outputs": []
    },
    {
      "cell_type": "markdown",
      "source": [
        "процессоры мне не дают покоя ничего не могу с собой поделать, уже 13 функция на них. попробую разделить их по поколениям"
      ],
      "metadata": {
        "id": "1s5qkXv_3seR"
      }
    },
    {
      "cell_type": "code",
      "source": [
        "def very_big_love(x):\n",
        "  x = x.lower()\n",
        "  if 'i5' in x or '12400' in x:\n",
        "    return 'Intel i5'\n",
        "  if 'i3' in x:\n",
        "    return 'Intel i3'\n",
        "  if 'i7' in x:\n",
        "    return 'Intel i7'\n",
        "  if 'i9' in x:\n",
        "    return 'Intel i9'\n",
        "  if 'emini' in x or 'cel' in x or '5105' in x:\n",
        "    return 'Intel Celeron'\n",
        "  if 'eon' in x or '2420' in x or '2670' in x or 'e5' in x or 'e3' in x:\n",
        "    return 'Intel Xeon'\n",
        "  if '9400' in x or 'ore2' in x or  'ore 2' in x:\n",
        "    return 'Intel Core 2'\n",
        "  if 'lpent' in x or 'l4' in x:\n",
        "    return 'Intel Pentium'\n",
        "  if 'zen'  in x or '4650' in x or '5600' in x:\n",
        "    if 'vega7' in x or '4650' in x or '5600' in x or 'en6' in x:\n",
        "      return 'AMD Ryzen5'\n",
        "    for i in ['3','5','7','9']:\n",
        "      if i in x:\n",
        "        return f'AMD Ryzen{i}'\n",
        "  if 'amde' in x :\n",
        "    return 'AMD E'\n",
        "  if 'ath' in x :\n",
        "    return 'AMD Athlon'\n",
        "  if 'amda' in x or 'kram' in x or '9600' in x:\n",
        "    return 'AMD A'\n",
        "  if 'amdf' in x :\n",
        "    return 'AMD F'\n",
        "  if 'amdb' in x :\n",
        "    return 'AMD B'\n",
        "  return x"
      ],
      "metadata": {
        "id": "qPpG_12W31hu"
      },
      "execution_count": 238,
      "outputs": []
    },
    {
      "cell_type": "markdown",
      "source": [
        "Проверить наличие данных можно на сайте ВБ, если данные указанны в других полях карты можно заполнить недостающие/неправильные значения."
      ],
      "metadata": {
        "id": "8WMDUNEOrdmA"
      }
    },
    {
      "cell_type": "code",
      "source": [
        "ds['Процессор'] = ds['имя процессора'].apply(very_big_love)"
      ],
      "metadata": {
        "id": "TtB6lS4h7_VS"
      },
      "execution_count": 239,
      "outputs": []
    },
    {
      "cell_type": "code",
      "source": [
        "print(ds['Процессор'].unique(), len(ds['Процессор'].unique()))"
      ],
      "metadata": {
        "id": "3gU922Tx_acs",
        "outputId": "4ca56341-a751-4c6e-ce10-ddfa474e288e",
        "colab": {
          "base_uri": "https://localhost:8080/"
        }
      },
      "execution_count": 240,
      "outputs": [
        {
          "output_type": "stream",
          "name": "stdout",
          "text": [
            "['Intel i5' 'Intel i3' 'AMD Ryzen5' 'AMD Athlon' 'Intel i7' 'Intel i9'\n",
            " 'AMD Ryzen3' 'Intel Celeron' 'Intel Pentium' 'Intel Xeon' 'AMD E'\n",
            " 'AMD Ryzen7' 'AMD A' 'AMD Ryzen9' 'AMD F' 'Intel Core 2' 'AMD B'\n",
            " 'phenomiix6'] 18\n"
          ]
        }
      ]
    },
    {
      "cell_type": "code",
      "source": [
        "for i in list(set(top100.columns) - {'price','sales','feedbacks','Объём кв.см','вес кг.','Гарантийный срок','product_id','title'}):\n",
        "  print(ds[i].unique(), len(ds[i].unique()))\n"
      ],
      "metadata": {
        "id": "SBrk_9wrmzIY",
        "outputId": "187ec2c1-3bfb-4f3e-a42a-ea9a70ba7ce8",
        "colab": {
          "base_uri": "https://localhost:8080/"
        }
      },
      "execution_count": 231,
      "outputs": [
        {
          "output_type": "stream",
          "name": "stdout",
          "text": [
            "['Intel i5' 'Intel i3' 'amdryzen5' 'amdathlon' 'Intel i7' 'Intel i9'\n",
            " 'amdryzen3' 'Intel Celeron' 'intelpentium' 'Intel Xeon' 'amde16010'\n",
            " 'amdryzen7' 'amda69500e' 'intel4' 'amda129800e' 'amdryzen4600gvega7'\n",
            " 'amdryzen6' 'amdryzen9' 'a105800kram' 'amdfx4300' 'amdfx6100'\n",
            " 'Intel Core 2' 'ryzen31300x' 'amd55600x' 'amd54650' 'a89600' 'amdb450'\n",
            " 'amdb350' 'phenomiix6' 'athlonii4' 'ryzen3200g'] 31\n",
            "[0 'Robotcomp' 'Market-77.ru' 'Roo24.ru' 'Кравец А. С.' 'TERABYTE'\n",
            " 'Позитроника' 'Компьютерс' 'ABS-TECHNO.RU' 'ЗЕОН' 'MERKA' 'Buchok'\n",
            " 'XEON STORE' '4T-Computer Store' 'АйТи-Изи' 'IT-Lavka' 'D-Tora'\n",
            " 'FREERIDE' 'Кастом ПК' 'OptSale' 'KSKSHOP' 'ЖЕЛЕЗНЫЙ ДВОРИК' 'Континент'\n",
            " 'Control PC' 'ПК Каморка' 'СервисКомп+' 'ALFA-SYSTEM' 'ZEON' 'XDOT PC'\n",
            " 'Соловьёв Дмитрий Русланович' 'COMPDAY.RU'\n",
            " 'Магазин одежды и товаров для дома' 'I-GAMEZ КОМПЬЮТЕРЫ' 'System Point'\n",
            " '\"XFinity Store\"' 'Тимошенко М.В,' 'Мастерская Д.К. Попова' 'АРМК'\n",
            " 'Москомпьютер' 'Bagma technology' 'REAL-PC' 'Царь-ПК' 'M-Bit'\n",
            " 'megamarket' 'KING KOMP' 'SevenGroup' 'IT-Bro' 'Personal PC'\n",
            " 'Chip computers' 'Кравец С. П.' 'Гудилина И. А.' 'Бесшумный Компьютер'\n",
            " 'FLAMEFOX' 'Товары для дома' 'Курбацкий' 'ПКР' 'Мингалёв'] 57\n",
            "['Китай' 'Россия' 'Тайвань' 'Беларусь'] 4\n",
            "[0.25   0.5    1.     2.     0.125  0.     0.0625] 7\n",
            "[0 'windows пробная' 'Windows 10 Pro' 'Windows 10 Home' 'Windows 10'\n",
            " 'Free DOS' 'Windows 11' 'Windows 11 Pro (Trial)'\n",
            " 'Windows 10 Home пробная' 'Windows пробная версия' 'Windows 11 Home'\n",
            " 'windows 10 trial' 'Windows 10 пробная' 'Microsoft Windows 11' 'Windows'\n",
            " 'Window 10 Pro trial' 'Windows 11 Pro' 'DOS'\n",
            " 'Windows 10 Pro; Office 2016 Home and Business' 'Widows 11 Pro'\n",
            " 'WINDOWS 10' 'WINDOWS 11' 'windows 10' 'Windows 10 Pro Trial' 'Без OC'\n",
            " 'Windows 10 pro' 'windows 11'] 27\n",
            "[0.  4.7 4.3 4.1 4.2 4.4 4.5 5.  3.7 4.6 1.5 3.5 4.9 3.3 4.8 4.  3.  3.9] 18\n",
            "['NO DATA' 'DDR4' 'DDR3' 'DDR5'] 4\n",
            "[16 8 32 6 4 64 'NO DATA' 12] 8\n",
            "['Integrated' 'nvidia geforce gtx 1660' 'nvidia geforce gtx 1650'\n",
            " 'nvidia geforce rtx 3070' 'nvidia geforce rtx 3050'\n",
            " 'nvidia geforce rtx 3080' 'nvidia geforce rtx 3060'\n",
            " 'nvidia geforce gt 1030' 'nvidia geforce gt 730' 'amd radeon rx 580'\n",
            " 'nvidia geforce gtx 1050' 'nvidia geforce gt 740'\n",
            " 'nvidia geforce rtx 2060' 'nvidia geforce gtx 1630' 'amd radeon rx 550'\n",
            " 'amd radeon rx 6500' 'amd radeon rx 6600' 'nvidia geforce rtx 4080'\n",
            " 'amd radeon rx 470' 'amd radeon rx 460' 'nvidia afox geforce g210'\n",
            " 'amd radeon radeon r7 350' 'nvidia geforce rtx 1660'\n",
            " 'nvidia geforce gtx 650' 'nvidia geforce rtx 4070'\n",
            " 'nvidia geforce rtx 1060' 'nvidia geforce gt 610'\n",
            " 'nvidia geforce gtx 1060' 'amd radeon rx 570' 'nvidia geforce gtx 550'\n",
            " 'nvidia geforce gtx 750' 'nvidia geforce gtx 950' 'amd radeon rx 560'\n",
            " 'amd radeon rx 6700' 'nvidia geforce gtx 970'] 35\n",
            "[0.    1.    2.    0.5   4.    0.25  0.125] 7\n",
            "[0 '6' '10' '4' '2' '12' '16' '8' '2 ядра' '6 ядер' '4 ядра' '8 ядер' '14'\n",
            " '20' '24 ядра'] 15\n"
          ]
        }
      ]
    },
    {
      "cell_type": "markdown",
      "source": [
        "необходимо избавится от огрехов чистки."
      ],
      "metadata": {
        "id": "NUR7wpMppbur"
      }
    }
  ]
}